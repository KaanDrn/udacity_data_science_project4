{
 "cells": [
  {
   "cell_type": "markdown",
   "metadata": {
    "pycharm": {
     "name": "#%% md\n"
    }
   },
   "source": [
    "# Capstone Project: Create a Customer Segmentation Report for Arvato Financial Services\n",
    "\n",
    "In this project, you will analyze demographics data for customers of a mail-order sales company in Germany, comparing it against demographics information for the general population. You'll use unsupervised learning techniques to perform customer segmentation, identifying the parts of the population that best describe the core customer base of the company. Then, you'll apply what you've learned on a third dataset with demographics information for targets of a marketing campaign for the company, and use a model to predict which individuals are most likely to convert into becoming customers for the company. The data that you will use has been provided by our partners at Bertelsmann Arvato Analytics, and represents a real-life data science task.\n",
    "\n",
    "The versions of those two datasets used in this project will include many more features and has not been pre-cleaned. You are also free to choose whatever approach you'd like to analyzing the data rather than follow pre-determined steps. In your work on this project, make sure that you carefully document your steps and decisions, since your main deliverable for this project will be a blog post reporting your findings."
   ]
  },
  {
   "cell_type": "code",
   "execution_count": 1,
   "metadata": {
    "pycharm": {
     "name": "#%%\n"
    }
   },
   "outputs": [],
   "source": [
    "import matplotlib.pyplot as plt\n",
    "# import libraries here; add more as necessary\n",
    "import numpy as np\n",
    "import pandas as pd\n",
    "from sklearn.pipeline import Pipeline\n",
    "from sklearn.preprocessing import StandardScaler\n",
    "from sklearn.model_selection import GridSearchCV\n",
    "from sklearn.metrics import confusion_matrix\n",
    "\n",
    "# magic word for producing visualizations in notebook\n",
    "%matplotlib inline"
   ]
  },
  {
   "cell_type": "markdown",
   "metadata": {
    "pycharm": {
     "name": "#%% md\n"
    }
   },
   "source": [
    "## Part 0: Get to Know the Data\n",
    "\n",
    "There are four data files associated with this project:\n",
    "\n",
    "- `Udacity_AZDIAS_052018.csv`: Demographics data for the general population of Germany; 891 211 persons (rows) x 366 features (columns).\n",
    "- `Udacity_CUSTOMERS_052018.csv`: Demographics data for customers of a mail-order company; 191 652 persons (rows) x 369 features (columns).\n",
    "- `Udacity_MAILOUT_052018_TRAIN.csv`: Demographics data for individuals who were targets of a marketing campaign; 42 982 persons (rows) x 367 (columns).\n",
    "- `Udacity_MAILOUT_052018_TEST.csv`: Demographics data for individuals who were targets of a marketing campaign; 42 833 persons (rows) x 366 (columns).\n",
    "\n",
    "Each row of the demographics files represents a single person, but also includes information outside of individuals, including information about their household, building, and neighborhood. Use the information from the first two files to figure out how customers (\"CUSTOMERS\") are similar to or differ from the general population at large (\"AZDIAS\"), then use your analysis to make predictions on the other two files (\"MAILOUT\"), predicting which recipients are most likely to become a customer for the mail-order company.\n",
    "\n",
    "The \"CUSTOMERS\" file contains three extra columns ('CUSTOMER_GROUP', 'ONLINE_PURCHASE', and 'PRODUCT_GROUP'), which provide broad information about the customers depicted in the file. The original \"MAILOUT\" file included one additional column, \"RESPONSE\", which indicated whether or not each recipient became a customer of the company. For the \"TRAIN\" subset, this column has been retained, but in the \"TEST\" subset it has been removed; it is against that withheld column that your final predictions will be assessed in the Kaggle competition.\n",
    "\n",
    "Otherwise, all of the remaining columns are the same between the three data files. For more information about the columns depicted in the files, you can refer to two Excel spreadsheets provided in the workspace. [One of them](./DIAS Information Levels - Attributes 2017.xlsx) is a top-level list of attributes and descriptions, organized by informational category. [The other](./DIAS Attributes - Values 2017.xlsx) is a detailed mapping of data values for each feature in alphabetical order.\n",
    "\n",
    "In the below cell, we've provided some initial code to load in the first two datasets. Note for all of the `.csv` data files in this project that they're semicolon (`;`) delimited, so an additional argument in the [`read_csv()`](https://pandas.pydata.org/pandas-docs/stable/generated/pandas.read_csv.html) call has been included to read in the data properly. Also, considering the size of the datasets, it may take some time for them to load completely.\n",
    "\n",
    "You'll notice when the data is loaded in that a warning message will immediately pop up. Before you really start digging into the modeling and analysis, you're going to need to perform some cleaning. Take some time to browse the structure of the data and look over the informational spreadsheets to understand the data values. Make some decisions on which features to keep, which features to drop, and if any revisions need to be made on data formats. It'll be a good idea to create a function with pre-processing steps, since you'll need to clean all of the datasets before you work with them."
   ]
  },
  {
   "cell_type": "markdown",
   "source": [
    "### Load Data"
   ],
   "metadata": {
    "collapsed": false,
    "pycharm": {
     "name": "#%% md\n"
    }
   }
  },
  {
   "cell_type": "code",
   "execution_count": 2,
   "metadata": {
    "pycharm": {
     "name": "#%%\n"
    }
   },
   "outputs": [
    {
     "name": "stderr",
     "output_type": "stream",
     "text": [
      "C:\\Users\\K35400\\AppData\\Local\\Temp\\ipykernel_28308\\1216095799.py:2: DtypeWarning: Columns (18,19) have mixed types. Specify dtype option on import or set low_memory=False.\n",
      "  azdias = pd.read_csv('data/Udacity_AZDIAS_052018.csv', sep=';')\n",
      "C:\\Users\\K35400\\AppData\\Local\\Temp\\ipykernel_28308\\1216095799.py:3: DtypeWarning: Columns (18,19) have mixed types. Specify dtype option on import or set low_memory=False.\n",
      "  customers = pd.read_csv('data/Udacity_CUSTOMERS_052018.csv', sep=';')\n"
     ]
    }
   ],
   "source": [
    "# load in the data\n",
    "azdias = pd.read_csv('data/Udacity_AZDIAS_052018.csv', sep=';')\n",
    "customers = pd.read_csv('data/Udacity_CUSTOMERS_052018.csv', sep=';')"
   ]
  },
  {
   "cell_type": "markdown",
   "source": [
    "#### Data Exploration\n",
    "Befor we start working with the data, we should try to get an overview of the data. As mentioned, the datsets have almost identical columns, therefore we are exploring only one dataset and clean every dataset afterwards according to our findings in the `azdias` dataset.\n",
    "\n",
    "#### Describing the Data"
   ],
   "metadata": {
    "collapsed": false,
    "pycharm": {
     "name": "#%% md\n"
    }
   }
  },
  {
   "cell_type": "code",
   "execution_count": 3,
   "outputs": [
    {
     "data": {
      "text/plain": "                LNR       AGER_TYP     AKT_DAT_KL       ALTER_HH  \\\ncount  8.912210e+05  891221.000000  817722.000000  817722.000000   \nmean   6.372630e+05      -0.358435       4.421928      10.864126   \nstd    2.572735e+05       1.198724       3.638805       7.639683   \nmin    1.916530e+05      -1.000000       1.000000       0.000000   \n25%    4.144580e+05      -1.000000       1.000000       0.000000   \n50%    6.372630e+05      -1.000000       3.000000      13.000000   \n75%    8.600680e+05      -1.000000       9.000000      17.000000   \nmax    1.082873e+06       3.000000       9.000000      21.000000   \n\n        ALTER_KIND1   ALTER_KIND2  ALTER_KIND3  ALTER_KIND4  \\\ncount  81058.000000  29499.000000  6170.000000  1205.000000   \nmean      11.745392     13.402658    14.476013    15.089627   \nstd        4.097660      3.243300     2.712427     2.452932   \nmin        2.000000      2.000000     4.000000     7.000000   \n25%        8.000000     11.000000    13.000000    14.000000   \n50%       12.000000     14.000000    15.000000    15.000000   \n75%       15.000000     16.000000    17.000000    17.000000   \nmax       18.000000     18.000000    18.000000    18.000000   \n\n       ALTERSKATEGORIE_FEIN  ANZ_HAUSHALTE_AKTIV  ...            VHN  \\\ncount         628274.000000        798073.000000  ...  770025.000000   \nmean              13.700717             8.287263  ...       2.417322   \nstd                5.079849            15.628087  ...       1.166572   \nmin                0.000000             0.000000  ...       0.000000   \n25%               11.000000             1.000000  ...       2.000000   \n50%               14.000000             4.000000  ...       2.000000   \n75%               17.000000             9.000000  ...       3.000000   \nmax               25.000000           595.000000  ...       4.000000   \n\n            VK_DHT4A     VK_DISTANZ        VK_ZG11  W_KEIT_KIND_HH  \\\ncount  815304.000000  815304.000000  815304.000000   783619.000000   \nmean        6.001214       7.532130       5.945972        3.933406   \nstd         2.856091       3.247789       2.771464        1.964701   \nmin         1.000000       1.000000       1.000000        0.000000   \n25%         3.000000       5.000000       4.000000        2.000000   \n50%         6.000000       8.000000       6.000000        4.000000   \n75%         9.000000      10.000000       8.000000        6.000000   \nmax        11.000000      13.000000      11.000000        6.000000   \n\n       WOHNDAUER_2008       WOHNLAGE       ZABEOTYP      ANREDE_KZ  \\\ncount   817722.000000  798073.000000  891221.000000  891221.000000   \nmean         7.908791       4.052836       3.362438       1.522098   \nstd          1.923137       1.949539       1.352704       0.499512   \nmin          1.000000       0.000000       1.000000       1.000000   \n25%          8.000000       3.000000       3.000000       1.000000   \n50%          9.000000       3.000000       3.000000       2.000000   \n75%          9.000000       5.000000       4.000000       2.000000   \nmax          9.000000       8.000000       6.000000       2.000000   \n\n       ALTERSKATEGORIE_GROB  \ncount         891221.000000  \nmean               2.777398  \nstd                1.068775  \nmin                1.000000  \n25%                2.000000  \n50%                3.000000  \n75%                4.000000  \nmax                9.000000  \n\n[8 rows x 360 columns]",
      "text/html": "<div>\n<style scoped>\n    .dataframe tbody tr th:only-of-type {\n        vertical-align: middle;\n    }\n\n    .dataframe tbody tr th {\n        vertical-align: top;\n    }\n\n    .dataframe thead th {\n        text-align: right;\n    }\n</style>\n<table border=\"1\" class=\"dataframe\">\n  <thead>\n    <tr style=\"text-align: right;\">\n      <th></th>\n      <th>LNR</th>\n      <th>AGER_TYP</th>\n      <th>AKT_DAT_KL</th>\n      <th>ALTER_HH</th>\n      <th>ALTER_KIND1</th>\n      <th>ALTER_KIND2</th>\n      <th>ALTER_KIND3</th>\n      <th>ALTER_KIND4</th>\n      <th>ALTERSKATEGORIE_FEIN</th>\n      <th>ANZ_HAUSHALTE_AKTIV</th>\n      <th>...</th>\n      <th>VHN</th>\n      <th>VK_DHT4A</th>\n      <th>VK_DISTANZ</th>\n      <th>VK_ZG11</th>\n      <th>W_KEIT_KIND_HH</th>\n      <th>WOHNDAUER_2008</th>\n      <th>WOHNLAGE</th>\n      <th>ZABEOTYP</th>\n      <th>ANREDE_KZ</th>\n      <th>ALTERSKATEGORIE_GROB</th>\n    </tr>\n  </thead>\n  <tbody>\n    <tr>\n      <th>count</th>\n      <td>8.912210e+05</td>\n      <td>891221.000000</td>\n      <td>817722.000000</td>\n      <td>817722.000000</td>\n      <td>81058.000000</td>\n      <td>29499.000000</td>\n      <td>6170.000000</td>\n      <td>1205.000000</td>\n      <td>628274.000000</td>\n      <td>798073.000000</td>\n      <td>...</td>\n      <td>770025.000000</td>\n      <td>815304.000000</td>\n      <td>815304.000000</td>\n      <td>815304.000000</td>\n      <td>783619.000000</td>\n      <td>817722.000000</td>\n      <td>798073.000000</td>\n      <td>891221.000000</td>\n      <td>891221.000000</td>\n      <td>891221.000000</td>\n    </tr>\n    <tr>\n      <th>mean</th>\n      <td>6.372630e+05</td>\n      <td>-0.358435</td>\n      <td>4.421928</td>\n      <td>10.864126</td>\n      <td>11.745392</td>\n      <td>13.402658</td>\n      <td>14.476013</td>\n      <td>15.089627</td>\n      <td>13.700717</td>\n      <td>8.287263</td>\n      <td>...</td>\n      <td>2.417322</td>\n      <td>6.001214</td>\n      <td>7.532130</td>\n      <td>5.945972</td>\n      <td>3.933406</td>\n      <td>7.908791</td>\n      <td>4.052836</td>\n      <td>3.362438</td>\n      <td>1.522098</td>\n      <td>2.777398</td>\n    </tr>\n    <tr>\n      <th>std</th>\n      <td>2.572735e+05</td>\n      <td>1.198724</td>\n      <td>3.638805</td>\n      <td>7.639683</td>\n      <td>4.097660</td>\n      <td>3.243300</td>\n      <td>2.712427</td>\n      <td>2.452932</td>\n      <td>5.079849</td>\n      <td>15.628087</td>\n      <td>...</td>\n      <td>1.166572</td>\n      <td>2.856091</td>\n      <td>3.247789</td>\n      <td>2.771464</td>\n      <td>1.964701</td>\n      <td>1.923137</td>\n      <td>1.949539</td>\n      <td>1.352704</td>\n      <td>0.499512</td>\n      <td>1.068775</td>\n    </tr>\n    <tr>\n      <th>min</th>\n      <td>1.916530e+05</td>\n      <td>-1.000000</td>\n      <td>1.000000</td>\n      <td>0.000000</td>\n      <td>2.000000</td>\n      <td>2.000000</td>\n      <td>4.000000</td>\n      <td>7.000000</td>\n      <td>0.000000</td>\n      <td>0.000000</td>\n      <td>...</td>\n      <td>0.000000</td>\n      <td>1.000000</td>\n      <td>1.000000</td>\n      <td>1.000000</td>\n      <td>0.000000</td>\n      <td>1.000000</td>\n      <td>0.000000</td>\n      <td>1.000000</td>\n      <td>1.000000</td>\n      <td>1.000000</td>\n    </tr>\n    <tr>\n      <th>25%</th>\n      <td>4.144580e+05</td>\n      <td>-1.000000</td>\n      <td>1.000000</td>\n      <td>0.000000</td>\n      <td>8.000000</td>\n      <td>11.000000</td>\n      <td>13.000000</td>\n      <td>14.000000</td>\n      <td>11.000000</td>\n      <td>1.000000</td>\n      <td>...</td>\n      <td>2.000000</td>\n      <td>3.000000</td>\n      <td>5.000000</td>\n      <td>4.000000</td>\n      <td>2.000000</td>\n      <td>8.000000</td>\n      <td>3.000000</td>\n      <td>3.000000</td>\n      <td>1.000000</td>\n      <td>2.000000</td>\n    </tr>\n    <tr>\n      <th>50%</th>\n      <td>6.372630e+05</td>\n      <td>-1.000000</td>\n      <td>3.000000</td>\n      <td>13.000000</td>\n      <td>12.000000</td>\n      <td>14.000000</td>\n      <td>15.000000</td>\n      <td>15.000000</td>\n      <td>14.000000</td>\n      <td>4.000000</td>\n      <td>...</td>\n      <td>2.000000</td>\n      <td>6.000000</td>\n      <td>8.000000</td>\n      <td>6.000000</td>\n      <td>4.000000</td>\n      <td>9.000000</td>\n      <td>3.000000</td>\n      <td>3.000000</td>\n      <td>2.000000</td>\n      <td>3.000000</td>\n    </tr>\n    <tr>\n      <th>75%</th>\n      <td>8.600680e+05</td>\n      <td>-1.000000</td>\n      <td>9.000000</td>\n      <td>17.000000</td>\n      <td>15.000000</td>\n      <td>16.000000</td>\n      <td>17.000000</td>\n      <td>17.000000</td>\n      <td>17.000000</td>\n      <td>9.000000</td>\n      <td>...</td>\n      <td>3.000000</td>\n      <td>9.000000</td>\n      <td>10.000000</td>\n      <td>8.000000</td>\n      <td>6.000000</td>\n      <td>9.000000</td>\n      <td>5.000000</td>\n      <td>4.000000</td>\n      <td>2.000000</td>\n      <td>4.000000</td>\n    </tr>\n    <tr>\n      <th>max</th>\n      <td>1.082873e+06</td>\n      <td>3.000000</td>\n      <td>9.000000</td>\n      <td>21.000000</td>\n      <td>18.000000</td>\n      <td>18.000000</td>\n      <td>18.000000</td>\n      <td>18.000000</td>\n      <td>25.000000</td>\n      <td>595.000000</td>\n      <td>...</td>\n      <td>4.000000</td>\n      <td>11.000000</td>\n      <td>13.000000</td>\n      <td>11.000000</td>\n      <td>6.000000</td>\n      <td>9.000000</td>\n      <td>8.000000</td>\n      <td>6.000000</td>\n      <td>2.000000</td>\n      <td>9.000000</td>\n    </tr>\n  </tbody>\n</table>\n<p>8 rows × 360 columns</p>\n</div>"
     },
     "execution_count": 3,
     "metadata": {},
     "output_type": "execute_result"
    }
   ],
   "source": [
    "azdias_desc = azdias.describe()\n",
    "azdias_desc"
   ],
   "metadata": {
    "collapsed": false,
    "pycharm": {
     "name": "#%%\n"
    }
   }
  },
  {
   "cell_type": "markdown",
   "source": [
    "##### Missing Values"
   ],
   "metadata": {
    "collapsed": false,
    "pycharm": {
     "name": "#%% md\n"
    }
   }
  },
  {
   "cell_type": "code",
   "execution_count": 4,
   "outputs": [
    {
     "data": {
      "text/plain": "-105800.0    116\n-133324.0     64\n-4854.0       19\n-73499.0      11\n-93148.0       9\n-257113.0      8\n-116515.0      7\n-121196.0      3\n-97274.0       3\n-93155.0       3\n-93740.0       3\n-97216.0       3\n-75917.0       3\n-107602.0      2\n-97786.0       2\n-654153.0      1\n-810163.0      1\n-97008.0       1\n-18348.0       1\n-262947.0      1\n-890016.0      1\n-584612.0      1\n-885051.0      1\n-73969.0       1\n-861722.0      1\n-51226.0       1\nName: count, dtype: int64"
     },
     "execution_count": 4,
     "metadata": {},
     "output_type": "execute_result"
    }
   ],
   "source": [
    "ans = azdias_desc.loc['count', :] - azdias_desc.loc['count', 'LNR']\n",
    "ans[(ans.astype(int) < 0).values].value_counts()"
   ],
   "metadata": {
    "collapsed": false,
    "pycharm": {
     "name": "#%%\n"
    }
   }
  },
  {
   "cell_type": "code",
   "execution_count": 5,
   "outputs": [
    {
     "name": "stdout",
     "output_type": "stream",
     "text": [
      "total number of values:  891221\n"
     ]
    },
    {
     "data": {
      "text/plain": "LNR                          0.0\nAGER_TYP                     0.0\nAKT_DAT_KL              -73499.0\nALTER_HH                -73499.0\nALTER_KIND1            -810163.0\n                          ...   \nWOHNDAUER_2008          -73499.0\nWOHNLAGE                -93148.0\nZABEOTYP                     0.0\nANREDE_KZ                    0.0\nALTERSKATEGORIE_GROB         0.0\nName: count, Length: 360, dtype: float64"
     },
     "execution_count": 5,
     "metadata": {},
     "output_type": "execute_result"
    }
   ],
   "source": [
    "print('total number of values: % i' % azdias_desc.loc['count', 'LNR'])\n",
    "azdias_desc.loc['count', :] - azdias_desc.loc['count', 'LNR']"
   ],
   "metadata": {
    "collapsed": false,
    "pycharm": {
     "name": "#%%\n"
    }
   }
  },
  {
   "cell_type": "markdown",
   "source": [
    "We can see here, that we have about 890k customers in our Dataset. We have a lot of missing data, which we can see in the anlysis above. Since we currently have no information about the importance of each column, it makes sense to keep the columns. Eventhough the importance is unknown, it is worth wile, trying simple methods to fill some of the missing data."
   ],
   "metadata": {
    "collapsed": false,
    "pycharm": {
     "name": "#%% md\n"
    }
   }
  },
  {
   "cell_type": "code",
   "execution_count": 6,
   "outputs": [
    {
     "name": "stdout",
     "output_type": "stream",
     "text": [
      "columns with missing values:\n",
      "267\n",
      "\n",
      "missing values for each column:\n"
     ]
    },
    {
     "data": {
      "text/plain": "AKT_DAT_KL        -73499.0\nALTER_HH          -73499.0\nALTER_KIND1      -810163.0\nALTER_KIND2      -861722.0\nALTER_KIND3      -885051.0\n                    ...   \nVK_DISTANZ        -75917.0\nVK_ZG11           -75917.0\nW_KEIT_KIND_HH   -107602.0\nWOHNDAUER_2008    -73499.0\nWOHNLAGE          -93148.0\nName: count, Length: 267, dtype: float64"
     },
     "execution_count": 6,
     "metadata": {},
     "output_type": "execute_result"
    }
   ],
   "source": [
    "non_cols = (azdias_desc.loc['count', :] - azdias_desc.loc['count', 'LNR']) < 0\n",
    "print(\"columns with missing values:\")\n",
    "print(len(azdias_desc.columns[non_cols]))\n",
    "\n",
    "print(\"\\nmissing values for each column:\")\n",
    "(azdias_desc.loc['count', :] - azdias_desc.loc['count', 'LNR']).loc[non_cols]"
   ],
   "metadata": {
    "collapsed": false,
    "pycharm": {
     "name": "#%%\n"
    }
   }
  },
  {
   "cell_type": "markdown",
   "source": [
    "We can see, that a lot of columns with missing data have a similar amount of missing data. This may lead to the assumption that the missing data can be grouped in a specific way.\n",
    "\n",
    "E.g.: the data containing `KBA05_*` all have the same amount of missing data. If we take a look at the description for this dataset, we can see that the data revolves around data related to cars and automotive in general, therefore we can assume that these missing data point can be imputed in the same way. The data will be imputed in the 'Data Cleaning' chapter."
   ],
   "metadata": {
    "collapsed": false,
    "pycharm": {
     "name": "#%% md\n"
    }
   }
  },
  {
   "cell_type": "code",
   "execution_count": 7,
   "outputs": [
    {
     "data": {
      "text/plain": "-105800.0    116\n-133324.0     64\n-4854.0       19\n-73499.0      11\n-93148.0       9\n-257113.0      8\n-116515.0      7\n-121196.0      3\n-97274.0       3\n-93155.0       3\n-93740.0       3\n-97216.0       3\n-75917.0       3\n-107602.0      2\n-97786.0       2\n-654153.0      1\n-810163.0      1\n-97008.0       1\n-18348.0       1\n-262947.0      1\n-890016.0      1\n-584612.0      1\n-885051.0      1\n-73969.0       1\n-861722.0      1\n-51226.0       1\nName: count, dtype: int64"
     },
     "execution_count": 7,
     "metadata": {},
     "output_type": "execute_result"
    }
   ],
   "source": [
    "missing_values = (azdias_desc.loc['count', :] - azdias_desc.loc['count', 'LNR']).loc[non_cols]\n",
    "missing_values.value_counts()"
   ],
   "metadata": {
    "collapsed": false,
    "pycharm": {
     "name": "#%%\n"
    }
   }
  },
  {
   "cell_type": "markdown",
   "source": [
    "##### Customers with missing values\n",
    "Since we have a lot of data. We should consider dropping data from customers with a lot of missing data. Hence we should first take a look at how much missing data the customers usually have.\n"
   ],
   "metadata": {
    "collapsed": false,
    "pycharm": {
     "name": "#%% md\n"
    }
   }
  },
  {
   "cell_type": "code",
   "execution_count": 8,
   "outputs": [],
   "source": [
    "customer_nans = azdias.isna().sum(axis=1)"
   ],
   "metadata": {
    "collapsed": false,
    "pycharm": {
     "name": "#%%\n"
    }
   }
  },
  {
   "cell_type": "code",
   "execution_count": 9,
   "outputs": [
    {
     "data": {
      "text/plain": "<Figure size 640x480 with 1 Axes>",
      "image/png": "[encoded data removed]"
     },
     "metadata": {},
     "output_type": "display_data"
    }
   ],
   "source": [
    "plt.hist(customer_nans, bins=50);"
   ],
   "metadata": {
    "collapsed": false,
    "pycharm": {
     "name": "#%%\n"
    }
   }
  },
  {
   "cell_type": "markdown",
   "source": [
    "The histogram above shows, that most of the customers have less than approx. 30 missing values. We may consider dropping customers with more than 50 missing values."
   ],
   "metadata": {
    "collapsed": false,
    "pycharm": {
     "name": "#%% md\n"
    }
   }
  },
  {
   "cell_type": "markdown",
   "source": [
    "##### Data Types\n",
    "It seems like most of the data is categorical, but already transformed into numerical values. As we can see below, there are still a few categorical columns left. These have to be transformed into a numerical value as well. This will also be done in the following chapters.\n",
    "\n"
   ],
   "metadata": {
    "collapsed": false,
    "pycharm": {
     "name": "#%% md\n"
    }
   }
  },
  {
   "cell_type": "code",
   "execution_count": 10,
   "outputs": [
    {
     "data": {
      "text/plain": "float64    267\nint64       93\nobject       6\ndtype: int64"
     },
     "execution_count": 10,
     "metadata": {},
     "output_type": "execute_result"
    }
   ],
   "source": [
    "azdias.dtypes.value_counts()"
   ],
   "metadata": {
    "collapsed": false,
    "pycharm": {
     "name": "#%%\n"
    }
   }
  },
  {
   "cell_type": "code",
   "execution_count": 11,
   "outputs": [
    {
     "data": {
      "text/plain": "Index(['CAMEO_DEU_2015', 'CAMEO_DEUG_2015', 'CAMEO_INTL_2015',\n       'D19_LETZTER_KAUF_BRANCHE', 'EINGEFUEGT_AM', 'OST_WEST_KZ'],\n      dtype='object')"
     },
     "execution_count": 11,
     "metadata": {},
     "output_type": "execute_result"
    }
   ],
   "source": [
    "azdias.columns[azdias.dtypes == 'object']"
   ],
   "metadata": {
    "collapsed": false,
    "pycharm": {
     "name": "#%%\n"
    }
   }
  },
  {
   "cell_type": "markdown",
   "source": [
    "##### Duplicates\n",
    "Another think to investigate is, if duplicates exist. Since the `azdias?` data has a unique id column (`LNR`), we are going to check for duplicates in this column."
   ],
   "metadata": {
    "collapsed": false,
    "pycharm": {
     "name": "#%% md\n"
    }
   }
  },
  {
   "cell_type": "code",
   "execution_count": 12,
   "outputs": [
    {
     "data": {
      "text/plain": "False"
     },
     "execution_count": 12,
     "metadata": {},
     "output_type": "execute_result"
    }
   ],
   "source": [
    "azdias.LNR.duplicated().any()"
   ],
   "metadata": {
    "collapsed": false,
    "pycharm": {
     "name": "#%%\n"
    }
   }
  },
  {
   "cell_type": "markdown",
   "source": [
    "##### Constant Values\n",
    "Next, we are going to take a look at features with constant values, to see if we have features, that have no relevance."
   ],
   "metadata": {
    "collapsed": false,
    "pycharm": {
     "name": "#%% md\n"
    }
   }
  },
  {
   "cell_type": "code",
   "execution_count": 13,
   "outputs": [],
   "source": [
    "has_unique_values = [len(icolumn.unique()) < 2 for _, icolumn in\n",
    "                     azdias.items()]"
   ],
   "metadata": {
    "collapsed": false,
    "pycharm": {
     "name": "#%%\n"
    }
   }
  },
  {
   "cell_type": "code",
   "execution_count": 14,
   "outputs": [
    {
     "data": {
      "text/plain": "0"
     },
     "execution_count": 14,
     "metadata": {},
     "output_type": "execute_result"
    }
   ],
   "source": [
    "has_unique_values.count(True)"
   ],
   "metadata": {
    "collapsed": false,
    "pycharm": {
     "name": "#%%\n"
    }
   }
  },
  {
   "cell_type": "markdown",
   "source": [
    "We see that we have no problems wih duplicates in this dataset."
   ],
   "metadata": {
    "collapsed": false,
    "pycharm": {
     "name": "#%% md\n"
    }
   }
  },
  {
   "cell_type": "markdown",
   "source": [
    "### Data Cleaning\n",
    "To work with the data we have to take a look at the columns, the data formats and clean the data, to make the data more handy. Since the data is almost the same fo each file, except for a few columns, it makes sense to clean the data for each file in the same manor. Therefore, we are going to identify all the same columns and clean the data afterwards. The remaining columns are leaned seperately, since they dont have anything in common.\n",
    "\n",
    "The data cleaning process will contain the following steps:\n",
    "- drop or impute nans\n",
    "- drop not useful customer-data\n",
    "- transforming categorical data to numerical data\n",
    "\n",
    "The evaluation of the useful customer-data will be postponed, first we have to analyse which features are actually important and which ones we can drop anyway. This will only be performed, if we see the necessity to do so."
   ],
   "metadata": {
    "collapsed": false,
    "pycharm": {
     "name": "#%% md\n"
    }
   }
  },
  {
   "cell_type": "markdown",
   "source": [
    "##### Handle Nans\n",
    "\n",
    "Since we have a lot of Nan values, it makes sense to replace them with an appropriate value.\n",
    "\n",
    "###### Unify unknown data\n",
    "We see that in the data we have some columns, that have different entries for unknown data. Usually, unknown has the flag `-1`, but in some cases it is set to `0` or to a tuple of values like `-1, 9` or `-1, 0`. To unify these entries, we are going to replace the values of `-1, 9` and `-1, 0` with `-1`, but we will still keep the `0`'s. The reason for that is, that in some cases like 'number of XY per household' it could be 0, but it could also be unknown. to keep that information, we are going to replace only the actually unknown data with `-1`'s."
   ],
   "metadata": {
    "collapsed": false,
    "pycharm": {
     "name": "#%% md\n"
    }
   }
  },
  {
   "cell_type": "code",
   "execution_count": 15,
   "outputs": [],
   "source": [
    "def replace_unknowns(data):\n",
    "    replace_dict = {'-1,0': '-1', '-1,9': '-1'}\n",
    "    data.replace(replace_dict, regex=True, inplace=True)\n",
    "    return data\n",
    "\n",
    "\n",
    "azdias = replace_unknowns(azdias)"
   ],
   "metadata": {
    "collapsed": false,
    "pycharm": {
     "name": "#%%\n"
    }
   }
  },
  {
   "cell_type": "markdown",
   "source": [
    "###### Dropping useless customers\n",
    "Since we saw that a lot of customers have very few data and we have a lot of customer data, we can simply drop them. We are going to drop every row with more than 50 missing values."
   ],
   "metadata": {
    "collapsed": false,
    "pycharm": {
     "name": "#%% md\n"
    }
   }
  },
  {
   "cell_type": "code",
   "execution_count": 16,
   "outputs": [
    {
     "data": {
      "text/plain": "(891221, 366)"
     },
     "execution_count": 16,
     "metadata": {},
     "output_type": "execute_result"
    }
   ],
   "source": [
    "azdias.shape"
   ],
   "metadata": {
    "collapsed": false,
    "pycharm": {
     "name": "#%%\n"
    }
   }
  },
  {
   "cell_type": "code",
   "execution_count": 17,
   "outputs": [
    {
     "name": "stdout",
     "output_type": "stream",
     "text": [
      "(891221, 366)\n",
      "(751331, 366)\n"
     ]
    }
   ],
   "source": [
    "def drop_useless_rows(data):\n",
    "    more_than_50_missing = data.isna().sum(axis=1) > 50\n",
    "    index_50_missing = more_than_50_missing[more_than_50_missing].index\n",
    "    data = data.drop(index_50_missing)\n",
    "\n",
    "    return data\n",
    "\n",
    "print(azdias.shape)\n",
    "azdias = drop_useless_rows(azdias)\n",
    "print(azdias.shape)"
   ],
   "metadata": {
    "collapsed": false,
    "pycharm": {
     "name": "#%%\n"
    }
   }
  },
  {
   "cell_type": "code",
   "execution_count": 18,
   "outputs": [
    {
     "data": {
      "text/plain": "      LNR  AGER_TYP  AKT_DAT_KL  ALTER_HH  ALTER_KIND1  ALTER_KIND2  \\\n1  910220        -1         9.0       0.0          NaN          NaN   \n2  910225        -1         9.0      17.0          NaN          NaN   \n3  910226         2         1.0      13.0          NaN          NaN   \n4  910241        -1         1.0      20.0          NaN          NaN   \n5  910244         3         1.0      10.0          NaN          NaN   \n\n   ALTER_KIND3  ALTER_KIND4  ALTERSKATEGORIE_FEIN  ANZ_HAUSHALTE_AKTIV  ...  \\\n1          NaN          NaN                  21.0                 11.0  ...   \n2          NaN          NaN                  17.0                 10.0  ...   \n3          NaN          NaN                  13.0                  1.0  ...   \n4          NaN          NaN                  14.0                  3.0  ...   \n5          NaN          NaN                  10.0                  5.0  ...   \n\n   VHN  VK_DHT4A  VK_DISTANZ  VK_ZG11  W_KEIT_KIND_HH  WOHNDAUER_2008  \\\n1  4.0       8.0        11.0     10.0             3.0             9.0   \n2  2.0       9.0         9.0      6.0             3.0             9.0   \n3  0.0       7.0        10.0     11.0             NaN             9.0   \n4  2.0       3.0         5.0      4.0             2.0             9.0   \n5  2.0      10.0         7.0      4.0             6.0             9.0   \n\n   WOHNLAGE ZABEOTYP ANREDE_KZ ALTERSKATEGORIE_GROB  \n1       4.0        5         2                    1  \n2       2.0        5         2                    3  \n3       7.0        3         2                    4  \n4       3.0        4         1                    3  \n5       7.0        4         2                    1  \n\n[5 rows x 366 columns]",
      "text/html": "<div>\n<style scoped>\n    .dataframe tbody tr th:only-of-type {\n        vertical-align: middle;\n    }\n\n    .dataframe tbody tr th {\n        vertical-align: top;\n    }\n\n    .dataframe thead th {\n        text-align: right;\n    }\n</style>\n<table border=\"1\" class=\"dataframe\">\n  <thead>\n    <tr style=\"text-align: right;\">\n      <th></th>\n      <th>LNR</th>\n      <th>AGER_TYP</th>\n      <th>AKT_DAT_KL</th>\n      <th>ALTER_HH</th>\n      <th>ALTER_KIND1</th>\n      <th>ALTER_KIND2</th>\n      <th>ALTER_KIND3</th>\n      <th>ALTER_KIND4</th>\n      <th>ALTERSKATEGORIE_FEIN</th>\n      <th>ANZ_HAUSHALTE_AKTIV</th>\n      <th>...</th>\n      <th>VHN</th>\n      <th>VK_DHT4A</th>\n      <th>VK_DISTANZ</th>\n      <th>VK_ZG11</th>\n      <th>W_KEIT_KIND_HH</th>\n      <th>WOHNDAUER_2008</th>\n      <th>WOHNLAGE</th>\n      <th>ZABEOTYP</th>\n      <th>ANREDE_KZ</th>\n      <th>ALTERSKATEGORIE_GROB</th>\n    </tr>\n  </thead>\n  <tbody>\n    <tr>\n      <th>1</th>\n      <td>910220</td>\n      <td>-1</td>\n      <td>9.0</td>\n      <td>0.0</td>\n      <td>NaN</td>\n      <td>NaN</td>\n      <td>NaN</td>\n      <td>NaN</td>\n      <td>21.0</td>\n      <td>11.0</td>\n      <td>...</td>\n      <td>4.0</td>\n      <td>8.0</td>\n      <td>11.0</td>\n      <td>10.0</td>\n      <td>3.0</td>\n      <td>9.0</td>\n      <td>4.0</td>\n      <td>5</td>\n      <td>2</td>\n      <td>1</td>\n    </tr>\n    <tr>\n      <th>2</th>\n      <td>910225</td>\n      <td>-1</td>\n      <td>9.0</td>\n      <td>17.0</td>\n      <td>NaN</td>\n      <td>NaN</td>\n      <td>NaN</td>\n      <td>NaN</td>\n      <td>17.0</td>\n      <td>10.0</td>\n      <td>...</td>\n      <td>2.0</td>\n      <td>9.0</td>\n      <td>9.0</td>\n      <td>6.0</td>\n      <td>3.0</td>\n      <td>9.0</td>\n      <td>2.0</td>\n      <td>5</td>\n      <td>2</td>\n      <td>3</td>\n    </tr>\n    <tr>\n      <th>3</th>\n      <td>910226</td>\n      <td>2</td>\n      <td>1.0</td>\n      <td>13.0</td>\n      <td>NaN</td>\n      <td>NaN</td>\n      <td>NaN</td>\n      <td>NaN</td>\n      <td>13.0</td>\n      <td>1.0</td>\n      <td>...</td>\n      <td>0.0</td>\n      <td>7.0</td>\n      <td>10.0</td>\n      <td>11.0</td>\n      <td>NaN</td>\n      <td>9.0</td>\n      <td>7.0</td>\n      <td>3</td>\n      <td>2</td>\n      <td>4</td>\n    </tr>\n    <tr>\n      <th>4</th>\n      <td>910241</td>\n      <td>-1</td>\n      <td>1.0</td>\n      <td>20.0</td>\n      <td>NaN</td>\n      <td>NaN</td>\n      <td>NaN</td>\n      <td>NaN</td>\n      <td>14.0</td>\n      <td>3.0</td>\n      <td>...</td>\n      <td>2.0</td>\n      <td>3.0</td>\n      <td>5.0</td>\n      <td>4.0</td>\n      <td>2.0</td>\n      <td>9.0</td>\n      <td>3.0</td>\n      <td>4</td>\n      <td>1</td>\n      <td>3</td>\n    </tr>\n    <tr>\n      <th>5</th>\n      <td>910244</td>\n      <td>3</td>\n      <td>1.0</td>\n      <td>10.0</td>\n      <td>NaN</td>\n      <td>NaN</td>\n      <td>NaN</td>\n      <td>NaN</td>\n      <td>10.0</td>\n      <td>5.0</td>\n      <td>...</td>\n      <td>2.0</td>\n      <td>10.0</td>\n      <td>7.0</td>\n      <td>4.0</td>\n      <td>6.0</td>\n      <td>9.0</td>\n      <td>7.0</td>\n      <td>4</td>\n      <td>2</td>\n      <td>1</td>\n    </tr>\n  </tbody>\n</table>\n<p>5 rows × 366 columns</p>\n</div>"
     },
     "execution_count": 18,
     "metadata": {},
     "output_type": "execute_result"
    }
   ],
   "source": [
    "azdias.head()"
   ],
   "metadata": {
    "collapsed": false,
    "pycharm": {
     "name": "#%%\n"
    }
   }
  },
  {
   "cell_type": "markdown",
   "source": [
    "Eventhough we may have dropped about 15% of our data, but we are still left with a lot of data AND we gained additional data quality with low effort."
   ],
   "metadata": {
    "collapsed": false,
    "pycharm": {
     "name": "#%% md\n"
    }
   }
  },
  {
   "cell_type": "markdown",
   "source": [
    "###### replace Nans\n",
    "For every other non available value, we are going to set them the standard value of `-1`."
   ],
   "metadata": {
    "collapsed": false,
    "pycharm": {
     "name": "#%% md\n"
    }
   }
  },
  {
   "cell_type": "code",
   "execution_count": 19,
   "outputs": [
    {
     "data": {
      "text/plain": "           LNR  AGER_TYP  AKT_DAT_KL  ALTER_HH  ALTER_KIND1  ALTER_KIND2  \\\n1       910220        -1         9.0       0.0         -1.0         -1.0   \n2       910225        -1         9.0      17.0         -1.0         -1.0   \n3       910226         2         1.0      13.0         -1.0         -1.0   \n4       910241        -1         1.0      20.0         -1.0         -1.0   \n5       910244         3         1.0      10.0         -1.0         -1.0   \n...        ...       ...         ...       ...          ...          ...   \n891216  825761        -1         5.0      17.0         -1.0         -1.0   \n891217  825771        -1         9.0      16.0         -1.0         -1.0   \n891218  825772        -1         1.0      17.0         -1.0         -1.0   \n891219  825776        -1         9.0       0.0         17.0         -1.0   \n891220  825787        -1         1.0       0.0         -1.0         -1.0   \n\n        ALTER_KIND3  ALTER_KIND4  ALTERSKATEGORIE_FEIN  ANZ_HAUSHALTE_AKTIV  \\\n1              -1.0         -1.0                  21.0                 11.0   \n2              -1.0         -1.0                  17.0                 10.0   \n3              -1.0         -1.0                  13.0                  1.0   \n4              -1.0         -1.0                  14.0                  3.0   \n5              -1.0         -1.0                  10.0                  5.0   \n...             ...          ...                   ...                  ...   \n891216         -1.0         -1.0                  17.0                 15.0   \n891217         -1.0         -1.0                  16.0                 11.0   \n891218         -1.0         -1.0                  17.0                  3.0   \n891219         -1.0         -1.0                  20.0                  7.0   \n891220         -1.0         -1.0                  -1.0                 10.0   \n\n        ...  VHN  VK_DHT4A  VK_DISTANZ  VK_ZG11  W_KEIT_KIND_HH  \\\n1       ...  4.0       8.0        11.0     10.0             3.0   \n2       ...  2.0       9.0         9.0      6.0             3.0   \n3       ...  0.0       7.0        10.0     11.0            -1.0   \n4       ...  2.0       3.0         5.0      4.0             2.0   \n5       ...  2.0      10.0         7.0      4.0             6.0   \n...     ...  ...       ...         ...      ...             ...   \n891216  ...  2.0       4.0         7.0      8.0             3.0   \n891217  ...  4.0       6.0         9.0      6.0             6.0   \n891218  ...  2.0       7.0        10.0      8.0            -1.0   \n891219  ...  4.0       9.0         8.0      5.0             1.0   \n891220  ...  3.0       8.0        10.0      7.0             6.0   \n\n        WOHNDAUER_2008  WOHNLAGE ZABEOTYP ANREDE_KZ ALTERSKATEGORIE_GROB  \n1                  9.0       4.0        5         2                    1  \n2                  9.0       2.0        5         2                    3  \n3                  9.0       7.0        3         2                    4  \n4                  9.0       3.0        4         1                    3  \n5                  9.0       7.0        4         2                    1  \n...                ...       ...      ...       ...                  ...  \n891216             4.0       3.0        4         2                    3  \n891217             9.0       5.0        6         1                    2  \n891218             5.0       7.0        4         2                    2  \n891219             9.0       5.0        5         1                    1  \n891220             3.0       4.0        3         1                    4  \n\n[751331 rows x 366 columns]",
      "text/html": "<div>\n<style scoped>\n    .dataframe tbody tr th:only-of-type {\n        vertical-align: middle;\n    }\n\n    .dataframe tbody tr th {\n        vertical-align: top;\n    }\n\n    .dataframe thead th {\n        text-align: right;\n    }\n</style>\n<table border=\"1\" class=\"dataframe\">\n  <thead>\n    <tr style=\"text-align: right;\">\n      <th></th>\n      <th>LNR</th>\n      <th>AGER_TYP</th>\n      <th>AKT_DAT_KL</th>\n      <th>ALTER_HH</th>\n      <th>ALTER_KIND1</th>\n      <th>ALTER_KIND2</th>\n      <th>ALTER_KIND3</th>\n      <th>ALTER_KIND4</th>\n      <th>ALTERSKATEGORIE_FEIN</th>\n      <th>ANZ_HAUSHALTE_AKTIV</th>\n      <th>...</th>\n      <th>VHN</th>\n      <th>VK_DHT4A</th>\n      <th>VK_DISTANZ</th>\n      <th>VK_ZG11</th>\n      <th>W_KEIT_KIND_HH</th>\n      <th>WOHNDAUER_2008</th>\n      <th>WOHNLAGE</th>\n      <th>ZABEOTYP</th>\n      <th>ANREDE_KZ</th>\n      <th>ALTERSKATEGORIE_GROB</th>\n    </tr>\n  </thead>\n  <tbody>\n    <tr>\n      <th>1</th>\n      <td>910220</td>\n      <td>-1</td>\n      <td>9.0</td>\n      <td>0.0</td>\n      <td>-1.0</td>\n      <td>-1.0</td>\n      <td>-1.0</td>\n      <td>-1.0</td>\n      <td>21.0</td>\n      <td>11.0</td>\n      <td>...</td>\n      <td>4.0</td>\n      <td>8.0</td>\n      <td>11.0</td>\n      <td>10.0</td>\n      <td>3.0</td>\n      <td>9.0</td>\n      <td>4.0</td>\n      <td>5</td>\n      <td>2</td>\n      <td>1</td>\n    </tr>\n    <tr>\n      <th>2</th>\n      <td>910225</td>\n      <td>-1</td>\n      <td>9.0</td>\n      <td>17.0</td>\n      <td>-1.0</td>\n      <td>-1.0</td>\n      <td>-1.0</td>\n      <td>-1.0</td>\n      <td>17.0</td>\n      <td>10.0</td>\n      <td>...</td>\n      <td>2.0</td>\n      <td>9.0</td>\n      <td>9.0</td>\n      <td>6.0</td>\n      <td>3.0</td>\n      <td>9.0</td>\n      <td>2.0</td>\n      <td>5</td>\n      <td>2</td>\n      <td>3</td>\n    </tr>\n    <tr>\n      <th>3</th>\n      <td>910226</td>\n      <td>2</td>\n      <td>1.0</td>\n      <td>13.0</td>\n      <td>-1.0</td>\n      <td>-1.0</td>\n      <td>-1.0</td>\n      <td>-1.0</td>\n      <td>13.0</td>\n      <td>1.0</td>\n      <td>...</td>\n      <td>0.0</td>\n      <td>7.0</td>\n      <td>10.0</td>\n      <td>11.0</td>\n      <td>-1.0</td>\n      <td>9.0</td>\n      <td>7.0</td>\n      <td>3</td>\n      <td>2</td>\n      <td>4</td>\n    </tr>\n    <tr>\n      <th>4</th>\n      <td>910241</td>\n      <td>-1</td>\n      <td>1.0</td>\n      <td>20.0</td>\n      <td>-1.0</td>\n      <td>-1.0</td>\n      <td>-1.0</td>\n      <td>-1.0</td>\n      <td>14.0</td>\n      <td>3.0</td>\n      <td>...</td>\n      <td>2.0</td>\n      <td>3.0</td>\n      <td>5.0</td>\n      <td>4.0</td>\n      <td>2.0</td>\n      <td>9.0</td>\n      <td>3.0</td>\n      <td>4</td>\n      <td>1</td>\n      <td>3</td>\n    </tr>\n    <tr>\n      <th>5</th>\n      <td>910244</td>\n      <td>3</td>\n      <td>1.0</td>\n      <td>10.0</td>\n      <td>-1.0</td>\n      <td>-1.0</td>\n      <td>-1.0</td>\n      <td>-1.0</td>\n      <td>10.0</td>\n      <td>5.0</td>\n      <td>...</td>\n      <td>2.0</td>\n      <td>10.0</td>\n      <td>7.0</td>\n      <td>4.0</td>\n      <td>6.0</td>\n      <td>9.0</td>\n      <td>7.0</td>\n      <td>4</td>\n      <td>2</td>\n      <td>1</td>\n    </tr>\n    <tr>\n      <th>...</th>\n      <td>...</td>\n      <td>...</td>\n      <td>...</td>\n      <td>...</td>\n      <td>...</td>\n      <td>...</td>\n      <td>...</td>\n      <td>...</td>\n      <td>...</td>\n      <td>...</td>\n      <td>...</td>\n      <td>...</td>\n      <td>...</td>\n      <td>...</td>\n      <td>...</td>\n      <td>...</td>\n      <td>...</td>\n      <td>...</td>\n      <td>...</td>\n      <td>...</td>\n      <td>...</td>\n    </tr>\n    <tr>\n      <th>891216</th>\n      <td>825761</td>\n      <td>-1</td>\n      <td>5.0</td>\n      <td>17.0</td>\n      <td>-1.0</td>\n      <td>-1.0</td>\n      <td>-1.0</td>\n      <td>-1.0</td>\n      <td>17.0</td>\n      <td>15.0</td>\n      <td>...</td>\n      <td>2.0</td>\n      <td>4.0</td>\n      <td>7.0</td>\n      <td>8.0</td>\n      <td>3.0</td>\n      <td>4.0</td>\n      <td>3.0</td>\n      <td>4</td>\n      <td>2</td>\n      <td>3</td>\n    </tr>\n    <tr>\n      <th>891217</th>\n      <td>825771</td>\n      <td>-1</td>\n      <td>9.0</td>\n      <td>16.0</td>\n      <td>-1.0</td>\n      <td>-1.0</td>\n      <td>-1.0</td>\n      <td>-1.0</td>\n      <td>16.0</td>\n      <td>11.0</td>\n      <td>...</td>\n      <td>4.0</td>\n      <td>6.0</td>\n      <td>9.0</td>\n      <td>6.0</td>\n      <td>6.0</td>\n      <td>9.0</td>\n      <td>5.0</td>\n      <td>6</td>\n      <td>1</td>\n      <td>2</td>\n    </tr>\n    <tr>\n      <th>891218</th>\n      <td>825772</td>\n      <td>-1</td>\n      <td>1.0</td>\n      <td>17.0</td>\n      <td>-1.0</td>\n      <td>-1.0</td>\n      <td>-1.0</td>\n      <td>-1.0</td>\n      <td>17.0</td>\n      <td>3.0</td>\n      <td>...</td>\n      <td>2.0</td>\n      <td>7.0</td>\n      <td>10.0</td>\n      <td>8.0</td>\n      <td>-1.0</td>\n      <td>5.0</td>\n      <td>7.0</td>\n      <td>4</td>\n      <td>2</td>\n      <td>2</td>\n    </tr>\n    <tr>\n      <th>891219</th>\n      <td>825776</td>\n      <td>-1</td>\n      <td>9.0</td>\n      <td>0.0</td>\n      <td>17.0</td>\n      <td>-1.0</td>\n      <td>-1.0</td>\n      <td>-1.0</td>\n      <td>20.0</td>\n      <td>7.0</td>\n      <td>...</td>\n      <td>4.0</td>\n      <td>9.0</td>\n      <td>8.0</td>\n      <td>5.0</td>\n      <td>1.0</td>\n      <td>9.0</td>\n      <td>5.0</td>\n      <td>5</td>\n      <td>1</td>\n      <td>1</td>\n    </tr>\n    <tr>\n      <th>891220</th>\n      <td>825787</td>\n      <td>-1</td>\n      <td>1.0</td>\n      <td>0.0</td>\n      <td>-1.0</td>\n      <td>-1.0</td>\n      <td>-1.0</td>\n      <td>-1.0</td>\n      <td>-1.0</td>\n      <td>10.0</td>\n      <td>...</td>\n      <td>3.0</td>\n      <td>8.0</td>\n      <td>10.0</td>\n      <td>7.0</td>\n      <td>6.0</td>\n      <td>3.0</td>\n      <td>4.0</td>\n      <td>3</td>\n      <td>1</td>\n      <td>4</td>\n    </tr>\n  </tbody>\n</table>\n<p>751331 rows × 366 columns</p>\n</div>"
     },
     "execution_count": 19,
     "metadata": {},
     "output_type": "execute_result"
    }
   ],
   "source": [
    "def replace_nans(data):\n",
    "    data.fillna(-1, inplace=True)\n",
    "    return data\n",
    "\n",
    "\n",
    "azdias = replace_nans(azdias)\n",
    "azdias"
   ],
   "metadata": {
    "collapsed": false,
    "pycharm": {
     "name": "#%%\n"
    }
   }
  },
  {
   "cell_type": "markdown",
   "source": [
    "##### Transforming Categorical Data\n",
    "\n",
    "First we have to identify which data is not categorical already. After that we are going to replace the columns with numerical values."
   ],
   "metadata": {
    "collapsed": false,
    "pycharm": {
     "name": "#%% md\n"
    }
   }
  },
  {
   "cell_type": "code",
   "execution_count": 20,
   "outputs": [
    {
     "data": {
      "text/plain": "Index(['CAMEO_DEU_2015', 'CAMEO_DEUG_2015', 'CAMEO_INTL_2015',\n       'D19_LETZTER_KAUF_BRANCHE', 'EINGEFUEGT_AM', 'OST_WEST_KZ'],\n      dtype='object')"
     },
     "execution_count": 20,
     "metadata": {},
     "output_type": "execute_result"
    }
   ],
   "source": [
    "def get_non_numeric_columns(data):\n",
    "    return data.columns[data.dtypes == 'object']\n",
    "\n",
    "\n",
    "non_num_cols = get_non_numeric_columns(azdias)\n",
    "non_num_cols"
   ],
   "metadata": {
    "collapsed": false,
    "pycharm": {
     "name": "#%%\n"
    }
   }
  },
  {
   "cell_type": "markdown",
   "source": [
    "###### CAMEO_DEU_2015\n",
    "\n",
    "In the data, we can see that the values range from 1 to 9 with additional letters from A to F. As we can see below in the CAMEO_DEUINT_2015 feature, the features are set to 11-55, but not consecutively, which we are going to do here as well."
   ],
   "metadata": {
    "collapsed": false,
    "pycharm": {
     "name": "#%% md\n"
    }
   }
  },
  {
   "cell_type": "code",
   "execution_count": 21,
   "outputs": [
    {
     "data": {
      "text/plain": "array(['8A', '4C', '2A', '6B', '8C', '4A', '2D', '1A', '1E', '9D', '7A',\n       '5D', '9E', '5C', '9B', '1B', '8B', '3D', -1, '4E', '4B', '3C',\n       '5A', '7B', '9A', '6D', '6E', '2C', '7C', '9C', '7D', '5E', '1D',\n       '8D', '6C', '6A', '5B', '4D', '3A', '2B', '7E', '3B', '6F', '5F',\n       '1C', 'XX'], dtype=object)"
     },
     "execution_count": 21,
     "metadata": {},
     "output_type": "execute_result"
    }
   ],
   "source": [
    "azdias.loc[:, non_num_cols[0]].unique()"
   ],
   "metadata": {
    "collapsed": false,
    "pycharm": {
     "name": "#%%\n"
    }
   }
  },
  {
   "cell_type": "code",
   "execution_count": 22,
   "outputs": [
    {
     "name": "stderr",
     "output_type": "stream",
     "text": [
      "C:\\Users\\K35400\\AppData\\Local\\Temp\\ipykernel_28308\\3161604245.py:6: DeprecationWarning: In a future version, `df.iloc[:, i] = newvals` will attempt to set the values inplace instead of always setting a new array. To retain the old behavior, use either `df[df.columns[i]] = newvals` or, if columns are non-unique, `df.isetitem(i, newvals)`\n",
      "  data.loc[:, 'CAMEO_DEU_2015'] = data.loc[:, 'CAMEO_DEU_2015'].astype(int)\n"
     ]
    },
    {
     "data": {
      "text/plain": "1     81\n2     43\n3     21\n4     62\n5     83\n6     41\n7     24\n8     11\n9     15\n10    94\nName: CAMEO_DEU_2015, dtype: int32"
     },
     "execution_count": 22,
     "metadata": {},
     "output_type": "execute_result"
    }
   ],
   "source": [
    "def clear_cameo_deu_2015_data(data):\n",
    "    replace_dict = {'A': '1', 'B': '2', 'C': '3', 'D': '4', 'E': '5', 'F': '6',\n",
    "                    'G': '7', 'H': '8', 'XX': '-1'}\n",
    "    data.loc[:, 'CAMEO_DEU_2015'].replace(replace_dict, regex=True,\n",
    "                                          inplace=True)\n",
    "    data.loc[:, 'CAMEO_DEU_2015'] = data.loc[:, 'CAMEO_DEU_2015'].astype(int)\n",
    "    return data\n",
    "\n",
    "\n",
    "azdias = clear_cameo_deu_2015_data(azdias)\n",
    "azdias.loc[:, 'CAMEO_DEU_2015'].head(10)"
   ],
   "metadata": {
    "collapsed": false,
    "pycharm": {
     "name": "#%%\n"
    }
   }
  },
  {
   "cell_type": "markdown",
   "source": [
    "###### CAMEO_DEUG_2015\n",
    "This Feature looks like most of the data is simply not an integer but rather mixed integers and float. In addition an X can be found in the data, which has to be replace by our standard value for unknown entries, `-1`."
   ],
   "metadata": {
    "collapsed": false,
    "pycharm": {
     "name": "#%% md\n"
    }
   }
  },
  {
   "cell_type": "code",
   "execution_count": 23,
   "outputs": [
    {
     "data": {
      "text/plain": "array([8.0, 4.0, 2.0, 6.0, 1.0, 9.0, 7.0, 5.0, 3.0, -1, '3', '7', '2',\n       '4', '8', '9', '6', '5', '1', 'X'], dtype=object)"
     },
     "execution_count": 23,
     "metadata": {},
     "output_type": "execute_result"
    }
   ],
   "source": [
    "azdias.loc[:, non_num_cols[1]].unique()"
   ],
   "metadata": {
    "collapsed": false,
    "pycharm": {
     "name": "#%%\n"
    }
   }
  },
  {
   "cell_type": "code",
   "execution_count": 24,
   "outputs": [
    {
     "name": "stderr",
     "output_type": "stream",
     "text": [
      "C:\\Users\\K35400\\AppData\\Local\\Temp\\ipykernel_28308\\2393891728.py:5: DeprecationWarning: In a future version, `df.iloc[:, i] = newvals` will attempt to set the values inplace instead of always setting a new array. To retain the old behavior, use either `df[df.columns[i]] = newvals` or, if columns are non-unique, `df.isetitem(i, newvals)`\n",
      "  data.loc[:, 'CAMEO_DEUG_2015'] = data.loc[:, 'CAMEO_DEUG_2015'].astype(int)\n"
     ]
    },
    {
     "data": {
      "text/plain": "array([ 8,  4,  2,  6,  1,  9,  7,  5,  3, -1])"
     },
     "execution_count": 24,
     "metadata": {},
     "output_type": "execute_result"
    }
   ],
   "source": [
    "def clear_cameo_deug_2015_data(data):\n",
    "    replace_dict = {'X': '-1'}\n",
    "    data.loc[:, 'CAMEO_DEUG_2015'].replace(replace_dict, regex=True,\n",
    "                                           inplace=True)\n",
    "    data.loc[:, 'CAMEO_DEUG_2015'] = data.loc[:, 'CAMEO_DEUG_2015'].astype(int)\n",
    "\n",
    "    return data\n",
    "\n",
    "\n",
    "azdias = clear_cameo_deug_2015_data(azdias)\n",
    "azdias.loc[:, non_num_cols[1]].unique()"
   ],
   "metadata": {
    "collapsed": false,
    "pycharm": {
     "name": "#%%\n"
    }
   }
  },
  {
   "cell_type": "markdown",
   "source": [
    "###### CAMEO_INTL_2015\n",
    "This feature seems to have the same issue as `CAMEO_DEUG_2015`, hence we are going to apply the same methodology here"
   ],
   "metadata": {
    "collapsed": false,
    "pycharm": {
     "name": "#%% md\n"
    }
   }
  },
  {
   "cell_type": "code",
   "execution_count": 25,
   "outputs": [
    {
     "data": {
      "text/plain": "array([51.0, 24.0, 12.0, 43.0, 54.0, 22.0, 14.0, 13.0, 15.0, 41.0, 34.0,\n       55.0, 33.0, 25.0, -1, 23.0, 31.0, 52.0, 35.0, 45.0, 44.0, 32.0,\n       '24', '41', '12', '54', '51', '44', '35', '23', '25', '14', '34',\n       '52', '55', '31', '32', '22', '15', '13', '43', '45', '33', 'XX'],\n      dtype=object)"
     },
     "execution_count": 25,
     "metadata": {},
     "output_type": "execute_result"
    }
   ],
   "source": [
    "azdias.loc[:, non_num_cols[2]].unique()"
   ],
   "metadata": {
    "collapsed": false,
    "pycharm": {
     "name": "#%%\n"
    }
   }
  },
  {
   "cell_type": "code",
   "execution_count": 26,
   "outputs": [
    {
     "name": "stderr",
     "output_type": "stream",
     "text": [
      "C:\\Users\\K35400\\AppData\\Local\\Temp\\ipykernel_28308\\3076981586.py:5: DeprecationWarning: In a future version, `df.iloc[:, i] = newvals` will attempt to set the values inplace instead of always setting a new array. To retain the old behavior, use either `df[df.columns[i]] = newvals` or, if columns are non-unique, `df.isetitem(i, newvals)`\n",
      "  data.loc[:, 'CAMEO_INTL_2015'] = data.loc[:, 'CAMEO_INTL_2015'].astype(int)\n"
     ]
    },
    {
     "data": {
      "text/plain": "array([51, 24, 12, 43, 54, 22, 14, 13, 15, 41, 34, 55, 33, 25, -1, 23, 31,\n       52, 35, 45, 44, 32])"
     },
     "execution_count": 26,
     "metadata": {},
     "output_type": "execute_result"
    }
   ],
   "source": [
    "def clear_cameo_intl_2015_data(data):\n",
    "    replace_dict = {'XX': '-1'}\n",
    "    data.loc[:, 'CAMEO_INTL_2015'].replace(replace_dict, regex=True,\n",
    "                                           inplace=True)\n",
    "    data.loc[:, 'CAMEO_INTL_2015'] = data.loc[:, 'CAMEO_INTL_2015'].astype(int)\n",
    "    return data\n",
    "\n",
    "\n",
    "azdias = clear_cameo_intl_2015_data(azdias)\n",
    "azdias.loc[:, non_num_cols[2]].unique()"
   ],
   "metadata": {
    "collapsed": false,
    "pycharm": {
     "name": "#%%\n"
    }
   }
  },
  {
   "cell_type": "markdown",
   "source": [
    "###### D19_LETZTER_KAUF_BRANCHE\n",
    "Here we can see that this data is still categorical and not transformed to numerical code, like the other features, therefore, we are going to do that here."
   ],
   "metadata": {
    "collapsed": false,
    "pycharm": {
     "name": "#%% md\n"
    }
   }
  },
  {
   "cell_type": "code",
   "execution_count": 27,
   "outputs": [
    {
     "data": {
      "text/plain": "array([-1, 'D19_UNBEKANNT', 'D19_SCHUHE', 'D19_ENERGIE', 'D19_KOSMETIK',\n       'D19_SONSTIGE', 'D19_BANKEN_GROSS', 'D19_VOLLSORTIMENT',\n       'D19_DROGERIEARTIKEL', 'D19_HANDWERK', 'D19_BUCH_CD',\n       'D19_VERSICHERUNGEN', 'D19_VERSAND_REST', 'D19_TELKO_REST',\n       'D19_BANKEN_DIREKT', 'D19_BANKEN_REST', 'D19_LEBENSMITTEL',\n       'D19_HAUS_DEKO', 'D19_BEKLEIDUNG_REST', 'D19_SAMMELARTIKEL',\n       'D19_TELKO_MOBILE', 'D19_REISEN', 'D19_BEKLEIDUNG_GEH',\n       'D19_TECHNIK', 'D19_NAHRUNGSERGAENZUNG', 'D19_DIGIT_SERV',\n       'D19_LOTTO', 'D19_RATGEBER', 'D19_TIERARTIKEL',\n       'D19_KINDERARTIKEL', 'D19_BIO_OEKO', 'D19_FREIZEIT',\n       'D19_WEIN_FEINKOST', 'D19_GARTEN', 'D19_BILDUNG',\n       'D19_BANKEN_LOKAL'], dtype=object)"
     },
     "execution_count": 27,
     "metadata": {},
     "output_type": "execute_result"
    }
   ],
   "source": [
    "azdias.loc[:, non_num_cols[3]].unique()"
   ],
   "metadata": {
    "collapsed": false,
    "pycharm": {
     "name": "#%%\n"
    }
   }
  },
  {
   "cell_type": "code",
   "execution_count": 28,
   "outputs": [
    {
     "name": "stderr",
     "output_type": "stream",
     "text": [
      "C:\\Users\\K35400\\AppData\\Local\\Temp\\ipykernel_28308\\3276071408.py:2: DeprecationWarning: In a future version, `df.iloc[:, i] = newvals` will attempt to set the values inplace instead of always setting a new array. To retain the old behavior, use either `df[df.columns[i]] = newvals` or, if columns are non-unique, `df.isetitem(i, newvals)`\n",
      "  data.loc[:, 'D19_LETZTER_KAUF_BRANCHE'] = pd.Categorical(\n"
     ]
    },
    {
     "data": {
      "text/plain": "array([ 0, 31, 25, 12, 18, 26,  2, 34, 11, 15,  9, 33, 32, 29,  1,  4, 19,\n       16,  6, 24, 28, 23,  5, 27, 21, 10, 20, 22, 30, 17,  8, 13, 35, 14,\n        7,  3], dtype=int8)"
     },
     "execution_count": 28,
     "metadata": {},
     "output_type": "execute_result"
    }
   ],
   "source": [
    "def clear_d19_letzter_kauf_branche(data):\n",
    "    data.loc[:, 'D19_LETZTER_KAUF_BRANCHE'] = pd.Categorical(\n",
    "            data.loc[:, 'D19_LETZTER_KAUF_BRANCHE']).codes\n",
    "    return data\n",
    "\n",
    "\n",
    "azdias = clear_d19_letzter_kauf_branche(azdias)\n",
    "azdias.loc[:, non_num_cols[3]].unique()"
   ],
   "metadata": {
    "collapsed": false,
    "pycharm": {
     "name": "#%%\n"
    }
   }
  },
  {
   "cell_type": "markdown",
   "source": [
    "###### EINGEFUEGT_AM\n",
    "This feature is just a date, which should be transformed in to a propper datetime object. But since we will not use this feature, we will drop that column."
   ],
   "metadata": {
    "collapsed": false,
    "pycharm": {
     "name": "#%% md\n"
    }
   }
  },
  {
   "cell_type": "code",
   "execution_count": 29,
   "outputs": [
    {
     "data": {
      "text/plain": "array(['1992-02-10 00:00:00', '1992-02-12 00:00:00',\n       '1997-04-21 00:00:00', ..., '1994-10-24 00:00:00',\n       '2000-03-09 00:00:00', '2005-03-19 00:00:00'], dtype=object)"
     },
     "execution_count": 29,
     "metadata": {},
     "output_type": "execute_result"
    }
   ],
   "source": [
    "azdias.loc[:, non_num_cols[4]].unique()"
   ],
   "metadata": {
    "collapsed": false,
    "pycharm": {
     "name": "#%%\n"
    }
   }
  },
  {
   "cell_type": "code",
   "execution_count": 30,
   "outputs": [
    {
     "data": {
      "text/plain": "1         1992-02-10 00:00:00\n2         1992-02-12 00:00:00\n3         1997-04-21 00:00:00\n4         1992-02-12 00:00:00\n5         1992-02-12 00:00:00\n                 ...         \n891216    1992-02-10 00:00:00\n891217    1992-02-10 00:00:00\n891218    1992-02-10 00:00:00\n891219    1992-02-12 00:00:00\n891220    1992-02-10 00:00:00\nName: EINGEFUEGT_AM, Length: 751331, dtype: object"
     },
     "execution_count": 30,
     "metadata": {},
     "output_type": "execute_result"
    }
   ],
   "source": [
    "azdias.loc[:, 'EINGEFUEGT_AM']"
   ],
   "metadata": {
    "collapsed": false,
    "pycharm": {
     "name": "#%%\n"
    }
   }
  },
  {
   "cell_type": "code",
   "execution_count": 31,
   "outputs": [
    {
     "data": {
      "text/plain": "           LNR  AGER_TYP  AKT_DAT_KL  ALTER_HH  ALTER_KIND1  ALTER_KIND2  \\\n1       910220        -1         9.0       0.0         -1.0         -1.0   \n2       910225        -1         9.0      17.0         -1.0         -1.0   \n3       910226         2         1.0      13.0         -1.0         -1.0   \n4       910241        -1         1.0      20.0         -1.0         -1.0   \n5       910244         3         1.0      10.0         -1.0         -1.0   \n...        ...       ...         ...       ...          ...          ...   \n891216  825761        -1         5.0      17.0         -1.0         -1.0   \n891217  825771        -1         9.0      16.0         -1.0         -1.0   \n891218  825772        -1         1.0      17.0         -1.0         -1.0   \n891219  825776        -1         9.0       0.0         17.0         -1.0   \n891220  825787        -1         1.0       0.0         -1.0         -1.0   \n\n        ALTER_KIND3  ALTER_KIND4  ALTERSKATEGORIE_FEIN  ANZ_HAUSHALTE_AKTIV  \\\n1              -1.0         -1.0                  21.0                 11.0   \n2              -1.0         -1.0                  17.0                 10.0   \n3              -1.0         -1.0                  13.0                  1.0   \n4              -1.0         -1.0                  14.0                  3.0   \n5              -1.0         -1.0                  10.0                  5.0   \n...             ...          ...                   ...                  ...   \n891216         -1.0         -1.0                  17.0                 15.0   \n891217         -1.0         -1.0                  16.0                 11.0   \n891218         -1.0         -1.0                  17.0                  3.0   \n891219         -1.0         -1.0                  20.0                  7.0   \n891220         -1.0         -1.0                  -1.0                 10.0   \n\n        ...  VHN  VK_DHT4A  VK_DISTANZ  VK_ZG11  W_KEIT_KIND_HH  \\\n1       ...  4.0       8.0        11.0     10.0             3.0   \n2       ...  2.0       9.0         9.0      6.0             3.0   \n3       ...  0.0       7.0        10.0     11.0            -1.0   \n4       ...  2.0       3.0         5.0      4.0             2.0   \n5       ...  2.0      10.0         7.0      4.0             6.0   \n...     ...  ...       ...         ...      ...             ...   \n891216  ...  2.0       4.0         7.0      8.0             3.0   \n891217  ...  4.0       6.0         9.0      6.0             6.0   \n891218  ...  2.0       7.0        10.0      8.0            -1.0   \n891219  ...  4.0       9.0         8.0      5.0             1.0   \n891220  ...  3.0       8.0        10.0      7.0             6.0   \n\n        WOHNDAUER_2008  WOHNLAGE  ZABEOTYP  ANREDE_KZ  ALTERSKATEGORIE_GROB  \n1                  9.0       4.0         5          2                     1  \n2                  9.0       2.0         5          2                     3  \n3                  9.0       7.0         3          2                     4  \n4                  9.0       3.0         4          1                     3  \n5                  9.0       7.0         4          2                     1  \n...                ...       ...       ...        ...                   ...  \n891216             4.0       3.0         4          2                     3  \n891217             9.0       5.0         6          1                     2  \n891218             5.0       7.0         4          2                     2  \n891219             9.0       5.0         5          1                     1  \n891220             3.0       4.0         3          1                     4  \n\n[751331 rows x 365 columns]",
      "text/html": "<div>\n<style scoped>\n    .dataframe tbody tr th:only-of-type {\n        vertical-align: middle;\n    }\n\n    .dataframe tbody tr th {\n        vertical-align: top;\n    }\n\n    .dataframe thead th {\n        text-align: right;\n    }\n</style>\n<table border=\"1\" class=\"dataframe\">\n  <thead>\n    <tr style=\"text-align: right;\">\n      <th></th>\n      <th>LNR</th>\n      <th>AGER_TYP</th>\n      <th>AKT_DAT_KL</th>\n      <th>ALTER_HH</th>\n      <th>ALTER_KIND1</th>\n      <th>ALTER_KIND2</th>\n      <th>ALTER_KIND3</th>\n      <th>ALTER_KIND4</th>\n      <th>ALTERSKATEGORIE_FEIN</th>\n      <th>ANZ_HAUSHALTE_AKTIV</th>\n      <th>...</th>\n      <th>VHN</th>\n      <th>VK_DHT4A</th>\n      <th>VK_DISTANZ</th>\n      <th>VK_ZG11</th>\n      <th>W_KEIT_KIND_HH</th>\n      <th>WOHNDAUER_2008</th>\n      <th>WOHNLAGE</th>\n      <th>ZABEOTYP</th>\n      <th>ANREDE_KZ</th>\n      <th>ALTERSKATEGORIE_GROB</th>\n    </tr>\n  </thead>\n  <tbody>\n    <tr>\n      <th>1</th>\n      <td>910220</td>\n      <td>-1</td>\n      <td>9.0</td>\n      <td>0.0</td>\n      <td>-1.0</td>\n      <td>-1.0</td>\n      <td>-1.0</td>\n      <td>-1.0</td>\n      <td>21.0</td>\n      <td>11.0</td>\n      <td>...</td>\n      <td>4.0</td>\n      <td>8.0</td>\n      <td>11.0</td>\n      <td>10.0</td>\n      <td>3.0</td>\n      <td>9.0</td>\n      <td>4.0</td>\n      <td>5</td>\n      <td>2</td>\n      <td>1</td>\n    </tr>\n    <tr>\n      <th>2</th>\n      <td>910225</td>\n      <td>-1</td>\n      <td>9.0</td>\n      <td>17.0</td>\n      <td>-1.0</td>\n      <td>-1.0</td>\n      <td>-1.0</td>\n      <td>-1.0</td>\n      <td>17.0</td>\n      <td>10.0</td>\n      <td>...</td>\n      <td>2.0</td>\n      <td>9.0</td>\n      <td>9.0</td>\n      <td>6.0</td>\n      <td>3.0</td>\n      <td>9.0</td>\n      <td>2.0</td>\n      <td>5</td>\n      <td>2</td>\n      <td>3</td>\n    </tr>\n    <tr>\n      <th>3</th>\n      <td>910226</td>\n      <td>2</td>\n      <td>1.0</td>\n      <td>13.0</td>\n      <td>-1.0</td>\n      <td>-1.0</td>\n      <td>-1.0</td>\n      <td>-1.0</td>\n      <td>13.0</td>\n      <td>1.0</td>\n      <td>...</td>\n      <td>0.0</td>\n      <td>7.0</td>\n      <td>10.0</td>\n      <td>11.0</td>\n      <td>-1.0</td>\n      <td>9.0</td>\n      <td>7.0</td>\n      <td>3</td>\n      <td>2</td>\n      <td>4</td>\n    </tr>\n    <tr>\n      <th>4</th>\n      <td>910241</td>\n      <td>-1</td>\n      <td>1.0</td>\n      <td>20.0</td>\n      <td>-1.0</td>\n      <td>-1.0</td>\n      <td>-1.0</td>\n      <td>-1.0</td>\n      <td>14.0</td>\n      <td>3.0</td>\n      <td>...</td>\n      <td>2.0</td>\n      <td>3.0</td>\n      <td>5.0</td>\n      <td>4.0</td>\n      <td>2.0</td>\n      <td>9.0</td>\n      <td>3.0</td>\n      <td>4</td>\n      <td>1</td>\n      <td>3</td>\n    </tr>\n    <tr>\n      <th>5</th>\n      <td>910244</td>\n      <td>3</td>\n      <td>1.0</td>\n      <td>10.0</td>\n      <td>-1.0</td>\n      <td>-1.0</td>\n      <td>-1.0</td>\n      <td>-1.0</td>\n      <td>10.0</td>\n      <td>5.0</td>\n      <td>...</td>\n      <td>2.0</td>\n      <td>10.0</td>\n      <td>7.0</td>\n      <td>4.0</td>\n      <td>6.0</td>\n      <td>9.0</td>\n      <td>7.0</td>\n      <td>4</td>\n      <td>2</td>\n      <td>1</td>\n    </tr>\n    <tr>\n      <th>...</th>\n      <td>...</td>\n      <td>...</td>\n      <td>...</td>\n      <td>...</td>\n      <td>...</td>\n      <td>...</td>\n      <td>...</td>\n      <td>...</td>\n      <td>...</td>\n      <td>...</td>\n      <td>...</td>\n      <td>...</td>\n      <td>...</td>\n      <td>...</td>\n      <td>...</td>\n      <td>...</td>\n      <td>...</td>\n      <td>...</td>\n      <td>...</td>\n      <td>...</td>\n      <td>...</td>\n    </tr>\n    <tr>\n      <th>891216</th>\n      <td>825761</td>\n      <td>-1</td>\n      <td>5.0</td>\n      <td>17.0</td>\n      <td>-1.0</td>\n      <td>-1.0</td>\n      <td>-1.0</td>\n      <td>-1.0</td>\n      <td>17.0</td>\n      <td>15.0</td>\n      <td>...</td>\n      <td>2.0</td>\n      <td>4.0</td>\n      <td>7.0</td>\n      <td>8.0</td>\n      <td>3.0</td>\n      <td>4.0</td>\n      <td>3.0</td>\n      <td>4</td>\n      <td>2</td>\n      <td>3</td>\n    </tr>\n    <tr>\n      <th>891217</th>\n      <td>825771</td>\n      <td>-1</td>\n      <td>9.0</td>\n      <td>16.0</td>\n      <td>-1.0</td>\n      <td>-1.0</td>\n      <td>-1.0</td>\n      <td>-1.0</td>\n      <td>16.0</td>\n      <td>11.0</td>\n      <td>...</td>\n      <td>4.0</td>\n      <td>6.0</td>\n      <td>9.0</td>\n      <td>6.0</td>\n      <td>6.0</td>\n      <td>9.0</td>\n      <td>5.0</td>\n      <td>6</td>\n      <td>1</td>\n      <td>2</td>\n    </tr>\n    <tr>\n      <th>891218</th>\n      <td>825772</td>\n      <td>-1</td>\n      <td>1.0</td>\n      <td>17.0</td>\n      <td>-1.0</td>\n      <td>-1.0</td>\n      <td>-1.0</td>\n      <td>-1.0</td>\n      <td>17.0</td>\n      <td>3.0</td>\n      <td>...</td>\n      <td>2.0</td>\n      <td>7.0</td>\n      <td>10.0</td>\n      <td>8.0</td>\n      <td>-1.0</td>\n      <td>5.0</td>\n      <td>7.0</td>\n      <td>4</td>\n      <td>2</td>\n      <td>2</td>\n    </tr>\n    <tr>\n      <th>891219</th>\n      <td>825776</td>\n      <td>-1</td>\n      <td>9.0</td>\n      <td>0.0</td>\n      <td>17.0</td>\n      <td>-1.0</td>\n      <td>-1.0</td>\n      <td>-1.0</td>\n      <td>20.0</td>\n      <td>7.0</td>\n      <td>...</td>\n      <td>4.0</td>\n      <td>9.0</td>\n      <td>8.0</td>\n      <td>5.0</td>\n      <td>1.0</td>\n      <td>9.0</td>\n      <td>5.0</td>\n      <td>5</td>\n      <td>1</td>\n      <td>1</td>\n    </tr>\n    <tr>\n      <th>891220</th>\n      <td>825787</td>\n      <td>-1</td>\n      <td>1.0</td>\n      <td>0.0</td>\n      <td>-1.0</td>\n      <td>-1.0</td>\n      <td>-1.0</td>\n      <td>-1.0</td>\n      <td>-1.0</td>\n      <td>10.0</td>\n      <td>...</td>\n      <td>3.0</td>\n      <td>8.0</td>\n      <td>10.0</td>\n      <td>7.0</td>\n      <td>6.0</td>\n      <td>3.0</td>\n      <td>4.0</td>\n      <td>3</td>\n      <td>1</td>\n      <td>4</td>\n    </tr>\n  </tbody>\n</table>\n<p>751331 rows × 365 columns</p>\n</div>"
     },
     "execution_count": 31,
     "metadata": {},
     "output_type": "execute_result"
    }
   ],
   "source": [
    "azdias.drop('EINGEFUEGT_AM', axis=1)"
   ],
   "metadata": {
    "collapsed": false,
    "pycharm": {
     "name": "#%%\n"
    }
   }
  },
  {
   "cell_type": "markdown",
   "source": [
    "###### OST_WEST_KZ\n",
    "Here we have the same issue as with `D19_LETZTER_KAUF_BRANCHE`, therefore, we are going to clear them the same way."
   ],
   "metadata": {
    "collapsed": false,
    "pycharm": {
     "name": "#%% md\n"
    }
   }
  },
  {
   "cell_type": "code",
   "execution_count": 32,
   "outputs": [
    {
     "data": {
      "text/plain": "array(['W', 'O'], dtype=object)"
     },
     "execution_count": 32,
     "metadata": {},
     "output_type": "execute_result"
    }
   ],
   "source": [
    "azdias.loc[:, non_num_cols[5]].unique()"
   ],
   "metadata": {
    "collapsed": false,
    "pycharm": {
     "name": "#%%\n"
    }
   }
  },
  {
   "cell_type": "code",
   "execution_count": 33,
   "outputs": [
    {
     "name": "stderr",
     "output_type": "stream",
     "text": [
      "C:\\Users\\K35400\\AppData\\Local\\Temp\\ipykernel_28308\\884617078.py:2: DeprecationWarning: In a future version, `df.iloc[:, i] = newvals` will attempt to set the values inplace instead of always setting a new array. To retain the old behavior, use either `df[df.columns[i]] = newvals` or, if columns are non-unique, `df.isetitem(i, newvals)`\n",
      "  data.loc[:, 'OST_WEST_KZ'] = pd.Categorical(\n"
     ]
    },
    {
     "data": {
      "text/plain": "array([1, 0], dtype=int8)"
     },
     "execution_count": 33,
     "metadata": {},
     "output_type": "execute_result"
    }
   ],
   "source": [
    "def clear_ost_west_kz(data):\n",
    "    data.loc[:, 'OST_WEST_KZ'] = pd.Categorical(\n",
    "            data.loc[:, 'OST_WEST_KZ']).codes\n",
    "    return data\n",
    "\n",
    "\n",
    "azdias = clear_ost_west_kz(azdias)\n",
    "azdias.loc[:, non_num_cols[5]].unique()"
   ],
   "metadata": {
    "collapsed": false,
    "pycharm": {
     "name": "#%%\n"
    }
   }
  },
  {
   "cell_type": "markdown",
   "source": [
    "### Summary\n",
    "We will summarize the cleaning progress in an overall cleaning function and we are going to test that on the customer dataset."
   ],
   "metadata": {
    "collapsed": false,
    "pycharm": {
     "name": "#%% md\n"
    }
   }
  },
  {
   "cell_type": "code",
   "execution_count": 34,
   "outputs": [],
   "source": [
    "common_columns = azdias.columns\n",
    "\n",
    "def clear_data(data):\n",
    "    temp_data = data.loc[:, common_columns]\n",
    "    temp_data = handle_nans(temp_data)\n",
    "    temp_data = clear_categorical_data(temp_data)\n",
    "\n",
    "    return temp_data\n",
    "\n",
    "\n",
    "def clear_categorical_data(data):\n",
    "    data = clear_cameo_deu_2015_data(data)\n",
    "    data = clear_cameo_deug_2015_data(data)\n",
    "    data = clear_cameo_intl_2015_data(data)\n",
    "    data = clear_d19_letzter_kauf_branche(data)\n",
    "    data = clear_ost_west_kz(data)\n",
    "    return data\n",
    "\n",
    "\n",
    "def handle_nans(data):\n",
    "    data = replace_unknowns(data)\n",
    "    data = drop_useless_rows(data)\n",
    "    data = replace_nans(data)\n",
    "    return data\n",
    "\n",
    "\n",
    "def test_data_types(data):\n",
    "    return (data.dtypes != 'object').any()\n"
   ],
   "metadata": {
    "collapsed": false,
    "pycharm": {
     "name": "#%%\n"
    }
   }
  },
  {
   "cell_type": "code",
   "execution_count": 35,
   "outputs": [
    {
     "name": "stderr",
     "output_type": "stream",
     "text": [
      "C:\\Users\\K35400\\AppData\\Local\\Temp\\ipykernel_28308\\3161604245.py:6: DeprecationWarning: In a future version, `df.iloc[:, i] = newvals` will attempt to set the values inplace instead of always setting a new array. To retain the old behavior, use either `df[df.columns[i]] = newvals` or, if columns are non-unique, `df.isetitem(i, newvals)`\n",
      "  data.loc[:, 'CAMEO_DEU_2015'] = data.loc[:, 'CAMEO_DEU_2015'].astype(int)\n",
      "C:\\Users\\K35400\\AppData\\Local\\Temp\\ipykernel_28308\\2393891728.py:5: DeprecationWarning: In a future version, `df.iloc[:, i] = newvals` will attempt to set the values inplace instead of always setting a new array. To retain the old behavior, use either `df[df.columns[i]] = newvals` or, if columns are non-unique, `df.isetitem(i, newvals)`\n",
      "  data.loc[:, 'CAMEO_DEUG_2015'] = data.loc[:, 'CAMEO_DEUG_2015'].astype(int)\n",
      "C:\\Users\\K35400\\AppData\\Local\\Temp\\ipykernel_28308\\3276071408.py:2: DeprecationWarning: In a future version, `df.iloc[:, i] = newvals` will attempt to set the values inplace instead of always setting a new array. To retain the old behavior, use either `df[df.columns[i]] = newvals` or, if columns are non-unique, `df.isetitem(i, newvals)`\n",
      "  data.loc[:, 'D19_LETZTER_KAUF_BRANCHE'] = pd.Categorical(\n",
      "C:\\Users\\K35400\\AppData\\Local\\Temp\\ipykernel_28308\\884617078.py:2: DeprecationWarning: In a future version, `df.iloc[:, i] = newvals` will attempt to set the values inplace instead of always setting a new array. To retain the old behavior, use either `df[df.columns[i]] = newvals` or, if columns are non-unique, `df.isetitem(i, newvals)`\n",
      "  data.loc[:, 'OST_WEST_KZ'] = pd.Categorical(\n"
     ]
    }
   ],
   "source": [
    "customers = clear_data(customers)"
   ],
   "metadata": {
    "collapsed": false,
    "pycharm": {
     "name": "#%%\n"
    }
   }
  },
  {
   "cell_type": "code",
   "execution_count": 36,
   "outputs": [
    {
     "data": {
      "text/plain": "      LNR  AGER_TYP  AKT_DAT_KL  ALTER_HH  ALTER_KIND1  ALTER_KIND2  \\\n0    9626         2         1.0      10.0         -1.0         -1.0   \n2  143872        -1         1.0       6.0         -1.0         -1.0   \n3  143873         1         1.0       8.0         -1.0         -1.0   \n4  143874        -1         1.0      20.0         -1.0         -1.0   \n5  143888         1         1.0      11.0         -1.0         -1.0   \n\n   ALTER_KIND3  ALTER_KIND4  ALTERSKATEGORIE_FEIN  ANZ_HAUSHALTE_AKTIV  ...  \\\n0         -1.0         -1.0                  10.0                  1.0  ...   \n2         -1.0         -1.0                   0.0                  1.0  ...   \n3         -1.0         -1.0                   8.0                  0.0  ...   \n4         -1.0         -1.0                  14.0                  7.0  ...   \n5         -1.0         -1.0                  10.0                  1.0  ...   \n\n   VHN  VK_DHT4A  VK_DISTANZ  VK_ZG11  W_KEIT_KIND_HH  WOHNDAUER_2008  \\\n0  3.0       5.0         3.0      2.0             6.0             9.0   \n2  4.0      10.0        13.0     11.0             6.0             9.0   \n3  2.0       6.0         4.0      2.0            -1.0             9.0   \n4  4.0       3.0         5.0      4.0             2.0             9.0   \n5  4.0       1.0         2.0      1.0             6.0             9.0   \n\n   WOHNLAGE  ZABEOTYP  ANREDE_KZ  ALTERSKATEGORIE_GROB  \n0       7.0         3          1                     4  \n2       2.0         3          2                     4  \n3       7.0         1          1                     4  \n4       3.0         1          1                     3  \n5       1.0         2          1                     3  \n\n[5 rows x 366 columns]",
      "text/html": "<div>\n<style scoped>\n    .dataframe tbody tr th:only-of-type {\n        vertical-align: middle;\n    }\n\n    .dataframe tbody tr th {\n        vertical-align: top;\n    }\n\n    .dataframe thead th {\n        text-align: right;\n    }\n</style>\n<table border=\"1\" class=\"dataframe\">\n  <thead>\n    <tr style=\"text-align: right;\">\n      <th></th>\n      <th>LNR</th>\n      <th>AGER_TYP</th>\n      <th>AKT_DAT_KL</th>\n      <th>ALTER_HH</th>\n      <th>ALTER_KIND1</th>\n      <th>ALTER_KIND2</th>\n      <th>ALTER_KIND3</th>\n      <th>ALTER_KIND4</th>\n      <th>ALTERSKATEGORIE_FEIN</th>\n      <th>ANZ_HAUSHALTE_AKTIV</th>\n      <th>...</th>\n      <th>VHN</th>\n      <th>VK_DHT4A</th>\n      <th>VK_DISTANZ</th>\n      <th>VK_ZG11</th>\n      <th>W_KEIT_KIND_HH</th>\n      <th>WOHNDAUER_2008</th>\n      <th>WOHNLAGE</th>\n      <th>ZABEOTYP</th>\n      <th>ANREDE_KZ</th>\n      <th>ALTERSKATEGORIE_GROB</th>\n    </tr>\n  </thead>\n  <tbody>\n    <tr>\n      <th>0</th>\n      <td>9626</td>\n      <td>2</td>\n      <td>1.0</td>\n      <td>10.0</td>\n      <td>-1.0</td>\n      <td>-1.0</td>\n      <td>-1.0</td>\n      <td>-1.0</td>\n      <td>10.0</td>\n      <td>1.0</td>\n      <td>...</td>\n      <td>3.0</td>\n      <td>5.0</td>\n      <td>3.0</td>\n      <td>2.0</td>\n      <td>6.0</td>\n      <td>9.0</td>\n      <td>7.0</td>\n      <td>3</td>\n      <td>1</td>\n      <td>4</td>\n    </tr>\n    <tr>\n      <th>2</th>\n      <td>143872</td>\n      <td>-1</td>\n      <td>1.0</td>\n      <td>6.0</td>\n      <td>-1.0</td>\n      <td>-1.0</td>\n      <td>-1.0</td>\n      <td>-1.0</td>\n      <td>0.0</td>\n      <td>1.0</td>\n      <td>...</td>\n      <td>4.0</td>\n      <td>10.0</td>\n      <td>13.0</td>\n      <td>11.0</td>\n      <td>6.0</td>\n      <td>9.0</td>\n      <td>2.0</td>\n      <td>3</td>\n      <td>2</td>\n      <td>4</td>\n    </tr>\n    <tr>\n      <th>3</th>\n      <td>143873</td>\n      <td>1</td>\n      <td>1.0</td>\n      <td>8.0</td>\n      <td>-1.0</td>\n      <td>-1.0</td>\n      <td>-1.0</td>\n      <td>-1.0</td>\n      <td>8.0</td>\n      <td>0.0</td>\n      <td>...</td>\n      <td>2.0</td>\n      <td>6.0</td>\n      <td>4.0</td>\n      <td>2.0</td>\n      <td>-1.0</td>\n      <td>9.0</td>\n      <td>7.0</td>\n      <td>1</td>\n      <td>1</td>\n      <td>4</td>\n    </tr>\n    <tr>\n      <th>4</th>\n      <td>143874</td>\n      <td>-1</td>\n      <td>1.0</td>\n      <td>20.0</td>\n      <td>-1.0</td>\n      <td>-1.0</td>\n      <td>-1.0</td>\n      <td>-1.0</td>\n      <td>14.0</td>\n      <td>7.0</td>\n      <td>...</td>\n      <td>4.0</td>\n      <td>3.0</td>\n      <td>5.0</td>\n      <td>4.0</td>\n      <td>2.0</td>\n      <td>9.0</td>\n      <td>3.0</td>\n      <td>1</td>\n      <td>1</td>\n      <td>3</td>\n    </tr>\n    <tr>\n      <th>5</th>\n      <td>143888</td>\n      <td>1</td>\n      <td>1.0</td>\n      <td>11.0</td>\n      <td>-1.0</td>\n      <td>-1.0</td>\n      <td>-1.0</td>\n      <td>-1.0</td>\n      <td>10.0</td>\n      <td>1.0</td>\n      <td>...</td>\n      <td>4.0</td>\n      <td>1.0</td>\n      <td>2.0</td>\n      <td>1.0</td>\n      <td>6.0</td>\n      <td>9.0</td>\n      <td>1.0</td>\n      <td>2</td>\n      <td>1</td>\n      <td>3</td>\n    </tr>\n  </tbody>\n</table>\n<p>5 rows × 366 columns</p>\n</div>"
     },
     "execution_count": 36,
     "metadata": {},
     "output_type": "execute_result"
    }
   ],
   "source": [
    "customers.head()"
   ],
   "metadata": {
    "collapsed": false,
    "pycharm": {
     "name": "#%%\n"
    }
   }
  },
  {
   "cell_type": "code",
   "execution_count": 37,
   "outputs": [
    {
     "data": {
      "text/plain": "True"
     },
     "execution_count": 37,
     "metadata": {},
     "output_type": "execute_result"
    }
   ],
   "source": [
    "test_data_types(customers)"
   ],
   "metadata": {
    "collapsed": false,
    "pycharm": {
     "name": "#%%\n"
    }
   }
  },
  {
   "cell_type": "code",
   "execution_count": 38,
   "outputs": [],
   "source": [
    "azdias = clear_data(azdias)"
   ],
   "metadata": {
    "collapsed": false,
    "pycharm": {
     "name": "#%%\n"
    }
   }
  },
  {
   "cell_type": "code",
   "execution_count": 39,
   "outputs": [
    {
     "name": "stderr",
     "output_type": "stream",
     "text": [
      "C:\\Users\\K35400\\AppData\\Local\\Temp\\ipykernel_28308\\605984874.py:1: FutureWarning: The default value of numeric_only in DataFrame.corr is deprecated. In a future version, it will default to False. Select only valid columns or specify the value of numeric_only to silence this warning.\n",
      "  corr_mat = azdias.iloc[::50].corr()\n"
     ]
    }
   ],
   "source": [
    "corr_mat = azdias.iloc[::50].corr()"
   ],
   "metadata": {
    "collapsed": false,
    "pycharm": {
     "name": "#%%\n"
    }
   }
  },
  {
   "cell_type": "code",
   "execution_count": 40,
   "outputs": [
    {
     "data": {
      "text/plain": "<Figure size 1000x1000 with 2 Axes>",
      "image/png": "[encoded data removed]"
     },
     "metadata": {},
     "output_type": "display_data"
    }
   ],
   "source": [
    "fig = plt.figure(figsize=(10,10))\n",
    "plt.matshow(corr_mat, fignum=1)\n",
    "plt.colorbar()\n",
    "plt.clim([-1,1])\n",
    "plt.show()\n",
    "fig.savefig('blogpost/pictures/correlation_matrics.png')"
   ],
   "metadata": {
    "collapsed": false,
    "pycharm": {
     "name": "#%%\n"
    }
   }
  },
  {
   "cell_type": "code",
   "execution_count": 41,
   "outputs": [
    {
     "data": {
      "text/plain": "Index(['KBA05_HERST4', 'KBA05_HERST5', 'KBA05_HERSTTEMP', 'KBA05_KRSAQUOT',\n       'KBA05_KRSHERST1', 'KBA05_KRSHERST2', 'KBA05_KRSHERST3',\n       'KBA05_KRSKLEIN', 'KBA05_KRSOBER', 'KBA05_KRSVAN', 'KBA05_KRSZUL',\n       'KBA05_KW1', 'KBA05_KW2', 'KBA05_KW3', 'KBA05_MAXAH', 'KBA05_MAXBJ',\n       'KBA05_MAXHERST', 'KBA05_MAXSEG', 'KBA05_MAXVORB', 'KBA05_MOD1'],\n      dtype='object')"
     },
     "execution_count": 41,
     "metadata": {},
     "output_type": "execute_result"
    }
   ],
   "source": [
    "azdias.iloc[:10,140:160].columns"
   ],
   "metadata": {
    "collapsed": false,
    "pycharm": {
     "name": "#%%\n"
    }
   }
  },
  {
   "cell_type": "markdown",
   "metadata": {
    "pycharm": {
     "name": "#%% md\n"
    }
   },
   "source": [
    "## Part 1: Customer Segmentation Report\n",
    "\n",
    "The main bulk of your analysis will come in this part of the project. Here, you should use unsupervised learning techniques to describe the relationship between the demographics of the company's existing customers and the general population of Germany. By the end of this part, you should be able to describe parts of the general population that are more likely to be part of the mail-order company's main customer base, and which parts of the general population are less so."
   ]
  },
  {
   "cell_type": "markdown",
   "source": [
    "### Methodology\n",
    "Since we have a lot of features and do not know their relevance regarding possible customers, we will keep all features. Most machine learning algorithms have a very long training time, we wil reduce the features, while still keeping the relevant information in the data.\n",
    "To do so, we will reduce the dimension of the data using different dimension common dimension reduction algorithms like PCA, and ICA.\n",
    "\n",
    "After we reduced the dimension of the data, we are going to cluster the data using the population data (`azdias`) and then predict the cluster for the customer dataset to see, if we can see differences in the distribution of the clusters.\n",
    "Based on which dimension reduction algorithm helps"
   ],
   "metadata": {
    "collapsed": false,
    "pycharm": {
     "name": "#%% md\n"
    }
   }
  },
  {
   "cell_type": "code",
   "execution_count": 42,
   "outputs": [],
   "source": [
    "from sklearn.cluster import DBSCAN, KMeans\n",
    "from sklearn.decomposition import KernelPCA, FastICA, PCA\n",
    "from sklearn.metrics.pairwise import manhattan_distances\n",
    "\n",
    "cluster_pipeline_ica = Pipeline([\n",
    "                                ('scaler', StandardScaler()),\n",
    "                                ('dim_reduction', FastICA(n_components=120, max_iter=300)),\n",
    "                                ('cluster', KMeans(n_clusters=12, n_init=15, max_iter=200, verbose=1))\n",
    "                               ])\n",
    "\n",
    "cluster_pipeline_pca = Pipeline([\n",
    "                                ('scaler', StandardScaler()),\n",
    "                                ('dim_reduction', PCA(n_components=0.90)),\n",
    "                                ('cluster', KMeans(n_clusters=12, n_init=15, max_iter=200, verbose=1))\n",
    "                               ])\n",
    "\n",
    "\n",
    "def run_pipeline(pipeline, population, customers, plot_me=True):\n",
    "    print('fitting pipeline')\n",
    "    pipeline.fit(population)\n",
    "\n",
    "    print('predicting for customers')\n",
    "    index_cluster_customer = pipeline.predict(customers)\n",
    "    index_cluster_customer = pd.DataFrame(index_cluster_customer)\n",
    "\n",
    "    print('predicting for population')\n",
    "    # get cluster density for whole population\n",
    "    index_cluster_population = pipeline.predict(population)\n",
    "    index_cluster_population = pd.DataFrame(index_cluster_population)\n",
    "\n",
    "    if plot_me:\n",
    "        print('plotting...')\n",
    "        fig, ax = plt.subplots(1,2,sharex=True, figsize=(12, 4))\n",
    "\n",
    "        ax[0].hist(index_cluster_population, bins=12);\n",
    "        ax[0].set_title('Cluster distribution for whole population')\n",
    "\n",
    "        ax[1].hist(index_cluster_customer, bins=12);\n",
    "        ax[1].set_title('Cluster distribution for customers');\n",
    "\n",
    "    return pipeline\n",
    "\n",
    "import warnings\n",
    "warnings.filterwarnings('ignore')"
   ],
   "metadata": {
    "collapsed": false,
    "pycharm": {
     "name": "#%%\n"
    }
   }
  },
  {
   "cell_type": "markdown",
   "source": [
    "###### ICA + KMeans"
   ],
   "metadata": {
    "collapsed": false,
    "pycharm": {
     "name": "#%% md\n"
    }
   }
  },
  {
   "cell_type": "code",
   "execution_count": 43,
   "outputs": [],
   "source": [
    "from time import perf_counter"
   ],
   "metadata": {
    "collapsed": false,
    "pycharm": {
     "name": "#%%\n"
    }
   }
  },
  {
   "cell_type": "code",
   "execution_count": 44,
   "outputs": [
    {
     "data": {
      "text/plain": "      LNR  AGER_TYP  AKT_DAT_KL  ALTER_HH  ALTER_KIND1  ALTER_KIND2  \\\n1  910220        -1         9.0       0.0         -1.0         -1.0   \n2  910225        -1         9.0      17.0         -1.0         -1.0   \n3  910226         2         1.0      13.0         -1.0         -1.0   \n4  910241        -1         1.0      20.0         -1.0         -1.0   \n5  910244         3         1.0      10.0         -1.0         -1.0   \n\n   ALTER_KIND3  ALTER_KIND4  ALTERSKATEGORIE_FEIN  ANZ_HAUSHALTE_AKTIV  ...  \\\n1         -1.0         -1.0                  21.0                 11.0  ...   \n2         -1.0         -1.0                  17.0                 10.0  ...   \n3         -1.0         -1.0                  13.0                  1.0  ...   \n4         -1.0         -1.0                  14.0                  3.0  ...   \n5         -1.0         -1.0                  10.0                  5.0  ...   \n\n   VHN  VK_DHT4A  VK_DISTANZ  VK_ZG11  W_KEIT_KIND_HH  WOHNDAUER_2008  \\\n1  4.0       8.0        11.0     10.0             3.0             9.0   \n2  2.0       9.0         9.0      6.0             3.0             9.0   \n3  0.0       7.0        10.0     11.0            -1.0             9.0   \n4  2.0       3.0         5.0      4.0             2.0             9.0   \n5  2.0      10.0         7.0      4.0             6.0             9.0   \n\n   WOHNLAGE  ZABEOTYP  ANREDE_KZ  ALTERSKATEGORIE_GROB  \n1       4.0         5          2                     1  \n2       2.0         5          2                     3  \n3       7.0         3          2                     4  \n4       3.0         4          1                     3  \n5       7.0         4          2                     1  \n\n[5 rows x 366 columns]",
      "text/html": "<div>\n<style scoped>\n    .dataframe tbody tr th:only-of-type {\n        vertical-align: middle;\n    }\n\n    .dataframe tbody tr th {\n        vertical-align: top;\n    }\n\n    .dataframe thead th {\n        text-align: right;\n    }\n</style>\n<table border=\"1\" class=\"dataframe\">\n  <thead>\n    <tr style=\"text-align: right;\">\n      <th></th>\n      <th>LNR</th>\n      <th>AGER_TYP</th>\n      <th>AKT_DAT_KL</th>\n      <th>ALTER_HH</th>\n      <th>ALTER_KIND1</th>\n      <th>ALTER_KIND2</th>\n      <th>ALTER_KIND3</th>\n      <th>ALTER_KIND4</th>\n      <th>ALTERSKATEGORIE_FEIN</th>\n      <th>ANZ_HAUSHALTE_AKTIV</th>\n      <th>...</th>\n      <th>VHN</th>\n      <th>VK_DHT4A</th>\n      <th>VK_DISTANZ</th>\n      <th>VK_ZG11</th>\n      <th>W_KEIT_KIND_HH</th>\n      <th>WOHNDAUER_2008</th>\n      <th>WOHNLAGE</th>\n      <th>ZABEOTYP</th>\n      <th>ANREDE_KZ</th>\n      <th>ALTERSKATEGORIE_GROB</th>\n    </tr>\n  </thead>\n  <tbody>\n    <tr>\n      <th>1</th>\n      <td>910220</td>\n      <td>-1</td>\n      <td>9.0</td>\n      <td>0.0</td>\n      <td>-1.0</td>\n      <td>-1.0</td>\n      <td>-1.0</td>\n      <td>-1.0</td>\n      <td>21.0</td>\n      <td>11.0</td>\n      <td>...</td>\n      <td>4.0</td>\n      <td>8.0</td>\n      <td>11.0</td>\n      <td>10.0</td>\n      <td>3.0</td>\n      <td>9.0</td>\n      <td>4.0</td>\n      <td>5</td>\n      <td>2</td>\n      <td>1</td>\n    </tr>\n    <tr>\n      <th>2</th>\n      <td>910225</td>\n      <td>-1</td>\n      <td>9.0</td>\n      <td>17.0</td>\n      <td>-1.0</td>\n      <td>-1.0</td>\n      <td>-1.0</td>\n      <td>-1.0</td>\n      <td>17.0</td>\n      <td>10.0</td>\n      <td>...</td>\n      <td>2.0</td>\n      <td>9.0</td>\n      <td>9.0</td>\n      <td>6.0</td>\n      <td>3.0</td>\n      <td>9.0</td>\n      <td>2.0</td>\n      <td>5</td>\n      <td>2</td>\n      <td>3</td>\n    </tr>\n    <tr>\n      <th>3</th>\n      <td>910226</td>\n      <td>2</td>\n      <td>1.0</td>\n      <td>13.0</td>\n      <td>-1.0</td>\n      <td>-1.0</td>\n      <td>-1.0</td>\n      <td>-1.0</td>\n      <td>13.0</td>\n      <td>1.0</td>\n      <td>...</td>\n      <td>0.0</td>\n      <td>7.0</td>\n      <td>10.0</td>\n      <td>11.0</td>\n      <td>-1.0</td>\n      <td>9.0</td>\n      <td>7.0</td>\n      <td>3</td>\n      <td>2</td>\n      <td>4</td>\n    </tr>\n    <tr>\n      <th>4</th>\n      <td>910241</td>\n      <td>-1</td>\n      <td>1.0</td>\n      <td>20.0</td>\n      <td>-1.0</td>\n      <td>-1.0</td>\n      <td>-1.0</td>\n      <td>-1.0</td>\n      <td>14.0</td>\n      <td>3.0</td>\n      <td>...</td>\n      <td>2.0</td>\n      <td>3.0</td>\n      <td>5.0</td>\n      <td>4.0</td>\n      <td>2.0</td>\n      <td>9.0</td>\n      <td>3.0</td>\n      <td>4</td>\n      <td>1</td>\n      <td>3</td>\n    </tr>\n    <tr>\n      <th>5</th>\n      <td>910244</td>\n      <td>3</td>\n      <td>1.0</td>\n      <td>10.0</td>\n      <td>-1.0</td>\n      <td>-1.0</td>\n      <td>-1.0</td>\n      <td>-1.0</td>\n      <td>10.0</td>\n      <td>5.0</td>\n      <td>...</td>\n      <td>2.0</td>\n      <td>10.0</td>\n      <td>7.0</td>\n      <td>4.0</td>\n      <td>6.0</td>\n      <td>9.0</td>\n      <td>7.0</td>\n      <td>4</td>\n      <td>2</td>\n      <td>1</td>\n    </tr>\n  </tbody>\n</table>\n<p>5 rows × 366 columns</p>\n</div>"
     },
     "execution_count": 44,
     "metadata": {},
     "output_type": "execute_result"
    }
   ],
   "source": [
    "azdias.head()"
   ],
   "metadata": {
    "collapsed": false,
    "pycharm": {
     "name": "#%%\n"
    }
   }
  },
  {
   "cell_type": "code",
   "execution_count": 45,
   "outputs": [
    {
     "name": "stdout",
     "output_type": "stream",
     "text": [
      "fitting pipeline\n",
      "Initialization complete\n",
      "Iteration 0, inertia 166.65988433085587.\n",
      "Iteration 1, inertia 115.67080675804249.\n",
      "Iteration 2, inertia 114.63432954797301.\n",
      "Iteration 3, inertia 114.30564463789678.\n",
      "Iteration 4, inertia 114.05552290376868.\n",
      "Iteration 5, inertia 113.94100833738823.\n",
      "Iteration 6, inertia 113.83347449605347.\n",
      "Iteration 7, inertia 113.67543036282113.\n",
      "Iteration 8, inertia 113.53590318311518.\n",
      "Iteration 9, inertia 113.41593549039384.\n",
      "Iteration 10, inertia 113.32385944647032.\n",
      "Iteration 11, inertia 113.25018339718943.\n",
      "Iteration 12, inertia 113.18869702575506.\n",
      "Iteration 13, inertia 113.14346152029734.\n",
      "Iteration 14, inertia 113.11468800076781.\n",
      "Iteration 15, inertia 113.09766015530707.\n",
      "Iteration 16, inertia 113.08709648381598.\n",
      "Iteration 17, inertia 113.0803771596971.\n",
      "Iteration 18, inertia 113.07552385989841.\n",
      "Iteration 19, inertia 113.07199813427265.\n",
      "Iteration 20, inertia 113.06925540791399.\n",
      "Iteration 21, inertia 113.06735234415473.\n",
      "Iteration 22, inertia 113.06605507071573.\n",
      "Iteration 23, inertia 113.06512999621668.\n",
      "Iteration 24, inertia 113.06443507240601.\n",
      "Iteration 25, inertia 113.0638765024017.\n",
      "Iteration 26, inertia 113.06341738858404.\n",
      "Iteration 27, inertia 113.06310072852496.\n",
      "Iteration 28, inertia 113.06287054331338.\n",
      "Iteration 29, inertia 113.0626904600532.\n",
      "Iteration 30, inertia 113.06254648450971.\n",
      "Iteration 31, inertia 113.06242133601.\n",
      "Iteration 32, inertia 113.06230630989569.\n",
      "Iteration 33, inertia 113.0622251373864.\n",
      "Iteration 34, inertia 113.06216368511174.\n",
      "Iteration 35, inertia 113.0621191504049.\n",
      "Iteration 36, inertia 113.06208988340771.\n",
      "Iteration 37, inertia 113.0620684734269.\n",
      "Converged at iteration 37: center shift 5.65396257816487e-10 within tolerance 6.654821085135028e-10.\n",
      "Initialization complete\n",
      "Iteration 0, inertia 171.23541324931304.\n",
      "Iteration 1, inertia 115.3015515376176.\n",
      "Iteration 2, inertia 114.7186724956201.\n",
      "Iteration 3, inertia 114.3633667958165.\n",
      "Iteration 4, inertia 114.12040127866673.\n",
      "Iteration 5, inertia 113.88939068261.\n",
      "Iteration 6, inertia 113.73817454022547.\n",
      "Iteration 7, inertia 113.57558431059581.\n",
      "Iteration 8, inertia 113.43195970950994.\n",
      "Iteration 9, inertia 113.37510350586857.\n",
      "Iteration 10, inertia 113.35255783445817.\n",
      "Iteration 11, inertia 113.33576855527244.\n",
      "Iteration 12, inertia 113.32155652533089.\n",
      "Iteration 13, inertia 113.30680172356766.\n",
      "Iteration 14, inertia 113.28404632161848.\n",
      "Iteration 15, inertia 113.24035286872207.\n",
      "Iteration 16, inertia 113.14826697949353.\n",
      "Iteration 17, inertia 113.05329238327619.\n",
      "Iteration 18, inertia 113.03308024161052.\n",
      "Iteration 19, inertia 113.02427483650833.\n",
      "Iteration 20, inertia 113.01616663181738.\n",
      "Iteration 21, inertia 113.00825253693017.\n",
      "Iteration 22, inertia 113.00369162464843.\n",
      "Iteration 23, inertia 113.00172899940605.\n",
      "Iteration 24, inertia 112.99997436624471.\n",
      "Iteration 25, inertia 112.9982226618648.\n",
      "Iteration 26, inertia 112.99628815322905.\n",
      "Iteration 27, inertia 112.99405782429176.\n",
      "Iteration 28, inertia 112.99051253315068.\n",
      "Iteration 29, inertia 112.98456417297157.\n",
      "Iteration 30, inertia 112.97710457073839.\n",
      "Iteration 31, inertia 112.96941573837879.\n",
      "Iteration 32, inertia 112.96473480896285.\n",
      "Iteration 33, inertia 112.96297128096109.\n",
      "Iteration 34, inertia 112.96188795237882.\n",
      "Iteration 35, inertia 112.96094896458938.\n",
      "Iteration 36, inertia 112.96005098450333.\n",
      "Iteration 37, inertia 112.95911409695012.\n",
      "Iteration 38, inertia 112.9580916447685.\n",
      "Iteration 39, inertia 112.95707683543509.\n",
      "Iteration 40, inertia 112.95616045809692.\n",
      "Iteration 41, inertia 112.9552912803002.\n",
      "Iteration 42, inertia 112.95451357415705.\n",
      "Iteration 43, inertia 112.95380973275165.\n",
      "Iteration 44, inertia 112.95312819556747.\n",
      "Iteration 45, inertia 112.95259624122245.\n",
      "Iteration 46, inertia 112.95219033436526.\n",
      "Iteration 47, inertia 112.95183679876224.\n",
      "Iteration 48, inertia 112.9515623012732.\n",
      "Iteration 49, inertia 112.95136421131487.\n",
      "Iteration 50, inertia 112.9512198530765.\n",
      "Iteration 51, inertia 112.95109909603062.\n",
      "Iteration 52, inertia 112.95101844506252.\n",
      "Iteration 53, inertia 112.95093815602458.\n",
      "Iteration 54, inertia 112.95088103891945.\n",
      "Iteration 55, inertia 112.95084124013493.\n",
      "Iteration 56, inertia 112.95081598591224.\n",
      "Iteration 57, inertia 112.95079536249467.\n",
      "Iteration 58, inertia 112.95077284617372.\n",
      "Iteration 59, inertia 112.9507526574855.\n",
      "Iteration 60, inertia 112.95073616859148.\n",
      "Iteration 61, inertia 112.95072580276255.\n",
      "Iteration 62, inertia 112.95071906887222.\n",
      "Converged at iteration 62: center shift 3.451362512719824e-10 within tolerance 6.654821085135028e-10.\n",
      "Initialization complete\n",
      "Iteration 0, inertia 175.64315141332003.\n",
      "Iteration 1, inertia 115.26467435005819.\n",
      "Iteration 2, inertia 114.55492673580581.\n",
      "Iteration 3, inertia 114.2391986300785.\n",
      "Iteration 4, inertia 114.06393507515997.\n",
      "Iteration 5, inertia 113.8780445947395.\n",
      "Iteration 6, inertia 113.65845625151259.\n",
      "Iteration 7, inertia 113.54175031138122.\n",
      "Iteration 8, inertia 113.45314290286763.\n",
      "Iteration 9, inertia 113.35524657532709.\n",
      "Iteration 10, inertia 113.22056760163657.\n",
      "Iteration 11, inertia 113.11719756246856.\n",
      "Iteration 12, inertia 113.06159900430725.\n",
      "Iteration 13, inertia 113.01129085216819.\n",
      "Iteration 14, inertia 112.8927238453747.\n",
      "Iteration 15, inertia 112.7051196498705.\n",
      "Iteration 16, inertia 112.66794623363313.\n",
      "Iteration 17, inertia 112.63902917888089.\n",
      "Iteration 18, inertia 112.61264993471218.\n",
      "Iteration 19, inertia 112.59165090194004.\n",
      "Iteration 20, inertia 112.57907227621803.\n",
      "Iteration 21, inertia 112.56732831531988.\n",
      "Iteration 22, inertia 112.55209791775579.\n",
      "Iteration 23, inertia 112.53358774060798.\n",
      "Iteration 24, inertia 112.51723325515538.\n",
      "Iteration 25, inertia 112.50670168407905.\n",
      "Iteration 26, inertia 112.50104087465469.\n",
      "Iteration 27, inertia 112.49665683888315.\n",
      "Iteration 28, inertia 112.49170370509681.\n",
      "Iteration 29, inertia 112.48548545183425.\n",
      "Iteration 30, inertia 112.47469000541099.\n",
      "Iteration 31, inertia 112.45077902698065.\n",
      "Iteration 32, inertia 112.40310395753089.\n",
      "Iteration 33, inertia 112.34319330884128.\n",
      "Iteration 34, inertia 112.32908322366478.\n",
      "Iteration 35, inertia 112.3247752948707.\n",
      "Iteration 36, inertia 112.32050657142592.\n",
      "Iteration 37, inertia 112.31448966257827.\n",
      "Iteration 38, inertia 112.30558703154672.\n",
      "Iteration 39, inertia 112.29338976947719.\n",
      "Iteration 40, inertia 112.27762335380864.\n",
      "Iteration 41, inertia 112.26323038980762.\n",
      "Iteration 42, inertia 112.25566498403538.\n",
      "Iteration 43, inertia 112.25273922065468.\n",
      "Iteration 44, inertia 112.25138295406732.\n",
      "Iteration 45, inertia 112.25052572392728.\n",
      "Iteration 46, inertia 112.2498610710276.\n",
      "Iteration 47, inertia 112.24912643630879.\n",
      "Iteration 48, inertia 112.24814180860116.\n",
      "Iteration 49, inertia 112.24672594575304.\n",
      "Iteration 50, inertia 112.2446728913278.\n",
      "Iteration 51, inertia 112.24120827159999.\n",
      "Iteration 52, inertia 112.23570545458564.\n",
      "Iteration 53, inertia 112.22885388565449.\n",
      "Iteration 54, inertia 112.22230455978593.\n",
      "Iteration 55, inertia 112.21597294272854.\n",
      "Iteration 56, inertia 112.21178058314693.\n",
      "Iteration 57, inertia 112.21039415563011.\n",
      "Iteration 58, inertia 112.20999144879652.\n",
      "Iteration 59, inertia 112.20983257854265.\n",
      "Iteration 60, inertia 112.20977785805385.\n",
      "Iteration 61, inertia 112.20973757086287.\n",
      "Iteration 62, inertia 112.20971336711465.\n",
      "Iteration 63, inertia 112.20969724595331.\n",
      "Converged at iteration 63: center shift 6.403915144869086e-10 within tolerance 6.654821085135028e-10.\n",
      "Initialization complete\n",
      "Iteration 0, inertia 171.16973804042186.\n",
      "Iteration 1, inertia 116.44166318572502.\n",
      "Iteration 2, inertia 115.58338043798952.\n",
      "Iteration 3, inertia 115.0795956118931.\n",
      "Iteration 4, inertia 114.61448834662835.\n",
      "Iteration 5, inertia 114.27232321147477.\n",
      "Iteration 6, inertia 114.10134070274414.\n",
      "Iteration 7, inertia 114.01278896380828.\n",
      "Iteration 8, inertia 113.94719189033239.\n",
      "Iteration 9, inertia 113.91298121993086.\n",
      "Iteration 10, inertia 113.89175518105051.\n",
      "Iteration 11, inertia 113.87387638250225.\n",
      "Iteration 12, inertia 113.85794322369748.\n",
      "Iteration 13, inertia 113.84286104393995.\n",
      "Iteration 14, inertia 113.82543727010489.\n",
      "Iteration 15, inertia 113.80343200544505.\n",
      "Iteration 16, inertia 113.76994109159284.\n",
      "Iteration 17, inertia 113.7140391890612.\n",
      "Iteration 18, inertia 113.62701801847027.\n",
      "Iteration 19, inertia 113.54791169000457.\n",
      "Iteration 20, inertia 113.48827099646753.\n",
      "Iteration 21, inertia 113.46439619761966.\n",
      "Iteration 22, inertia 113.4571705580352.\n",
      "Iteration 23, inertia 113.45307107814409.\n",
      "Iteration 24, inertia 113.45047810516152.\n",
      "Iteration 25, inertia 113.44881605067127.\n",
      "Iteration 26, inertia 113.4478447769061.\n",
      "Iteration 27, inertia 113.44720947456584.\n",
      "Iteration 28, inertia 113.44669740751195.\n",
      "Iteration 29, inertia 113.44616117111353.\n",
      "Iteration 30, inertia 113.44555246743501.\n",
      "Iteration 31, inertia 113.44483534441845.\n",
      "Iteration 32, inertia 113.44384378458955.\n",
      "Iteration 33, inertia 113.44269345896952.\n",
      "Iteration 34, inertia 113.44116749068363.\n",
      "Iteration 35, inertia 113.43899077291431.\n",
      "Iteration 36, inertia 113.43592185458152.\n",
      "Iteration 37, inertia 113.43116803311436.\n",
      "Iteration 38, inertia 113.42556323710232.\n",
      "Iteration 39, inertia 113.42071059187934.\n",
      "Iteration 40, inertia 113.41639077153636.\n",
      "Iteration 41, inertia 113.41289386074301.\n",
      "Iteration 42, inertia 113.41015488570011.\n",
      "Iteration 43, inertia 113.40813158304795.\n",
      "Iteration 44, inertia 113.40711550742071.\n",
      "Iteration 45, inertia 113.406658767357.\n",
      "Iteration 46, inertia 113.40646157955786.\n",
      "Iteration 47, inertia 113.40635727699411.\n",
      "Iteration 48, inertia 113.4063059095883.\n",
      "Iteration 49, inertia 113.40628073358641.\n",
      "Iteration 50, inertia 113.40626274196941.\n",
      "Iteration 51, inertia 113.40625048361599.\n",
      "Converged at iteration 51: center shift 6.549512066834005e-10 within tolerance 6.654821085135028e-10.\n",
      "Initialization complete\n",
      "Iteration 0, inertia 163.09655834538708.\n",
      "Iteration 1, inertia 115.98823391467106.\n",
      "Iteration 2, inertia 115.04128091065917.\n",
      "Iteration 3, inertia 114.64314769025671.\n",
      "Iteration 4, inertia 114.4562977837223.\n",
      "Iteration 5, inertia 114.33513777255479.\n",
      "Iteration 6, inertia 114.24705986439461.\n",
      "Iteration 7, inertia 114.17757944359472.\n",
      "Iteration 8, inertia 114.12386847343438.\n",
      "Iteration 9, inertia 114.08374382096297.\n",
      "Iteration 10, inertia 114.05471407014832.\n",
      "Iteration 11, inertia 114.03349773526449.\n",
      "Iteration 12, inertia 114.01634482016713.\n",
      "Iteration 13, inertia 114.0017129183198.\n",
      "Iteration 14, inertia 113.98877733364897.\n",
      "Iteration 15, inertia 113.97706317730811.\n",
      "Iteration 16, inertia 113.96549985407623.\n",
      "Iteration 17, inertia 113.95296646343239.\n",
      "Iteration 18, inertia 113.9391972567242.\n",
      "Iteration 19, inertia 113.92526654641904.\n",
      "Iteration 20, inertia 113.91245638344898.\n",
      "Iteration 21, inertia 113.90163880847584.\n",
      "Iteration 22, inertia 113.89333286558393.\n",
      "Iteration 23, inertia 113.88708163740328.\n",
      "Iteration 24, inertia 113.8827329042889.\n",
      "Iteration 25, inertia 113.87926409747395.\n",
      "Iteration 26, inertia 113.87626545433245.\n",
      "Iteration 27, inertia 113.87328333766487.\n",
      "Iteration 28, inertia 113.86972959190464.\n",
      "Iteration 29, inertia 113.8641654356796.\n",
      "Iteration 30, inertia 113.85303168080634.\n",
      "Iteration 31, inertia 113.83409638739653.\n",
      "Iteration 32, inertia 113.81290168415438.\n",
      "Iteration 33, inertia 113.79555477755056.\n",
      "Iteration 34, inertia 113.78419119832472.\n",
      "Iteration 35, inertia 113.77880334463241.\n",
      "Iteration 36, inertia 113.77557757767687.\n",
      "Iteration 37, inertia 113.77318052805704.\n",
      "Iteration 38, inertia 113.77100387371748.\n",
      "Iteration 39, inertia 113.76886012969645.\n",
      "Iteration 40, inertia 113.7667673405074.\n",
      "Iteration 41, inertia 113.76492616750996.\n",
      "Iteration 42, inertia 113.76330359598217.\n",
      "Iteration 43, inertia 113.76191404722093.\n",
      "Iteration 44, inertia 113.7607297181631.\n",
      "Iteration 45, inertia 113.75977067211484.\n",
      "Iteration 46, inertia 113.75903285255927.\n",
      "Iteration 47, inertia 113.75847153739787.\n",
      "Iteration 48, inertia 113.75802350046305.\n",
      "Iteration 49, inertia 113.75764175587639.\n",
      "Iteration 50, inertia 113.75735909949022.\n",
      "Iteration 51, inertia 113.75716309259394.\n",
      "Iteration 52, inertia 113.75701650282394.\n",
      "Iteration 53, inertia 113.75689859915208.\n",
      "Iteration 54, inertia 113.75680629103795.\n",
      "Iteration 55, inertia 113.75673635253288.\n",
      "Iteration 56, inertia 113.7566866765778.\n",
      "Iteration 57, inertia 113.75664606079263.\n",
      "Iteration 58, inertia 113.75660860577995.\n",
      "Iteration 59, inertia 113.75657846959962.\n",
      "Iteration 60, inertia 113.75655521873718.\n",
      "Iteration 61, inertia 113.75653321839002.\n",
      "Iteration 62, inertia 113.75651090707059.\n",
      "Iteration 63, inertia 113.75649012887467.\n",
      "Iteration 64, inertia 113.75647006438413.\n",
      "Iteration 65, inertia 113.75645444118302.\n",
      "Iteration 66, inertia 113.75644001113325.\n",
      "Iteration 67, inertia 113.7564277952253.\n",
      "Converged at iteration 67: center shift 4.899685014356539e-10 within tolerance 6.654821085135028e-10.\n",
      "Initialization complete\n",
      "Iteration 0, inertia 165.81848072375433.\n",
      "Iteration 1, inertia 115.20226986424476.\n",
      "Iteration 2, inertia 114.84921731169668.\n",
      "Iteration 3, inertia 114.67069798049074.\n",
      "Iteration 4, inertia 114.48594280093323.\n",
      "Iteration 5, inertia 114.25202166261468.\n",
      "Iteration 6, inertia 113.99171967848703.\n",
      "Iteration 7, inertia 113.78890592972374.\n",
      "Iteration 8, inertia 113.66783846727212.\n",
      "Iteration 9, inertia 113.57855591430298.\n",
      "Iteration 10, inertia 113.48536387319726.\n",
      "Iteration 11, inertia 113.40367100075967.\n",
      "Iteration 12, inertia 113.35833390018908.\n",
      "Iteration 13, inertia 113.32672635448763.\n",
      "Iteration 14, inertia 113.3143309289328.\n",
      "Iteration 15, inertia 113.3082300145097.\n",
      "Iteration 16, inertia 113.30352697832285.\n",
      "Iteration 17, inertia 113.2980465431332.\n",
      "Iteration 18, inertia 113.29381420526877.\n",
      "Iteration 19, inertia 113.29230108867353.\n",
      "Iteration 20, inertia 113.29133359459215.\n",
      "Iteration 21, inertia 113.29059363272319.\n",
      "Iteration 22, inertia 113.29000928233025.\n",
      "Iteration 23, inertia 113.28955866842007.\n",
      "Iteration 24, inertia 113.28926604179652.\n",
      "Iteration 25, inertia 113.2890680422481.\n",
      "Iteration 26, inertia 113.2889187196554.\n",
      "Iteration 27, inertia 113.2887765618995.\n",
      "Iteration 28, inertia 113.288634069222.\n",
      "Iteration 29, inertia 113.2885064799155.\n",
      "Iteration 30, inertia 113.28837925884856.\n",
      "Iteration 31, inertia 113.28825830521876.\n",
      "Iteration 32, inertia 113.28814710800198.\n",
      "Iteration 33, inertia 113.28802575842505.\n",
      "Iteration 34, inertia 113.28789343462239.\n",
      "Iteration 35, inertia 113.28773843738452.\n",
      "Iteration 36, inertia 113.2875195506152.\n",
      "Iteration 37, inertia 113.28726821236675.\n",
      "Iteration 38, inertia 113.286949349057.\n",
      "Iteration 39, inertia 113.28649041952961.\n",
      "Iteration 40, inertia 113.28584373627272.\n",
      "Iteration 41, inertia 113.28478693334594.\n",
      "Iteration 42, inertia 113.2829333945171.\n",
      "Iteration 43, inertia 113.27821166354299.\n",
      "Iteration 44, inertia 113.25860547571897.\n",
      "Iteration 45, inertia 113.17749346733369.\n",
      "Iteration 46, inertia 113.11345241103614.\n",
      "Iteration 47, inertia 113.11288141506866.\n",
      "Iteration 48, inertia 113.11283347304327.\n",
      "Iteration 49, inertia 113.11281701034002.\n",
      "Converged at iteration 49: center shift 2.676965049442633e-10 within tolerance 6.654821085135028e-10.\n",
      "Initialization complete\n",
      "Iteration 0, inertia 167.85813811456194.\n",
      "Iteration 1, inertia 115.3682366471076.\n",
      "Iteration 2, inertia 114.68089670004072.\n",
      "Iteration 3, inertia 114.04738773889726.\n",
      "Iteration 4, inertia 113.70686046297428.\n",
      "Iteration 5, inertia 113.46956350424733.\n",
      "Iteration 6, inertia 113.25371808764646.\n",
      "Iteration 7, inertia 113.11287861781068.\n",
      "Iteration 8, inertia 113.00466155990833.\n",
      "Iteration 9, inertia 112.84089288902268.\n",
      "Iteration 10, inertia 112.57697257826753.\n",
      "Iteration 11, inertia 112.42029972044944.\n",
      "Iteration 12, inertia 112.40416013667043.\n",
      "Iteration 13, inertia 112.40035362634939.\n",
      "Iteration 14, inertia 112.39814200919976.\n",
      "Iteration 15, inertia 112.39622503373948.\n",
      "Iteration 16, inertia 112.39418794361139.\n",
      "Iteration 17, inertia 112.3916791642173.\n",
      "Iteration 18, inertia 112.3886897166391.\n",
      "Iteration 19, inertia 112.3858087074093.\n",
      "Iteration 20, inertia 112.38295592482277.\n",
      "Iteration 21, inertia 112.38017140876502.\n",
      "Iteration 22, inertia 112.37745552248884.\n",
      "Iteration 23, inertia 112.37429077031837.\n",
      "Iteration 24, inertia 112.37033532584499.\n",
      "Iteration 25, inertia 112.3646056757778.\n",
      "Iteration 26, inertia 112.35658992248236.\n",
      "Iteration 27, inertia 112.34512804003285.\n",
      "Iteration 28, inertia 112.33500426528376.\n",
      "Iteration 29, inertia 112.32912411715265.\n",
      "Iteration 30, inertia 112.32617876139987.\n",
      "Iteration 31, inertia 112.3246377708914.\n",
      "Iteration 32, inertia 112.3238195607735.\n",
      "Iteration 33, inertia 112.32337397150235.\n",
      "Iteration 34, inertia 112.32314517750451.\n",
      "Iteration 35, inertia 112.322994322485.\n",
      "Iteration 36, inertia 112.32291114010602.\n",
      "Iteration 37, inertia 112.3228712434728.\n",
      "Iteration 38, inertia 112.32285164783897.\n",
      "Converged at iteration 38: center shift 4.5494020243943627e-10 within tolerance 6.654821085135028e-10.\n",
      "Initialization complete\n",
      "Iteration 0, inertia 167.67772652345388.\n",
      "Iteration 1, inertia 115.16569083934198.\n",
      "Iteration 2, inertia 114.6377917851534.\n",
      "Iteration 3, inertia 114.29076701946096.\n",
      "Iteration 4, inertia 113.90459824240058.\n",
      "Iteration 5, inertia 113.56386525119359.\n",
      "Iteration 6, inertia 113.39102436293962.\n",
      "Iteration 7, inertia 113.19639498445159.\n",
      "Iteration 8, inertia 113.12085076505902.\n",
      "Iteration 9, inertia 113.06408574551898.\n",
      "Iteration 10, inertia 112.98145333054283.\n",
      "Iteration 11, inertia 112.93316710179369.\n",
      "Iteration 12, inertia 112.90910760196518.\n",
      "Iteration 13, inertia 112.88512489985459.\n",
      "Iteration 14, inertia 112.8550253711414.\n",
      "Iteration 15, inertia 112.81775041106069.\n",
      "Iteration 16, inertia 112.77391989285593.\n",
      "Iteration 17, inertia 112.73755179471145.\n",
      "Iteration 18, inertia 112.72327567041935.\n",
      "Iteration 19, inertia 112.71792455057273.\n",
      "Iteration 20, inertia 112.71369293316286.\n",
      "Iteration 21, inertia 112.70942522115304.\n",
      "Iteration 22, inertia 112.70478879315662.\n",
      "Iteration 23, inertia 112.69990504216692.\n",
      "Iteration 24, inertia 112.69529053150511.\n",
      "Iteration 25, inertia 112.6910293515.\n",
      "Iteration 26, inertia 112.68738781111266.\n",
      "Iteration 27, inertia 112.6846205135201.\n",
      "Iteration 28, inertia 112.68267258851296.\n",
      "Iteration 29, inertia 112.6812040052145.\n",
      "Iteration 30, inertia 112.6800522177856.\n",
      "Iteration 31, inertia 112.67908326990533.\n",
      "Iteration 32, inertia 112.67799186079263.\n",
      "Iteration 33, inertia 112.67652340895964.\n",
      "Iteration 34, inertia 112.67434817298079.\n",
      "Iteration 35, inertia 112.671064997003.\n",
      "Iteration 36, inertia 112.6664452406038.\n",
      "Iteration 37, inertia 112.6601387156437.\n",
      "Iteration 38, inertia 112.6528699834015.\n",
      "Iteration 39, inertia 112.6480506115738.\n",
      "Iteration 40, inertia 112.64586730124844.\n",
      "Iteration 41, inertia 112.64484762263461.\n",
      "Iteration 42, inertia 112.64439575900563.\n",
      "Iteration 43, inertia 112.6441898398672.\n",
      "Iteration 44, inertia 112.64408115866583.\n",
      "Iteration 45, inertia 112.64403726291982.\n",
      "Iteration 46, inertia 112.64401381712368.\n",
      "Converged at iteration 46: center shift 4.200300012816397e-10 within tolerance 6.654821085135028e-10.\n",
      "Initialization complete\n",
      "Iteration 0, inertia 164.7036894675181.\n",
      "Iteration 1, inertia 116.4116307834924.\n",
      "Iteration 2, inertia 115.69860099751966.\n",
      "Iteration 3, inertia 115.28986285893126.\n",
      "Iteration 4, inertia 114.90527812003022.\n",
      "Iteration 5, inertia 114.6048652383263.\n",
      "Iteration 6, inertia 114.39764176192809.\n",
      "Iteration 7, inertia 114.2521618029282.\n",
      "Iteration 8, inertia 114.14448126220235.\n",
      "Iteration 9, inertia 114.06747948070338.\n",
      "Iteration 10, inertia 114.03706001187476.\n",
      "Iteration 11, inertia 114.00781265236726.\n",
      "Iteration 12, inertia 113.95458296154715.\n",
      "Iteration 13, inertia 113.7858985642694.\n",
      "Iteration 14, inertia 113.55634779327775.\n",
      "Iteration 15, inertia 113.45865941575217.\n",
      "Iteration 16, inertia 113.39488822571624.\n",
      "Iteration 17, inertia 113.38268754951912.\n",
      "Iteration 18, inertia 113.37716554698945.\n",
      "Iteration 19, inertia 113.37311232584582.\n",
      "Iteration 20, inertia 113.370108453314.\n",
      "Iteration 21, inertia 113.36778827426038.\n",
      "Iteration 22, inertia 113.36614230364869.\n",
      "Iteration 23, inertia 113.36503922905662.\n",
      "Iteration 24, inertia 113.36416773793522.\n",
      "Iteration 25, inertia 113.36353631699801.\n",
      "Iteration 26, inertia 113.36310184552084.\n",
      "Iteration 27, inertia 113.36276119095747.\n",
      "Iteration 28, inertia 113.36251919238367.\n",
      "Iteration 29, inertia 113.36232151476109.\n",
      "Iteration 30, inertia 113.36214426396867.\n",
      "Iteration 31, inertia 113.3619801677047.\n",
      "Iteration 32, inertia 113.3618524229247.\n",
      "Iteration 33, inertia 113.36174244967548.\n",
      "Iteration 34, inertia 113.36165188155158.\n",
      "Iteration 35, inertia 113.36157441514608.\n",
      "Iteration 36, inertia 113.36150929219849.\n",
      "Iteration 37, inertia 113.36144550617689.\n",
      "Iteration 38, inertia 113.36137755755215.\n",
      "Iteration 39, inertia 113.3613293020445.\n",
      "Iteration 40, inertia 113.36129558501007.\n",
      "Iteration 41, inertia 113.3612709540824.\n",
      "Iteration 42, inertia 113.36125390623754.\n",
      "Iteration 43, inertia 113.36124228688566.\n",
      "Converged at iteration 43: center shift 6.154338734917139e-10 within tolerance 6.654821085135028e-10.\n",
      "Initialization complete\n",
      "Iteration 0, inertia 172.26962224135124.\n",
      "Iteration 1, inertia 115.89394655138197.\n",
      "Iteration 2, inertia 114.90749361736285.\n",
      "Iteration 3, inertia 114.09665053573437.\n",
      "Iteration 4, inertia 113.64361675865653.\n",
      "Iteration 5, inertia 113.4659457927727.\n",
      "Iteration 6, inertia 113.36106305960227.\n",
      "Iteration 7, inertia 113.28027605807733.\n",
      "Iteration 8, inertia 113.22161265814852.\n",
      "Iteration 9, inertia 113.14696862453158.\n",
      "Iteration 10, inertia 113.04705064291099.\n",
      "Iteration 11, inertia 113.0138320014756.\n",
      "Iteration 12, inertia 113.00169156538381.\n",
      "Iteration 13, inertia 112.99096887636887.\n",
      "Iteration 14, inertia 112.97844585352895.\n",
      "Iteration 15, inertia 112.96080544845655.\n",
      "Iteration 16, inertia 112.93254018026316.\n",
      "Iteration 17, inertia 112.88783423603488.\n",
      "Iteration 18, inertia 112.81949221918356.\n",
      "Iteration 19, inertia 112.78601907084492.\n",
      "Iteration 20, inertia 112.78334310427664.\n",
      "Iteration 21, inertia 112.78202735506439.\n",
      "Iteration 22, inertia 112.78127929677822.\n",
      "Iteration 23, inertia 112.78075627995372.\n",
      "Iteration 24, inertia 112.78038969690445.\n",
      "Iteration 25, inertia 112.78015090150063.\n",
      "Iteration 26, inertia 112.7799936536132.\n",
      "Iteration 27, inertia 112.7799018103597.\n",
      "Iteration 28, inertia 112.77982211215541.\n",
      "Iteration 29, inertia 112.7797537461528.\n",
      "Iteration 30, inertia 112.77969944453633.\n",
      "Iteration 31, inertia 112.77966616996284.\n",
      "Iteration 32, inertia 112.77964556818245.\n",
      "Iteration 33, inertia 112.77963347345613.\n",
      "Converged at iteration 33: center shift 5.854434812899547e-10 within tolerance 6.654821085135028e-10.\n",
      "Initialization complete\n",
      "Iteration 0, inertia 167.19711280152552.\n",
      "Iteration 1, inertia 116.25768798548062.\n",
      "Iteration 2, inertia 115.45417264202638.\n",
      "Iteration 3, inertia 115.02554653322827.\n",
      "Iteration 4, inertia 114.59426580149808.\n",
      "Iteration 5, inertia 114.27554709452399.\n",
      "Iteration 6, inertia 114.08334852613153.\n",
      "Iteration 7, inertia 113.94092615687109.\n",
      "Iteration 8, inertia 113.83683332236944.\n",
      "Iteration 9, inertia 113.77667215788614.\n",
      "Iteration 10, inertia 113.73171733715239.\n",
      "Iteration 11, inertia 113.68551661591604.\n",
      "Iteration 12, inertia 113.63879833576777.\n",
      "Iteration 13, inertia 113.61135941681285.\n",
      "Iteration 14, inertia 113.59887847480067.\n",
      "Iteration 15, inertia 113.59182110658915.\n",
      "Iteration 16, inertia 113.58663551068513.\n",
      "Iteration 17, inertia 113.58196849508792.\n",
      "Iteration 18, inertia 113.57707006682581.\n",
      "Iteration 19, inertia 113.57198385492892.\n",
      "Iteration 20, inertia 113.56656550246805.\n",
      "Iteration 21, inertia 113.55942830735445.\n",
      "Iteration 22, inertia 113.5490612209712.\n",
      "Iteration 23, inertia 113.53477581221854.\n",
      "Iteration 24, inertia 113.51744526070408.\n",
      "Iteration 25, inertia 113.4998823558511.\n",
      "Iteration 26, inertia 113.48523806825831.\n",
      "Iteration 27, inertia 113.47534477956592.\n",
      "Iteration 28, inertia 113.46858449904734.\n",
      "Iteration 29, inertia 113.46212445915589.\n",
      "Iteration 30, inertia 113.45264903900966.\n",
      "Iteration 31, inertia 113.44002005534766.\n",
      "Iteration 32, inertia 113.4248819639177.\n",
      "Iteration 33, inertia 113.4058803409819.\n",
      "Iteration 34, inertia 113.38315528172336.\n",
      "Iteration 35, inertia 113.36279267021584.\n",
      "Iteration 36, inertia 113.32945268536824.\n",
      "Iteration 37, inertia 113.26543068746874.\n",
      "Iteration 38, inertia 113.2201511668134.\n",
      "Iteration 39, inertia 113.21207952227707.\n",
      "Iteration 40, inertia 113.2062333212272.\n",
      "Iteration 41, inertia 113.20531600531477.\n",
      "Iteration 42, inertia 113.20505339037268.\n",
      "Iteration 43, inertia 113.20398766619037.\n",
      "Iteration 44, inertia 113.1996619719172.\n",
      "Iteration 45, inertia 113.19777638340449.\n",
      "Iteration 46, inertia 113.19710376646586.\n",
      "Iteration 47, inertia 113.19592491182028.\n",
      "Iteration 48, inertia 113.19422762122277.\n",
      "Iteration 49, inertia 113.19223490045471.\n",
      "Iteration 50, inertia 113.19033800286785.\n",
      "Iteration 51, inertia 113.18852660404437.\n",
      "Iteration 52, inertia 113.18684744184989.\n",
      "Iteration 53, inertia 113.18516887639942.\n",
      "Iteration 54, inertia 113.18323855534722.\n",
      "Iteration 55, inertia 113.18086462019436.\n",
      "Iteration 56, inertia 113.17817609303904.\n",
      "Iteration 57, inertia 113.1754345091841.\n",
      "Iteration 58, inertia 113.17291257543437.\n",
      "Iteration 59, inertia 113.17089800590206.\n",
      "Iteration 60, inertia 113.16915232410732.\n",
      "Iteration 61, inertia 113.16732737168631.\n",
      "Iteration 62, inertia 113.16561151746545.\n",
      "Iteration 63, inertia 113.16419752627793.\n",
      "Iteration 64, inertia 113.16326734968658.\n",
      "Iteration 65, inertia 113.16246516423196.\n",
      "Iteration 66, inertia 113.16181631280071.\n",
      "Iteration 67, inertia 113.16122952057535.\n",
      "Iteration 68, inertia 113.16068027006413.\n",
      "Iteration 69, inertia 113.16022605222255.\n",
      "Iteration 70, inertia 113.15980245645734.\n",
      "Iteration 71, inertia 113.15931981461834.\n",
      "Iteration 72, inertia 113.1587359312259.\n",
      "Iteration 73, inertia 113.15808742254778.\n",
      "Iteration 74, inertia 113.15731152423584.\n",
      "Iteration 75, inertia 113.15627233964308.\n",
      "Iteration 76, inertia 113.1544626620128.\n",
      "Iteration 77, inertia 113.15088136145434.\n",
      "Iteration 78, inertia 113.14375595823685.\n",
      "Iteration 79, inertia 113.12860375060013.\n",
      "Iteration 80, inertia 113.10713275129403.\n",
      "Iteration 81, inertia 113.08761031844399.\n",
      "Iteration 82, inertia 113.07426409577387.\n",
      "Iteration 83, inertia 113.06587952674434.\n",
      "Iteration 84, inertia 113.06015148989947.\n",
      "Iteration 85, inertia 113.05720124519942.\n",
      "Iteration 86, inertia 113.05567230772638.\n",
      "Iteration 87, inertia 113.05484443705734.\n",
      "Iteration 88, inertia 113.0544310847549.\n",
      "Iteration 89, inertia 113.05427558858679.\n",
      "Iteration 90, inertia 113.05421114184605.\n",
      "Iteration 91, inertia 113.05413656003202.\n",
      "Iteration 92, inertia 113.05406656961632.\n",
      "Iteration 93, inertia 113.0540328032298.\n",
      "Iteration 94, inertia 113.05402651770027.\n",
      "Iteration 95, inertia 113.05402378733456.\n",
      "Iteration 96, inertia 113.05402303755466.\n",
      "Converged at iteration 96: strict convergence.\n",
      "Initialization complete\n",
      "Iteration 0, inertia 163.90548323841733.\n",
      "Iteration 1, inertia 114.51357343831341.\n",
      "Iteration 2, inertia 114.01189403874024.\n",
      "Iteration 3, inertia 113.68358340903784.\n",
      "Iteration 4, inertia 113.43759998814228.\n",
      "Iteration 5, inertia 113.24046710899806.\n",
      "Iteration 6, inertia 113.02608678668388.\n",
      "Iteration 7, inertia 112.85991403808043.\n",
      "Iteration 8, inertia 112.7530422462374.\n",
      "Iteration 9, inertia 112.71426373623842.\n",
      "Iteration 10, inertia 112.69217186574272.\n",
      "Iteration 11, inertia 112.66826380668438.\n",
      "Iteration 12, inertia 112.63677483988158.\n",
      "Iteration 13, inertia 112.58738887244515.\n",
      "Iteration 14, inertia 112.52540754141138.\n",
      "Iteration 15, inertia 112.49013985574668.\n",
      "Iteration 16, inertia 112.46805281176577.\n",
      "Iteration 17, inertia 112.44677383196579.\n",
      "Iteration 18, inertia 112.4264852906161.\n",
      "Iteration 19, inertia 112.40669628873415.\n",
      "Iteration 20, inertia 112.39055963619751.\n",
      "Iteration 21, inertia 112.37920144814368.\n",
      "Iteration 22, inertia 112.37080507988314.\n",
      "Iteration 23, inertia 112.36423427961277.\n",
      "Iteration 24, inertia 112.35849338144546.\n",
      "Iteration 25, inertia 112.35283613663843.\n",
      "Iteration 26, inertia 112.34765291518656.\n",
      "Iteration 27, inertia 112.3425706178685.\n",
      "Iteration 28, inertia 112.33801207460574.\n",
      "Iteration 29, inertia 112.33409368846401.\n",
      "Iteration 30, inertia 112.33134606518509.\n",
      "Iteration 31, inertia 112.32902982399534.\n",
      "Iteration 32, inertia 112.32707553752417.\n",
      "Iteration 33, inertia 112.32524993709441.\n",
      "Iteration 34, inertia 112.32352748923097.\n",
      "Iteration 35, inertia 112.32201545370839.\n",
      "Iteration 36, inertia 112.32065192187534.\n",
      "Iteration 37, inertia 112.31940142893339.\n",
      "Iteration 38, inertia 112.31843057388812.\n",
      "Iteration 39, inertia 112.31765094055478.\n",
      "Iteration 40, inertia 112.3169194387631.\n",
      "Iteration 41, inertia 112.3162231117792.\n",
      "Iteration 42, inertia 112.31552403447023.\n",
      "Iteration 43, inertia 112.31474745808664.\n",
      "Iteration 44, inertia 112.31375557339321.\n",
      "Iteration 45, inertia 112.31221043735403.\n",
      "Iteration 46, inertia 112.3096407601544.\n",
      "Iteration 47, inertia 112.30565348909522.\n",
      "Iteration 48, inertia 112.30016895287861.\n",
      "Iteration 49, inertia 112.29429964445235.\n",
      "Iteration 50, inertia 112.28856463439148.\n",
      "Iteration 51, inertia 112.28371018719163.\n",
      "Iteration 52, inertia 112.2815539604513.\n",
      "Iteration 53, inertia 112.2807678107935.\n",
      "Iteration 54, inertia 112.28044528976675.\n",
      "Iteration 55, inertia 112.28030508637777.\n",
      "Iteration 56, inertia 112.2802391074217.\n",
      "Iteration 57, inertia 112.28020777007201.\n",
      "Converged at iteration 57: center shift 6.059947163461555e-10 within tolerance 6.654821085135028e-10.\n",
      "Initialization complete\n",
      "Iteration 0, inertia 163.2258883291179.\n",
      "Iteration 1, inertia 115.17719585915302.\n",
      "Iteration 2, inertia 114.05146283834907.\n",
      "Iteration 3, inertia 113.75331081866656.\n",
      "Iteration 4, inertia 113.54588096079127.\n",
      "Iteration 5, inertia 113.42222445921563.\n",
      "Iteration 6, inertia 113.28927673641468.\n",
      "Iteration 7, inertia 113.13224643419497.\n",
      "Iteration 8, inertia 112.98652093420453.\n",
      "Iteration 9, inertia 112.72889709263958.\n",
      "Iteration 10, inertia 112.50314848337929.\n",
      "Iteration 11, inertia 112.35992545397619.\n",
      "Iteration 12, inertia 112.29307808158822.\n",
      "Iteration 13, inertia 112.26411034323475.\n",
      "Iteration 14, inertia 112.26057917764261.\n",
      "Iteration 15, inertia 112.25986273766826.\n",
      "Iteration 16, inertia 112.259599544879.\n",
      "Iteration 17, inertia 112.25944951788257.\n",
      "Iteration 18, inertia 112.25930622842974.\n",
      "Iteration 19, inertia 112.25916114384715.\n",
      "Iteration 20, inertia 112.25903646253421.\n",
      "Iteration 21, inertia 112.25892805252793.\n",
      "Iteration 22, inertia 112.25883438347378.\n",
      "Iteration 23, inertia 112.25872709426955.\n",
      "Iteration 24, inertia 112.25862827576894.\n",
      "Iteration 25, inertia 112.25850956807056.\n",
      "Iteration 26, inertia 112.25838137792233.\n",
      "Iteration 27, inertia 112.25818343610746.\n",
      "Iteration 28, inertia 112.25785237870157.\n",
      "Iteration 29, inertia 112.25698953506448.\n",
      "Iteration 30, inertia 112.25399990791412.\n",
      "Iteration 31, inertia 112.24229793968553.\n",
      "Iteration 32, inertia 112.22711823439255.\n",
      "Iteration 33, inertia 112.22311602631048.\n",
      "Iteration 34, inertia 112.22276946767673.\n",
      "Iteration 35, inertia 112.22273091883129.\n",
      "Iteration 36, inertia 112.2227248905679.\n",
      "Converged at iteration 36: center shift 1.5235706610639055e-10 within tolerance 6.654821085135028e-10.\n",
      "Initialization complete\n",
      "Iteration 0, inertia 168.02386126778583.\n",
      "Iteration 1, inertia 115.33347728481279.\n",
      "Iteration 2, inertia 114.76479404880297.\n",
      "Iteration 3, inertia 114.40297908225183.\n",
      "Iteration 4, inertia 114.14732574650317.\n",
      "Iteration 5, inertia 113.96520841361746.\n",
      "Iteration 6, inertia 113.83501609169255.\n",
      "Iteration 7, inertia 113.76860185510932.\n",
      "Iteration 8, inertia 113.73198450175663.\n",
      "Iteration 9, inertia 113.69577964427637.\n",
      "Iteration 10, inertia 113.65949473576899.\n",
      "Iteration 11, inertia 113.63029540655056.\n",
      "Iteration 12, inertia 113.61134586160591.\n",
      "Iteration 13, inertia 113.59951479459997.\n",
      "Iteration 14, inertia 113.58856678658773.\n",
      "Iteration 15, inertia 113.57662978947671.\n",
      "Iteration 16, inertia 113.56384135356527.\n",
      "Iteration 17, inertia 113.55061161656508.\n",
      "Iteration 18, inertia 113.53672603542059.\n",
      "Iteration 19, inertia 113.52283619370934.\n",
      "Iteration 20, inertia 113.50941607148572.\n",
      "Iteration 21, inertia 113.49746500611845.\n",
      "Iteration 22, inertia 113.48837898087068.\n",
      "Iteration 23, inertia 113.48165426937175.\n",
      "Iteration 24, inertia 113.47644210249885.\n",
      "Iteration 25, inertia 113.4720436807693.\n",
      "Iteration 26, inertia 113.46717629273495.\n",
      "Iteration 27, inertia 113.46067743300291.\n",
      "Iteration 28, inertia 113.45017155509632.\n",
      "Iteration 29, inertia 113.43431706065567.\n",
      "Iteration 30, inertia 113.41980026090668.\n",
      "Iteration 31, inertia 113.41394506651758.\n",
      "Iteration 32, inertia 113.41231548440817.\n",
      "Iteration 33, inertia 113.41163451965778.\n",
      "Iteration 34, inertia 113.41115023540273.\n",
      "Iteration 35, inertia 113.41071911433984.\n",
      "Iteration 36, inertia 113.41027563634184.\n",
      "Iteration 37, inertia 113.40970816163369.\n",
      "Iteration 38, inertia 113.40894355693084.\n",
      "Iteration 39, inertia 113.40777778625497.\n",
      "Iteration 40, inertia 113.40608181365432.\n",
      "Iteration 41, inertia 113.40326191011071.\n",
      "Iteration 42, inertia 113.39857615370599.\n",
      "Iteration 43, inertia 113.39321642715771.\n",
      "Iteration 44, inertia 113.38932912675781.\n",
      "Iteration 45, inertia 113.38561004810613.\n",
      "Iteration 46, inertia 113.38131968264229.\n",
      "Iteration 47, inertia 113.37783906378051.\n",
      "Iteration 48, inertia 113.37470477364765.\n",
      "Iteration 49, inertia 113.37369297331206.\n",
      "Iteration 50, inertia 113.37324961276379.\n",
      "Iteration 51, inertia 113.37285085237498.\n",
      "Iteration 52, inertia 113.37237731403746.\n",
      "Iteration 53, inertia 113.37194695579093.\n",
      "Iteration 54, inertia 113.37162494513872.\n",
      "Iteration 55, inertia 113.37137739511591.\n",
      "Iteration 56, inertia 113.37118257605326.\n",
      "Iteration 57, inertia 113.37108096120411.\n",
      "Iteration 58, inertia 113.37104155236868.\n",
      "Iteration 59, inertia 113.37102085307123.\n",
      "Iteration 60, inertia 113.37100079576894.\n",
      "Iteration 61, inertia 113.37098187500209.\n",
      "Converged at iteration 61: center shift 3.78542944421681e-10 within tolerance 6.654821085135028e-10.\n",
      "Initialization complete\n",
      "Iteration 0, inertia 156.57363643784163.\n",
      "Iteration 1, inertia 115.69773906286618.\n",
      "Iteration 2, inertia 114.60654543369861.\n",
      "Iteration 3, inertia 113.94851569881588.\n",
      "Iteration 4, inertia 113.60607931194829.\n",
      "Iteration 5, inertia 113.36220807234233.\n",
      "Iteration 6, inertia 113.16079383050636.\n",
      "Iteration 7, inertia 112.99934044499798.\n",
      "Iteration 8, inertia 112.89429117158497.\n",
      "Iteration 9, inertia 112.8346334653418.\n",
      "Iteration 10, inertia 112.79356602416942.\n",
      "Iteration 11, inertia 112.77123668215044.\n",
      "Iteration 12, inertia 112.76262290805788.\n",
      "Iteration 13, inertia 112.75912138950865.\n",
      "Iteration 14, inertia 112.75747993713418.\n",
      "Iteration 15, inertia 112.75673982444145.\n",
      "Iteration 16, inertia 112.75638253704682.\n",
      "Iteration 17, inertia 112.75619758689007.\n",
      "Iteration 18, inertia 112.75609507778623.\n",
      "Iteration 19, inertia 112.75601886595692.\n",
      "Iteration 20, inertia 112.75597458306711.\n",
      "Iteration 21, inertia 112.7559527902933.\n",
      "Converged at iteration 21: center shift 5.859061938405391e-10 within tolerance 6.654821085135028e-10.\n",
      "predicting for customers\n",
      "predicting for population\n",
      "plotting...\n",
      "261.6735238\n"
     ]
    },
    {
     "data": {
      "text/plain": "<Figure size 1200x400 with 2 Axes>",
      "image/png": "[encoded data removed]"
     },
     "metadata": {},
     "output_type": "display_data"
    }
   ],
   "source": [
    "t0 = perf_counter()\n",
    "\n",
    "pipeline_ica = run_pipeline(cluster_pipeline_ica,\n",
    "                            azdias.drop('EINGEFUEGT_AM', axis=1).iloc[::5],\n",
    "                            customers.drop('EINGEFUEGT_AM', axis=1))\n",
    "\n",
    "print(perf_counter()-t0)"
   ],
   "metadata": {
    "collapsed": false,
    "pycharm": {
     "name": "#%%\n"
    }
   }
  },
  {
   "cell_type": "markdown",
   "source": [
    "###### PCA + Kmeans"
   ],
   "metadata": {
    "collapsed": false,
    "pycharm": {
     "name": "#%% md\n"
    }
   }
  },
  {
   "cell_type": "code",
   "execution_count": 46,
   "outputs": [
    {
     "name": "stdout",
     "output_type": "stream",
     "text": [
      "fitting pipeline\n",
      "Initialization complete\n",
      "Iteration 0, inertia 58451400.79618232.\n",
      "Iteration 1, inertia 38517312.71036.\n",
      "Iteration 2, inertia 37595309.600822076.\n",
      "Iteration 3, inertia 37395261.18380508.\n",
      "Iteration 4, inertia 37309702.5349495.\n",
      "Iteration 5, inertia 37267493.21192012.\n",
      "Iteration 6, inertia 37244290.46987384.\n",
      "Iteration 7, inertia 37228702.41023079.\n",
      "Iteration 8, inertia 37216831.66834139.\n",
      "Iteration 9, inertia 37207356.175202325.\n",
      "Iteration 10, inertia 37199065.87387984.\n",
      "Iteration 11, inertia 37192028.51437155.\n",
      "Iteration 12, inertia 37185999.840718076.\n",
      "Iteration 13, inertia 37180433.71532606.\n",
      "Iteration 14, inertia 37174809.670005344.\n",
      "Iteration 15, inertia 37168962.038884625.\n",
      "Iteration 16, inertia 37162977.57174451.\n",
      "Iteration 17, inertia 37157030.12577645.\n",
      "Iteration 18, inertia 37151256.76068254.\n",
      "Iteration 19, inertia 37145535.09268375.\n",
      "Iteration 20, inertia 37139943.00457457.\n",
      "Iteration 21, inertia 37134087.304148845.\n",
      "Iteration 22, inertia 37128558.072151974.\n",
      "Iteration 23, inertia 37123109.47961888.\n",
      "Iteration 24, inertia 37118125.46990837.\n",
      "Iteration 25, inertia 37113829.04708398.\n",
      "Iteration 26, inertia 37110183.88012855.\n",
      "Iteration 27, inertia 37106743.772889115.\n",
      "Iteration 28, inertia 37103388.71393899.\n",
      "Iteration 29, inertia 37100212.41574683.\n",
      "Iteration 30, inertia 37097442.59270187.\n",
      "Iteration 31, inertia 37094886.08458508.\n",
      "Iteration 32, inertia 37092737.22215662.\n",
      "Iteration 33, inertia 37090959.28605752.\n",
      "Iteration 34, inertia 37089298.89276931.\n",
      "Iteration 35, inertia 37087695.19425987.\n",
      "Iteration 36, inertia 37086073.58519545.\n",
      "Iteration 37, inertia 37084453.88813619.\n",
      "Iteration 38, inertia 37082792.0604919.\n",
      "Iteration 39, inertia 37081162.673453964.\n",
      "Iteration 40, inertia 37079682.245494835.\n",
      "Iteration 41, inertia 37078243.767545365.\n",
      "Iteration 42, inertia 37076836.278043464.\n",
      "Iteration 43, inertia 37075461.829783686.\n",
      "Iteration 44, inertia 37073989.76574303.\n",
      "Iteration 45, inertia 37072233.21478074.\n",
      "Iteration 46, inertia 37070475.19153327.\n",
      "Iteration 47, inertia 37068571.803257555.\n",
      "Iteration 48, inertia 37066506.17345701.\n",
      "Iteration 49, inertia 37064091.3838536.\n",
      "Iteration 50, inertia 37061610.505058885.\n",
      "Iteration 51, inertia 37058831.15221013.\n",
      "Iteration 52, inertia 37055470.66840649.\n",
      "Iteration 53, inertia 37051173.913879216.\n",
      "Iteration 54, inertia 37045414.687583044.\n",
      "Iteration 55, inertia 37038346.581816226.\n",
      "Iteration 56, inertia 37030598.271330915.\n",
      "Iteration 57, inertia 37021723.87927608.\n",
      "Iteration 58, inertia 37011901.712666504.\n",
      "Iteration 59, inertia 37001677.811583.\n",
      "Iteration 60, inertia 36992988.286190845.\n",
      "Iteration 61, inertia 36987153.5134193.\n",
      "Iteration 62, inertia 36983508.54549189.\n",
      "Iteration 63, inertia 36981054.25666332.\n",
      "Iteration 64, inertia 36979366.42011821.\n",
      "Iteration 65, inertia 36978023.70135373.\n",
      "Iteration 66, inertia 36977039.389704645.\n",
      "Iteration 67, inertia 36976232.97920684.\n",
      "Iteration 68, inertia 36975523.525113605.\n",
      "Iteration 69, inertia 36974811.81432094.\n",
      "Iteration 70, inertia 36974012.05087598.\n",
      "Iteration 71, inertia 36973111.013447486.\n",
      "Iteration 72, inertia 36972333.11013614.\n",
      "Iteration 73, inertia 36971693.64095813.\n",
      "Iteration 74, inertia 36971054.79914005.\n",
      "Iteration 75, inertia 36970403.9067387.\n",
      "Iteration 76, inertia 36969823.294073485.\n",
      "Iteration 77, inertia 36969357.36532142.\n",
      "Iteration 78, inertia 36968987.37321409.\n",
      "Iteration 79, inertia 36968657.63185771.\n",
      "Iteration 80, inertia 36968421.09056593.\n",
      "Iteration 81, inertia 36968252.70767426.\n",
      "Iteration 82, inertia 36968134.18647004.\n",
      "Iteration 83, inertia 36968052.768603235.\n",
      "Iteration 84, inertia 36967986.6548099.\n",
      "Iteration 85, inertia 36967940.03168878.\n",
      "Iteration 86, inertia 36967905.577853344.\n",
      "Iteration 87, inertia 36967874.32403719.\n",
      "Iteration 88, inertia 36967844.54320035.\n",
      "Iteration 89, inertia 36967818.35599706.\n",
      "Iteration 90, inertia 36967790.48445013.\n",
      "Iteration 91, inertia 36967770.960073546.\n",
      "Iteration 92, inertia 36967754.57184023.\n",
      "Iteration 93, inertia 36967740.42619239.\n",
      "Iteration 94, inertia 36967728.90026098.\n",
      "Iteration 95, inertia 36967719.91970753.\n",
      "Iteration 96, inertia 36967712.553962335.\n",
      "Iteration 97, inertia 36967706.30454722.\n",
      "Iteration 98, inertia 36967701.15303292.\n",
      "Iteration 99, inertia 36967693.922379136.\n",
      "Iteration 100, inertia 36967686.77136201.\n",
      "Iteration 101, inertia 36967681.020469174.\n",
      "Iteration 102, inertia 36967674.62753605.\n",
      "Iteration 103, inertia 36967669.36779648.\n",
      "Iteration 104, inertia 36967665.342128284.\n",
      "Iteration 105, inertia 36967661.10760589.\n",
      "Iteration 106, inertia 36967656.97256389.\n",
      "Iteration 107, inertia 36967651.70405788.\n",
      "Iteration 108, inertia 36967646.90417708.\n",
      "Iteration 109, inertia 36967642.571288444.\n",
      "Iteration 110, inertia 36967639.208790414.\n",
      "Converged at iteration 110: center shift 0.00013185730504179172 within tolerance 0.00019002088770563274.\n",
      "Initialization complete\n",
      "Iteration 0, inertia 59747198.65831135.\n",
      "Iteration 1, inertia 38407017.19676274.\n",
      "Iteration 2, inertia 37846181.39263332.\n",
      "Iteration 3, inertia 37657754.40944072.\n",
      "Iteration 4, inertia 37518110.69719462.\n",
      "Iteration 5, inertia 37415674.49500751.\n",
      "Iteration 6, inertia 37346551.80862189.\n",
      "Iteration 7, inertia 37294138.26678246.\n",
      "Iteration 8, inertia 37254498.86254519.\n",
      "Iteration 9, inertia 37226659.89871874.\n",
      "Iteration 10, inertia 37208838.53816596.\n",
      "Iteration 11, inertia 37198331.54039802.\n",
      "Iteration 12, inertia 37190896.56108239.\n",
      "Iteration 13, inertia 37185011.699021034.\n",
      "Iteration 14, inertia 37179283.447534986.\n",
      "Iteration 15, inertia 37173321.045635276.\n",
      "Iteration 16, inertia 37166525.81954487.\n",
      "Iteration 17, inertia 37158505.476697594.\n",
      "Iteration 18, inertia 37149541.45822732.\n",
      "Iteration 19, inertia 37139851.85104774.\n",
      "Iteration 20, inertia 37129077.55407894.\n",
      "Iteration 21, inertia 37117612.022795014.\n",
      "Iteration 22, inertia 37106422.189216115.\n",
      "Iteration 23, inertia 37096577.24175654.\n",
      "Iteration 24, inertia 37088144.09528338.\n",
      "Iteration 25, inertia 37081428.88178402.\n",
      "Iteration 26, inertia 37076553.167736545.\n",
      "Iteration 27, inertia 37072845.166707344.\n",
      "Iteration 28, inertia 37069854.68420997.\n",
      "Iteration 29, inertia 37067638.646476075.\n",
      "Iteration 30, inertia 37065878.56317816.\n",
      "Iteration 31, inertia 37064591.92907674.\n",
      "Iteration 32, inertia 37063570.37919696.\n",
      "Iteration 33, inertia 37062823.19076326.\n",
      "Iteration 34, inertia 37062298.25722247.\n",
      "Iteration 35, inertia 37061898.37192122.\n",
      "Iteration 36, inertia 37061559.34771896.\n",
      "Iteration 37, inertia 37061282.95247633.\n",
      "Iteration 38, inertia 37061050.634274915.\n",
      "Iteration 39, inertia 37060840.9408782.\n",
      "Iteration 40, inertia 37060665.38556776.\n",
      "Iteration 41, inertia 37060503.0928321.\n",
      "Iteration 42, inertia 37060365.43971496.\n",
      "Iteration 43, inertia 37060275.76847268.\n",
      "Iteration 44, inertia 37060199.99470277.\n",
      "Iteration 45, inertia 37060136.91508788.\n",
      "Iteration 46, inertia 37060090.40118742.\n",
      "Iteration 47, inertia 37060051.37835875.\n",
      "Iteration 48, inertia 37060013.05606863.\n",
      "Iteration 49, inertia 37059977.64307096.\n",
      "Iteration 50, inertia 37059948.72121274.\n",
      "Iteration 51, inertia 37059919.68127398.\n",
      "Iteration 52, inertia 37059899.180160396.\n",
      "Iteration 53, inertia 37059883.02066234.\n",
      "Iteration 54, inertia 37059867.659177706.\n",
      "Iteration 55, inertia 37059855.376852706.\n",
      "Iteration 56, inertia 37059847.353529975.\n",
      "Iteration 57, inertia 37059837.228289515.\n",
      "Iteration 58, inertia 37059826.725245126.\n",
      "Iteration 59, inertia 37059819.80465696.\n",
      "Iteration 60, inertia 37059814.69642779.\n",
      "Iteration 61, inertia 37059808.30148686.\n",
      "Iteration 62, inertia 37059801.806319505.\n",
      "Iteration 63, inertia 37059796.76379786.\n",
      "Iteration 64, inertia 37059790.2041121.\n",
      "Iteration 65, inertia 37059783.09503974.\n",
      "Iteration 66, inertia 37059777.03337452.\n",
      "Iteration 67, inertia 37059770.68849054.\n",
      "Iteration 68, inertia 37059764.81648329.\n",
      "Iteration 69, inertia 37059760.35564259.\n",
      "Converged at iteration 69: center shift 0.000172102664983008 within tolerance 0.00019002088770563274.\n",
      "Initialization complete\n",
      "Iteration 0, inertia 62157623.89691171.\n",
      "Iteration 1, inertia 38572648.620069526.\n",
      "Iteration 2, inertia 37830254.82893047.\n",
      "Iteration 3, inertia 37560423.03985248.\n",
      "Iteration 4, inertia 37395330.40091716.\n",
      "Iteration 5, inertia 37279712.24687616.\n",
      "Iteration 6, inertia 37215376.07449601.\n",
      "Iteration 7, inertia 37181303.7619358.\n",
      "Iteration 8, inertia 37161054.08765202.\n",
      "Iteration 9, inertia 37147546.283924274.\n",
      "Iteration 10, inertia 37137788.71483696.\n",
      "Iteration 11, inertia 37130513.93244102.\n",
      "Iteration 12, inertia 37124648.59504098.\n",
      "Iteration 13, inertia 37119806.39694014.\n",
      "Iteration 14, inertia 37115842.997784086.\n",
      "Iteration 15, inertia 37112141.642150104.\n",
      "Iteration 16, inertia 37108346.069601975.\n",
      "Iteration 17, inertia 37103949.70291909.\n",
      "Iteration 18, inertia 37098846.24610514.\n",
      "Iteration 19, inertia 37092658.58024346.\n",
      "Iteration 20, inertia 37084139.21441306.\n",
      "Iteration 21, inertia 37073362.69923544.\n",
      "Iteration 22, inertia 37062872.05088753.\n",
      "Iteration 23, inertia 37053924.60823932.\n",
      "Iteration 24, inertia 37047222.343336865.\n",
      "Iteration 25, inertia 37042535.2827694.\n",
      "Iteration 26, inertia 37039612.869507745.\n",
      "Iteration 27, inertia 37037787.56435388.\n",
      "Iteration 28, inertia 37036571.28279868.\n",
      "Iteration 29, inertia 37035671.43365373.\n",
      "Iteration 30, inertia 37034975.81092347.\n",
      "Iteration 31, inertia 37034459.98760727.\n",
      "Iteration 32, inertia 37034075.83683598.\n",
      "Iteration 33, inertia 37033748.46843329.\n",
      "Iteration 34, inertia 37033470.61555415.\n",
      "Iteration 35, inertia 37033235.16612709.\n",
      "Iteration 36, inertia 37033031.00826372.\n",
      "Iteration 37, inertia 37032863.923325054.\n",
      "Iteration 38, inertia 37032714.45576805.\n",
      "Iteration 39, inertia 37032578.44718003.\n",
      "Iteration 40, inertia 37032451.17171095.\n",
      "Iteration 41, inertia 37032328.976578176.\n",
      "Iteration 42, inertia 37032221.210994.\n",
      "Iteration 43, inertia 37032138.38141675.\n",
      "Iteration 44, inertia 37032064.76815539.\n",
      "Iteration 45, inertia 37031999.413466446.\n",
      "Iteration 46, inertia 37031951.36530523.\n",
      "Iteration 47, inertia 37031906.09082669.\n",
      "Iteration 48, inertia 37031867.650600694.\n",
      "Iteration 49, inertia 37031833.04204522.\n",
      "Iteration 50, inertia 37031799.78488012.\n",
      "Iteration 51, inertia 37031767.336880945.\n",
      "Iteration 52, inertia 37031739.50155185.\n",
      "Iteration 53, inertia 37031712.08145024.\n",
      "Iteration 54, inertia 37031692.09449582.\n",
      "Iteration 55, inertia 37031667.87269657.\n",
      "Iteration 56, inertia 37031646.92986927.\n",
      "Iteration 57, inertia 37031628.59781906.\n",
      "Iteration 58, inertia 37031610.10774504.\n",
      "Iteration 59, inertia 37031591.87607326.\n",
      "Iteration 60, inertia 37031568.63235228.\n",
      "Iteration 61, inertia 37031538.61208244.\n",
      "Iteration 62, inertia 37031509.6682957.\n",
      "Iteration 63, inertia 37031481.64475553.\n",
      "Iteration 64, inertia 37031463.16022964.\n",
      "Iteration 65, inertia 37031445.05435421.\n",
      "Iteration 66, inertia 37031426.81361785.\n",
      "Iteration 67, inertia 37031409.1232794.\n",
      "Iteration 68, inertia 37031396.52967052.\n",
      "Iteration 69, inertia 37031384.406467766.\n",
      "Iteration 70, inertia 37031371.71341038.\n",
      "Iteration 71, inertia 37031360.170672625.\n",
      "Iteration 72, inertia 37031349.70946586.\n",
      "Iteration 73, inertia 37031338.75926093.\n",
      "Iteration 74, inertia 37031328.11974806.\n",
      "Iteration 75, inertia 37031321.85552557.\n",
      "Iteration 76, inertia 37031317.43985575.\n",
      "Iteration 77, inertia 37031312.215534486.\n",
      "Iteration 78, inertia 37031304.973368935.\n",
      "Iteration 79, inertia 37031297.01152832.\n",
      "Iteration 80, inertia 37031290.46504647.\n",
      "Iteration 81, inertia 37031283.85582089.\n",
      "Iteration 82, inertia 37031279.10716397.\n",
      "Iteration 83, inertia 37031274.658496864.\n",
      "Iteration 84, inertia 37031270.47471771.\n",
      "Iteration 85, inertia 37031266.94600256.\n",
      "Converged at iteration 85: center shift 0.00016229044286774735 within tolerance 0.00019002088770563274.\n",
      "Initialization complete\n",
      "Iteration 0, inertia 62825109.195407756.\n",
      "Iteration 1, inertia 40901105.73657311.\n",
      "Iteration 2, inertia 37985485.62198134.\n",
      "Iteration 3, inertia 37656819.018336125.\n",
      "Iteration 4, inertia 37477190.00366922.\n",
      "Iteration 5, inertia 37376603.65582758.\n",
      "Iteration 6, inertia 37314950.67264441.\n",
      "Iteration 7, inertia 37273175.03653842.\n",
      "Iteration 8, inertia 37244748.30021478.\n",
      "Iteration 9, inertia 37225679.328729965.\n",
      "Iteration 10, inertia 37211711.5546196.\n",
      "Iteration 11, inertia 37201678.98365157.\n",
      "Iteration 12, inertia 37193706.93027577.\n",
      "Iteration 13, inertia 37187148.74262414.\n",
      "Iteration 14, inertia 37181943.06127924.\n",
      "Iteration 15, inertia 37177960.28057629.\n",
      "Iteration 16, inertia 37174341.24392768.\n",
      "Iteration 17, inertia 37170777.067826144.\n",
      "Iteration 18, inertia 37167609.04688021.\n",
      "Iteration 19, inertia 37164689.43699719.\n",
      "Iteration 20, inertia 37161799.92030497.\n",
      "Iteration 21, inertia 37159065.943037994.\n",
      "Iteration 22, inertia 37156422.05648183.\n",
      "Iteration 23, inertia 37153768.84689431.\n",
      "Iteration 24, inertia 37150882.97671073.\n",
      "Iteration 25, inertia 37147757.88624329.\n",
      "Iteration 26, inertia 37144137.86994696.\n",
      "Iteration 27, inertia 37140447.55198607.\n",
      "Iteration 28, inertia 37136794.92982893.\n",
      "Iteration 29, inertia 37133102.10275028.\n",
      "Iteration 30, inertia 37129548.22914265.\n",
      "Iteration 31, inertia 37125983.48957159.\n",
      "Iteration 32, inertia 37122559.01284708.\n",
      "Iteration 33, inertia 37119313.849755004.\n",
      "Iteration 34, inertia 37116505.35663729.\n",
      "Iteration 35, inertia 37113961.811493725.\n",
      "Iteration 36, inertia 37111705.37164332.\n",
      "Iteration 37, inertia 37109675.953073286.\n",
      "Iteration 38, inertia 37107829.785237566.\n",
      "Iteration 39, inertia 37106261.780960895.\n",
      "Iteration 40, inertia 37104848.75400535.\n",
      "Iteration 41, inertia 37103648.01551129.\n",
      "Iteration 42, inertia 37102649.95672356.\n",
      "Iteration 43, inertia 37101787.41287361.\n",
      "Iteration 44, inertia 37101077.26610876.\n",
      "Iteration 45, inertia 37100392.770892546.\n",
      "Iteration 46, inertia 37099788.40010676.\n",
      "Iteration 47, inertia 37099308.157354504.\n",
      "Iteration 48, inertia 37098895.37551534.\n",
      "Iteration 49, inertia 37098529.97838935.\n",
      "Iteration 50, inertia 37098164.425999746.\n",
      "Iteration 51, inertia 37097816.716206074.\n",
      "Iteration 52, inertia 37097452.78386348.\n",
      "Iteration 53, inertia 37097134.62531818.\n",
      "Iteration 54, inertia 37096831.94321265.\n",
      "Iteration 55, inertia 37096523.40912496.\n",
      "Iteration 56, inertia 37096254.71630125.\n",
      "Iteration 57, inertia 37096002.82790421.\n",
      "Iteration 58, inertia 37095746.64285474.\n",
      "Iteration 59, inertia 37095466.05956867.\n",
      "Iteration 60, inertia 37095132.824719906.\n",
      "Iteration 61, inertia 37094753.80164509.\n",
      "Iteration 62, inertia 37094303.70151293.\n",
      "Iteration 63, inertia 37093828.20820639.\n",
      "Iteration 64, inertia 37093342.06609631.\n",
      "Iteration 65, inertia 37092840.06591413.\n",
      "Iteration 66, inertia 37092405.22193081.\n",
      "Iteration 67, inertia 37092033.904238656.\n",
      "Iteration 68, inertia 37091698.509237334.\n",
      "Iteration 69, inertia 37091366.79465985.\n",
      "Iteration 70, inertia 37091043.10270219.\n",
      "Iteration 71, inertia 37090724.272843055.\n",
      "Iteration 72, inertia 37090365.38548214.\n",
      "Iteration 73, inertia 37090044.264133394.\n",
      "Iteration 74, inertia 37089754.669938475.\n",
      "Iteration 75, inertia 37089466.49360167.\n",
      "Iteration 76, inertia 37089195.271273024.\n",
      "Iteration 77, inertia 37088959.38102671.\n",
      "Iteration 78, inertia 37088727.492884934.\n",
      "Iteration 79, inertia 37088481.59714106.\n",
      "Iteration 80, inertia 37088220.47435594.\n",
      "Iteration 81, inertia 37087978.5957048.\n",
      "Iteration 82, inertia 37087748.02554345.\n",
      "Iteration 83, inertia 37087511.28657065.\n",
      "Iteration 84, inertia 37087261.87689985.\n",
      "Iteration 85, inertia 37086966.07584423.\n",
      "Iteration 86, inertia 37086677.09288718.\n",
      "Iteration 87, inertia 37086361.69843084.\n",
      "Iteration 88, inertia 37086017.10549748.\n",
      "Iteration 89, inertia 37085561.13098376.\n",
      "Iteration 90, inertia 37084915.82535824.\n",
      "Iteration 91, inertia 37083926.59281694.\n",
      "Iteration 92, inertia 37082577.042583585.\n",
      "Iteration 93, inertia 37080646.98576293.\n",
      "Iteration 94, inertia 37077583.853398494.\n",
      "Iteration 95, inertia 37071926.14968789.\n",
      "Iteration 96, inertia 37062526.892961375.\n",
      "Iteration 97, inertia 37050373.536979005.\n",
      "Iteration 98, inertia 37039156.87188286.\n",
      "Iteration 99, inertia 37031686.50926228.\n",
      "Iteration 100, inertia 37028005.82846563.\n",
      "Iteration 101, inertia 37026262.01041401.\n",
      "Iteration 102, inertia 37025219.952682845.\n",
      "Iteration 103, inertia 37024426.48305481.\n",
      "Iteration 104, inertia 37023830.04967847.\n",
      "Iteration 105, inertia 37023309.249823414.\n",
      "Iteration 106, inertia 37022877.74350568.\n",
      "Iteration 107, inertia 37022481.18369944.\n",
      "Iteration 108, inertia 37022160.1423199.\n",
      "Iteration 109, inertia 37021887.20678965.\n",
      "Iteration 110, inertia 37021638.01648872.\n",
      "Iteration 111, inertia 37021396.620085455.\n",
      "Iteration 112, inertia 37021213.57015761.\n",
      "Iteration 113, inertia 37021033.116754904.\n",
      "Iteration 114, inertia 37020893.35087491.\n",
      "Iteration 115, inertia 37020784.67692272.\n",
      "Iteration 116, inertia 37020699.68996069.\n",
      "Iteration 117, inertia 37020625.096892014.\n",
      "Iteration 118, inertia 37020557.83429874.\n",
      "Iteration 119, inertia 37020490.33691912.\n",
      "Iteration 120, inertia 37020415.561500244.\n",
      "Iteration 121, inertia 37020352.18880604.\n",
      "Iteration 122, inertia 37020297.87020364.\n",
      "Iteration 123, inertia 37020257.661500044.\n",
      "Iteration 124, inertia 37020220.88251351.\n",
      "Iteration 125, inertia 37020185.27106403.\n",
      "Iteration 126, inertia 37020151.023685984.\n",
      "Iteration 127, inertia 37020124.05904963.\n",
      "Iteration 128, inertia 37020097.55534402.\n",
      "Iteration 129, inertia 37020074.880945124.\n",
      "Iteration 130, inertia 37020057.99922482.\n",
      "Iteration 131, inertia 37020032.74158804.\n",
      "Iteration 132, inertia 37020011.782010496.\n",
      "Iteration 133, inertia 37019998.19609935.\n",
      "Iteration 134, inertia 37019984.58895586.\n",
      "Iteration 135, inertia 37019970.2008649.\n",
      "Iteration 136, inertia 37019953.26258951.\n",
      "Iteration 137, inertia 37019937.476301715.\n",
      "Iteration 138, inertia 37019922.07784099.\n",
      "Iteration 139, inertia 37019901.06512801.\n",
      "Iteration 140, inertia 37019880.836312614.\n",
      "Iteration 141, inertia 37019866.66529826.\n",
      "Iteration 142, inertia 37019846.86396527.\n",
      "Iteration 143, inertia 37019827.96915163.\n",
      "Iteration 144, inertia 37019812.485547066.\n",
      "Iteration 145, inertia 37019799.7300864.\n",
      "Iteration 146, inertia 37019788.547269836.\n",
      "Iteration 147, inertia 37019779.229553744.\n",
      "Iteration 148, inertia 37019767.93238776.\n",
      "Iteration 149, inertia 37019756.82353031.\n",
      "Iteration 150, inertia 37019747.65324536.\n",
      "Iteration 151, inertia 37019739.008529514.\n",
      "Iteration 152, inertia 37019729.05791304.\n",
      "Iteration 153, inertia 37019720.05606245.\n",
      "Iteration 154, inertia 37019713.15365544.\n",
      "Iteration 155, inertia 37019705.66011219.\n",
      "Iteration 156, inertia 37019698.294327684.\n",
      "Iteration 157, inertia 37019692.97860686.\n",
      "Converged at iteration 157: center shift 0.0001751854652079476 within tolerance 0.00019002088770563274.\n",
      "Initialization complete\n",
      "Iteration 0, inertia 59430682.401796676.\n",
      "Iteration 1, inertia 38395961.51548496.\n",
      "Iteration 2, inertia 37746384.18726482.\n",
      "Iteration 3, inertia 37476373.89972334.\n",
      "Iteration 4, inertia 37317907.5325898.\n",
      "Iteration 5, inertia 37214386.044380106.\n",
      "Iteration 6, inertia 37138963.808800206.\n",
      "Iteration 7, inertia 37084044.336519144.\n",
      "Iteration 8, inertia 37049353.07147604.\n",
      "Iteration 9, inertia 37029700.22239942.\n",
      "Iteration 10, inertia 37017951.11159599.\n",
      "Iteration 11, inertia 37009761.95408063.\n",
      "Iteration 12, inertia 37003725.03713436.\n",
      "Iteration 13, inertia 36999187.51556802.\n",
      "Iteration 14, inertia 36995506.72259564.\n",
      "Iteration 15, inertia 36992603.12890812.\n",
      "Iteration 16, inertia 36990269.27145584.\n",
      "Iteration 17, inertia 36988179.92640512.\n",
      "Iteration 18, inertia 36986268.33713599.\n",
      "Iteration 19, inertia 36984544.35223862.\n",
      "Iteration 20, inertia 36983134.88875115.\n",
      "Iteration 21, inertia 36981933.97420309.\n",
      "Iteration 22, inertia 36980916.248359874.\n",
      "Iteration 23, inertia 36980108.83668997.\n",
      "Iteration 24, inertia 36979501.26122041.\n",
      "Iteration 25, inertia 36979038.96416194.\n",
      "Iteration 26, inertia 36978699.591732144.\n",
      "Iteration 27, inertia 36978435.564691246.\n",
      "Iteration 28, inertia 36978241.16208149.\n",
      "Iteration 29, inertia 36978116.118018255.\n",
      "Iteration 30, inertia 36978010.77801092.\n",
      "Iteration 31, inertia 36977912.32099724.\n",
      "Iteration 32, inertia 36977829.998798475.\n",
      "Iteration 33, inertia 36977764.19783483.\n",
      "Iteration 34, inertia 36977710.27571897.\n",
      "Iteration 35, inertia 36977662.0135232.\n",
      "Iteration 36, inertia 36977613.361737005.\n",
      "Iteration 37, inertia 36977568.19396094.\n",
      "Iteration 38, inertia 36977530.83356564.\n",
      "Iteration 39, inertia 36977488.57921799.\n",
      "Iteration 40, inertia 36977446.54009412.\n",
      "Iteration 41, inertia 36977389.25040194.\n",
      "Iteration 42, inertia 36977332.51146315.\n",
      "Iteration 43, inertia 36977255.9962903.\n",
      "Iteration 44, inertia 36977182.295737624.\n",
      "Iteration 45, inertia 36977105.37351021.\n",
      "Iteration 46, inertia 36977028.38966055.\n",
      "Iteration 47, inertia 36976961.72057832.\n",
      "Iteration 48, inertia 36976890.44102341.\n",
      "Iteration 49, inertia 36976805.60476234.\n",
      "Iteration 50, inertia 36976724.769828916.\n",
      "Iteration 51, inertia 36976636.95313527.\n",
      "Iteration 52, inertia 36976543.28827907.\n",
      "Iteration 53, inertia 36976472.624088496.\n",
      "Iteration 54, inertia 36976414.04176569.\n",
      "Iteration 55, inertia 36976356.92946541.\n",
      "Iteration 56, inertia 36976293.25694568.\n",
      "Iteration 57, inertia 36976238.897857726.\n",
      "Iteration 58, inertia 36976188.66743192.\n",
      "Iteration 59, inertia 36976144.1274675.\n",
      "Iteration 60, inertia 36976109.02717813.\n",
      "Iteration 61, inertia 36976079.81581578.\n",
      "Iteration 62, inertia 36976051.45748469.\n",
      "Iteration 63, inertia 36976027.76329769.\n",
      "Iteration 64, inertia 36976002.77367871.\n",
      "Iteration 65, inertia 36975976.135750614.\n",
      "Iteration 66, inertia 36975948.9425423.\n",
      "Iteration 67, inertia 36975911.57762664.\n",
      "Iteration 68, inertia 36975865.97512532.\n",
      "Iteration 69, inertia 36975815.69616152.\n",
      "Iteration 70, inertia 36975772.85066085.\n",
      "Iteration 71, inertia 36975741.85252097.\n",
      "Iteration 72, inertia 36975710.460164994.\n",
      "Iteration 73, inertia 36975683.24548636.\n",
      "Iteration 74, inertia 36975653.46485327.\n",
      "Iteration 75, inertia 36975619.18743917.\n",
      "Iteration 76, inertia 36975576.02328523.\n",
      "Iteration 77, inertia 36975525.71060173.\n",
      "Iteration 78, inertia 36975476.6977377.\n",
      "Iteration 79, inertia 36975435.36187117.\n",
      "Iteration 80, inertia 36975387.427934006.\n",
      "Iteration 81, inertia 36975333.91019121.\n",
      "Iteration 82, inertia 36975283.953502275.\n",
      "Iteration 83, inertia 36975234.75938402.\n",
      "Iteration 84, inertia 36975179.70644092.\n",
      "Iteration 85, inertia 36975129.101530895.\n",
      "Iteration 86, inertia 36975069.928207286.\n",
      "Iteration 87, inertia 36975007.89591809.\n",
      "Iteration 88, inertia 36974918.95362772.\n",
      "Iteration 89, inertia 36974816.39169619.\n",
      "Iteration 90, inertia 36974706.64567584.\n",
      "Iteration 91, inertia 36974575.95272316.\n",
      "Iteration 92, inertia 36974408.96497496.\n",
      "Iteration 93, inertia 36974190.34801931.\n",
      "Iteration 94, inertia 36973926.290147975.\n",
      "Iteration 95, inertia 36973561.47141467.\n",
      "Iteration 96, inertia 36973203.8588375.\n",
      "Iteration 97, inertia 36972839.09779932.\n",
      "Iteration 98, inertia 36972466.77402636.\n",
      "Iteration 99, inertia 36972038.40698367.\n",
      "Iteration 100, inertia 36971433.156694755.\n",
      "Iteration 101, inertia 36970594.65419885.\n",
      "Iteration 102, inertia 36969484.852858216.\n",
      "Iteration 103, inertia 36968073.029697545.\n",
      "Iteration 104, inertia 36966555.55817892.\n",
      "Iteration 105, inertia 36964771.434611246.\n",
      "Iteration 106, inertia 36962725.99767642.\n",
      "Iteration 107, inertia 36960504.05202262.\n",
      "Iteration 108, inertia 36958477.589619465.\n",
      "Iteration 109, inertia 36956722.78906433.\n",
      "Iteration 110, inertia 36955564.59493484.\n",
      "Iteration 111, inertia 36954832.302547455.\n",
      "Iteration 112, inertia 36954346.981740244.\n",
      "Iteration 113, inertia 36954067.528154686.\n",
      "Iteration 114, inertia 36953924.59025956.\n",
      "Iteration 115, inertia 36953822.42712883.\n",
      "Iteration 116, inertia 36953714.55663244.\n",
      "Iteration 117, inertia 36953615.92938004.\n",
      "Iteration 118, inertia 36953551.44415916.\n",
      "Iteration 119, inertia 36953509.85682327.\n",
      "Iteration 120, inertia 36953486.031487785.\n",
      "Iteration 121, inertia 36953466.7863244.\n",
      "Iteration 122, inertia 36953450.92605573.\n",
      "Iteration 123, inertia 36953436.205569215.\n",
      "Iteration 124, inertia 36953411.08695333.\n",
      "Iteration 125, inertia 36953393.468133114.\n",
      "Iteration 126, inertia 36953381.67961851.\n",
      "Iteration 127, inertia 36953373.10261413.\n",
      "Iteration 128, inertia 36953367.24862005.\n",
      "Iteration 129, inertia 36953362.68471376.\n",
      "Iteration 130, inertia 36953358.727801755.\n",
      "Iteration 131, inertia 36953353.81731627.\n",
      "Converged at iteration 131: center shift 0.00018458732748822957 within tolerance 0.00019002088770563274.\n",
      "Initialization complete\n",
      "Iteration 0, inertia 61106840.11301237.\n",
      "Iteration 1, inertia 38370855.54488308.\n",
      "Iteration 2, inertia 37625786.00997274.\n",
      "Iteration 3, inertia 37357690.14684444.\n",
      "Iteration 4, inertia 37213417.03854697.\n",
      "Iteration 5, inertia 37135352.39820298.\n",
      "Iteration 6, inertia 37097240.157570355.\n",
      "Iteration 7, inertia 37073794.8894797.\n",
      "Iteration 8, inertia 37055408.46940277.\n",
      "Iteration 9, inertia 37039708.131970994.\n",
      "Iteration 10, inertia 37026434.95436771.\n",
      "Iteration 11, inertia 37014928.274921246.\n",
      "Iteration 12, inertia 37005093.796739005.\n",
      "Iteration 13, inertia 36996500.773762085.\n",
      "Iteration 14, inertia 36989545.77885108.\n",
      "Iteration 15, inertia 36984106.12790137.\n",
      "Iteration 16, inertia 36979666.22158401.\n",
      "Iteration 17, inertia 36975962.12949157.\n",
      "Iteration 18, inertia 36972790.20919471.\n",
      "Iteration 19, inertia 36969913.71152256.\n",
      "Iteration 20, inertia 36967240.51679815.\n",
      "Iteration 21, inertia 36964560.21269425.\n",
      "Iteration 22, inertia 36962034.11044271.\n",
      "Iteration 23, inertia 36959742.212065235.\n",
      "Iteration 24, inertia 36957778.47136136.\n",
      "Iteration 25, inertia 36956273.13688596.\n",
      "Iteration 26, inertia 36955270.91384485.\n",
      "Iteration 27, inertia 36954652.85493898.\n",
      "Iteration 28, inertia 36954257.543555625.\n",
      "Iteration 29, inertia 36954034.165571705.\n",
      "Iteration 30, inertia 36953889.51250107.\n",
      "Iteration 31, inertia 36953744.23146807.\n",
      "Iteration 32, inertia 36953647.009091094.\n",
      "Iteration 33, inertia 36953587.36909666.\n",
      "Iteration 34, inertia 36953549.2477747.\n",
      "Iteration 35, inertia 36953515.782809.\n",
      "Iteration 36, inertia 36953481.049812056.\n",
      "Iteration 37, inertia 36953453.76409842.\n",
      "Iteration 38, inertia 36953431.550285086.\n",
      "Iteration 39, inertia 36953413.84564981.\n",
      "Iteration 40, inertia 36953396.78462369.\n",
      "Iteration 41, inertia 36953385.6209969.\n",
      "Iteration 42, inertia 36953375.91644921.\n",
      "Iteration 43, inertia 36953368.560371086.\n",
      "Iteration 44, inertia 36953363.904214285.\n",
      "Iteration 45, inertia 36953359.236234576.\n",
      "Iteration 46, inertia 36953354.919725224.\n",
      "Iteration 47, inertia 36953351.41855177.\n",
      "Converged at iteration 47: center shift 0.00016394416393502868 within tolerance 0.00019002088770563274.\n",
      "Initialization complete\n",
      "Iteration 0, inertia 59958859.041329175.\n",
      "Iteration 1, inertia 38478227.974779844.\n",
      "Iteration 2, inertia 37660998.79024779.\n",
      "Iteration 3, inertia 37389464.369493954.\n",
      "Iteration 4, inertia 37263093.81712752.\n",
      "Iteration 5, inertia 37195597.07528874.\n",
      "Iteration 6, inertia 37153738.976690225.\n",
      "Iteration 7, inertia 37122126.24973216.\n",
      "Iteration 8, inertia 37095906.45156021.\n",
      "Iteration 9, inertia 37073541.67935548.\n",
      "Iteration 10, inertia 37055186.35782778.\n",
      "Iteration 11, inertia 37040042.24245623.\n",
      "Iteration 12, inertia 37027113.28924818.\n",
      "Iteration 13, inertia 37016899.63576926.\n",
      "Iteration 14, inertia 37008603.127476506.\n",
      "Iteration 15, inertia 37001902.87283108.\n",
      "Iteration 16, inertia 36996283.500241086.\n",
      "Iteration 17, inertia 36991591.31220234.\n",
      "Iteration 18, inertia 36987641.55492767.\n",
      "Iteration 19, inertia 36984373.05830019.\n",
      "Iteration 20, inertia 36981560.819360316.\n",
      "Iteration 21, inertia 36979351.84390851.\n",
      "Iteration 22, inertia 36977668.761471316.\n",
      "Iteration 23, inertia 36976055.120674446.\n",
      "Iteration 24, inertia 36974671.321896866.\n",
      "Iteration 25, inertia 36973534.018434554.\n",
      "Iteration 26, inertia 36972537.05248979.\n",
      "Iteration 27, inertia 36971708.76307421.\n",
      "Iteration 28, inertia 36971081.07803616.\n",
      "Iteration 29, inertia 36970555.52589545.\n",
      "Iteration 30, inertia 36970137.94464314.\n",
      "Iteration 31, inertia 36969785.324165255.\n",
      "Iteration 32, inertia 36969510.25225979.\n",
      "Iteration 33, inertia 36969264.98594053.\n",
      "Iteration 34, inertia 36969007.30925715.\n",
      "Iteration 35, inertia 36968769.41153978.\n",
      "Iteration 36, inertia 36968564.14802651.\n",
      "Iteration 37, inertia 36968380.96076736.\n",
      "Iteration 38, inertia 36968201.73757648.\n",
      "Iteration 39, inertia 36968060.62528817.\n",
      "Iteration 40, inertia 36967931.338645846.\n",
      "Iteration 41, inertia 36967793.29225551.\n",
      "Iteration 42, inertia 36967663.85579948.\n",
      "Iteration 43, inertia 36967556.79424599.\n",
      "Iteration 44, inertia 36967476.48704708.\n",
      "Iteration 45, inertia 36967404.45267315.\n",
      "Iteration 46, inertia 36967347.4141902.\n",
      "Iteration 47, inertia 36967296.194421545.\n",
      "Iteration 48, inertia 36967243.357621.\n",
      "Iteration 49, inertia 36967193.87112014.\n",
      "Iteration 50, inertia 36967141.04276506.\n",
      "Iteration 51, inertia 36967090.4206831.\n",
      "Iteration 52, inertia 36967035.93670344.\n",
      "Iteration 53, inertia 36966991.590960994.\n",
      "Iteration 54, inertia 36966948.85378065.\n",
      "Iteration 55, inertia 36966911.300348714.\n",
      "Iteration 56, inertia 36966866.322937116.\n",
      "Iteration 57, inertia 36966825.05097889.\n",
      "Iteration 58, inertia 36966790.06565666.\n",
      "Iteration 59, inertia 36966751.53576672.\n",
      "Iteration 60, inertia 36966716.78062828.\n",
      "Iteration 61, inertia 36966690.51393826.\n",
      "Iteration 62, inertia 36966661.72221191.\n",
      "Iteration 63, inertia 36966636.8334999.\n",
      "Iteration 64, inertia 36966618.49395995.\n",
      "Iteration 65, inertia 36966604.91191446.\n",
      "Iteration 66, inertia 36966594.018483326.\n",
      "Iteration 67, inertia 36966582.55928639.\n",
      "Iteration 68, inertia 36966573.07440905.\n",
      "Iteration 69, inertia 36966565.73868497.\n",
      "Iteration 70, inertia 36966557.10346691.\n",
      "Iteration 71, inertia 36966549.78671127.\n",
      "Iteration 72, inertia 36966541.07411928.\n",
      "Iteration 73, inertia 36966533.33268187.\n",
      "Iteration 74, inertia 36966524.84978333.\n",
      "Iteration 75, inertia 36966515.72126593.\n",
      "Iteration 76, inertia 36966505.053463735.\n",
      "Iteration 77, inertia 36966492.96487786.\n",
      "Iteration 78, inertia 36966479.651681.\n",
      "Iteration 79, inertia 36966467.67452516.\n",
      "Iteration 80, inertia 36966455.12611822.\n",
      "Iteration 81, inertia 36966440.6172028.\n",
      "Iteration 82, inertia 36966427.012401.\n",
      "Iteration 83, inertia 36966417.23926926.\n",
      "Iteration 84, inertia 36966409.242987156.\n",
      "Iteration 85, inertia 36966402.973493375.\n",
      "Iteration 86, inertia 36966396.61561557.\n",
      "Iteration 87, inertia 36966390.74593154.\n",
      "Iteration 88, inertia 36966385.50630288.\n",
      "Iteration 89, inertia 36966380.72649208.\n",
      "Iteration 90, inertia 36966377.07977933.\n",
      "Converged at iteration 90: center shift 0.00017742106637566387 within tolerance 0.00019002088770563274.\n",
      "Initialization complete\n",
      "Iteration 0, inertia 61324758.74715638.\n",
      "Iteration 1, inertia 38600555.22396677.\n",
      "Iteration 2, inertia 37699974.09122893.\n",
      "Iteration 3, inertia 37408400.3466791.\n",
      "Iteration 4, inertia 37278845.242615.\n",
      "Iteration 5, inertia 37209605.22515663.\n",
      "Iteration 6, inertia 37166313.34574868.\n",
      "Iteration 7, inertia 37138008.718252525.\n",
      "Iteration 8, inertia 37118442.27565755.\n",
      "Iteration 9, inertia 37104438.59816915.\n",
      "Iteration 10, inertia 37093317.792679496.\n",
      "Iteration 11, inertia 37084462.25596054.\n",
      "Iteration 12, inertia 37076743.8284892.\n",
      "Iteration 13, inertia 37069120.44885538.\n",
      "Iteration 14, inertia 37061428.916437425.\n",
      "Iteration 15, inertia 37053126.61029496.\n",
      "Iteration 16, inertia 37045175.69655769.\n",
      "Iteration 17, inertia 37037036.72629614.\n",
      "Iteration 18, inertia 37029027.4634888.\n",
      "Iteration 19, inertia 37021181.68443286.\n",
      "Iteration 20, inertia 37014263.869609706.\n",
      "Iteration 21, inertia 37008566.68939519.\n",
      "Iteration 22, inertia 37004171.64066774.\n",
      "Iteration 23, inertia 37000790.186464965.\n",
      "Iteration 24, inertia 36997982.1251395.\n",
      "Iteration 25, inertia 36995896.26662516.\n",
      "Iteration 26, inertia 36994380.320307165.\n",
      "Iteration 27, inertia 36993316.873481825.\n",
      "Iteration 28, inertia 36992500.73785691.\n",
      "Iteration 29, inertia 36991846.47839008.\n",
      "Iteration 30, inertia 36991259.65744766.\n",
      "Iteration 31, inertia 36990709.03638363.\n",
      "Iteration 32, inertia 36990244.35940471.\n",
      "Iteration 33, inertia 36989887.711916625.\n",
      "Iteration 34, inertia 36989571.32108326.\n",
      "Iteration 35, inertia 36989279.26751263.\n",
      "Iteration 36, inertia 36988979.694856174.\n",
      "Iteration 37, inertia 36988672.83689722.\n",
      "Iteration 38, inertia 36988361.583134584.\n",
      "Iteration 39, inertia 36988083.50239485.\n",
      "Iteration 40, inertia 36987851.04421799.\n",
      "Iteration 41, inertia 36987630.05648818.\n",
      "Iteration 42, inertia 36987441.21462956.\n",
      "Iteration 43, inertia 36987301.23358454.\n",
      "Iteration 44, inertia 36987170.5846509.\n",
      "Iteration 45, inertia 36987056.4503598.\n",
      "Iteration 46, inertia 36986964.58454663.\n",
      "Iteration 47, inertia 36986894.150208555.\n",
      "Iteration 48, inertia 36986818.88979877.\n",
      "Iteration 49, inertia 36986755.056849524.\n",
      "Iteration 50, inertia 36986699.47093441.\n",
      "Iteration 51, inertia 36986662.01793766.\n",
      "Iteration 52, inertia 36986628.77788586.\n",
      "Iteration 53, inertia 36986602.84809851.\n",
      "Iteration 54, inertia 36986577.04989116.\n",
      "Iteration 55, inertia 36986550.56156212.\n",
      "Iteration 56, inertia 36986528.640747465.\n",
      "Iteration 57, inertia 36986503.72774077.\n",
      "Iteration 58, inertia 36986479.04038911.\n",
      "Iteration 59, inertia 36986450.98261349.\n",
      "Iteration 60, inertia 36986421.3807597.\n",
      "Iteration 61, inertia 36986389.4548564.\n",
      "Iteration 62, inertia 36986359.29543227.\n",
      "Iteration 63, inertia 36986337.81921874.\n",
      "Iteration 64, inertia 36986322.73628371.\n",
      "Iteration 65, inertia 36986308.8757294.\n",
      "Iteration 66, inertia 36986296.070857264.\n",
      "Iteration 67, inertia 36986281.91496585.\n",
      "Iteration 68, inertia 36986272.22962548.\n",
      "Iteration 69, inertia 36986263.83958063.\n",
      "Iteration 70, inertia 36986253.5761333.\n",
      "Iteration 71, inertia 36986241.07513847.\n",
      "Iteration 72, inertia 36986229.29710331.\n",
      "Iteration 73, inertia 36986215.37006202.\n",
      "Iteration 74, inertia 36986202.32611304.\n",
      "Iteration 75, inertia 36986191.80695728.\n",
      "Iteration 76, inertia 36986181.11036863.\n",
      "Iteration 77, inertia 36986167.63917994.\n",
      "Iteration 78, inertia 36986152.36228318.\n",
      "Iteration 79, inertia 36986134.91961368.\n",
      "Iteration 80, inertia 36986112.38086839.\n",
      "Iteration 81, inertia 36986083.1861313.\n",
      "Iteration 82, inertia 36986047.899026126.\n",
      "Iteration 83, inertia 36986010.98222887.\n",
      "Iteration 84, inertia 36985974.295667015.\n",
      "Iteration 85, inertia 36985938.29412205.\n",
      "Iteration 86, inertia 36985899.22122348.\n",
      "Iteration 87, inertia 36985855.75687966.\n",
      "Iteration 88, inertia 36985805.629746795.\n",
      "Iteration 89, inertia 36985752.810910314.\n",
      "Iteration 90, inertia 36985716.5665964.\n",
      "Iteration 91, inertia 36985683.16301558.\n",
      "Iteration 92, inertia 36985656.5423869.\n",
      "Iteration 93, inertia 36985631.98696518.\n",
      "Iteration 94, inertia 36985602.711683296.\n",
      "Iteration 95, inertia 36985564.39447068.\n",
      "Iteration 96, inertia 36985525.45784866.\n",
      "Iteration 97, inertia 36985486.51220336.\n",
      "Iteration 98, inertia 36985442.91786786.\n",
      "Iteration 99, inertia 36985394.88804481.\n",
      "Iteration 100, inertia 36985349.577762835.\n",
      "Iteration 101, inertia 36985298.1408076.\n",
      "Iteration 102, inertia 36985237.654224016.\n",
      "Iteration 103, inertia 36985159.63328222.\n",
      "Iteration 104, inertia 36985068.58049754.\n",
      "Iteration 105, inertia 36984978.283767104.\n",
      "Iteration 106, inertia 36984892.80947039.\n",
      "Iteration 107, inertia 36984819.78005139.\n",
      "Iteration 108, inertia 36984732.53727905.\n",
      "Iteration 109, inertia 36984627.234627336.\n",
      "Iteration 110, inertia 36984519.58665421.\n",
      "Iteration 111, inertia 36984416.52434901.\n",
      "Iteration 112, inertia 36984307.41893011.\n",
      "Iteration 113, inertia 36984198.41642544.\n",
      "Iteration 114, inertia 36984091.5899328.\n",
      "Iteration 115, inertia 36984002.61108034.\n",
      "Iteration 116, inertia 36983925.5915631.\n",
      "Iteration 117, inertia 36983834.15121952.\n",
      "Iteration 118, inertia 36983728.62525186.\n",
      "Iteration 119, inertia 36983606.449960016.\n",
      "Iteration 120, inertia 36983479.779618524.\n",
      "Iteration 121, inertia 36983345.24191679.\n",
      "Iteration 122, inertia 36983195.62809647.\n",
      "Iteration 123, inertia 36983024.42310094.\n",
      "Iteration 124, inertia 36982859.38142352.\n",
      "Iteration 125, inertia 36982686.47071705.\n",
      "Iteration 126, inertia 36982499.69554163.\n",
      "Iteration 127, inertia 36982282.401896805.\n",
      "Iteration 128, inertia 36982040.361028954.\n",
      "Iteration 129, inertia 36981818.95508967.\n",
      "Iteration 130, inertia 36981600.56976357.\n",
      "Iteration 131, inertia 36981397.60673913.\n",
      "Iteration 132, inertia 36981195.57282539.\n",
      "Iteration 133, inertia 36980999.34106456.\n",
      "Iteration 134, inertia 36980799.78737505.\n",
      "Iteration 135, inertia 36980595.47247947.\n",
      "Iteration 136, inertia 36980376.13839229.\n",
      "Iteration 137, inertia 36980123.773585275.\n",
      "Iteration 138, inertia 36979862.11679252.\n",
      "Iteration 139, inertia 36979592.41833434.\n",
      "Iteration 140, inertia 36979322.821738034.\n",
      "Iteration 141, inertia 36979057.457419276.\n",
      "Iteration 142, inertia 36978788.58554688.\n",
      "Iteration 143, inertia 36978544.269813485.\n",
      "Iteration 144, inertia 36978317.06723286.\n",
      "Iteration 145, inertia 36978093.50816419.\n",
      "Iteration 146, inertia 36977854.04763893.\n",
      "Iteration 147, inertia 36977543.87741588.\n",
      "Iteration 148, inertia 36977263.91604006.\n",
      "Iteration 149, inertia 36976937.08759136.\n",
      "Iteration 150, inertia 36976604.27083692.\n",
      "Iteration 151, inertia 36976242.82876519.\n",
      "Iteration 152, inertia 36975840.72474625.\n",
      "Iteration 153, inertia 36975432.075341955.\n",
      "Iteration 154, inertia 36975043.776684575.\n",
      "Iteration 155, inertia 36974705.92280495.\n",
      "Iteration 156, inertia 36974362.07605462.\n",
      "Iteration 157, inertia 36974053.35291456.\n",
      "Iteration 158, inertia 36973752.98999083.\n",
      "Iteration 159, inertia 36973503.71548087.\n",
      "Iteration 160, inertia 36973263.43255202.\n",
      "Iteration 161, inertia 36973004.16013186.\n",
      "Iteration 162, inertia 36972771.25773656.\n",
      "Iteration 163, inertia 36972526.38429601.\n",
      "Iteration 164, inertia 36972321.7042631.\n",
      "Iteration 165, inertia 36972149.284331635.\n",
      "Iteration 166, inertia 36971977.68483177.\n",
      "Iteration 167, inertia 36971822.26877867.\n",
      "Iteration 168, inertia 36971679.69986307.\n",
      "Iteration 169, inertia 36971533.14237228.\n",
      "Iteration 170, inertia 36971392.11018135.\n",
      "Iteration 171, inertia 36971255.79975955.\n",
      "Iteration 172, inertia 36971140.312026285.\n",
      "Iteration 173, inertia 36971034.373152465.\n",
      "Iteration 174, inertia 36970929.116494775.\n",
      "Iteration 175, inertia 36970812.84327968.\n",
      "Iteration 176, inertia 36970672.433562316.\n",
      "Iteration 177, inertia 36970534.99202074.\n",
      "Iteration 178, inertia 36970407.10065865.\n",
      "Iteration 179, inertia 36970285.934419505.\n",
      "Iteration 180, inertia 36970182.35422641.\n",
      "Iteration 181, inertia 36970084.11213255.\n",
      "Iteration 182, inertia 36969988.85092194.\n",
      "Iteration 183, inertia 36969898.628231145.\n",
      "Iteration 184, inertia 36969810.08722468.\n",
      "Iteration 185, inertia 36969745.09472244.\n",
      "Iteration 186, inertia 36969695.75443924.\n",
      "Iteration 187, inertia 36969645.33937479.\n",
      "Iteration 188, inertia 36969589.67596573.\n",
      "Iteration 189, inertia 36969545.42231483.\n",
      "Iteration 190, inertia 36969509.60966806.\n",
      "Iteration 191, inertia 36969469.68771438.\n",
      "Iteration 192, inertia 36969430.145497695.\n",
      "Iteration 193, inertia 36969398.67353645.\n",
      "Iteration 194, inertia 36969367.2268055.\n",
      "Iteration 195, inertia 36969334.6480155.\n",
      "Iteration 196, inertia 36969296.65989038.\n",
      "Iteration 197, inertia 36969262.11061476.\n",
      "Iteration 198, inertia 36969233.90233432.\n",
      "Iteration 199, inertia 36969207.38126894.\n",
      "Initialization complete\n",
      "Iteration 0, inertia 58007757.474815.\n",
      "Iteration 1, inertia 38139976.622248106.\n",
      "Iteration 2, inertia 37592612.14850929.\n",
      "Iteration 3, inertia 37453840.483677246.\n",
      "Iteration 4, inertia 37372399.9686163.\n",
      "Iteration 5, inertia 37317785.93615595.\n",
      "Iteration 6, inertia 37282338.60088603.\n",
      "Iteration 7, inertia 37258609.99422859.\n",
      "Iteration 8, inertia 37240769.89426833.\n",
      "Iteration 9, inertia 37225981.973968275.\n",
      "Iteration 10, inertia 37212212.273027286.\n",
      "Iteration 11, inertia 37198894.71105323.\n",
      "Iteration 12, inertia 37187488.334121175.\n",
      "Iteration 13, inertia 37178933.22271897.\n",
      "Iteration 14, inertia 37172033.18440175.\n",
      "Iteration 15, inertia 37166065.46474397.\n",
      "Iteration 16, inertia 37159671.48993893.\n",
      "Iteration 17, inertia 37152024.03018038.\n",
      "Iteration 18, inertia 37143031.87209003.\n",
      "Iteration 19, inertia 37133523.37619211.\n",
      "Iteration 20, inertia 37123972.1897142.\n",
      "Iteration 21, inertia 37114615.89343715.\n",
      "Iteration 22, inertia 37105619.39010607.\n",
      "Iteration 23, inertia 37097110.397260614.\n",
      "Iteration 24, inertia 37089874.204838105.\n",
      "Iteration 25, inertia 37084159.71028937.\n",
      "Iteration 26, inertia 37079973.59212231.\n",
      "Iteration 27, inertia 37076712.903330795.\n",
      "Iteration 28, inertia 37074412.92868412.\n",
      "Iteration 29, inertia 37072790.48853275.\n",
      "Iteration 30, inertia 37071641.23827621.\n",
      "Iteration 31, inertia 37070752.830050126.\n",
      "Iteration 32, inertia 37070092.74216154.\n",
      "Iteration 33, inertia 37069581.535703905.\n",
      "Iteration 34, inertia 37069182.18584954.\n",
      "Iteration 35, inertia 37068874.330857836.\n",
      "Iteration 36, inertia 37068623.6831936.\n",
      "Iteration 37, inertia 37068450.95800197.\n",
      "Iteration 38, inertia 37068323.46483567.\n",
      "Iteration 39, inertia 37068205.948013045.\n",
      "Iteration 40, inertia 37068090.558956936.\n",
      "Iteration 41, inertia 37067986.83007695.\n",
      "Iteration 42, inertia 37067892.91309104.\n",
      "Iteration 43, inertia 37067821.86168675.\n",
      "Iteration 44, inertia 37067753.77825518.\n",
      "Iteration 45, inertia 37067691.48061744.\n",
      "Iteration 46, inertia 37067638.10851921.\n",
      "Iteration 47, inertia 37067594.45101327.\n",
      "Iteration 48, inertia 37067556.91452911.\n",
      "Iteration 49, inertia 37067520.211430036.\n",
      "Iteration 50, inertia 37067486.01479126.\n",
      "Iteration 51, inertia 37067454.48916618.\n",
      "Iteration 52, inertia 37067423.44786061.\n",
      "Iteration 53, inertia 37067392.520492926.\n",
      "Iteration 54, inertia 37067360.90201325.\n",
      "Iteration 55, inertia 37067339.92214443.\n",
      "Iteration 56, inertia 37067322.31579202.\n",
      "Iteration 57, inertia 37067307.75554887.\n",
      "Iteration 58, inertia 37067295.28160679.\n",
      "Iteration 59, inertia 37067282.4445319.\n",
      "Iteration 60, inertia 37067268.17192816.\n",
      "Iteration 61, inertia 37067254.604368895.\n",
      "Iteration 62, inertia 37067239.0085125.\n",
      "Iteration 63, inertia 37067225.94340928.\n",
      "Iteration 64, inertia 37067215.89969423.\n",
      "Iteration 65, inertia 37067208.58101429.\n",
      "Iteration 66, inertia 37067203.90186242.\n",
      "Iteration 67, inertia 37067200.07100761.\n",
      "Converged at iteration 67: center shift 0.0001581067322667544 within tolerance 0.00019002088770563274.\n",
      "Initialization complete\n",
      "Iteration 0, inertia 64000425.819107026.\n",
      "Iteration 1, inertia 41588048.07827071.\n",
      "Iteration 2, inertia 40695443.924988694.\n",
      "Iteration 3, inertia 39403058.02799786.\n",
      "Iteration 4, inertia 37492160.152438074.\n",
      "Iteration 5, inertia 37403756.96021218.\n",
      "Iteration 6, inertia 37346104.79121263.\n",
      "Iteration 7, inertia 37308340.38314865.\n",
      "Iteration 8, inertia 37284565.68253247.\n",
      "Iteration 9, inertia 37269300.102304965.\n",
      "Iteration 10, inertia 37257290.53013319.\n",
      "Iteration 11, inertia 37246925.085989036.\n",
      "Iteration 12, inertia 37236286.891041815.\n",
      "Iteration 13, inertia 37224266.88505396.\n",
      "Iteration 14, inertia 37210421.08594522.\n",
      "Iteration 15, inertia 37194484.31196805.\n",
      "Iteration 16, inertia 37177902.674757786.\n",
      "Iteration 17, inertia 37162722.254972674.\n",
      "Iteration 18, inertia 37149861.21764205.\n",
      "Iteration 19, inertia 37139261.24829546.\n",
      "Iteration 20, inertia 37129810.582204424.\n",
      "Iteration 21, inertia 37120283.57875477.\n",
      "Iteration 22, inertia 37110538.87230399.\n",
      "Iteration 23, inertia 37100599.88822066.\n",
      "Iteration 24, inertia 37090581.25334678.\n",
      "Iteration 25, inertia 37081256.70262934.\n",
      "Iteration 26, inertia 37073583.74241629.\n",
      "Iteration 27, inertia 37067394.98723142.\n",
      "Iteration 28, inertia 37061810.526879266.\n",
      "Iteration 29, inertia 37056138.21295828.\n",
      "Iteration 30, inertia 37049877.69366949.\n",
      "Iteration 31, inertia 37042941.28935452.\n",
      "Iteration 32, inertia 37035772.33757978.\n",
      "Iteration 33, inertia 37028542.5135351.\n",
      "Iteration 34, inertia 37022298.98493193.\n",
      "Iteration 35, inertia 37017657.26599021.\n",
      "Iteration 36, inertia 37014154.761865206.\n",
      "Iteration 37, inertia 37011662.61585285.\n",
      "Iteration 38, inertia 37009745.52083484.\n",
      "Iteration 39, inertia 37008420.92246633.\n",
      "Iteration 40, inertia 37007394.665539145.\n",
      "Iteration 41, inertia 37006460.44030868.\n",
      "Iteration 42, inertia 37005605.06580839.\n",
      "Iteration 43, inertia 37004789.11114806.\n",
      "Iteration 44, inertia 37003953.60029574.\n",
      "Iteration 45, inertia 37003102.5241914.\n",
      "Iteration 46, inertia 37002128.34705988.\n",
      "Iteration 47, inertia 37001213.77245863.\n",
      "Iteration 48, inertia 37000299.127787925.\n",
      "Iteration 49, inertia 36999341.15639702.\n",
      "Iteration 50, inertia 36998313.99856624.\n",
      "Iteration 51, inertia 36997184.369553916.\n",
      "Iteration 52, inertia 36995973.91538807.\n",
      "Iteration 53, inertia 36994582.26155285.\n",
      "Iteration 54, inertia 36993167.07355646.\n",
      "Iteration 55, inertia 36991709.68883137.\n",
      "Iteration 56, inertia 36990059.49264839.\n",
      "Iteration 57, inertia 36988189.22152869.\n",
      "Iteration 58, inertia 36986355.317528225.\n",
      "Iteration 59, inertia 36984530.81717017.\n",
      "Iteration 60, inertia 36982806.246679924.\n",
      "Iteration 61, inertia 36981053.799215466.\n",
      "Iteration 62, inertia 36979430.520438924.\n",
      "Iteration 63, inertia 36977884.85778411.\n",
      "Iteration 64, inertia 36976493.12188559.\n",
      "Iteration 65, inertia 36975223.08059845.\n",
      "Iteration 66, inertia 36974203.24555166.\n",
      "Iteration 67, inertia 36973378.54764448.\n",
      "Iteration 68, inertia 36972578.73385756.\n",
      "Iteration 69, inertia 36971881.65935533.\n",
      "Iteration 70, inertia 36971283.15794368.\n",
      "Iteration 71, inertia 36970791.33386293.\n",
      "Iteration 72, inertia 36970427.20874832.\n",
      "Iteration 73, inertia 36970144.41305538.\n",
      "Iteration 74, inertia 36969881.807924576.\n",
      "Iteration 75, inertia 36969689.46645557.\n",
      "Iteration 76, inertia 36969507.27478769.\n",
      "Iteration 77, inertia 36969340.0379353.\n",
      "Iteration 78, inertia 36969213.55820254.\n",
      "Iteration 79, inertia 36969111.66381573.\n",
      "Iteration 80, inertia 36969030.38125782.\n",
      "Iteration 81, inertia 36968968.07886876.\n",
      "Iteration 82, inertia 36968917.36953233.\n",
      "Iteration 83, inertia 36968859.69214614.\n",
      "Iteration 84, inertia 36968812.01715645.\n",
      "Iteration 85, inertia 36968772.205708474.\n",
      "Iteration 86, inertia 36968740.28962923.\n",
      "Iteration 87, inertia 36968713.59664488.\n",
      "Iteration 88, inertia 36968688.071575634.\n",
      "Iteration 89, inertia 36968666.49721674.\n",
      "Iteration 90, inertia 36968646.52312559.\n",
      "Iteration 91, inertia 36968623.65666386.\n",
      "Iteration 92, inertia 36968604.76127491.\n",
      "Iteration 93, inertia 36968584.6308881.\n",
      "Iteration 94, inertia 36968567.31436846.\n",
      "Iteration 95, inertia 36968546.98776151.\n",
      "Iteration 96, inertia 36968526.05130823.\n",
      "Iteration 97, inertia 36968507.93191388.\n",
      "Iteration 98, inertia 36968485.68196855.\n",
      "Iteration 99, inertia 36968468.67549458.\n",
      "Iteration 100, inertia 36968454.50288748.\n",
      "Iteration 101, inertia 36968443.09769744.\n",
      "Iteration 102, inertia 36968433.38983985.\n",
      "Iteration 103, inertia 36968424.05786563.\n",
      "Iteration 104, inertia 36968413.953944966.\n",
      "Iteration 105, inertia 36968401.87589924.\n",
      "Iteration 106, inertia 36968388.33725582.\n",
      "Iteration 107, inertia 36968373.66944155.\n",
      "Iteration 108, inertia 36968358.91426003.\n",
      "Iteration 109, inertia 36968347.01724128.\n",
      "Iteration 110, inertia 36968337.257325485.\n",
      "Iteration 111, inertia 36968328.60763747.\n",
      "Iteration 112, inertia 36968322.194999695.\n",
      "Iteration 113, inertia 36968315.60884305.\n",
      "Iteration 114, inertia 36968306.05814287.\n",
      "Iteration 115, inertia 36968294.846789695.\n",
      "Iteration 116, inertia 36968281.41215233.\n",
      "Iteration 117, inertia 36968265.720829904.\n",
      "Iteration 118, inertia 36968253.814943716.\n",
      "Iteration 119, inertia 36968241.418224834.\n",
      "Iteration 120, inertia 36968230.890847534.\n",
      "Iteration 121, inertia 36968220.50498656.\n",
      "Iteration 122, inertia 36968207.27219404.\n",
      "Iteration 123, inertia 36968194.877086654.\n",
      "Iteration 124, inertia 36968184.70855309.\n",
      "Iteration 125, inertia 36968171.50419351.\n",
      "Iteration 126, inertia 36968155.65558793.\n",
      "Iteration 127, inertia 36968141.64201495.\n",
      "Iteration 128, inertia 36968124.28600934.\n",
      "Iteration 129, inertia 36968104.48315707.\n",
      "Iteration 130, inertia 36968083.16009942.\n",
      "Iteration 131, inertia 36968056.464768946.\n",
      "Iteration 132, inertia 36968030.664719425.\n",
      "Iteration 133, inertia 36968011.45621189.\n",
      "Iteration 134, inertia 36967998.75649161.\n",
      "Iteration 135, inertia 36967983.04672595.\n",
      "Iteration 136, inertia 36967971.19454.\n",
      "Iteration 137, inertia 36967960.04789947.\n",
      "Iteration 138, inertia 36967947.86843971.\n",
      "Iteration 139, inertia 36967937.49649752.\n",
      "Iteration 140, inertia 36967927.29917737.\n",
      "Iteration 141, inertia 36967917.74512261.\n",
      "Iteration 142, inertia 36967907.52943125.\n",
      "Iteration 143, inertia 36967898.37460267.\n",
      "Iteration 144, inertia 36967892.19011786.\n",
      "Iteration 145, inertia 36967886.60387087.\n",
      "Iteration 146, inertia 36967882.17038826.\n",
      "Iteration 147, inertia 36967877.848750465.\n",
      "Iteration 148, inertia 36967872.83266246.\n",
      "Iteration 149, inertia 36967868.94061897.\n",
      "Iteration 150, inertia 36967864.53490099.\n",
      "Iteration 151, inertia 36967859.26832728.\n",
      "Iteration 152, inertia 36967854.94871913.\n",
      "Iteration 153, inertia 36967849.59024753.\n",
      "Iteration 154, inertia 36967843.807505146.\n",
      "Iteration 155, inertia 36967839.21277118.\n",
      "Converged at iteration 155: center shift 0.00018818880462581416 within tolerance 0.00019002088770563274.\n",
      "Initialization complete\n",
      "Iteration 0, inertia 60582875.08313825.\n",
      "Iteration 1, inertia 38567438.703873836.\n",
      "Iteration 2, inertia 37758271.002084725.\n",
      "Iteration 3, inertia 37500473.68122508.\n",
      "Iteration 4, inertia 37379068.75912752.\n",
      "Iteration 5, inertia 37292542.51473941.\n",
      "Iteration 6, inertia 37227211.17887395.\n",
      "Iteration 7, inertia 37188265.98700806.\n",
      "Iteration 8, inertia 37167361.97926207.\n",
      "Iteration 9, inertia 37154523.14071831.\n",
      "Iteration 10, inertia 37143490.13401439.\n",
      "Iteration 11, inertia 37130744.89876124.\n",
      "Iteration 12, inertia 37114739.756378464.\n",
      "Iteration 13, inertia 37095738.45871363.\n",
      "Iteration 14, inertia 37078289.71189272.\n",
      "Iteration 15, inertia 37065429.282054625.\n",
      "Iteration 16, inertia 37057389.550777435.\n",
      "Iteration 17, inertia 37052390.722479396.\n",
      "Iteration 18, inertia 37048718.34991211.\n",
      "Iteration 19, inertia 37045733.74832774.\n",
      "Iteration 20, inertia 37042844.17033258.\n",
      "Iteration 21, inertia 37040192.724816985.\n",
      "Iteration 22, inertia 37037746.48219129.\n",
      "Iteration 23, inertia 37034974.90393668.\n",
      "Iteration 24, inertia 37031883.011668324.\n",
      "Iteration 25, inertia 37028336.470582105.\n",
      "Iteration 26, inertia 37024600.189797275.\n",
      "Iteration 27, inertia 37020697.53620385.\n",
      "Iteration 28, inertia 37016832.73073862.\n",
      "Iteration 29, inertia 37012732.440285064.\n",
      "Iteration 30, inertia 37008530.31396874.\n",
      "Iteration 31, inertia 37003794.92751693.\n",
      "Iteration 32, inertia 36997490.08790784.\n",
      "Iteration 33, inertia 36988943.69602997.\n",
      "Iteration 34, inertia 36980225.891712055.\n",
      "Iteration 35, inertia 36974032.65316904.\n",
      "Iteration 36, inertia 36970813.08101001.\n",
      "Iteration 37, inertia 36969372.716340624.\n",
      "Iteration 38, inertia 36968728.98901005.\n",
      "Iteration 39, inertia 36968371.30229261.\n",
      "Iteration 40, inertia 36968128.54912465.\n",
      "Iteration 41, inertia 36967980.142659076.\n",
      "Iteration 42, inertia 36967888.815991424.\n",
      "Iteration 43, inertia 36967817.57698746.\n",
      "Iteration 44, inertia 36967769.01731805.\n",
      "Iteration 45, inertia 36967735.350199774.\n",
      "Iteration 46, inertia 36967707.81815965.\n",
      "Iteration 47, inertia 36967682.58828196.\n",
      "Iteration 48, inertia 36967659.908371136.\n",
      "Iteration 49, inertia 36967634.58517357.\n",
      "Iteration 50, inertia 36967615.58262257.\n",
      "Iteration 51, inertia 36967595.99402532.\n",
      "Iteration 52, inertia 36967578.25779298.\n",
      "Iteration 53, inertia 36967557.35243548.\n",
      "Iteration 54, inertia 36967537.87703411.\n",
      "Iteration 55, inertia 36967517.32837771.\n",
      "Iteration 56, inertia 36967498.54937081.\n",
      "Iteration 57, inertia 36967474.35314437.\n",
      "Iteration 58, inertia 36967453.91674668.\n",
      "Iteration 59, inertia 36967437.868197024.\n",
      "Iteration 60, inertia 36967421.91730803.\n",
      "Iteration 61, inertia 36967407.22383227.\n",
      "Iteration 62, inertia 36967394.66940913.\n",
      "Iteration 63, inertia 36967383.74135363.\n",
      "Iteration 64, inertia 36967373.62862956.\n",
      "Iteration 65, inertia 36967367.72680139.\n",
      "Converged at iteration 65: center shift 0.0001678149769210224 within tolerance 0.00019002088770563274.\n",
      "Initialization complete\n",
      "Iteration 0, inertia 59735824.02030016.\n",
      "Iteration 1, inertia 38330988.85466134.\n",
      "Iteration 2, inertia 37595232.31442743.\n",
      "Iteration 3, inertia 37343951.59742277.\n",
      "Iteration 4, inertia 37225424.645698816.\n",
      "Iteration 5, inertia 37155993.92571777.\n",
      "Iteration 6, inertia 37113135.99544361.\n",
      "Iteration 7, inertia 37087774.203623705.\n",
      "Iteration 8, inertia 37070436.90998253.\n",
      "Iteration 9, inertia 37055385.01200732.\n",
      "Iteration 10, inertia 37043147.18063168.\n",
      "Iteration 11, inertia 37034019.26116828.\n",
      "Iteration 12, inertia 37026859.9783418.\n",
      "Iteration 13, inertia 37021420.55636642.\n",
      "Iteration 14, inertia 37017204.20463346.\n",
      "Iteration 15, inertia 37013908.620613694.\n",
      "Iteration 16, inertia 37010966.25915784.\n",
      "Iteration 17, inertia 37008394.35047871.\n",
      "Iteration 18, inertia 37005970.96581694.\n",
      "Iteration 19, inertia 37003186.127552465.\n",
      "Iteration 20, inertia 36999513.9009856.\n",
      "Iteration 21, inertia 36994846.72991523.\n",
      "Iteration 22, inertia 36989265.86192943.\n",
      "Iteration 23, inertia 36983067.054780416.\n",
      "Iteration 24, inertia 36976922.056564294.\n",
      "Iteration 25, inertia 36971583.2923251.\n",
      "Iteration 26, inertia 36967501.54564807.\n",
      "Iteration 27, inertia 36964505.88424097.\n",
      "Iteration 28, inertia 36962185.69064028.\n",
      "Iteration 29, inertia 36960329.85494462.\n",
      "Iteration 30, inertia 36958960.34319057.\n",
      "Iteration 31, inertia 36957884.80820758.\n",
      "Iteration 32, inertia 36957041.69860076.\n",
      "Iteration 33, inertia 36956400.134008385.\n",
      "Iteration 34, inertia 36955883.53792435.\n",
      "Iteration 35, inertia 36955462.01252587.\n",
      "Iteration 36, inertia 36955132.69574708.\n",
      "Iteration 37, inertia 36954868.27392347.\n",
      "Iteration 38, inertia 36954636.69138125.\n",
      "Iteration 39, inertia 36954478.06034726.\n",
      "Iteration 40, inertia 36954334.931685336.\n",
      "Iteration 41, inertia 36954207.82188676.\n",
      "Iteration 42, inertia 36954111.94926294.\n",
      "Iteration 43, inertia 36954033.3238194.\n",
      "Iteration 44, inertia 36953964.27366618.\n",
      "Iteration 45, inertia 36953910.69762594.\n",
      "Iteration 46, inertia 36953870.68387579.\n",
      "Iteration 47, inertia 36953838.65408157.\n",
      "Iteration 48, inertia 36953815.35857093.\n",
      "Iteration 49, inertia 36953791.08188071.\n",
      "Iteration 50, inertia 36953770.47383626.\n",
      "Iteration 51, inertia 36953754.894920975.\n",
      "Iteration 52, inertia 36953739.376792476.\n",
      "Iteration 53, inertia 36953724.04488067.\n",
      "Iteration 54, inertia 36953710.250467375.\n",
      "Iteration 55, inertia 36953697.0893188.\n",
      "Iteration 56, inertia 36953684.93070274.\n",
      "Iteration 57, inertia 36953673.2119082.\n",
      "Iteration 58, inertia 36953664.1987898.\n",
      "Iteration 59, inertia 36953653.41852513.\n",
      "Iteration 60, inertia 36953642.77010583.\n",
      "Iteration 61, inertia 36953631.43586567.\n",
      "Iteration 62, inertia 36953624.03688794.\n",
      "Iteration 63, inertia 36953615.92476425.\n",
      "Iteration 64, inertia 36953607.49965637.\n",
      "Iteration 65, inertia 36953598.5227617.\n",
      "Iteration 66, inertia 36953590.584449.\n",
      "Iteration 67, inertia 36953581.679882586.\n",
      "Iteration 68, inertia 36953574.07724808.\n",
      "Iteration 69, inertia 36953565.678241335.\n",
      "Iteration 70, inertia 36953555.817696154.\n",
      "Iteration 71, inertia 36953544.88963073.\n",
      "Iteration 72, inertia 36953534.74091415.\n",
      "Iteration 73, inertia 36953526.84151786.\n",
      "Iteration 74, inertia 36953519.78153665.\n",
      "Iteration 75, inertia 36953511.26228233.\n",
      "Iteration 76, inertia 36953502.634414725.\n",
      "Iteration 77, inertia 36953493.04205124.\n",
      "Iteration 78, inertia 36953480.9829591.\n",
      "Iteration 79, inertia 36953472.3871415.\n",
      "Iteration 80, inertia 36953463.553457454.\n",
      "Iteration 81, inertia 36953452.90691917.\n",
      "Iteration 82, inertia 36953443.51823442.\n",
      "Iteration 83, inertia 36953436.37268138.\n",
      "Iteration 84, inertia 36953428.97566162.\n",
      "Iteration 85, inertia 36953422.70623234.\n",
      "Iteration 86, inertia 36953417.47762154.\n",
      "Iteration 87, inertia 36953409.74835746.\n",
      "Iteration 88, inertia 36953401.34597415.\n",
      "Iteration 89, inertia 36953387.82747281.\n",
      "Iteration 90, inertia 36953379.007085636.\n",
      "Iteration 91, inertia 36953372.85087899.\n",
      "Iteration 92, inertia 36953367.131590694.\n",
      "Converged at iteration 92: center shift 0.00018890661817205822 within tolerance 0.00019002088770563274.\n",
      "Initialization complete\n",
      "Iteration 0, inertia 61106580.73790175.\n",
      "Iteration 1, inertia 38042936.55454015.\n",
      "Iteration 2, inertia 37530588.25136212.\n",
      "Iteration 3, inertia 37418750.32282433.\n",
      "Iteration 4, inertia 37374735.50580425.\n",
      "Iteration 5, inertia 37347895.96068258.\n",
      "Iteration 6, inertia 37325688.101033844.\n",
      "Iteration 7, inertia 37303307.31319209.\n",
      "Iteration 8, inertia 37279778.30044791.\n",
      "Iteration 9, inertia 37254308.8609969.\n",
      "Iteration 10, inertia 37229974.77791697.\n",
      "Iteration 11, inertia 37210901.95791737.\n",
      "Iteration 12, inertia 37198490.00337645.\n",
      "Iteration 13, inertia 37190254.12485174.\n",
      "Iteration 14, inertia 37184261.98090006.\n",
      "Iteration 15, inertia 37179327.457968205.\n",
      "Iteration 16, inertia 37175005.23291148.\n",
      "Iteration 17, inertia 37170683.64286817.\n",
      "Iteration 18, inertia 37166138.5277886.\n",
      "Iteration 19, inertia 37160881.18621175.\n",
      "Iteration 20, inertia 37155226.59778156.\n",
      "Iteration 21, inertia 37149124.682059675.\n",
      "Iteration 22, inertia 37142307.02784076.\n",
      "Iteration 23, inertia 37135511.83388908.\n",
      "Iteration 24, inertia 37128371.04725466.\n",
      "Iteration 25, inertia 37120521.02035988.\n",
      "Iteration 26, inertia 37111572.70648208.\n",
      "Iteration 27, inertia 37099564.96753726.\n",
      "Iteration 28, inertia 37083463.414125286.\n",
      "Iteration 29, inertia 37063960.90300887.\n",
      "Iteration 30, inertia 37044592.95814628.\n",
      "Iteration 31, inertia 37029088.53577294.\n",
      "Iteration 32, inertia 37019618.35058119.\n",
      "Iteration 33, inertia 37013777.1372121.\n",
      "Iteration 34, inertia 37010135.79242707.\n",
      "Iteration 35, inertia 37007461.56171599.\n",
      "Iteration 36, inertia 37005303.786166616.\n",
      "Iteration 37, inertia 37003390.2518695.\n",
      "Iteration 38, inertia 37001502.09958638.\n",
      "Iteration 39, inertia 36999488.028502636.\n",
      "Iteration 40, inertia 36997521.423130006.\n",
      "Iteration 41, inertia 36995492.4835613.\n",
      "Iteration 42, inertia 36993546.66291429.\n",
      "Iteration 43, inertia 36991741.59036708.\n",
      "Iteration 44, inertia 36990139.01378846.\n",
      "Iteration 45, inertia 36988584.04497083.\n",
      "Iteration 46, inertia 36987156.96761341.\n",
      "Iteration 47, inertia 36985939.716140635.\n",
      "Iteration 48, inertia 36984856.04367693.\n",
      "Iteration 49, inertia 36983914.63285418.\n",
      "Iteration 50, inertia 36983035.63048064.\n",
      "Iteration 51, inertia 36982311.396530494.\n",
      "Iteration 52, inertia 36981696.98366035.\n",
      "Iteration 53, inertia 36981214.67324156.\n",
      "Iteration 54, inertia 36980798.064833045.\n",
      "Iteration 55, inertia 36980361.424310565.\n",
      "Iteration 56, inertia 36979957.81604611.\n",
      "Iteration 57, inertia 36979614.779458076.\n",
      "Iteration 58, inertia 36979285.76747959.\n",
      "Iteration 59, inertia 36978985.90911335.\n",
      "Iteration 60, inertia 36978690.81686822.\n",
      "Iteration 61, inertia 36978408.375516035.\n",
      "Iteration 62, inertia 36978184.41195502.\n",
      "Iteration 63, inertia 36977996.091225885.\n",
      "Iteration 64, inertia 36977791.68155052.\n",
      "Iteration 65, inertia 36977562.84292814.\n",
      "Iteration 66, inertia 36977328.00327844.\n",
      "Iteration 67, inertia 36977093.20619782.\n",
      "Iteration 68, inertia 36976865.8133093.\n",
      "Iteration 69, inertia 36976646.837261535.\n",
      "Iteration 70, inertia 36976431.66222376.\n",
      "Iteration 71, inertia 36976234.46772021.\n",
      "Iteration 72, inertia 36976037.58411102.\n",
      "Iteration 73, inertia 36975831.799363054.\n",
      "Iteration 74, inertia 36975574.51046869.\n",
      "Iteration 75, inertia 36975282.91812212.\n",
      "Iteration 76, inertia 36974926.563984014.\n",
      "Iteration 77, inertia 36974541.95439403.\n",
      "Iteration 78, inertia 36974150.74875345.\n",
      "Iteration 79, inertia 36973805.19010122.\n",
      "Iteration 80, inertia 36973507.29357189.\n",
      "Iteration 81, inertia 36973222.72167397.\n",
      "Iteration 82, inertia 36972955.79130685.\n",
      "Iteration 83, inertia 36972720.57441863.\n",
      "Iteration 84, inertia 36972524.64744141.\n",
      "Iteration 85, inertia 36972321.63048988.\n",
      "Iteration 86, inertia 36972114.73628887.\n",
      "Iteration 87, inertia 36971915.4509981.\n",
      "Iteration 88, inertia 36971750.05516048.\n",
      "Iteration 89, inertia 36971605.16428607.\n",
      "Iteration 90, inertia 36971450.758327395.\n",
      "Iteration 91, inertia 36971309.27331753.\n",
      "Iteration 92, inertia 36971161.66908274.\n",
      "Iteration 93, inertia 36971013.93855545.\n",
      "Iteration 94, inertia 36970869.423565626.\n",
      "Iteration 95, inertia 36970735.77717927.\n",
      "Iteration 96, inertia 36970620.92886118.\n",
      "Iteration 97, inertia 36970480.647508256.\n",
      "Iteration 98, inertia 36970337.011967905.\n",
      "Iteration 99, inertia 36970193.90605636.\n",
      "Iteration 100, inertia 36970080.22343093.\n",
      "Iteration 101, inertia 36969978.93031403.\n",
      "Iteration 102, inertia 36969888.09433676.\n",
      "Iteration 103, inertia 36969816.96404558.\n",
      "Iteration 104, inertia 36969728.158779904.\n",
      "Iteration 105, inertia 36969647.20702617.\n",
      "Iteration 106, inertia 36969584.8691635.\n",
      "Iteration 107, inertia 36969528.6371247.\n",
      "Iteration 108, inertia 36969468.041831896.\n",
      "Iteration 109, inertia 36969423.39819171.\n",
      "Iteration 110, inertia 36969389.78704536.\n",
      "Iteration 111, inertia 36969350.37229289.\n",
      "Iteration 112, inertia 36969314.83276619.\n",
      "Iteration 113, inertia 36969286.11603837.\n",
      "Iteration 114, inertia 36969250.55218768.\n",
      "Iteration 115, inertia 36969218.51149007.\n",
      "Iteration 116, inertia 36969191.75086525.\n",
      "Iteration 117, inertia 36969170.491797864.\n",
      "Iteration 118, inertia 36969150.275227934.\n",
      "Iteration 119, inertia 36969130.43668689.\n",
      "Iteration 120, inertia 36969104.1923224.\n",
      "Iteration 121, inertia 36969079.11716604.\n",
      "Iteration 122, inertia 36969054.73527204.\n",
      "Iteration 123, inertia 36969021.66911687.\n",
      "Iteration 124, inertia 36968989.62149708.\n",
      "Iteration 125, inertia 36968956.99912291.\n",
      "Iteration 126, inertia 36968926.95193068.\n",
      "Iteration 127, inertia 36968900.113445304.\n",
      "Iteration 128, inertia 36968869.14275731.\n",
      "Iteration 129, inertia 36968827.91105526.\n",
      "Iteration 130, inertia 36968784.61007048.\n",
      "Iteration 131, inertia 36968742.51033891.\n",
      "Iteration 132, inertia 36968708.02808614.\n",
      "Iteration 133, inertia 36968675.50742069.\n",
      "Iteration 134, inertia 36968635.71604043.\n",
      "Iteration 135, inertia 36968592.673218824.\n",
      "Iteration 136, inertia 36968547.258392.\n",
      "Iteration 137, inertia 36968511.35386658.\n",
      "Iteration 138, inertia 36968474.33924329.\n",
      "Iteration 139, inertia 36968445.5832637.\n",
      "Iteration 140, inertia 36968421.439313926.\n",
      "Iteration 141, inertia 36968403.692057535.\n",
      "Iteration 142, inertia 36968385.34933637.\n",
      "Iteration 143, inertia 36968368.05648956.\n",
      "Iteration 144, inertia 36968352.27944467.\n",
      "Iteration 145, inertia 36968335.62410614.\n",
      "Iteration 146, inertia 36968315.1059506.\n",
      "Iteration 147, inertia 36968291.36828194.\n",
      "Iteration 148, inertia 36968269.88850463.\n",
      "Iteration 149, inertia 36968252.950709864.\n",
      "Iteration 150, inertia 36968236.10359081.\n",
      "Iteration 151, inertia 36968219.40823158.\n",
      "Iteration 152, inertia 36968202.3735555.\n",
      "Iteration 153, inertia 36968186.111878365.\n",
      "Iteration 154, inertia 36968170.158686645.\n",
      "Iteration 155, inertia 36968151.62679389.\n",
      "Iteration 156, inertia 36968125.250458606.\n",
      "Iteration 157, inertia 36968102.64684799.\n",
      "Iteration 158, inertia 36968080.10718006.\n",
      "Iteration 159, inertia 36968057.91163169.\n",
      "Iteration 160, inertia 36968038.20420043.\n",
      "Iteration 161, inertia 36968019.80202214.\n",
      "Iteration 162, inertia 36968001.271162465.\n",
      "Iteration 163, inertia 36967987.084911205.\n",
      "Iteration 164, inertia 36967973.93507648.\n",
      "Iteration 165, inertia 36967960.75560877.\n",
      "Iteration 166, inertia 36967949.303464144.\n",
      "Iteration 167, inertia 36967938.966033876.\n",
      "Iteration 168, inertia 36967925.099514134.\n",
      "Iteration 169, inertia 36967913.082630314.\n",
      "Iteration 170, inertia 36967902.504952826.\n",
      "Iteration 171, inertia 36967895.21749571.\n",
      "Iteration 172, inertia 36967889.720493205.\n",
      "Iteration 173, inertia 36967883.46801903.\n",
      "Iteration 174, inertia 36967878.59729456.\n",
      "Iteration 175, inertia 36967874.69294814.\n",
      "Iteration 176, inertia 36967871.02687838.\n",
      "Iteration 177, inertia 36967865.807570875.\n",
      "Iteration 178, inertia 36967860.479732454.\n",
      "Iteration 179, inertia 36967855.19217874.\n",
      "Iteration 180, inertia 36967849.432147376.\n",
      "Iteration 181, inertia 36967842.40702481.\n",
      "Iteration 182, inertia 36967837.156937115.\n",
      "Converged at iteration 182: center shift 0.00015787465255102172 within tolerance 0.00019002088770563274.\n",
      "Initialization complete\n",
      "Iteration 0, inertia 59489381.31605576.\n",
      "Iteration 1, inertia 38576937.31146119.\n",
      "Iteration 2, inertia 37744876.93534589.\n",
      "Iteration 3, inertia 37508023.623241976.\n",
      "Iteration 4, inertia 37373961.622051194.\n",
      "Iteration 5, inertia 37287385.69004643.\n",
      "Iteration 6, inertia 37227541.06809862.\n",
      "Iteration 7, inertia 37183787.29369531.\n",
      "Iteration 8, inertia 37151548.26354675.\n",
      "Iteration 9, inertia 37128424.202781826.\n",
      "Iteration 10, inertia 37111475.968381844.\n",
      "Iteration 11, inertia 37099142.430560894.\n",
      "Iteration 12, inertia 37090092.629276596.\n",
      "Iteration 13, inertia 37083328.81850019.\n",
      "Iteration 14, inertia 37078420.918860875.\n",
      "Iteration 15, inertia 37074429.51361557.\n",
      "Iteration 16, inertia 37071251.62384535.\n",
      "Iteration 17, inertia 37068477.52748333.\n",
      "Iteration 18, inertia 37065911.54862627.\n",
      "Iteration 19, inertia 37063077.810679644.\n",
      "Iteration 20, inertia 37059851.96354994.\n",
      "Iteration 21, inertia 37056353.99292162.\n",
      "Iteration 22, inertia 37052502.208247155.\n",
      "Iteration 23, inertia 37048063.04453181.\n",
      "Iteration 24, inertia 37042582.39855693.\n",
      "Iteration 25, inertia 37035868.95002504.\n",
      "Iteration 26, inertia 37028016.64601468.\n",
      "Iteration 27, inertia 37019857.49954559.\n",
      "Iteration 28, inertia 37012689.709612146.\n",
      "Iteration 29, inertia 37007394.39811307.\n",
      "Iteration 30, inertia 37003605.80118619.\n",
      "Iteration 31, inertia 37001367.1121658.\n",
      "Iteration 32, inertia 36999735.76274845.\n",
      "Iteration 33, inertia 36998383.29873207.\n",
      "Iteration 34, inertia 36997279.07001626.\n",
      "Iteration 35, inertia 36996257.90569016.\n",
      "Iteration 36, inertia 36995294.56120574.\n",
      "Iteration 37, inertia 36994404.45595316.\n",
      "Iteration 38, inertia 36993481.49723551.\n",
      "Iteration 39, inertia 36992667.491791084.\n",
      "Iteration 40, inertia 36991883.13675992.\n",
      "Iteration 41, inertia 36991135.011166826.\n",
      "Iteration 42, inertia 36990446.53171194.\n",
      "Iteration 43, inertia 36989829.05436352.\n",
      "Iteration 44, inertia 36989204.08751918.\n",
      "Iteration 45, inertia 36988655.04228361.\n",
      "Iteration 46, inertia 36988083.25906032.\n",
      "Iteration 47, inertia 36987478.20848696.\n",
      "Iteration 48, inertia 36986908.11756112.\n",
      "Iteration 49, inertia 36986476.30825252.\n",
      "Iteration 50, inertia 36986043.44905829.\n",
      "Iteration 51, inertia 36985581.00962851.\n",
      "Iteration 52, inertia 36985134.04888709.\n",
      "Iteration 53, inertia 36984713.73241009.\n",
      "Iteration 54, inertia 36984304.65186753.\n",
      "Iteration 55, inertia 36983921.77847566.\n",
      "Iteration 56, inertia 36983593.42749526.\n",
      "Iteration 57, inertia 36983253.169305325.\n",
      "Iteration 58, inertia 36982948.96669092.\n",
      "Iteration 59, inertia 36982628.08098604.\n",
      "Iteration 60, inertia 36982284.73409507.\n",
      "Iteration 61, inertia 36981900.39510785.\n",
      "Iteration 62, inertia 36981495.218993634.\n",
      "Iteration 63, inertia 36981031.97638563.\n",
      "Iteration 64, inertia 36980579.19499569.\n",
      "Iteration 65, inertia 36980093.99040322.\n",
      "Iteration 66, inertia 36979575.57843444.\n",
      "Iteration 67, inertia 36979043.65037372.\n",
      "Iteration 68, inertia 36978515.4338304.\n",
      "Iteration 69, inertia 36977965.28136746.\n",
      "Iteration 70, inertia 36977395.993108466.\n",
      "Iteration 71, inertia 36976875.34157241.\n",
      "Iteration 72, inertia 36976352.131817594.\n",
      "Iteration 73, inertia 36975940.90038324.\n",
      "Iteration 74, inertia 36975582.66310741.\n",
      "Iteration 75, inertia 36975256.15393707.\n",
      "Iteration 76, inertia 36974917.48590363.\n",
      "Iteration 77, inertia 36974601.74549873.\n",
      "Iteration 78, inertia 36974279.62888183.\n",
      "Iteration 79, inertia 36973950.66467526.\n",
      "Iteration 80, inertia 36973668.149222896.\n",
      "Iteration 81, inertia 36973393.06495797.\n",
      "Iteration 82, inertia 36973125.95015119.\n",
      "Iteration 83, inertia 36972905.24383153.\n",
      "Iteration 84, inertia 36972707.09705822.\n",
      "Iteration 85, inertia 36972483.30734623.\n",
      "Iteration 86, inertia 36972279.57921616.\n",
      "Iteration 87, inertia 36972079.56582332.\n",
      "Iteration 88, inertia 36971884.48313699.\n",
      "Iteration 89, inertia 36971711.01710361.\n",
      "Iteration 90, inertia 36971527.77511277.\n",
      "Iteration 91, inertia 36971364.417974085.\n",
      "Iteration 92, inertia 36971234.96073799.\n",
      "Iteration 93, inertia 36971122.26345238.\n",
      "Iteration 94, inertia 36971017.0847862.\n",
      "Iteration 95, inertia 36970906.075994395.\n",
      "Iteration 96, inertia 36970774.38626759.\n",
      "Iteration 97, inertia 36970637.14019144.\n",
      "Iteration 98, inertia 36970501.07666524.\n",
      "Iteration 99, inertia 36970384.8720245.\n",
      "Iteration 100, inertia 36970277.763077244.\n",
      "Iteration 101, inertia 36970177.93566393.\n",
      "Iteration 102, inertia 36970078.951126695.\n",
      "Iteration 103, inertia 36969984.43781201.\n",
      "Iteration 104, inertia 36969904.056711905.\n",
      "Iteration 105, inertia 36969832.3300643.\n",
      "Iteration 106, inertia 36969771.50784525.\n",
      "Iteration 107, inertia 36969715.97638203.\n",
      "Iteration 108, inertia 36969651.763353586.\n",
      "Iteration 109, inertia 36969594.78026462.\n",
      "Iteration 110, inertia 36969550.38766265.\n",
      "Iteration 111, inertia 36969512.7221408.\n",
      "Iteration 112, inertia 36969474.04786884.\n",
      "Iteration 113, inertia 36969437.95581359.\n",
      "Iteration 114, inertia 36969404.08502178.\n",
      "Iteration 115, inertia 36969371.06468534.\n",
      "Iteration 116, inertia 36969342.285778046.\n",
      "Iteration 117, inertia 36969316.05947892.\n",
      "Iteration 118, inertia 36969283.8810272.\n",
      "Iteration 119, inertia 36969247.27472614.\n",
      "Iteration 120, inertia 36969217.74214809.\n",
      "Iteration 121, inertia 36969187.96180226.\n",
      "Iteration 122, inertia 36969158.875900164.\n",
      "Iteration 123, inertia 36969132.61921245.\n",
      "Iteration 124, inertia 36969101.75549295.\n",
      "Iteration 125, inertia 36969068.1545118.\n",
      "Iteration 126, inertia 36969033.420086786.\n",
      "Iteration 127, inertia 36968996.01672182.\n",
      "Iteration 128, inertia 36968958.36785843.\n",
      "Iteration 129, inertia 36968929.53470499.\n",
      "Iteration 130, inertia 36968896.182949916.\n",
      "Iteration 131, inertia 36968857.70473939.\n",
      "Iteration 132, inertia 36968813.63458787.\n",
      "Iteration 133, inertia 36968779.96763971.\n",
      "Iteration 134, inertia 36968751.63773069.\n",
      "Iteration 135, inertia 36968726.458376385.\n",
      "Iteration 136, inertia 36968696.270497456.\n",
      "Iteration 137, inertia 36968659.4541895.\n",
      "Iteration 138, inertia 36968623.45047913.\n",
      "Iteration 139, inertia 36968589.72065095.\n",
      "Iteration 140, inertia 36968562.43085168.\n",
      "Iteration 141, inertia 36968536.3845063.\n",
      "Iteration 142, inertia 36968510.62380188.\n",
      "Iteration 143, inertia 36968485.39938424.\n",
      "Iteration 144, inertia 36968452.70253053.\n",
      "Iteration 145, inertia 36968420.37794567.\n",
      "Iteration 146, inertia 36968391.86493351.\n",
      "Iteration 147, inertia 36968367.791267276.\n",
      "Iteration 148, inertia 36968345.51791848.\n",
      "Iteration 149, inertia 36968326.03073191.\n",
      "Iteration 150, inertia 36968307.333226085.\n",
      "Iteration 151, inertia 36968288.25767031.\n",
      "Iteration 152, inertia 36968272.56099698.\n",
      "Iteration 153, inertia 36968256.955634214.\n",
      "Iteration 154, inertia 36968240.646188244.\n",
      "Iteration 155, inertia 36968222.152316965.\n",
      "Iteration 156, inertia 36968206.913660556.\n",
      "Iteration 157, inertia 36968195.50032088.\n",
      "Iteration 158, inertia 36968182.71221198.\n",
      "Iteration 159, inertia 36968167.18182484.\n",
      "Iteration 160, inertia 36968150.216221936.\n",
      "Iteration 161, inertia 36968125.35808916.\n",
      "Iteration 162, inertia 36968099.6422848.\n",
      "Iteration 163, inertia 36968077.79251255.\n",
      "Iteration 164, inertia 36968057.91234293.\n",
      "Iteration 165, inertia 36968036.57657199.\n",
      "Iteration 166, inertia 36968020.019463435.\n",
      "Iteration 167, inertia 36968000.64325459.\n",
      "Iteration 168, inertia 36967985.94603629.\n",
      "Iteration 169, inertia 36967972.39815604.\n",
      "Iteration 170, inertia 36967959.22711898.\n",
      "Iteration 171, inertia 36967949.50733646.\n",
      "Iteration 172, inertia 36967938.98927659.\n",
      "Iteration 173, inertia 36967925.88755819.\n",
      "Iteration 174, inertia 36967914.33762476.\n",
      "Iteration 175, inertia 36967902.46714659.\n",
      "Iteration 176, inertia 36967894.851216756.\n",
      "Iteration 177, inertia 36967889.5827979.\n",
      "Iteration 178, inertia 36967884.08178157.\n",
      "Iteration 179, inertia 36967878.642654724.\n",
      "Iteration 180, inertia 36967874.8050763.\n",
      "Converged at iteration 180: center shift 0.000184218054704924 within tolerance 0.00019002088770563274.\n",
      "Initialization complete\n",
      "Iteration 0, inertia 64384411.657990225.\n",
      "Iteration 1, inertia 40924757.15930768.\n",
      "Iteration 2, inertia 37745982.18232297.\n",
      "Iteration 3, inertia 37460785.73033475.\n",
      "Iteration 4, inertia 37353298.89556411.\n",
      "Iteration 5, inertia 37289717.495669454.\n",
      "Iteration 6, inertia 37244187.81260508.\n",
      "Iteration 7, inertia 37202576.66624252.\n",
      "Iteration 8, inertia 37170399.869647615.\n",
      "Iteration 9, inertia 37150714.49224703.\n",
      "Iteration 10, inertia 37140072.14873264.\n",
      "Iteration 11, inertia 37134188.16005819.\n",
      "Iteration 12, inertia 37130794.80527448.\n",
      "Iteration 13, inertia 37128462.18207216.\n",
      "Iteration 14, inertia 37126781.82447258.\n",
      "Iteration 15, inertia 37125492.196643196.\n",
      "Iteration 16, inertia 37124334.72496985.\n",
      "Iteration 17, inertia 37123398.9460541.\n",
      "Iteration 18, inertia 37122497.44789247.\n",
      "Iteration 19, inertia 37121581.417761505.\n",
      "Iteration 20, inertia 37120826.86318605.\n",
      "Iteration 21, inertia 37120164.26964656.\n",
      "Iteration 22, inertia 37119505.9453987.\n",
      "Iteration 23, inertia 37118916.87609148.\n",
      "Iteration 24, inertia 37118412.22876829.\n",
      "Iteration 25, inertia 37117933.78160901.\n",
      "Iteration 26, inertia 37117453.4473887.\n",
      "Iteration 27, inertia 37116906.936479054.\n",
      "Iteration 28, inertia 37116345.30682281.\n",
      "Iteration 29, inertia 37115694.89555679.\n",
      "Iteration 30, inertia 37115016.577231556.\n",
      "Iteration 31, inertia 37114176.53436576.\n",
      "Iteration 32, inertia 37113091.823996305.\n",
      "Iteration 33, inertia 37111468.02681019.\n",
      "Iteration 34, inertia 37109201.525899135.\n",
      "Iteration 35, inertia 37106477.53318753.\n",
      "Iteration 36, inertia 37103208.278406255.\n",
      "Iteration 37, inertia 37099654.1028472.\n",
      "Iteration 38, inertia 37096032.0891803.\n",
      "Iteration 39, inertia 37092770.5729216.\n",
      "Iteration 40, inertia 37089564.662060305.\n",
      "Iteration 41, inertia 37086513.641547814.\n",
      "Iteration 42, inertia 37083674.86173312.\n",
      "Iteration 43, inertia 37080861.44516021.\n",
      "Iteration 44, inertia 37078080.58746683.\n",
      "Iteration 45, inertia 37075256.89285153.\n",
      "Iteration 46, inertia 37072402.505477756.\n",
      "Iteration 47, inertia 37069384.74728554.\n",
      "Iteration 48, inertia 37066201.342850134.\n",
      "Iteration 49, inertia 37063099.40700278.\n",
      "Iteration 50, inertia 37060143.70984357.\n",
      "Iteration 51, inertia 37057415.81538253.\n",
      "Iteration 52, inertia 37054886.66876271.\n",
      "Iteration 53, inertia 37052366.61658889.\n",
      "Iteration 54, inertia 37049870.35080267.\n",
      "Iteration 55, inertia 37047386.07169055.\n",
      "Iteration 56, inertia 37044687.37587232.\n",
      "Iteration 57, inertia 37041808.05244019.\n",
      "Iteration 58, inertia 37038689.0813207.\n",
      "Iteration 59, inertia 37035475.45448313.\n",
      "Iteration 60, inertia 37031991.64952702.\n",
      "Iteration 61, inertia 37027817.156859115.\n",
      "Iteration 62, inertia 37022604.41247061.\n",
      "Iteration 63, inertia 37015729.10134771.\n",
      "Iteration 64, inertia 37007326.405051395.\n",
      "Iteration 65, inertia 36997765.44238096.\n",
      "Iteration 66, inertia 36988689.28441908.\n",
      "Iteration 67, inertia 36981124.03052363.\n",
      "Iteration 68, inertia 36975832.49429348.\n",
      "Iteration 69, inertia 36972330.01296596.\n",
      "Iteration 70, inertia 36970122.53124446.\n",
      "Iteration 71, inertia 36968650.23947819.\n",
      "Iteration 72, inertia 36967853.39650063.\n",
      "Iteration 73, inertia 36967361.80184618.\n",
      "Iteration 74, inertia 36967042.14882648.\n",
      "Iteration 75, inertia 36966831.18325177.\n",
      "Iteration 76, inertia 36966687.64549102.\n",
      "Iteration 77, inertia 36966595.0729981.\n",
      "Iteration 78, inertia 36966520.99671611.\n",
      "Iteration 79, inertia 36966467.74094695.\n",
      "Iteration 80, inertia 36966428.599227905.\n",
      "Iteration 81, inertia 36966393.98548011.\n",
      "Iteration 82, inertia 36966372.59837294.\n",
      "Iteration 83, inertia 36966359.065593906.\n",
      "Iteration 84, inertia 36966346.68886333.\n",
      "Iteration 85, inertia 36966337.933438964.\n",
      "Iteration 86, inertia 36966328.92059452.\n",
      "Iteration 87, inertia 36966319.24039453.\n",
      "Iteration 88, inertia 36966309.232296675.\n",
      "Iteration 89, inertia 36966300.83124285.\n",
      "Iteration 90, inertia 36966292.37519449.\n",
      "Iteration 91, inertia 36966284.42603402.\n",
      "Iteration 92, inertia 36966277.84983982.\n",
      "Iteration 93, inertia 36966270.88847952.\n",
      "Iteration 94, inertia 36966263.714108974.\n",
      "Iteration 95, inertia 36966257.05568534.\n",
      "Iteration 96, inertia 36966250.95186669.\n",
      "Iteration 97, inertia 36966244.671341345.\n",
      "Iteration 98, inertia 36966238.51758656.\n",
      "Iteration 99, inertia 36966233.53028389.\n",
      "Iteration 100, inertia 36966228.3224771.\n",
      "Iteration 101, inertia 36966222.74808725.\n",
      "Iteration 102, inertia 36966217.97965055.\n",
      "Converged at iteration 102: center shift 0.0001546958750052496 within tolerance 0.00019002088770563274.\n",
      "predicting for customers\n",
      "predicting for population\n",
      "plotting...\n",
      "73.85780109999996\n"
     ]
    },
    {
     "data": {
      "text/plain": "<Figure size 1200x400 with 2 Axes>",
      "image/png": "[encoded data removed]"
     },
     "metadata": {},
     "output_type": "display_data"
    }
   ],
   "source": [
    "t0 = perf_counter()\n",
    "\n",
    "pipeline_pca = run_pipeline(cluster_pipeline_pca,\n",
    "                            azdias.drop('EINGEFUEGT_AM', axis=1).iloc[::5],\n",
    "                            customers.drop('EINGEFUEGT_AM', axis=1))\n",
    "\n",
    "print(perf_counter()-t0)"
   ],
   "metadata": {
    "collapsed": false,
    "pycharm": {
     "name": "#%%\n"
    }
   }
  },
  {
   "cell_type": "markdown",
   "source": [
    "#### Conclusion\n",
    "We can see that the PCA-dimension reduction works best with the KMeans clustering. We can see that the population is more homogeneously distributed and that the custoers generally belong to four main clusters. With that in mind, we are going to enrich our data with the clusters and then train our classifier in the next chapter with that information."
   ],
   "metadata": {
    "collapsed": false,
    "pycharm": {
     "name": "#%% md\n"
    }
   }
  },
  {
   "cell_type": "markdown",
   "metadata": {
    "pycharm": {
     "name": "#%% md\n"
    }
   },
   "source": [
    "## Part 2: Supervised Learning Model\n",
    "\n",
    "Now that you've found which parts of the population are more likely to be customers of the mail-order company, it's time to build a prediction model. Each of the rows in the \"MAILOUT\" data files represents an individual that was targeted for a mailout campaign. Ideally, we should be able to use the demographic information from each individual to decide whether or not it will be worth it to include that person in the campaign.\n",
    "\n",
    "The \"MAILOUT\" data has been split into two approximately equal parts, each with almost 43 000 data rows. In this part, you can verify your model with the \"TRAIN\" partition, which includes a column, \"RESPONSE\", that states whether or not a person became a customer of the company following the campaign. In the next part, you'll need to create predictions on the \"TEST\" partition, where the \"RESPONSE\" column has been withheld."
   ]
  },
  {
   "cell_type": "markdown",
   "source": [
    "### Intro\n",
    "First we are going to load the data and clean them with the previously implemented cleaning function, with the additional `RESPONSE` column and seperate the labels from the data. After that, we are going to determine the clusters the training data is in and then train a classification model.\n",
    "An overview of the following steps is listed below:\n",
    "- Loading data\n",
    "- Cleaning data\n",
    "- Separating labels from features\n",
    "- Run clustering pipeline on data\n",
    "- Train classifier (with cross validation)\n",
    "- Run classifier on test data"
   ],
   "metadata": {
    "collapsed": false,
    "pycharm": {
     "name": "#%% md\n"
    }
   }
  },
  {
   "cell_type": "code",
   "execution_count": 47,
   "outputs": [],
   "source": [
    "del azdias, customers"
   ],
   "metadata": {
    "collapsed": false,
    "pycharm": {
     "name": "#%%\n"
    }
   }
  },
  {
   "cell_type": "code",
   "execution_count": 48,
   "outputs": [],
   "source": [
    "# added this to common columns, to keep this clean this column as well\n",
    "common_columns = common_columns.append(pd.Index(['RESPONSE']))"
   ],
   "metadata": {
    "collapsed": false,
    "pycharm": {
     "name": "#%%\n"
    }
   }
  },
  {
   "cell_type": "code",
   "execution_count": 49,
   "outputs": [
    {
     "data": {
      "text/plain": "Index(['LNR', 'AGER_TYP', 'AKT_DAT_KL', 'ALTER_HH', 'ALTER_KIND1',\n       'ALTER_KIND2', 'ALTER_KIND3', 'ALTER_KIND4', 'ALTERSKATEGORIE_FEIN',\n       'ANZ_HAUSHALTE_AKTIV',\n       ...\n       'VK_DHT4A', 'VK_DISTANZ', 'VK_ZG11', 'W_KEIT_KIND_HH', 'WOHNDAUER_2008',\n       'WOHNLAGE', 'ZABEOTYP', 'ANREDE_KZ', 'ALTERSKATEGORIE_GROB',\n       'RESPONSE'],\n      dtype='object', length=367)"
     },
     "execution_count": 49,
     "metadata": {},
     "output_type": "execute_result"
    }
   ],
   "source": [
    "common_columns"
   ],
   "metadata": {
    "collapsed": false,
    "pycharm": {
     "name": "#%%\n"
    }
   }
  },
  {
   "cell_type": "markdown",
   "source": [
    "### Load Data"
   ],
   "metadata": {
    "collapsed": false,
    "pycharm": {
     "name": "#%% md\n"
    }
   }
  },
  {
   "cell_type": "code",
   "execution_count": 50,
   "outputs": [],
   "source": [
    "mailout_train = pd.read_csv('data/Udacity_MAILOUT_052018_TRAIN.csv',\n",
    "        sep=';')"
   ],
   "metadata": {
    "collapsed": false,
    "pycharm": {
     "name": "#%%\n"
    }
   }
  },
  {
   "cell_type": "code",
   "execution_count": 51,
   "outputs": [
    {
     "data": {
      "text/plain": "    LNR  AGER_TYP  AKT_DAT_KL  ALTER_HH  ALTER_KIND1  ALTER_KIND2  \\\n0  1763         2         1.0       8.0          NaN          NaN   \n1  1771         1         4.0      13.0          NaN          NaN   \n2  1776         1         1.0       9.0          NaN          NaN   \n3  1460         2         1.0       6.0          NaN          NaN   \n4  1783         2         1.0       9.0          NaN          NaN   \n\n   ALTER_KIND3  ALTER_KIND4  ALTERSKATEGORIE_FEIN  ANZ_HAUSHALTE_AKTIV  ...  \\\n0          NaN          NaN                   8.0                 15.0  ...   \n1          NaN          NaN                  13.0                  1.0  ...   \n2          NaN          NaN                   7.0                  0.0  ...   \n3          NaN          NaN                   6.0                  4.0  ...   \n4          NaN          NaN                   9.0                 53.0  ...   \n\n   VK_DHT4A  VK_DISTANZ  VK_ZG11  W_KEIT_KIND_HH  WOHNDAUER_2008  WOHNLAGE  \\\n0       5.0         2.0      1.0             6.0             9.0       3.0   \n1       1.0         2.0      1.0             4.0             9.0       7.0   \n2       6.0         4.0      2.0             NaN             9.0       2.0   \n3       8.0        11.0     11.0             6.0             9.0       1.0   \n4       2.0         2.0      1.0             6.0             9.0       3.0   \n\n   ZABEOTYP RESPONSE ANREDE_KZ ALTERSKATEGORIE_GROB  \n0         3        0         2                    4  \n1         1        0         2                    3  \n2         3        0         1                    4  \n3         3        0         2                    4  \n4         3        0         1                    3  \n\n[5 rows x 367 columns]",
      "text/html": "<div>\n<style scoped>\n    .dataframe tbody tr th:only-of-type {\n        vertical-align: middle;\n    }\n\n    .dataframe tbody tr th {\n        vertical-align: top;\n    }\n\n    .dataframe thead th {\n        text-align: right;\n    }\n</style>\n<table border=\"1\" class=\"dataframe\">\n  <thead>\n    <tr style=\"text-align: right;\">\n      <th></th>\n      <th>LNR</th>\n      <th>AGER_TYP</th>\n      <th>AKT_DAT_KL</th>\n      <th>ALTER_HH</th>\n      <th>ALTER_KIND1</th>\n      <th>ALTER_KIND2</th>\n      <th>ALTER_KIND3</th>\n      <th>ALTER_KIND4</th>\n      <th>ALTERSKATEGORIE_FEIN</th>\n      <th>ANZ_HAUSHALTE_AKTIV</th>\n      <th>...</th>\n      <th>VK_DHT4A</th>\n      <th>VK_DISTANZ</th>\n      <th>VK_ZG11</th>\n      <th>W_KEIT_KIND_HH</th>\n      <th>WOHNDAUER_2008</th>\n      <th>WOHNLAGE</th>\n      <th>ZABEOTYP</th>\n      <th>RESPONSE</th>\n      <th>ANREDE_KZ</th>\n      <th>ALTERSKATEGORIE_GROB</th>\n    </tr>\n  </thead>\n  <tbody>\n    <tr>\n      <th>0</th>\n      <td>1763</td>\n      <td>2</td>\n      <td>1.0</td>\n      <td>8.0</td>\n      <td>NaN</td>\n      <td>NaN</td>\n      <td>NaN</td>\n      <td>NaN</td>\n      <td>8.0</td>\n      <td>15.0</td>\n      <td>...</td>\n      <td>5.0</td>\n      <td>2.0</td>\n      <td>1.0</td>\n      <td>6.0</td>\n      <td>9.0</td>\n      <td>3.0</td>\n      <td>3</td>\n      <td>0</td>\n      <td>2</td>\n      <td>4</td>\n    </tr>\n    <tr>\n      <th>1</th>\n      <td>1771</td>\n      <td>1</td>\n      <td>4.0</td>\n      <td>13.0</td>\n      <td>NaN</td>\n      <td>NaN</td>\n      <td>NaN</td>\n      <td>NaN</td>\n      <td>13.0</td>\n      <td>1.0</td>\n      <td>...</td>\n      <td>1.0</td>\n      <td>2.0</td>\n      <td>1.0</td>\n      <td>4.0</td>\n      <td>9.0</td>\n      <td>7.0</td>\n      <td>1</td>\n      <td>0</td>\n      <td>2</td>\n      <td>3</td>\n    </tr>\n    <tr>\n      <th>2</th>\n      <td>1776</td>\n      <td>1</td>\n      <td>1.0</td>\n      <td>9.0</td>\n      <td>NaN</td>\n      <td>NaN</td>\n      <td>NaN</td>\n      <td>NaN</td>\n      <td>7.0</td>\n      <td>0.0</td>\n      <td>...</td>\n      <td>6.0</td>\n      <td>4.0</td>\n      <td>2.0</td>\n      <td>NaN</td>\n      <td>9.0</td>\n      <td>2.0</td>\n      <td>3</td>\n      <td>0</td>\n      <td>1</td>\n      <td>4</td>\n    </tr>\n    <tr>\n      <th>3</th>\n      <td>1460</td>\n      <td>2</td>\n      <td>1.0</td>\n      <td>6.0</td>\n      <td>NaN</td>\n      <td>NaN</td>\n      <td>NaN</td>\n      <td>NaN</td>\n      <td>6.0</td>\n      <td>4.0</td>\n      <td>...</td>\n      <td>8.0</td>\n      <td>11.0</td>\n      <td>11.0</td>\n      <td>6.0</td>\n      <td>9.0</td>\n      <td>1.0</td>\n      <td>3</td>\n      <td>0</td>\n      <td>2</td>\n      <td>4</td>\n    </tr>\n    <tr>\n      <th>4</th>\n      <td>1783</td>\n      <td>2</td>\n      <td>1.0</td>\n      <td>9.0</td>\n      <td>NaN</td>\n      <td>NaN</td>\n      <td>NaN</td>\n      <td>NaN</td>\n      <td>9.0</td>\n      <td>53.0</td>\n      <td>...</td>\n      <td>2.0</td>\n      <td>2.0</td>\n      <td>1.0</td>\n      <td>6.0</td>\n      <td>9.0</td>\n      <td>3.0</td>\n      <td>3</td>\n      <td>0</td>\n      <td>1</td>\n      <td>3</td>\n    </tr>\n  </tbody>\n</table>\n<p>5 rows × 367 columns</p>\n</div>"
     },
     "execution_count": 51,
     "metadata": {},
     "output_type": "execute_result"
    }
   ],
   "source": [
    "mailout_train.head()"
   ],
   "metadata": {
    "collapsed": false,
    "pycharm": {
     "name": "#%%\n"
    }
   }
  },
  {
   "cell_type": "markdown",
   "source": [
    "### Clean Data"
   ],
   "metadata": {
    "collapsed": false,
    "pycharm": {
     "name": "#%% md\n"
    }
   }
  },
  {
   "cell_type": "code",
   "execution_count": 52,
   "outputs": [
    {
     "name": "stdout",
     "output_type": "stream",
     "text": [
      "(42962, 367)\n"
     ]
    }
   ],
   "source": [
    "print(mailout_train.shape)\n",
    "mailout_train = clear_data(mailout_train)\n",
    "mailout_train.drop(['EINGEFUEGT_AM'], axis=1, inplace=True)"
   ],
   "metadata": {
    "collapsed": false,
    "pycharm": {
     "name": "#%%\n"
    }
   }
  },
  {
   "cell_type": "code",
   "execution_count": 53,
   "outputs": [
    {
     "name": "stdout",
     "output_type": "stream",
     "text": [
      "(34214, 366)\n"
     ]
    },
    {
     "data": {
      "text/plain": "    LNR  AGER_TYP  AKT_DAT_KL  ALTER_HH  ALTER_KIND1  ALTER_KIND2  \\\n0  1763         2         1.0       8.0         -1.0         -1.0   \n1  1771         1         4.0      13.0         -1.0         -1.0   \n2  1776         1         1.0       9.0         -1.0         -1.0   \n3  1460         2         1.0       6.0         -1.0         -1.0   \n4  1783         2         1.0       9.0         -1.0         -1.0   \n\n   ALTER_KIND3  ALTER_KIND4  ALTERSKATEGORIE_FEIN  ANZ_HAUSHALTE_AKTIV  ...  \\\n0         -1.0         -1.0                   8.0                 15.0  ...   \n1         -1.0         -1.0                  13.0                  1.0  ...   \n2         -1.0         -1.0                   7.0                  0.0  ...   \n3         -1.0         -1.0                   6.0                  4.0  ...   \n4         -1.0         -1.0                   9.0                 53.0  ...   \n\n   VK_DHT4A  VK_DISTANZ  VK_ZG11  W_KEIT_KIND_HH  WOHNDAUER_2008  WOHNLAGE  \\\n0       5.0         2.0      1.0             6.0             9.0       3.0   \n1       1.0         2.0      1.0             4.0             9.0       7.0   \n2       6.0         4.0      2.0            -1.0             9.0       2.0   \n3       8.0        11.0     11.0             6.0             9.0       1.0   \n4       2.0         2.0      1.0             6.0             9.0       3.0   \n\n   ZABEOTYP  ANREDE_KZ  ALTERSKATEGORIE_GROB  RESPONSE  \n0         3          2                     4         0  \n1         1          2                     3         0  \n2         3          1                     4         0  \n3         3          2                     4         0  \n4         3          1                     3         0  \n\n[5 rows x 366 columns]",
      "text/html": "<div>\n<style scoped>\n    .dataframe tbody tr th:only-of-type {\n        vertical-align: middle;\n    }\n\n    .dataframe tbody tr th {\n        vertical-align: top;\n    }\n\n    .dataframe thead th {\n        text-align: right;\n    }\n</style>\n<table border=\"1\" class=\"dataframe\">\n  <thead>\n    <tr style=\"text-align: right;\">\n      <th></th>\n      <th>LNR</th>\n      <th>AGER_TYP</th>\n      <th>AKT_DAT_KL</th>\n      <th>ALTER_HH</th>\n      <th>ALTER_KIND1</th>\n      <th>ALTER_KIND2</th>\n      <th>ALTER_KIND3</th>\n      <th>ALTER_KIND4</th>\n      <th>ALTERSKATEGORIE_FEIN</th>\n      <th>ANZ_HAUSHALTE_AKTIV</th>\n      <th>...</th>\n      <th>VK_DHT4A</th>\n      <th>VK_DISTANZ</th>\n      <th>VK_ZG11</th>\n      <th>W_KEIT_KIND_HH</th>\n      <th>WOHNDAUER_2008</th>\n      <th>WOHNLAGE</th>\n      <th>ZABEOTYP</th>\n      <th>ANREDE_KZ</th>\n      <th>ALTERSKATEGORIE_GROB</th>\n      <th>RESPONSE</th>\n    </tr>\n  </thead>\n  <tbody>\n    <tr>\n      <th>0</th>\n      <td>1763</td>\n      <td>2</td>\n      <td>1.0</td>\n      <td>8.0</td>\n      <td>-1.0</td>\n      <td>-1.0</td>\n      <td>-1.0</td>\n      <td>-1.0</td>\n      <td>8.0</td>\n      <td>15.0</td>\n      <td>...</td>\n      <td>5.0</td>\n      <td>2.0</td>\n      <td>1.0</td>\n      <td>6.0</td>\n      <td>9.0</td>\n      <td>3.0</td>\n      <td>3</td>\n      <td>2</td>\n      <td>4</td>\n      <td>0</td>\n    </tr>\n    <tr>\n      <th>1</th>\n      <td>1771</td>\n      <td>1</td>\n      <td>4.0</td>\n      <td>13.0</td>\n      <td>-1.0</td>\n      <td>-1.0</td>\n      <td>-1.0</td>\n      <td>-1.0</td>\n      <td>13.0</td>\n      <td>1.0</td>\n      <td>...</td>\n      <td>1.0</td>\n      <td>2.0</td>\n      <td>1.0</td>\n      <td>4.0</td>\n      <td>9.0</td>\n      <td>7.0</td>\n      <td>1</td>\n      <td>2</td>\n      <td>3</td>\n      <td>0</td>\n    </tr>\n    <tr>\n      <th>2</th>\n      <td>1776</td>\n      <td>1</td>\n      <td>1.0</td>\n      <td>9.0</td>\n      <td>-1.0</td>\n      <td>-1.0</td>\n      <td>-1.0</td>\n      <td>-1.0</td>\n      <td>7.0</td>\n      <td>0.0</td>\n      <td>...</td>\n      <td>6.0</td>\n      <td>4.0</td>\n      <td>2.0</td>\n      <td>-1.0</td>\n      <td>9.0</td>\n      <td>2.0</td>\n      <td>3</td>\n      <td>1</td>\n      <td>4</td>\n      <td>0</td>\n    </tr>\n    <tr>\n      <th>3</th>\n      <td>1460</td>\n      <td>2</td>\n      <td>1.0</td>\n      <td>6.0</td>\n      <td>-1.0</td>\n      <td>-1.0</td>\n      <td>-1.0</td>\n      <td>-1.0</td>\n      <td>6.0</td>\n      <td>4.0</td>\n      <td>...</td>\n      <td>8.0</td>\n      <td>11.0</td>\n      <td>11.0</td>\n      <td>6.0</td>\n      <td>9.0</td>\n      <td>1.0</td>\n      <td>3</td>\n      <td>2</td>\n      <td>4</td>\n      <td>0</td>\n    </tr>\n    <tr>\n      <th>4</th>\n      <td>1783</td>\n      <td>2</td>\n      <td>1.0</td>\n      <td>9.0</td>\n      <td>-1.0</td>\n      <td>-1.0</td>\n      <td>-1.0</td>\n      <td>-1.0</td>\n      <td>9.0</td>\n      <td>53.0</td>\n      <td>...</td>\n      <td>2.0</td>\n      <td>2.0</td>\n      <td>1.0</td>\n      <td>6.0</td>\n      <td>9.0</td>\n      <td>3.0</td>\n      <td>3</td>\n      <td>1</td>\n      <td>3</td>\n      <td>0</td>\n    </tr>\n  </tbody>\n</table>\n<p>5 rows × 366 columns</p>\n</div>"
     },
     "execution_count": 53,
     "metadata": {},
     "output_type": "execute_result"
    }
   ],
   "source": [
    "print(mailout_train.shape)\n",
    "mailout_train.head()"
   ],
   "metadata": {
    "collapsed": false,
    "pycharm": {
     "name": "#%%\n"
    }
   }
  },
  {
   "cell_type": "code",
   "execution_count": 54,
   "outputs": [],
   "source": [
    "# get only who answered yes\n",
    "mailout_yes_train = mailout_train[mailout_train.RESPONSE == 1]\n",
    "# get only who answered no\n",
    "mailout_no_train = mailout_train[mailout_train.RESPONSE == 0]"
   ],
   "metadata": {
    "collapsed": false,
    "pycharm": {
     "name": "#%%\n"
    }
   }
  },
  {
   "cell_type": "markdown",
   "source": [
    "### Separate Features & Target"
   ],
   "metadata": {
    "collapsed": false,
    "pycharm": {
     "name": "#%% md\n"
    }
   }
  },
  {
   "cell_type": "code",
   "execution_count": 55,
   "outputs": [],
   "source": [
    "target_mailout = mailout_train.RESPONSE"
   ],
   "metadata": {
    "collapsed": false,
    "pycharm": {
     "name": "#%%\n"
    }
   }
  },
  {
   "cell_type": "code",
   "execution_count": 56,
   "metadata": {
    "pycharm": {
     "name": "#%%\n"
    }
   },
   "outputs": [],
   "source": [
    "feature_mailout = mailout_train.drop(['RESPONSE'], axis=1)"
   ]
  },
  {
   "cell_type": "code",
   "execution_count": 57,
   "outputs": [],
   "source": [
    "del mailout_train"
   ],
   "metadata": {
    "collapsed": false,
    "pycharm": {
     "name": "#%%\n"
    }
   }
  },
  {
   "cell_type": "markdown",
   "source": [
    "### Clustering on Data-Set"
   ],
   "metadata": {
    "collapsed": false,
    "pycharm": {
     "name": "#%% md\n"
    }
   }
  },
  {
   "cell_type": "code",
   "execution_count": 58,
   "outputs": [],
   "source": [
    "yes_clusters = pipeline_pca.predict(mailout_yes_train.drop('RESPONSE', axis=1))\n",
    "no_clusters = pipeline_pca.predict(mailout_no_train.drop('RESPONSE', axis=1))"
   ],
   "metadata": {
    "collapsed": false,
    "pycharm": {
     "name": "#%%\n"
    }
   }
  },
  {
   "cell_type": "code",
   "execution_count": 59,
   "outputs": [
    {
     "data": {
      "text/plain": "Text(0.5, 1.0, 'negative response')"
     },
     "execution_count": 59,
     "metadata": {},
     "output_type": "execute_result"
    },
    {
     "data": {
      "text/plain": "<Figure size 1300x400 with 2 Axes>",
      "image/png": "[encoded data removed]"
     },
     "metadata": {},
     "output_type": "display_data"
    }
   ],
   "source": [
    "fig, ax = plt.subplots(1, 2, sharex=True, figsize=(13,4))\n",
    "ax[0].hist(yes_clusters,bins=12)\n",
    "ax[0].set_title('positive response')\n",
    "ax[1].hist(no_clusters,bins=12)\n",
    "ax[1].set_title('negative response')\n"
   ],
   "metadata": {
    "collapsed": false,
    "pycharm": {
     "name": "#%%\n"
    }
   }
  },
  {
   "cell_type": "markdown",
   "source": [
    "After applying the clustering algorithm on the mailout data, we can see that a pre-analysis on the data has already been performed and the data has already been pre-selected. The data shows the same distribution as our customers, hence the selected data is very similar to our customers data-set.\n",
    "We can also see that the dataset is imbalanced and wen may need to adjust our classifier accordingly."
   ],
   "metadata": {
    "collapsed": false,
    "pycharm": {
     "name": "#%% md\n"
    }
   }
  },
  {
   "cell_type": "markdown",
   "source": [
    "### Train Classifier\n",
    "First we are going to setup a classification pipeline. After that, we are going to enrich the mailout data with the clusters from the previously trained clustering pipeline. Finaly we are going to train a classifier using SVM and optimizing it by using a gridsearch optimizer.\n",
    "As we have seen, the dataset is imbalance, hence the best metrics to choose is the F1 score, therefore the TP values are \"weighted\" double."
   ],
   "metadata": {
    "collapsed": false,
    "pycharm": {
     "name": "#%% md\n"
    }
   }
  },
  {
   "cell_type": "code",
   "execution_count": 76,
   "outputs": [],
   "source": [
    "from sklearn.svm import SVC\n",
    "\n",
    "classifier_pipeline = Pipeline([\n",
    "    ('scaler', StandardScaler()),\n",
    "    ('classifier', SVC(verbose=3))\n",
    "])\n",
    "\n",
    "gridsearch_params = gridsearch_params = {\n",
    "    'classifier__C':np.arange(1,10),\n",
    "    'classifier__kernel': ['linear']#, 'poly', 'rbf', 'sigmoid'],\n",
    "    #'classifier__degree': [2, 3]\n",
    "}\n",
    "\n",
    "classifier_grid_searcher = GridSearchCV(classifier_pipeline, param_grid=gridsearch_params,\n",
    "                             verbose=3, cv=3, scoring='f1', error_score=\"raise\")"
   ],
   "metadata": {
    "collapsed": false,
    "pycharm": {
     "name": "#%%\n"
    }
   }
  },
  {
   "cell_type": "code",
   "execution_count": 77,
   "outputs": [
    {
     "ename": "ValueError",
     "evalue": "The feature names should match those that were passed during fit.\nFeature names unseen at fit time:\n- CLUSTER\n",
     "output_type": "error",
     "traceback": [
      "\u001B[1;31m---------------------------------------------------------------------------\u001B[0m",
      "\u001B[1;31mValueError\u001B[0m                                Traceback (most recent call last)",
      "Cell \u001B[1;32mIn[77], line 2\u001B[0m\n\u001B[0;32m      1\u001B[0m \u001B[38;5;66;03m# enrich data\u001B[39;00m\n\u001B[1;32m----> 2\u001B[0m index_clusters \u001B[38;5;241m=\u001B[39m \u001B[43mpipeline_pca\u001B[49m\u001B[38;5;241;43m.\u001B[39;49m\u001B[43mpredict\u001B[49m\u001B[43m(\u001B[49m\u001B[43mfeature_mailout\u001B[49m\u001B[43m)\u001B[49m\n\u001B[0;32m      3\u001B[0m feature_mailout[\u001B[38;5;124m'\u001B[39m\u001B[38;5;124mCLUSTER\u001B[39m\u001B[38;5;124m'\u001B[39m] \u001B[38;5;241m=\u001B[39m index_clusters\n",
      "File \u001B[1;32m~\\Anaconda3\\envs\\udacity\\lib\\site-packages\\sklearn\\pipeline.py:480\u001B[0m, in \u001B[0;36mPipeline.predict\u001B[1;34m(self, X, **predict_params)\u001B[0m\n\u001B[0;32m    478\u001B[0m Xt \u001B[38;5;241m=\u001B[39m X\n\u001B[0;32m    479\u001B[0m \u001B[38;5;28;01mfor\u001B[39;00m _, name, transform \u001B[38;5;129;01min\u001B[39;00m \u001B[38;5;28mself\u001B[39m\u001B[38;5;241m.\u001B[39m_iter(with_final\u001B[38;5;241m=\u001B[39m\u001B[38;5;28;01mFalse\u001B[39;00m):\n\u001B[1;32m--> 480\u001B[0m     Xt \u001B[38;5;241m=\u001B[39m \u001B[43mtransform\u001B[49m\u001B[38;5;241;43m.\u001B[39;49m\u001B[43mtransform\u001B[49m\u001B[43m(\u001B[49m\u001B[43mXt\u001B[49m\u001B[43m)\u001B[49m\n\u001B[0;32m    481\u001B[0m \u001B[38;5;28;01mreturn\u001B[39;00m \u001B[38;5;28mself\u001B[39m\u001B[38;5;241m.\u001B[39msteps[\u001B[38;5;241m-\u001B[39m\u001B[38;5;241m1\u001B[39m][\u001B[38;5;241m1\u001B[39m]\u001B[38;5;241m.\u001B[39mpredict(Xt, \u001B[38;5;241m*\u001B[39m\u001B[38;5;241m*\u001B[39mpredict_params)\n",
      "File \u001B[1;32m~\\Anaconda3\\envs\\udacity\\lib\\site-packages\\sklearn\\utils\\_set_output.py:142\u001B[0m, in \u001B[0;36m_wrap_method_output.<locals>.wrapped\u001B[1;34m(self, X, *args, **kwargs)\u001B[0m\n\u001B[0;32m    140\u001B[0m \u001B[38;5;129m@wraps\u001B[39m(f)\n\u001B[0;32m    141\u001B[0m \u001B[38;5;28;01mdef\u001B[39;00m \u001B[38;5;21mwrapped\u001B[39m(\u001B[38;5;28mself\u001B[39m, X, \u001B[38;5;241m*\u001B[39margs, \u001B[38;5;241m*\u001B[39m\u001B[38;5;241m*\u001B[39mkwargs):\n\u001B[1;32m--> 142\u001B[0m     data_to_wrap \u001B[38;5;241m=\u001B[39m f(\u001B[38;5;28mself\u001B[39m, X, \u001B[38;5;241m*\u001B[39margs, \u001B[38;5;241m*\u001B[39m\u001B[38;5;241m*\u001B[39mkwargs)\n\u001B[0;32m    143\u001B[0m     \u001B[38;5;28;01mif\u001B[39;00m \u001B[38;5;28misinstance\u001B[39m(data_to_wrap, \u001B[38;5;28mtuple\u001B[39m):\n\u001B[0;32m    144\u001B[0m         \u001B[38;5;66;03m# only wrap the first output for cross decomposition\u001B[39;00m\n\u001B[0;32m    145\u001B[0m         \u001B[38;5;28;01mreturn\u001B[39;00m (\n\u001B[0;32m    146\u001B[0m             _wrap_data_with_container(method, data_to_wrap[\u001B[38;5;241m0\u001B[39m], X, \u001B[38;5;28mself\u001B[39m),\n\u001B[0;32m    147\u001B[0m             \u001B[38;5;241m*\u001B[39mdata_to_wrap[\u001B[38;5;241m1\u001B[39m:],\n\u001B[0;32m    148\u001B[0m         )\n",
      "File \u001B[1;32m~\\Anaconda3\\envs\\udacity\\lib\\site-packages\\sklearn\\preprocessing\\_data.py:992\u001B[0m, in \u001B[0;36mStandardScaler.transform\u001B[1;34m(self, X, copy)\u001B[0m\n\u001B[0;32m    989\u001B[0m check_is_fitted(\u001B[38;5;28mself\u001B[39m)\n\u001B[0;32m    991\u001B[0m copy \u001B[38;5;241m=\u001B[39m copy \u001B[38;5;28;01mif\u001B[39;00m copy \u001B[38;5;129;01mis\u001B[39;00m \u001B[38;5;129;01mnot\u001B[39;00m \u001B[38;5;28;01mNone\u001B[39;00m \u001B[38;5;28;01melse\u001B[39;00m \u001B[38;5;28mself\u001B[39m\u001B[38;5;241m.\u001B[39mcopy\n\u001B[1;32m--> 992\u001B[0m X \u001B[38;5;241m=\u001B[39m \u001B[38;5;28;43mself\u001B[39;49m\u001B[38;5;241;43m.\u001B[39;49m\u001B[43m_validate_data\u001B[49m\u001B[43m(\u001B[49m\n\u001B[0;32m    993\u001B[0m \u001B[43m    \u001B[49m\u001B[43mX\u001B[49m\u001B[43m,\u001B[49m\n\u001B[0;32m    994\u001B[0m \u001B[43m    \u001B[49m\u001B[43mreset\u001B[49m\u001B[38;5;241;43m=\u001B[39;49m\u001B[38;5;28;43;01mFalse\u001B[39;49;00m\u001B[43m,\u001B[49m\n\u001B[0;32m    995\u001B[0m \u001B[43m    \u001B[49m\u001B[43maccept_sparse\u001B[49m\u001B[38;5;241;43m=\u001B[39;49m\u001B[38;5;124;43m\"\u001B[39;49m\u001B[38;5;124;43mcsr\u001B[39;49m\u001B[38;5;124;43m\"\u001B[39;49m\u001B[43m,\u001B[49m\n\u001B[0;32m    996\u001B[0m \u001B[43m    \u001B[49m\u001B[43mcopy\u001B[49m\u001B[38;5;241;43m=\u001B[39;49m\u001B[43mcopy\u001B[49m\u001B[43m,\u001B[49m\n\u001B[0;32m    997\u001B[0m \u001B[43m    \u001B[49m\u001B[43mdtype\u001B[49m\u001B[38;5;241;43m=\u001B[39;49m\u001B[43mFLOAT_DTYPES\u001B[49m\u001B[43m,\u001B[49m\n\u001B[0;32m    998\u001B[0m \u001B[43m    \u001B[49m\u001B[43mforce_all_finite\u001B[49m\u001B[38;5;241;43m=\u001B[39;49m\u001B[38;5;124;43m\"\u001B[39;49m\u001B[38;5;124;43mallow-nan\u001B[39;49m\u001B[38;5;124;43m\"\u001B[39;49m\u001B[43m,\u001B[49m\n\u001B[0;32m    999\u001B[0m \u001B[43m\u001B[49m\u001B[43m)\u001B[49m\n\u001B[0;32m   1001\u001B[0m \u001B[38;5;28;01mif\u001B[39;00m sparse\u001B[38;5;241m.\u001B[39missparse(X):\n\u001B[0;32m   1002\u001B[0m     \u001B[38;5;28;01mif\u001B[39;00m \u001B[38;5;28mself\u001B[39m\u001B[38;5;241m.\u001B[39mwith_mean:\n",
      "File \u001B[1;32m~\\Anaconda3\\envs\\udacity\\lib\\site-packages\\sklearn\\base.py:529\u001B[0m, in \u001B[0;36mBaseEstimator._validate_data\u001B[1;34m(self, X, y, reset, validate_separately, **check_params)\u001B[0m\n\u001B[0;32m    464\u001B[0m \u001B[38;5;28;01mdef\u001B[39;00m \u001B[38;5;21m_validate_data\u001B[39m(\n\u001B[0;32m    465\u001B[0m     \u001B[38;5;28mself\u001B[39m,\n\u001B[0;32m    466\u001B[0m     X\u001B[38;5;241m=\u001B[39m\u001B[38;5;124m\"\u001B[39m\u001B[38;5;124mno_validation\u001B[39m\u001B[38;5;124m\"\u001B[39m,\n\u001B[1;32m   (...)\u001B[0m\n\u001B[0;32m    470\u001B[0m     \u001B[38;5;241m*\u001B[39m\u001B[38;5;241m*\u001B[39mcheck_params,\n\u001B[0;32m    471\u001B[0m ):\n\u001B[0;32m    472\u001B[0m     \u001B[38;5;124;03m\"\"\"Validate input data and set or check the `n_features_in_` attribute.\u001B[39;00m\n\u001B[0;32m    473\u001B[0m \n\u001B[0;32m    474\u001B[0m \u001B[38;5;124;03m    Parameters\u001B[39;00m\n\u001B[1;32m   (...)\u001B[0m\n\u001B[0;32m    527\u001B[0m \u001B[38;5;124;03m        validated.\u001B[39;00m\n\u001B[0;32m    528\u001B[0m \u001B[38;5;124;03m    \"\"\"\u001B[39;00m\n\u001B[1;32m--> 529\u001B[0m     \u001B[38;5;28;43mself\u001B[39;49m\u001B[38;5;241;43m.\u001B[39;49m\u001B[43m_check_feature_names\u001B[49m\u001B[43m(\u001B[49m\u001B[43mX\u001B[49m\u001B[43m,\u001B[49m\u001B[43m \u001B[49m\u001B[43mreset\u001B[49m\u001B[38;5;241;43m=\u001B[39;49m\u001B[43mreset\u001B[49m\u001B[43m)\u001B[49m\n\u001B[0;32m    531\u001B[0m     \u001B[38;5;28;01mif\u001B[39;00m y \u001B[38;5;129;01mis\u001B[39;00m \u001B[38;5;28;01mNone\u001B[39;00m \u001B[38;5;129;01mand\u001B[39;00m \u001B[38;5;28mself\u001B[39m\u001B[38;5;241m.\u001B[39m_get_tags()[\u001B[38;5;124m\"\u001B[39m\u001B[38;5;124mrequires_y\u001B[39m\u001B[38;5;124m\"\u001B[39m]:\n\u001B[0;32m    532\u001B[0m         \u001B[38;5;28;01mraise\u001B[39;00m \u001B[38;5;167;01mValueError\u001B[39;00m(\n\u001B[0;32m    533\u001B[0m             \u001B[38;5;124mf\u001B[39m\u001B[38;5;124m\"\u001B[39m\u001B[38;5;124mThis \u001B[39m\u001B[38;5;132;01m{\u001B[39;00m\u001B[38;5;28mself\u001B[39m\u001B[38;5;241m.\u001B[39m\u001B[38;5;18m__class__\u001B[39m\u001B[38;5;241m.\u001B[39m\u001B[38;5;18m__name__\u001B[39m\u001B[38;5;132;01m}\u001B[39;00m\u001B[38;5;124m estimator \u001B[39m\u001B[38;5;124m\"\u001B[39m\n\u001B[0;32m    534\u001B[0m             \u001B[38;5;124m\"\u001B[39m\u001B[38;5;124mrequires y to be passed, but the target y is None.\u001B[39m\u001B[38;5;124m\"\u001B[39m\n\u001B[0;32m    535\u001B[0m         )\n",
      "File \u001B[1;32m~\\Anaconda3\\envs\\udacity\\lib\\site-packages\\sklearn\\base.py:462\u001B[0m, in \u001B[0;36mBaseEstimator._check_feature_names\u001B[1;34m(self, X, reset)\u001B[0m\n\u001B[0;32m    457\u001B[0m \u001B[38;5;28;01mif\u001B[39;00m \u001B[38;5;129;01mnot\u001B[39;00m missing_names \u001B[38;5;129;01mand\u001B[39;00m \u001B[38;5;129;01mnot\u001B[39;00m unexpected_names:\n\u001B[0;32m    458\u001B[0m     message \u001B[38;5;241m+\u001B[39m\u001B[38;5;241m=\u001B[39m (\n\u001B[0;32m    459\u001B[0m         \u001B[38;5;124m\"\u001B[39m\u001B[38;5;124mFeature names must be in the same order as they were in fit.\u001B[39m\u001B[38;5;130;01m\\n\u001B[39;00m\u001B[38;5;124m\"\u001B[39m\n\u001B[0;32m    460\u001B[0m     )\n\u001B[1;32m--> 462\u001B[0m \u001B[38;5;28;01mraise\u001B[39;00m \u001B[38;5;167;01mValueError\u001B[39;00m(message)\n",
      "\u001B[1;31mValueError\u001B[0m: The feature names should match those that were passed during fit.\nFeature names unseen at fit time:\n- CLUSTER\n"
     ]
    }
   ],
   "source": [
    "# enrich data\n",
    "index_clusters = pipeline_pca.predict(feature_mailout)\n",
    "feature_mailout['CLUSTER'] = index_clusters"
   ],
   "metadata": {
    "collapsed": false,
    "pycharm": {
     "name": "#%%\n"
    }
   }
  },
  {
   "cell_type": "code",
   "execution_count": null,
   "outputs": [],
   "source": [
    "feature_mailout.head()"
   ],
   "metadata": {
    "collapsed": false,
    "pycharm": {
     "name": "#%%\n"
    }
   }
  },
  {
   "cell_type": "code",
   "execution_count": 97,
   "outputs": [
    {
     "name": "stdout",
     "output_type": "stream",
     "text": [
      "Fitting 3 folds for each of 9 candidates, totalling 27 fits\n",
      "[LibSVM][CV 1/3] END classifier__C=1, classifier__kernel=linear;, score=0.019 total time=   1.8s\n",
      "[LibSVM][CV 2/3] END classifier__C=1, classifier__kernel=linear;, score=0.022 total time=   1.5s\n",
      "[LibSVM][CV 3/3] END classifier__C=1, classifier__kernel=linear;, score=0.038 total time=   1.3s\n",
      "[LibSVM][CV 1/3] END classifier__C=2, classifier__kernel=linear;, score=0.019 total time=   1.3s\n",
      "[LibSVM][CV 2/3] END classifier__C=2, classifier__kernel=linear;, score=0.019 total time=   2.1s\n",
      "[LibSVM][CV 3/3] END classifier__C=2, classifier__kernel=linear;, score=0.049 total time=   1.3s\n",
      "[LibSVM][CV 1/3] END classifier__C=3, classifier__kernel=linear;, score=0.019 total time=   1.4s\n",
      "[LibSVM][CV 2/3] END classifier__C=3, classifier__kernel=linear;, score=0.036 total time=   1.8s\n",
      "[LibSVM][CV 3/3] END classifier__C=3, classifier__kernel=linear;, score=0.049 total time=   1.3s\n",
      "[LibSVM][CV 1/3] END classifier__C=4, classifier__kernel=linear;, score=0.019 total time=   1.3s\n",
      "[LibSVM][CV 2/3] END classifier__C=4, classifier__kernel=linear;, score=0.036 total time=   1.7s\n",
      "[LibSVM][CV 3/3] END classifier__C=4, classifier__kernel=linear;, score=0.049 total time=   1.3s\n",
      "[LibSVM][CV 1/3] END classifier__C=5, classifier__kernel=linear;, score=0.019 total time=   1.3s\n",
      "[LibSVM][CV 2/3] END classifier__C=5, classifier__kernel=linear;, score=0.036 total time=   1.6s\n",
      "[LibSVM][CV 3/3] END classifier__C=5, classifier__kernel=linear;, score=0.049 total time=   1.3s\n",
      "[LibSVM][CV 1/3] END classifier__C=6, classifier__kernel=linear;, score=0.019 total time=   1.3s\n",
      "[LibSVM][CV 2/3] END classifier__C=6, classifier__kernel=linear;, score=0.036 total time=   1.6s\n",
      "[LibSVM][CV 3/3] END classifier__C=6, classifier__kernel=linear;, score=0.049 total time=   1.2s\n",
      "[LibSVM][CV 1/3] END classifier__C=7, classifier__kernel=linear;, score=0.019 total time=   1.3s\n",
      "[LibSVM][CV 2/3] END classifier__C=7, classifier__kernel=linear;, score=0.036 total time=   1.6s\n",
      "[LibSVM][CV 3/3] END classifier__C=7, classifier__kernel=linear;, score=0.049 total time=   1.3s\n",
      "[LibSVM][CV 1/3] END classifier__C=8, classifier__kernel=linear;, score=0.019 total time=   1.3s\n",
      "[LibSVM][CV 2/3] END classifier__C=8, classifier__kernel=linear;, score=0.036 total time=   1.7s\n",
      "[LibSVM][CV 3/3] END classifier__C=8, classifier__kernel=linear;, score=0.049 total time=   1.3s\n",
      "[LibSVM][CV 1/3] END classifier__C=9, classifier__kernel=linear;, score=0.019 total time=   1.3s\n",
      "[LibSVM][CV 2/3] END classifier__C=9, classifier__kernel=linear;, score=0.036 total time=   1.7s\n",
      "[LibSVM][CV 3/3] END classifier__C=9, classifier__kernel=linear;, score=0.049 total time=   1.2s\n",
      "[LibSVM]56.153491699999904\n"
     ]
    }
   ],
   "source": [
    "t0 = perf_counter()\n",
    "\n",
    "pipeline_svm = classifier_grid_searcher.fit(feature_mailout.iloc[::4], target_mailout.iloc[::4])\n",
    "\n",
    "print(perf_counter() - t0)"
   ],
   "metadata": {
    "collapsed": false,
    "pycharm": {
     "name": "#%%\n"
    }
   }
  },
  {
   "cell_type": "code",
   "execution_count": 99,
   "outputs": [
    {
     "data": {
      "text/plain": "<Figure size 1200x400 with 1 Axes>",
      "image/png": "[encoded data removed]"
     },
     "metadata": {},
     "output_type": "display_data"
    }
   ],
   "source": [
    "fig = plt.figure(figsize=(12,4))\n",
    "plt.plot(np.arange(1,10), pipeline_svm.cv_results_['mean_test_score'])\n",
    "plt.xlabel('Parameter C')\n",
    "plt.ylabel('F1 Score')\n",
    "fig.savefig('blogpost/pictures/scores_normal.png')"
   ],
   "metadata": {
    "collapsed": false,
    "pycharm": {
     "name": "#%%\n"
    }
   }
  },
  {
   "cell_type": "code",
   "execution_count": null,
   "outputs": [],
   "source": [],
   "metadata": {
    "collapsed": false,
    "pycharm": {
     "name": "#%%\n"
    }
   }
  },
  {
   "cell_type": "code",
   "execution_count": null,
   "outputs": [],
   "source": [],
   "metadata": {
    "collapsed": false,
    "pycharm": {
     "name": "#%%\n"
    }
   }
  },
  {
   "cell_type": "code",
   "execution_count": 62,
   "outputs": [
    {
     "name": "stdout",
     "output_type": "stream",
     "text": [
      "0.0230605084974017\n"
     ]
    },
    {
     "data": {
      "text/plain": "array([[33431,   359],\n       [  383,    41]], dtype=int64)"
     },
     "execution_count": 62,
     "metadata": {},
     "output_type": "execute_result"
    }
   ],
   "source": [
    "pred = pipeline_svm.predict(feature_mailout)\n",
    "print(pipeline_svm.best_score_)\n",
    "confusion_matrix(target_mailout, pred)"
   ],
   "metadata": {
    "collapsed": false,
    "pycharm": {
     "name": "#%%\n"
    }
   }
  },
  {
   "cell_type": "markdown",
   "source": [
    "#### Handeling imbalanced data\n",
    "\n",
    "We can see that the score for the classifier is very bad. This is probably due to the highly imbalanced data. There are different Methods to improve imbalanced data. The most basic one is to up- or downsample the data. We are going to try out both and see which one performs best."
   ],
   "metadata": {
    "collapsed": false,
    "pycharm": {
     "name": "#%% md\n"
    }
   }
  },
  {
   "cell_type": "markdown",
   "source": [
    "##### Downsampling\n",
    "With the downampling method, the number of the bigger class of data is reduced, to bring balance to the classes. Here we are reducing the number of people who did not react to the mails, to match the number of people who reacted positively."
   ],
   "metadata": {
    "collapsed": false,
    "pycharm": {
     "name": "#%% md\n"
    }
   }
  },
  {
   "cell_type": "code",
   "execution_count": 81,
   "metadata": {
    "pycharm": {
     "name": "#%%\n"
    }
   },
   "outputs": [
    {
     "data": {
      "text/plain": "(848, 365)"
     },
     "execution_count": 81,
     "metadata": {},
     "output_type": "execute_result"
    }
   ],
   "source": [
    "feature_downsample = mailout_no_train.iloc[:len(mailout_yes_train)]\n",
    "target_downsample = pd.concat([feature_downsample.loc[:, 'RESPONSE'], mailout_yes_train.loc[:, 'RESPONSE']])\n",
    "\n",
    "feature_downsample = pd.concat([feature_downsample.drop('RESPONSE', axis=1), mailout_yes_train.drop('RESPONSE', axis=1)], axis=0)\n",
    "feature_downsample.shape"
   ]
  },
  {
   "cell_type": "code",
   "execution_count": 82,
   "outputs": [
    {
     "name": "stdout",
     "output_type": "stream",
     "text": [
      "Fitting 3 folds for each of 9 candidates, totalling 27 fits\n",
      "[LibSVM][CV 1/3] END classifier__C=1, classifier__kernel=linear;, score=0.536 total time=   0.0s\n",
      "[LibSVM][CV 2/3] END classifier__C=1, classifier__kernel=linear;, score=0.585 total time=   0.0s\n",
      "[LibSVM][CV 3/3] END classifier__C=1, classifier__kernel=linear;, score=0.595 total time=   0.1s\n",
      "[LibSVM][CV 1/3] END classifier__C=2, classifier__kernel=linear;, score=0.536 total time=   0.0s\n",
      "[LibSVM][CV 2/3] END classifier__C=2, classifier__kernel=linear;, score=0.585 total time=   0.0s\n",
      "[LibSVM][CV 3/3] END classifier__C=2, classifier__kernel=linear;, score=0.595 total time=   0.0s\n",
      "[LibSVM][CV 1/3] END classifier__C=3, classifier__kernel=linear;, score=0.536 total time=   0.0s\n",
      "[LibSVM][CV 2/3] END classifier__C=3, classifier__kernel=linear;, score=0.585 total time=   0.0s\n",
      "[LibSVM][CV 3/3] END classifier__C=3, classifier__kernel=linear;, score=0.595 total time=   0.1s\n",
      "[LibSVM][CV 1/3] END classifier__C=4, classifier__kernel=linear;, score=0.536 total time=   0.0s\n",
      "[LibSVM][CV 2/3] END classifier__C=4, classifier__kernel=linear;, score=0.585 total time=   0.0s\n",
      "[LibSVM][CV 3/3] END classifier__C=4, classifier__kernel=linear;, score=0.595 total time=   0.1s\n",
      "[LibSVM][CV 1/3] END classifier__C=5, classifier__kernel=linear;, score=0.536 total time=   0.0s\n",
      "[LibSVM][CV 2/3] END classifier__C=5, classifier__kernel=linear;, score=0.585 total time=   0.0s\n",
      "[LibSVM][CV 3/3] END classifier__C=5, classifier__kernel=linear;, score=0.595 total time=   0.1s\n",
      "[LibSVM][CV 1/3] END classifier__C=6, classifier__kernel=linear;, score=0.536 total time=   0.0s\n",
      "[LibSVM][CV 2/3] END classifier__C=6, classifier__kernel=linear;, score=0.585 total time=   0.0s\n",
      "[LibSVM][CV 3/3] END classifier__C=6, classifier__kernel=linear;, score=0.595 total time=   0.1s\n",
      "[LibSVM][CV 1/3] END classifier__C=7, classifier__kernel=linear;, score=0.536 total time=   0.0s\n",
      "[LibSVM][CV 2/3] END classifier__C=7, classifier__kernel=linear;, score=0.585 total time=   0.0s\n",
      "[LibSVM][CV 3/3] END classifier__C=7, classifier__kernel=linear;, score=0.595 total time=   0.1s\n",
      "[LibSVM][CV 1/3] END classifier__C=8, classifier__kernel=linear;, score=0.536 total time=   0.0s\n",
      "[LibSVM][CV 2/3] END classifier__C=8, classifier__kernel=linear;, score=0.585 total time=   0.0s\n",
      "[LibSVM][CV 3/3] END classifier__C=8, classifier__kernel=linear;, score=0.595 total time=   0.1s\n",
      "[LibSVM][CV 1/3] END classifier__C=9, classifier__kernel=linear;, score=0.536 total time=   0.0s\n",
      "[LibSVM][CV 2/3] END classifier__C=9, classifier__kernel=linear;, score=0.585 total time=   0.0s\n",
      "[LibSVM][CV 3/3] END classifier__C=9, classifier__kernel=linear;, score=0.595 total time=   0.1s\n",
      "[LibSVM]4.598537300000089\n"
     ]
    }
   ],
   "source": [
    "# enrich data\n",
    "index_clusters = pipeline_pca.predict(feature_downsample)\n",
    "feature_downsample['CLUSTER'] = index_clusters\n",
    "\n",
    "t0 = perf_counter()\n",
    "\n",
    "pipeline_svm = classifier_grid_searcher.fit(feature_downsample, target_downsample)\n",
    "\n",
    "print(perf_counter() - t0)"
   ],
   "metadata": {
    "collapsed": false,
    "pycharm": {
     "name": "#%%\n"
    }
   }
  },
  {
   "cell_type": "code",
   "execution_count": 83,
   "outputs": [
    {
     "name": "stdout",
     "output_type": "stream",
     "text": [
      "0.5717923457701225\n"
     ]
    },
    {
     "data": {
      "text/plain": "array([[19631, 14159],\n       [   24,   400]], dtype=int64)"
     },
     "execution_count": 83,
     "metadata": {},
     "output_type": "execute_result"
    }
   ],
   "source": [
    "pred = pipeline_svm.predict(feature_mailout)\n",
    "print(pipeline_svm.best_score_)\n",
    "confusion_matrix(target_mailout, pred)"
   ],
   "metadata": {
    "collapsed": false,
    "pycharm": {
     "name": "#%%\n"
    }
   }
  },
  {
   "cell_type": "markdown",
   "source": [
    "We can see that the F1-Score improved majorly, but we also see that the number of false positives improved majorly. Therefore this method brings an improvement, but is still not sufficient for our desires.\n",
    "It should still be noted, that the cost for an additional email is not that high, such that more false positives is not necessarily a problem, but more false negatives woulds mean we did not reach out to customers who would \"buy\" our product. Hence we should definetly keep in mind, that a false negative is much worse than a false positive."
   ],
   "metadata": {
    "collapsed": false,
    "pycharm": {
     "name": "#%% md\n"
    }
   }
  },
  {
   "cell_type": "markdown",
   "source": [
    "##### Upsampling\n",
    "With upsampling we balance the data in an according way, compared to the downsampling but the other way around. We resample the few positive reactions, to match the number of negative reactions. That way, we get the data in balance and increase our data volume."
   ],
   "metadata": {
    "collapsed": false,
    "pycharm": {
     "name": "#%% md\n"
    }
   }
  },
  {
   "cell_type": "code",
   "execution_count": 102,
   "outputs": [],
   "source": [
    "from sklearn.utils import resample\n",
    "\n",
    "feature_upsampled = resample(mailout_yes_train,\n",
    "                            replace=True,    # sample with replacement\n",
    "                            n_samples= mailout_no_train.shape[0], # to match majority class\n",
    "                            random_state=1)  # reproducible results\n",
    "\n",
    "feature_upsampled = pd.concat([feature_upsampled, mailout_no_train], axis=0)\n",
    "\n",
    "target_upsampled = feature_upsampled.RESPONSE\n",
    "\n",
    "feature_upsampled.drop('RESPONSE', axis=1, inplace=True)"
   ],
   "metadata": {
    "collapsed": false,
    "pycharm": {
     "name": "#%%\n"
    }
   }
  },
  {
   "cell_type": "code",
   "execution_count": 103,
   "outputs": [
    {
     "data": {
      "text/plain": "(67580, 365)"
     },
     "execution_count": 103,
     "metadata": {},
     "output_type": "execute_result"
    }
   ],
   "source": [
    "feature_upsampled.shape"
   ],
   "metadata": {
    "collapsed": false,
    "pycharm": {
     "name": "#%%\n"
    }
   }
  },
  {
   "cell_type": "code",
   "execution_count": 104,
   "outputs": [
    {
     "name": "stdout",
     "output_type": "stream",
     "text": [
      "Fitting 3 folds for each of 9 candidates, totalling 27 fits\n",
      "[LibSVM][CV 1/3] END classifier__C=1, classifier__kernel=linear;, score=0.779 total time=   3.9s\n",
      "[LibSVM][CV 2/3] END classifier__C=1, classifier__kernel=linear;, score=0.803 total time=   5.8s\n",
      "[LibSVM][CV 3/3] END classifier__C=1, classifier__kernel=linear;, score=0.798 total time=   6.5s\n",
      "[LibSVM][CV 1/3] END classifier__C=2, classifier__kernel=linear;, score=0.772 total time=   5.5s\n",
      "[LibSVM][CV 2/3] END classifier__C=2, classifier__kernel=linear;, score=0.804 total time=  14.4s\n",
      "[LibSVM][CV 3/3] END classifier__C=2, classifier__kernel=linear;, score=0.799 total time=   8.1s\n",
      "[LibSVM][CV 1/3] END classifier__C=3, classifier__kernel=linear;, score=0.786 total time=   7.9s\n",
      "[LibSVM][CV 2/3] END classifier__C=3, classifier__kernel=linear;, score=0.807 total time=  28.2s\n",
      "[LibSVM][CV 3/3] END classifier__C=3, classifier__kernel=linear;, score=0.800 total time=  12.6s\n",
      "[LibSVM][CV 1/3] END classifier__C=4, classifier__kernel=linear;, score=0.796 total time=  15.8s\n",
      "[LibSVM][CV 2/3] END classifier__C=4, classifier__kernel=linear;, score=0.808 total time=  26.2s\n",
      "[LibSVM][CV 3/3] END classifier__C=4, classifier__kernel=linear;, score=0.796 total time=  18.3s\n",
      "[LibSVM][CV 1/3] END classifier__C=5, classifier__kernel=linear;, score=0.793 total time=  17.0s\n",
      "[LibSVM][CV 2/3] END classifier__C=5, classifier__kernel=linear;, score=0.812 total time=  37.5s\n",
      "[LibSVM][CV 3/3] END classifier__C=5, classifier__kernel=linear;, score=0.799 total time=  23.0s\n",
      "[LibSVM][CV 1/3] END classifier__C=6, classifier__kernel=linear;, score=0.795 total time=  15.2s\n",
      "[LibSVM][CV 2/3] END classifier__C=6, classifier__kernel=linear;, score=0.807 total time=  40.7s\n",
      "[LibSVM][CV 3/3] END classifier__C=6, classifier__kernel=linear;, score=0.799 total time=  29.0s\n",
      "[LibSVM][CV 1/3] END classifier__C=7, classifier__kernel=linear;, score=0.789 total time=  22.3s\n",
      "[LibSVM][CV 2/3] END classifier__C=7, classifier__kernel=linear;, score=0.810 total time=  47.3s\n",
      "[LibSVM][CV 3/3] END classifier__C=7, classifier__kernel=linear;, score=0.805 total time=  25.0s\n",
      "[LibSVM][CV 1/3] END classifier__C=8, classifier__kernel=linear;, score=0.791 total time=  19.6s\n",
      "[LibSVM][CV 2/3] END classifier__C=8, classifier__kernel=linear;, score=0.811 total time=  45.3s\n",
      "[LibSVM][CV 3/3] END classifier__C=8, classifier__kernel=linear;, score=0.804 total time=  45.4s\n",
      "[LibSVM][CV 1/3] END classifier__C=9, classifier__kernel=linear;, score=0.792 total time=  30.4s\n",
      "[LibSVM][CV 2/3] END classifier__C=9, classifier__kernel=linear;, score=0.811 total time=  45.2s\n",
      "[LibSVM][CV 3/3] END classifier__C=9, classifier__kernel=linear;, score=0.802 total time=  37.8s\n",
      "[LibSVM]871.1981908000002\n"
     ]
    }
   ],
   "source": [
    "# enrich data\n",
    "index_clusters = pipeline_pca.predict(feature_upsampled)\n",
    "feature_upsampled['CLUSTER'] = index_clusters\n",
    "\n",
    "t0 = perf_counter()\n",
    "\n",
    "pipeline_svm = classifier_grid_searcher.fit(feature_upsampled.iloc[::30], target_upsampled.iloc[::30])\n",
    "\n",
    "print(perf_counter() - t0)"
   ],
   "metadata": {
    "collapsed": false,
    "pycharm": {
     "name": "#%%\n"
    }
   }
  },
  {
   "cell_type": "code",
   "execution_count": 105,
   "outputs": [
    {
     "name": "stdout",
     "output_type": "stream",
     "text": [
      "0.802000177380275\n"
     ]
    },
    {
     "data": {
      "text/plain": "array([[23840,  9950],\n       [   71,   353]], dtype=int64)"
     },
     "execution_count": 105,
     "metadata": {},
     "output_type": "execute_result"
    }
   ],
   "source": [
    "pred = pipeline_svm.predict(feature_mailout)\n",
    "print(pipeline_svm.best_score_)\n",
    "confusion_matrix(target_mailout, pred)"
   ],
   "metadata": {
    "collapsed": false,
    "pycharm": {
     "name": "#%%\n"
    }
   }
  },
  {
   "cell_type": "markdown",
   "source": [
    "We can see here that the performance improved majorly again, and we see that the miss rate is further reduced as well. Therefore, we should go with the upscaling method."
   ],
   "metadata": {
    "collapsed": false,
    "pycharm": {
     "name": "#%% md\n"
    }
   }
  },
  {
   "cell_type": "code",
   "execution_count": 106,
   "outputs": [
    {
     "data": {
      "text/plain": "<Figure size 1200x400 with 1 Axes>",
      "image/png": "[encoded data removed]"
     },
     "metadata": {},
     "output_type": "display_data"
    }
   ],
   "source": [
    "fig = plt.figure(figsize=(12,4))\n",
    "plt.plot(np.arange(1,10), pipeline_svm.cv_results_['mean_test_score'])\n",
    "plt.xlabel('Parameter C')\n",
    "plt.ylabel('F1 Score')\n",
    "fig.savefig('blogpost/pictures/scores_upsampling.png')"
   ],
   "metadata": {
    "collapsed": false,
    "pycharm": {
     "name": "#%%\n"
    }
   }
  },
  {
   "cell_type": "markdown",
   "source": [
    "### Classify Test Dataset\n",
    "Now its time to classify the test datset provided to see the performance on a test set."
   ],
   "metadata": {
    "collapsed": false,
    "pycharm": {
     "name": "#%% md\n"
    }
   }
  },
  {
   "cell_type": "markdown",
   "source": [
    "#### Preprocess data"
   ],
   "metadata": {
    "collapsed": false,
    "pycharm": {
     "name": "#%% md\n"
    }
   }
  },
  {
   "cell_type": "code",
   "execution_count": 71,
   "outputs": [
    {
     "data": {
      "text/plain": "    LNR  AGER_TYP  AKT_DAT_KL  ALTER_HH  ALTER_KIND1  ALTER_KIND2  \\\n0  1754         2         1.0       7.0          NaN          NaN   \n1  1770        -1         1.0       0.0          NaN          NaN   \n2  1465         2         9.0      16.0          NaN          NaN   \n3  1470        -1         7.0       0.0          NaN          NaN   \n4  1478         1         1.0      21.0          NaN          NaN   \n\n   ALTER_KIND3  ALTER_KIND4  ALTERSKATEGORIE_FEIN  ANZ_HAUSHALTE_AKTIV  ...  \\\n0          NaN          NaN                   6.0                  2.0  ...   \n1          NaN          NaN                   0.0                 20.0  ...   \n2          NaN          NaN                  11.0                  2.0  ...   \n3          NaN          NaN                   0.0                  1.0  ...   \n4          NaN          NaN                  13.0                  1.0  ...   \n\n   VHN  VK_DHT4A  VK_DISTANZ  VK_ZG11  W_KEIT_KIND_HH  WOHNDAUER_2008  \\\n0  4.0       5.0         6.0      3.0             6.0             9.0   \n1  1.0       5.0         2.0      1.0             6.0             9.0   \n2  3.0       9.0         6.0      3.0             2.0             9.0   \n3  2.0       6.0         6.0      3.0             NaN             9.0   \n4  1.0       2.0         4.0      3.0             3.0             9.0   \n\n   WOHNLAGE ZABEOTYP ANREDE_KZ ALTERSKATEGORIE_GROB  \n0       3.0        3         1                    4  \n1       5.0        3         1                    4  \n2       4.0        3         2                    4  \n3       2.0        3         2                    4  \n4       7.0        4         2                    4  \n\n[5 rows x 366 columns]",
      "text/html": "<div>\n<style scoped>\n    .dataframe tbody tr th:only-of-type {\n        vertical-align: middle;\n    }\n\n    .dataframe tbody tr th {\n        vertical-align: top;\n    }\n\n    .dataframe thead th {\n        text-align: right;\n    }\n</style>\n<table border=\"1\" class=\"dataframe\">\n  <thead>\n    <tr style=\"text-align: right;\">\n      <th></th>\n      <th>LNR</th>\n      <th>AGER_TYP</th>\n      <th>AKT_DAT_KL</th>\n      <th>ALTER_HH</th>\n      <th>ALTER_KIND1</th>\n      <th>ALTER_KIND2</th>\n      <th>ALTER_KIND3</th>\n      <th>ALTER_KIND4</th>\n      <th>ALTERSKATEGORIE_FEIN</th>\n      <th>ANZ_HAUSHALTE_AKTIV</th>\n      <th>...</th>\n      <th>VHN</th>\n      <th>VK_DHT4A</th>\n      <th>VK_DISTANZ</th>\n      <th>VK_ZG11</th>\n      <th>W_KEIT_KIND_HH</th>\n      <th>WOHNDAUER_2008</th>\n      <th>WOHNLAGE</th>\n      <th>ZABEOTYP</th>\n      <th>ANREDE_KZ</th>\n      <th>ALTERSKATEGORIE_GROB</th>\n    </tr>\n  </thead>\n  <tbody>\n    <tr>\n      <th>0</th>\n      <td>1754</td>\n      <td>2</td>\n      <td>1.0</td>\n      <td>7.0</td>\n      <td>NaN</td>\n      <td>NaN</td>\n      <td>NaN</td>\n      <td>NaN</td>\n      <td>6.0</td>\n      <td>2.0</td>\n      <td>...</td>\n      <td>4.0</td>\n      <td>5.0</td>\n      <td>6.0</td>\n      <td>3.0</td>\n      <td>6.0</td>\n      <td>9.0</td>\n      <td>3.0</td>\n      <td>3</td>\n      <td>1</td>\n      <td>4</td>\n    </tr>\n    <tr>\n      <th>1</th>\n      <td>1770</td>\n      <td>-1</td>\n      <td>1.0</td>\n      <td>0.0</td>\n      <td>NaN</td>\n      <td>NaN</td>\n      <td>NaN</td>\n      <td>NaN</td>\n      <td>0.0</td>\n      <td>20.0</td>\n      <td>...</td>\n      <td>1.0</td>\n      <td>5.0</td>\n      <td>2.0</td>\n      <td>1.0</td>\n      <td>6.0</td>\n      <td>9.0</td>\n      <td>5.0</td>\n      <td>3</td>\n      <td>1</td>\n      <td>4</td>\n    </tr>\n    <tr>\n      <th>2</th>\n      <td>1465</td>\n      <td>2</td>\n      <td>9.0</td>\n      <td>16.0</td>\n      <td>NaN</td>\n      <td>NaN</td>\n      <td>NaN</td>\n      <td>NaN</td>\n      <td>11.0</td>\n      <td>2.0</td>\n      <td>...</td>\n      <td>3.0</td>\n      <td>9.0</td>\n      <td>6.0</td>\n      <td>3.0</td>\n      <td>2.0</td>\n      <td>9.0</td>\n      <td>4.0</td>\n      <td>3</td>\n      <td>2</td>\n      <td>4</td>\n    </tr>\n    <tr>\n      <th>3</th>\n      <td>1470</td>\n      <td>-1</td>\n      <td>7.0</td>\n      <td>0.0</td>\n      <td>NaN</td>\n      <td>NaN</td>\n      <td>NaN</td>\n      <td>NaN</td>\n      <td>0.0</td>\n      <td>1.0</td>\n      <td>...</td>\n      <td>2.0</td>\n      <td>6.0</td>\n      <td>6.0</td>\n      <td>3.0</td>\n      <td>NaN</td>\n      <td>9.0</td>\n      <td>2.0</td>\n      <td>3</td>\n      <td>2</td>\n      <td>4</td>\n    </tr>\n    <tr>\n      <th>4</th>\n      <td>1478</td>\n      <td>1</td>\n      <td>1.0</td>\n      <td>21.0</td>\n      <td>NaN</td>\n      <td>NaN</td>\n      <td>NaN</td>\n      <td>NaN</td>\n      <td>13.0</td>\n      <td>1.0</td>\n      <td>...</td>\n      <td>1.0</td>\n      <td>2.0</td>\n      <td>4.0</td>\n      <td>3.0</td>\n      <td>3.0</td>\n      <td>9.0</td>\n      <td>7.0</td>\n      <td>4</td>\n      <td>2</td>\n      <td>4</td>\n    </tr>\n  </tbody>\n</table>\n<p>5 rows × 366 columns</p>\n</div>"
     },
     "execution_count": 71,
     "metadata": {},
     "output_type": "execute_result"
    }
   ],
   "source": [
    "mailout_test = pd.read_csv('data/Udacity_MAILOUT_052018_TEST.csv', sep=';')\n",
    "mailout_test.head()"
   ],
   "metadata": {
    "collapsed": false,
    "pycharm": {
     "name": "#%%\n"
    }
   }
  },
  {
   "cell_type": "code",
   "execution_count": 72,
   "outputs": [],
   "source": [
    "common_columns = common_columns.drop('RESPONSE')"
   ],
   "metadata": {
    "collapsed": false,
    "pycharm": {
     "name": "#%%\n"
    }
   }
  },
  {
   "cell_type": "code",
   "execution_count": 73,
   "outputs": [
    {
     "name": "stdout",
     "output_type": "stream",
     "text": [
      "(42833, 366)\n",
      "(34177, 365)\n"
     ]
    },
    {
     "data": {
      "text/plain": "    LNR  AGER_TYP  AKT_DAT_KL  ALTER_HH  ALTER_KIND1  ALTER_KIND2  \\\n0  1754         2         1.0       7.0         -1.0         -1.0   \n1  1770        -1         1.0       0.0         -1.0         -1.0   \n2  1465         2         9.0      16.0         -1.0         -1.0   \n3  1470        -1         7.0       0.0         -1.0         -1.0   \n4  1478         1         1.0      21.0         -1.0         -1.0   \n\n   ALTER_KIND3  ALTER_KIND4  ALTERSKATEGORIE_FEIN  ANZ_HAUSHALTE_AKTIV  ...  \\\n0         -1.0         -1.0                   6.0                  2.0  ...   \n1         -1.0         -1.0                   0.0                 20.0  ...   \n2         -1.0         -1.0                  11.0                  2.0  ...   \n3         -1.0         -1.0                   0.0                  1.0  ...   \n4         -1.0         -1.0                  13.0                  1.0  ...   \n\n   VHN  VK_DHT4A  VK_DISTANZ  VK_ZG11  W_KEIT_KIND_HH  WOHNDAUER_2008  \\\n0  4.0       5.0         6.0      3.0             6.0             9.0   \n1  1.0       5.0         2.0      1.0             6.0             9.0   \n2  3.0       9.0         6.0      3.0             2.0             9.0   \n3  2.0       6.0         6.0      3.0            -1.0             9.0   \n4  1.0       2.0         4.0      3.0             3.0             9.0   \n\n   WOHNLAGE  ZABEOTYP  ANREDE_KZ  ALTERSKATEGORIE_GROB  \n0       3.0         3          1                     4  \n1       5.0         3          1                     4  \n2       4.0         3          2                     4  \n3       2.0         3          2                     4  \n4       7.0         4          2                     4  \n\n[5 rows x 365 columns]",
      "text/html": "<div>\n<style scoped>\n    .dataframe tbody tr th:only-of-type {\n        vertical-align: middle;\n    }\n\n    .dataframe tbody tr th {\n        vertical-align: top;\n    }\n\n    .dataframe thead th {\n        text-align: right;\n    }\n</style>\n<table border=\"1\" class=\"dataframe\">\n  <thead>\n    <tr style=\"text-align: right;\">\n      <th></th>\n      <th>LNR</th>\n      <th>AGER_TYP</th>\n      <th>AKT_DAT_KL</th>\n      <th>ALTER_HH</th>\n      <th>ALTER_KIND1</th>\n      <th>ALTER_KIND2</th>\n      <th>ALTER_KIND3</th>\n      <th>ALTER_KIND4</th>\n      <th>ALTERSKATEGORIE_FEIN</th>\n      <th>ANZ_HAUSHALTE_AKTIV</th>\n      <th>...</th>\n      <th>VHN</th>\n      <th>VK_DHT4A</th>\n      <th>VK_DISTANZ</th>\n      <th>VK_ZG11</th>\n      <th>W_KEIT_KIND_HH</th>\n      <th>WOHNDAUER_2008</th>\n      <th>WOHNLAGE</th>\n      <th>ZABEOTYP</th>\n      <th>ANREDE_KZ</th>\n      <th>ALTERSKATEGORIE_GROB</th>\n    </tr>\n  </thead>\n  <tbody>\n    <tr>\n      <th>0</th>\n      <td>1754</td>\n      <td>2</td>\n      <td>1.0</td>\n      <td>7.0</td>\n      <td>-1.0</td>\n      <td>-1.0</td>\n      <td>-1.0</td>\n      <td>-1.0</td>\n      <td>6.0</td>\n      <td>2.0</td>\n      <td>...</td>\n      <td>4.0</td>\n      <td>5.0</td>\n      <td>6.0</td>\n      <td>3.0</td>\n      <td>6.0</td>\n      <td>9.0</td>\n      <td>3.0</td>\n      <td>3</td>\n      <td>1</td>\n      <td>4</td>\n    </tr>\n    <tr>\n      <th>1</th>\n      <td>1770</td>\n      <td>-1</td>\n      <td>1.0</td>\n      <td>0.0</td>\n      <td>-1.0</td>\n      <td>-1.0</td>\n      <td>-1.0</td>\n      <td>-1.0</td>\n      <td>0.0</td>\n      <td>20.0</td>\n      <td>...</td>\n      <td>1.0</td>\n      <td>5.0</td>\n      <td>2.0</td>\n      <td>1.0</td>\n      <td>6.0</td>\n      <td>9.0</td>\n      <td>5.0</td>\n      <td>3</td>\n      <td>1</td>\n      <td>4</td>\n    </tr>\n    <tr>\n      <th>2</th>\n      <td>1465</td>\n      <td>2</td>\n      <td>9.0</td>\n      <td>16.0</td>\n      <td>-1.0</td>\n      <td>-1.0</td>\n      <td>-1.0</td>\n      <td>-1.0</td>\n      <td>11.0</td>\n      <td>2.0</td>\n      <td>...</td>\n      <td>3.0</td>\n      <td>9.0</td>\n      <td>6.0</td>\n      <td>3.0</td>\n      <td>2.0</td>\n      <td>9.0</td>\n      <td>4.0</td>\n      <td>3</td>\n      <td>2</td>\n      <td>4</td>\n    </tr>\n    <tr>\n      <th>3</th>\n      <td>1470</td>\n      <td>-1</td>\n      <td>7.0</td>\n      <td>0.0</td>\n      <td>-1.0</td>\n      <td>-1.0</td>\n      <td>-1.0</td>\n      <td>-1.0</td>\n      <td>0.0</td>\n      <td>1.0</td>\n      <td>...</td>\n      <td>2.0</td>\n      <td>6.0</td>\n      <td>6.0</td>\n      <td>3.0</td>\n      <td>-1.0</td>\n      <td>9.0</td>\n      <td>2.0</td>\n      <td>3</td>\n      <td>2</td>\n      <td>4</td>\n    </tr>\n    <tr>\n      <th>4</th>\n      <td>1478</td>\n      <td>1</td>\n      <td>1.0</td>\n      <td>21.0</td>\n      <td>-1.0</td>\n      <td>-1.0</td>\n      <td>-1.0</td>\n      <td>-1.0</td>\n      <td>13.0</td>\n      <td>1.0</td>\n      <td>...</td>\n      <td>1.0</td>\n      <td>2.0</td>\n      <td>4.0</td>\n      <td>3.0</td>\n      <td>3.0</td>\n      <td>9.0</td>\n      <td>7.0</td>\n      <td>4</td>\n      <td>2</td>\n      <td>4</td>\n    </tr>\n  </tbody>\n</table>\n<p>5 rows × 365 columns</p>\n</div>"
     },
     "execution_count": 73,
     "metadata": {},
     "output_type": "execute_result"
    }
   ],
   "source": [
    "print(mailout_test.shape)\n",
    "mailout_test = clear_data(mailout_test)\n",
    "mailout_test.drop(['EINGEFUEGT_AM'], axis=1, inplace=True)\n",
    "\n",
    "print(mailout_test.shape)\n",
    "mailout_test.head()"
   ],
   "metadata": {
    "collapsed": false,
    "pycharm": {
     "name": "#%%\n"
    }
   }
  },
  {
   "cell_type": "markdown",
   "source": [
    "#### Run Classifier on test data"
   ],
   "metadata": {
    "collapsed": false,
    "pycharm": {
     "name": "#%% md\n"
    }
   }
  },
  {
   "cell_type": "code",
   "execution_count": 74,
   "outputs": [],
   "source": [
    "# enrich data\n",
    "index_clusters = pipeline_pca.predict(mailout_test)\n",
    "mailout_test['CLUSTER'] = index_clusters"
   ],
   "metadata": {
    "collapsed": false,
    "pycharm": {
     "name": "#%%\n"
    }
   }
  },
  {
   "cell_type": "code",
   "execution_count": 75,
   "outputs": [],
   "source": [
    "response_test = pipeline_svm.predict(mailout_test)"
   ],
   "metadata": {
    "collapsed": false,
    "pycharm": {
     "name": "#%%\n"
    }
   }
  },
  {
   "cell_type": "code",
   "execution_count": 76,
   "outputs": [],
   "source": [
    "pd.to_pickle(response_test, 'data/RESULT_mailout_test.pkl')"
   ],
   "metadata": {
    "collapsed": false,
    "pycharm": {
     "name": "#%%\n"
    }
   }
  },
  {
   "cell_type": "markdown",
   "source": [
    "## Part 3: Conclusion\n",
    "I have shown how to cluster and separate the customer group from the whole population using PCA for dimensionality reduction and KMeans for the clustering. PCA was also compared to ICA, but since the ICA clusters were not as clearly seperable as the clusters created with the PCA, PCA was chosen.\n",
    "\n",
    "After that, a clustering pipeline was trained to enhance the dataset provided to train a classifier. This data was cleaned, clustered and categorised.\n",
    "To classify the data correctly, a gridsearch was performed using SVM as a classifier.\n",
    "It was shown that the linear kernel was not only very fast for training but also performs best for the optimization. The metrics optimized was the F1 Score, since the data was highly imbalanced.\n",
    "\n",
    "To handle the imbalance in the data, the data was upscaled, which improved the performance significantly.\n",
    "\n",
    "### Further improvements\n",
    "To further improve the classifier, there are a few things that can be changed.\n",
    "\n",
    "First of all, different clustering and classifying algorithms can be compared to each other. Here we only took a look at one because the main problem here was that the data was highly imbalanced, but it is worth trying out other algorithms like DBScan for the clustering or XGBoost, Random Forest or even a Neural Network for classification as well.\n",
    "\n",
    "In addition, more advanced techniques to handle imbalanced data can be applied, such as SMOTE or a Balance Bagging Classifier ([Further details here](https://www.analyticsvidhya.com/blog/2021/06/5-techniques-to-handle-imbalanced-data-for-a-classification-problem/))."
   ],
   "metadata": {
    "collapsed": false,
    "pycharm": {
     "name": "#%% md\n"
    }
   }
  },
  {
   "cell_type": "code",
   "execution_count": 76,
   "outputs": [],
   "source": [],
   "metadata": {
    "collapsed": false,
    "pycharm": {
     "name": "#%%\n"
    }
   }
  }
 ],
 "metadata": {
  "kernelspec": {
   "display_name": "Python 3",
   "language": "python",
   "name": "python3"
  },
  "language_info": {
   "codemirror_mode": {
    "name": "ipython",
    "version": 3
   },
   "file_extension": ".py",
   "mimetype": "text/x-python",
   "name": "python",
   "nbconvert_exporter": "python",
   "pygments_lexer": "ipython3",
   "version": "3.6.3"
  }
 },
 "nbformat": 4,
 "nbformat_minor": 2
}