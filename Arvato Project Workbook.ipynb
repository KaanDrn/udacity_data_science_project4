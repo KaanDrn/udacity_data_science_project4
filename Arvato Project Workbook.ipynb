{
 "cells": [
  {
   "cell_type": "markdown",
   "metadata": {
    "pycharm": {
     "name": "#%% md\n"
    }
   },
   "source": [
    "# Capstone Project: Create a Customer Segmentation Report for Arvato Financial Services\n",
    "\n",
    "In this project, you will analyze demographics data for customers of a mail-order sales company in Germany, comparing it against demographics information for the general population. You'll use unsupervised learning techniques to perform customer segmentation, identifying the parts of the population that best describe the core customer base of the company. Then, you'll apply what you've learned on a third dataset with demographics information for targets of a marketing campaign for the company, and use a model to predict which individuals are most likely to convert into becoming customers for the company. The data that you will use has been provided by our partners at Bertelsmann Arvato Analytics, and represents a real-life data science task.\n",
    "\n",
    "The versions of those two datasets used in this project will include many more features and has not been pre-cleaned. You are also free to choose whatever approach you'd like to analyzing the data rather than follow pre-determined steps. In your work on this project, make sure that you carefully document your steps and decisions, since your main deliverable for this project will be a blog post reporting your findings."
   ]
  },
  {
   "cell_type": "code",
   "execution_count": 1,
   "metadata": {
    "pycharm": {
     "name": "#%%\n"
    }
   },
   "outputs": [],
   "source": [
    "import matplotlib.pyplot as plt\n",
    "# import libraries here; add more as necessary\n",
    "import numpy as np\n",
    "import pandas as pd\n",
    "from sklearn.pipeline import Pipeline\n",
    "from sklearn.preprocessing import StandardScaler\n",
    "from sklearn.ensemble import GradientBoostingClassifier\n",
    "from sklearn.model_selection import GridSearchCV\n",
    "from sklearn.metrics import confusion_matrix\n",
    "\n",
    "# magic word for producing visualizations in notebook\n",
    "%matplotlib inline"
   ]
  },
  {
   "cell_type": "markdown",
   "metadata": {
    "pycharm": {
     "name": "#%% md\n"
    }
   },
   "source": [
    "## Part 0: Get to Know the Data\n",
    "\n",
    "There are four data files associated with this project:\n",
    "\n",
    "- `Udacity_AZDIAS_052018.csv`: Demographics data for the general population of Germany; 891 211 persons (rows) x 366 features (columns).\n",
    "- `Udacity_CUSTOMERS_052018.csv`: Demographics data for customers of a mail-order company; 191 652 persons (rows) x 369 features (columns).\n",
    "- `Udacity_MAILOUT_052018_TRAIN.csv`: Demographics data for individuals who were targets of a marketing campaign; 42 982 persons (rows) x 367 (columns).\n",
    "- `Udacity_MAILOUT_052018_TEST.csv`: Demographics data for individuals who were targets of a marketing campaign; 42 833 persons (rows) x 366 (columns).\n",
    "\n",
    "Each row of the demographics files represents a single person, but also includes information outside of individuals, including information about their household, building, and neighborhood. Use the information from the first two files to figure out how customers (\"CUSTOMERS\") are similar to or differ from the general population at large (\"AZDIAS\"), then use your analysis to make predictions on the other two files (\"MAILOUT\"), predicting which recipients are most likely to become a customer for the mail-order company.\n",
    "\n",
    "The \"CUSTOMERS\" file contains three extra columns ('CUSTOMER_GROUP', 'ONLINE_PURCHASE', and 'PRODUCT_GROUP'), which provide broad information about the customers depicted in the file. The original \"MAILOUT\" file included one additional column, \"RESPONSE\", which indicated whether or not each recipient became a customer of the company. For the \"TRAIN\" subset, this column has been retained, but in the \"TEST\" subset it has been removed; it is against that withheld column that your final predictions will be assessed in the Kaggle competition.\n",
    "\n",
    "Otherwise, all of the remaining columns are the same between the three data files. For more information about the columns depicted in the files, you can refer to two Excel spreadsheets provided in the workspace. [One of them](./DIAS Information Levels - Attributes 2017.xlsx) is a top-level list of attributes and descriptions, organized by informational category. [The other](./DIAS Attributes - Values 2017.xlsx) is a detailed mapping of data values for each feature in alphabetical order.\n",
    "\n",
    "In the below cell, we've provided some initial code to load in the first two datasets. Note for all of the `.csv` data files in this project that they're semicolon (`;`) delimited, so an additional argument in the [`read_csv()`](https://pandas.pydata.org/pandas-docs/stable/generated/pandas.read_csv.html) call has been included to read in the data properly. Also, considering the size of the datasets, it may take some time for them to load completely.\n",
    "\n",
    "You'll notice when the data is loaded in that a warning message will immediately pop up. Before you really start digging into the modeling and analysis, you're going to need to perform some cleaning. Take some time to browse the structure of the data and look over the informational spreadsheets to understand the data values. Make some decisions on which features to keep, which features to drop, and if any revisions need to be made on data formats. It'll be a good idea to create a function with pre-processing steps, since you'll need to clean all of the datasets before you work with them."
   ]
  },
  {
   "cell_type": "markdown",
   "source": [
    "### Load Data"
   ],
   "metadata": {
    "collapsed": false,
    "pycharm": {
     "name": "#%% md\n"
    }
   }
  },
  {
   "cell_type": "code",
   "execution_count": 2,
   "metadata": {
    "pycharm": {
     "name": "#%%\n"
    }
   },
   "outputs": [
    {
     "name": "stderr",
     "output_type": "stream",
     "text": [
      "C:\\Users\\K35400\\AppData\\Local\\Temp\\ipykernel_31900\\1216095799.py:2: DtypeWarning: Columns (18,19) have mixed types. Specify dtype option on import or set low_memory=False.\n",
      "  azdias = pd.read_csv('data/Udacity_AZDIAS_052018.csv', sep=';')\n",
      "C:\\Users\\K35400\\AppData\\Local\\Temp\\ipykernel_31900\\1216095799.py:3: DtypeWarning: Columns (18,19) have mixed types. Specify dtype option on import or set low_memory=False.\n",
      "  customers = pd.read_csv('data/Udacity_CUSTOMERS_052018.csv', sep=';')\n"
     ]
    }
   ],
   "source": [
    "# load in the data\n",
    "azdias = pd.read_csv('data/Udacity_AZDIAS_052018.csv', sep=';')\n",
    "customers = pd.read_csv('data/Udacity_CUSTOMERS_052018.csv', sep=';')"
   ]
  },
  {
   "cell_type": "markdown",
   "source": [
    "#### Data Exploration\n",
    "Befor we start working with the data, we should try to get an overview of the data. As mentioned, the datsets have almost identical columns, therefore we are exploring only one dataset and clean every dataset afterwards according to our findings in the `azdias` dataset.\n",
    "\n",
    "#### Describing the Data"
   ],
   "metadata": {
    "collapsed": false,
    "pycharm": {
     "name": "#%% md\n"
    }
   }
  },
  {
   "cell_type": "code",
   "execution_count": 3,
   "outputs": [
    {
     "data": {
      "text/plain": "                LNR       AGER_TYP     AKT_DAT_KL       ALTER_HH  \\\ncount  8.912210e+05  891221.000000  817722.000000  817722.000000   \nmean   6.372630e+05      -0.358435       4.421928      10.864126   \nstd    2.572735e+05       1.198724       3.638805       7.639683   \nmin    1.916530e+05      -1.000000       1.000000       0.000000   \n25%    4.144580e+05      -1.000000       1.000000       0.000000   \n50%    6.372630e+05      -1.000000       3.000000      13.000000   \n75%    8.600680e+05      -1.000000       9.000000      17.000000   \nmax    1.082873e+06       3.000000       9.000000      21.000000   \n\n        ALTER_KIND1   ALTER_KIND2  ALTER_KIND3  ALTER_KIND4  \\\ncount  81058.000000  29499.000000  6170.000000  1205.000000   \nmean      11.745392     13.402658    14.476013    15.089627   \nstd        4.097660      3.243300     2.712427     2.452932   \nmin        2.000000      2.000000     4.000000     7.000000   \n25%        8.000000     11.000000    13.000000    14.000000   \n50%       12.000000     14.000000    15.000000    15.000000   \n75%       15.000000     16.000000    17.000000    17.000000   \nmax       18.000000     18.000000    18.000000    18.000000   \n\n       ALTERSKATEGORIE_FEIN  ANZ_HAUSHALTE_AKTIV  ...            VHN  \\\ncount         628274.000000        798073.000000  ...  770025.000000   \nmean              13.700717             8.287263  ...       2.417322   \nstd                5.079849            15.628087  ...       1.166572   \nmin                0.000000             0.000000  ...       0.000000   \n25%               11.000000             1.000000  ...       2.000000   \n50%               14.000000             4.000000  ...       2.000000   \n75%               17.000000             9.000000  ...       3.000000   \nmax               25.000000           595.000000  ...       4.000000   \n\n            VK_DHT4A     VK_DISTANZ        VK_ZG11  W_KEIT_KIND_HH  \\\ncount  815304.000000  815304.000000  815304.000000   783619.000000   \nmean        6.001214       7.532130       5.945972        3.933406   \nstd         2.856091       3.247789       2.771464        1.964701   \nmin         1.000000       1.000000       1.000000        0.000000   \n25%         3.000000       5.000000       4.000000        2.000000   \n50%         6.000000       8.000000       6.000000        4.000000   \n75%         9.000000      10.000000       8.000000        6.000000   \nmax        11.000000      13.000000      11.000000        6.000000   \n\n       WOHNDAUER_2008       WOHNLAGE       ZABEOTYP      ANREDE_KZ  \\\ncount   817722.000000  798073.000000  891221.000000  891221.000000   \nmean         7.908791       4.052836       3.362438       1.522098   \nstd          1.923137       1.949539       1.352704       0.499512   \nmin          1.000000       0.000000       1.000000       1.000000   \n25%          8.000000       3.000000       3.000000       1.000000   \n50%          9.000000       3.000000       3.000000       2.000000   \n75%          9.000000       5.000000       4.000000       2.000000   \nmax          9.000000       8.000000       6.000000       2.000000   \n\n       ALTERSKATEGORIE_GROB  \ncount         891221.000000  \nmean               2.777398  \nstd                1.068775  \nmin                1.000000  \n25%                2.000000  \n50%                3.000000  \n75%                4.000000  \nmax                9.000000  \n\n[8 rows x 360 columns]",
      "text/html": "<div>\n<style scoped>\n    .dataframe tbody tr th:only-of-type {\n        vertical-align: middle;\n    }\n\n    .dataframe tbody tr th {\n        vertical-align: top;\n    }\n\n    .dataframe thead th {\n        text-align: right;\n    }\n</style>\n<table border=\"1\" class=\"dataframe\">\n  <thead>\n    <tr style=\"text-align: right;\">\n      <th></th>\n      <th>LNR</th>\n      <th>AGER_TYP</th>\n      <th>AKT_DAT_KL</th>\n      <th>ALTER_HH</th>\n      <th>ALTER_KIND1</th>\n      <th>ALTER_KIND2</th>\n      <th>ALTER_KIND3</th>\n      <th>ALTER_KIND4</th>\n      <th>ALTERSKATEGORIE_FEIN</th>\n      <th>ANZ_HAUSHALTE_AKTIV</th>\n      <th>...</th>\n      <th>VHN</th>\n      <th>VK_DHT4A</th>\n      <th>VK_DISTANZ</th>\n      <th>VK_ZG11</th>\n      <th>W_KEIT_KIND_HH</th>\n      <th>WOHNDAUER_2008</th>\n      <th>WOHNLAGE</th>\n      <th>ZABEOTYP</th>\n      <th>ANREDE_KZ</th>\n      <th>ALTERSKATEGORIE_GROB</th>\n    </tr>\n  </thead>\n  <tbody>\n    <tr>\n      <th>count</th>\n      <td>8.912210e+05</td>\n      <td>891221.000000</td>\n      <td>817722.000000</td>\n      <td>817722.000000</td>\n      <td>81058.000000</td>\n      <td>29499.000000</td>\n      <td>6170.000000</td>\n      <td>1205.000000</td>\n      <td>628274.000000</td>\n      <td>798073.000000</td>\n      <td>...</td>\n      <td>770025.000000</td>\n      <td>815304.000000</td>\n      <td>815304.000000</td>\n      <td>815304.000000</td>\n      <td>783619.000000</td>\n      <td>817722.000000</td>\n      <td>798073.000000</td>\n      <td>891221.000000</td>\n      <td>891221.000000</td>\n      <td>891221.000000</td>\n    </tr>\n    <tr>\n      <th>mean</th>\n      <td>6.372630e+05</td>\n      <td>-0.358435</td>\n      <td>4.421928</td>\n      <td>10.864126</td>\n      <td>11.745392</td>\n      <td>13.402658</td>\n      <td>14.476013</td>\n      <td>15.089627</td>\n      <td>13.700717</td>\n      <td>8.287263</td>\n      <td>...</td>\n      <td>2.417322</td>\n      <td>6.001214</td>\n      <td>7.532130</td>\n      <td>5.945972</td>\n      <td>3.933406</td>\n      <td>7.908791</td>\n      <td>4.052836</td>\n      <td>3.362438</td>\n      <td>1.522098</td>\n      <td>2.777398</td>\n    </tr>\n    <tr>\n      <th>std</th>\n      <td>2.572735e+05</td>\n      <td>1.198724</td>\n      <td>3.638805</td>\n      <td>7.639683</td>\n      <td>4.097660</td>\n      <td>3.243300</td>\n      <td>2.712427</td>\n      <td>2.452932</td>\n      <td>5.079849</td>\n      <td>15.628087</td>\n      <td>...</td>\n      <td>1.166572</td>\n      <td>2.856091</td>\n      <td>3.247789</td>\n      <td>2.771464</td>\n      <td>1.964701</td>\n      <td>1.923137</td>\n      <td>1.949539</td>\n      <td>1.352704</td>\n      <td>0.499512</td>\n      <td>1.068775</td>\n    </tr>\n    <tr>\n      <th>min</th>\n      <td>1.916530e+05</td>\n      <td>-1.000000</td>\n      <td>1.000000</td>\n      <td>0.000000</td>\n      <td>2.000000</td>\n      <td>2.000000</td>\n      <td>4.000000</td>\n      <td>7.000000</td>\n      <td>0.000000</td>\n      <td>0.000000</td>\n      <td>...</td>\n      <td>0.000000</td>\n      <td>1.000000</td>\n      <td>1.000000</td>\n      <td>1.000000</td>\n      <td>0.000000</td>\n      <td>1.000000</td>\n      <td>0.000000</td>\n      <td>1.000000</td>\n      <td>1.000000</td>\n      <td>1.000000</td>\n    </tr>\n    <tr>\n      <th>25%</th>\n      <td>4.144580e+05</td>\n      <td>-1.000000</td>\n      <td>1.000000</td>\n      <td>0.000000</td>\n      <td>8.000000</td>\n      <td>11.000000</td>\n      <td>13.000000</td>\n      <td>14.000000</td>\n      <td>11.000000</td>\n      <td>1.000000</td>\n      <td>...</td>\n      <td>2.000000</td>\n      <td>3.000000</td>\n      <td>5.000000</td>\n      <td>4.000000</td>\n      <td>2.000000</td>\n      <td>8.000000</td>\n      <td>3.000000</td>\n      <td>3.000000</td>\n      <td>1.000000</td>\n      <td>2.000000</td>\n    </tr>\n    <tr>\n      <th>50%</th>\n      <td>6.372630e+05</td>\n      <td>-1.000000</td>\n      <td>3.000000</td>\n      <td>13.000000</td>\n      <td>12.000000</td>\n      <td>14.000000</td>\n      <td>15.000000</td>\n      <td>15.000000</td>\n      <td>14.000000</td>\n      <td>4.000000</td>\n      <td>...</td>\n      <td>2.000000</td>\n      <td>6.000000</td>\n      <td>8.000000</td>\n      <td>6.000000</td>\n      <td>4.000000</td>\n      <td>9.000000</td>\n      <td>3.000000</td>\n      <td>3.000000</td>\n      <td>2.000000</td>\n      <td>3.000000</td>\n    </tr>\n    <tr>\n      <th>75%</th>\n      <td>8.600680e+05</td>\n      <td>-1.000000</td>\n      <td>9.000000</td>\n      <td>17.000000</td>\n      <td>15.000000</td>\n      <td>16.000000</td>\n      <td>17.000000</td>\n      <td>17.000000</td>\n      <td>17.000000</td>\n      <td>9.000000</td>\n      <td>...</td>\n      <td>3.000000</td>\n      <td>9.000000</td>\n      <td>10.000000</td>\n      <td>8.000000</td>\n      <td>6.000000</td>\n      <td>9.000000</td>\n      <td>5.000000</td>\n      <td>4.000000</td>\n      <td>2.000000</td>\n      <td>4.000000</td>\n    </tr>\n    <tr>\n      <th>max</th>\n      <td>1.082873e+06</td>\n      <td>3.000000</td>\n      <td>9.000000</td>\n      <td>21.000000</td>\n      <td>18.000000</td>\n      <td>18.000000</td>\n      <td>18.000000</td>\n      <td>18.000000</td>\n      <td>25.000000</td>\n      <td>595.000000</td>\n      <td>...</td>\n      <td>4.000000</td>\n      <td>11.000000</td>\n      <td>13.000000</td>\n      <td>11.000000</td>\n      <td>6.000000</td>\n      <td>9.000000</td>\n      <td>8.000000</td>\n      <td>6.000000</td>\n      <td>2.000000</td>\n      <td>9.000000</td>\n    </tr>\n  </tbody>\n</table>\n<p>8 rows × 360 columns</p>\n</div>"
     },
     "execution_count": 3,
     "metadata": {},
     "output_type": "execute_result"
    }
   ],
   "source": [
    "azdias_desc = azdias.describe()\n",
    "azdias_desc"
   ],
   "metadata": {
    "collapsed": false,
    "pycharm": {
     "name": "#%%\n"
    }
   }
  },
  {
   "cell_type": "markdown",
   "source": [
    "##### Missing Values"
   ],
   "metadata": {
    "collapsed": false,
    "pycharm": {
     "name": "#%% md\n"
    }
   }
  },
  {
   "cell_type": "code",
   "execution_count": 4,
   "outputs": [
    {
     "name": "stdout",
     "output_type": "stream",
     "text": [
      "total number of values:  891221\n"
     ]
    },
    {
     "data": {
      "text/plain": "LNR                          0.0\nAGER_TYP                     0.0\nAKT_DAT_KL              -73499.0\nALTER_HH                -73499.0\nALTER_KIND1            -810163.0\n                          ...   \nWOHNDAUER_2008          -73499.0\nWOHNLAGE                -93148.0\nZABEOTYP                     0.0\nANREDE_KZ                    0.0\nALTERSKATEGORIE_GROB         0.0\nName: count, Length: 360, dtype: float64"
     },
     "execution_count": 4,
     "metadata": {},
     "output_type": "execute_result"
    }
   ],
   "source": [
    "print('total number of values: % i' % azdias_desc.loc['count', 'LNR'])\n",
    "azdias_desc.loc['count', :] - azdias_desc.loc['count', 'LNR']"
   ],
   "metadata": {
    "collapsed": false,
    "pycharm": {
     "name": "#%%\n"
    }
   }
  },
  {
   "cell_type": "markdown",
   "source": [
    "We can see here, that we have about 890k customers in our Dataset. We have a lot of missing data, which we can see in the anlysis above. Since we currently have no information about the importance of each column, it makes sense to keep the columns. Eventhough the importance is unknown, it is worth wile, trying simple methods to fill some of the missing data."
   ],
   "metadata": {
    "collapsed": false,
    "pycharm": {
     "name": "#%% md\n"
    }
   }
  },
  {
   "cell_type": "code",
   "execution_count": 5,
   "outputs": [
    {
     "name": "stdout",
     "output_type": "stream",
     "text": [
      "columns with missing values:\n",
      "267\n",
      "\n",
      "missing values for each column:\n"
     ]
    },
    {
     "data": {
      "text/plain": "AKT_DAT_KL        -73499.0\nALTER_HH          -73499.0\nALTER_KIND1      -810163.0\nALTER_KIND2      -861722.0\nALTER_KIND3      -885051.0\n                    ...   \nVK_DISTANZ        -75917.0\nVK_ZG11           -75917.0\nW_KEIT_KIND_HH   -107602.0\nWOHNDAUER_2008    -73499.0\nWOHNLAGE          -93148.0\nName: count, Length: 267, dtype: float64"
     },
     "execution_count": 5,
     "metadata": {},
     "output_type": "execute_result"
    }
   ],
   "source": [
    "non_cols = (azdias_desc.loc['count', :] - azdias_desc.loc['count', 'LNR']) < 0\n",
    "print(\"columns with missing values:\")\n",
    "print(len(azdias_desc.columns[non_cols]))\n",
    "\n",
    "print(\"\\nmissing values for each column:\")\n",
    "(azdias_desc.loc['count', :] - azdias_desc.loc['count', 'LNR']).loc[non_cols]"
   ],
   "metadata": {
    "collapsed": false,
    "pycharm": {
     "name": "#%%\n"
    }
   }
  },
  {
   "cell_type": "markdown",
   "source": [
    "We can see, that a lot of columns with missing data have a similar amount of missing data. This may lead to the assumption that the missing data can be grouped in a specific way.\n",
    "\n",
    "E.g.: the data containing `KBA05_*` all have the same amount of missing data. If we take a look at the description for this dataset, we can see that the data revolves around data related to cars and automotive in general, therefore we can assume that these missing data point can be imputed in the same way. The data will be imputed in the 'Data Cleaning' chapter."
   ],
   "metadata": {
    "collapsed": false,
    "pycharm": {
     "name": "#%% md\n"
    }
   }
  },
  {
   "cell_type": "code",
   "execution_count": 6,
   "outputs": [
    {
     "data": {
      "text/plain": "-105800.0    116\n-133324.0     64\n-4854.0       19\n-73499.0      11\n-93148.0       9\n-257113.0      8\n-116515.0      7\n-121196.0      3\n-97274.0       3\n-93155.0       3\n-93740.0       3\n-97216.0       3\n-75917.0       3\n-107602.0      2\n-97786.0       2\n-654153.0      1\n-810163.0      1\n-97008.0       1\n-18348.0       1\n-262947.0      1\n-890016.0      1\n-584612.0      1\n-885051.0      1\n-73969.0       1\n-861722.0      1\n-51226.0       1\nName: count, dtype: int64"
     },
     "execution_count": 6,
     "metadata": {},
     "output_type": "execute_result"
    }
   ],
   "source": [
    "missing_values = (azdias_desc.loc['count', :] - azdias_desc.loc['count', 'LNR']).loc[non_cols]\n",
    "missing_values.value_counts()"
   ],
   "metadata": {
    "collapsed": false,
    "pycharm": {
     "name": "#%%\n"
    }
   }
  },
  {
   "cell_type": "markdown",
   "source": [
    "##### Customers with missing values\n",
    "Since we have a lot of data. We should consider dropping data from customers with a lot of missing data. Hence we should first take a look at how much missing data the customers usually have.\n"
   ],
   "metadata": {
    "collapsed": false,
    "pycharm": {
     "name": "#%% md\n"
    }
   }
  },
  {
   "cell_type": "code",
   "execution_count": 7,
   "outputs": [],
   "source": [
    "customer_nans = azdias.isna().sum(axis=1)"
   ],
   "metadata": {
    "collapsed": false,
    "pycharm": {
     "name": "#%%\n"
    }
   }
  },
  {
   "cell_type": "code",
   "execution_count": 8,
   "outputs": [
    {
     "data": {
      "text/plain": "<Figure size 640x480 with 1 Axes>",
      "image/png": "[encoded data removed]"
     },
     "metadata": {},
     "output_type": "display_data"
    }
   ],
   "source": [
    "plt.hist(customer_nans, bins=50);"
   ],
   "metadata": {
    "collapsed": false,
    "pycharm": {
     "name": "#%%\n"
    }
   }
  },
  {
   "cell_type": "markdown",
   "source": [
    "The histogram above shows, that most of the customers have less than approx. 30 missing values. We may consider dropping customers with more than 50 missing values."
   ],
   "metadata": {
    "collapsed": false,
    "pycharm": {
     "name": "#%% md\n"
    }
   }
  },
  {
   "cell_type": "markdown",
   "source": [
    "##### Data Types\n",
    "It seems like most of the data is categorical, but already transformed into numerical values. As we can see below, there are still a few categorical columns left. These have to be transformed into a numerical value as well. This will also be done in the following chapters.\n",
    "\n"
   ],
   "metadata": {
    "collapsed": false,
    "pycharm": {
     "name": "#%% md\n"
    }
   }
  },
  {
   "cell_type": "code",
   "execution_count": 9,
   "outputs": [
    {
     "data": {
      "text/plain": "float64    267\nint64       93\nobject       6\ndtype: int64"
     },
     "execution_count": 9,
     "metadata": {},
     "output_type": "execute_result"
    }
   ],
   "source": [
    "azdias.dtypes.value_counts()"
   ],
   "metadata": {
    "collapsed": false,
    "pycharm": {
     "name": "#%%\n"
    }
   }
  },
  {
   "cell_type": "code",
   "execution_count": 10,
   "outputs": [
    {
     "data": {
      "text/plain": "Index(['CAMEO_DEU_2015', 'CAMEO_DEUG_2015', 'CAMEO_INTL_2015',\n       'D19_LETZTER_KAUF_BRANCHE', 'EINGEFUEGT_AM', 'OST_WEST_KZ'],\n      dtype='object')"
     },
     "execution_count": 10,
     "metadata": {},
     "output_type": "execute_result"
    }
   ],
   "source": [
    "azdias.columns[azdias.dtypes == 'object']"
   ],
   "metadata": {
    "collapsed": false,
    "pycharm": {
     "name": "#%%\n"
    }
   }
  },
  {
   "cell_type": "markdown",
   "source": [
    "##### Duplicates\n",
    "Another think to investigate is, if duplicates exist. Since the `azdias?` data has a unique id column (`LNR`), we are going to check for duplicates in this column."
   ],
   "metadata": {
    "collapsed": false,
    "pycharm": {
     "name": "#%% md\n"
    }
   }
  },
  {
   "cell_type": "code",
   "execution_count": 11,
   "outputs": [
    {
     "data": {
      "text/plain": "False"
     },
     "execution_count": 11,
     "metadata": {},
     "output_type": "execute_result"
    }
   ],
   "source": [
    "azdias.LNR.duplicated().any()"
   ],
   "metadata": {
    "collapsed": false,
    "pycharm": {
     "name": "#%%\n"
    }
   }
  },
  {
   "cell_type": "markdown",
   "source": [
    "##### Constant Values\n",
    "Next, we are going to take a look at features with constant values, to see if we have features, that have no relevance."
   ],
   "metadata": {
    "collapsed": false,
    "pycharm": {
     "name": "#%% md\n"
    }
   }
  },
  {
   "cell_type": "code",
   "execution_count": 12,
   "outputs": [],
   "source": [
    "has_unique_values = [len(icolumn.unique()) < 2 for _, icolumn in\n",
    "                     azdias.items()]"
   ],
   "metadata": {
    "collapsed": false,
    "pycharm": {
     "name": "#%%\n"
    }
   }
  },
  {
   "cell_type": "code",
   "execution_count": 13,
   "outputs": [
    {
     "data": {
      "text/plain": "0"
     },
     "execution_count": 13,
     "metadata": {},
     "output_type": "execute_result"
    }
   ],
   "source": [
    "has_unique_values.count(True)"
   ],
   "metadata": {
    "collapsed": false,
    "pycharm": {
     "name": "#%%\n"
    }
   }
  },
  {
   "cell_type": "markdown",
   "source": [
    "We see that we have no problems wih duplicates in this dataset."
   ],
   "metadata": {
    "collapsed": false,
    "pycharm": {
     "name": "#%% md\n"
    }
   }
  },
  {
   "cell_type": "markdown",
   "source": [
    "### Data Cleaning\n",
    "To work with the data we have to take a look at the columns, the data formats and clean the data, to make the data more handy. Since the data is almost the same fo each file, except for a few columns, it makes sense to clean the data for each file in the same manor. Therefore, we are going to identify all the same columns and clean the data afterwards. The remaining columns are leaned seperately, since they dont have anything in common.\n",
    "\n",
    "The data cleaning process will contain the following steps:\n",
    "- drop or impute nans\n",
    "- drop not useful customer-data\n",
    "- transforming categorical data to numerical data\n",
    "\n",
    "The evaluation of the useful customer-data will be postponed, first we have to analyse which features are actually important and which ones we can drop anyway. This will only be performed, if we see the necessity to do so."
   ],
   "metadata": {
    "collapsed": false,
    "pycharm": {
     "name": "#%% md\n"
    }
   }
  },
  {
   "cell_type": "markdown",
   "source": [
    "##### Handle Nans\n",
    "\n",
    "Since we have a lot of Nan values, it makes sense to replace them with an appropriate value.\n",
    "\n",
    "###### Unify unknown data\n",
    "We see that in the data we have some columns, that have different entries for unknown data. Usually, unknown has the flag `-1`, but in some cases it is set to `0` or to a tuple of values like `-1, 9` or `-1, 0`. To unify these entries, we are going to replace the values of `-1, 9` and `-1, 0` with `-1`, but we will still keep the `0`'s. The reason for that is, that in some cases like 'number of XY per household' it could be 0, but it could also be unknown. to keep that information, we are going to replace only the actually unknown data with `-1`'s."
   ],
   "metadata": {
    "collapsed": false,
    "pycharm": {
     "name": "#%% md\n"
    }
   }
  },
  {
   "cell_type": "code",
   "execution_count": 14,
   "outputs": [],
   "source": [
    "def replace_unknowns(data):\n",
    "    replace_dict = {'-1,0': '-1', '-1,9': '-1'}\n",
    "    data.replace(replace_dict, regex=True, inplace=True)\n",
    "    return data\n",
    "\n",
    "\n",
    "azdias = replace_unknowns(azdias)"
   ],
   "metadata": {
    "collapsed": false,
    "pycharm": {
     "name": "#%%\n"
    }
   }
  },
  {
   "cell_type": "markdown",
   "source": [
    "###### Dropping useless customers\n",
    "Since we saw that a lot of customers have very few data and we have a lot of customer data, we can simply drop them. We are going to drop every row with more than 50 missing values."
   ],
   "metadata": {
    "collapsed": false,
    "pycharm": {
     "name": "#%% md\n"
    }
   }
  },
  {
   "cell_type": "code",
   "execution_count": 15,
   "outputs": [
    {
     "data": {
      "text/plain": "(891221, 366)"
     },
     "execution_count": 15,
     "metadata": {},
     "output_type": "execute_result"
    }
   ],
   "source": [
    "azdias.shape"
   ],
   "metadata": {
    "collapsed": false,
    "pycharm": {
     "name": "#%%\n"
    }
   }
  },
  {
   "cell_type": "code",
   "execution_count": 16,
   "outputs": [
    {
     "name": "stdout",
     "output_type": "stream",
     "text": [
      "(891221, 366)\n",
      "(751331, 366)\n"
     ]
    }
   ],
   "source": [
    "def drop_useless_rows(data):\n",
    "    more_than_50_missing = data.isna().sum(axis=1) > 50\n",
    "    index_50_missing = more_than_50_missing[more_than_50_missing].index\n",
    "    data = data.drop(index_50_missing)\n",
    "    data.reset_index(inplace=True, drop=True)\n",
    "\n",
    "    return data\n",
    "\n",
    "print(azdias.shape)\n",
    "azdias = drop_useless_rows(azdias)\n",
    "print(azdias.shape)"
   ],
   "metadata": {
    "collapsed": false,
    "pycharm": {
     "name": "#%%\n"
    }
   }
  },
  {
   "cell_type": "code",
   "execution_count": 17,
   "outputs": [
    {
     "data": {
      "text/plain": "      LNR  AGER_TYP  AKT_DAT_KL  ALTER_HH  ALTER_KIND1  ALTER_KIND2  \\\n0  910220        -1         9.0       0.0          NaN          NaN   \n1  910225        -1         9.0      17.0          NaN          NaN   \n2  910226         2         1.0      13.0          NaN          NaN   \n3  910241        -1         1.0      20.0          NaN          NaN   \n4  910244         3         1.0      10.0          NaN          NaN   \n\n   ALTER_KIND3  ALTER_KIND4  ALTERSKATEGORIE_FEIN  ANZ_HAUSHALTE_AKTIV  ...  \\\n0          NaN          NaN                  21.0                 11.0  ...   \n1          NaN          NaN                  17.0                 10.0  ...   \n2          NaN          NaN                  13.0                  1.0  ...   \n3          NaN          NaN                  14.0                  3.0  ...   \n4          NaN          NaN                  10.0                  5.0  ...   \n\n   VHN  VK_DHT4A  VK_DISTANZ  VK_ZG11  W_KEIT_KIND_HH  WOHNDAUER_2008  \\\n0  4.0       8.0        11.0     10.0             3.0             9.0   \n1  2.0       9.0         9.0      6.0             3.0             9.0   \n2  0.0       7.0        10.0     11.0             NaN             9.0   \n3  2.0       3.0         5.0      4.0             2.0             9.0   \n4  2.0      10.0         7.0      4.0             6.0             9.0   \n\n   WOHNLAGE ZABEOTYP ANREDE_KZ ALTERSKATEGORIE_GROB  \n0       4.0        5         2                    1  \n1       2.0        5         2                    3  \n2       7.0        3         2                    4  \n3       3.0        4         1                    3  \n4       7.0        4         2                    1  \n\n[5 rows x 366 columns]",
      "text/html": "<div>\n<style scoped>\n    .dataframe tbody tr th:only-of-type {\n        vertical-align: middle;\n    }\n\n    .dataframe tbody tr th {\n        vertical-align: top;\n    }\n\n    .dataframe thead th {\n        text-align: right;\n    }\n</style>\n<table border=\"1\" class=\"dataframe\">\n  <thead>\n    <tr style=\"text-align: right;\">\n      <th></th>\n      <th>LNR</th>\n      <th>AGER_TYP</th>\n      <th>AKT_DAT_KL</th>\n      <th>ALTER_HH</th>\n      <th>ALTER_KIND1</th>\n      <th>ALTER_KIND2</th>\n      <th>ALTER_KIND3</th>\n      <th>ALTER_KIND4</th>\n      <th>ALTERSKATEGORIE_FEIN</th>\n      <th>ANZ_HAUSHALTE_AKTIV</th>\n      <th>...</th>\n      <th>VHN</th>\n      <th>VK_DHT4A</th>\n      <th>VK_DISTANZ</th>\n      <th>VK_ZG11</th>\n      <th>W_KEIT_KIND_HH</th>\n      <th>WOHNDAUER_2008</th>\n      <th>WOHNLAGE</th>\n      <th>ZABEOTYP</th>\n      <th>ANREDE_KZ</th>\n      <th>ALTERSKATEGORIE_GROB</th>\n    </tr>\n  </thead>\n  <tbody>\n    <tr>\n      <th>0</th>\n      <td>910220</td>\n      <td>-1</td>\n      <td>9.0</td>\n      <td>0.0</td>\n      <td>NaN</td>\n      <td>NaN</td>\n      <td>NaN</td>\n      <td>NaN</td>\n      <td>21.0</td>\n      <td>11.0</td>\n      <td>...</td>\n      <td>4.0</td>\n      <td>8.0</td>\n      <td>11.0</td>\n      <td>10.0</td>\n      <td>3.0</td>\n      <td>9.0</td>\n      <td>4.0</td>\n      <td>5</td>\n      <td>2</td>\n      <td>1</td>\n    </tr>\n    <tr>\n      <th>1</th>\n      <td>910225</td>\n      <td>-1</td>\n      <td>9.0</td>\n      <td>17.0</td>\n      <td>NaN</td>\n      <td>NaN</td>\n      <td>NaN</td>\n      <td>NaN</td>\n      <td>17.0</td>\n      <td>10.0</td>\n      <td>...</td>\n      <td>2.0</td>\n      <td>9.0</td>\n      <td>9.0</td>\n      <td>6.0</td>\n      <td>3.0</td>\n      <td>9.0</td>\n      <td>2.0</td>\n      <td>5</td>\n      <td>2</td>\n      <td>3</td>\n    </tr>\n    <tr>\n      <th>2</th>\n      <td>910226</td>\n      <td>2</td>\n      <td>1.0</td>\n      <td>13.0</td>\n      <td>NaN</td>\n      <td>NaN</td>\n      <td>NaN</td>\n      <td>NaN</td>\n      <td>13.0</td>\n      <td>1.0</td>\n      <td>...</td>\n      <td>0.0</td>\n      <td>7.0</td>\n      <td>10.0</td>\n      <td>11.0</td>\n      <td>NaN</td>\n      <td>9.0</td>\n      <td>7.0</td>\n      <td>3</td>\n      <td>2</td>\n      <td>4</td>\n    </tr>\n    <tr>\n      <th>3</th>\n      <td>910241</td>\n      <td>-1</td>\n      <td>1.0</td>\n      <td>20.0</td>\n      <td>NaN</td>\n      <td>NaN</td>\n      <td>NaN</td>\n      <td>NaN</td>\n      <td>14.0</td>\n      <td>3.0</td>\n      <td>...</td>\n      <td>2.0</td>\n      <td>3.0</td>\n      <td>5.0</td>\n      <td>4.0</td>\n      <td>2.0</td>\n      <td>9.0</td>\n      <td>3.0</td>\n      <td>4</td>\n      <td>1</td>\n      <td>3</td>\n    </tr>\n    <tr>\n      <th>4</th>\n      <td>910244</td>\n      <td>3</td>\n      <td>1.0</td>\n      <td>10.0</td>\n      <td>NaN</td>\n      <td>NaN</td>\n      <td>NaN</td>\n      <td>NaN</td>\n      <td>10.0</td>\n      <td>5.0</td>\n      <td>...</td>\n      <td>2.0</td>\n      <td>10.0</td>\n      <td>7.0</td>\n      <td>4.0</td>\n      <td>6.0</td>\n      <td>9.0</td>\n      <td>7.0</td>\n      <td>4</td>\n      <td>2</td>\n      <td>1</td>\n    </tr>\n  </tbody>\n</table>\n<p>5 rows × 366 columns</p>\n</div>"
     },
     "execution_count": 17,
     "metadata": {},
     "output_type": "execute_result"
    }
   ],
   "source": [
    "azdias.head()"
   ],
   "metadata": {
    "collapsed": false,
    "pycharm": {
     "name": "#%%\n"
    }
   }
  },
  {
   "cell_type": "markdown",
   "source": [
    "Eventhough we may have dropped about 15% of our data, but we are still left with a lot of data AND we gained additional data quality with low effort."
   ],
   "metadata": {
    "collapsed": false,
    "pycharm": {
     "name": "#%% md\n"
    }
   }
  },
  {
   "cell_type": "markdown",
   "source": [
    "###### replace Nans\n",
    "For every other non available value, we are going to set them the standard value of `-1`."
   ],
   "metadata": {
    "collapsed": false,
    "pycharm": {
     "name": "#%% md\n"
    }
   }
  },
  {
   "cell_type": "code",
   "execution_count": 18,
   "outputs": [
    {
     "data": {
      "text/plain": "           LNR  AGER_TYP  AKT_DAT_KL  ALTER_HH  ALTER_KIND1  ALTER_KIND2  \\\n0       910220        -1         9.0       0.0         -1.0         -1.0   \n1       910225        -1         9.0      17.0         -1.0         -1.0   \n2       910226         2         1.0      13.0         -1.0         -1.0   \n3       910241        -1         1.0      20.0         -1.0         -1.0   \n4       910244         3         1.0      10.0         -1.0         -1.0   \n...        ...       ...         ...       ...          ...          ...   \n751326  825761        -1         5.0      17.0         -1.0         -1.0   \n751327  825771        -1         9.0      16.0         -1.0         -1.0   \n751328  825772        -1         1.0      17.0         -1.0         -1.0   \n751329  825776        -1         9.0       0.0         17.0         -1.0   \n751330  825787        -1         1.0       0.0         -1.0         -1.0   \n\n        ALTER_KIND3  ALTER_KIND4  ALTERSKATEGORIE_FEIN  ANZ_HAUSHALTE_AKTIV  \\\n0              -1.0         -1.0                  21.0                 11.0   \n1              -1.0         -1.0                  17.0                 10.0   \n2              -1.0         -1.0                  13.0                  1.0   \n3              -1.0         -1.0                  14.0                  3.0   \n4              -1.0         -1.0                  10.0                  5.0   \n...             ...          ...                   ...                  ...   \n751326         -1.0         -1.0                  17.0                 15.0   \n751327         -1.0         -1.0                  16.0                 11.0   \n751328         -1.0         -1.0                  17.0                  3.0   \n751329         -1.0         -1.0                  20.0                  7.0   \n751330         -1.0         -1.0                  -1.0                 10.0   \n\n        ...  VHN  VK_DHT4A  VK_DISTANZ  VK_ZG11  W_KEIT_KIND_HH  \\\n0       ...  4.0       8.0        11.0     10.0             3.0   \n1       ...  2.0       9.0         9.0      6.0             3.0   \n2       ...  0.0       7.0        10.0     11.0            -1.0   \n3       ...  2.0       3.0         5.0      4.0             2.0   \n4       ...  2.0      10.0         7.0      4.0             6.0   \n...     ...  ...       ...         ...      ...             ...   \n751326  ...  2.0       4.0         7.0      8.0             3.0   \n751327  ...  4.0       6.0         9.0      6.0             6.0   \n751328  ...  2.0       7.0        10.0      8.0            -1.0   \n751329  ...  4.0       9.0         8.0      5.0             1.0   \n751330  ...  3.0       8.0        10.0      7.0             6.0   \n\n        WOHNDAUER_2008  WOHNLAGE ZABEOTYP ANREDE_KZ ALTERSKATEGORIE_GROB  \n0                  9.0       4.0        5         2                    1  \n1                  9.0       2.0        5         2                    3  \n2                  9.0       7.0        3         2                    4  \n3                  9.0       3.0        4         1                    3  \n4                  9.0       7.0        4         2                    1  \n...                ...       ...      ...       ...                  ...  \n751326             4.0       3.0        4         2                    3  \n751327             9.0       5.0        6         1                    2  \n751328             5.0       7.0        4         2                    2  \n751329             9.0       5.0        5         1                    1  \n751330             3.0       4.0        3         1                    4  \n\n[751331 rows x 366 columns]",
      "text/html": "<div>\n<style scoped>\n    .dataframe tbody tr th:only-of-type {\n        vertical-align: middle;\n    }\n\n    .dataframe tbody tr th {\n        vertical-align: top;\n    }\n\n    .dataframe thead th {\n        text-align: right;\n    }\n</style>\n<table border=\"1\" class=\"dataframe\">\n  <thead>\n    <tr style=\"text-align: right;\">\n      <th></th>\n      <th>LNR</th>\n      <th>AGER_TYP</th>\n      <th>AKT_DAT_KL</th>\n      <th>ALTER_HH</th>\n      <th>ALTER_KIND1</th>\n      <th>ALTER_KIND2</th>\n      <th>ALTER_KIND3</th>\n      <th>ALTER_KIND4</th>\n      <th>ALTERSKATEGORIE_FEIN</th>\n      <th>ANZ_HAUSHALTE_AKTIV</th>\n      <th>...</th>\n      <th>VHN</th>\n      <th>VK_DHT4A</th>\n      <th>VK_DISTANZ</th>\n      <th>VK_ZG11</th>\n      <th>W_KEIT_KIND_HH</th>\n      <th>WOHNDAUER_2008</th>\n      <th>WOHNLAGE</th>\n      <th>ZABEOTYP</th>\n      <th>ANREDE_KZ</th>\n      <th>ALTERSKATEGORIE_GROB</th>\n    </tr>\n  </thead>\n  <tbody>\n    <tr>\n      <th>0</th>\n      <td>910220</td>\n      <td>-1</td>\n      <td>9.0</td>\n      <td>0.0</td>\n      <td>-1.0</td>\n      <td>-1.0</td>\n      <td>-1.0</td>\n      <td>-1.0</td>\n      <td>21.0</td>\n      <td>11.0</td>\n      <td>...</td>\n      <td>4.0</td>\n      <td>8.0</td>\n      <td>11.0</td>\n      <td>10.0</td>\n      <td>3.0</td>\n      <td>9.0</td>\n      <td>4.0</td>\n      <td>5</td>\n      <td>2</td>\n      <td>1</td>\n    </tr>\n    <tr>\n      <th>1</th>\n      <td>910225</td>\n      <td>-1</td>\n      <td>9.0</td>\n      <td>17.0</td>\n      <td>-1.0</td>\n      <td>-1.0</td>\n      <td>-1.0</td>\n      <td>-1.0</td>\n      <td>17.0</td>\n      <td>10.0</td>\n      <td>...</td>\n      <td>2.0</td>\n      <td>9.0</td>\n      <td>9.0</td>\n      <td>6.0</td>\n      <td>3.0</td>\n      <td>9.0</td>\n      <td>2.0</td>\n      <td>5</td>\n      <td>2</td>\n      <td>3</td>\n    </tr>\n    <tr>\n      <th>2</th>\n      <td>910226</td>\n      <td>2</td>\n      <td>1.0</td>\n      <td>13.0</td>\n      <td>-1.0</td>\n      <td>-1.0</td>\n      <td>-1.0</td>\n      <td>-1.0</td>\n      <td>13.0</td>\n      <td>1.0</td>\n      <td>...</td>\n      <td>0.0</td>\n      <td>7.0</td>\n      <td>10.0</td>\n      <td>11.0</td>\n      <td>-1.0</td>\n      <td>9.0</td>\n      <td>7.0</td>\n      <td>3</td>\n      <td>2</td>\n      <td>4</td>\n    </tr>\n    <tr>\n      <th>3</th>\n      <td>910241</td>\n      <td>-1</td>\n      <td>1.0</td>\n      <td>20.0</td>\n      <td>-1.0</td>\n      <td>-1.0</td>\n      <td>-1.0</td>\n      <td>-1.0</td>\n      <td>14.0</td>\n      <td>3.0</td>\n      <td>...</td>\n      <td>2.0</td>\n      <td>3.0</td>\n      <td>5.0</td>\n      <td>4.0</td>\n      <td>2.0</td>\n      <td>9.0</td>\n      <td>3.0</td>\n      <td>4</td>\n      <td>1</td>\n      <td>3</td>\n    </tr>\n    <tr>\n      <th>4</th>\n      <td>910244</td>\n      <td>3</td>\n      <td>1.0</td>\n      <td>10.0</td>\n      <td>-1.0</td>\n      <td>-1.0</td>\n      <td>-1.0</td>\n      <td>-1.0</td>\n      <td>10.0</td>\n      <td>5.0</td>\n      <td>...</td>\n      <td>2.0</td>\n      <td>10.0</td>\n      <td>7.0</td>\n      <td>4.0</td>\n      <td>6.0</td>\n      <td>9.0</td>\n      <td>7.0</td>\n      <td>4</td>\n      <td>2</td>\n      <td>1</td>\n    </tr>\n    <tr>\n      <th>...</th>\n      <td>...</td>\n      <td>...</td>\n      <td>...</td>\n      <td>...</td>\n      <td>...</td>\n      <td>...</td>\n      <td>...</td>\n      <td>...</td>\n      <td>...</td>\n      <td>...</td>\n      <td>...</td>\n      <td>...</td>\n      <td>...</td>\n      <td>...</td>\n      <td>...</td>\n      <td>...</td>\n      <td>...</td>\n      <td>...</td>\n      <td>...</td>\n      <td>...</td>\n      <td>...</td>\n    </tr>\n    <tr>\n      <th>751326</th>\n      <td>825761</td>\n      <td>-1</td>\n      <td>5.0</td>\n      <td>17.0</td>\n      <td>-1.0</td>\n      <td>-1.0</td>\n      <td>-1.0</td>\n      <td>-1.0</td>\n      <td>17.0</td>\n      <td>15.0</td>\n      <td>...</td>\n      <td>2.0</td>\n      <td>4.0</td>\n      <td>7.0</td>\n      <td>8.0</td>\n      <td>3.0</td>\n      <td>4.0</td>\n      <td>3.0</td>\n      <td>4</td>\n      <td>2</td>\n      <td>3</td>\n    </tr>\n    <tr>\n      <th>751327</th>\n      <td>825771</td>\n      <td>-1</td>\n      <td>9.0</td>\n      <td>16.0</td>\n      <td>-1.0</td>\n      <td>-1.0</td>\n      <td>-1.0</td>\n      <td>-1.0</td>\n      <td>16.0</td>\n      <td>11.0</td>\n      <td>...</td>\n      <td>4.0</td>\n      <td>6.0</td>\n      <td>9.0</td>\n      <td>6.0</td>\n      <td>6.0</td>\n      <td>9.0</td>\n      <td>5.0</td>\n      <td>6</td>\n      <td>1</td>\n      <td>2</td>\n    </tr>\n    <tr>\n      <th>751328</th>\n      <td>825772</td>\n      <td>-1</td>\n      <td>1.0</td>\n      <td>17.0</td>\n      <td>-1.0</td>\n      <td>-1.0</td>\n      <td>-1.0</td>\n      <td>-1.0</td>\n      <td>17.0</td>\n      <td>3.0</td>\n      <td>...</td>\n      <td>2.0</td>\n      <td>7.0</td>\n      <td>10.0</td>\n      <td>8.0</td>\n      <td>-1.0</td>\n      <td>5.0</td>\n      <td>7.0</td>\n      <td>4</td>\n      <td>2</td>\n      <td>2</td>\n    </tr>\n    <tr>\n      <th>751329</th>\n      <td>825776</td>\n      <td>-1</td>\n      <td>9.0</td>\n      <td>0.0</td>\n      <td>17.0</td>\n      <td>-1.0</td>\n      <td>-1.0</td>\n      <td>-1.0</td>\n      <td>20.0</td>\n      <td>7.0</td>\n      <td>...</td>\n      <td>4.0</td>\n      <td>9.0</td>\n      <td>8.0</td>\n      <td>5.0</td>\n      <td>1.0</td>\n      <td>9.0</td>\n      <td>5.0</td>\n      <td>5</td>\n      <td>1</td>\n      <td>1</td>\n    </tr>\n    <tr>\n      <th>751330</th>\n      <td>825787</td>\n      <td>-1</td>\n      <td>1.0</td>\n      <td>0.0</td>\n      <td>-1.0</td>\n      <td>-1.0</td>\n      <td>-1.0</td>\n      <td>-1.0</td>\n      <td>-1.0</td>\n      <td>10.0</td>\n      <td>...</td>\n      <td>3.0</td>\n      <td>8.0</td>\n      <td>10.0</td>\n      <td>7.0</td>\n      <td>6.0</td>\n      <td>3.0</td>\n      <td>4.0</td>\n      <td>3</td>\n      <td>1</td>\n      <td>4</td>\n    </tr>\n  </tbody>\n</table>\n<p>751331 rows × 366 columns</p>\n</div>"
     },
     "execution_count": 18,
     "metadata": {},
     "output_type": "execute_result"
    }
   ],
   "source": [
    "def replace_nans(data):\n",
    "    data.fillna(-1, inplace=True)\n",
    "    return data\n",
    "\n",
    "\n",
    "azdias = replace_nans(azdias)\n",
    "azdias"
   ],
   "metadata": {
    "collapsed": false,
    "pycharm": {
     "name": "#%%\n"
    }
   }
  },
  {
   "cell_type": "markdown",
   "source": [
    "##### Transforming Categorical Data\n",
    "\n",
    "First we have to identify which data is not categorical already. After that we are going to replace the columns with numerical values."
   ],
   "metadata": {
    "collapsed": false,
    "pycharm": {
     "name": "#%% md\n"
    }
   }
  },
  {
   "cell_type": "code",
   "execution_count": 19,
   "outputs": [
    {
     "data": {
      "text/plain": "Index(['CAMEO_DEU_2015', 'CAMEO_DEUG_2015', 'CAMEO_INTL_2015',\n       'D19_LETZTER_KAUF_BRANCHE', 'EINGEFUEGT_AM', 'OST_WEST_KZ'],\n      dtype='object')"
     },
     "execution_count": 19,
     "metadata": {},
     "output_type": "execute_result"
    }
   ],
   "source": [
    "def get_non_numeric_columns(data):\n",
    "    return data.columns[data.dtypes == 'object']\n",
    "\n",
    "\n",
    "non_num_cols = get_non_numeric_columns(azdias)\n",
    "non_num_cols"
   ],
   "metadata": {
    "collapsed": false,
    "pycharm": {
     "name": "#%%\n"
    }
   }
  },
  {
   "cell_type": "markdown",
   "source": [
    "###### CAMEO_DEU_2015\n",
    "\n",
    "In the data, we can see that the values range from 1 to 9 with additional letters from A to F. As we can see below in the CAMEO_DEUINT_2015 feature, the features are set to 11-55, but not consecutively, which we are going to do here as well."
   ],
   "metadata": {
    "collapsed": false,
    "pycharm": {
     "name": "#%% md\n"
    }
   }
  },
  {
   "cell_type": "code",
   "execution_count": 20,
   "outputs": [
    {
     "data": {
      "text/plain": "array(['8A', '4C', '2A', '6B', '8C', '4A', '2D', '1A', '1E', '9D', '7A',\n       '5D', '9E', '5C', '9B', '1B', '8B', '3D', -1, '4E', '4B', '3C',\n       '5A', '7B', '9A', '6D', '6E', '2C', '7C', '9C', '7D', '5E', '1D',\n       '8D', '6C', '6A', '5B', '4D', '3A', '2B', '7E', '3B', '6F', '5F',\n       '1C', 'XX'], dtype=object)"
     },
     "execution_count": 20,
     "metadata": {},
     "output_type": "execute_result"
    }
   ],
   "source": [
    "azdias.loc[:, non_num_cols[0]].unique()"
   ],
   "metadata": {
    "collapsed": false,
    "pycharm": {
     "name": "#%%\n"
    }
   }
  },
  {
   "cell_type": "code",
   "execution_count": 21,
   "outputs": [
    {
     "name": "stderr",
     "output_type": "stream",
     "text": [
      "C:\\Users\\K35400\\AppData\\Local\\Temp\\ipykernel_31900\\3161604245.py:6: DeprecationWarning: In a future version, `df.iloc[:, i] = newvals` will attempt to set the values inplace instead of always setting a new array. To retain the old behavior, use either `df[df.columns[i]] = newvals` or, if columns are non-unique, `df.isetitem(i, newvals)`\n",
      "  data.loc[:, 'CAMEO_DEU_2015'] = data.loc[:, 'CAMEO_DEU_2015'].astype(int)\n"
     ]
    },
    {
     "data": {
      "text/plain": "0    81\n1    43\n2    21\n3    62\n4    83\n5    41\n6    24\n7    11\n8    15\n9    94\nName: CAMEO_DEU_2015, dtype: int32"
     },
     "execution_count": 21,
     "metadata": {},
     "output_type": "execute_result"
    }
   ],
   "source": [
    "def clear_cameo_deu_2015_data(data):\n",
    "    replace_dict = {'A': '1', 'B': '2', 'C': '3', 'D': '4', 'E': '5', 'F': '6',\n",
    "                    'G': '7', 'H': '8', 'XX': '-1'}\n",
    "    data.loc[:, 'CAMEO_DEU_2015'].replace(replace_dict, regex=True,\n",
    "                                          inplace=True)\n",
    "    data.loc[:, 'CAMEO_DEU_2015'] = data.loc[:, 'CAMEO_DEU_2015'].astype(int)\n",
    "    return data\n",
    "\n",
    "\n",
    "azdias = clear_cameo_deu_2015_data(azdias)\n",
    "azdias.loc[:, 'CAMEO_DEU_2015'].head(10)"
   ],
   "metadata": {
    "collapsed": false,
    "pycharm": {
     "name": "#%%\n"
    }
   }
  },
  {
   "cell_type": "markdown",
   "source": [
    "###### CAMEO_DEUG_2015\n",
    "This Feature looks like most of the data is simply not an integer but rather mixed integers and float. In addition an X can be found in the data, which has to be replace by our standard value for unknown entries, `-1`."
   ],
   "metadata": {
    "collapsed": false,
    "pycharm": {
     "name": "#%% md\n"
    }
   }
  },
  {
   "cell_type": "code",
   "execution_count": 22,
   "outputs": [
    {
     "data": {
      "text/plain": "array([8.0, 4.0, 2.0, 6.0, 1.0, 9.0, 7.0, 5.0, 3.0, -1, '3', '7', '2',\n       '4', '8', '9', '6', '5', '1', 'X'], dtype=object)"
     },
     "execution_count": 22,
     "metadata": {},
     "output_type": "execute_result"
    }
   ],
   "source": [
    "azdias.loc[:, non_num_cols[1]].unique()"
   ],
   "metadata": {
    "collapsed": false,
    "pycharm": {
     "name": "#%%\n"
    }
   }
  },
  {
   "cell_type": "code",
   "execution_count": 23,
   "outputs": [
    {
     "name": "stderr",
     "output_type": "stream",
     "text": [
      "C:\\Users\\K35400\\AppData\\Local\\Temp\\ipykernel_31900\\2393891728.py:5: DeprecationWarning: In a future version, `df.iloc[:, i] = newvals` will attempt to set the values inplace instead of always setting a new array. To retain the old behavior, use either `df[df.columns[i]] = newvals` or, if columns are non-unique, `df.isetitem(i, newvals)`\n",
      "  data.loc[:, 'CAMEO_DEUG_2015'] = data.loc[:, 'CAMEO_DEUG_2015'].astype(int)\n"
     ]
    },
    {
     "data": {
      "text/plain": "array([ 8,  4,  2,  6,  1,  9,  7,  5,  3, -1])"
     },
     "execution_count": 23,
     "metadata": {},
     "output_type": "execute_result"
    }
   ],
   "source": [
    "def clear_cameo_deug_2015_data(data):\n",
    "    replace_dict = {'X': '-1'}\n",
    "    data.loc[:, 'CAMEO_DEUG_2015'].replace(replace_dict, regex=True,\n",
    "                                           inplace=True)\n",
    "    data.loc[:, 'CAMEO_DEUG_2015'] = data.loc[:, 'CAMEO_DEUG_2015'].astype(int)\n",
    "\n",
    "    return data\n",
    "\n",
    "\n",
    "azdias = clear_cameo_deug_2015_data(azdias)\n",
    "azdias.loc[:, non_num_cols[1]].unique()"
   ],
   "metadata": {
    "collapsed": false,
    "pycharm": {
     "name": "#%%\n"
    }
   }
  },
  {
   "cell_type": "markdown",
   "source": [
    "###### CAMEO_INTL_2015\n",
    "This feature seems to have the same issue as `CAMEO_DEUG_2015`, hence we are going to apply the same methodology here"
   ],
   "metadata": {
    "collapsed": false,
    "pycharm": {
     "name": "#%% md\n"
    }
   }
  },
  {
   "cell_type": "code",
   "execution_count": 24,
   "outputs": [
    {
     "data": {
      "text/plain": "array([51.0, 24.0, 12.0, 43.0, 54.0, 22.0, 14.0, 13.0, 15.0, 41.0, 34.0,\n       55.0, 33.0, 25.0, -1, 23.0, 31.0, 52.0, 35.0, 45.0, 44.0, 32.0,\n       '24', '41', '12', '54', '51', '44', '35', '23', '25', '14', '34',\n       '52', '55', '31', '32', '22', '15', '13', '43', '45', '33', 'XX'],\n      dtype=object)"
     },
     "execution_count": 24,
     "metadata": {},
     "output_type": "execute_result"
    }
   ],
   "source": [
    "azdias.loc[:, non_num_cols[2]].unique()"
   ],
   "metadata": {
    "collapsed": false,
    "pycharm": {
     "name": "#%%\n"
    }
   }
  },
  {
   "cell_type": "code",
   "execution_count": 25,
   "outputs": [
    {
     "name": "stderr",
     "output_type": "stream",
     "text": [
      "C:\\Users\\K35400\\AppData\\Local\\Temp\\ipykernel_31900\\3076981586.py:5: DeprecationWarning: In a future version, `df.iloc[:, i] = newvals` will attempt to set the values inplace instead of always setting a new array. To retain the old behavior, use either `df[df.columns[i]] = newvals` or, if columns are non-unique, `df.isetitem(i, newvals)`\n",
      "  data.loc[:, 'CAMEO_INTL_2015'] = data.loc[:, 'CAMEO_INTL_2015'].astype(int)\n"
     ]
    },
    {
     "data": {
      "text/plain": "array([51, 24, 12, 43, 54, 22, 14, 13, 15, 41, 34, 55, 33, 25, -1, 23, 31,\n       52, 35, 45, 44, 32])"
     },
     "execution_count": 25,
     "metadata": {},
     "output_type": "execute_result"
    }
   ],
   "source": [
    "def clear_cameo_intl_2015_data(data):\n",
    "    replace_dict = {'XX': '-1'}\n",
    "    data.loc[:, 'CAMEO_INTL_2015'].replace(replace_dict, regex=True,\n",
    "                                           inplace=True)\n",
    "    data.loc[:, 'CAMEO_INTL_2015'] = data.loc[:, 'CAMEO_INTL_2015'].astype(int)\n",
    "    return data\n",
    "\n",
    "\n",
    "azdias = clear_cameo_intl_2015_data(azdias)\n",
    "azdias.loc[:, non_num_cols[2]].unique()"
   ],
   "metadata": {
    "collapsed": false,
    "pycharm": {
     "name": "#%%\n"
    }
   }
  },
  {
   "cell_type": "markdown",
   "source": [
    "###### D19_LETZTER_KAUF_BRANCHE\n",
    "Here we can see that this data is still categorical and not transformed to numerical code, like the other features, therefore, we are going to do that here."
   ],
   "metadata": {
    "collapsed": false,
    "pycharm": {
     "name": "#%% md\n"
    }
   }
  },
  {
   "cell_type": "code",
   "execution_count": 26,
   "outputs": [
    {
     "data": {
      "text/plain": "array([-1, 'D19_UNBEKANNT', 'D19_SCHUHE', 'D19_ENERGIE', 'D19_KOSMETIK',\n       'D19_SONSTIGE', 'D19_BANKEN_GROSS', 'D19_VOLLSORTIMENT',\n       'D19_DROGERIEARTIKEL', 'D19_HANDWERK', 'D19_BUCH_CD',\n       'D19_VERSICHERUNGEN', 'D19_VERSAND_REST', 'D19_TELKO_REST',\n       'D19_BANKEN_DIREKT', 'D19_BANKEN_REST', 'D19_LEBENSMITTEL',\n       'D19_HAUS_DEKO', 'D19_BEKLEIDUNG_REST', 'D19_SAMMELARTIKEL',\n       'D19_TELKO_MOBILE', 'D19_REISEN', 'D19_BEKLEIDUNG_GEH',\n       'D19_TECHNIK', 'D19_NAHRUNGSERGAENZUNG', 'D19_DIGIT_SERV',\n       'D19_LOTTO', 'D19_RATGEBER', 'D19_TIERARTIKEL',\n       'D19_KINDERARTIKEL', 'D19_BIO_OEKO', 'D19_FREIZEIT',\n       'D19_WEIN_FEINKOST', 'D19_GARTEN', 'D19_BILDUNG',\n       'D19_BANKEN_LOKAL'], dtype=object)"
     },
     "execution_count": 26,
     "metadata": {},
     "output_type": "execute_result"
    }
   ],
   "source": [
    "azdias.loc[:, non_num_cols[3]].unique()"
   ],
   "metadata": {
    "collapsed": false,
    "pycharm": {
     "name": "#%%\n"
    }
   }
  },
  {
   "cell_type": "code",
   "execution_count": 27,
   "outputs": [
    {
     "name": "stderr",
     "output_type": "stream",
     "text": [
      "C:\\Users\\K35400\\AppData\\Local\\Temp\\ipykernel_31900\\3276071408.py:2: DeprecationWarning: In a future version, `df.iloc[:, i] = newvals` will attempt to set the values inplace instead of always setting a new array. To retain the old behavior, use either `df[df.columns[i]] = newvals` or, if columns are non-unique, `df.isetitem(i, newvals)`\n",
      "  data.loc[:, 'D19_LETZTER_KAUF_BRANCHE'] = pd.Categorical(\n"
     ]
    },
    {
     "data": {
      "text/plain": "array([ 0, 31, 25, 12, 18, 26,  2, 34, 11, 15,  9, 33, 32, 29,  1,  4, 19,\n       16,  6, 24, 28, 23,  5, 27, 21, 10, 20, 22, 30, 17,  8, 13, 35, 14,\n        7,  3], dtype=int8)"
     },
     "execution_count": 27,
     "metadata": {},
     "output_type": "execute_result"
    }
   ],
   "source": [
    "def clear_d19_letzter_kauf_branche(data):\n",
    "    data.loc[:, 'D19_LETZTER_KAUF_BRANCHE'] = pd.Categorical(\n",
    "            data.loc[:, 'D19_LETZTER_KAUF_BRANCHE']).codes\n",
    "    return data\n",
    "\n",
    "\n",
    "azdias = clear_d19_letzter_kauf_branche(azdias)\n",
    "azdias.loc[:, non_num_cols[3]].unique()"
   ],
   "metadata": {
    "collapsed": false,
    "pycharm": {
     "name": "#%%\n"
    }
   }
  },
  {
   "cell_type": "markdown",
   "source": [
    "###### EINGEFUEGT_AM\n",
    "This feature is just a date, which should be transformed in to a propper datetime object. But since we will not use this feature, we will drop that column."
   ],
   "metadata": {
    "collapsed": false,
    "pycharm": {
     "name": "#%% md\n"
    }
   }
  },
  {
   "cell_type": "code",
   "execution_count": 28,
   "outputs": [
    {
     "data": {
      "text/plain": "array(['1992-02-10 00:00:00', '1992-02-12 00:00:00',\n       '1997-04-21 00:00:00', ..., '1994-10-24 00:00:00',\n       '2000-03-09 00:00:00', '2005-03-19 00:00:00'], dtype=object)"
     },
     "execution_count": 28,
     "metadata": {},
     "output_type": "execute_result"
    }
   ],
   "source": [
    "azdias.loc[:, non_num_cols[4]].unique()"
   ],
   "metadata": {
    "collapsed": false,
    "pycharm": {
     "name": "#%%\n"
    }
   }
  },
  {
   "cell_type": "code",
   "execution_count": 29,
   "outputs": [
    {
     "data": {
      "text/plain": "0         1992-02-10 00:00:00\n1         1992-02-12 00:00:00\n2         1997-04-21 00:00:00\n3         1992-02-12 00:00:00\n4         1992-02-12 00:00:00\n                 ...         \n751326    1992-02-10 00:00:00\n751327    1992-02-10 00:00:00\n751328    1992-02-10 00:00:00\n751329    1992-02-12 00:00:00\n751330    1992-02-10 00:00:00\nName: EINGEFUEGT_AM, Length: 751331, dtype: object"
     },
     "execution_count": 29,
     "metadata": {},
     "output_type": "execute_result"
    }
   ],
   "source": [
    "azdias.loc[:, 'EINGEFUEGT_AM']"
   ],
   "metadata": {
    "collapsed": false,
    "pycharm": {
     "name": "#%%\n"
    }
   }
  },
  {
   "cell_type": "code",
   "execution_count": 30,
   "outputs": [
    {
     "data": {
      "text/plain": "           LNR  AGER_TYP  AKT_DAT_KL  ALTER_HH  ALTER_KIND1  ALTER_KIND2  \\\n0       910220        -1         9.0       0.0         -1.0         -1.0   \n1       910225        -1         9.0      17.0         -1.0         -1.0   \n2       910226         2         1.0      13.0         -1.0         -1.0   \n3       910241        -1         1.0      20.0         -1.0         -1.0   \n4       910244         3         1.0      10.0         -1.0         -1.0   \n...        ...       ...         ...       ...          ...          ...   \n751326  825761        -1         5.0      17.0         -1.0         -1.0   \n751327  825771        -1         9.0      16.0         -1.0         -1.0   \n751328  825772        -1         1.0      17.0         -1.0         -1.0   \n751329  825776        -1         9.0       0.0         17.0         -1.0   \n751330  825787        -1         1.0       0.0         -1.0         -1.0   \n\n        ALTER_KIND3  ALTER_KIND4  ALTERSKATEGORIE_FEIN  ANZ_HAUSHALTE_AKTIV  \\\n0              -1.0         -1.0                  21.0                 11.0   \n1              -1.0         -1.0                  17.0                 10.0   \n2              -1.0         -1.0                  13.0                  1.0   \n3              -1.0         -1.0                  14.0                  3.0   \n4              -1.0         -1.0                  10.0                  5.0   \n...             ...          ...                   ...                  ...   \n751326         -1.0         -1.0                  17.0                 15.0   \n751327         -1.0         -1.0                  16.0                 11.0   \n751328         -1.0         -1.0                  17.0                  3.0   \n751329         -1.0         -1.0                  20.0                  7.0   \n751330         -1.0         -1.0                  -1.0                 10.0   \n\n        ...  VHN  VK_DHT4A  VK_DISTANZ  VK_ZG11  W_KEIT_KIND_HH  \\\n0       ...  4.0       8.0        11.0     10.0             3.0   \n1       ...  2.0       9.0         9.0      6.0             3.0   \n2       ...  0.0       7.0        10.0     11.0            -1.0   \n3       ...  2.0       3.0         5.0      4.0             2.0   \n4       ...  2.0      10.0         7.0      4.0             6.0   \n...     ...  ...       ...         ...      ...             ...   \n751326  ...  2.0       4.0         7.0      8.0             3.0   \n751327  ...  4.0       6.0         9.0      6.0             6.0   \n751328  ...  2.0       7.0        10.0      8.0            -1.0   \n751329  ...  4.0       9.0         8.0      5.0             1.0   \n751330  ...  3.0       8.0        10.0      7.0             6.0   \n\n        WOHNDAUER_2008  WOHNLAGE  ZABEOTYP  ANREDE_KZ  ALTERSKATEGORIE_GROB  \n0                  9.0       4.0         5          2                     1  \n1                  9.0       2.0         5          2                     3  \n2                  9.0       7.0         3          2                     4  \n3                  9.0       3.0         4          1                     3  \n4                  9.0       7.0         4          2                     1  \n...                ...       ...       ...        ...                   ...  \n751326             4.0       3.0         4          2                     3  \n751327             9.0       5.0         6          1                     2  \n751328             5.0       7.0         4          2                     2  \n751329             9.0       5.0         5          1                     1  \n751330             3.0       4.0         3          1                     4  \n\n[751331 rows x 365 columns]",
      "text/html": "<div>\n<style scoped>\n    .dataframe tbody tr th:only-of-type {\n        vertical-align: middle;\n    }\n\n    .dataframe tbody tr th {\n        vertical-align: top;\n    }\n\n    .dataframe thead th {\n        text-align: right;\n    }\n</style>\n<table border=\"1\" class=\"dataframe\">\n  <thead>\n    <tr style=\"text-align: right;\">\n      <th></th>\n      <th>LNR</th>\n      <th>AGER_TYP</th>\n      <th>AKT_DAT_KL</th>\n      <th>ALTER_HH</th>\n      <th>ALTER_KIND1</th>\n      <th>ALTER_KIND2</th>\n      <th>ALTER_KIND3</th>\n      <th>ALTER_KIND4</th>\n      <th>ALTERSKATEGORIE_FEIN</th>\n      <th>ANZ_HAUSHALTE_AKTIV</th>\n      <th>...</th>\n      <th>VHN</th>\n      <th>VK_DHT4A</th>\n      <th>VK_DISTANZ</th>\n      <th>VK_ZG11</th>\n      <th>W_KEIT_KIND_HH</th>\n      <th>WOHNDAUER_2008</th>\n      <th>WOHNLAGE</th>\n      <th>ZABEOTYP</th>\n      <th>ANREDE_KZ</th>\n      <th>ALTERSKATEGORIE_GROB</th>\n    </tr>\n  </thead>\n  <tbody>\n    <tr>\n      <th>0</th>\n      <td>910220</td>\n      <td>-1</td>\n      <td>9.0</td>\n      <td>0.0</td>\n      <td>-1.0</td>\n      <td>-1.0</td>\n      <td>-1.0</td>\n      <td>-1.0</td>\n      <td>21.0</td>\n      <td>11.0</td>\n      <td>...</td>\n      <td>4.0</td>\n      <td>8.0</td>\n      <td>11.0</td>\n      <td>10.0</td>\n      <td>3.0</td>\n      <td>9.0</td>\n      <td>4.0</td>\n      <td>5</td>\n      <td>2</td>\n      <td>1</td>\n    </tr>\n    <tr>\n      <th>1</th>\n      <td>910225</td>\n      <td>-1</td>\n      <td>9.0</td>\n      <td>17.0</td>\n      <td>-1.0</td>\n      <td>-1.0</td>\n      <td>-1.0</td>\n      <td>-1.0</td>\n      <td>17.0</td>\n      <td>10.0</td>\n      <td>...</td>\n      <td>2.0</td>\n      <td>9.0</td>\n      <td>9.0</td>\n      <td>6.0</td>\n      <td>3.0</td>\n      <td>9.0</td>\n      <td>2.0</td>\n      <td>5</td>\n      <td>2</td>\n      <td>3</td>\n    </tr>\n    <tr>\n      <th>2</th>\n      <td>910226</td>\n      <td>2</td>\n      <td>1.0</td>\n      <td>13.0</td>\n      <td>-1.0</td>\n      <td>-1.0</td>\n      <td>-1.0</td>\n      <td>-1.0</td>\n      <td>13.0</td>\n      <td>1.0</td>\n      <td>...</td>\n      <td>0.0</td>\n      <td>7.0</td>\n      <td>10.0</td>\n      <td>11.0</td>\n      <td>-1.0</td>\n      <td>9.0</td>\n      <td>7.0</td>\n      <td>3</td>\n      <td>2</td>\n      <td>4</td>\n    </tr>\n    <tr>\n      <th>3</th>\n      <td>910241</td>\n      <td>-1</td>\n      <td>1.0</td>\n      <td>20.0</td>\n      <td>-1.0</td>\n      <td>-1.0</td>\n      <td>-1.0</td>\n      <td>-1.0</td>\n      <td>14.0</td>\n      <td>3.0</td>\n      <td>...</td>\n      <td>2.0</td>\n      <td>3.0</td>\n      <td>5.0</td>\n      <td>4.0</td>\n      <td>2.0</td>\n      <td>9.0</td>\n      <td>3.0</td>\n      <td>4</td>\n      <td>1</td>\n      <td>3</td>\n    </tr>\n    <tr>\n      <th>4</th>\n      <td>910244</td>\n      <td>3</td>\n      <td>1.0</td>\n      <td>10.0</td>\n      <td>-1.0</td>\n      <td>-1.0</td>\n      <td>-1.0</td>\n      <td>-1.0</td>\n      <td>10.0</td>\n      <td>5.0</td>\n      <td>...</td>\n      <td>2.0</td>\n      <td>10.0</td>\n      <td>7.0</td>\n      <td>4.0</td>\n      <td>6.0</td>\n      <td>9.0</td>\n      <td>7.0</td>\n      <td>4</td>\n      <td>2</td>\n      <td>1</td>\n    </tr>\n    <tr>\n      <th>...</th>\n      <td>...</td>\n      <td>...</td>\n      <td>...</td>\n      <td>...</td>\n      <td>...</td>\n      <td>...</td>\n      <td>...</td>\n      <td>...</td>\n      <td>...</td>\n      <td>...</td>\n      <td>...</td>\n      <td>...</td>\n      <td>...</td>\n      <td>...</td>\n      <td>...</td>\n      <td>...</td>\n      <td>...</td>\n      <td>...</td>\n      <td>...</td>\n      <td>...</td>\n      <td>...</td>\n    </tr>\n    <tr>\n      <th>751326</th>\n      <td>825761</td>\n      <td>-1</td>\n      <td>5.0</td>\n      <td>17.0</td>\n      <td>-1.0</td>\n      <td>-1.0</td>\n      <td>-1.0</td>\n      <td>-1.0</td>\n      <td>17.0</td>\n      <td>15.0</td>\n      <td>...</td>\n      <td>2.0</td>\n      <td>4.0</td>\n      <td>7.0</td>\n      <td>8.0</td>\n      <td>3.0</td>\n      <td>4.0</td>\n      <td>3.0</td>\n      <td>4</td>\n      <td>2</td>\n      <td>3</td>\n    </tr>\n    <tr>\n      <th>751327</th>\n      <td>825771</td>\n      <td>-1</td>\n      <td>9.0</td>\n      <td>16.0</td>\n      <td>-1.0</td>\n      <td>-1.0</td>\n      <td>-1.0</td>\n      <td>-1.0</td>\n      <td>16.0</td>\n      <td>11.0</td>\n      <td>...</td>\n      <td>4.0</td>\n      <td>6.0</td>\n      <td>9.0</td>\n      <td>6.0</td>\n      <td>6.0</td>\n      <td>9.0</td>\n      <td>5.0</td>\n      <td>6</td>\n      <td>1</td>\n      <td>2</td>\n    </tr>\n    <tr>\n      <th>751328</th>\n      <td>825772</td>\n      <td>-1</td>\n      <td>1.0</td>\n      <td>17.0</td>\n      <td>-1.0</td>\n      <td>-1.0</td>\n      <td>-1.0</td>\n      <td>-1.0</td>\n      <td>17.0</td>\n      <td>3.0</td>\n      <td>...</td>\n      <td>2.0</td>\n      <td>7.0</td>\n      <td>10.0</td>\n      <td>8.0</td>\n      <td>-1.0</td>\n      <td>5.0</td>\n      <td>7.0</td>\n      <td>4</td>\n      <td>2</td>\n      <td>2</td>\n    </tr>\n    <tr>\n      <th>751329</th>\n      <td>825776</td>\n      <td>-1</td>\n      <td>9.0</td>\n      <td>0.0</td>\n      <td>17.0</td>\n      <td>-1.0</td>\n      <td>-1.0</td>\n      <td>-1.0</td>\n      <td>20.0</td>\n      <td>7.0</td>\n      <td>...</td>\n      <td>4.0</td>\n      <td>9.0</td>\n      <td>8.0</td>\n      <td>5.0</td>\n      <td>1.0</td>\n      <td>9.0</td>\n      <td>5.0</td>\n      <td>5</td>\n      <td>1</td>\n      <td>1</td>\n    </tr>\n    <tr>\n      <th>751330</th>\n      <td>825787</td>\n      <td>-1</td>\n      <td>1.0</td>\n      <td>0.0</td>\n      <td>-1.0</td>\n      <td>-1.0</td>\n      <td>-1.0</td>\n      <td>-1.0</td>\n      <td>-1.0</td>\n      <td>10.0</td>\n      <td>...</td>\n      <td>3.0</td>\n      <td>8.0</td>\n      <td>10.0</td>\n      <td>7.0</td>\n      <td>6.0</td>\n      <td>3.0</td>\n      <td>4.0</td>\n      <td>3</td>\n      <td>1</td>\n      <td>4</td>\n    </tr>\n  </tbody>\n</table>\n<p>751331 rows × 365 columns</p>\n</div>"
     },
     "execution_count": 30,
     "metadata": {},
     "output_type": "execute_result"
    }
   ],
   "source": [
    "azdias.drop('EINGEFUEGT_AM', axis=1)"
   ],
   "metadata": {
    "collapsed": false,
    "pycharm": {
     "name": "#%%\n"
    }
   }
  },
  {
   "cell_type": "markdown",
   "source": [
    "###### OST_WEST_KZ\n",
    "Here we have the same issue as with `D19_LETZTER_KAUF_BRANCHE`, therefore, we are going to clear them the same way."
   ],
   "metadata": {
    "collapsed": false,
    "pycharm": {
     "name": "#%% md\n"
    }
   }
  },
  {
   "cell_type": "code",
   "execution_count": 31,
   "outputs": [
    {
     "data": {
      "text/plain": "array(['W', 'O'], dtype=object)"
     },
     "execution_count": 31,
     "metadata": {},
     "output_type": "execute_result"
    }
   ],
   "source": [
    "azdias.loc[:, non_num_cols[5]].unique()"
   ],
   "metadata": {
    "collapsed": false,
    "pycharm": {
     "name": "#%%\n"
    }
   }
  },
  {
   "cell_type": "code",
   "execution_count": 32,
   "outputs": [
    {
     "name": "stderr",
     "output_type": "stream",
     "text": [
      "C:\\Users\\K35400\\AppData\\Local\\Temp\\ipykernel_31900\\884617078.py:2: DeprecationWarning: In a future version, `df.iloc[:, i] = newvals` will attempt to set the values inplace instead of always setting a new array. To retain the old behavior, use either `df[df.columns[i]] = newvals` or, if columns are non-unique, `df.isetitem(i, newvals)`\n",
      "  data.loc[:, 'OST_WEST_KZ'] = pd.Categorical(\n"
     ]
    },
    {
     "data": {
      "text/plain": "array([1, 0], dtype=int8)"
     },
     "execution_count": 32,
     "metadata": {},
     "output_type": "execute_result"
    }
   ],
   "source": [
    "def clear_ost_west_kz(data):\n",
    "    data.loc[:, 'OST_WEST_KZ'] = pd.Categorical(\n",
    "            data.loc[:, 'OST_WEST_KZ']).codes\n",
    "    return data\n",
    "\n",
    "\n",
    "azdias = clear_ost_west_kz(azdias)\n",
    "azdias.loc[:, non_num_cols[5]].unique()"
   ],
   "metadata": {
    "collapsed": false,
    "pycharm": {
     "name": "#%%\n"
    }
   }
  },
  {
   "cell_type": "markdown",
   "source": [
    "### Summary\n",
    "We will summarize the cleaning progress in an overall cleaning function and we are going to test that on the customer dataset."
   ],
   "metadata": {
    "collapsed": false,
    "pycharm": {
     "name": "#%% md\n"
    }
   }
  },
  {
   "cell_type": "code",
   "execution_count": 33,
   "outputs": [],
   "source": [
    "common_columns = azdias.columns\n",
    "\n",
    "def clear_data(data):\n",
    "    temp_data = data.loc[:, common_columns]\n",
    "    temp_data = handle_nans(temp_data)\n",
    "    temp_data = clear_categorical_data(temp_data)\n",
    "\n",
    "    return temp_data\n",
    "\n",
    "\n",
    "def clear_categorical_data(data):\n",
    "    data = clear_cameo_deu_2015_data(data)\n",
    "    data = clear_cameo_deug_2015_data(data)\n",
    "    data = clear_cameo_intl_2015_data(data)\n",
    "    data = clear_d19_letzter_kauf_branche(data)\n",
    "    data = clear_ost_west_kz(data)\n",
    "    return data\n",
    "\n",
    "\n",
    "def handle_nans(data):\n",
    "    data = replace_unknowns(data)\n",
    "    data = drop_useless_rows(data)\n",
    "    data = replace_nans(data)\n",
    "    return data\n",
    "\n",
    "\n",
    "def test_data_types(data):\n",
    "    return (data.dtypes != 'object').any()\n"
   ],
   "metadata": {
    "collapsed": false,
    "pycharm": {
     "name": "#%%\n"
    }
   }
  },
  {
   "cell_type": "code",
   "execution_count": 34,
   "outputs": [
    {
     "name": "stderr",
     "output_type": "stream",
     "text": [
      "C:\\Users\\K35400\\AppData\\Local\\Temp\\ipykernel_31900\\3161604245.py:6: DeprecationWarning: In a future version, `df.iloc[:, i] = newvals` will attempt to set the values inplace instead of always setting a new array. To retain the old behavior, use either `df[df.columns[i]] = newvals` or, if columns are non-unique, `df.isetitem(i, newvals)`\n",
      "  data.loc[:, 'CAMEO_DEU_2015'] = data.loc[:, 'CAMEO_DEU_2015'].astype(int)\n",
      "C:\\Users\\K35400\\AppData\\Local\\Temp\\ipykernel_31900\\2393891728.py:5: DeprecationWarning: In a future version, `df.iloc[:, i] = newvals` will attempt to set the values inplace instead of always setting a new array. To retain the old behavior, use either `df[df.columns[i]] = newvals` or, if columns are non-unique, `df.isetitem(i, newvals)`\n",
      "  data.loc[:, 'CAMEO_DEUG_2015'] = data.loc[:, 'CAMEO_DEUG_2015'].astype(int)\n",
      "C:\\Users\\K35400\\AppData\\Local\\Temp\\ipykernel_31900\\3276071408.py:2: DeprecationWarning: In a future version, `df.iloc[:, i] = newvals` will attempt to set the values inplace instead of always setting a new array. To retain the old behavior, use either `df[df.columns[i]] = newvals` or, if columns are non-unique, `df.isetitem(i, newvals)`\n",
      "  data.loc[:, 'D19_LETZTER_KAUF_BRANCHE'] = pd.Categorical(\n",
      "C:\\Users\\K35400\\AppData\\Local\\Temp\\ipykernel_31900\\884617078.py:2: DeprecationWarning: In a future version, `df.iloc[:, i] = newvals` will attempt to set the values inplace instead of always setting a new array. To retain the old behavior, use either `df[df.columns[i]] = newvals` or, if columns are non-unique, `df.isetitem(i, newvals)`\n",
      "  data.loc[:, 'OST_WEST_KZ'] = pd.Categorical(\n"
     ]
    }
   ],
   "source": [
    "customers = clear_data(customers)"
   ],
   "metadata": {
    "collapsed": false,
    "pycharm": {
     "name": "#%%\n"
    }
   }
  },
  {
   "cell_type": "code",
   "execution_count": 35,
   "outputs": [
    {
     "data": {
      "text/plain": "      LNR  AGER_TYP  AKT_DAT_KL  ALTER_HH  ALTER_KIND1  ALTER_KIND2  \\\n0    9626         2         1.0      10.0         -1.0         -1.0   \n1  143872        -1         1.0       6.0         -1.0         -1.0   \n2  143873         1         1.0       8.0         -1.0         -1.0   \n3  143874        -1         1.0      20.0         -1.0         -1.0   \n4  143888         1         1.0      11.0         -1.0         -1.0   \n\n   ALTER_KIND3  ALTER_KIND4  ALTERSKATEGORIE_FEIN  ANZ_HAUSHALTE_AKTIV  ...  \\\n0         -1.0         -1.0                  10.0                  1.0  ...   \n1         -1.0         -1.0                   0.0                  1.0  ...   \n2         -1.0         -1.0                   8.0                  0.0  ...   \n3         -1.0         -1.0                  14.0                  7.0  ...   \n4         -1.0         -1.0                  10.0                  1.0  ...   \n\n   VHN  VK_DHT4A  VK_DISTANZ  VK_ZG11  W_KEIT_KIND_HH  WOHNDAUER_2008  \\\n0  3.0       5.0         3.0      2.0             6.0             9.0   \n1  4.0      10.0        13.0     11.0             6.0             9.0   \n2  2.0       6.0         4.0      2.0            -1.0             9.0   \n3  4.0       3.0         5.0      4.0             2.0             9.0   \n4  4.0       1.0         2.0      1.0             6.0             9.0   \n\n   WOHNLAGE  ZABEOTYP  ANREDE_KZ  ALTERSKATEGORIE_GROB  \n0       7.0         3          1                     4  \n1       2.0         3          2                     4  \n2       7.0         1          1                     4  \n3       3.0         1          1                     3  \n4       1.0         2          1                     3  \n\n[5 rows x 366 columns]",
      "text/html": "<div>\n<style scoped>\n    .dataframe tbody tr th:only-of-type {\n        vertical-align: middle;\n    }\n\n    .dataframe tbody tr th {\n        vertical-align: top;\n    }\n\n    .dataframe thead th {\n        text-align: right;\n    }\n</style>\n<table border=\"1\" class=\"dataframe\">\n  <thead>\n    <tr style=\"text-align: right;\">\n      <th></th>\n      <th>LNR</th>\n      <th>AGER_TYP</th>\n      <th>AKT_DAT_KL</th>\n      <th>ALTER_HH</th>\n      <th>ALTER_KIND1</th>\n      <th>ALTER_KIND2</th>\n      <th>ALTER_KIND3</th>\n      <th>ALTER_KIND4</th>\n      <th>ALTERSKATEGORIE_FEIN</th>\n      <th>ANZ_HAUSHALTE_AKTIV</th>\n      <th>...</th>\n      <th>VHN</th>\n      <th>VK_DHT4A</th>\n      <th>VK_DISTANZ</th>\n      <th>VK_ZG11</th>\n      <th>W_KEIT_KIND_HH</th>\n      <th>WOHNDAUER_2008</th>\n      <th>WOHNLAGE</th>\n      <th>ZABEOTYP</th>\n      <th>ANREDE_KZ</th>\n      <th>ALTERSKATEGORIE_GROB</th>\n    </tr>\n  </thead>\n  <tbody>\n    <tr>\n      <th>0</th>\n      <td>9626</td>\n      <td>2</td>\n      <td>1.0</td>\n      <td>10.0</td>\n      <td>-1.0</td>\n      <td>-1.0</td>\n      <td>-1.0</td>\n      <td>-1.0</td>\n      <td>10.0</td>\n      <td>1.0</td>\n      <td>...</td>\n      <td>3.0</td>\n      <td>5.0</td>\n      <td>3.0</td>\n      <td>2.0</td>\n      <td>6.0</td>\n      <td>9.0</td>\n      <td>7.0</td>\n      <td>3</td>\n      <td>1</td>\n      <td>4</td>\n    </tr>\n    <tr>\n      <th>1</th>\n      <td>143872</td>\n      <td>-1</td>\n      <td>1.0</td>\n      <td>6.0</td>\n      <td>-1.0</td>\n      <td>-1.0</td>\n      <td>-1.0</td>\n      <td>-1.0</td>\n      <td>0.0</td>\n      <td>1.0</td>\n      <td>...</td>\n      <td>4.0</td>\n      <td>10.0</td>\n      <td>13.0</td>\n      <td>11.0</td>\n      <td>6.0</td>\n      <td>9.0</td>\n      <td>2.0</td>\n      <td>3</td>\n      <td>2</td>\n      <td>4</td>\n    </tr>\n    <tr>\n      <th>2</th>\n      <td>143873</td>\n      <td>1</td>\n      <td>1.0</td>\n      <td>8.0</td>\n      <td>-1.0</td>\n      <td>-1.0</td>\n      <td>-1.0</td>\n      <td>-1.0</td>\n      <td>8.0</td>\n      <td>0.0</td>\n      <td>...</td>\n      <td>2.0</td>\n      <td>6.0</td>\n      <td>4.0</td>\n      <td>2.0</td>\n      <td>-1.0</td>\n      <td>9.0</td>\n      <td>7.0</td>\n      <td>1</td>\n      <td>1</td>\n      <td>4</td>\n    </tr>\n    <tr>\n      <th>3</th>\n      <td>143874</td>\n      <td>-1</td>\n      <td>1.0</td>\n      <td>20.0</td>\n      <td>-1.0</td>\n      <td>-1.0</td>\n      <td>-1.0</td>\n      <td>-1.0</td>\n      <td>14.0</td>\n      <td>7.0</td>\n      <td>...</td>\n      <td>4.0</td>\n      <td>3.0</td>\n      <td>5.0</td>\n      <td>4.0</td>\n      <td>2.0</td>\n      <td>9.0</td>\n      <td>3.0</td>\n      <td>1</td>\n      <td>1</td>\n      <td>3</td>\n    </tr>\n    <tr>\n      <th>4</th>\n      <td>143888</td>\n      <td>1</td>\n      <td>1.0</td>\n      <td>11.0</td>\n      <td>-1.0</td>\n      <td>-1.0</td>\n      <td>-1.0</td>\n      <td>-1.0</td>\n      <td>10.0</td>\n      <td>1.0</td>\n      <td>...</td>\n      <td>4.0</td>\n      <td>1.0</td>\n      <td>2.0</td>\n      <td>1.0</td>\n      <td>6.0</td>\n      <td>9.0</td>\n      <td>1.0</td>\n      <td>2</td>\n      <td>1</td>\n      <td>3</td>\n    </tr>\n  </tbody>\n</table>\n<p>5 rows × 366 columns</p>\n</div>"
     },
     "execution_count": 35,
     "metadata": {},
     "output_type": "execute_result"
    }
   ],
   "source": [
    "customers.head()"
   ],
   "metadata": {
    "collapsed": false,
    "pycharm": {
     "name": "#%%\n"
    }
   }
  },
  {
   "cell_type": "code",
   "execution_count": 36,
   "outputs": [
    {
     "data": {
      "text/plain": "True"
     },
     "execution_count": 36,
     "metadata": {},
     "output_type": "execute_result"
    }
   ],
   "source": [
    "test_data_types(customers)"
   ],
   "metadata": {
    "collapsed": false,
    "pycharm": {
     "name": "#%%\n"
    }
   }
  },
  {
   "cell_type": "code",
   "execution_count": 37,
   "outputs": [],
   "source": [
    "azdias = clear_data(azdias)"
   ],
   "metadata": {
    "collapsed": false,
    "pycharm": {
     "name": "#%%\n"
    }
   }
  },
  {
   "cell_type": "markdown",
   "metadata": {
    "pycharm": {
     "name": "#%% md\n"
    }
   },
   "source": [
    "## Part 1: Customer Segmentation Report\n",
    "\n",
    "The main bulk of your analysis will come in this part of the project. Here, you should use unsupervised learning techniques to describe the relationship between the demographics of the company's existing customers and the general population of Germany. By the end of this part, you should be able to describe parts of the general population that are more likely to be part of the mail-order company's main customer base, and which parts of the general population are less so."
   ]
  },
  {
   "cell_type": "markdown",
   "source": [
    "### Methodology\n",
    "Since we have a lot of features and do not know their relevance regarding possible customers, we will keep all features. Most machine learning algorithms have a very long training time, we wil reduce the features, while still keeping the relevant information in the data.\n",
    "To do so, we will reduce the dimension of the data using different dimension common dimension reduction algorithms like PCA, and ICA.\n",
    "\n",
    "After we reduced the dimension of the data, we are going to cluster the data using the population data (`azdias`) and then predict the cluster for the customer dataset to see, if we can see differences in the distribution of the clusters.\n",
    "Based on which dimension reduction algorithm helps"
   ],
   "metadata": {
    "collapsed": false,
    "pycharm": {
     "name": "#%% md\n"
    }
   }
  },
  {
   "cell_type": "code",
   "execution_count": 38,
   "outputs": [],
   "source": [
    "from sklearn.cluster import DBSCAN, KMeans\n",
    "from sklearn.decomposition import KernelPCA, FastICA, PCA\n",
    "from sklearn.metrics.pairwise import manhattan_distances\n",
    "\n",
    "cluster_pipeline_ica = Pipeline([\n",
    "                                ('scaler', StandardScaler()),\n",
    "                                ('dim_reduction', FastICA(n_components=120, max_iter=300)),\n",
    "                                ('cluster', KMeans(n_clusters=12, n_init=15, max_iter=200, verbose=1))\n",
    "                               ])\n",
    "\n",
    "cluster_pipeline_pca = Pipeline([\n",
    "                                ('scaler', StandardScaler()),\n",
    "                                ('dim_reduction', PCA(n_components=0.90)),\n",
    "                                ('cluster', KMeans(n_clusters=12, n_init=15, max_iter=200, verbose=1))\n",
    "                               ])\n",
    "\n",
    "\n",
    "def run_pipeline(pipeline, population, customers, plot_me=True):\n",
    "    print('fitting pipeline')\n",
    "    pipeline.fit(population)\n",
    "\n",
    "    print('predicting for customers')\n",
    "    index_cluster_customer = pipeline.predict(customers)\n",
    "    index_cluster_customer = pd.DataFrame(index_cluster_customer)\n",
    "\n",
    "    print('predicting for population')\n",
    "    # get cluster density for whole population\n",
    "    index_cluster_population = pipeline.predict(population)\n",
    "    index_cluster_population = pd.DataFrame(index_cluster_population)\n",
    "\n",
    "    if plot_me:\n",
    "        print('plotting...')\n",
    "        fig, ax = plt.subplots(1,2,sharex=True, figsize=(12, 4))\n",
    "\n",
    "        ax[0].hist(index_cluster_population, bins=12);\n",
    "        ax[0].set_title('Cluster distribution for whole population')\n",
    "\n",
    "        ax[1].hist(index_cluster_customer, bins=12);\n",
    "        ax[1].set_title('Cluster distribution for customers');\n",
    "\n",
    "    return pipeline\n",
    "\n",
    "import warnings\n",
    "warnings.filterwarnings('ignore')"
   ],
   "metadata": {
    "collapsed": false,
    "pycharm": {
     "name": "#%%\n"
    }
   }
  },
  {
   "cell_type": "markdown",
   "source": [
    "###### ICA + KMeans"
   ],
   "metadata": {
    "collapsed": false,
    "pycharm": {
     "name": "#%% md\n"
    }
   }
  },
  {
   "cell_type": "code",
   "execution_count": 39,
   "outputs": [],
   "source": [
    "from time import perf_counter"
   ],
   "metadata": {
    "collapsed": false,
    "pycharm": {
     "name": "#%%\n"
    }
   }
  },
  {
   "cell_type": "code",
   "execution_count": 40,
   "outputs": [
    {
     "data": {
      "text/plain": "      LNR  AGER_TYP  AKT_DAT_KL  ALTER_HH  ALTER_KIND1  ALTER_KIND2  \\\n0  910220        -1         9.0       0.0         -1.0         -1.0   \n1  910225        -1         9.0      17.0         -1.0         -1.0   \n2  910226         2         1.0      13.0         -1.0         -1.0   \n3  910241        -1         1.0      20.0         -1.0         -1.0   \n4  910244         3         1.0      10.0         -1.0         -1.0   \n\n   ALTER_KIND3  ALTER_KIND4  ALTERSKATEGORIE_FEIN  ANZ_HAUSHALTE_AKTIV  ...  \\\n0         -1.0         -1.0                  21.0                 11.0  ...   \n1         -1.0         -1.0                  17.0                 10.0  ...   \n2         -1.0         -1.0                  13.0                  1.0  ...   \n3         -1.0         -1.0                  14.0                  3.0  ...   \n4         -1.0         -1.0                  10.0                  5.0  ...   \n\n   VHN  VK_DHT4A  VK_DISTANZ  VK_ZG11  W_KEIT_KIND_HH  WOHNDAUER_2008  \\\n0  4.0       8.0        11.0     10.0             3.0             9.0   \n1  2.0       9.0         9.0      6.0             3.0             9.0   \n2  0.0       7.0        10.0     11.0            -1.0             9.0   \n3  2.0       3.0         5.0      4.0             2.0             9.0   \n4  2.0      10.0         7.0      4.0             6.0             9.0   \n\n   WOHNLAGE  ZABEOTYP  ANREDE_KZ  ALTERSKATEGORIE_GROB  \n0       4.0         5          2                     1  \n1       2.0         5          2                     3  \n2       7.0         3          2                     4  \n3       3.0         4          1                     3  \n4       7.0         4          2                     1  \n\n[5 rows x 366 columns]",
      "text/html": "<div>\n<style scoped>\n    .dataframe tbody tr th:only-of-type {\n        vertical-align: middle;\n    }\n\n    .dataframe tbody tr th {\n        vertical-align: top;\n    }\n\n    .dataframe thead th {\n        text-align: right;\n    }\n</style>\n<table border=\"1\" class=\"dataframe\">\n  <thead>\n    <tr style=\"text-align: right;\">\n      <th></th>\n      <th>LNR</th>\n      <th>AGER_TYP</th>\n      <th>AKT_DAT_KL</th>\n      <th>ALTER_HH</th>\n      <th>ALTER_KIND1</th>\n      <th>ALTER_KIND2</th>\n      <th>ALTER_KIND3</th>\n      <th>ALTER_KIND4</th>\n      <th>ALTERSKATEGORIE_FEIN</th>\n      <th>ANZ_HAUSHALTE_AKTIV</th>\n      <th>...</th>\n      <th>VHN</th>\n      <th>VK_DHT4A</th>\n      <th>VK_DISTANZ</th>\n      <th>VK_ZG11</th>\n      <th>W_KEIT_KIND_HH</th>\n      <th>WOHNDAUER_2008</th>\n      <th>WOHNLAGE</th>\n      <th>ZABEOTYP</th>\n      <th>ANREDE_KZ</th>\n      <th>ALTERSKATEGORIE_GROB</th>\n    </tr>\n  </thead>\n  <tbody>\n    <tr>\n      <th>0</th>\n      <td>910220</td>\n      <td>-1</td>\n      <td>9.0</td>\n      <td>0.0</td>\n      <td>-1.0</td>\n      <td>-1.0</td>\n      <td>-1.0</td>\n      <td>-1.0</td>\n      <td>21.0</td>\n      <td>11.0</td>\n      <td>...</td>\n      <td>4.0</td>\n      <td>8.0</td>\n      <td>11.0</td>\n      <td>10.0</td>\n      <td>3.0</td>\n      <td>9.0</td>\n      <td>4.0</td>\n      <td>5</td>\n      <td>2</td>\n      <td>1</td>\n    </tr>\n    <tr>\n      <th>1</th>\n      <td>910225</td>\n      <td>-1</td>\n      <td>9.0</td>\n      <td>17.0</td>\n      <td>-1.0</td>\n      <td>-1.0</td>\n      <td>-1.0</td>\n      <td>-1.0</td>\n      <td>17.0</td>\n      <td>10.0</td>\n      <td>...</td>\n      <td>2.0</td>\n      <td>9.0</td>\n      <td>9.0</td>\n      <td>6.0</td>\n      <td>3.0</td>\n      <td>9.0</td>\n      <td>2.0</td>\n      <td>5</td>\n      <td>2</td>\n      <td>3</td>\n    </tr>\n    <tr>\n      <th>2</th>\n      <td>910226</td>\n      <td>2</td>\n      <td>1.0</td>\n      <td>13.0</td>\n      <td>-1.0</td>\n      <td>-1.0</td>\n      <td>-1.0</td>\n      <td>-1.0</td>\n      <td>13.0</td>\n      <td>1.0</td>\n      <td>...</td>\n      <td>0.0</td>\n      <td>7.0</td>\n      <td>10.0</td>\n      <td>11.0</td>\n      <td>-1.0</td>\n      <td>9.0</td>\n      <td>7.0</td>\n      <td>3</td>\n      <td>2</td>\n      <td>4</td>\n    </tr>\n    <tr>\n      <th>3</th>\n      <td>910241</td>\n      <td>-1</td>\n      <td>1.0</td>\n      <td>20.0</td>\n      <td>-1.0</td>\n      <td>-1.0</td>\n      <td>-1.0</td>\n      <td>-1.0</td>\n      <td>14.0</td>\n      <td>3.0</td>\n      <td>...</td>\n      <td>2.0</td>\n      <td>3.0</td>\n      <td>5.0</td>\n      <td>4.0</td>\n      <td>2.0</td>\n      <td>9.0</td>\n      <td>3.0</td>\n      <td>4</td>\n      <td>1</td>\n      <td>3</td>\n    </tr>\n    <tr>\n      <th>4</th>\n      <td>910244</td>\n      <td>3</td>\n      <td>1.0</td>\n      <td>10.0</td>\n      <td>-1.0</td>\n      <td>-1.0</td>\n      <td>-1.0</td>\n      <td>-1.0</td>\n      <td>10.0</td>\n      <td>5.0</td>\n      <td>...</td>\n      <td>2.0</td>\n      <td>10.0</td>\n      <td>7.0</td>\n      <td>4.0</td>\n      <td>6.0</td>\n      <td>9.0</td>\n      <td>7.0</td>\n      <td>4</td>\n      <td>2</td>\n      <td>1</td>\n    </tr>\n  </tbody>\n</table>\n<p>5 rows × 366 columns</p>\n</div>"
     },
     "execution_count": 40,
     "metadata": {},
     "output_type": "execute_result"
    }
   ],
   "source": [
    "azdias.head()"
   ],
   "metadata": {
    "collapsed": false,
    "pycharm": {
     "name": "#%%\n"
    }
   }
  },
  {
   "cell_type": "code",
   "execution_count": 41,
   "outputs": [
    {
     "name": "stdout",
     "output_type": "stream",
     "text": [
      "fitting pipeline\n",
      "Initialization complete\n",
      "Iteration 0, inertia 167.8917865749176.\n",
      "Iteration 1, inertia 114.43600590185254.\n",
      "Iteration 2, inertia 113.9260915441007.\n",
      "Iteration 3, inertia 113.71842916722773.\n",
      "Iteration 4, inertia 113.47834389324278.\n",
      "Iteration 5, inertia 113.22765143200293.\n",
      "Iteration 6, inertia 113.0338027426229.\n",
      "Iteration 7, inertia 112.86486467637127.\n",
      "Iteration 8, inertia 112.7595214621773.\n",
      "Iteration 9, inertia 112.70348417215308.\n",
      "Iteration 10, inertia 112.67125612127045.\n",
      "Iteration 11, inertia 112.6492360084954.\n",
      "Iteration 12, inertia 112.6301769680031.\n",
      "Iteration 13, inertia 112.60883585340432.\n",
      "Iteration 14, inertia 112.58122997207136.\n",
      "Iteration 15, inertia 112.54576400314731.\n",
      "Iteration 16, inertia 112.50928838580731.\n",
      "Iteration 17, inertia 112.48332804950357.\n",
      "Iteration 18, inertia 112.46479445659.\n",
      "Iteration 19, inertia 112.45335673599695.\n",
      "Iteration 20, inertia 112.4485349725964.\n",
      "Iteration 21, inertia 112.44639248308418.\n",
      "Iteration 22, inertia 112.44546365168708.\n",
      "Iteration 23, inertia 112.44506068132169.\n",
      "Iteration 24, inertia 112.44483756024923.\n",
      "Iteration 25, inertia 112.44471209192997.\n",
      "Iteration 26, inertia 112.44463927976727.\n",
      "Iteration 27, inertia 112.44458803062092.\n",
      "Iteration 28, inertia 112.44455188262998.\n",
      "Iteration 29, inertia 112.44452147731216.\n",
      "Iteration 30, inertia 112.44449610468446.\n",
      "Iteration 31, inertia 112.44447414318599.\n",
      "Converged at iteration 31: center shift 6.55301383801162e-10 within tolerance 6.654821085135226e-10.\n",
      "Initialization complete\n",
      "Iteration 0, inertia 163.66638036470906.\n",
      "Iteration 1, inertia 116.33152315459189.\n",
      "Iteration 2, inertia 115.32709298195486.\n",
      "Iteration 3, inertia 114.7910190497274.\n",
      "Iteration 4, inertia 114.29193182610489.\n",
      "Iteration 5, inertia 114.07236279486153.\n",
      "Iteration 6, inertia 113.97285696802582.\n",
      "Iteration 7, inertia 113.8845515220731.\n",
      "Iteration 8, inertia 113.80697181418259.\n",
      "Iteration 9, inertia 113.74279996144223.\n",
      "Iteration 10, inertia 113.6807785982806.\n",
      "Iteration 11, inertia 113.63226923378696.\n",
      "Iteration 12, inertia 113.59654430079794.\n",
      "Iteration 13, inertia 113.56134804861063.\n",
      "Iteration 14, inertia 113.52867751342151.\n",
      "Iteration 15, inertia 113.4892323464611.\n",
      "Iteration 16, inertia 113.43895115601707.\n",
      "Iteration 17, inertia 113.37528213857131.\n",
      "Iteration 18, inertia 113.29857686578684.\n",
      "Iteration 19, inertia 113.22514121744899.\n",
      "Iteration 20, inertia 113.16613372457574.\n",
      "Iteration 21, inertia 113.04561882967256.\n",
      "Iteration 22, inertia 112.68323459621269.\n",
      "Iteration 23, inertia 112.66478333482323.\n",
      "Iteration 24, inertia 112.66388914486352.\n",
      "Iteration 25, inertia 112.663502575101.\n",
      "Iteration 26, inertia 112.66326708133047.\n",
      "Iteration 27, inertia 112.66310870917457.\n",
      "Iteration 28, inertia 112.66298478471266.\n",
      "Iteration 29, inertia 112.66285339412794.\n",
      "Iteration 30, inertia 112.6626934022916.\n",
      "Iteration 31, inertia 112.66252867696019.\n",
      "Iteration 32, inertia 112.66235685771484.\n",
      "Iteration 33, inertia 112.66219009377056.\n",
      "Iteration 34, inertia 112.66200191582851.\n",
      "Iteration 35, inertia 112.66179521846972.\n",
      "Iteration 36, inertia 112.66157135439158.\n",
      "Iteration 37, inertia 112.66132882697381.\n",
      "Iteration 38, inertia 112.66102333540807.\n",
      "Iteration 39, inertia 112.66061937226978.\n",
      "Iteration 40, inertia 112.66016362926497.\n",
      "Iteration 41, inertia 112.65973673370847.\n",
      "Iteration 42, inertia 112.65939725877064.\n",
      "Iteration 43, inertia 112.65908273808101.\n",
      "Iteration 44, inertia 112.65885234990077.\n",
      "Iteration 45, inertia 112.65868543379185.\n",
      "Iteration 46, inertia 112.65858463603413.\n",
      "Iteration 47, inertia 112.65852125131242.\n",
      "Iteration 48, inertia 112.65848299075432.\n",
      "Iteration 49, inertia 112.65845569868259.\n",
      "Iteration 50, inertia 112.65843721318987.\n",
      "Converged at iteration 50: center shift 4.1326912950019133e-10 within tolerance 6.654821085135226e-10.\n",
      "Initialization complete\n",
      "Iteration 0, inertia 170.3827273511311.\n",
      "Iteration 1, inertia 116.11265682864843.\n",
      "Iteration 2, inertia 115.56457900752416.\n",
      "Iteration 3, inertia 115.01548193576127.\n",
      "Iteration 4, inertia 114.66334578192865.\n",
      "Iteration 5, inertia 114.35751471454306.\n",
      "Iteration 6, inertia 114.0800168202536.\n",
      "Iteration 7, inertia 113.80966582133892.\n",
      "Iteration 8, inertia 113.62564449536521.\n",
      "Iteration 9, inertia 113.54034110589627.\n",
      "Iteration 10, inertia 113.44279704242214.\n",
      "Iteration 11, inertia 113.36453897777632.\n",
      "Iteration 12, inertia 113.3292521816773.\n",
      "Iteration 13, inertia 113.30531179176022.\n",
      "Iteration 14, inertia 113.28315055338555.\n",
      "Iteration 15, inertia 113.26705660986266.\n",
      "Iteration 16, inertia 113.26290193508821.\n",
      "Iteration 17, inertia 113.26162356933312.\n",
      "Iteration 18, inertia 113.26076342960627.\n",
      "Iteration 19, inertia 113.26005759253077.\n",
      "Iteration 20, inertia 113.2594415003091.\n",
      "Iteration 21, inertia 113.25868906916264.\n",
      "Iteration 22, inertia 113.25718588236136.\n",
      "Iteration 23, inertia 113.25112330919963.\n",
      "Iteration 24, inertia 113.2309313723446.\n",
      "Iteration 25, inertia 113.22341003471742.\n",
      "Iteration 26, inertia 113.22245158361083.\n",
      "Iteration 27, inertia 113.2221597736622.\n",
      "Iteration 28, inertia 113.22188241428651.\n",
      "Iteration 29, inertia 113.2217131284483.\n",
      "Iteration 30, inertia 113.22158617619237.\n",
      "Iteration 31, inertia 113.22152407636099.\n",
      "Iteration 32, inertia 113.22150368238454.\n",
      "Converged at iteration 32: center shift 5.599255142166013e-10 within tolerance 6.654821085135226e-10.\n",
      "Initialization complete\n",
      "Iteration 0, inertia 176.5554454620156.\n",
      "Iteration 1, inertia 116.47638331869639.\n",
      "Iteration 2, inertia 115.40324195950024.\n",
      "Iteration 3, inertia 114.72886092791018.\n",
      "Iteration 4, inertia 114.31268585335638.\n",
      "Iteration 5, inertia 114.08122250805725.\n",
      "Iteration 6, inertia 113.933279709554.\n",
      "Iteration 7, inertia 113.80992593649687.\n",
      "Iteration 8, inertia 113.69540286156641.\n",
      "Iteration 9, inertia 113.60156671957.\n",
      "Iteration 10, inertia 113.52759497027067.\n",
      "Iteration 11, inertia 113.47386287199866.\n",
      "Iteration 12, inertia 113.43668499412269.\n",
      "Iteration 13, inertia 113.41883653756983.\n",
      "Iteration 14, inertia 113.4115868348359.\n",
      "Iteration 15, inertia 113.40780025991752.\n",
      "Iteration 16, inertia 113.40566779185585.\n",
      "Iteration 17, inertia 113.40445888799391.\n",
      "Iteration 18, inertia 113.40370768873085.\n",
      "Iteration 19, inertia 113.403193069969.\n",
      "Iteration 20, inertia 113.40276614167145.\n",
      "Iteration 21, inertia 113.40247460267081.\n",
      "Iteration 22, inertia 113.40223585649323.\n",
      "Iteration 23, inertia 113.40203664998086.\n",
      "Iteration 24, inertia 113.40187738488859.\n",
      "Iteration 25, inertia 113.40176291427893.\n",
      "Iteration 26, inertia 113.40165602064341.\n",
      "Iteration 27, inertia 113.4015539275314.\n",
      "Iteration 28, inertia 113.40148844470882.\n",
      "Iteration 29, inertia 113.40142418224784.\n",
      "Iteration 30, inertia 113.40137657008817.\n",
      "Iteration 31, inertia 113.40132607597792.\n",
      "Iteration 32, inertia 113.40127358341626.\n",
      "Iteration 33, inertia 113.4012242674801.\n",
      "Iteration 34, inertia 113.40118437117366.\n",
      "Iteration 35, inertia 113.4011160961417.\n",
      "Iteration 36, inertia 113.40103158573514.\n",
      "Iteration 37, inertia 113.40095162639186.\n",
      "Iteration 38, inertia 113.4008889413208.\n",
      "Iteration 39, inertia 113.40084896323631.\n",
      "Iteration 40, inertia 113.40081725166027.\n",
      "Iteration 41, inertia 113.40079061866265.\n",
      "Iteration 42, inertia 113.40077196540602.\n",
      "Iteration 43, inertia 113.40075652907571.\n",
      "Iteration 44, inertia 113.40074164089943.\n",
      "Iteration 45, inertia 113.40072522187853.\n",
      "Iteration 46, inertia 113.40071201970535.\n",
      "Iteration 47, inertia 113.4006940041742.\n",
      "Iteration 48, inertia 113.40066789740885.\n",
      "Iteration 49, inertia 113.4006341166639.\n",
      "Iteration 50, inertia 113.40061299045303.\n",
      "Iteration 51, inertia 113.4005911450124.\n",
      "Iteration 52, inertia 113.40057053393959.\n",
      "Iteration 53, inertia 113.40056046221298.\n",
      "Iteration 54, inertia 113.40055084037554.\n",
      "Converged at iteration 54: center shift 6.560523497865821e-10 within tolerance 6.654821085135226e-10.\n",
      "Initialization complete\n",
      "Iteration 0, inertia 163.2222265778395.\n",
      "Iteration 1, inertia 116.65122320628414.\n",
      "Iteration 2, inertia 115.63241049248005.\n",
      "Iteration 3, inertia 115.30178261102145.\n",
      "Iteration 4, inertia 115.06005107389358.\n",
      "Iteration 5, inertia 114.88509130018096.\n",
      "Iteration 6, inertia 114.77279970273399.\n",
      "Iteration 7, inertia 114.67324262895195.\n",
      "Iteration 8, inertia 114.58211441777718.\n",
      "Iteration 9, inertia 114.49040032978138.\n",
      "Iteration 10, inertia 114.380644994664.\n",
      "Iteration 11, inertia 114.29320366180428.\n",
      "Iteration 12, inertia 114.26140799643335.\n",
      "Iteration 13, inertia 114.23588085622166.\n",
      "Iteration 14, inertia 114.21038133939749.\n",
      "Iteration 15, inertia 114.18093451938223.\n",
      "Iteration 16, inertia 114.11380583259906.\n",
      "Iteration 17, inertia 113.80866382891209.\n",
      "Iteration 18, inertia 113.58860665411804.\n",
      "Iteration 19, inertia 113.58137708755052.\n",
      "Iteration 20, inertia 113.57433960430686.\n",
      "Iteration 21, inertia 113.56614107783733.\n",
      "Iteration 22, inertia 113.55500466739964.\n",
      "Iteration 23, inertia 113.53936411226863.\n",
      "Iteration 24, inertia 113.51868781543973.\n",
      "Iteration 25, inertia 113.49570623544406.\n",
      "Iteration 26, inertia 113.474625728076.\n",
      "Iteration 27, inertia 113.45729179049535.\n",
      "Iteration 28, inertia 113.44265903413756.\n",
      "Iteration 29, inertia 113.43058826386178.\n",
      "Iteration 30, inertia 113.4201919089136.\n",
      "Iteration 31, inertia 113.40993356179207.\n",
      "Iteration 32, inertia 113.39916800327319.\n",
      "Iteration 33, inertia 113.38758506089998.\n",
      "Iteration 34, inertia 113.37734357789839.\n",
      "Iteration 35, inertia 113.36968314630413.\n",
      "Iteration 36, inertia 113.36288214677852.\n",
      "Iteration 37, inertia 113.35747690790976.\n",
      "Iteration 38, inertia 113.35378888525567.\n",
      "Iteration 39, inertia 113.35102781507157.\n",
      "Iteration 40, inertia 113.34925127868075.\n",
      "Iteration 41, inertia 113.34803760694521.\n",
      "Iteration 42, inertia 113.34690695104352.\n",
      "Iteration 43, inertia 113.3454511295074.\n",
      "Iteration 44, inertia 113.34338945652271.\n",
      "Iteration 45, inertia 113.3393250129883.\n",
      "Iteration 46, inertia 113.33123786410849.\n",
      "Iteration 47, inertia 113.31163327857664.\n",
      "Iteration 48, inertia 113.25274861561.\n",
      "Iteration 49, inertia 113.06060624898683.\n",
      "Iteration 50, inertia 112.97171262204915.\n",
      "Iteration 51, inertia 112.94132037514721.\n",
      "Iteration 52, inertia 112.93400073866306.\n",
      "Iteration 53, inertia 112.93296866447453.\n",
      "Iteration 54, inertia 112.93291686304151.\n",
      "Iteration 55, inertia 112.9329002342819.\n",
      "Iteration 56, inertia 112.9328874021976.\n",
      "Iteration 57, inertia 112.9328771114787.\n",
      "Iteration 58, inertia 112.93286084368715.\n",
      "Iteration 59, inertia 112.9328492607621.\n",
      "Iteration 60, inertia 112.93284357893639.\n",
      "Iteration 61, inertia 112.93283862928838.\n",
      "Iteration 62, inertia 112.93282768265514.\n",
      "Iteration 63, inertia 112.93281044681176.\n",
      "Iteration 64, inertia 112.93279988438445.\n",
      "Iteration 65, inertia 112.93279617338422.\n",
      "Iteration 66, inertia 112.93279017524429.\n",
      "Iteration 67, inertia 112.9327716874882.\n",
      "Iteration 68, inertia 112.9327371356155.\n",
      "Iteration 69, inertia 112.93225508475078.\n",
      "Iteration 70, inertia 112.92807662415613.\n",
      "Iteration 71, inertia 112.92717321942915.\n",
      "Converged at iteration 71: center shift 1.0899715460491467e-10 within tolerance 6.654821085135226e-10.\n",
      "Initialization complete\n",
      "Iteration 0, inertia 168.16980300359788.\n",
      "Iteration 1, inertia 115.58227759363092.\n",
      "Iteration 2, inertia 114.7141404600086.\n",
      "Iteration 3, inertia 113.99479725399537.\n",
      "Iteration 4, inertia 113.56417079552696.\n",
      "Iteration 5, inertia 113.36838626879032.\n",
      "Iteration 6, inertia 113.27334369598272.\n",
      "Iteration 7, inertia 113.15726164823562.\n",
      "Iteration 8, inertia 113.09222301748812.\n",
      "Iteration 9, inertia 113.04685311409554.\n",
      "Iteration 10, inertia 112.98310143057789.\n",
      "Iteration 11, inertia 112.8913100149046.\n",
      "Iteration 12, inertia 112.83317718098681.\n",
      "Iteration 13, inertia 112.80589219492681.\n",
      "Iteration 14, inertia 112.781583144473.\n",
      "Iteration 15, inertia 112.75191077595952.\n",
      "Iteration 16, inertia 112.71584351148185.\n",
      "Iteration 17, inertia 112.68856617990106.\n",
      "Iteration 18, inertia 112.67708273461483.\n",
      "Iteration 19, inertia 112.67271098141823.\n",
      "Iteration 20, inertia 112.67024944708413.\n",
      "Iteration 21, inertia 112.66848839395487.\n",
      "Iteration 22, inertia 112.66680149502457.\n",
      "Iteration 23, inertia 112.66477902079399.\n",
      "Iteration 24, inertia 112.6619176902996.\n",
      "Iteration 25, inertia 112.65753235376957.\n",
      "Iteration 26, inertia 112.65099098234109.\n",
      "Iteration 27, inertia 112.64267144660072.\n",
      "Iteration 28, inertia 112.63369793271585.\n",
      "Iteration 29, inertia 112.62556358492225.\n",
      "Iteration 30, inertia 112.6192870262159.\n",
      "Iteration 31, inertia 112.61392243519778.\n",
      "Iteration 32, inertia 112.60921729243975.\n",
      "Iteration 33, inertia 112.60521672057445.\n",
      "Iteration 34, inertia 112.60197441867045.\n",
      "Iteration 35, inertia 112.59921714847002.\n",
      "Iteration 36, inertia 112.59669292046695.\n",
      "Iteration 37, inertia 112.59429441084353.\n",
      "Iteration 38, inertia 112.59177353336541.\n",
      "Iteration 39, inertia 112.58875335920892.\n",
      "Iteration 40, inertia 112.58446301348178.\n",
      "Iteration 41, inertia 112.57783032012593.\n",
      "Iteration 42, inertia 112.568020712248.\n",
      "Iteration 43, inertia 112.55413261444129.\n",
      "Iteration 44, inertia 112.54003613642485.\n",
      "Iteration 45, inertia 112.53100839984008.\n",
      "Iteration 46, inertia 112.52672429481103.\n",
      "Iteration 47, inertia 112.52525286070544.\n",
      "Iteration 48, inertia 112.52458280264207.\n",
      "Iteration 49, inertia 112.52425206873514.\n",
      "Iteration 50, inertia 112.52400516487032.\n",
      "Iteration 51, inertia 112.52379931240884.\n",
      "Iteration 52, inertia 112.52367476407935.\n",
      "Iteration 53, inertia 112.52359068517634.\n",
      "Iteration 54, inertia 112.52351311400591.\n",
      "Iteration 55, inertia 112.523428852617.\n",
      "Iteration 56, inertia 112.52330649253037.\n",
      "Iteration 57, inertia 112.5231706660724.\n",
      "Iteration 58, inertia 112.52304292109787.\n",
      "Iteration 59, inertia 112.5229413981061.\n",
      "Iteration 60, inertia 112.52283536671366.\n",
      "Iteration 61, inertia 112.5227433240825.\n",
      "Iteration 62, inertia 112.52267934132881.\n",
      "Iteration 63, inertia 112.52263401364826.\n",
      "Iteration 64, inertia 112.52259852137396.\n",
      "Iteration 65, inertia 112.52256925896492.\n",
      "Iteration 66, inertia 112.52249247830208.\n",
      "Iteration 67, inertia 112.52239675099932.\n",
      "Iteration 68, inertia 112.52232259358803.\n",
      "Iteration 69, inertia 112.52229266006262.\n",
      "Iteration 70, inertia 112.52226686104109.\n",
      "Converged at iteration 70: center shift 5.12852580285145e-10 within tolerance 6.654821085135226e-10.\n",
      "Initialization complete\n",
      "Iteration 0, inertia 161.6298474418347.\n",
      "Iteration 1, inertia 115.95265933442673.\n",
      "Iteration 2, inertia 115.0878348206731.\n",
      "Iteration 3, inertia 114.61594662188887.\n",
      "Iteration 4, inertia 114.38001916950131.\n",
      "Iteration 5, inertia 114.22159094229767.\n",
      "Iteration 6, inertia 114.10739027082926.\n",
      "Iteration 7, inertia 114.01666493364006.\n",
      "Iteration 8, inertia 113.92979289609737.\n",
      "Iteration 9, inertia 113.83724575904164.\n",
      "Iteration 10, inertia 113.76757098397856.\n",
      "Iteration 11, inertia 113.70654587713453.\n",
      "Iteration 12, inertia 113.6154547846065.\n",
      "Iteration 13, inertia 113.33555972596263.\n",
      "Iteration 14, inertia 113.13777475549955.\n",
      "Iteration 15, inertia 113.0904124021145.\n",
      "Iteration 16, inertia 113.04829540373689.\n",
      "Iteration 17, inertia 112.99313280317546.\n",
      "Iteration 18, inertia 112.8990155603365.\n",
      "Iteration 19, inertia 112.79756214153124.\n",
      "Iteration 20, inertia 112.7406008728264.\n",
      "Iteration 21, inertia 112.55867581916306.\n",
      "Iteration 22, inertia 112.42246817099242.\n",
      "Iteration 23, inertia 112.38479230365778.\n",
      "Iteration 24, inertia 112.35328326425169.\n",
      "Iteration 25, inertia 112.33873462254455.\n",
      "Iteration 26, inertia 112.33608898447761.\n",
      "Iteration 27, inertia 112.33262457243927.\n",
      "Iteration 28, inertia 112.33210363130682.\n",
      "Iteration 29, inertia 112.33209848957183.\n",
      "Converged at iteration 29: center shift 1.0267285588596469e-10 within tolerance 6.654821085135226e-10.\n",
      "Initialization complete\n",
      "Iteration 0, inertia 166.15696395490426.\n",
      "Iteration 1, inertia 116.06289467562657.\n",
      "Iteration 2, inertia 115.72776802790256.\n",
      "Iteration 3, inertia 115.5042705137427.\n",
      "Iteration 4, inertia 115.14425905854726.\n",
      "Iteration 5, inertia 114.68015576062474.\n",
      "Iteration 6, inertia 114.45900794985697.\n",
      "Iteration 7, inertia 114.29637019497092.\n",
      "Iteration 8, inertia 114.12905011602453.\n",
      "Iteration 9, inertia 114.02288753762562.\n",
      "Iteration 10, inertia 113.96909210815019.\n",
      "Iteration 11, inertia 113.9245087236081.\n",
      "Iteration 12, inertia 113.87108877354241.\n",
      "Iteration 13, inertia 113.79620561021372.\n",
      "Iteration 14, inertia 113.68544285701022.\n",
      "Iteration 15, inertia 113.55365096043089.\n",
      "Iteration 16, inertia 113.4487461476159.\n",
      "Iteration 17, inertia 113.35000728056716.\n",
      "Iteration 18, inertia 113.17211874525948.\n",
      "Iteration 19, inertia 112.8242064240821.\n",
      "Iteration 20, inertia 112.67632462861516.\n",
      "Iteration 21, inertia 112.64283357012295.\n",
      "Iteration 22, inertia 112.63213960418922.\n",
      "Iteration 23, inertia 112.63087819843078.\n",
      "Iteration 24, inertia 112.63018666251128.\n",
      "Iteration 25, inertia 112.6297795451459.\n",
      "Iteration 26, inertia 112.62953870753628.\n",
      "Iteration 27, inertia 112.6294006154481.\n",
      "Iteration 28, inertia 112.62934001147481.\n",
      "Iteration 29, inertia 112.62930769610608.\n",
      "Iteration 30, inertia 112.62928487538278.\n",
      "Iteration 31, inertia 112.62926945541699.\n",
      "Converged at iteration 31: center shift 6.042148318758968e-10 within tolerance 6.654821085135226e-10.\n",
      "Initialization complete\n",
      "Iteration 0, inertia 163.239837546813.\n",
      "Iteration 1, inertia 116.5896017346834.\n",
      "Iteration 2, inertia 115.29546118779005.\n",
      "Iteration 3, inertia 114.61259300040564.\n",
      "Iteration 4, inertia 114.23553849722926.\n",
      "Iteration 5, inertia 114.0108910455814.\n",
      "Iteration 6, inertia 113.89043853941214.\n",
      "Iteration 7, inertia 113.79518814361494.\n",
      "Iteration 8, inertia 113.72806521145512.\n",
      "Iteration 9, inertia 113.68240827586474.\n",
      "Iteration 10, inertia 113.64491931937269.\n",
      "Iteration 11, inertia 113.60886859707934.\n",
      "Iteration 12, inertia 113.57320360572528.\n",
      "Iteration 13, inertia 113.53970637022482.\n",
      "Iteration 14, inertia 113.51292369205561.\n",
      "Iteration 15, inertia 113.49524377109948.\n",
      "Iteration 16, inertia 113.48594149712918.\n",
      "Iteration 17, inertia 113.4810466282819.\n",
      "Iteration 18, inertia 113.4783405805446.\n",
      "Iteration 19, inertia 113.4765020906861.\n",
      "Iteration 20, inertia 113.47496344454751.\n",
      "Iteration 21, inertia 113.47371520582765.\n",
      "Iteration 22, inertia 113.47240318079469.\n",
      "Iteration 23, inertia 113.4713952463081.\n",
      "Iteration 24, inertia 113.47059140574619.\n",
      "Iteration 25, inertia 113.47004182495057.\n",
      "Iteration 26, inertia 113.46977324275866.\n",
      "Iteration 27, inertia 113.46958326973302.\n",
      "Iteration 28, inertia 113.46946640857493.\n",
      "Iteration 29, inertia 113.46937421029612.\n",
      "Iteration 30, inertia 113.4692834649174.\n",
      "Iteration 31, inertia 113.46919825895372.\n",
      "Iteration 32, inertia 113.46911239859298.\n",
      "Iteration 33, inertia 113.46901628593784.\n",
      "Iteration 34, inertia 113.46893666246724.\n",
      "Iteration 35, inertia 113.46884575322221.\n",
      "Iteration 36, inertia 113.4687293277127.\n",
      "Iteration 37, inertia 113.46859018837273.\n",
      "Iteration 38, inertia 113.46846241199695.\n",
      "Iteration 39, inertia 113.46833976151677.\n",
      "Iteration 40, inertia 113.4682122409711.\n",
      "Iteration 41, inertia 113.46811782829812.\n",
      "Iteration 42, inertia 113.46805417983624.\n",
      "Iteration 43, inertia 113.46800389308028.\n",
      "Iteration 44, inertia 113.46796878690746.\n",
      "Iteration 45, inertia 113.46794621242806.\n",
      "Iteration 46, inertia 113.4679251904074.\n",
      "Iteration 47, inertia 113.46790885394392.\n",
      "Iteration 48, inertia 113.46789435693877.\n",
      "Converged at iteration 48: center shift 6.145475207669533e-10 within tolerance 6.654821085135226e-10.\n",
      "Initialization complete\n",
      "Iteration 0, inertia 173.30152560863144.\n",
      "Iteration 1, inertia 116.58952033767085.\n",
      "Iteration 2, inertia 116.01856026087658.\n",
      "Iteration 3, inertia 115.37373955428068.\n",
      "Iteration 4, inertia 114.90769819141701.\n",
      "Iteration 5, inertia 114.73951611632842.\n",
      "Iteration 6, inertia 114.61374935911637.\n",
      "Iteration 7, inertia 114.49111992212401.\n",
      "Iteration 8, inertia 114.35494643083176.\n",
      "Iteration 9, inertia 114.2157258526839.\n",
      "Iteration 10, inertia 114.11231673634751.\n",
      "Iteration 11, inertia 114.04176208537484.\n",
      "Iteration 12, inertia 113.98895935260067.\n",
      "Iteration 13, inertia 113.94375613185848.\n",
      "Iteration 14, inertia 113.92447057389103.\n",
      "Iteration 15, inertia 113.91911474356557.\n",
      "Iteration 16, inertia 113.9165883351553.\n",
      "Iteration 17, inertia 113.91477032102529.\n",
      "Iteration 18, inertia 113.91305772430076.\n",
      "Iteration 19, inertia 113.91141714565299.\n",
      "Iteration 20, inertia 113.90974189515131.\n",
      "Iteration 21, inertia 113.90820053383634.\n",
      "Iteration 22, inertia 113.90667333300628.\n",
      "Iteration 23, inertia 113.90492393058521.\n",
      "Iteration 24, inertia 113.90170615242937.\n",
      "Iteration 25, inertia 113.89164412644247.\n",
      "Iteration 26, inertia 113.87204357536511.\n",
      "Iteration 27, inertia 113.86439163799105.\n",
      "Iteration 28, inertia 113.86241695970148.\n",
      "Iteration 29, inertia 113.85998012680145.\n",
      "Iteration 30, inertia 113.85398462988542.\n",
      "Iteration 31, inertia 113.8318115367617.\n",
      "Iteration 32, inertia 113.7558617306763.\n",
      "Iteration 33, inertia 113.70197414630775.\n",
      "Iteration 34, inertia 113.69740450506339.\n",
      "Iteration 35, inertia 113.697047747782.\n",
      "Iteration 36, inertia 113.69694600000618.\n",
      "Iteration 37, inertia 113.69689103513983.\n",
      "Iteration 38, inertia 113.69685954611573.\n",
      "Iteration 39, inertia 113.69683657336809.\n",
      "Iteration 40, inertia 113.69682230427826.\n",
      "Iteration 41, inertia 113.69681050023046.\n",
      "Iteration 42, inertia 113.69679484024006.\n",
      "Iteration 43, inertia 113.69678162944518.\n",
      "Converged at iteration 43: center shift 4.906701279635435e-10 within tolerance 6.654821085135226e-10.\n",
      "Initialization complete\n",
      "Iteration 0, inertia 166.41326984437964.\n",
      "Iteration 1, inertia 116.5904062303254.\n",
      "Iteration 2, inertia 115.7950639961893.\n",
      "Iteration 3, inertia 115.37172448651123.\n",
      "Iteration 4, inertia 115.03845534196337.\n",
      "Iteration 5, inertia 114.87288947854184.\n",
      "Iteration 6, inertia 114.76621100441398.\n",
      "Iteration 7, inertia 114.67373508914706.\n",
      "Iteration 8, inertia 114.60175585604878.\n",
      "Iteration 9, inertia 114.54218878581487.\n",
      "Iteration 10, inertia 114.49154338768402.\n",
      "Iteration 11, inertia 114.45004205746635.\n",
      "Iteration 12, inertia 114.41852015926739.\n",
      "Iteration 13, inertia 114.39450341454994.\n",
      "Iteration 14, inertia 114.37380600332837.\n",
      "Iteration 15, inertia 114.35333947223434.\n",
      "Iteration 16, inertia 114.33005483810942.\n",
      "Iteration 17, inertia 114.30064117682174.\n",
      "Iteration 18, inertia 114.25587695051716.\n",
      "Iteration 19, inertia 114.17763413651932.\n",
      "Iteration 20, inertia 114.07833610318492.\n",
      "Iteration 21, inertia 114.05306463188549.\n",
      "Iteration 22, inertia 114.0402594390809.\n",
      "Iteration 23, inertia 114.02989330040633.\n",
      "Iteration 24, inertia 114.02141010116749.\n",
      "Iteration 25, inertia 114.01439657652182.\n",
      "Iteration 26, inertia 114.00806141782599.\n",
      "Iteration 27, inertia 114.00139957300341.\n",
      "Iteration 28, inertia 113.9939039356967.\n",
      "Iteration 29, inertia 113.98355699484564.\n",
      "Iteration 30, inertia 113.96632467262589.\n",
      "Iteration 31, inertia 113.93333950167163.\n",
      "Iteration 32, inertia 113.86609692864961.\n",
      "Iteration 33, inertia 113.67585051688053.\n",
      "Iteration 34, inertia 113.41791702609812.\n",
      "Iteration 35, inertia 113.41570457131533.\n",
      "Iteration 36, inertia 113.41477802685736.\n",
      "Iteration 37, inertia 113.41414705526009.\n",
      "Iteration 38, inertia 113.41372294850564.\n",
      "Iteration 39, inertia 113.41341067585174.\n",
      "Iteration 40, inertia 113.41317955284724.\n",
      "Iteration 41, inertia 113.4129957365342.\n",
      "Iteration 42, inertia 113.41284861119644.\n",
      "Iteration 43, inertia 113.41273048588782.\n",
      "Iteration 44, inertia 113.41262558752659.\n",
      "Iteration 45, inertia 113.41253425121626.\n",
      "Iteration 46, inertia 113.41243522862442.\n",
      "Iteration 47, inertia 113.41234106386347.\n",
      "Iteration 48, inertia 113.4122709137239.\n",
      "Iteration 49, inertia 113.41220812612927.\n",
      "Iteration 50, inertia 113.41214747850695.\n",
      "Iteration 51, inertia 113.41208969547795.\n",
      "Iteration 52, inertia 113.41204804095403.\n",
      "Iteration 53, inertia 113.4120124706189.\n",
      "Iteration 54, inertia 113.41198359619752.\n",
      "Iteration 55, inertia 113.41195101793015.\n",
      "Iteration 56, inertia 113.41192354457047.\n",
      "Iteration 57, inertia 113.4118945986009.\n",
      "Iteration 58, inertia 113.41186404507745.\n",
      "Iteration 59, inertia 113.41183712118715.\n",
      "Iteration 60, inertia 113.41181116666397.\n",
      "Iteration 61, inertia 113.41178320148809.\n",
      "Iteration 62, inertia 113.41175629478745.\n",
      "Iteration 63, inertia 113.41173379698324.\n",
      "Iteration 64, inertia 113.41170635330388.\n",
      "Iteration 65, inertia 113.41167307187577.\n",
      "Iteration 66, inertia 113.41164047618159.\n",
      "Iteration 67, inertia 113.41161373886789.\n",
      "Iteration 68, inertia 113.41158970476768.\n",
      "Iteration 69, inertia 113.41156421478068.\n",
      "Iteration 70, inertia 113.41154321031394.\n",
      "Iteration 71, inertia 113.41152300051763.\n",
      "Iteration 72, inertia 113.41150562993543.\n",
      "Iteration 73, inertia 113.41148744529853.\n",
      "Iteration 74, inertia 113.41147085876788.\n",
      "Iteration 75, inertia 113.41145628356585.\n",
      "Converged at iteration 75: center shift 5.123930784867634e-10 within tolerance 6.654821085135226e-10.\n",
      "Initialization complete\n",
      "Iteration 0, inertia 162.75509120043145.\n",
      "Iteration 1, inertia 116.08291597001839.\n",
      "Iteration 2, inertia 114.95972587023533.\n",
      "Iteration 3, inertia 114.61224038615629.\n",
      "Iteration 4, inertia 114.38226033156555.\n",
      "Iteration 5, inertia 114.17156300942712.\n",
      "Iteration 6, inertia 113.98461719349527.\n",
      "Iteration 7, inertia 113.84063696158798.\n",
      "Iteration 8, inertia 113.75655884527166.\n",
      "Iteration 9, inertia 113.71486277529921.\n",
      "Iteration 10, inertia 113.69459335952726.\n",
      "Iteration 11, inertia 113.68042745045057.\n",
      "Iteration 12, inertia 113.66580708903574.\n",
      "Iteration 13, inertia 113.64749115905391.\n",
      "Iteration 14, inertia 113.62646407504644.\n",
      "Iteration 15, inertia 113.60587513149773.\n",
      "Iteration 16, inertia 113.58899950690791.\n",
      "Iteration 17, inertia 113.5752357816959.\n",
      "Iteration 18, inertia 113.56357742002886.\n",
      "Iteration 19, inertia 113.55133017279954.\n",
      "Iteration 20, inertia 113.52961600893452.\n",
      "Iteration 21, inertia 113.45566159906492.\n",
      "Iteration 22, inertia 113.13890405145514.\n",
      "Iteration 23, inertia 112.97736579129405.\n",
      "Iteration 24, inertia 112.97505851728681.\n",
      "Iteration 25, inertia 112.9738364178599.\n",
      "Iteration 26, inertia 112.97317049215768.\n",
      "Iteration 27, inertia 112.97282537841268.\n",
      "Iteration 28, inertia 112.97264320912655.\n",
      "Iteration 29, inertia 112.97254884764516.\n",
      "Iteration 30, inertia 112.97250553934724.\n",
      "Iteration 31, inertia 112.97247989854277.\n",
      "Iteration 32, inertia 112.97246102757533.\n",
      "Converged at iteration 32: center shift 4.905931101012937e-10 within tolerance 6.654821085135226e-10.\n",
      "Initialization complete\n",
      "Iteration 0, inertia 170.39159371278305.\n",
      "Iteration 1, inertia 116.22107251942501.\n",
      "Iteration 2, inertia 115.32969613442403.\n",
      "Iteration 3, inertia 114.85576875363635.\n",
      "Iteration 4, inertia 114.49420771685317.\n",
      "Iteration 5, inertia 114.27250932578724.\n",
      "Iteration 6, inertia 114.0389069579796.\n",
      "Iteration 7, inertia 113.8866171315307.\n",
      "Iteration 8, inertia 113.8057896479623.\n",
      "Iteration 9, inertia 113.75799238333511.\n",
      "Iteration 10, inertia 113.70406046569678.\n",
      "Iteration 11, inertia 113.5898652011399.\n",
      "Iteration 12, inertia 113.40052836677052.\n",
      "Iteration 13, inertia 113.36985934291341.\n",
      "Iteration 14, inertia 113.34721716171397.\n",
      "Iteration 15, inertia 113.32297942756944.\n",
      "Iteration 16, inertia 113.30620841749639.\n",
      "Iteration 17, inertia 113.29790091400795.\n",
      "Iteration 18, inertia 113.29239533161072.\n",
      "Iteration 19, inertia 113.28622911753091.\n",
      "Iteration 20, inertia 113.27792654612516.\n",
      "Iteration 21, inertia 113.26902455953761.\n",
      "Iteration 22, inertia 113.26322812944878.\n",
      "Iteration 23, inertia 113.26057766173423.\n",
      "Iteration 24, inertia 113.25920236124448.\n",
      "Iteration 25, inertia 113.25779422567034.\n",
      "Iteration 26, inertia 113.25630930481807.\n",
      "Iteration 27, inertia 113.25448687027757.\n",
      "Iteration 28, inertia 113.25228157518517.\n",
      "Iteration 29, inertia 113.25011705374105.\n",
      "Iteration 30, inertia 113.24827340568827.\n",
      "Iteration 31, inertia 113.24678967739678.\n",
      "Iteration 32, inertia 113.24541671590336.\n",
      "Iteration 33, inertia 113.24401297756546.\n",
      "Iteration 34, inertia 113.24251515854371.\n",
      "Iteration 35, inertia 113.24084657118797.\n",
      "Iteration 36, inertia 113.23858140101603.\n",
      "Iteration 37, inertia 113.2352795075918.\n",
      "Iteration 38, inertia 113.22977666528567.\n",
      "Iteration 39, inertia 113.22036067489233.\n",
      "Iteration 40, inertia 113.20591668860962.\n",
      "Iteration 41, inertia 113.18983774556072.\n",
      "Iteration 42, inertia 113.17864636312.\n",
      "Iteration 43, inertia 113.17342524469143.\n",
      "Iteration 44, inertia 113.17134163471198.\n",
      "Iteration 45, inertia 113.17033524376333.\n",
      "Iteration 46, inertia 113.16974685406493.\n",
      "Iteration 47, inertia 113.16934954396905.\n",
      "Iteration 48, inertia 113.16907009106497.\n",
      "Iteration 49, inertia 113.16889547238304.\n",
      "Iteration 50, inertia 113.16877456270484.\n",
      "Iteration 51, inertia 113.16869978743367.\n",
      "Iteration 52, inertia 113.16865449318519.\n",
      "Iteration 53, inertia 113.16862177026151.\n",
      "Iteration 54, inertia 113.16859855180573.\n",
      "Iteration 55, inertia 113.16858397450493.\n",
      "Converged at iteration 55: center shift 5.678095647505442e-10 within tolerance 6.654821085135226e-10.\n",
      "Initialization complete\n",
      "Iteration 0, inertia 167.94321927628292.\n",
      "Iteration 1, inertia 115.4992699683199.\n",
      "Iteration 2, inertia 114.70894922581627.\n",
      "Iteration 3, inertia 114.19127416977148.\n",
      "Iteration 4, inertia 113.96414711811445.\n",
      "Iteration 5, inertia 113.7537953507939.\n",
      "Iteration 6, inertia 113.61486328225772.\n",
      "Iteration 7, inertia 113.51058579691131.\n",
      "Iteration 8, inertia 113.36940104371958.\n",
      "Iteration 9, inertia 113.22881973374774.\n",
      "Iteration 10, inertia 113.1027655421161.\n",
      "Iteration 11, inertia 112.93073172225506.\n",
      "Iteration 12, inertia 112.83149502936836.\n",
      "Iteration 13, inertia 112.767068200351.\n",
      "Iteration 14, inertia 112.7267775528931.\n",
      "Iteration 15, inertia 112.70399947529434.\n",
      "Iteration 16, inertia 112.69009563298847.\n",
      "Iteration 17, inertia 112.68036713454052.\n",
      "Iteration 18, inertia 112.67259528040061.\n",
      "Iteration 19, inertia 112.66585070127012.\n",
      "Iteration 20, inertia 112.66061972829803.\n",
      "Iteration 21, inertia 112.65685810397187.\n",
      "Iteration 22, inertia 112.65405764760155.\n",
      "Iteration 23, inertia 112.65050188635544.\n",
      "Iteration 24, inertia 112.63973502589391.\n",
      "Iteration 25, inertia 112.6232240269199.\n",
      "Iteration 26, inertia 112.61764696046902.\n",
      "Iteration 27, inertia 112.61716399832338.\n",
      "Iteration 28, inertia 112.6170991413368.\n",
      "Iteration 29, inertia 112.61708384099512.\n",
      "Converged at iteration 29: center shift 4.099764082269054e-10 within tolerance 6.654821085135226e-10.\n",
      "Initialization complete\n",
      "Iteration 0, inertia 164.1714697181593.\n",
      "Iteration 1, inertia 116.00698976886392.\n",
      "Iteration 2, inertia 115.5677153112283.\n",
      "Iteration 3, inertia 115.35763280571109.\n",
      "Iteration 4, inertia 115.19662821661487.\n",
      "Iteration 5, inertia 115.01155061530766.\n",
      "Iteration 6, inertia 114.79110213596768.\n",
      "Iteration 7, inertia 114.5836916219892.\n",
      "Iteration 8, inertia 114.40901246800348.\n",
      "Iteration 9, inertia 114.1742772709583.\n",
      "Iteration 10, inertia 113.75705487173175.\n",
      "Iteration 11, inertia 113.49609691747042.\n",
      "Iteration 12, inertia 113.38289266762524.\n",
      "Iteration 13, inertia 113.3364737209588.\n",
      "Iteration 14, inertia 113.30895223606112.\n",
      "Iteration 15, inertia 113.28174802458689.\n",
      "Iteration 16, inertia 113.24512103801932.\n",
      "Iteration 17, inertia 113.19230111761583.\n",
      "Iteration 18, inertia 113.11284930464203.\n",
      "Iteration 19, inertia 113.01671022274483.\n",
      "Iteration 20, inertia 112.98903441995029.\n",
      "Iteration 21, inertia 112.98407975711706.\n",
      "Iteration 22, inertia 112.98183015729384.\n",
      "Iteration 23, inertia 112.98041239246933.\n",
      "Iteration 24, inertia 112.97928561542503.\n",
      "Iteration 25, inertia 112.97846961349597.\n",
      "Iteration 26, inertia 112.97763595773252.\n",
      "Iteration 27, inertia 112.97669837694299.\n",
      "Iteration 28, inertia 112.97560387335798.\n",
      "Iteration 29, inertia 112.97353275780894.\n",
      "Iteration 30, inertia 112.96697157438665.\n",
      "Iteration 31, inertia 112.96488915321187.\n",
      "Iteration 32, inertia 112.96418757152638.\n",
      "Iteration 33, inertia 112.96368999006322.\n",
      "Iteration 34, inertia 112.96330671934051.\n",
      "Iteration 35, inertia 112.96303893373725.\n",
      "Iteration 36, inertia 112.96283831170733.\n",
      "Iteration 37, inertia 112.96268737622773.\n",
      "Iteration 38, inertia 112.96258482121382.\n",
      "Iteration 39, inertia 112.96249172675012.\n",
      "Iteration 40, inertia 112.96240364368404.\n",
      "Iteration 41, inertia 112.96230013558055.\n",
      "Iteration 42, inertia 112.9621922475886.\n",
      "Iteration 43, inertia 112.9619959246414.\n",
      "Iteration 44, inertia 112.96157280777716.\n",
      "Iteration 45, inertia 112.96041206821874.\n",
      "Iteration 46, inertia 112.95638959122473.\n",
      "Iteration 47, inertia 112.94951287102316.\n",
      "Iteration 48, inertia 112.93849661744264.\n",
      "Iteration 49, inertia 112.91813283408331.\n",
      "Iteration 50, inertia 112.91637866026332.\n",
      "Iteration 51, inertia 112.91611756486762.\n",
      "Iteration 52, inertia 112.91597979315867.\n",
      "Iteration 53, inertia 112.9159145180512.\n",
      "Iteration 54, inertia 112.9158748347749.\n",
      "Iteration 55, inertia 112.91583790596718.\n",
      "Iteration 56, inertia 112.91580667052894.\n",
      "Iteration 57, inertia 112.91578001409842.\n",
      "Iteration 58, inertia 112.91575449218004.\n",
      "Iteration 59, inertia 112.91572684011274.\n",
      "Iteration 60, inertia 112.91568713307848.\n",
      "Iteration 61, inertia 112.9156310407562.\n",
      "Iteration 62, inertia 112.9155571975281.\n",
      "Iteration 63, inertia 112.91546752773128.\n",
      "Iteration 64, inertia 112.91537435095034.\n",
      "Iteration 65, inertia 112.91522257916242.\n",
      "Iteration 66, inertia 112.91505979916487.\n",
      "Iteration 67, inertia 112.9148565149324.\n",
      "Iteration 68, inertia 112.91457426068584.\n",
      "Iteration 69, inertia 112.91423754834403.\n",
      "Iteration 70, inertia 112.91391567497949.\n",
      "Iteration 71, inertia 112.9136485730953.\n",
      "Iteration 72, inertia 112.91338709637614.\n",
      "Iteration 73, inertia 112.91309857162085.\n",
      "Iteration 74, inertia 112.91278708934487.\n",
      "Iteration 75, inertia 112.9124110636365.\n",
      "Iteration 76, inertia 112.91187554325651.\n",
      "Iteration 77, inertia 112.91118204516087.\n",
      "Iteration 78, inertia 112.91019274722504.\n",
      "Iteration 79, inertia 112.90868951197702.\n",
      "Iteration 80, inertia 112.9062825742421.\n",
      "Iteration 81, inertia 112.90201344626509.\n",
      "Iteration 82, inertia 112.89483004200352.\n",
      "Iteration 83, inertia 112.88384571624378.\n",
      "Iteration 84, inertia 112.86981432049143.\n",
      "Iteration 85, inertia 112.8534019319735.\n",
      "Iteration 86, inertia 112.83847951086048.\n",
      "Iteration 87, inertia 112.82595613903632.\n",
      "Iteration 88, inertia 112.81634669249277.\n",
      "Iteration 89, inertia 112.80879462962427.\n",
      "Iteration 90, inertia 112.80330186487504.\n",
      "Iteration 91, inertia 112.79912793712751.\n",
      "Iteration 92, inertia 112.79573622277593.\n",
      "Iteration 93, inertia 112.79234421280869.\n",
      "Iteration 94, inertia 112.78730500348512.\n",
      "Iteration 95, inertia 112.77772999819823.\n",
      "Iteration 96, inertia 112.75756535258392.\n",
      "Iteration 97, inertia 112.71997376271118.\n",
      "Iteration 98, inertia 112.65784066707374.\n",
      "Iteration 99, inertia 112.6260819921031.\n",
      "Iteration 100, inertia 112.62106595458803.\n",
      "Iteration 101, inertia 112.61651528813222.\n",
      "Iteration 102, inertia 112.6088223913928.\n",
      "Iteration 103, inertia 112.60274221311752.\n",
      "Iteration 104, inertia 112.59420917632032.\n",
      "Iteration 105, inertia 112.58976507572764.\n",
      "Iteration 106, inertia 112.58904541281413.\n",
      "Iteration 107, inertia 112.58890226807705.\n",
      "Iteration 108, inertia 112.58881970029752.\n",
      "Iteration 109, inertia 112.58877902000084.\n",
      "Iteration 110, inertia 112.5887324439262.\n",
      "Iteration 111, inertia 112.58868909246635.\n",
      "Iteration 112, inertia 112.58864132110297.\n",
      "Iteration 113, inertia 112.58859994430895.\n",
      "Iteration 114, inertia 112.58856721047019.\n",
      "Iteration 115, inertia 112.58853500212675.\n",
      "Iteration 116, inertia 112.5885122431792.\n",
      "Iteration 117, inertia 112.58848422063134.\n",
      "Iteration 118, inertia 112.58845487881194.\n",
      "Iteration 119, inertia 112.58842465972731.\n",
      "Iteration 120, inertia 112.5883873621016.\n",
      "Iteration 121, inertia 112.58835000270342.\n",
      "Iteration 122, inertia 112.58829337268703.\n",
      "Iteration 123, inertia 112.58820659042412.\n",
      "Iteration 124, inertia 112.58811374359637.\n",
      "Iteration 125, inertia 112.58796950739885.\n",
      "Iteration 126, inertia 112.58775443258384.\n",
      "Iteration 127, inertia 112.58750232728252.\n",
      "Iteration 128, inertia 112.58725040256043.\n",
      "Iteration 129, inertia 112.58705949838561.\n",
      "Iteration 130, inertia 112.5869076786636.\n",
      "Iteration 131, inertia 112.58678327107643.\n",
      "Iteration 132, inertia 112.58672772788785.\n",
      "Iteration 133, inertia 112.58668779746775.\n",
      "Iteration 134, inertia 112.58665018020494.\n",
      "Iteration 135, inertia 112.58661083407328.\n",
      "Iteration 136, inertia 112.58656644710655.\n",
      "Iteration 137, inertia 112.5865199232673.\n",
      "Iteration 138, inertia 112.58648550282368.\n",
      "Iteration 139, inertia 112.58644910491654.\n",
      "Iteration 140, inertia 112.58640826768186.\n",
      "Iteration 141, inertia 112.58635753861056.\n",
      "Iteration 142, inertia 112.58632132250449.\n",
      "Iteration 143, inertia 112.58629814230298.\n",
      "Iteration 144, inertia 112.58626935569731.\n",
      "Iteration 145, inertia 112.58624071533862.\n",
      "Iteration 146, inertia 112.58621334948188.\n",
      "Iteration 147, inertia 112.5861871677159.\n",
      "Iteration 148, inertia 112.58616409850424.\n",
      "Iteration 149, inertia 112.58613957944547.\n",
      "Iteration 150, inertia 112.58611845071624.\n",
      "Iteration 151, inertia 112.58609892348134.\n",
      "Iteration 152, inertia 112.58607628356228.\n",
      "Iteration 153, inertia 112.5860505605505.\n",
      "Iteration 154, inertia 112.5860298074431.\n",
      "Iteration 155, inertia 112.58600083357398.\n",
      "Iteration 156, inertia 112.58596760396556.\n",
      "Iteration 157, inertia 112.58593869311207.\n",
      "Iteration 158, inertia 112.58590795355624.\n",
      "Iteration 159, inertia 112.58587412686948.\n",
      "Iteration 160, inertia 112.58584076509318.\n",
      "Iteration 161, inertia 112.58580845469751.\n",
      "Iteration 162, inertia 112.58578239737814.\n",
      "Iteration 163, inertia 112.58576177462011.\n",
      "Iteration 164, inertia 112.58573839465907.\n",
      "Iteration 165, inertia 112.58570712446283.\n",
      "Iteration 166, inertia 112.58566300046013.\n",
      "Iteration 167, inertia 112.58560941768502.\n",
      "Iteration 168, inertia 112.58555245218889.\n",
      "Iteration 169, inertia 112.58548429240382.\n",
      "Iteration 170, inertia 112.58540820653252.\n",
      "Iteration 171, inertia 112.58531565245401.\n",
      "Iteration 172, inertia 112.58520940285436.\n",
      "Iteration 173, inertia 112.5851070707144.\n",
      "Iteration 174, inertia 112.58499594168111.\n",
      "Iteration 175, inertia 112.58488522091561.\n",
      "Iteration 176, inertia 112.58473436342244.\n",
      "Iteration 177, inertia 112.58456385111278.\n",
      "Iteration 178, inertia 112.58437419812587.\n",
      "Iteration 179, inertia 112.5841994811482.\n",
      "Iteration 180, inertia 112.58405145409098.\n",
      "Iteration 181, inertia 112.5839282529698.\n",
      "Iteration 182, inertia 112.58381110308382.\n",
      "Iteration 183, inertia 112.5837266836402.\n",
      "Iteration 184, inertia 112.58364599455436.\n",
      "Iteration 185, inertia 112.58356534641126.\n",
      "Iteration 186, inertia 112.5834757640386.\n",
      "Iteration 187, inertia 112.58339986247086.\n",
      "Iteration 188, inertia 112.58331757148608.\n",
      "Iteration 189, inertia 112.58324761606069.\n",
      "Iteration 190, inertia 112.58315082122353.\n",
      "Iteration 191, inertia 112.58307337932425.\n",
      "Iteration 192, inertia 112.58300813575359.\n",
      "Iteration 193, inertia 112.58294323796412.\n",
      "Iteration 194, inertia 112.58288627614303.\n",
      "Iteration 195, inertia 112.58284124268798.\n",
      "Iteration 196, inertia 112.58280113354992.\n",
      "Iteration 197, inertia 112.58276295266013.\n",
      "Iteration 198, inertia 112.58272203040144.\n",
      "Iteration 199, inertia 112.58268434733006.\n",
      "predicting for customers\n",
      "predicting for population\n",
      "plotting...\n",
      "107.98104219999999\n"
     ]
    },
    {
     "data": {
      "text/plain": "<Figure size 1200x400 with 2 Axes>",
      "image/png": "[encoded data removed]"
     },
     "metadata": {},
     "output_type": "display_data"
    }
   ],
   "source": [
    "t0 = perf_counter()\n",
    "\n",
    "pipeline_ica = run_pipeline(cluster_pipeline_ica,\n",
    "                            azdias.drop('EINGEFUEGT_AM', axis=1).iloc[::5],\n",
    "                            customers.drop('EINGEFUEGT_AM', axis=1))\n",
    "\n",
    "print(perf_counter()-t0)"
   ],
   "metadata": {
    "collapsed": false,
    "pycharm": {
     "name": "#%%\n"
    }
   }
  },
  {
   "cell_type": "markdown",
   "source": [
    "###### PCA + Kmeans"
   ],
   "metadata": {
    "collapsed": false,
    "pycharm": {
     "name": "#%% md\n"
    }
   }
  },
  {
   "cell_type": "code",
   "execution_count": 42,
   "outputs": [
    {
     "name": "stdout",
     "output_type": "stream",
     "text": [
      "fitting pipeline\n",
      "Initialization complete\n",
      "Iteration 0, inertia 59996550.96587332.\n",
      "Iteration 1, inertia 38640819.142542675.\n",
      "Iteration 2, inertia 37820478.92569648.\n",
      "Iteration 3, inertia 37555911.747868106.\n",
      "Iteration 4, inertia 37389040.39011222.\n",
      "Iteration 5, inertia 37298103.21772807.\n",
      "Iteration 6, inertia 37250537.92133136.\n",
      "Iteration 7, inertia 37223688.68863559.\n",
      "Iteration 8, inertia 37206172.620957494.\n",
      "Iteration 9, inertia 37193671.040913254.\n",
      "Iteration 10, inertia 37184307.614807.\n",
      "Iteration 11, inertia 37176756.32726078.\n",
      "Iteration 12, inertia 37170621.333649695.\n",
      "Iteration 13, inertia 37165447.06648594.\n",
      "Iteration 14, inertia 37161133.99615519.\n",
      "Iteration 15, inertia 37157498.446719155.\n",
      "Iteration 16, inertia 37154629.76047405.\n",
      "Iteration 17, inertia 37152059.56152159.\n",
      "Iteration 18, inertia 37149835.77600019.\n",
      "Iteration 19, inertia 37147992.39882628.\n",
      "Iteration 20, inertia 37146501.53417255.\n",
      "Iteration 21, inertia 37145199.735541925.\n",
      "Iteration 22, inertia 37144045.82065815.\n",
      "Iteration 23, inertia 37142907.68584623.\n",
      "Iteration 24, inertia 37141758.940690205.\n",
      "Iteration 25, inertia 37140674.53142389.\n",
      "Iteration 26, inertia 37139643.218440525.\n",
      "Iteration 27, inertia 37138762.81496097.\n",
      "Iteration 28, inertia 37137923.938840635.\n",
      "Iteration 29, inertia 37137130.94207181.\n",
      "Iteration 30, inertia 37136226.79639484.\n",
      "Iteration 31, inertia 37135152.47298598.\n",
      "Iteration 32, inertia 37134004.33175004.\n",
      "Iteration 33, inertia 37132802.73454033.\n",
      "Iteration 34, inertia 37131335.33333418.\n",
      "Iteration 35, inertia 37129751.68295044.\n",
      "Iteration 36, inertia 37128090.37357677.\n",
      "Iteration 37, inertia 37126029.63705704.\n",
      "Iteration 38, inertia 37123241.559367806.\n",
      "Iteration 39, inertia 37119908.60483535.\n",
      "Iteration 40, inertia 37115856.233344674.\n",
      "Iteration 41, inertia 37110936.76672929.\n",
      "Iteration 42, inertia 37105102.163836814.\n",
      "Iteration 43, inertia 37098049.373813376.\n",
      "Iteration 44, inertia 37089559.21519803.\n",
      "Iteration 45, inertia 37079644.429016896.\n",
      "Iteration 46, inertia 37069301.1706476.\n",
      "Iteration 47, inertia 37060531.927616246.\n",
      "Iteration 48, inertia 37054537.08640367.\n",
      "Iteration 49, inertia 37050940.125216946.\n",
      "Iteration 50, inertia 37048752.05993652.\n",
      "Iteration 51, inertia 37047237.34830875.\n",
      "Iteration 52, inertia 37046122.66622634.\n",
      "Iteration 53, inertia 37045283.445557654.\n",
      "Iteration 54, inertia 37044641.37237707.\n",
      "Iteration 55, inertia 37044158.53952839.\n",
      "Iteration 56, inertia 37043766.43558366.\n",
      "Iteration 57, inertia 37043448.28967286.\n",
      "Iteration 58, inertia 37043178.60902265.\n",
      "Iteration 59, inertia 37042975.0203754.\n",
      "Iteration 60, inertia 37042805.49560501.\n",
      "Iteration 61, inertia 37042661.244544365.\n",
      "Iteration 62, inertia 37042536.52894862.\n",
      "Iteration 63, inertia 37042425.44050914.\n",
      "Iteration 64, inertia 37042335.79323029.\n",
      "Iteration 65, inertia 37042261.107743144.\n",
      "Iteration 66, inertia 37042189.580125615.\n",
      "Iteration 67, inertia 37042126.842391774.\n",
      "Iteration 68, inertia 37042076.166581854.\n",
      "Iteration 69, inertia 37042032.353618786.\n",
      "Iteration 70, inertia 37041980.99344388.\n",
      "Iteration 71, inertia 37041922.287653595.\n",
      "Iteration 72, inertia 37041863.6739251.\n",
      "Iteration 73, inertia 37041811.02937803.\n",
      "Iteration 74, inertia 37041761.776578605.\n",
      "Iteration 75, inertia 37041721.923138075.\n",
      "Iteration 76, inertia 37041665.846411385.\n",
      "Iteration 77, inertia 37041597.32507548.\n",
      "Iteration 78, inertia 37041516.74114081.\n",
      "Iteration 79, inertia 37041450.48353182.\n",
      "Iteration 80, inertia 37041390.02070843.\n",
      "Iteration 81, inertia 37041332.02694926.\n",
      "Iteration 82, inertia 37041266.22180522.\n",
      "Iteration 83, inertia 37041183.97685588.\n",
      "Iteration 84, inertia 37041083.193147376.\n",
      "Iteration 85, inertia 37040954.66875503.\n",
      "Iteration 86, inertia 37040822.01071857.\n",
      "Iteration 87, inertia 37040697.890392326.\n",
      "Iteration 88, inertia 37040554.42794849.\n",
      "Iteration 89, inertia 37040399.292299554.\n",
      "Iteration 90, inertia 37040187.43546937.\n",
      "Iteration 91, inertia 37039886.717081964.\n",
      "Iteration 92, inertia 37039574.93829151.\n",
      "Iteration 93, inertia 37039130.832354456.\n",
      "Iteration 94, inertia 37038511.31408153.\n",
      "Iteration 95, inertia 37037705.97800665.\n",
      "Iteration 96, inertia 37036625.30391711.\n",
      "Iteration 97, inertia 37035203.73309821.\n",
      "Iteration 98, inertia 37033411.05435159.\n",
      "Iteration 99, inertia 37030739.52494396.\n",
      "Iteration 100, inertia 37026674.51125593.\n",
      "Iteration 101, inertia 37020992.492594644.\n",
      "Iteration 102, inertia 37013911.48918506.\n",
      "Iteration 103, inertia 37005273.127185255.\n",
      "Iteration 104, inertia 36996256.90482892.\n",
      "Iteration 105, inertia 36987874.71128024.\n",
      "Iteration 106, inertia 36981357.15979271.\n",
      "Iteration 107, inertia 36976871.36305988.\n",
      "Iteration 108, inertia 36974087.213784434.\n",
      "Iteration 109, inertia 36972205.700530306.\n",
      "Iteration 110, inertia 36970795.771227695.\n",
      "Iteration 111, inertia 36969702.856950715.\n",
      "Iteration 112, inertia 36968936.26923603.\n",
      "Iteration 113, inertia 36968319.20287965.\n",
      "Iteration 114, inertia 36967856.234449066.\n",
      "Iteration 115, inertia 36967432.20317009.\n",
      "Iteration 116, inertia 36967095.597247064.\n",
      "Iteration 117, inertia 36966841.445987225.\n",
      "Iteration 118, inertia 36966674.206992.\n",
      "Iteration 119, inertia 36966541.33454796.\n",
      "Iteration 120, inertia 36966446.53941138.\n",
      "Iteration 121, inertia 36966386.218693316.\n",
      "Iteration 122, inertia 36966336.19825687.\n",
      "Iteration 123, inertia 36966298.37828208.\n",
      "Iteration 124, inertia 36966269.24737938.\n",
      "Iteration 125, inertia 36966246.32706408.\n",
      "Iteration 126, inertia 36966226.401901715.\n",
      "Iteration 127, inertia 36966210.45716965.\n",
      "Iteration 128, inertia 36966193.87476329.\n",
      "Iteration 129, inertia 36966179.401331425.\n",
      "Iteration 130, inertia 36966168.08345966.\n",
      "Iteration 131, inertia 36966157.42557276.\n",
      "Iteration 132, inertia 36966148.70823846.\n",
      "Iteration 133, inertia 36966142.63571393.\n",
      "Iteration 134, inertia 36966138.293271445.\n",
      "Converged at iteration 134: center shift 0.00017963459368298515 within tolerance 0.00019002088770563274.\n",
      "Initialization complete\n",
      "Iteration 0, inertia 60000308.8826448.\n",
      "Iteration 1, inertia 38252201.607167654.\n",
      "Iteration 2, inertia 37584775.81174809.\n",
      "Iteration 3, inertia 37345531.744439006.\n",
      "Iteration 4, inertia 37207637.668985.\n",
      "Iteration 5, inertia 37118414.839408726.\n",
      "Iteration 6, inertia 37055286.01554329.\n",
      "Iteration 7, inertia 37017964.99904384.\n",
      "Iteration 8, inertia 37000000.04167925.\n",
      "Iteration 9, inertia 36991936.3480484.\n",
      "Iteration 10, inertia 36987581.679746754.\n",
      "Iteration 11, inertia 36984858.74313601.\n",
      "Iteration 12, inertia 36983014.508170396.\n",
      "Iteration 13, inertia 36981571.43653327.\n",
      "Iteration 14, inertia 36980369.8380144.\n",
      "Iteration 15, inertia 36979300.477498464.\n",
      "Iteration 16, inertia 36978367.29041385.\n",
      "Iteration 17, inertia 36977391.459180936.\n",
      "Iteration 18, inertia 36976378.25787649.\n",
      "Iteration 19, inertia 36975303.940020405.\n",
      "Iteration 20, inertia 36974154.47705175.\n",
      "Iteration 21, inertia 36972818.26118506.\n",
      "Iteration 22, inertia 36971371.20436677.\n",
      "Iteration 23, inertia 36970093.008088775.\n",
      "Iteration 24, inertia 36969200.9273259.\n",
      "Iteration 25, inertia 36968505.72917839.\n",
      "Iteration 26, inertia 36968035.22182068.\n",
      "Iteration 27, inertia 36967626.44127612.\n",
      "Iteration 28, inertia 36967307.341106445.\n",
      "Iteration 29, inertia 36967081.997094676.\n",
      "Iteration 30, inertia 36966917.77052371.\n",
      "Iteration 31, inertia 36966797.73656928.\n",
      "Iteration 32, inertia 36966705.57352742.\n",
      "Iteration 33, inertia 36966624.76304909.\n",
      "Iteration 34, inertia 36966552.23706783.\n",
      "Iteration 35, inertia 36966484.37991695.\n",
      "Iteration 36, inertia 36966423.20668448.\n",
      "Iteration 37, inertia 36966358.37185282.\n",
      "Iteration 38, inertia 36966311.80444144.\n",
      "Iteration 39, inertia 36966283.15702632.\n",
      "Iteration 40, inertia 36966259.8965148.\n",
      "Iteration 41, inertia 36966240.523749486.\n",
      "Iteration 42, inertia 36966223.261212565.\n",
      "Iteration 43, inertia 36966207.723252594.\n",
      "Iteration 44, inertia 36966194.83577877.\n",
      "Iteration 45, inertia 36966184.323628835.\n",
      "Iteration 46, inertia 36966177.613724895.\n",
      "Iteration 47, inertia 36966173.700208366.\n",
      "Converged at iteration 47: center shift 0.00014801206743935105 within tolerance 0.00019002088770563274.\n",
      "Initialization complete\n",
      "Iteration 0, inertia 62588049.20015447.\n",
      "Iteration 1, inertia 38331165.327305615.\n",
      "Iteration 2, inertia 37638059.9150172.\n",
      "Iteration 3, inertia 37458945.76994269.\n",
      "Iteration 4, inertia 37358843.61200345.\n",
      "Iteration 5, inertia 37287344.02357506.\n",
      "Iteration 6, inertia 37232585.04179106.\n",
      "Iteration 7, inertia 37190778.85797326.\n",
      "Iteration 8, inertia 37151939.378387555.\n",
      "Iteration 9, inertia 37110102.68065632.\n",
      "Iteration 10, inertia 37068041.881194815.\n",
      "Iteration 11, inertia 37036860.85662536.\n",
      "Iteration 12, inertia 37017520.24410592.\n",
      "Iteration 13, inertia 37006275.18172107.\n",
      "Iteration 14, inertia 36999310.744693905.\n",
      "Iteration 15, inertia 36995245.44528834.\n",
      "Iteration 16, inertia 36992388.694085345.\n",
      "Iteration 17, inertia 36990207.25282872.\n",
      "Iteration 18, inertia 36988466.42723647.\n",
      "Iteration 19, inertia 36987052.959878266.\n",
      "Iteration 20, inertia 36985682.17935608.\n",
      "Iteration 21, inertia 36984293.60359312.\n",
      "Iteration 22, inertia 36982997.44584938.\n",
      "Iteration 23, inertia 36981698.07243364.\n",
      "Iteration 24, inertia 36980303.45326361.\n",
      "Iteration 25, inertia 36978916.23763525.\n",
      "Iteration 26, inertia 36977452.78996704.\n",
      "Iteration 27, inertia 36975832.751198746.\n",
      "Iteration 28, inertia 36974318.19675559.\n",
      "Iteration 29, inertia 36972996.1146431.\n",
      "Iteration 30, inertia 36971916.192330204.\n",
      "Iteration 31, inertia 36971052.445067614.\n",
      "Iteration 32, inertia 36970328.21080024.\n",
      "Iteration 33, inertia 36969692.96635874.\n",
      "Iteration 34, inertia 36969172.90624258.\n",
      "Iteration 35, inertia 36968704.984221205.\n",
      "Iteration 36, inertia 36968244.115666285.\n",
      "Iteration 37, inertia 36967855.928487055.\n",
      "Iteration 38, inertia 36967522.68601274.\n",
      "Iteration 39, inertia 36967246.87773591.\n",
      "Iteration 40, inertia 36967033.25437865.\n",
      "Iteration 41, inertia 36966871.585758194.\n",
      "Iteration 42, inertia 36966751.44937728.\n",
      "Iteration 43, inertia 36966666.04008086.\n",
      "Iteration 44, inertia 36966599.440289706.\n",
      "Iteration 45, inertia 36966543.2042957.\n",
      "Iteration 46, inertia 36966496.51569235.\n",
      "Iteration 47, inertia 36966460.750009954.\n",
      "Iteration 48, inertia 36966431.92667652.\n",
      "Iteration 49, inertia 36966414.13144407.\n",
      "Iteration 50, inertia 36966397.24578347.\n",
      "Iteration 51, inertia 36966385.30182874.\n",
      "Iteration 52, inertia 36966375.25258105.\n",
      "Iteration 53, inertia 36966363.46925929.\n",
      "Iteration 54, inertia 36966351.68896524.\n",
      "Iteration 55, inertia 36966340.945934966.\n",
      "Iteration 56, inertia 36966331.27247573.\n",
      "Iteration 57, inertia 36966325.212663606.\n",
      "Iteration 58, inertia 36966320.51554422.\n",
      "Iteration 59, inertia 36966316.21449386.\n",
      "Converged at iteration 59: center shift 0.0001581015495698972 within tolerance 0.00019002088770563274.\n",
      "Initialization complete\n",
      "Iteration 0, inertia 59578493.55175919.\n",
      "Iteration 1, inertia 38535361.14427518.\n",
      "Iteration 2, inertia 37946991.61276035.\n",
      "Iteration 3, inertia 37705713.39801582.\n",
      "Iteration 4, inertia 37562430.04321703.\n",
      "Iteration 5, inertia 37465038.57033375.\n",
      "Iteration 6, inertia 37392939.778421484.\n",
      "Iteration 7, inertia 37337311.65524298.\n",
      "Iteration 8, inertia 37293116.03764619.\n",
      "Iteration 9, inertia 37255876.11862249.\n",
      "Iteration 10, inertia 37226077.841624044.\n",
      "Iteration 11, inertia 37203804.73882171.\n",
      "Iteration 12, inertia 37185452.043508604.\n",
      "Iteration 13, inertia 37168567.51027946.\n",
      "Iteration 14, inertia 37154098.22017095.\n",
      "Iteration 15, inertia 37142477.81821128.\n",
      "Iteration 16, inertia 37133685.33502063.\n",
      "Iteration 17, inertia 37126782.74242652.\n",
      "Iteration 18, inertia 37121019.85874174.\n",
      "Iteration 19, inertia 37116552.20804015.\n",
      "Iteration 20, inertia 37113159.06188664.\n",
      "Iteration 21, inertia 37110291.60200197.\n",
      "Iteration 22, inertia 37107873.64460161.\n",
      "Iteration 23, inertia 37105370.49151117.\n",
      "Iteration 24, inertia 37102902.18608862.\n",
      "Iteration 25, inertia 37100551.3163714.\n",
      "Iteration 26, inertia 37098172.43032645.\n",
      "Iteration 27, inertia 37095878.62000374.\n",
      "Iteration 28, inertia 37093829.320478044.\n",
      "Iteration 29, inertia 37092149.40176398.\n",
      "Iteration 30, inertia 37090412.3793631.\n",
      "Iteration 31, inertia 37088584.876790024.\n",
      "Iteration 32, inertia 37086765.55209006.\n",
      "Iteration 33, inertia 37084980.71024215.\n",
      "Iteration 34, inertia 37083243.6256518.\n",
      "Iteration 35, inertia 37081564.24579989.\n",
      "Iteration 36, inertia 37079914.9521989.\n",
      "Iteration 37, inertia 37078288.63480685.\n",
      "Iteration 38, inertia 37076621.57630649.\n",
      "Iteration 39, inertia 37074982.82003519.\n",
      "Iteration 40, inertia 37073363.72511814.\n",
      "Iteration 41, inertia 37071583.4943544.\n",
      "Iteration 42, inertia 37069654.37891055.\n",
      "Iteration 43, inertia 37067647.35546582.\n",
      "Iteration 44, inertia 37065679.95436959.\n",
      "Iteration 45, inertia 37063829.99822129.\n",
      "Iteration 46, inertia 37061952.74044298.\n",
      "Iteration 47, inertia 37059983.88947984.\n",
      "Iteration 48, inertia 37057797.20656837.\n",
      "Iteration 49, inertia 37055417.648028366.\n",
      "Iteration 50, inertia 37053057.72080643.\n",
      "Iteration 51, inertia 37050522.89680448.\n",
      "Iteration 52, inertia 37048052.13248904.\n",
      "Iteration 53, inertia 37045549.82506682.\n",
      "Iteration 54, inertia 37042922.97794615.\n",
      "Iteration 55, inertia 37040292.46816577.\n",
      "Iteration 56, inertia 37037722.56788657.\n",
      "Iteration 57, inertia 37034977.68416097.\n",
      "Iteration 58, inertia 37031849.60595802.\n",
      "Iteration 59, inertia 37028476.98038682.\n",
      "Iteration 60, inertia 37024862.41616699.\n",
      "Iteration 61, inertia 37020540.961608365.\n",
      "Iteration 62, inertia 37015924.32074778.\n",
      "Iteration 63, inertia 37010731.26984666.\n",
      "Iteration 64, inertia 37004253.512623966.\n",
      "Iteration 65, inertia 36995791.66770645.\n",
      "Iteration 66, inertia 36986183.53055754.\n",
      "Iteration 67, inertia 36978291.889584646.\n",
      "Iteration 68, inertia 36973568.405320995.\n",
      "Iteration 69, inertia 36971163.28186427.\n",
      "Iteration 70, inertia 36970075.14068971.\n",
      "Iteration 71, inertia 36969460.725779176.\n",
      "Iteration 72, inertia 36969022.473741174.\n",
      "Iteration 73, inertia 36968715.547550865.\n",
      "Iteration 74, inertia 36968475.567383654.\n",
      "Iteration 75, inertia 36968288.523369744.\n",
      "Iteration 76, inertia 36968138.403538205.\n",
      "Iteration 77, inertia 36968032.65568957.\n",
      "Iteration 78, inertia 36967946.80634349.\n",
      "Iteration 79, inertia 36967869.84532098.\n",
      "Iteration 80, inertia 36967810.484053925.\n",
      "Iteration 81, inertia 36967763.75231726.\n",
      "Iteration 82, inertia 36967731.09521331.\n",
      "Iteration 83, inertia 36967699.26551835.\n",
      "Iteration 84, inertia 36967673.55689798.\n",
      "Iteration 85, inertia 36967649.39061578.\n",
      "Iteration 86, inertia 36967628.777461074.\n",
      "Iteration 87, inertia 36967610.137719326.\n",
      "Iteration 88, inertia 36967589.5513742.\n",
      "Iteration 89, inertia 36967567.19430571.\n",
      "Iteration 90, inertia 36967545.58306827.\n",
      "Iteration 91, inertia 36967525.41359419.\n",
      "Iteration 92, inertia 36967506.69859954.\n",
      "Iteration 93, inertia 36967484.305414975.\n",
      "Iteration 94, inertia 36967461.095906325.\n",
      "Iteration 95, inertia 36967442.107390895.\n",
      "Iteration 96, inertia 36967425.63415401.\n",
      "Iteration 97, inertia 36967412.60328273.\n",
      "Iteration 98, inertia 36967400.27525269.\n",
      "Iteration 99, inertia 36967389.216131225.\n",
      "Iteration 100, inertia 36967380.55101137.\n",
      "Iteration 101, inertia 36967374.15079713.\n",
      "Iteration 102, inertia 36967368.674322285.\n",
      "Iteration 103, inertia 36967361.86157222.\n",
      "Iteration 104, inertia 36967355.47646702.\n",
      "Iteration 105, inertia 36967350.57205836.\n",
      "Converged at iteration 105: center shift 0.00015637587792157262 within tolerance 0.00019002088770563274.\n",
      "Initialization complete\n",
      "Iteration 0, inertia 60750630.174419716.\n",
      "Iteration 1, inertia 38276080.059436366.\n",
      "Iteration 2, inertia 37672330.08790305.\n",
      "Iteration 3, inertia 37515102.05690414.\n",
      "Iteration 4, inertia 37451202.09366638.\n",
      "Iteration 5, inertia 37413505.66685932.\n",
      "Iteration 6, inertia 37385118.32600591.\n",
      "Iteration 7, inertia 37363629.42912313.\n",
      "Iteration 8, inertia 37347902.93251845.\n",
      "Iteration 9, inertia 37334315.340800166.\n",
      "Iteration 10, inertia 37322771.61311088.\n",
      "Iteration 11, inertia 37312738.59880966.\n",
      "Iteration 12, inertia 37303783.28953635.\n",
      "Iteration 13, inertia 37295960.42897091.\n",
      "Iteration 14, inertia 37288578.674553975.\n",
      "Iteration 15, inertia 37281962.807481185.\n",
      "Iteration 16, inertia 37275840.62571609.\n",
      "Iteration 17, inertia 37270126.13279675.\n",
      "Iteration 18, inertia 37264701.19147572.\n",
      "Iteration 19, inertia 37260067.967092596.\n",
      "Iteration 20, inertia 37255863.01123705.\n",
      "Iteration 21, inertia 37251957.34221572.\n",
      "Iteration 22, inertia 37248163.75555226.\n",
      "Iteration 23, inertia 37244829.70401159.\n",
      "Iteration 24, inertia 37241877.97453262.\n",
      "Iteration 25, inertia 37239369.37740049.\n",
      "Iteration 26, inertia 37237163.35158536.\n",
      "Iteration 27, inertia 37235188.88987772.\n",
      "Iteration 28, inertia 37233418.29189412.\n",
      "Iteration 29, inertia 37232053.86357588.\n",
      "Iteration 30, inertia 37230957.939797685.\n",
      "Iteration 31, inertia 37230018.451140024.\n",
      "Iteration 32, inertia 37229173.44540193.\n",
      "Iteration 33, inertia 37228300.870217495.\n",
      "Iteration 34, inertia 37227233.494675376.\n",
      "Iteration 35, inertia 37225960.82665419.\n",
      "Iteration 36, inertia 37224831.63568978.\n",
      "Iteration 37, inertia 37223781.4691788.\n",
      "Iteration 38, inertia 37222970.92236329.\n",
      "Iteration 39, inertia 37222478.54244743.\n",
      "Iteration 40, inertia 37222101.33599864.\n",
      "Iteration 41, inertia 37221787.58836685.\n",
      "Iteration 42, inertia 37221499.44961415.\n",
      "Iteration 43, inertia 37221240.050834596.\n",
      "Iteration 44, inertia 37220975.023040555.\n",
      "Iteration 45, inertia 37220731.23131972.\n",
      "Iteration 46, inertia 37220536.94223046.\n",
      "Iteration 47, inertia 37220404.89869798.\n",
      "Iteration 48, inertia 37220282.98636859.\n",
      "Iteration 49, inertia 37220179.69195331.\n",
      "Iteration 50, inertia 37220088.08711845.\n",
      "Iteration 51, inertia 37220003.15792866.\n",
      "Iteration 52, inertia 37219913.18777229.\n",
      "Iteration 53, inertia 37219826.279641114.\n",
      "Iteration 54, inertia 37219755.26114324.\n",
      "Iteration 55, inertia 37219690.90145544.\n",
      "Iteration 56, inertia 37219633.743553676.\n",
      "Iteration 57, inertia 37219583.77389992.\n",
      "Iteration 58, inertia 37219541.249166325.\n",
      "Iteration 59, inertia 37219513.506908484.\n",
      "Iteration 60, inertia 37219490.56487313.\n",
      "Iteration 61, inertia 37219468.822347865.\n",
      "Iteration 62, inertia 37219453.91674648.\n",
      "Iteration 63, inertia 37219440.01018541.\n",
      "Iteration 64, inertia 37219430.68623651.\n",
      "Iteration 65, inertia 37219419.02388239.\n",
      "Iteration 66, inertia 37219406.60374797.\n",
      "Iteration 67, inertia 37219396.95431191.\n",
      "Iteration 68, inertia 37219388.705682926.\n",
      "Iteration 69, inertia 37219382.42131447.\n",
      "Iteration 70, inertia 37219376.09666929.\n",
      "Iteration 71, inertia 37219371.864745535.\n",
      "Converged at iteration 71: center shift 0.00013187453777805248 within tolerance 0.00019002088770563274.\n",
      "Initialization complete\n",
      "Iteration 0, inertia 61834179.98305778.\n",
      "Iteration 1, inertia 38719612.87398476.\n",
      "Iteration 2, inertia 37917381.22120049.\n",
      "Iteration 3, inertia 37604711.506591015.\n",
      "Iteration 4, inertia 37437836.96815169.\n",
      "Iteration 5, inertia 37325190.619591966.\n",
      "Iteration 6, inertia 37251955.592942245.\n",
      "Iteration 7, inertia 37203903.85484106.\n",
      "Iteration 8, inertia 37174494.370342545.\n",
      "Iteration 9, inertia 37156128.03986848.\n",
      "Iteration 10, inertia 37143523.3081991.\n",
      "Iteration 11, inertia 37134695.64932039.\n",
      "Iteration 12, inertia 37128312.21945534.\n",
      "Iteration 13, inertia 37124013.36896344.\n",
      "Iteration 14, inertia 37121146.77958856.\n",
      "Iteration 15, inertia 37119158.775905296.\n",
      "Iteration 16, inertia 37117750.353176415.\n",
      "Iteration 17, inertia 37116726.18777608.\n",
      "Iteration 18, inertia 37115881.098439604.\n",
      "Iteration 19, inertia 37115182.67203548.\n",
      "Iteration 20, inertia 37114655.865123026.\n",
      "Iteration 21, inertia 37114237.951811016.\n",
      "Iteration 22, inertia 37113848.79107256.\n",
      "Iteration 23, inertia 37113513.12350762.\n",
      "Iteration 24, inertia 37113243.484917834.\n",
      "Iteration 25, inertia 37113020.687703855.\n",
      "Iteration 26, inertia 37112863.566647306.\n",
      "Iteration 27, inertia 37112741.18560638.\n",
      "Iteration 28, inertia 37112628.87320667.\n",
      "Iteration 29, inertia 37112531.257590845.\n",
      "Iteration 30, inertia 37112457.262864575.\n",
      "Iteration 31, inertia 37112397.99649624.\n",
      "Iteration 32, inertia 37112337.83415298.\n",
      "Iteration 33, inertia 37112281.29651132.\n",
      "Iteration 34, inertia 37112220.404377304.\n",
      "Iteration 35, inertia 37112166.93064427.\n",
      "Iteration 36, inertia 37112112.43205883.\n",
      "Iteration 37, inertia 37112071.34268525.\n",
      "Iteration 38, inertia 37112040.57737886.\n",
      "Iteration 39, inertia 37112008.63472713.\n",
      "Iteration 40, inertia 37111976.07256479.\n",
      "Iteration 41, inertia 37111942.44036262.\n",
      "Iteration 42, inertia 37111917.80464549.\n",
      "Iteration 43, inertia 37111899.41289359.\n",
      "Iteration 44, inertia 37111886.69534698.\n",
      "Iteration 45, inertia 37111875.50723615.\n",
      "Iteration 46, inertia 37111866.19846593.\n",
      "Iteration 47, inertia 37111858.50338614.\n",
      "Iteration 48, inertia 37111851.41352107.\n",
      "Iteration 49, inertia 37111845.07417275.\n",
      "Iteration 50, inertia 37111838.11968557.\n",
      "Iteration 51, inertia 37111828.61763837.\n",
      "Iteration 52, inertia 37111819.36041018.\n",
      "Iteration 53, inertia 37111808.510295935.\n",
      "Iteration 54, inertia 37111800.06815593.\n",
      "Iteration 55, inertia 37111793.422536634.\n",
      "Iteration 56, inertia 37111787.95135566.\n",
      "Iteration 57, inertia 37111780.97264433.\n",
      "Iteration 58, inertia 37111770.87636613.\n",
      "Iteration 59, inertia 37111760.16610792.\n",
      "Iteration 60, inertia 37111749.55073755.\n",
      "Iteration 61, inertia 37111740.660278484.\n",
      "Iteration 62, inertia 37111735.18957001.\n",
      "Iteration 63, inertia 37111729.73959258.\n",
      "Iteration 64, inertia 37111722.12969608.\n",
      "Iteration 65, inertia 37111714.49223608.\n",
      "Iteration 66, inertia 37111703.0722449.\n",
      "Iteration 67, inertia 37111687.54697767.\n",
      "Iteration 68, inertia 37111674.50204415.\n",
      "Iteration 69, inertia 37111660.55308613.\n",
      "Iteration 70, inertia 37111651.139945954.\n",
      "Iteration 71, inertia 37111639.99840674.\n",
      "Iteration 72, inertia 37111623.86572805.\n",
      "Iteration 73, inertia 37111610.54224155.\n",
      "Iteration 74, inertia 37111598.35186244.\n",
      "Iteration 75, inertia 37111587.093099646.\n",
      "Iteration 76, inertia 37111576.22552257.\n",
      "Iteration 77, inertia 37111562.95985042.\n",
      "Iteration 78, inertia 37111546.0229231.\n",
      "Iteration 79, inertia 37111529.062706195.\n",
      "Iteration 80, inertia 37111508.831174165.\n",
      "Iteration 81, inertia 37111490.86151169.\n",
      "Iteration 82, inertia 37111473.39645978.\n",
      "Iteration 83, inertia 37111454.674964614.\n",
      "Iteration 84, inertia 37111433.35547759.\n",
      "Iteration 85, inertia 37111418.21397644.\n",
      "Iteration 86, inertia 37111405.89417234.\n",
      "Iteration 87, inertia 37111390.37666487.\n",
      "Iteration 88, inertia 37111375.87908583.\n",
      "Iteration 89, inertia 37111360.922331065.\n",
      "Iteration 90, inertia 37111342.70014213.\n",
      "Iteration 91, inertia 37111325.966919556.\n",
      "Iteration 92, inertia 37111311.22842243.\n",
      "Iteration 93, inertia 37111289.86385127.\n",
      "Iteration 94, inertia 37111270.12267945.\n",
      "Iteration 95, inertia 37111244.5017686.\n",
      "Iteration 96, inertia 37111216.363984786.\n",
      "Iteration 97, inertia 37111192.692760155.\n",
      "Iteration 98, inertia 37111174.856408715.\n",
      "Iteration 99, inertia 37111161.134734556.\n",
      "Iteration 100, inertia 37111150.65232624.\n",
      "Iteration 101, inertia 37111134.844093375.\n",
      "Iteration 102, inertia 37111117.143482715.\n",
      "Iteration 103, inertia 37111098.54394514.\n",
      "Iteration 104, inertia 37111081.49551187.\n",
      "Iteration 105, inertia 37111061.79394988.\n",
      "Iteration 106, inertia 37111041.601223625.\n",
      "Iteration 107, inertia 37111019.865350045.\n",
      "Iteration 108, inertia 37110995.28994846.\n",
      "Iteration 109, inertia 37110974.42454887.\n",
      "Iteration 110, inertia 37110961.624389604.\n",
      "Iteration 111, inertia 37110952.17549317.\n",
      "Iteration 112, inertia 37110943.492898226.\n",
      "Iteration 113, inertia 37110932.61417462.\n",
      "Iteration 114, inertia 37110920.715328865.\n",
      "Iteration 115, inertia 37110910.686589636.\n",
      "Iteration 116, inertia 37110900.807981916.\n",
      "Iteration 117, inertia 37110890.84880805.\n",
      "Iteration 118, inertia 37110881.25696449.\n",
      "Iteration 119, inertia 37110871.9674924.\n",
      "Iteration 120, inertia 37110865.02760926.\n",
      "Converged at iteration 120: center shift 0.00017303128909274427 within tolerance 0.00019002088770563274.\n",
      "Initialization complete\n",
      "Iteration 0, inertia 61078827.67832397.\n",
      "Iteration 1, inertia 38093040.4612736.\n",
      "Iteration 2, inertia 37486873.99079896.\n",
      "Iteration 3, inertia 37345565.57457882.\n",
      "Iteration 4, inertia 37269286.65186255.\n",
      "Iteration 5, inertia 37216594.92518024.\n",
      "Iteration 6, inertia 37174943.73098891.\n",
      "Iteration 7, inertia 37138360.09624709.\n",
      "Iteration 8, inertia 37104743.49181968.\n",
      "Iteration 9, inertia 37074112.89995066.\n",
      "Iteration 10, inertia 37048308.142424144.\n",
      "Iteration 11, inertia 37028029.57132672.\n",
      "Iteration 12, inertia 37012653.713731445.\n",
      "Iteration 13, inertia 37001053.62493584.\n",
      "Iteration 14, inertia 36992597.62701562.\n",
      "Iteration 15, inertia 36987021.11656602.\n",
      "Iteration 16, inertia 36983933.7570478.\n",
      "Iteration 17, inertia 36982330.07876306.\n",
      "Iteration 18, inertia 36981354.82377849.\n",
      "Iteration 19, inertia 36980622.27238719.\n",
      "Iteration 20, inertia 36980077.911813654.\n",
      "Iteration 21, inertia 36979645.14770365.\n",
      "Iteration 22, inertia 36979289.56048532.\n",
      "Iteration 23, inertia 36979008.987401806.\n",
      "Iteration 24, inertia 36978771.9346451.\n",
      "Iteration 25, inertia 36978546.022495516.\n",
      "Iteration 26, inertia 36978359.23986729.\n",
      "Iteration 27, inertia 36978184.371953554.\n",
      "Iteration 28, inertia 36978034.8247611.\n",
      "Iteration 29, inertia 36977905.9062275.\n",
      "Iteration 30, inertia 36977804.52061907.\n",
      "Iteration 31, inertia 36977718.9077757.\n",
      "Iteration 32, inertia 36977641.60666889.\n",
      "Iteration 33, inertia 36977556.7890127.\n",
      "Iteration 34, inertia 36977470.74950864.\n",
      "Iteration 35, inertia 36977387.19747761.\n",
      "Iteration 36, inertia 36977312.93298553.\n",
      "Iteration 37, inertia 36977224.39394336.\n",
      "Iteration 38, inertia 36977115.036992766.\n",
      "Iteration 39, inertia 36977034.100814484.\n",
      "Iteration 40, inertia 36976932.64394195.\n",
      "Iteration 41, inertia 36976823.224074416.\n",
      "Iteration 42, inertia 36976723.69011495.\n",
      "Iteration 43, inertia 36976622.80802538.\n",
      "Iteration 44, inertia 36976535.97885098.\n",
      "Iteration 45, inertia 36976427.224438705.\n",
      "Iteration 46, inertia 36976319.858377695.\n",
      "Iteration 47, inertia 36976221.90258248.\n",
      "Iteration 48, inertia 36976130.95476117.\n",
      "Iteration 49, inertia 36976053.84983597.\n",
      "Iteration 50, inertia 36975996.389531925.\n",
      "Iteration 51, inertia 36975948.63485964.\n",
      "Iteration 52, inertia 36975907.01864005.\n",
      "Iteration 53, inertia 36975868.4851039.\n",
      "Iteration 54, inertia 36975822.65173464.\n",
      "Iteration 55, inertia 36975772.63221492.\n",
      "Iteration 56, inertia 36975722.39943907.\n",
      "Iteration 57, inertia 36975679.89639197.\n",
      "Iteration 58, inertia 36975635.08380126.\n",
      "Iteration 59, inertia 36975591.62083933.\n",
      "Iteration 60, inertia 36975554.75128172.\n",
      "Iteration 61, inertia 36975512.79807553.\n",
      "Iteration 62, inertia 36975465.26165316.\n",
      "Iteration 63, inertia 36975421.26669519.\n",
      "Iteration 64, inertia 36975375.14864392.\n",
      "Iteration 65, inertia 36975325.27696326.\n",
      "Iteration 66, inertia 36975274.02174869.\n",
      "Iteration 67, inertia 36975230.630883455.\n",
      "Iteration 68, inertia 36975180.80353066.\n",
      "Iteration 69, inertia 36975132.348258615.\n",
      "Iteration 70, inertia 36975076.17119187.\n",
      "Iteration 71, inertia 36975003.6687193.\n",
      "Iteration 72, inertia 36974904.02023546.\n",
      "Iteration 73, inertia 36974790.56539195.\n",
      "Iteration 74, inertia 36974671.59594064.\n",
      "Iteration 75, inertia 36974532.47379788.\n",
      "Iteration 76, inertia 36974353.530856535.\n",
      "Iteration 77, inertia 36974110.07578966.\n",
      "Iteration 78, inertia 36973793.09540354.\n",
      "Iteration 79, inertia 36973435.59668498.\n",
      "Iteration 80, inertia 36973083.2371544.\n",
      "Iteration 81, inertia 36972722.49305305.\n",
      "Iteration 82, inertia 36972331.02567029.\n",
      "Iteration 83, inertia 36971850.25326465.\n",
      "Iteration 84, inertia 36971176.70236339.\n",
      "Iteration 85, inertia 36970216.66754502.\n",
      "Iteration 86, inertia 36968957.42550843.\n",
      "Iteration 87, inertia 36967450.78296419.\n",
      "Iteration 88, inertia 36965789.266750336.\n",
      "Iteration 89, inertia 36963836.43138239.\n",
      "Iteration 90, inertia 36961751.425493404.\n",
      "Iteration 91, inertia 36959538.2672739.\n",
      "Iteration 92, inertia 36957649.49768938.\n",
      "Iteration 93, inertia 36956150.24765078.\n",
      "Iteration 94, inertia 36955210.34897101.\n",
      "Iteration 95, inertia 36954615.42804445.\n",
      "Iteration 96, inertia 36954210.30881831.\n",
      "Iteration 97, inertia 36954012.47557452.\n",
      "Iteration 98, inertia 36953883.44484563.\n",
      "Iteration 99, inertia 36953779.88517992.\n",
      "Iteration 100, inertia 36953669.26617477.\n",
      "Iteration 101, inertia 36953587.72760165.\n",
      "Iteration 102, inertia 36953531.52956188.\n",
      "Iteration 103, inertia 36953497.276976004.\n",
      "Iteration 104, inertia 36953476.31824786.\n",
      "Iteration 105, inertia 36953456.96924609.\n",
      "Iteration 106, inertia 36953441.701777294.\n",
      "Iteration 107, inertia 36953418.949164264.\n",
      "Iteration 108, inertia 36953398.732737035.\n",
      "Iteration 109, inertia 36953384.203084536.\n",
      "Iteration 110, inertia 36953375.894311704.\n",
      "Iteration 111, inertia 36953369.462561876.\n",
      "Iteration 112, inertia 36953365.34107222.\n",
      "Iteration 113, inertia 36953361.53280388.\n",
      "Iteration 114, inertia 36953356.85699601.\n",
      "Iteration 115, inertia 36953353.059477456.\n",
      "Converged at iteration 115: center shift 0.00013996399736564746 within tolerance 0.00019002088770563274.\n",
      "Initialization complete\n",
      "Iteration 0, inertia 62073829.24607886.\n",
      "Iteration 1, inertia 38876829.17947247.\n",
      "Iteration 2, inertia 37936684.76198843.\n",
      "Iteration 3, inertia 37638552.90273094.\n",
      "Iteration 4, inertia 37478521.186210915.\n",
      "Iteration 5, inertia 37365887.23867458.\n",
      "Iteration 6, inertia 37289997.96987401.\n",
      "Iteration 7, inertia 37239336.28463311.\n",
      "Iteration 8, inertia 37202343.10552927.\n",
      "Iteration 9, inertia 37175478.55777367.\n",
      "Iteration 10, inertia 37158098.91461068.\n",
      "Iteration 11, inertia 37146131.30729288.\n",
      "Iteration 12, inertia 37137416.42346006.\n",
      "Iteration 13, inertia 37129481.40762488.\n",
      "Iteration 14, inertia 37121431.24892307.\n",
      "Iteration 15, inertia 37113031.645372465.\n",
      "Iteration 16, inertia 37104322.86744844.\n",
      "Iteration 17, inertia 37095936.30687914.\n",
      "Iteration 18, inertia 37088098.64891552.\n",
      "Iteration 19, inertia 37081519.87757644.\n",
      "Iteration 20, inertia 37075260.36965755.\n",
      "Iteration 21, inertia 37069320.69986691.\n",
      "Iteration 22, inertia 37063140.791910924.\n",
      "Iteration 23, inertia 37056344.48887417.\n",
      "Iteration 24, inertia 37048662.98533322.\n",
      "Iteration 25, inertia 37039793.31755173.\n",
      "Iteration 26, inertia 37029386.83016452.\n",
      "Iteration 27, inertia 37018783.223406956.\n",
      "Iteration 28, inertia 37009209.86651344.\n",
      "Iteration 29, inertia 37001766.36751784.\n",
      "Iteration 30, inertia 36996747.51613866.\n",
      "Iteration 31, inertia 36993402.08209647.\n",
      "Iteration 32, inertia 36991014.138007015.\n",
      "Iteration 33, inertia 36989421.16999449.\n",
      "Iteration 34, inertia 36988276.77898399.\n",
      "Iteration 35, inertia 36987559.758604586.\n",
      "Iteration 36, inertia 36987084.77225348.\n",
      "Iteration 37, inertia 36986770.83131348.\n",
      "Iteration 38, inertia 36986548.41988625.\n",
      "Iteration 39, inertia 36986402.62476784.\n",
      "Iteration 40, inertia 36986270.248784356.\n",
      "Iteration 41, inertia 36986163.263195135.\n",
      "Iteration 42, inertia 36986085.04637096.\n",
      "Iteration 43, inertia 36986025.78217311.\n",
      "Iteration 44, inertia 36985965.02148935.\n",
      "Iteration 45, inertia 36985902.1690995.\n",
      "Iteration 46, inertia 36985833.041047394.\n",
      "Iteration 47, inertia 36985783.13319.\n",
      "Iteration 48, inertia 36985734.8075123.\n",
      "Iteration 49, inertia 36985694.173367225.\n",
      "Iteration 50, inertia 36985651.676819146.\n",
      "Iteration 51, inertia 36985607.95537991.\n",
      "Iteration 52, inertia 36985558.76591638.\n",
      "Iteration 53, inertia 36985509.344421014.\n",
      "Iteration 54, inertia 36985463.20182703.\n",
      "Iteration 55, inertia 36985410.317282885.\n",
      "Iteration 56, inertia 36985357.01437001.\n",
      "Iteration 57, inertia 36985302.12840576.\n",
      "Iteration 58, inertia 36985241.12042406.\n",
      "Iteration 59, inertia 36985164.91164876.\n",
      "Iteration 60, inertia 36985088.58659563.\n",
      "Iteration 61, inertia 36984992.86682266.\n",
      "Iteration 62, inertia 36984905.05792802.\n",
      "Iteration 63, inertia 36984829.84357533.\n",
      "Iteration 64, inertia 36984744.405208334.\n",
      "Iteration 65, inertia 36984643.00027948.\n",
      "Iteration 66, inertia 36984533.51109598.\n",
      "Iteration 67, inertia 36984426.2320975.\n",
      "Iteration 68, inertia 36984321.50850718.\n",
      "Iteration 69, inertia 36984212.98155303.\n",
      "Iteration 70, inertia 36984105.02365516.\n",
      "Iteration 71, inertia 36984013.09326983.\n",
      "Iteration 72, inertia 36983938.408749595.\n",
      "Iteration 73, inertia 36983850.72247197.\n",
      "Iteration 74, inertia 36983747.31997676.\n",
      "Iteration 75, inertia 36983630.02094135.\n",
      "Iteration 76, inertia 36983501.50416948.\n",
      "Iteration 77, inertia 36983368.711339414.\n",
      "Iteration 78, inertia 36983222.835538775.\n",
      "Iteration 79, inertia 36983056.51349667.\n",
      "Iteration 80, inertia 36982892.09654578.\n",
      "Iteration 81, inertia 36982721.90228852.\n",
      "Iteration 82, inertia 36982543.627489194.\n",
      "Iteration 83, inertia 36982333.011925556.\n",
      "Iteration 84, inertia 36982095.89976088.\n",
      "Iteration 85, inertia 36981866.82112963.\n",
      "Iteration 86, inertia 36981645.8089978.\n",
      "Iteration 87, inertia 36981442.61859638.\n",
      "Iteration 88, inertia 36981242.960763626.\n",
      "Iteration 89, inertia 36981035.427128136.\n",
      "Iteration 90, inertia 36980831.34340733.\n",
      "Iteration 91, inertia 36980628.978583716.\n",
      "Iteration 92, inertia 36980408.94596836.\n",
      "Iteration 93, inertia 36980153.34991766.\n",
      "Iteration 94, inertia 36979897.008839436.\n",
      "Iteration 95, inertia 36979632.23047865.\n",
      "Iteration 96, inertia 36979362.33888423.\n",
      "Iteration 97, inertia 36979100.23214089.\n",
      "Iteration 98, inertia 36978823.80067908.\n",
      "Iteration 99, inertia 36978579.52028825.\n",
      "Iteration 100, inertia 36978351.31562654.\n",
      "Iteration 101, inertia 36978134.0424394.\n",
      "Iteration 102, inertia 36977906.415983245.\n",
      "Iteration 103, inertia 36977605.08896245.\n",
      "Iteration 104, inertia 36977313.79619934.\n",
      "Iteration 105, inertia 36977012.96394688.\n",
      "Iteration 106, inertia 36976673.85902894.\n",
      "Iteration 107, inertia 36976322.99937631.\n",
      "Iteration 108, inertia 36975928.15645701.\n",
      "Iteration 109, inertia 36975497.32777177.\n",
      "Iteration 110, inertia 36975106.80067334.\n",
      "Iteration 111, inertia 36974767.24707912.\n",
      "Iteration 112, inertia 36974413.184260316.\n",
      "Iteration 113, inertia 36974096.31529313.\n",
      "Iteration 114, inertia 36973791.44055364.\n",
      "Iteration 115, inertia 36973525.10831955.\n",
      "Iteration 116, inertia 36973282.33348628.\n",
      "Iteration 117, inertia 36973022.41035116.\n",
      "Iteration 118, inertia 36972791.20345919.\n",
      "Iteration 119, inertia 36972546.481017604.\n",
      "Iteration 120, inertia 36972334.194757916.\n",
      "Iteration 121, inertia 36972157.88339518.\n",
      "Iteration 122, inertia 36971983.43357099.\n",
      "Iteration 123, inertia 36971829.122234926.\n",
      "Iteration 124, inertia 36971683.2745127.\n",
      "Iteration 125, inertia 36971537.5645546.\n",
      "Iteration 126, inertia 36971394.577913225.\n",
      "Iteration 127, inertia 36971259.539036006.\n",
      "Iteration 128, inertia 36971143.598306336.\n",
      "Iteration 129, inertia 36971036.079113625.\n",
      "Iteration 130, inertia 36970931.76558871.\n",
      "Iteration 131, inertia 36970817.375674374.\n",
      "Iteration 132, inertia 36970674.76345804.\n",
      "Iteration 133, inertia 36970539.56361365.\n",
      "Iteration 134, inertia 36970410.63959065.\n",
      "Iteration 135, inertia 36970289.26447643.\n",
      "Iteration 136, inertia 36970184.68104893.\n",
      "Iteration 137, inertia 36970088.08516518.\n",
      "Iteration 138, inertia 36969994.11074321.\n",
      "Iteration 139, inertia 36969903.4954246.\n",
      "Iteration 140, inertia 36969816.041278146.\n",
      "Iteration 141, inertia 36969749.25704739.\n",
      "Iteration 142, inertia 36969700.0816783.\n",
      "Iteration 143, inertia 36969650.165108524.\n",
      "Iteration 144, inertia 36969597.85363712.\n",
      "Iteration 145, inertia 36969548.74810643.\n",
      "Iteration 146, inertia 36969512.475705765.\n",
      "Iteration 147, inertia 36969470.60574658.\n",
      "Iteration 148, inertia 36969431.30211303.\n",
      "Iteration 149, inertia 36969399.85035865.\n",
      "Iteration 150, inertia 36969368.56796929.\n",
      "Iteration 151, inertia 36969336.6125413.\n",
      "Iteration 152, inertia 36969298.848373465.\n",
      "Iteration 153, inertia 36969263.857637554.\n",
      "Iteration 154, inertia 36969233.604766525.\n",
      "Iteration 155, inertia 36969208.04401206.\n",
      "Iteration 156, inertia 36969184.84361266.\n",
      "Iteration 157, inertia 36969159.070054166.\n",
      "Iteration 158, inertia 36969132.23105468.\n",
      "Iteration 159, inertia 36969103.2358675.\n",
      "Iteration 160, inertia 36969071.07446683.\n",
      "Iteration 161, inertia 36969034.75323618.\n",
      "Iteration 162, inertia 36968999.88675171.\n",
      "Iteration 163, inertia 36968966.24695585.\n",
      "Iteration 164, inertia 36968934.09743875.\n",
      "Iteration 165, inertia 36968907.1649551.\n",
      "Iteration 166, inertia 36968872.40643675.\n",
      "Iteration 167, inertia 36968835.4389537.\n",
      "Iteration 168, inertia 36968793.407380804.\n",
      "Iteration 169, inertia 36968762.628722966.\n",
      "Iteration 170, inertia 36968738.94896663.\n",
      "Iteration 171, inertia 36968712.58261353.\n",
      "Iteration 172, inertia 36968679.638157524.\n",
      "Iteration 173, inertia 36968644.18202201.\n",
      "Iteration 174, inertia 36968607.59279808.\n",
      "Iteration 175, inertia 36968571.340838425.\n",
      "Iteration 176, inertia 36968543.575159006.\n",
      "Iteration 177, inertia 36968513.77333422.\n",
      "Iteration 178, inertia 36968482.2011158.\n",
      "Iteration 179, inertia 36968449.6453022.\n",
      "Iteration 180, inertia 36968418.25699262.\n",
      "Iteration 181, inertia 36968392.55974475.\n",
      "Iteration 182, inertia 36968370.773883656.\n",
      "Iteration 183, inertia 36968350.85057658.\n",
      "Iteration 184, inertia 36968331.40680372.\n",
      "Iteration 185, inertia 36968312.6550267.\n",
      "Iteration 186, inertia 36968294.154012606.\n",
      "Iteration 187, inertia 36968276.554515176.\n",
      "Iteration 188, inertia 36968261.960730895.\n",
      "Iteration 189, inertia 36968244.83962711.\n",
      "Iteration 190, inertia 36968228.41205627.\n",
      "Iteration 191, inertia 36968211.94083093.\n",
      "Iteration 192, inertia 36968197.62935725.\n",
      "Iteration 193, inertia 36968184.767399885.\n",
      "Iteration 194, inertia 36968168.37217855.\n",
      "Iteration 195, inertia 36968151.74108947.\n",
      "Iteration 196, inertia 36968125.82687865.\n",
      "Iteration 197, inertia 36968100.7715596.\n",
      "Iteration 198, inertia 36968077.88207467.\n",
      "Iteration 199, inertia 36968056.49313497.\n",
      "Initialization complete\n",
      "Iteration 0, inertia 60671499.43668303.\n",
      "Iteration 1, inertia 38138814.22745699.\n",
      "Iteration 2, inertia 37562151.69165166.\n",
      "Iteration 3, inertia 37373086.79784177.\n",
      "Iteration 4, inertia 37255085.5961299.\n",
      "Iteration 5, inertia 37184034.43515227.\n",
      "Iteration 6, inertia 37152615.603133254.\n",
      "Iteration 7, inertia 37136596.80796299.\n",
      "Iteration 8, inertia 37125672.241310276.\n",
      "Iteration 9, inertia 37116487.57818049.\n",
      "Iteration 10, inertia 37108018.62393356.\n",
      "Iteration 11, inertia 37100170.31095374.\n",
      "Iteration 12, inertia 37092641.273649976.\n",
      "Iteration 13, inertia 37085165.004126355.\n",
      "Iteration 14, inertia 37078011.17295502.\n",
      "Iteration 15, inertia 37070971.94162815.\n",
      "Iteration 16, inertia 37063977.62763064.\n",
      "Iteration 17, inertia 37057169.43173168.\n",
      "Iteration 18, inertia 37050737.61276806.\n",
      "Iteration 19, inertia 37044741.08314319.\n",
      "Iteration 20, inertia 37039165.29522043.\n",
      "Iteration 21, inertia 37034160.0397943.\n",
      "Iteration 22, inertia 37029331.62144065.\n",
      "Iteration 23, inertia 37024366.74264297.\n",
      "Iteration 24, inertia 37019260.8878109.\n",
      "Iteration 25, inertia 37014233.63709232.\n",
      "Iteration 26, inertia 37009376.312444985.\n",
      "Iteration 27, inertia 37004875.85673931.\n",
      "Iteration 28, inertia 37000618.17353643.\n",
      "Iteration 29, inertia 36996837.19386581.\n",
      "Iteration 30, inertia 36993252.28386853.\n",
      "Iteration 31, inertia 36989848.67606589.\n",
      "Iteration 32, inertia 36986757.409877054.\n",
      "Iteration 33, inertia 36984213.28901952.\n",
      "Iteration 34, inertia 36981906.6103914.\n",
      "Iteration 35, inertia 36979823.598546706.\n",
      "Iteration 36, inertia 36977991.40303048.\n",
      "Iteration 37, inertia 36976390.48674415.\n",
      "Iteration 38, inertia 36974999.47451435.\n",
      "Iteration 39, inertia 36973779.98654754.\n",
      "Iteration 40, inertia 36972764.12474752.\n",
      "Iteration 41, inertia 36971905.5809394.\n",
      "Iteration 42, inertia 36971185.192689486.\n",
      "Iteration 43, inertia 36970523.37182373.\n",
      "Iteration 44, inertia 36969955.532719925.\n",
      "Iteration 45, inertia 36969474.381225936.\n",
      "Iteration 46, inertia 36969075.0469844.\n",
      "Iteration 47, inertia 36968777.793454096.\n",
      "Iteration 48, inertia 36968523.99002625.\n",
      "Iteration 49, inertia 36968338.29833059.\n",
      "Iteration 50, inertia 36968197.30514424.\n",
      "Iteration 51, inertia 36968094.33866201.\n",
      "Iteration 52, inertia 36967999.6768934.\n",
      "Iteration 53, inertia 36967934.11034861.\n",
      "Iteration 54, inertia 36967885.94897896.\n",
      "Iteration 55, inertia 36967838.54997089.\n",
      "Iteration 56, inertia 36967791.39682346.\n",
      "Iteration 57, inertia 36967760.68957789.\n",
      "Iteration 58, inertia 36967735.486407794.\n",
      "Iteration 59, inertia 36967718.12380814.\n",
      "Iteration 60, inertia 36967703.16428715.\n",
      "Iteration 61, inertia 36967693.18940156.\n",
      "Iteration 62, inertia 36967686.34174875.\n",
      "Iteration 63, inertia 36967677.760891445.\n",
      "Iteration 64, inertia 36967669.07964015.\n",
      "Iteration 65, inertia 36967660.83113481.\n",
      "Iteration 66, inertia 36967652.79610779.\n",
      "Iteration 67, inertia 36967645.529636174.\n",
      "Iteration 68, inertia 36967636.98013057.\n",
      "Iteration 69, inertia 36967626.985220976.\n",
      "Iteration 70, inertia 36967617.90033765.\n",
      "Iteration 71, inertia 36967607.97906475.\n",
      "Iteration 72, inertia 36967599.14750031.\n",
      "Iteration 73, inertia 36967593.91545175.\n",
      "Converged at iteration 73: center shift 0.00016696335307853755 within tolerance 0.00019002088770563274.\n",
      "Initialization complete\n",
      "Iteration 0, inertia 61952113.40342855.\n",
      "Iteration 1, inertia 38468694.89551484.\n",
      "Iteration 2, inertia 37721615.70384348.\n",
      "Iteration 3, inertia 37522499.24920692.\n",
      "Iteration 4, inertia 37413708.23427742.\n",
      "Iteration 5, inertia 37331253.006877154.\n",
      "Iteration 6, inertia 37265718.6774994.\n",
      "Iteration 7, inertia 37216878.84539525.\n",
      "Iteration 8, inertia 37182940.479161955.\n",
      "Iteration 9, inertia 37159434.41625114.\n",
      "Iteration 10, inertia 37141254.251584016.\n",
      "Iteration 11, inertia 37125852.70241647.\n",
      "Iteration 12, inertia 37112708.9813692.\n",
      "Iteration 13, inertia 37101546.55973206.\n",
      "Iteration 14, inertia 37092961.78338463.\n",
      "Iteration 15, inertia 37086450.40806022.\n",
      "Iteration 16, inertia 37081181.33240702.\n",
      "Iteration 17, inertia 37076834.27521463.\n",
      "Iteration 18, inertia 37073174.76807938.\n",
      "Iteration 19, inertia 37070118.669741325.\n",
      "Iteration 20, inertia 37067062.168995835.\n",
      "Iteration 21, inertia 37063974.66664651.\n",
      "Iteration 22, inertia 37060766.364173084.\n",
      "Iteration 23, inertia 37057713.11774732.\n",
      "Iteration 24, inertia 37054745.66616848.\n",
      "Iteration 25, inertia 37052043.79967369.\n",
      "Iteration 26, inertia 37049372.71531866.\n",
      "Iteration 27, inertia 37046641.89078092.\n",
      "Iteration 28, inertia 37043782.76572676.\n",
      "Iteration 29, inertia 37040719.43586966.\n",
      "Iteration 30, inertia 37037545.58823348.\n",
      "Iteration 31, inertia 37034100.03866745.\n",
      "Iteration 32, inertia 37030314.14465619.\n",
      "Iteration 33, inertia 37025667.66398524.\n",
      "Iteration 34, inertia 37019701.00522359.\n",
      "Iteration 35, inertia 37012947.37084353.\n",
      "Iteration 36, inertia 37004628.54409315.\n",
      "Iteration 37, inertia 36995427.7927479.\n",
      "Iteration 38, inertia 36987229.36437729.\n",
      "Iteration 39, inertia 36981288.006801754.\n",
      "Iteration 40, inertia 36976851.06477661.\n",
      "Iteration 41, inertia 36973748.88750655.\n",
      "Iteration 42, inertia 36971755.221985646.\n",
      "Iteration 43, inertia 36970433.896739446.\n",
      "Iteration 44, inertia 36969629.26448411.\n",
      "Iteration 45, inertia 36969064.35687926.\n",
      "Iteration 46, inertia 36968703.77487634.\n",
      "Iteration 47, inertia 36968437.21634173.\n",
      "Iteration 48, inertia 36968249.764997065.\n",
      "Iteration 49, inertia 36968103.73709935.\n",
      "Iteration 50, inertia 36967979.73913003.\n",
      "Iteration 51, inertia 36967871.90648252.\n",
      "Iteration 52, inertia 36967779.864578046.\n",
      "Iteration 53, inertia 36967712.93757367.\n",
      "Iteration 54, inertia 36967657.497375384.\n",
      "Iteration 55, inertia 36967613.87217825.\n",
      "Iteration 56, inertia 36967572.539881565.\n",
      "Iteration 57, inertia 36967533.24935266.\n",
      "Iteration 58, inertia 36967496.09924346.\n",
      "Iteration 59, inertia 36967451.39984296.\n",
      "Iteration 60, inertia 36967412.20412795.\n",
      "Iteration 61, inertia 36967370.93215201.\n",
      "Iteration 62, inertia 36967342.306536525.\n",
      "Iteration 63, inertia 36967319.24258529.\n",
      "Iteration 64, inertia 36967301.70061791.\n",
      "Iteration 65, inertia 36967291.78244444.\n",
      "Iteration 66, inertia 36967284.260226764.\n",
      "Iteration 67, inertia 36967278.48018862.\n",
      "Iteration 68, inertia 36967272.649616614.\n",
      "Converged at iteration 68: center shift 0.00018022357157734196 within tolerance 0.00019002088770563274.\n",
      "Initialization complete\n",
      "Iteration 0, inertia 61427720.3164441.\n",
      "Iteration 1, inertia 38228669.59457588.\n",
      "Iteration 2, inertia 37610018.12270875.\n",
      "Iteration 3, inertia 37440199.048605636.\n",
      "Iteration 4, inertia 37347970.395956166.\n",
      "Iteration 5, inertia 37266414.96216838.\n",
      "Iteration 6, inertia 37191727.14152451.\n",
      "Iteration 7, inertia 37142568.744516015.\n",
      "Iteration 8, inertia 37115020.743136205.\n",
      "Iteration 9, inertia 37098271.75638252.\n",
      "Iteration 10, inertia 37086593.077516146.\n",
      "Iteration 11, inertia 37077952.250888586.\n",
      "Iteration 12, inertia 37071232.89777814.\n",
      "Iteration 13, inertia 37065776.72662861.\n",
      "Iteration 14, inertia 37061096.55220096.\n",
      "Iteration 15, inertia 37057187.46898749.\n",
      "Iteration 16, inertia 37053744.526885554.\n",
      "Iteration 17, inertia 37050667.89327646.\n",
      "Iteration 18, inertia 37047688.9784283.\n",
      "Iteration 19, inertia 37045034.25657308.\n",
      "Iteration 20, inertia 37042634.36306787.\n",
      "Iteration 21, inertia 37040445.07784186.\n",
      "Iteration 22, inertia 37038401.684004836.\n",
      "Iteration 23, inertia 37036559.639139846.\n",
      "Iteration 24, inertia 37034849.95949877.\n",
      "Iteration 25, inertia 37033145.67764254.\n",
      "Iteration 26, inertia 37031525.72888305.\n",
      "Iteration 27, inertia 37030012.48244767.\n",
      "Iteration 28, inertia 37028602.94482551.\n",
      "Iteration 29, inertia 37027229.60915029.\n",
      "Iteration 30, inertia 37025938.98817102.\n",
      "Iteration 31, inertia 37024662.16017388.\n",
      "Iteration 32, inertia 37023316.959047824.\n",
      "Iteration 33, inertia 37021911.58963826.\n",
      "Iteration 34, inertia 37020495.2406267.\n",
      "Iteration 35, inertia 37019143.96388592.\n",
      "Iteration 36, inertia 37017778.072184384.\n",
      "Iteration 37, inertia 37016477.96384995.\n",
      "Iteration 38, inertia 37015302.46868498.\n",
      "Iteration 39, inertia 37014103.918414086.\n",
      "Iteration 40, inertia 37012856.860342816.\n",
      "Iteration 41, inertia 37011665.2639741.\n",
      "Iteration 42, inertia 37010395.715085536.\n",
      "Iteration 43, inertia 37009040.59823546.\n",
      "Iteration 44, inertia 37007588.4037447.\n",
      "Iteration 45, inertia 37006102.16744112.\n",
      "Iteration 46, inertia 37004482.35205435.\n",
      "Iteration 47, inertia 37002760.71285465.\n",
      "Iteration 48, inertia 37000912.22869034.\n",
      "Iteration 49, inertia 36998983.06187725.\n",
      "Iteration 50, inertia 36996874.751068294.\n",
      "Iteration 51, inertia 36994727.22176129.\n",
      "Iteration 52, inertia 36992552.07995.\n",
      "Iteration 53, inertia 36990434.823738694.\n",
      "Iteration 54, inertia 36988441.57591074.\n",
      "Iteration 55, inertia 36986769.51359941.\n",
      "Iteration 56, inertia 36985170.46947598.\n",
      "Iteration 57, inertia 36983851.50706797.\n",
      "Iteration 58, inertia 36982759.76856746.\n",
      "Iteration 59, inertia 36981770.29455202.\n",
      "Iteration 60, inertia 36980989.02805095.\n",
      "Iteration 61, inertia 36980385.84638282.\n",
      "Iteration 62, inertia 36979878.03267548.\n",
      "Iteration 63, inertia 36979417.98473604.\n",
      "Iteration 64, inertia 36979050.90106934.\n",
      "Iteration 65, inertia 36978729.42317466.\n",
      "Iteration 66, inertia 36978486.45253101.\n",
      "Iteration 67, inertia 36978293.97497553.\n",
      "Iteration 68, inertia 36978141.32167362.\n",
      "Iteration 69, inertia 36978022.23146441.\n",
      "Iteration 70, inertia 36977921.728737354.\n",
      "Iteration 71, inertia 36977844.6844311.\n",
      "Iteration 72, inertia 36977774.978637725.\n",
      "Iteration 73, inertia 36977716.268319406.\n",
      "Iteration 74, inertia 36977663.14338238.\n",
      "Iteration 75, inertia 36977618.14734367.\n",
      "Iteration 76, inertia 36977577.7408853.\n",
      "Iteration 77, inertia 36977545.10132177.\n",
      "Iteration 78, inertia 36977512.271658175.\n",
      "Iteration 79, inertia 36977473.25033405.\n",
      "Iteration 80, inertia 36977438.55505321.\n",
      "Iteration 81, inertia 36977401.31600129.\n",
      "Iteration 82, inertia 36977362.78006369.\n",
      "Iteration 83, inertia 36977317.62386633.\n",
      "Iteration 84, inertia 36977251.80908068.\n",
      "Iteration 85, inertia 36977176.895594254.\n",
      "Iteration 86, inertia 36977092.69733491.\n",
      "Iteration 87, inertia 36977028.373324424.\n",
      "Iteration 88, inertia 36976958.09023162.\n",
      "Iteration 89, inertia 36976894.43386549.\n",
      "Iteration 90, inertia 36976828.749306194.\n",
      "Iteration 91, inertia 36976740.384941414.\n",
      "Iteration 92, inertia 36976643.02474132.\n",
      "Iteration 93, inertia 36976558.58110378.\n",
      "Iteration 94, inertia 36976478.87775351.\n",
      "Iteration 95, inertia 36976402.49328658.\n",
      "Iteration 96, inertia 36976334.79337556.\n",
      "Iteration 97, inertia 36976278.00030672.\n",
      "Iteration 98, inertia 36976220.34143998.\n",
      "Iteration 99, inertia 36976166.12403337.\n",
      "Iteration 100, inertia 36976115.51147715.\n",
      "Iteration 101, inertia 36976076.41512719.\n",
      "Iteration 102, inertia 36976044.17112673.\n",
      "Iteration 103, inertia 36976016.174453795.\n",
      "Iteration 104, inertia 36975987.6227162.\n",
      "Iteration 105, inertia 36975959.89439086.\n",
      "Iteration 106, inertia 36975925.95909849.\n",
      "Iteration 107, inertia 36975888.03824957.\n",
      "Iteration 108, inertia 36975843.322473034.\n",
      "Iteration 109, inertia 36975790.41137113.\n",
      "Iteration 110, inertia 36975753.46506159.\n",
      "Iteration 111, inertia 36975718.8056805.\n",
      "Iteration 112, inertia 36975687.10933537.\n",
      "Iteration 113, inertia 36975658.67718452.\n",
      "Iteration 114, inertia 36975627.1433431.\n",
      "Iteration 115, inertia 36975586.10111005.\n",
      "Iteration 116, inertia 36975541.801094994.\n",
      "Iteration 117, inertia 36975492.870226204.\n",
      "Iteration 118, inertia 36975447.702197425.\n",
      "Iteration 119, inertia 36975402.272374205.\n",
      "Iteration 120, inertia 36975349.21287632.\n",
      "Iteration 121, inertia 36975294.10172303.\n",
      "Iteration 122, inertia 36975242.73607366.\n",
      "Iteration 123, inertia 36975182.59591533.\n",
      "Iteration 124, inertia 36975131.94222696.\n",
      "Iteration 125, inertia 36975069.23666479.\n",
      "Iteration 126, inertia 36975006.85317988.\n",
      "Iteration 127, inertia 36974917.68323033.\n",
      "Iteration 128, inertia 36974821.6124344.\n",
      "Iteration 129, inertia 36974709.111858115.\n",
      "Iteration 130, inertia 36974577.69137078.\n",
      "Iteration 131, inertia 36974410.50689367.\n",
      "Iteration 132, inertia 36974186.07874087.\n",
      "Iteration 133, inertia 36973917.877888516.\n",
      "Iteration 134, inertia 36973556.1313099.\n",
      "Iteration 135, inertia 36973200.82623454.\n",
      "Iteration 136, inertia 36972843.91642881.\n",
      "Iteration 137, inertia 36972472.930723.\n",
      "Iteration 138, inertia 36972047.50555939.\n",
      "Iteration 139, inertia 36971454.37551896.\n",
      "Iteration 140, inertia 36970632.56580641.\n",
      "Iteration 141, inertia 36969541.95548632.\n",
      "Iteration 142, inertia 36968167.770329475.\n",
      "Iteration 143, inertia 36966673.83136659.\n",
      "Iteration 144, inertia 36964944.68078241.\n",
      "Iteration 145, inertia 36962953.13723652.\n",
      "Iteration 146, inertia 36960720.83269553.\n",
      "Iteration 147, inertia 36958664.407599926.\n",
      "Iteration 148, inertia 36956858.090469494.\n",
      "Iteration 149, inertia 36955636.75701257.\n",
      "Iteration 150, inertia 36954888.301649526.\n",
      "Iteration 151, inertia 36954380.90090426.\n",
      "Iteration 152, inertia 36954088.24161512.\n",
      "Iteration 153, inertia 36953940.96768897.\n",
      "Iteration 154, inertia 36953834.17322002.\n",
      "Iteration 155, inertia 36953731.86739072.\n",
      "Iteration 156, inertia 36953639.08622122.\n",
      "Iteration 157, inertia 36953563.827255905.\n",
      "Iteration 158, inertia 36953518.0665548.\n",
      "Iteration 159, inertia 36953492.743808866.\n",
      "Iteration 160, inertia 36953473.80718688.\n",
      "Iteration 161, inertia 36953456.47271634.\n",
      "Iteration 162, inertia 36953442.25136833.\n",
      "Iteration 163, inertia 36953419.20848569.\n",
      "Iteration 164, inertia 36953397.507720426.\n",
      "Iteration 165, inertia 36953385.08164816.\n",
      "Iteration 166, inertia 36953376.16283785.\n",
      "Iteration 167, inertia 36953369.76796824.\n",
      "Iteration 168, inertia 36953364.631458044.\n",
      "Iteration 169, inertia 36953360.59674049.\n",
      "Iteration 170, inertia 36953356.25920338.\n",
      "Iteration 171, inertia 36953352.65312004.\n",
      "Converged at iteration 171: center shift 0.00015075574653647085 within tolerance 0.00019002088770563274.\n",
      "Initialization complete\n",
      "Iteration 0, inertia 60206945.591857225.\n",
      "Iteration 1, inertia 37958758.536088884.\n",
      "Iteration 2, inertia 37401048.54088357.\n",
      "Iteration 3, inertia 37241518.52254595.\n",
      "Iteration 4, inertia 37149908.55108179.\n",
      "Iteration 5, inertia 37091511.68900676.\n",
      "Iteration 6, inertia 37058766.785145424.\n",
      "Iteration 7, inertia 37042936.05993392.\n",
      "Iteration 8, inertia 37034578.12042923.\n",
      "Iteration 9, inertia 37029471.06331353.\n",
      "Iteration 10, inertia 37025744.52430407.\n",
      "Iteration 11, inertia 37022851.950856246.\n",
      "Iteration 12, inertia 37020572.76704439.\n",
      "Iteration 13, inertia 37018466.41391927.\n",
      "Iteration 14, inertia 37016689.90649906.\n",
      "Iteration 15, inertia 37014911.56641775.\n",
      "Iteration 16, inertia 37013290.56708083.\n",
      "Iteration 17, inertia 37011753.81132368.\n",
      "Iteration 18, inertia 37010330.30636903.\n",
      "Iteration 19, inertia 37008998.46917737.\n",
      "Iteration 20, inertia 37007681.2817239.\n",
      "Iteration 21, inertia 37006518.12275758.\n",
      "Iteration 22, inertia 37005450.034225546.\n",
      "Iteration 23, inertia 37004461.28629329.\n",
      "Iteration 24, inertia 37003462.95413106.\n",
      "Iteration 25, inertia 37002452.50699618.\n",
      "Iteration 26, inertia 37001410.57401933.\n",
      "Iteration 27, inertia 37000363.17265391.\n",
      "Iteration 28, inertia 36999305.67794661.\n",
      "Iteration 29, inertia 36998255.96729003.\n",
      "Iteration 30, inertia 36997310.328874975.\n",
      "Iteration 31, inertia 36996359.08689345.\n",
      "Iteration 32, inertia 36995475.8975759.\n",
      "Iteration 33, inertia 36994678.43687468.\n",
      "Iteration 34, inertia 36993909.35216343.\n",
      "Iteration 35, inertia 36993159.1515098.\n",
      "Iteration 36, inertia 36992503.09237842.\n",
      "Iteration 37, inertia 36991808.96135252.\n",
      "Iteration 38, inertia 36991100.5851524.\n",
      "Iteration 39, inertia 36990451.15694744.\n",
      "Iteration 40, inertia 36989730.58228053.\n",
      "Iteration 41, inertia 36988970.20293256.\n",
      "Iteration 42, inertia 36988243.51113131.\n",
      "Iteration 43, inertia 36987602.01286303.\n",
      "Iteration 44, inertia 36987039.73650268.\n",
      "Iteration 45, inertia 36986521.938200794.\n",
      "Iteration 46, inertia 36985953.59728999.\n",
      "Iteration 47, inertia 36985356.39801326.\n",
      "Iteration 48, inertia 36984780.12705001.\n",
      "Iteration 49, inertia 36984200.41118813.\n",
      "Iteration 50, inertia 36983552.845259614.\n",
      "Iteration 51, inertia 36982818.54096931.\n",
      "Iteration 52, inertia 36982050.11372234.\n",
      "Iteration 53, inertia 36981317.01785036.\n",
      "Iteration 54, inertia 36980546.560897246.\n",
      "Iteration 55, inertia 36979820.666088305.\n",
      "Iteration 56, inertia 36979059.239296146.\n",
      "Iteration 57, inertia 36978298.49944808.\n",
      "Iteration 58, inertia 36977544.80071373.\n",
      "Iteration 59, inertia 36976759.415754825.\n",
      "Iteration 60, inertia 36975931.75267058.\n",
      "Iteration 61, inertia 36975222.09585815.\n",
      "Iteration 62, inertia 36974553.61517688.\n",
      "Iteration 63, inertia 36973904.42572031.\n",
      "Iteration 64, inertia 36973239.56646165.\n",
      "Iteration 65, inertia 36972613.27153872.\n",
      "Iteration 66, inertia 36972073.33831258.\n",
      "Iteration 67, inertia 36971597.44890314.\n",
      "Iteration 68, inertia 36971167.0088599.\n",
      "Iteration 69, inertia 36970745.59011144.\n",
      "Iteration 70, inertia 36970396.23040445.\n",
      "Iteration 71, inertia 36970103.05212564.\n",
      "Iteration 72, inertia 36969845.95089903.\n",
      "Iteration 73, inertia 36969599.4581461.\n",
      "Iteration 74, inertia 36969368.18192007.\n",
      "Iteration 75, inertia 36969184.535570726.\n",
      "Iteration 76, inertia 36969004.53346014.\n",
      "Iteration 77, inertia 36968852.6109665.\n",
      "Iteration 78, inertia 36968712.00054006.\n",
      "Iteration 79, inertia 36968572.25751211.\n",
      "Iteration 80, inertia 36968423.68544388.\n",
      "Iteration 81, inertia 36968284.17045667.\n",
      "Iteration 82, inertia 36968166.277021416.\n",
      "Iteration 83, inertia 36968067.1960215.\n",
      "Iteration 84, inertia 36967985.46983932.\n",
      "Iteration 85, inertia 36967921.31150068.\n",
      "Iteration 86, inertia 36967864.988741726.\n",
      "Iteration 87, inertia 36967810.56764779.\n",
      "Iteration 88, inertia 36967764.74262022.\n",
      "Iteration 89, inertia 36967726.421377815.\n",
      "Iteration 90, inertia 36967701.15604577.\n",
      "Iteration 91, inertia 36967679.64318106.\n",
      "Iteration 92, inertia 36967662.556756794.\n",
      "Iteration 93, inertia 36967645.01947558.\n",
      "Iteration 94, inertia 36967627.189932495.\n",
      "Iteration 95, inertia 36967610.27571284.\n",
      "Iteration 96, inertia 36967595.47546115.\n",
      "Iteration 97, inertia 36967578.71372697.\n",
      "Iteration 98, inertia 36967563.74666265.\n",
      "Iteration 99, inertia 36967547.93337819.\n",
      "Iteration 100, inertia 36967529.27693512.\n",
      "Iteration 101, inertia 36967515.53299325.\n",
      "Iteration 102, inertia 36967497.81159563.\n",
      "Iteration 103, inertia 36967477.02652229.\n",
      "Iteration 104, inertia 36967458.62948578.\n",
      "Iteration 105, inertia 36967443.07826402.\n",
      "Iteration 106, inertia 36967429.6756986.\n",
      "Iteration 107, inertia 36967415.69878371.\n",
      "Iteration 108, inertia 36967403.53453719.\n",
      "Iteration 109, inertia 36967393.096509084.\n",
      "Iteration 110, inertia 36967382.003296316.\n",
      "Iteration 111, inertia 36967373.973279305.\n",
      "Iteration 112, inertia 36967368.071729966.\n",
      "Converged at iteration 112: center shift 0.00015772399433396602 within tolerance 0.00019002088770563274.\n",
      "Initialization complete\n",
      "Iteration 0, inertia 60055195.40148391.\n",
      "Iteration 1, inertia 38286923.169341065.\n",
      "Iteration 2, inertia 37680755.56310554.\n",
      "Iteration 3, inertia 37445067.79342924.\n",
      "Iteration 4, inertia 37296073.87504811.\n",
      "Iteration 5, inertia 37192801.474621914.\n",
      "Iteration 6, inertia 37125851.73647399.\n",
      "Iteration 7, inertia 37085992.68721165.\n",
      "Iteration 8, inertia 37063072.76152504.\n",
      "Iteration 9, inertia 37047170.600701205.\n",
      "Iteration 10, inertia 37034107.54618117.\n",
      "Iteration 11, inertia 37022024.80871413.\n",
      "Iteration 12, inertia 37010799.26905908.\n",
      "Iteration 13, inertia 37001833.0904766.\n",
      "Iteration 14, inertia 36995009.3806965.\n",
      "Iteration 15, inertia 36990080.19770137.\n",
      "Iteration 16, inertia 36986133.04888065.\n",
      "Iteration 17, inertia 36983000.28126947.\n",
      "Iteration 18, inertia 36980500.24815687.\n",
      "Iteration 19, inertia 36978545.052578665.\n",
      "Iteration 20, inertia 36976787.987860136.\n",
      "Iteration 21, inertia 36975309.92040901.\n",
      "Iteration 22, inertia 36973989.26824467.\n",
      "Iteration 23, inertia 36972888.023665674.\n",
      "Iteration 24, inertia 36971924.874166675.\n",
      "Iteration 25, inertia 36971170.99925216.\n",
      "Iteration 26, inertia 36970520.93554312.\n",
      "Iteration 27, inertia 36969995.77410777.\n",
      "Iteration 28, inertia 36969565.55663169.\n",
      "Iteration 29, inertia 36969230.062239796.\n",
      "Iteration 30, inertia 36968910.01595542.\n",
      "Iteration 31, inertia 36968656.72373879.\n",
      "Iteration 32, inertia 36968459.64728805.\n",
      "Iteration 33, inertia 36968303.90275832.\n",
      "Iteration 34, inertia 36968165.50636968.\n",
      "Iteration 35, inertia 36968050.69954303.\n",
      "Iteration 36, inertia 36967953.61125721.\n",
      "Iteration 37, inertia 36967861.44387325.\n",
      "Iteration 38, inertia 36967778.597533345.\n",
      "Iteration 39, inertia 36967713.013012886.\n",
      "Iteration 40, inertia 36967666.840562776.\n",
      "Iteration 41, inertia 36967620.8174714.\n",
      "Iteration 42, inertia 36967583.314882055.\n",
      "Iteration 43, inertia 36967552.994081184.\n",
      "Iteration 44, inertia 36967526.68116343.\n",
      "Iteration 45, inertia 36967501.78828218.\n",
      "Iteration 46, inertia 36967468.18505496.\n",
      "Iteration 47, inertia 36967436.74577172.\n",
      "Iteration 48, inertia 36967405.333096914.\n",
      "Iteration 49, inertia 36967381.114385255.\n",
      "Iteration 50, inertia 36967360.06049991.\n",
      "Iteration 51, inertia 36967344.96830381.\n",
      "Iteration 52, inertia 36967332.61038015.\n",
      "Iteration 53, inertia 36967323.077021755.\n",
      "Iteration 54, inertia 36967313.84030676.\n",
      "Iteration 55, inertia 36967306.951105416.\n",
      "Iteration 56, inertia 36967301.61766162.\n",
      "Iteration 57, inertia 36967297.055738784.\n",
      "Converged at iteration 57: center shift 0.0001852861727210441 within tolerance 0.00019002088770563274.\n",
      "Initialization complete\n",
      "Iteration 0, inertia 61654284.804222815.\n",
      "Iteration 1, inertia 38084653.65227487.\n",
      "Iteration 2, inertia 37517242.976759836.\n",
      "Iteration 3, inertia 37341586.731118575.\n",
      "Iteration 4, inertia 37252284.568943284.\n",
      "Iteration 5, inertia 37193777.43299857.\n",
      "Iteration 6, inertia 37150838.39146408.\n",
      "Iteration 7, inertia 37119056.89833547.\n",
      "Iteration 8, inertia 37097215.87590183.\n",
      "Iteration 9, inertia 37081361.93589979.\n",
      "Iteration 10, inertia 37069690.46773982.\n",
      "Iteration 11, inertia 37061195.79038833.\n",
      "Iteration 12, inertia 37055071.242511846.\n",
      "Iteration 13, inertia 37050556.560338154.\n",
      "Iteration 14, inertia 37047413.211145245.\n",
      "Iteration 15, inertia 37045363.687518746.\n",
      "Iteration 16, inertia 37043955.15537703.\n",
      "Iteration 17, inertia 37042979.44063735.\n",
      "Iteration 18, inertia 37042345.56937548.\n",
      "Iteration 19, inertia 37041843.1804201.\n",
      "Iteration 20, inertia 37041499.049779184.\n",
      "Iteration 21, inertia 37041234.525685355.\n",
      "Iteration 22, inertia 37041007.61627366.\n",
      "Iteration 23, inertia 37040805.775651604.\n",
      "Iteration 24, inertia 37040624.02247779.\n",
      "Iteration 25, inertia 37040454.488944516.\n",
      "Iteration 26, inertia 37040299.47056976.\n",
      "Iteration 27, inertia 37040151.324487306.\n",
      "Iteration 28, inertia 37040017.21567286.\n",
      "Iteration 29, inertia 37039895.27043274.\n",
      "Iteration 30, inertia 37039789.68772791.\n",
      "Iteration 31, inertia 37039698.01931874.\n",
      "Iteration 32, inertia 37039623.28559035.\n",
      "Iteration 33, inertia 37039553.77910784.\n",
      "Iteration 34, inertia 37039499.83062756.\n",
      "Iteration 35, inertia 37039451.35308371.\n",
      "Iteration 36, inertia 37039400.284745105.\n",
      "Iteration 37, inertia 37039349.91966893.\n",
      "Iteration 38, inertia 37039290.33096803.\n",
      "Iteration 39, inertia 37039241.68894509.\n",
      "Iteration 40, inertia 37039195.430805825.\n",
      "Iteration 41, inertia 37039147.829631306.\n",
      "Iteration 42, inertia 37039108.98971972.\n",
      "Iteration 43, inertia 37039068.54751374.\n",
      "Iteration 44, inertia 37039023.93078637.\n",
      "Iteration 45, inertia 37038984.11631921.\n",
      "Iteration 46, inertia 37038946.182759404.\n",
      "Iteration 47, inertia 37038914.37162604.\n",
      "Iteration 48, inertia 37038881.02949117.\n",
      "Iteration 49, inertia 37038836.6087567.\n",
      "Iteration 50, inertia 37038784.62195822.\n",
      "Iteration 51, inertia 37038744.72901284.\n",
      "Iteration 52, inertia 37038695.41045044.\n",
      "Iteration 53, inertia 37038647.67553095.\n",
      "Iteration 54, inertia 37038605.12656313.\n",
      "Iteration 55, inertia 37038570.17077397.\n",
      "Iteration 56, inertia 37038545.950422294.\n",
      "Iteration 57, inertia 37038527.7320298.\n",
      "Iteration 58, inertia 37038512.69784542.\n",
      "Iteration 59, inertia 37038501.551439606.\n",
      "Iteration 60, inertia 37038493.447388284.\n",
      "Iteration 61, inertia 37038486.0545746.\n",
      "Iteration 62, inertia 37038477.35717876.\n",
      "Iteration 63, inertia 37038466.2632534.\n",
      "Iteration 64, inertia 37038454.119667314.\n",
      "Iteration 65, inertia 37038441.5313385.\n",
      "Iteration 66, inertia 37038429.037448846.\n",
      "Iteration 67, inertia 37038416.12316475.\n",
      "Iteration 68, inertia 37038406.10994849.\n",
      "Iteration 69, inertia 37038391.899715826.\n",
      "Iteration 70, inertia 37038374.38399628.\n",
      "Iteration 71, inertia 37038359.84871594.\n",
      "Iteration 72, inertia 37038342.84914725.\n",
      "Iteration 73, inertia 37038326.379578315.\n",
      "Iteration 74, inertia 37038312.0227001.\n",
      "Iteration 75, inertia 37038296.772628.\n",
      "Iteration 76, inertia 37038281.999860466.\n",
      "Iteration 77, inertia 37038269.90418232.\n",
      "Iteration 78, inertia 37038261.8816347.\n",
      "Iteration 79, inertia 37038254.56203888.\n",
      "Iteration 80, inertia 37038247.342192166.\n",
      "Iteration 81, inertia 37038239.79786484.\n",
      "Iteration 82, inertia 37038234.23315751.\n",
      "Iteration 83, inertia 37038228.36901596.\n",
      "Iteration 84, inertia 37038220.3105686.\n",
      "Iteration 85, inertia 37038211.526819415.\n",
      "Iteration 86, inertia 37038203.81043608.\n",
      "Iteration 87, inertia 37038196.51032409.\n",
      "Iteration 88, inertia 37038191.457058884.\n",
      "Iteration 89, inertia 37038185.826772965.\n",
      "Iteration 90, inertia 37038179.65843134.\n",
      "Iteration 91, inertia 37038172.91727823.\n",
      "Iteration 92, inertia 37038167.273371786.\n",
      "Iteration 93, inertia 37038163.190637484.\n",
      "Iteration 94, inertia 37038159.527429126.\n",
      "Iteration 95, inertia 37038155.11960876.\n",
      "Iteration 96, inertia 37038147.107542895.\n",
      "Iteration 97, inertia 37038137.61059797.\n",
      "Iteration 98, inertia 37038131.74921575.\n",
      "Iteration 99, inertia 37038128.24040935.\n",
      "Converged at iteration 99: center shift 0.00018478400052209914 within tolerance 0.00019002088770563274.\n",
      "Initialization complete\n",
      "Iteration 0, inertia 62377778.42267501.\n",
      "Iteration 1, inertia 38218663.62916495.\n",
      "Iteration 2, inertia 37672857.86521435.\n",
      "Iteration 3, inertia 37497137.33849273.\n",
      "Iteration 4, inertia 37407049.0531151.\n",
      "Iteration 5, inertia 37343855.97454265.\n",
      "Iteration 6, inertia 37299339.04480128.\n",
      "Iteration 7, inertia 37269239.83458535.\n",
      "Iteration 8, inertia 37248041.589198425.\n",
      "Iteration 9, inertia 37230736.96518705.\n",
      "Iteration 10, inertia 37215940.954297625.\n",
      "Iteration 11, inertia 37201484.96360113.\n",
      "Iteration 12, inertia 37187190.25082238.\n",
      "Iteration 13, inertia 37172069.03278488.\n",
      "Iteration 14, inertia 37156005.099041864.\n",
      "Iteration 15, inertia 37138731.199346334.\n",
      "Iteration 16, inertia 37120987.192208335.\n",
      "Iteration 17, inertia 37103800.58795782.\n",
      "Iteration 18, inertia 37086224.62689892.\n",
      "Iteration 19, inertia 37067602.02913951.\n",
      "Iteration 20, inertia 37049588.400320984.\n",
      "Iteration 21, inertia 37032362.05017525.\n",
      "Iteration 22, inertia 37017542.69850685.\n",
      "Iteration 23, inertia 37005360.86387688.\n",
      "Iteration 24, inertia 36996620.77177677.\n",
      "Iteration 25, inertia 36990051.92074443.\n",
      "Iteration 26, inertia 36985111.69050195.\n",
      "Iteration 27, inertia 36981135.700347126.\n",
      "Iteration 28, inertia 36977508.64827173.\n",
      "Iteration 29, inertia 36974313.41166498.\n",
      "Iteration 30, inertia 36971534.60422076.\n",
      "Iteration 31, inertia 36969099.19768328.\n",
      "Iteration 32, inertia 36966777.48654022.\n",
      "Iteration 33, inertia 36964730.06441141.\n",
      "Iteration 34, inertia 36963047.42210504.\n",
      "Iteration 35, inertia 36961677.9172244.\n",
      "Iteration 36, inertia 36960545.25898581.\n",
      "Iteration 37, inertia 36959531.84824368.\n",
      "Iteration 38, inertia 36958555.23324788.\n",
      "Iteration 39, inertia 36957702.02992445.\n",
      "Iteration 40, inertia 36957002.03145201.\n",
      "Iteration 41, inertia 36956446.80771867.\n",
      "Iteration 42, inertia 36955942.524144284.\n",
      "Iteration 43, inertia 36955539.72260137.\n",
      "Iteration 44, inertia 36955203.270812824.\n",
      "Iteration 45, inertia 36954948.844517894.\n",
      "Iteration 46, inertia 36954720.74165632.\n",
      "Iteration 47, inertia 36954517.029271804.\n",
      "Iteration 48, inertia 36954374.85269363.\n",
      "Iteration 49, inertia 36954252.73715993.\n",
      "Iteration 50, inertia 36954150.807497.\n",
      "Iteration 51, inertia 36954072.21939705.\n",
      "Iteration 52, inertia 36954004.94546418.\n",
      "Iteration 53, inertia 36953944.6974532.\n",
      "Iteration 54, inertia 36953899.96853224.\n",
      "Iteration 55, inertia 36953868.370629966.\n",
      "Iteration 56, inertia 36953835.06006956.\n",
      "Iteration 57, inertia 36953807.46050044.\n",
      "Iteration 58, inertia 36953781.85599877.\n",
      "Iteration 59, inertia 36953757.67038084.\n",
      "Iteration 60, inertia 36953741.03899821.\n",
      "Iteration 61, inertia 36953728.80853955.\n",
      "Iteration 62, inertia 36953719.66640525.\n",
      "Iteration 63, inertia 36953712.25995768.\n",
      "Iteration 64, inertia 36953701.76084837.\n",
      "Iteration 65, inertia 36953692.39645599.\n",
      "Iteration 66, inertia 36953684.3145974.\n",
      "Iteration 67, inertia 36953677.545699194.\n",
      "Iteration 68, inertia 36953672.60643958.\n",
      "Iteration 69, inertia 36953668.86010562.\n",
      "Iteration 70, inertia 36953664.47030446.\n",
      "Iteration 71, inertia 36953660.46637796.\n",
      "Iteration 72, inertia 36953656.81219368.\n",
      "Iteration 73, inertia 36953652.728791356.\n",
      "Iteration 74, inertia 36953648.5715152.\n",
      "Converged at iteration 74: center shift 0.00016595157459247216 within tolerance 0.00019002088770563274.\n",
      "predicting for customers\n",
      "predicting for population\n",
      "plotting...\n",
      "73.79836339999997\n"
     ]
    },
    {
     "data": {
      "text/plain": "<Figure size 1200x400 with 2 Axes>",
      "image/png": "[encoded data removed]"
     },
     "metadata": {},
     "output_type": "display_data"
    }
   ],
   "source": [
    "t0 = perf_counter()\n",
    "\n",
    "pipeline_pca = run_pipeline(cluster_pipeline_pca,\n",
    "                            azdias.drop('EINGEFUEGT_AM', axis=1).iloc[::5],\n",
    "                            customers.drop('EINGEFUEGT_AM', axis=1))\n",
    "\n",
    "print(perf_counter()-t0)"
   ],
   "metadata": {
    "collapsed": false,
    "pycharm": {
     "name": "#%%\n"
    }
   }
  },
  {
   "cell_type": "markdown",
   "source": [
    "#### Conclusion\n",
    "We can see that the PCA-dimension reduction works best with the KMeans clustering. We can see that the population is more homogeneously distributed and that the custoers generally belong to four main clusters. With that in mind, we are going to enrich our data with the clusters and then train our classifier in the next chapter with that information."
   ],
   "metadata": {
    "collapsed": false,
    "pycharm": {
     "name": "#%% md\n"
    }
   }
  },
  {
   "cell_type": "markdown",
   "metadata": {
    "pycharm": {
     "name": "#%% md\n"
    }
   },
   "source": [
    "## Part 2: Supervised Learning Model\n",
    "\n",
    "Now that you've found which parts of the population are more likely to be customers of the mail-order company, it's time to build a prediction model. Each of the rows in the \"MAILOUT\" data files represents an individual that was targeted for a mailout campaign. Ideally, we should be able to use the demographic information from each individual to decide whether or not it will be worth it to include that person in the campaign.\n",
    "\n",
    "The \"MAILOUT\" data has been split into two approximately equal parts, each with almost 43 000 data rows. In this part, you can verify your model with the \"TRAIN\" partition, which includes a column, \"RESPONSE\", that states whether or not a person became a customer of the company following the campaign. In the next part, you'll need to create predictions on the \"TEST\" partition, where the \"RESPONSE\" column has been withheld."
   ]
  },
  {
   "cell_type": "markdown",
   "source": [
    "### Intro\n",
    "First we are going to load the data and clean them with the previously implemented cleaning function, with the additional `RESPONSE` column and seperate the labels from the data. After that, we are going to determine the clusters the training data is in and then train a classification model.\n",
    "An overview of the following steps is listed below:\n",
    "- Loading data\n",
    "- Cleaning data\n",
    "- Separating labels from features\n",
    "- Run clustering pipeline on data\n",
    "- Train classifier (with cross validation)\n",
    "- Run classifier on test data"
   ],
   "metadata": {
    "collapsed": false,
    "pycharm": {
     "name": "#%% md\n"
    }
   }
  },
  {
   "cell_type": "code",
   "execution_count": 43,
   "outputs": [],
   "source": [
    "del azdias, customers"
   ],
   "metadata": {
    "collapsed": false,
    "pycharm": {
     "name": "#%%\n"
    }
   }
  },
  {
   "cell_type": "code",
   "execution_count": 44,
   "outputs": [],
   "source": [
    "# added this to common columns, to keep this clean this column as well\n",
    "common_columns = common_columns.append(pd.Index(['RESPONSE']))"
   ],
   "metadata": {
    "collapsed": false,
    "pycharm": {
     "name": "#%%\n"
    }
   }
  },
  {
   "cell_type": "code",
   "execution_count": 45,
   "outputs": [
    {
     "data": {
      "text/plain": "Index(['LNR', 'AGER_TYP', 'AKT_DAT_KL', 'ALTER_HH', 'ALTER_KIND1',\n       'ALTER_KIND2', 'ALTER_KIND3', 'ALTER_KIND4', 'ALTERSKATEGORIE_FEIN',\n       'ANZ_HAUSHALTE_AKTIV',\n       ...\n       'VK_DHT4A', 'VK_DISTANZ', 'VK_ZG11', 'W_KEIT_KIND_HH', 'WOHNDAUER_2008',\n       'WOHNLAGE', 'ZABEOTYP', 'ANREDE_KZ', 'ALTERSKATEGORIE_GROB',\n       'RESPONSE'],\n      dtype='object', length=367)"
     },
     "execution_count": 45,
     "metadata": {},
     "output_type": "execute_result"
    }
   ],
   "source": [
    "common_columns"
   ],
   "metadata": {
    "collapsed": false,
    "pycharm": {
     "name": "#%%\n"
    }
   }
  },
  {
   "cell_type": "markdown",
   "source": [
    "### Load Data"
   ],
   "metadata": {
    "collapsed": false,
    "pycharm": {
     "name": "#%% md\n"
    }
   }
  },
  {
   "cell_type": "code",
   "execution_count": 46,
   "outputs": [],
   "source": [
    "mailout_train = pd.read_csv('data/Udacity_MAILOUT_052018_TRAIN.csv',\n",
    "        sep=';')"
   ],
   "metadata": {
    "collapsed": false,
    "pycharm": {
     "name": "#%%\n"
    }
   }
  },
  {
   "cell_type": "code",
   "execution_count": 47,
   "outputs": [
    {
     "data": {
      "text/plain": "    LNR  AGER_TYP  AKT_DAT_KL  ALTER_HH  ALTER_KIND1  ALTER_KIND2  \\\n0  1763         2         1.0       8.0          NaN          NaN   \n1  1771         1         4.0      13.0          NaN          NaN   \n2  1776         1         1.0       9.0          NaN          NaN   \n3  1460         2         1.0       6.0          NaN          NaN   \n4  1783         2         1.0       9.0          NaN          NaN   \n\n   ALTER_KIND3  ALTER_KIND4  ALTERSKATEGORIE_FEIN  ANZ_HAUSHALTE_AKTIV  ...  \\\n0          NaN          NaN                   8.0                 15.0  ...   \n1          NaN          NaN                  13.0                  1.0  ...   \n2          NaN          NaN                   7.0                  0.0  ...   \n3          NaN          NaN                   6.0                  4.0  ...   \n4          NaN          NaN                   9.0                 53.0  ...   \n\n   VK_DHT4A  VK_DISTANZ  VK_ZG11  W_KEIT_KIND_HH  WOHNDAUER_2008  WOHNLAGE  \\\n0       5.0         2.0      1.0             6.0             9.0       3.0   \n1       1.0         2.0      1.0             4.0             9.0       7.0   \n2       6.0         4.0      2.0             NaN             9.0       2.0   \n3       8.0        11.0     11.0             6.0             9.0       1.0   \n4       2.0         2.0      1.0             6.0             9.0       3.0   \n\n   ZABEOTYP RESPONSE ANREDE_KZ ALTERSKATEGORIE_GROB  \n0         3        0         2                    4  \n1         1        0         2                    3  \n2         3        0         1                    4  \n3         3        0         2                    4  \n4         3        0         1                    3  \n\n[5 rows x 367 columns]",
      "text/html": "<div>\n<style scoped>\n    .dataframe tbody tr th:only-of-type {\n        vertical-align: middle;\n    }\n\n    .dataframe tbody tr th {\n        vertical-align: top;\n    }\n\n    .dataframe thead th {\n        text-align: right;\n    }\n</style>\n<table border=\"1\" class=\"dataframe\">\n  <thead>\n    <tr style=\"text-align: right;\">\n      <th></th>\n      <th>LNR</th>\n      <th>AGER_TYP</th>\n      <th>AKT_DAT_KL</th>\n      <th>ALTER_HH</th>\n      <th>ALTER_KIND1</th>\n      <th>ALTER_KIND2</th>\n      <th>ALTER_KIND3</th>\n      <th>ALTER_KIND4</th>\n      <th>ALTERSKATEGORIE_FEIN</th>\n      <th>ANZ_HAUSHALTE_AKTIV</th>\n      <th>...</th>\n      <th>VK_DHT4A</th>\n      <th>VK_DISTANZ</th>\n      <th>VK_ZG11</th>\n      <th>W_KEIT_KIND_HH</th>\n      <th>WOHNDAUER_2008</th>\n      <th>WOHNLAGE</th>\n      <th>ZABEOTYP</th>\n      <th>RESPONSE</th>\n      <th>ANREDE_KZ</th>\n      <th>ALTERSKATEGORIE_GROB</th>\n    </tr>\n  </thead>\n  <tbody>\n    <tr>\n      <th>0</th>\n      <td>1763</td>\n      <td>2</td>\n      <td>1.0</td>\n      <td>8.0</td>\n      <td>NaN</td>\n      <td>NaN</td>\n      <td>NaN</td>\n      <td>NaN</td>\n      <td>8.0</td>\n      <td>15.0</td>\n      <td>...</td>\n      <td>5.0</td>\n      <td>2.0</td>\n      <td>1.0</td>\n      <td>6.0</td>\n      <td>9.0</td>\n      <td>3.0</td>\n      <td>3</td>\n      <td>0</td>\n      <td>2</td>\n      <td>4</td>\n    </tr>\n    <tr>\n      <th>1</th>\n      <td>1771</td>\n      <td>1</td>\n      <td>4.0</td>\n      <td>13.0</td>\n      <td>NaN</td>\n      <td>NaN</td>\n      <td>NaN</td>\n      <td>NaN</td>\n      <td>13.0</td>\n      <td>1.0</td>\n      <td>...</td>\n      <td>1.0</td>\n      <td>2.0</td>\n      <td>1.0</td>\n      <td>4.0</td>\n      <td>9.0</td>\n      <td>7.0</td>\n      <td>1</td>\n      <td>0</td>\n      <td>2</td>\n      <td>3</td>\n    </tr>\n    <tr>\n      <th>2</th>\n      <td>1776</td>\n      <td>1</td>\n      <td>1.0</td>\n      <td>9.0</td>\n      <td>NaN</td>\n      <td>NaN</td>\n      <td>NaN</td>\n      <td>NaN</td>\n      <td>7.0</td>\n      <td>0.0</td>\n      <td>...</td>\n      <td>6.0</td>\n      <td>4.0</td>\n      <td>2.0</td>\n      <td>NaN</td>\n      <td>9.0</td>\n      <td>2.0</td>\n      <td>3</td>\n      <td>0</td>\n      <td>1</td>\n      <td>4</td>\n    </tr>\n    <tr>\n      <th>3</th>\n      <td>1460</td>\n      <td>2</td>\n      <td>1.0</td>\n      <td>6.0</td>\n      <td>NaN</td>\n      <td>NaN</td>\n      <td>NaN</td>\n      <td>NaN</td>\n      <td>6.0</td>\n      <td>4.0</td>\n      <td>...</td>\n      <td>8.0</td>\n      <td>11.0</td>\n      <td>11.0</td>\n      <td>6.0</td>\n      <td>9.0</td>\n      <td>1.0</td>\n      <td>3</td>\n      <td>0</td>\n      <td>2</td>\n      <td>4</td>\n    </tr>\n    <tr>\n      <th>4</th>\n      <td>1783</td>\n      <td>2</td>\n      <td>1.0</td>\n      <td>9.0</td>\n      <td>NaN</td>\n      <td>NaN</td>\n      <td>NaN</td>\n      <td>NaN</td>\n      <td>9.0</td>\n      <td>53.0</td>\n      <td>...</td>\n      <td>2.0</td>\n      <td>2.0</td>\n      <td>1.0</td>\n      <td>6.0</td>\n      <td>9.0</td>\n      <td>3.0</td>\n      <td>3</td>\n      <td>0</td>\n      <td>1</td>\n      <td>3</td>\n    </tr>\n  </tbody>\n</table>\n<p>5 rows × 367 columns</p>\n</div>"
     },
     "execution_count": 47,
     "metadata": {},
     "output_type": "execute_result"
    }
   ],
   "source": [
    "mailout_train.head()"
   ],
   "metadata": {
    "collapsed": false,
    "pycharm": {
     "name": "#%%\n"
    }
   }
  },
  {
   "cell_type": "markdown",
   "source": [
    "### Clean Data"
   ],
   "metadata": {
    "collapsed": false,
    "pycharm": {
     "name": "#%% md\n"
    }
   }
  },
  {
   "cell_type": "code",
   "execution_count": 48,
   "outputs": [
    {
     "name": "stdout",
     "output_type": "stream",
     "text": [
      "(42962, 367)\n"
     ]
    }
   ],
   "source": [
    "print(mailout_train.shape)\n",
    "mailout_train = clear_data(mailout_train)\n",
    "mailout_train.drop(['EINGEFUEGT_AM'], axis=1, inplace=True)"
   ],
   "metadata": {
    "collapsed": false,
    "pycharm": {
     "name": "#%%\n"
    }
   }
  },
  {
   "cell_type": "code",
   "execution_count": 49,
   "outputs": [
    {
     "name": "stdout",
     "output_type": "stream",
     "text": [
      "(34214, 366)\n"
     ]
    },
    {
     "data": {
      "text/plain": "    LNR  AGER_TYP  AKT_DAT_KL  ALTER_HH  ALTER_KIND1  ALTER_KIND2  \\\n0  1763         2         1.0       8.0         -1.0         -1.0   \n1  1771         1         4.0      13.0         -1.0         -1.0   \n2  1776         1         1.0       9.0         -1.0         -1.0   \n3  1460         2         1.0       6.0         -1.0         -1.0   \n4  1783         2         1.0       9.0         -1.0         -1.0   \n\n   ALTER_KIND3  ALTER_KIND4  ALTERSKATEGORIE_FEIN  ANZ_HAUSHALTE_AKTIV  ...  \\\n0         -1.0         -1.0                   8.0                 15.0  ...   \n1         -1.0         -1.0                  13.0                  1.0  ...   \n2         -1.0         -1.0                   7.0                  0.0  ...   \n3         -1.0         -1.0                   6.0                  4.0  ...   \n4         -1.0         -1.0                   9.0                 53.0  ...   \n\n   VK_DHT4A  VK_DISTANZ  VK_ZG11  W_KEIT_KIND_HH  WOHNDAUER_2008  WOHNLAGE  \\\n0       5.0         2.0      1.0             6.0             9.0       3.0   \n1       1.0         2.0      1.0             4.0             9.0       7.0   \n2       6.0         4.0      2.0            -1.0             9.0       2.0   \n3       8.0        11.0     11.0             6.0             9.0       1.0   \n4       2.0         2.0      1.0             6.0             9.0       3.0   \n\n   ZABEOTYP  ANREDE_KZ  ALTERSKATEGORIE_GROB  RESPONSE  \n0         3          2                     4         0  \n1         1          2                     3         0  \n2         3          1                     4         0  \n3         3          2                     4         0  \n4         3          1                     3         0  \n\n[5 rows x 366 columns]",
      "text/html": "<div>\n<style scoped>\n    .dataframe tbody tr th:only-of-type {\n        vertical-align: middle;\n    }\n\n    .dataframe tbody tr th {\n        vertical-align: top;\n    }\n\n    .dataframe thead th {\n        text-align: right;\n    }\n</style>\n<table border=\"1\" class=\"dataframe\">\n  <thead>\n    <tr style=\"text-align: right;\">\n      <th></th>\n      <th>LNR</th>\n      <th>AGER_TYP</th>\n      <th>AKT_DAT_KL</th>\n      <th>ALTER_HH</th>\n      <th>ALTER_KIND1</th>\n      <th>ALTER_KIND2</th>\n      <th>ALTER_KIND3</th>\n      <th>ALTER_KIND4</th>\n      <th>ALTERSKATEGORIE_FEIN</th>\n      <th>ANZ_HAUSHALTE_AKTIV</th>\n      <th>...</th>\n      <th>VK_DHT4A</th>\n      <th>VK_DISTANZ</th>\n      <th>VK_ZG11</th>\n      <th>W_KEIT_KIND_HH</th>\n      <th>WOHNDAUER_2008</th>\n      <th>WOHNLAGE</th>\n      <th>ZABEOTYP</th>\n      <th>ANREDE_KZ</th>\n      <th>ALTERSKATEGORIE_GROB</th>\n      <th>RESPONSE</th>\n    </tr>\n  </thead>\n  <tbody>\n    <tr>\n      <th>0</th>\n      <td>1763</td>\n      <td>2</td>\n      <td>1.0</td>\n      <td>8.0</td>\n      <td>-1.0</td>\n      <td>-1.0</td>\n      <td>-1.0</td>\n      <td>-1.0</td>\n      <td>8.0</td>\n      <td>15.0</td>\n      <td>...</td>\n      <td>5.0</td>\n      <td>2.0</td>\n      <td>1.0</td>\n      <td>6.0</td>\n      <td>9.0</td>\n      <td>3.0</td>\n      <td>3</td>\n      <td>2</td>\n      <td>4</td>\n      <td>0</td>\n    </tr>\n    <tr>\n      <th>1</th>\n      <td>1771</td>\n      <td>1</td>\n      <td>4.0</td>\n      <td>13.0</td>\n      <td>-1.0</td>\n      <td>-1.0</td>\n      <td>-1.0</td>\n      <td>-1.0</td>\n      <td>13.0</td>\n      <td>1.0</td>\n      <td>...</td>\n      <td>1.0</td>\n      <td>2.0</td>\n      <td>1.0</td>\n      <td>4.0</td>\n      <td>9.0</td>\n      <td>7.0</td>\n      <td>1</td>\n      <td>2</td>\n      <td>3</td>\n      <td>0</td>\n    </tr>\n    <tr>\n      <th>2</th>\n      <td>1776</td>\n      <td>1</td>\n      <td>1.0</td>\n      <td>9.0</td>\n      <td>-1.0</td>\n      <td>-1.0</td>\n      <td>-1.0</td>\n      <td>-1.0</td>\n      <td>7.0</td>\n      <td>0.0</td>\n      <td>...</td>\n      <td>6.0</td>\n      <td>4.0</td>\n      <td>2.0</td>\n      <td>-1.0</td>\n      <td>9.0</td>\n      <td>2.0</td>\n      <td>3</td>\n      <td>1</td>\n      <td>4</td>\n      <td>0</td>\n    </tr>\n    <tr>\n      <th>3</th>\n      <td>1460</td>\n      <td>2</td>\n      <td>1.0</td>\n      <td>6.0</td>\n      <td>-1.0</td>\n      <td>-1.0</td>\n      <td>-1.0</td>\n      <td>-1.0</td>\n      <td>6.0</td>\n      <td>4.0</td>\n      <td>...</td>\n      <td>8.0</td>\n      <td>11.0</td>\n      <td>11.0</td>\n      <td>6.0</td>\n      <td>9.0</td>\n      <td>1.0</td>\n      <td>3</td>\n      <td>2</td>\n      <td>4</td>\n      <td>0</td>\n    </tr>\n    <tr>\n      <th>4</th>\n      <td>1783</td>\n      <td>2</td>\n      <td>1.0</td>\n      <td>9.0</td>\n      <td>-1.0</td>\n      <td>-1.0</td>\n      <td>-1.0</td>\n      <td>-1.0</td>\n      <td>9.0</td>\n      <td>53.0</td>\n      <td>...</td>\n      <td>2.0</td>\n      <td>2.0</td>\n      <td>1.0</td>\n      <td>6.0</td>\n      <td>9.0</td>\n      <td>3.0</td>\n      <td>3</td>\n      <td>1</td>\n      <td>3</td>\n      <td>0</td>\n    </tr>\n  </tbody>\n</table>\n<p>5 rows × 366 columns</p>\n</div>"
     },
     "execution_count": 49,
     "metadata": {},
     "output_type": "execute_result"
    }
   ],
   "source": [
    "print(mailout_train.shape)\n",
    "mailout_train.head()"
   ],
   "metadata": {
    "collapsed": false,
    "pycharm": {
     "name": "#%%\n"
    }
   }
  },
  {
   "cell_type": "code",
   "execution_count": 50,
   "outputs": [],
   "source": [
    "# get only who answered yes\n",
    "mailout_yes_train = mailout_train[mailout_train.RESPONSE == 1]\n",
    "# get only who answered no\n",
    "mailout_no_train = mailout_train[mailout_train.RESPONSE == 0]"
   ],
   "metadata": {
    "collapsed": false,
    "pycharm": {
     "name": "#%%\n"
    }
   }
  },
  {
   "cell_type": "markdown",
   "source": [
    "### Separate Features & Target"
   ],
   "metadata": {
    "collapsed": false,
    "pycharm": {
     "name": "#%% md\n"
    }
   }
  },
  {
   "cell_type": "code",
   "execution_count": 51,
   "outputs": [],
   "source": [
    "target_mailout = mailout_train.RESPONSE"
   ],
   "metadata": {
    "collapsed": false,
    "pycharm": {
     "name": "#%%\n"
    }
   }
  },
  {
   "cell_type": "code",
   "execution_count": 52,
   "metadata": {
    "pycharm": {
     "name": "#%%\n"
    }
   },
   "outputs": [],
   "source": [
    "feature_mailout = mailout_train.drop(['RESPONSE'], axis=1)"
   ]
  },
  {
   "cell_type": "code",
   "execution_count": 53,
   "outputs": [],
   "source": [
    "del mailout_train"
   ],
   "metadata": {
    "collapsed": false,
    "pycharm": {
     "name": "#%%\n"
    }
   }
  },
  {
   "cell_type": "markdown",
   "source": [
    "### Clustering on Data-Set"
   ],
   "metadata": {
    "collapsed": false,
    "pycharm": {
     "name": "#%% md\n"
    }
   }
  },
  {
   "cell_type": "code",
   "execution_count": 54,
   "outputs": [],
   "source": [
    "yes_clusters = pipeline_pca.predict(mailout_yes_train.drop('RESPONSE', axis=1))\n",
    "no_clusters = pipeline_pca.predict(mailout_no_train.drop('RESPONSE', axis=1))"
   ],
   "metadata": {
    "collapsed": false,
    "pycharm": {
     "name": "#%%\n"
    }
   }
  },
  {
   "cell_type": "code",
   "execution_count": 55,
   "outputs": [
    {
     "data": {
      "text/plain": "Text(0.5, 1.0, 'negative response')"
     },
     "execution_count": 55,
     "metadata": {},
     "output_type": "execute_result"
    },
    {
     "data": {
      "text/plain": "<Figure size 1300x400 with 2 Axes>",
      "image/png": "[encoded data removed]"
     },
     "metadata": {},
     "output_type": "display_data"
    }
   ],
   "source": [
    "fig, ax = plt.subplots(1, 2, sharex=True, figsize=(13,4))\n",
    "ax[0].hist(yes_clusters,bins=12)\n",
    "ax[0].set_title('positive response')\n",
    "ax[1].hist(no_clusters,bins=12)\n",
    "ax[1].set_title('negative response')\n"
   ],
   "metadata": {
    "collapsed": false,
    "pycharm": {
     "name": "#%%\n"
    }
   }
  },
  {
   "cell_type": "markdown",
   "source": [
    "After applying the clustering algorithm on the mailout data, we can see that a pre-analysis on the data has already been performed and the data has already been pre-selected. The data shows the same distribution as our customers, hence the selected data is very similar to our customers data-set.\n",
    "We can also see that the dataset is imbalanced and wen may need to adjust our classifier accordingly."
   ],
   "metadata": {
    "collapsed": false,
    "pycharm": {
     "name": "#%% md\n"
    }
   }
  },
  {
   "cell_type": "markdown",
   "source": [
    "### Train Classifier\n",
    "First we are going to setup a classification pipeline. After that, we are going to enrich the mailout data with the clusters from the previously trained clustering pipeline. Finaly we are going to train a classifier using SVM and optimizing it by using a gridsearch optimizer.\n",
    "As we have seen, the dataset is imbalance, hence the best metrics to choose is the F1 score, therefore the TP values are \"weighted\" double."
   ],
   "metadata": {
    "collapsed": false,
    "pycharm": {
     "name": "#%% md\n"
    }
   }
  },
  {
   "cell_type": "code",
   "execution_count": 56,
   "outputs": [],
   "source": [
    "from sklearn.svm import SVC\n",
    "\n",
    "classifier_pipeline = Pipeline([\n",
    "    ('scaler', StandardScaler()),\n",
    "    ('classifier', SVC(verbose=3))\n",
    "])\n",
    "\n",
    "gridsearch_params = gridsearch_params = {\n",
    "    'classifier__C':[1, 2, 3],\n",
    "    'classifier__kernel': ['linear']#, 'poly', 'rbf', 'sigmoid'],\n",
    "    #'classifier__degree': [2, 3]\n",
    "}\n",
    "\n",
    "classifier_grid_searcher = GridSearchCV(classifier_pipeline, param_grid=gridsearch_params,\n",
    "                             verbose=3, cv=3, scoring='f1', error_score=\"raise\")"
   ],
   "metadata": {
    "collapsed": false,
    "pycharm": {
     "name": "#%%\n"
    }
   }
  },
  {
   "cell_type": "code",
   "execution_count": 57,
   "outputs": [],
   "source": [
    "# enrich data\n",
    "index_clusters = pipeline_pca.predict(feature_mailout)\n",
    "feature_mailout['CLUSTER'] = index_clusters"
   ],
   "metadata": {
    "collapsed": false,
    "pycharm": {
     "name": "#%%\n"
    }
   }
  },
  {
   "cell_type": "code",
   "execution_count": 58,
   "outputs": [
    {
     "data": {
      "text/plain": "    LNR  AGER_TYP  AKT_DAT_KL  ALTER_HH  ALTER_KIND1  ALTER_KIND2  \\\n0  1763         2         1.0       8.0         -1.0         -1.0   \n1  1771         1         4.0      13.0         -1.0         -1.0   \n2  1776         1         1.0       9.0         -1.0         -1.0   \n3  1460         2         1.0       6.0         -1.0         -1.0   \n4  1783         2         1.0       9.0         -1.0         -1.0   \n\n   ALTER_KIND3  ALTER_KIND4  ALTERSKATEGORIE_FEIN  ANZ_HAUSHALTE_AKTIV  ...  \\\n0         -1.0         -1.0                   8.0                 15.0  ...   \n1         -1.0         -1.0                  13.0                  1.0  ...   \n2         -1.0         -1.0                   7.0                  0.0  ...   \n3         -1.0         -1.0                   6.0                  4.0  ...   \n4         -1.0         -1.0                   9.0                 53.0  ...   \n\n   VK_DHT4A  VK_DISTANZ  VK_ZG11  W_KEIT_KIND_HH  WOHNDAUER_2008  WOHNLAGE  \\\n0       5.0         2.0      1.0             6.0             9.0       3.0   \n1       1.0         2.0      1.0             4.0             9.0       7.0   \n2       6.0         4.0      2.0            -1.0             9.0       2.0   \n3       8.0        11.0     11.0             6.0             9.0       1.0   \n4       2.0         2.0      1.0             6.0             9.0       3.0   \n\n   ZABEOTYP  ANREDE_KZ  ALTERSKATEGORIE_GROB  CLUSTER  \n0         3          2                     4        3  \n1         1          2                     3        9  \n2         3          1                     4        2  \n3         3          2                     4        4  \n4         3          1                     3        4  \n\n[5 rows x 366 columns]",
      "text/html": "<div>\n<style scoped>\n    .dataframe tbody tr th:only-of-type {\n        vertical-align: middle;\n    }\n\n    .dataframe tbody tr th {\n        vertical-align: top;\n    }\n\n    .dataframe thead th {\n        text-align: right;\n    }\n</style>\n<table border=\"1\" class=\"dataframe\">\n  <thead>\n    <tr style=\"text-align: right;\">\n      <th></th>\n      <th>LNR</th>\n      <th>AGER_TYP</th>\n      <th>AKT_DAT_KL</th>\n      <th>ALTER_HH</th>\n      <th>ALTER_KIND1</th>\n      <th>ALTER_KIND2</th>\n      <th>ALTER_KIND3</th>\n      <th>ALTER_KIND4</th>\n      <th>ALTERSKATEGORIE_FEIN</th>\n      <th>ANZ_HAUSHALTE_AKTIV</th>\n      <th>...</th>\n      <th>VK_DHT4A</th>\n      <th>VK_DISTANZ</th>\n      <th>VK_ZG11</th>\n      <th>W_KEIT_KIND_HH</th>\n      <th>WOHNDAUER_2008</th>\n      <th>WOHNLAGE</th>\n      <th>ZABEOTYP</th>\n      <th>ANREDE_KZ</th>\n      <th>ALTERSKATEGORIE_GROB</th>\n      <th>CLUSTER</th>\n    </tr>\n  </thead>\n  <tbody>\n    <tr>\n      <th>0</th>\n      <td>1763</td>\n      <td>2</td>\n      <td>1.0</td>\n      <td>8.0</td>\n      <td>-1.0</td>\n      <td>-1.0</td>\n      <td>-1.0</td>\n      <td>-1.0</td>\n      <td>8.0</td>\n      <td>15.0</td>\n      <td>...</td>\n      <td>5.0</td>\n      <td>2.0</td>\n      <td>1.0</td>\n      <td>6.0</td>\n      <td>9.0</td>\n      <td>3.0</td>\n      <td>3</td>\n      <td>2</td>\n      <td>4</td>\n      <td>3</td>\n    </tr>\n    <tr>\n      <th>1</th>\n      <td>1771</td>\n      <td>1</td>\n      <td>4.0</td>\n      <td>13.0</td>\n      <td>-1.0</td>\n      <td>-1.0</td>\n      <td>-1.0</td>\n      <td>-1.0</td>\n      <td>13.0</td>\n      <td>1.0</td>\n      <td>...</td>\n      <td>1.0</td>\n      <td>2.0</td>\n      <td>1.0</td>\n      <td>4.0</td>\n      <td>9.0</td>\n      <td>7.0</td>\n      <td>1</td>\n      <td>2</td>\n      <td>3</td>\n      <td>9</td>\n    </tr>\n    <tr>\n      <th>2</th>\n      <td>1776</td>\n      <td>1</td>\n      <td>1.0</td>\n      <td>9.0</td>\n      <td>-1.0</td>\n      <td>-1.0</td>\n      <td>-1.0</td>\n      <td>-1.0</td>\n      <td>7.0</td>\n      <td>0.0</td>\n      <td>...</td>\n      <td>6.0</td>\n      <td>4.0</td>\n      <td>2.0</td>\n      <td>-1.0</td>\n      <td>9.0</td>\n      <td>2.0</td>\n      <td>3</td>\n      <td>1</td>\n      <td>4</td>\n      <td>2</td>\n    </tr>\n    <tr>\n      <th>3</th>\n      <td>1460</td>\n      <td>2</td>\n      <td>1.0</td>\n      <td>6.0</td>\n      <td>-1.0</td>\n      <td>-1.0</td>\n      <td>-1.0</td>\n      <td>-1.0</td>\n      <td>6.0</td>\n      <td>4.0</td>\n      <td>...</td>\n      <td>8.0</td>\n      <td>11.0</td>\n      <td>11.0</td>\n      <td>6.0</td>\n      <td>9.0</td>\n      <td>1.0</td>\n      <td>3</td>\n      <td>2</td>\n      <td>4</td>\n      <td>4</td>\n    </tr>\n    <tr>\n      <th>4</th>\n      <td>1783</td>\n      <td>2</td>\n      <td>1.0</td>\n      <td>9.0</td>\n      <td>-1.0</td>\n      <td>-1.0</td>\n      <td>-1.0</td>\n      <td>-1.0</td>\n      <td>9.0</td>\n      <td>53.0</td>\n      <td>...</td>\n      <td>2.0</td>\n      <td>2.0</td>\n      <td>1.0</td>\n      <td>6.0</td>\n      <td>9.0</td>\n      <td>3.0</td>\n      <td>3</td>\n      <td>1</td>\n      <td>3</td>\n      <td>4</td>\n    </tr>\n  </tbody>\n</table>\n<p>5 rows × 366 columns</p>\n</div>"
     },
     "execution_count": 58,
     "metadata": {},
     "output_type": "execute_result"
    }
   ],
   "source": [
    "feature_mailout.head()"
   ],
   "metadata": {
    "collapsed": false,
    "pycharm": {
     "name": "#%%\n"
    }
   }
  },
  {
   "cell_type": "code",
   "execution_count": 59,
   "outputs": [
    {
     "name": "stdout",
     "output_type": "stream",
     "text": [
      "Fitting 3 folds for each of 3 candidates, totalling 9 fits\n",
      "[LibSVM][CV 1/3] END classifier__C=1, classifier__kernel=linear;, score=0.019 total time=   1.3s\n",
      "[LibSVM][CV 2/3] END classifier__C=1, classifier__kernel=linear;, score=0.023 total time=   1.4s\n",
      "[LibSVM][CV 3/3] END classifier__C=1, classifier__kernel=linear;, score=0.037 total time=   1.2s\n",
      "[LibSVM][CV 1/3] END classifier__C=2, classifier__kernel=linear;, score=0.019 total time=   1.2s\n",
      "[LibSVM][CV 2/3] END classifier__C=2, classifier__kernel=linear;, score=0.019 total time=   1.4s\n",
      "[LibSVM][CV 3/3] END classifier__C=2, classifier__kernel=linear;, score=0.032 total time=   1.2s\n",
      "[LibSVM][CV 1/3] END classifier__C=3, classifier__kernel=linear;, score=0.019 total time=   1.2s\n",
      "[LibSVM][CV 2/3] END classifier__C=3, classifier__kernel=linear;, score=0.017 total time=   1.5s\n",
      "[LibSVM][CV 3/3] END classifier__C=3, classifier__kernel=linear;, score=0.032 total time=   1.2s\n",
      "[LibSVM]18.604693699999984\n"
     ]
    }
   ],
   "source": [
    "t0 = perf_counter()\n",
    "\n",
    "pipeline_svm = classifier_grid_searcher.fit(feature_mailout.iloc[::4], target_mailout.iloc[::4])\n",
    "\n",
    "print(perf_counter() - t0)"
   ],
   "metadata": {
    "collapsed": false,
    "pycharm": {
     "name": "#%%\n"
    }
   }
  },
  {
   "cell_type": "code",
   "execution_count": 60,
   "outputs": [
    {
     "name": "stdout",
     "output_type": "stream",
     "text": [
      "0.026685489083912394\n"
     ]
    },
    {
     "data": {
      "text/plain": "array([[33544,   246],\n       [  392,    32]], dtype=int64)"
     },
     "execution_count": 60,
     "metadata": {},
     "output_type": "execute_result"
    }
   ],
   "source": [
    "pred = pipeline_svm.predict(feature_mailout)\n",
    "print(pipeline_svm.best_score_)\n",
    "confusion_matrix(target_mailout, pred)"
   ],
   "metadata": {
    "collapsed": false,
    "pycharm": {
     "name": "#%%\n"
    }
   }
  },
  {
   "cell_type": "code",
   "execution_count": 61,
   "outputs": [
    {
     "data": {
      "text/plain": "0.026685489083912394"
     },
     "execution_count": 61,
     "metadata": {},
     "output_type": "execute_result"
    }
   ],
   "source": [
    "pipeline_svm.best_score_"
   ],
   "metadata": {
    "collapsed": false,
    "pycharm": {
     "name": "#%%\n"
    }
   }
  },
  {
   "cell_type": "markdown",
   "source": [
    "#### Handeling imbalanced data\n",
    "\n",
    "We can see that the score for the classifier is very bad. This is probably due to the highly imbalanced data. There are different Methods to improve imbalanced data. The most basic one is to up- or downsample the data. We are going to try out both and see which one performs best."
   ],
   "metadata": {
    "collapsed": false,
    "pycharm": {
     "name": "#%% md\n"
    }
   }
  },
  {
   "cell_type": "markdown",
   "source": [
    "##### Downsampling\n",
    "With the downampling method, the number of the bigger class of data is reduced, to bring balance to the classes. Here we are reducing the number of people who did not react to the mails, to match the number of people who reacted positively."
   ],
   "metadata": {
    "collapsed": false,
    "pycharm": {
     "name": "#%% md\n"
    }
   }
  },
  {
   "cell_type": "code",
   "execution_count": 62,
   "metadata": {
    "pycharm": {
     "name": "#%%\n"
    }
   },
   "outputs": [
    {
     "data": {
      "text/plain": "(848, 365)"
     },
     "execution_count": 62,
     "metadata": {},
     "output_type": "execute_result"
    }
   ],
   "source": [
    "feature_downsample = mailout_no_train.iloc[:len(mailout_yes_train)]\n",
    "target_downsample = pd.concat([feature_downsample.loc[:, 'RESPONSE'], mailout_yes_train.loc[:, 'RESPONSE']])\n",
    "\n",
    "feature_downsample = pd.concat([feature_downsample.drop('RESPONSE', axis=1), mailout_yes_train.drop('RESPONSE', axis=1)], axis=0)\n",
    "feature_downsample.shape"
   ]
  },
  {
   "cell_type": "code",
   "execution_count": 63,
   "outputs": [
    {
     "name": "stdout",
     "output_type": "stream",
     "text": [
      "Fitting 3 folds for each of 3 candidates, totalling 9 fits\n",
      "[LibSVM][CV 1/3] END classifier__C=1, classifier__kernel=linear;, score=0.550 total time=   0.0s\n",
      "[LibSVM][CV 2/3] END classifier__C=1, classifier__kernel=linear;, score=0.594 total time=   0.1s\n",
      "[LibSVM][CV 3/3] END classifier__C=1, classifier__kernel=linear;, score=0.587 total time=   0.0s\n",
      "[LibSVM][CV 1/3] END classifier__C=2, classifier__kernel=linear;, score=0.550 total time=   0.0s\n",
      "[LibSVM][CV 2/3] END classifier__C=2, classifier__kernel=linear;, score=0.594 total time=   0.1s\n",
      "[LibSVM][CV 3/3] END classifier__C=2, classifier__kernel=linear;, score=0.587 total time=   0.0s\n",
      "[LibSVM][CV 1/3] END classifier__C=3, classifier__kernel=linear;, score=0.550 total time=   0.0s\n",
      "[LibSVM][CV 2/3] END classifier__C=3, classifier__kernel=linear;, score=0.594 total time=   0.1s\n",
      "[LibSVM][CV 3/3] END classifier__C=3, classifier__kernel=linear;, score=0.587 total time=   0.0s\n",
      "[LibSVM]2.7677289999999743\n"
     ]
    }
   ],
   "source": [
    "# enrich data\n",
    "index_clusters = pipeline_pca.predict(feature_downsample)\n",
    "feature_downsample['CLUSTER'] = index_clusters\n",
    "\n",
    "t0 = perf_counter()\n",
    "\n",
    "pipeline_svm = classifier_grid_searcher.fit(feature_downsample, target_downsample)\n",
    "\n",
    "print(perf_counter() - t0)"
   ],
   "metadata": {
    "collapsed": false,
    "pycharm": {
     "name": "#%%\n"
    }
   }
  },
  {
   "cell_type": "code",
   "execution_count": 64,
   "outputs": [
    {
     "name": "stdout",
     "output_type": "stream",
     "text": [
      "0.5772727272727273\n"
     ]
    },
    {
     "data": {
      "text/plain": "array([[19566, 14224],\n       [   25,   399]], dtype=int64)"
     },
     "execution_count": 64,
     "metadata": {},
     "output_type": "execute_result"
    }
   ],
   "source": [
    "pred = pipeline_svm.predict(feature_mailout)\n",
    "print(pipeline_svm.best_score_)\n",
    "confusion_matrix(target_mailout, pred)"
   ],
   "metadata": {
    "collapsed": false,
    "pycharm": {
     "name": "#%%\n"
    }
   }
  },
  {
   "cell_type": "markdown",
   "source": [
    "We can see that the F1-Score improved majorly, but we also see that the number of false positives improved majorly. Therefore this method brings an improvement, but is still not sufficient for our desires.\n",
    "It should still be noted, that the cost for an additional email is not that high, such that more false positives is not necessarily a problem, but more false negatives woulds mean we did not reach out to customers who would \"buy\" our product. Hence we should definetly keep in mind, that a false negative is much worse than a false positive."
   ],
   "metadata": {
    "collapsed": false,
    "pycharm": {
     "name": "#%% md\n"
    }
   }
  },
  {
   "cell_type": "markdown",
   "source": [
    "##### Upsampling\n",
    "With upsampling we balance the data in an according way, compared to the downsampling but the other way around. We resample the few positive reactions, to match the number of negative reactions. That way, we get the data in balance and increase our data volume."
   ],
   "metadata": {
    "collapsed": false,
    "pycharm": {
     "name": "#%% md\n"
    }
   }
  },
  {
   "cell_type": "code",
   "execution_count": 65,
   "outputs": [],
   "source": [
    "from sklearn.utils import resample\n",
    "\n",
    "feature_upsampled = resample(mailout_yes_train,\n",
    "                            replace=True,    # sample with replacement\n",
    "                            n_samples= mailout_no_train.shape[0], # to match majority class\n",
    "                            random_state=1)  # reproducible results\n",
    "\n",
    "feature_upsampled = pd.concat([feature_upsampled, mailout_no_train], axis=0)\n",
    "\n",
    "target_upsampled = feature_upsampled.RESPONSE\n",
    "\n",
    "feature_upsampled.drop('RESPONSE', axis=1, inplace=True)"
   ],
   "metadata": {
    "collapsed": false,
    "pycharm": {
     "name": "#%%\n"
    }
   }
  },
  {
   "cell_type": "code",
   "execution_count": 66,
   "outputs": [
    {
     "data": {
      "text/plain": "(67580, 365)"
     },
     "execution_count": 66,
     "metadata": {},
     "output_type": "execute_result"
    }
   ],
   "source": [
    "feature_upsampled.shape"
   ],
   "metadata": {
    "collapsed": false,
    "pycharm": {
     "name": "#%%\n"
    }
   }
  },
  {
   "cell_type": "code",
   "execution_count": 67,
   "outputs": [
    {
     "name": "stdout",
     "output_type": "stream",
     "text": [
      "Fitting 3 folds for each of 3 candidates, totalling 9 fits\n",
      "[LibSVM][CV 1/3] END classifier__C=1, classifier__kernel=linear;, score=0.779 total time=   3.7s\n",
      "[LibSVM][CV 2/3] END classifier__C=1, classifier__kernel=linear;, score=0.801 total time=   7.3s\n",
      "[LibSVM][CV 3/3] END classifier__C=1, classifier__kernel=linear;, score=0.798 total time=   4.3s\n",
      "[LibSVM][CV 1/3] END classifier__C=2, classifier__kernel=linear;, score=0.783 total time=   4.5s\n",
      "[LibSVM][CV 2/3] END classifier__C=2, classifier__kernel=linear;, score=0.802 total time=  19.1s\n",
      "[LibSVM][CV 3/3] END classifier__C=2, classifier__kernel=linear;, score=0.800 total time=   7.6s\n",
      "[LibSVM][CV 1/3] END classifier__C=3, classifier__kernel=linear;, score=0.788 total time=   6.4s\n",
      "[LibSVM][CV 2/3] END classifier__C=3, classifier__kernel=linear;, score=0.804 total time=  23.3s\n",
      "[LibSVM][CV 3/3] END classifier__C=3, classifier__kernel=linear;, score=0.799 total time=  11.8s\n",
      "[LibSVM]149.2548559\n"
     ]
    }
   ],
   "source": [
    "# enrich data\n",
    "index_clusters = pipeline_pca.predict(feature_upsampled)\n",
    "feature_upsampled['CLUSTER'] = index_clusters\n",
    "\n",
    "t0 = perf_counter()\n",
    "\n",
    "pipeline_svm = classifier_grid_searcher.fit(feature_upsampled.iloc[::30], target_upsampled.iloc[::30])\n",
    "\n",
    "print(perf_counter() - t0)"
   ],
   "metadata": {
    "collapsed": false,
    "pycharm": {
     "name": "#%%\n"
    }
   }
  },
  {
   "cell_type": "code",
   "execution_count": 68,
   "outputs": [
    {
     "name": "stdout",
     "output_type": "stream",
     "text": [
      "0.7966116856833912\n"
     ]
    },
    {
     "data": {
      "text/plain": "array([[23923,  9867],\n       [   74,   350]], dtype=int64)"
     },
     "execution_count": 68,
     "metadata": {},
     "output_type": "execute_result"
    }
   ],
   "source": [
    "pred = pipeline_svm.predict(feature_mailout)\n",
    "print(pipeline_svm.best_score_)\n",
    "confusion_matrix(target_mailout, pred)"
   ],
   "metadata": {
    "collapsed": false,
    "pycharm": {
     "name": "#%%\n"
    }
   }
  },
  {
   "cell_type": "markdown",
   "source": [
    "We can see here that the performance improved majorly again, and we see that the miss rate is further reduced as well. Therefore, we should go with the upscaling method."
   ],
   "metadata": {
    "collapsed": false,
    "pycharm": {
     "name": "#%% md\n"
    }
   }
  },
  {
   "cell_type": "markdown",
   "source": [
    "### Classify Test Dataset\n",
    "Now its time to classify the test datset provided to see the performance on a test set."
   ],
   "metadata": {
    "collapsed": false,
    "pycharm": {
     "name": "#%% md\n"
    }
   }
  },
  {
   "cell_type": "markdown",
   "source": [
    "#### Preprocess data"
   ],
   "metadata": {
    "collapsed": false,
    "pycharm": {
     "name": "#%% md\n"
    }
   }
  },
  {
   "cell_type": "code",
   "execution_count": 72,
   "outputs": [
    {
     "data": {
      "text/plain": "    LNR  AGER_TYP  AKT_DAT_KL  ALTER_HH  ALTER_KIND1  ALTER_KIND2  \\\n0  1754         2         1.0       7.0          NaN          NaN   \n1  1770        -1         1.0       0.0          NaN          NaN   \n2  1465         2         9.0      16.0          NaN          NaN   \n3  1470        -1         7.0       0.0          NaN          NaN   \n4  1478         1         1.0      21.0          NaN          NaN   \n\n   ALTER_KIND3  ALTER_KIND4  ALTERSKATEGORIE_FEIN  ANZ_HAUSHALTE_AKTIV  ...  \\\n0          NaN          NaN                   6.0                  2.0  ...   \n1          NaN          NaN                   0.0                 20.0  ...   \n2          NaN          NaN                  11.0                  2.0  ...   \n3          NaN          NaN                   0.0                  1.0  ...   \n4          NaN          NaN                  13.0                  1.0  ...   \n\n   VHN  VK_DHT4A  VK_DISTANZ  VK_ZG11  W_KEIT_KIND_HH  WOHNDAUER_2008  \\\n0  4.0       5.0         6.0      3.0             6.0             9.0   \n1  1.0       5.0         2.0      1.0             6.0             9.0   \n2  3.0       9.0         6.0      3.0             2.0             9.0   \n3  2.0       6.0         6.0      3.0             NaN             9.0   \n4  1.0       2.0         4.0      3.0             3.0             9.0   \n\n   WOHNLAGE ZABEOTYP ANREDE_KZ ALTERSKATEGORIE_GROB  \n0       3.0        3         1                    4  \n1       5.0        3         1                    4  \n2       4.0        3         2                    4  \n3       2.0        3         2                    4  \n4       7.0        4         2                    4  \n\n[5 rows x 366 columns]",
      "text/html": "<div>\n<style scoped>\n    .dataframe tbody tr th:only-of-type {\n        vertical-align: middle;\n    }\n\n    .dataframe tbody tr th {\n        vertical-align: top;\n    }\n\n    .dataframe thead th {\n        text-align: right;\n    }\n</style>\n<table border=\"1\" class=\"dataframe\">\n  <thead>\n    <tr style=\"text-align: right;\">\n      <th></th>\n      <th>LNR</th>\n      <th>AGER_TYP</th>\n      <th>AKT_DAT_KL</th>\n      <th>ALTER_HH</th>\n      <th>ALTER_KIND1</th>\n      <th>ALTER_KIND2</th>\n      <th>ALTER_KIND3</th>\n      <th>ALTER_KIND4</th>\n      <th>ALTERSKATEGORIE_FEIN</th>\n      <th>ANZ_HAUSHALTE_AKTIV</th>\n      <th>...</th>\n      <th>VHN</th>\n      <th>VK_DHT4A</th>\n      <th>VK_DISTANZ</th>\n      <th>VK_ZG11</th>\n      <th>W_KEIT_KIND_HH</th>\n      <th>WOHNDAUER_2008</th>\n      <th>WOHNLAGE</th>\n      <th>ZABEOTYP</th>\n      <th>ANREDE_KZ</th>\n      <th>ALTERSKATEGORIE_GROB</th>\n    </tr>\n  </thead>\n  <tbody>\n    <tr>\n      <th>0</th>\n      <td>1754</td>\n      <td>2</td>\n      <td>1.0</td>\n      <td>7.0</td>\n      <td>NaN</td>\n      <td>NaN</td>\n      <td>NaN</td>\n      <td>NaN</td>\n      <td>6.0</td>\n      <td>2.0</td>\n      <td>...</td>\n      <td>4.0</td>\n      <td>5.0</td>\n      <td>6.0</td>\n      <td>3.0</td>\n      <td>6.0</td>\n      <td>9.0</td>\n      <td>3.0</td>\n      <td>3</td>\n      <td>1</td>\n      <td>4</td>\n    </tr>\n    <tr>\n      <th>1</th>\n      <td>1770</td>\n      <td>-1</td>\n      <td>1.0</td>\n      <td>0.0</td>\n      <td>NaN</td>\n      <td>NaN</td>\n      <td>NaN</td>\n      <td>NaN</td>\n      <td>0.0</td>\n      <td>20.0</td>\n      <td>...</td>\n      <td>1.0</td>\n      <td>5.0</td>\n      <td>2.0</td>\n      <td>1.0</td>\n      <td>6.0</td>\n      <td>9.0</td>\n      <td>5.0</td>\n      <td>3</td>\n      <td>1</td>\n      <td>4</td>\n    </tr>\n    <tr>\n      <th>2</th>\n      <td>1465</td>\n      <td>2</td>\n      <td>9.0</td>\n      <td>16.0</td>\n      <td>NaN</td>\n      <td>NaN</td>\n      <td>NaN</td>\n      <td>NaN</td>\n      <td>11.0</td>\n      <td>2.0</td>\n      <td>...</td>\n      <td>3.0</td>\n      <td>9.0</td>\n      <td>6.0</td>\n      <td>3.0</td>\n      <td>2.0</td>\n      <td>9.0</td>\n      <td>4.0</td>\n      <td>3</td>\n      <td>2</td>\n      <td>4</td>\n    </tr>\n    <tr>\n      <th>3</th>\n      <td>1470</td>\n      <td>-1</td>\n      <td>7.0</td>\n      <td>0.0</td>\n      <td>NaN</td>\n      <td>NaN</td>\n      <td>NaN</td>\n      <td>NaN</td>\n      <td>0.0</td>\n      <td>1.0</td>\n      <td>...</td>\n      <td>2.0</td>\n      <td>6.0</td>\n      <td>6.0</td>\n      <td>3.0</td>\n      <td>NaN</td>\n      <td>9.0</td>\n      <td>2.0</td>\n      <td>3</td>\n      <td>2</td>\n      <td>4</td>\n    </tr>\n    <tr>\n      <th>4</th>\n      <td>1478</td>\n      <td>1</td>\n      <td>1.0</td>\n      <td>21.0</td>\n      <td>NaN</td>\n      <td>NaN</td>\n      <td>NaN</td>\n      <td>NaN</td>\n      <td>13.0</td>\n      <td>1.0</td>\n      <td>...</td>\n      <td>1.0</td>\n      <td>2.0</td>\n      <td>4.0</td>\n      <td>3.0</td>\n      <td>3.0</td>\n      <td>9.0</td>\n      <td>7.0</td>\n      <td>4</td>\n      <td>2</td>\n      <td>4</td>\n    </tr>\n  </tbody>\n</table>\n<p>5 rows × 366 columns</p>\n</div>"
     },
     "execution_count": 72,
     "metadata": {},
     "output_type": "execute_result"
    }
   ],
   "source": [
    "mailout_test = pd.read_csv('data/Udacity_MAILOUT_052018_TEST.csv', sep=';')\n",
    "mailout_test.head()"
   ],
   "metadata": {
    "collapsed": false,
    "pycharm": {
     "name": "#%%\n"
    }
   }
  },
  {
   "cell_type": "code",
   "execution_count": 75,
   "outputs": [
    {
     "ename": "KeyError",
     "evalue": "\"['RESPONSE'] not found in axis\"",
     "output_type": "error",
     "traceback": [
      "\u001B[1;31m---------------------------------------------------------------------------\u001B[0m",
      "\u001B[1;31mKeyError\u001B[0m                                  Traceback (most recent call last)",
      "Cell \u001B[1;32mIn[75], line 1\u001B[0m\n\u001B[1;32m----> 1\u001B[0m common_columns \u001B[38;5;241m=\u001B[39m \u001B[43mcommon_columns\u001B[49m\u001B[38;5;241;43m.\u001B[39;49m\u001B[43mdrop\u001B[49m\u001B[43m(\u001B[49m\u001B[38;5;124;43m'\u001B[39;49m\u001B[38;5;124;43mRESPONSE\u001B[39;49m\u001B[38;5;124;43m'\u001B[39;49m\u001B[43m)\u001B[49m\n",
      "File \u001B[1;32m~\\Anaconda3\\envs\\udacity\\lib\\site-packages\\pandas\\core\\indexes\\base.py:6934\u001B[0m, in \u001B[0;36mIndex.drop\u001B[1;34m(self, labels, errors)\u001B[0m\n\u001B[0;32m   6932\u001B[0m \u001B[38;5;28;01mif\u001B[39;00m mask\u001B[38;5;241m.\u001B[39many():\n\u001B[0;32m   6933\u001B[0m     \u001B[38;5;28;01mif\u001B[39;00m errors \u001B[38;5;241m!=\u001B[39m \u001B[38;5;124m\"\u001B[39m\u001B[38;5;124mignore\u001B[39m\u001B[38;5;124m\"\u001B[39m:\n\u001B[1;32m-> 6934\u001B[0m         \u001B[38;5;28;01mraise\u001B[39;00m \u001B[38;5;167;01mKeyError\u001B[39;00m(\u001B[38;5;124mf\u001B[39m\u001B[38;5;124m\"\u001B[39m\u001B[38;5;132;01m{\u001B[39;00m\u001B[38;5;28mlist\u001B[39m(labels[mask])\u001B[38;5;132;01m}\u001B[39;00m\u001B[38;5;124m not found in axis\u001B[39m\u001B[38;5;124m\"\u001B[39m)\n\u001B[0;32m   6935\u001B[0m     indexer \u001B[38;5;241m=\u001B[39m indexer[\u001B[38;5;241m~\u001B[39mmask]\n\u001B[0;32m   6936\u001B[0m \u001B[38;5;28;01mreturn\u001B[39;00m \u001B[38;5;28mself\u001B[39m\u001B[38;5;241m.\u001B[39mdelete(indexer)\n",
      "\u001B[1;31mKeyError\u001B[0m: \"['RESPONSE'] not found in axis\""
     ]
    }
   ],
   "source": [
    "common_columns = common_columns.drop('RESPONSE')"
   ],
   "metadata": {
    "collapsed": false,
    "pycharm": {
     "name": "#%%\n"
    }
   }
  },
  {
   "cell_type": "code",
   "execution_count": 76,
   "outputs": [
    {
     "name": "stdout",
     "output_type": "stream",
     "text": [
      "(42833, 366)\n",
      "(34177, 365)\n"
     ]
    },
    {
     "data": {
      "text/plain": "    LNR  AGER_TYP  AKT_DAT_KL  ALTER_HH  ALTER_KIND1  ALTER_KIND2  \\\n0  1754         2         1.0       7.0         -1.0         -1.0   \n1  1770        -1         1.0       0.0         -1.0         -1.0   \n2  1465         2         9.0      16.0         -1.0         -1.0   \n3  1470        -1         7.0       0.0         -1.0         -1.0   \n4  1478         1         1.0      21.0         -1.0         -1.0   \n\n   ALTER_KIND3  ALTER_KIND4  ALTERSKATEGORIE_FEIN  ANZ_HAUSHALTE_AKTIV  ...  \\\n0         -1.0         -1.0                   6.0                  2.0  ...   \n1         -1.0         -1.0                   0.0                 20.0  ...   \n2         -1.0         -1.0                  11.0                  2.0  ...   \n3         -1.0         -1.0                   0.0                  1.0  ...   \n4         -1.0         -1.0                  13.0                  1.0  ...   \n\n   VHN  VK_DHT4A  VK_DISTANZ  VK_ZG11  W_KEIT_KIND_HH  WOHNDAUER_2008  \\\n0  4.0       5.0         6.0      3.0             6.0             9.0   \n1  1.0       5.0         2.0      1.0             6.0             9.0   \n2  3.0       9.0         6.0      3.0             2.0             9.0   \n3  2.0       6.0         6.0      3.0            -1.0             9.0   \n4  1.0       2.0         4.0      3.0             3.0             9.0   \n\n   WOHNLAGE  ZABEOTYP  ANREDE_KZ  ALTERSKATEGORIE_GROB  \n0       3.0         3          1                     4  \n1       5.0         3          1                     4  \n2       4.0         3          2                     4  \n3       2.0         3          2                     4  \n4       7.0         4          2                     4  \n\n[5 rows x 365 columns]",
      "text/html": "<div>\n<style scoped>\n    .dataframe tbody tr th:only-of-type {\n        vertical-align: middle;\n    }\n\n    .dataframe tbody tr th {\n        vertical-align: top;\n    }\n\n    .dataframe thead th {\n        text-align: right;\n    }\n</style>\n<table border=\"1\" class=\"dataframe\">\n  <thead>\n    <tr style=\"text-align: right;\">\n      <th></th>\n      <th>LNR</th>\n      <th>AGER_TYP</th>\n      <th>AKT_DAT_KL</th>\n      <th>ALTER_HH</th>\n      <th>ALTER_KIND1</th>\n      <th>ALTER_KIND2</th>\n      <th>ALTER_KIND3</th>\n      <th>ALTER_KIND4</th>\n      <th>ALTERSKATEGORIE_FEIN</th>\n      <th>ANZ_HAUSHALTE_AKTIV</th>\n      <th>...</th>\n      <th>VHN</th>\n      <th>VK_DHT4A</th>\n      <th>VK_DISTANZ</th>\n      <th>VK_ZG11</th>\n      <th>W_KEIT_KIND_HH</th>\n      <th>WOHNDAUER_2008</th>\n      <th>WOHNLAGE</th>\n      <th>ZABEOTYP</th>\n      <th>ANREDE_KZ</th>\n      <th>ALTERSKATEGORIE_GROB</th>\n    </tr>\n  </thead>\n  <tbody>\n    <tr>\n      <th>0</th>\n      <td>1754</td>\n      <td>2</td>\n      <td>1.0</td>\n      <td>7.0</td>\n      <td>-1.0</td>\n      <td>-1.0</td>\n      <td>-1.0</td>\n      <td>-1.0</td>\n      <td>6.0</td>\n      <td>2.0</td>\n      <td>...</td>\n      <td>4.0</td>\n      <td>5.0</td>\n      <td>6.0</td>\n      <td>3.0</td>\n      <td>6.0</td>\n      <td>9.0</td>\n      <td>3.0</td>\n      <td>3</td>\n      <td>1</td>\n      <td>4</td>\n    </tr>\n    <tr>\n      <th>1</th>\n      <td>1770</td>\n      <td>-1</td>\n      <td>1.0</td>\n      <td>0.0</td>\n      <td>-1.0</td>\n      <td>-1.0</td>\n      <td>-1.0</td>\n      <td>-1.0</td>\n      <td>0.0</td>\n      <td>20.0</td>\n      <td>...</td>\n      <td>1.0</td>\n      <td>5.0</td>\n      <td>2.0</td>\n      <td>1.0</td>\n      <td>6.0</td>\n      <td>9.0</td>\n      <td>5.0</td>\n      <td>3</td>\n      <td>1</td>\n      <td>4</td>\n    </tr>\n    <tr>\n      <th>2</th>\n      <td>1465</td>\n      <td>2</td>\n      <td>9.0</td>\n      <td>16.0</td>\n      <td>-1.0</td>\n      <td>-1.0</td>\n      <td>-1.0</td>\n      <td>-1.0</td>\n      <td>11.0</td>\n      <td>2.0</td>\n      <td>...</td>\n      <td>3.0</td>\n      <td>9.0</td>\n      <td>6.0</td>\n      <td>3.0</td>\n      <td>2.0</td>\n      <td>9.0</td>\n      <td>4.0</td>\n      <td>3</td>\n      <td>2</td>\n      <td>4</td>\n    </tr>\n    <tr>\n      <th>3</th>\n      <td>1470</td>\n      <td>-1</td>\n      <td>7.0</td>\n      <td>0.0</td>\n      <td>-1.0</td>\n      <td>-1.0</td>\n      <td>-1.0</td>\n      <td>-1.0</td>\n      <td>0.0</td>\n      <td>1.0</td>\n      <td>...</td>\n      <td>2.0</td>\n      <td>6.0</td>\n      <td>6.0</td>\n      <td>3.0</td>\n      <td>-1.0</td>\n      <td>9.0</td>\n      <td>2.0</td>\n      <td>3</td>\n      <td>2</td>\n      <td>4</td>\n    </tr>\n    <tr>\n      <th>4</th>\n      <td>1478</td>\n      <td>1</td>\n      <td>1.0</td>\n      <td>21.0</td>\n      <td>-1.0</td>\n      <td>-1.0</td>\n      <td>-1.0</td>\n      <td>-1.0</td>\n      <td>13.0</td>\n      <td>1.0</td>\n      <td>...</td>\n      <td>1.0</td>\n      <td>2.0</td>\n      <td>4.0</td>\n      <td>3.0</td>\n      <td>3.0</td>\n      <td>9.0</td>\n      <td>7.0</td>\n      <td>4</td>\n      <td>2</td>\n      <td>4</td>\n    </tr>\n  </tbody>\n</table>\n<p>5 rows × 365 columns</p>\n</div>"
     },
     "execution_count": 76,
     "metadata": {},
     "output_type": "execute_result"
    }
   ],
   "source": [
    "print(mailout_test.shape)\n",
    "mailout_test = clear_data(mailout_test)\n",
    "mailout_test.drop(['EINGEFUEGT_AM'], axis=1, inplace=True)\n",
    "\n",
    "print(mailout_test.shape)\n",
    "mailout_test.head()"
   ],
   "metadata": {
    "collapsed": false,
    "pycharm": {
     "name": "#%%\n"
    }
   }
  },
  {
   "cell_type": "markdown",
   "source": [
    "#### Run Classifier on test data"
   ],
   "metadata": {
    "collapsed": false,
    "pycharm": {
     "name": "#%% md\n"
    }
   }
  },
  {
   "cell_type": "code",
   "execution_count": 78,
   "outputs": [],
   "source": [
    "# enrich data\n",
    "index_clusters = pipeline_pca.predict(mailout_test)\n",
    "mailout_test['CLUSTER'] = index_clusters"
   ],
   "metadata": {
    "collapsed": false,
    "pycharm": {
     "name": "#%%\n"
    }
   }
  },
  {
   "cell_type": "code",
   "execution_count": 79,
   "outputs": [],
   "source": [
    "response_test = pipeline_svm.predict(mailout_test)"
   ],
   "metadata": {
    "collapsed": false,
    "pycharm": {
     "name": "#%%\n"
    }
   }
  },
  {
   "cell_type": "code",
   "execution_count": 81,
   "outputs": [],
   "source": [
    "pd.to_pickle(response_test, 'data/RESULT_mailout_test.pkl')"
   ],
   "metadata": {
    "collapsed": false,
    "pycharm": {
     "name": "#%%\n"
    }
   }
  },
  {
   "cell_type": "markdown",
   "source": [
    "## Part 3: Conclusion\n",
    "I have shown how to cluster and separate the customer group from the whole population using PCA for dimensionality reduction and KMeans for the clustering. PCA was also compared to ICA, but since the ICA clusters were not as clearly seperable as the clusters created with the PCA, PCA was chosen.\n",
    "\n",
    "After that, a clustering pipeline was trained to enhance the dataset provided to train a classifier. This data was cleaned, clustered and categorised.\n",
    "To classify the data correctly, a gridsearch was performed using SVM as a classifier.\n",
    "It was shown that the linear kernel was not only very fast for training but also performs best for the optimization. The metrics optimized was the F1 Score, since the data was highly imbalanced.\n",
    "\n",
    "To handle the imbalance in the data, the data was upscaled, which improved the performance significantly.\n",
    "\n",
    "### Further improvements\n",
    "To further improve the classifier, there are a few things that can be changed.\n",
    "\n",
    "First of all, different clustering and classifying algorithms can be compared to each other. Here we only took a look at one because the main problem here was that the data was highly imbalanced, but it is worth trying out other algorithms like DBScan for the clustering or XGBoost, Random Forest or even a Neural Network for classification as well.\n",
    "\n",
    "In addition, more advanced techniques to handle imbalanced data can be applied, such as SMOTE or a Balance Bagging Classifier ([Further details here](https://www.analyticsvidhya.com/blog/2021/06/5-techniques-to-handle-imbalanced-data-for-a-classification-problem/))."
   ],
   "metadata": {
    "collapsed": false,
    "pycharm": {
     "name": "#%% md\n"
    }
   }
  },
  {
   "cell_type": "code",
   "execution_count": null,
   "outputs": [],
   "source": [],
   "metadata": {
    "collapsed": false,
    "pycharm": {
     "name": "#%%\n"
    }
   }
  }
 ],
 "metadata": {
  "kernelspec": {
   "display_name": "Python 3",
   "language": "python",
   "name": "python3"
  },
  "language_info": {
   "codemirror_mode": {
    "name": "ipython",
    "version": 3
   },
   "file_extension": ".py",
   "mimetype": "text/x-python",
   "name": "python",
   "nbconvert_exporter": "python",
   "pygments_lexer": "ipython3",
   "version": "3.6.3"
  }
 },
 "nbformat": 4,
 "nbformat_minor": 2
}