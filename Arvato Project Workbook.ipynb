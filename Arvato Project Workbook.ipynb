{
 "cells": [
  {
   "cell_type": "markdown",
   "metadata": {
    "pycharm": {
     "name": "#%% md\n"
    }
   },
   "source": [
    "# Capstone Project: Create a Customer Segmentation Report for Arvato Financial Services\n",
    "\n",
    "In this project, you will analyze demographics data for customers of a mail-order sales company in Germany, comparing it against demographics information for the general population. You'll use unsupervised learning techniques to perform customer segmentation, identifying the parts of the population that best describe the core customer base of the company. Then, you'll apply what you've learned on a third dataset with demographics information for targets of a marketing campaign for the company, and use a model to predict which individuals are most likely to convert into becoming customers for the company. The data that you will use has been provided by our partners at Bertelsmann Arvato Analytics, and represents a real-life data science task.\n",
    "\n",
    "The versions of those two datasets used in this project will include many more features and has not been pre-cleaned. You are also free to choose whatever approach you'd like to analyzing the data rather than follow pre-determined steps. In your work on this project, make sure that you carefully document your steps and decisions, since your main deliverable for this project will be a blog post reporting your findings."
   ]
  },
  {
   "cell_type": "code",
   "execution_count": 3,
   "metadata": {
    "pycharm": {
     "name": "#%%\n"
    }
   },
   "outputs": [],
   "source": [
    "import matplotlib.pyplot as plt\n",
    "# import libraries here; add more as necessary\n",
    "import numpy as np\n",
    "import pandas as pd\n",
    "from sklearn.pipeline import Pipeline\n",
    "from sklearn.preprocessing import StandardScaler\n",
    "from sklearn.model_selection import GridSearchCV\n",
    "from sklearn.metrics import confusion_matrix\n",
    "\n",
    "# magic word for producing visualizations in notebook\n",
    "%matplotlib inline"
   ]
  },
  {
   "cell_type": "markdown",
   "metadata": {
    "pycharm": {
     "name": "#%% md\n"
    }
   },
   "source": [
    "## Part 0: Get to Know the Data\n",
    "\n",
    "There are four data files associated with this project:\n",
    "\n",
    "- `Udacity_AZDIAS_052018.csv`: Demographics data for the general population of Germany; 891 211 persons (rows) x 366 features (columns).\n",
    "- `Udacity_CUSTOMERS_052018.csv`: Demographics data for customers of a mail-order company; 191 652 persons (rows) x 369 features (columns).\n",
    "- `Udacity_MAILOUT_052018_TRAIN.csv`: Demographics data for individuals who were targets of a marketing campaign; 42 982 persons (rows) x 367 (columns).\n",
    "- `Udacity_MAILOUT_052018_TEST.csv`: Demographics data for individuals who were targets of a marketing campaign; 42 833 persons (rows) x 366 (columns).\n",
    "\n",
    "Each row of the demographics files represents a single person, but also includes information outside of individuals, including information about their household, building, and neighborhood. Use the information from the first two files to figure out how customers (\"CUSTOMERS\") are similar to or differ from the general population at large (\"AZDIAS\"), then use your analysis to make predictions on the other two files (\"MAILOUT\"), predicting which recipients are most likely to become a customer for the mail-order company.\n",
    "\n",
    "The \"CUSTOMERS\" file contains three extra columns ('CUSTOMER_GROUP', 'ONLINE_PURCHASE', and 'PRODUCT_GROUP'), which provide broad information about the customers depicted in the file. The original \"MAILOUT\" file included one additional column, \"RESPONSE\", which indicated whether or not each recipient became a customer of the company. For the \"TRAIN\" subset, this column has been retained, but in the \"TEST\" subset it has been removed; it is against that withheld column that your final predictions will be assessed in the Kaggle competition.\n",
    "\n",
    "Otherwise, all of the remaining columns are the same between the three data files. For more information about the columns depicted in the files, you can refer to two Excel spreadsheets provided in the workspace. [One of them](./DIAS Information Levels - Attributes 2017.xlsx) is a top-level list of attributes and descriptions, organized by informational category. [The other](./DIAS Attributes - Values 2017.xlsx) is a detailed mapping of data values for each feature in alphabetical order.\n",
    "\n",
    "In the below cell, we've provided some initial code to load in the first two datasets. Note for all of the `.csv` data files in this project that they're semicolon (`;`) delimited, so an additional argument in the [`read_csv()`](https://pandas.pydata.org/pandas-docs/stable/generated/pandas.read_csv.html) call has been included to read in the data properly. Also, considering the size of the datasets, it may take some time for them to load completely.\n",
    "\n",
    "You'll notice when the data is loaded in that a warning message will immediately pop up. Before you really start digging into the modeling and analysis, you're going to need to perform some cleaning. Take some time to browse the structure of the data and look over the informational spreadsheets to understand the data values. Make some decisions on which features to keep, which features to drop, and if any revisions need to be made on data formats. It'll be a good idea to create a function with pre-processing steps, since you'll need to clean all of the datasets before you work with them."
   ]
  },
  {
   "cell_type": "markdown",
   "source": [
    "### Load Data"
   ],
   "metadata": {
    "collapsed": false,
    "pycharm": {
     "name": "#%% md\n"
    }
   }
  },
  {
   "cell_type": "code",
   "execution_count": 4,
   "metadata": {
    "pycharm": {
     "name": "#%%\n"
    }
   },
   "outputs": [
    {
     "name": "stderr",
     "output_type": "stream",
     "text": [
      "C:\\Users\\K35400\\AppData\\Local\\Temp\\ipykernel_20644\\1216095799.py:2: DtypeWarning: Columns (18,19) have mixed types. Specify dtype option on import or set low_memory=False.\n",
      "  azdias = pd.read_csv('data/Udacity_AZDIAS_052018.csv', sep=';')\n",
      "C:\\Users\\K35400\\AppData\\Local\\Temp\\ipykernel_20644\\1216095799.py:3: DtypeWarning: Columns (18,19) have mixed types. Specify dtype option on import or set low_memory=False.\n",
      "  customers = pd.read_csv('data/Udacity_CUSTOMERS_052018.csv', sep=';')\n"
     ]
    }
   ],
   "source": [
    "# load in the data\n",
    "azdias = pd.read_csv('data/Udacity_AZDIAS_052018.csv', sep=';')\n",
    "customers = pd.read_csv('data/Udacity_CUSTOMERS_052018.csv', sep=';')"
   ]
  },
  {
   "cell_type": "markdown",
   "source": [
    "#### Data Exploration\n",
    "Befor we start working with the data, we should try to get an overview of the data. As mentioned, the datsets have almost identical columns, therefore we are exploring only one dataset and clean every dataset afterwards according to our findings in the `azdias` dataset.\n",
    "\n",
    "#### Describing the Data"
   ],
   "metadata": {
    "collapsed": false,
    "pycharm": {
     "name": "#%% md\n"
    }
   }
  },
  {
   "cell_type": "code",
   "execution_count": 5,
   "outputs": [
    {
     "data": {
      "text/plain": "                LNR       AGER_TYP     AKT_DAT_KL       ALTER_HH  \\\ncount  8.912210e+05  891221.000000  817722.000000  817722.000000   \nmean   6.372630e+05      -0.358435       4.421928      10.864126   \nstd    2.572735e+05       1.198724       3.638805       7.639683   \nmin    1.916530e+05      -1.000000       1.000000       0.000000   \n25%    4.144580e+05      -1.000000       1.000000       0.000000   \n50%    6.372630e+05      -1.000000       3.000000      13.000000   \n75%    8.600680e+05      -1.000000       9.000000      17.000000   \nmax    1.082873e+06       3.000000       9.000000      21.000000   \n\n        ALTER_KIND1   ALTER_KIND2  ALTER_KIND3  ALTER_KIND4  \\\ncount  81058.000000  29499.000000  6170.000000  1205.000000   \nmean      11.745392     13.402658    14.476013    15.089627   \nstd        4.097660      3.243300     2.712427     2.452932   \nmin        2.000000      2.000000     4.000000     7.000000   \n25%        8.000000     11.000000    13.000000    14.000000   \n50%       12.000000     14.000000    15.000000    15.000000   \n75%       15.000000     16.000000    17.000000    17.000000   \nmax       18.000000     18.000000    18.000000    18.000000   \n\n       ALTERSKATEGORIE_FEIN  ANZ_HAUSHALTE_AKTIV  ...            VHN  \\\ncount         628274.000000        798073.000000  ...  770025.000000   \nmean              13.700717             8.287263  ...       2.417322   \nstd                5.079849            15.628087  ...       1.166572   \nmin                0.000000             0.000000  ...       0.000000   \n25%               11.000000             1.000000  ...       2.000000   \n50%               14.000000             4.000000  ...       2.000000   \n75%               17.000000             9.000000  ...       3.000000   \nmax               25.000000           595.000000  ...       4.000000   \n\n            VK_DHT4A     VK_DISTANZ        VK_ZG11  W_KEIT_KIND_HH  \\\ncount  815304.000000  815304.000000  815304.000000   783619.000000   \nmean        6.001214       7.532130       5.945972        3.933406   \nstd         2.856091       3.247789       2.771464        1.964701   \nmin         1.000000       1.000000       1.000000        0.000000   \n25%         3.000000       5.000000       4.000000        2.000000   \n50%         6.000000       8.000000       6.000000        4.000000   \n75%         9.000000      10.000000       8.000000        6.000000   \nmax        11.000000      13.000000      11.000000        6.000000   \n\n       WOHNDAUER_2008       WOHNLAGE       ZABEOTYP      ANREDE_KZ  \\\ncount   817722.000000  798073.000000  891221.000000  891221.000000   \nmean         7.908791       4.052836       3.362438       1.522098   \nstd          1.923137       1.949539       1.352704       0.499512   \nmin          1.000000       0.000000       1.000000       1.000000   \n25%          8.000000       3.000000       3.000000       1.000000   \n50%          9.000000       3.000000       3.000000       2.000000   \n75%          9.000000       5.000000       4.000000       2.000000   \nmax          9.000000       8.000000       6.000000       2.000000   \n\n       ALTERSKATEGORIE_GROB  \ncount         891221.000000  \nmean               2.777398  \nstd                1.068775  \nmin                1.000000  \n25%                2.000000  \n50%                3.000000  \n75%                4.000000  \nmax                9.000000  \n\n[8 rows x 360 columns]",
      "text/html": "<div>\n<style scoped>\n    .dataframe tbody tr th:only-of-type {\n        vertical-align: middle;\n    }\n\n    .dataframe tbody tr th {\n        vertical-align: top;\n    }\n\n    .dataframe thead th {\n        text-align: right;\n    }\n</style>\n<table border=\"1\" class=\"dataframe\">\n  <thead>\n    <tr style=\"text-align: right;\">\n      <th></th>\n      <th>LNR</th>\n      <th>AGER_TYP</th>\n      <th>AKT_DAT_KL</th>\n      <th>ALTER_HH</th>\n      <th>ALTER_KIND1</th>\n      <th>ALTER_KIND2</th>\n      <th>ALTER_KIND3</th>\n      <th>ALTER_KIND4</th>\n      <th>ALTERSKATEGORIE_FEIN</th>\n      <th>ANZ_HAUSHALTE_AKTIV</th>\n      <th>...</th>\n      <th>VHN</th>\n      <th>VK_DHT4A</th>\n      <th>VK_DISTANZ</th>\n      <th>VK_ZG11</th>\n      <th>W_KEIT_KIND_HH</th>\n      <th>WOHNDAUER_2008</th>\n      <th>WOHNLAGE</th>\n      <th>ZABEOTYP</th>\n      <th>ANREDE_KZ</th>\n      <th>ALTERSKATEGORIE_GROB</th>\n    </tr>\n  </thead>\n  <tbody>\n    <tr>\n      <th>count</th>\n      <td>8.912210e+05</td>\n      <td>891221.000000</td>\n      <td>817722.000000</td>\n      <td>817722.000000</td>\n      <td>81058.000000</td>\n      <td>29499.000000</td>\n      <td>6170.000000</td>\n      <td>1205.000000</td>\n      <td>628274.000000</td>\n      <td>798073.000000</td>\n      <td>...</td>\n      <td>770025.000000</td>\n      <td>815304.000000</td>\n      <td>815304.000000</td>\n      <td>815304.000000</td>\n      <td>783619.000000</td>\n      <td>817722.000000</td>\n      <td>798073.000000</td>\n      <td>891221.000000</td>\n      <td>891221.000000</td>\n      <td>891221.000000</td>\n    </tr>\n    <tr>\n      <th>mean</th>\n      <td>6.372630e+05</td>\n      <td>-0.358435</td>\n      <td>4.421928</td>\n      <td>10.864126</td>\n      <td>11.745392</td>\n      <td>13.402658</td>\n      <td>14.476013</td>\n      <td>15.089627</td>\n      <td>13.700717</td>\n      <td>8.287263</td>\n      <td>...</td>\n      <td>2.417322</td>\n      <td>6.001214</td>\n      <td>7.532130</td>\n      <td>5.945972</td>\n      <td>3.933406</td>\n      <td>7.908791</td>\n      <td>4.052836</td>\n      <td>3.362438</td>\n      <td>1.522098</td>\n      <td>2.777398</td>\n    </tr>\n    <tr>\n      <th>std</th>\n      <td>2.572735e+05</td>\n      <td>1.198724</td>\n      <td>3.638805</td>\n      <td>7.639683</td>\n      <td>4.097660</td>\n      <td>3.243300</td>\n      <td>2.712427</td>\n      <td>2.452932</td>\n      <td>5.079849</td>\n      <td>15.628087</td>\n      <td>...</td>\n      <td>1.166572</td>\n      <td>2.856091</td>\n      <td>3.247789</td>\n      <td>2.771464</td>\n      <td>1.964701</td>\n      <td>1.923137</td>\n      <td>1.949539</td>\n      <td>1.352704</td>\n      <td>0.499512</td>\n      <td>1.068775</td>\n    </tr>\n    <tr>\n      <th>min</th>\n      <td>1.916530e+05</td>\n      <td>-1.000000</td>\n      <td>1.000000</td>\n      <td>0.000000</td>\n      <td>2.000000</td>\n      <td>2.000000</td>\n      <td>4.000000</td>\n      <td>7.000000</td>\n      <td>0.000000</td>\n      <td>0.000000</td>\n      <td>...</td>\n      <td>0.000000</td>\n      <td>1.000000</td>\n      <td>1.000000</td>\n      <td>1.000000</td>\n      <td>0.000000</td>\n      <td>1.000000</td>\n      <td>0.000000</td>\n      <td>1.000000</td>\n      <td>1.000000</td>\n      <td>1.000000</td>\n    </tr>\n    <tr>\n      <th>25%</th>\n      <td>4.144580e+05</td>\n      <td>-1.000000</td>\n      <td>1.000000</td>\n      <td>0.000000</td>\n      <td>8.000000</td>\n      <td>11.000000</td>\n      <td>13.000000</td>\n      <td>14.000000</td>\n      <td>11.000000</td>\n      <td>1.000000</td>\n      <td>...</td>\n      <td>2.000000</td>\n      <td>3.000000</td>\n      <td>5.000000</td>\n      <td>4.000000</td>\n      <td>2.000000</td>\n      <td>8.000000</td>\n      <td>3.000000</td>\n      <td>3.000000</td>\n      <td>1.000000</td>\n      <td>2.000000</td>\n    </tr>\n    <tr>\n      <th>50%</th>\n      <td>6.372630e+05</td>\n      <td>-1.000000</td>\n      <td>3.000000</td>\n      <td>13.000000</td>\n      <td>12.000000</td>\n      <td>14.000000</td>\n      <td>15.000000</td>\n      <td>15.000000</td>\n      <td>14.000000</td>\n      <td>4.000000</td>\n      <td>...</td>\n      <td>2.000000</td>\n      <td>6.000000</td>\n      <td>8.000000</td>\n      <td>6.000000</td>\n      <td>4.000000</td>\n      <td>9.000000</td>\n      <td>3.000000</td>\n      <td>3.000000</td>\n      <td>2.000000</td>\n      <td>3.000000</td>\n    </tr>\n    <tr>\n      <th>75%</th>\n      <td>8.600680e+05</td>\n      <td>-1.000000</td>\n      <td>9.000000</td>\n      <td>17.000000</td>\n      <td>15.000000</td>\n      <td>16.000000</td>\n      <td>17.000000</td>\n      <td>17.000000</td>\n      <td>17.000000</td>\n      <td>9.000000</td>\n      <td>...</td>\n      <td>3.000000</td>\n      <td>9.000000</td>\n      <td>10.000000</td>\n      <td>8.000000</td>\n      <td>6.000000</td>\n      <td>9.000000</td>\n      <td>5.000000</td>\n      <td>4.000000</td>\n      <td>2.000000</td>\n      <td>4.000000</td>\n    </tr>\n    <tr>\n      <th>max</th>\n      <td>1.082873e+06</td>\n      <td>3.000000</td>\n      <td>9.000000</td>\n      <td>21.000000</td>\n      <td>18.000000</td>\n      <td>18.000000</td>\n      <td>18.000000</td>\n      <td>18.000000</td>\n      <td>25.000000</td>\n      <td>595.000000</td>\n      <td>...</td>\n      <td>4.000000</td>\n      <td>11.000000</td>\n      <td>13.000000</td>\n      <td>11.000000</td>\n      <td>6.000000</td>\n      <td>9.000000</td>\n      <td>8.000000</td>\n      <td>6.000000</td>\n      <td>2.000000</td>\n      <td>9.000000</td>\n    </tr>\n  </tbody>\n</table>\n<p>8 rows × 360 columns</p>\n</div>"
     },
     "execution_count": 5,
     "metadata": {},
     "output_type": "execute_result"
    }
   ],
   "source": [
    "azdias_desc = azdias.describe()\n",
    "azdias_desc"
   ],
   "metadata": {
    "collapsed": false,
    "pycharm": {
     "name": "#%%\n"
    }
   }
  },
  {
   "cell_type": "markdown",
   "source": [
    "##### Missing Values"
   ],
   "metadata": {
    "collapsed": false,
    "pycharm": {
     "name": "#%% md\n"
    }
   }
  },
  {
   "cell_type": "code",
   "execution_count": 6,
   "outputs": [
    {
     "name": "stdout",
     "output_type": "stream",
     "text": [
      "total number of values:  891221\n"
     ]
    },
    {
     "data": {
      "text/plain": "LNR                          0.0\nAGER_TYP                     0.0\nAKT_DAT_KL              -73499.0\nALTER_HH                -73499.0\nALTER_KIND1            -810163.0\n                          ...   \nWOHNDAUER_2008          -73499.0\nWOHNLAGE                -93148.0\nZABEOTYP                     0.0\nANREDE_KZ                    0.0\nALTERSKATEGORIE_GROB         0.0\nName: count, Length: 360, dtype: float64"
     },
     "execution_count": 6,
     "metadata": {},
     "output_type": "execute_result"
    }
   ],
   "source": [
    "print('total number of values: % i' % azdias_desc.loc['count', 'LNR'])\n",
    "azdias_desc.loc['count', :] - azdias_desc.loc['count', 'LNR']"
   ],
   "metadata": {
    "collapsed": false,
    "pycharm": {
     "name": "#%%\n"
    }
   }
  },
  {
   "cell_type": "markdown",
   "source": [
    "We can see here, that we have about 890k customers in our Dataset. We have a lot of missing data, which we can see in the anlysis above. Since we currently have no information about the importance of each column, it makes sense to keep the columns. Eventhough the importance is unknown, it is worth wile, trying simple methods to fill some of the missing data."
   ],
   "metadata": {
    "collapsed": false,
    "pycharm": {
     "name": "#%% md\n"
    }
   }
  },
  {
   "cell_type": "code",
   "execution_count": 7,
   "outputs": [
    {
     "name": "stdout",
     "output_type": "stream",
     "text": [
      "columns with missing values:\n",
      "267\n",
      "\n",
      "missing values for each column:\n"
     ]
    },
    {
     "data": {
      "text/plain": "AKT_DAT_KL        -73499.0\nALTER_HH          -73499.0\nALTER_KIND1      -810163.0\nALTER_KIND2      -861722.0\nALTER_KIND3      -885051.0\n                    ...   \nVK_DISTANZ        -75917.0\nVK_ZG11           -75917.0\nW_KEIT_KIND_HH   -107602.0\nWOHNDAUER_2008    -73499.0\nWOHNLAGE          -93148.0\nName: count, Length: 267, dtype: float64"
     },
     "execution_count": 7,
     "metadata": {},
     "output_type": "execute_result"
    }
   ],
   "source": [
    "non_cols = (azdias_desc.loc['count', :] - azdias_desc.loc['count', 'LNR']) < 0\n",
    "print(\"columns with missing values:\")\n",
    "print(len(azdias_desc.columns[non_cols]))\n",
    "\n",
    "print(\"\\nmissing values for each column:\")\n",
    "(azdias_desc.loc['count', :] - azdias_desc.loc['count', 'LNR']).loc[non_cols]"
   ],
   "metadata": {
    "collapsed": false,
    "pycharm": {
     "name": "#%%\n"
    }
   }
  },
  {
   "cell_type": "markdown",
   "source": [
    "We can see, that a lot of columns with missing data have a similar amount of missing data. This may lead to the assumption that the missing data can be grouped in a specific way.\n",
    "\n",
    "E.g.: the data containing `KBA05_*` all have the same amount of missing data. If we take a look at the description for this dataset, we can see that the data revolves around data related to cars and automotive in general, therefore we can assume that these missing data point can be imputed in the same way. The data will be imputed in the 'Data Cleaning' chapter."
   ],
   "metadata": {
    "collapsed": false,
    "pycharm": {
     "name": "#%% md\n"
    }
   }
  },
  {
   "cell_type": "code",
   "execution_count": 8,
   "outputs": [
    {
     "data": {
      "text/plain": "-105800.0    116\n-133324.0     64\n-4854.0       19\n-73499.0      11\n-93148.0       9\n-257113.0      8\n-116515.0      7\n-121196.0      3\n-97274.0       3\n-93155.0       3\n-93740.0       3\n-97216.0       3\n-75917.0       3\n-107602.0      2\n-97786.0       2\n-654153.0      1\n-810163.0      1\n-97008.0       1\n-18348.0       1\n-262947.0      1\n-890016.0      1\n-584612.0      1\n-885051.0      1\n-73969.0       1\n-861722.0      1\n-51226.0       1\nName: count, dtype: int64"
     },
     "execution_count": 8,
     "metadata": {},
     "output_type": "execute_result"
    }
   ],
   "source": [
    "missing_values = (azdias_desc.loc['count', :] - azdias_desc.loc['count', 'LNR']).loc[non_cols]\n",
    "missing_values.value_counts()"
   ],
   "metadata": {
    "collapsed": false,
    "pycharm": {
     "name": "#%%\n"
    }
   }
  },
  {
   "cell_type": "markdown",
   "source": [
    "##### Customers with missing values\n",
    "Since we have a lot of data. We should consider dropping data from customers with a lot of missing data. Hence we should first take a look at how much missing data the customers usually have.\n"
   ],
   "metadata": {
    "collapsed": false,
    "pycharm": {
     "name": "#%% md\n"
    }
   }
  },
  {
   "cell_type": "code",
   "execution_count": 9,
   "outputs": [],
   "source": [
    "customer_nans = azdias.isna().sum(axis=1)"
   ],
   "metadata": {
    "collapsed": false,
    "pycharm": {
     "name": "#%%\n"
    }
   }
  },
  {
   "cell_type": "code",
   "execution_count": 10,
   "outputs": [
    {
     "data": {
      "text/plain": "<Figure size 640x480 with 1 Axes>",
      "image/png": "[encoded data removed]"
     },
     "metadata": {},
     "output_type": "display_data"
    }
   ],
   "source": [
    "plt.hist(customer_nans, bins=50);"
   ],
   "metadata": {
    "collapsed": false,
    "pycharm": {
     "name": "#%%\n"
    }
   }
  },
  {
   "cell_type": "markdown",
   "source": [
    "The histogram above shows, that most of the customers have less than approx. 30 missing values. We may consider dropping customers with more than 50 missing values."
   ],
   "metadata": {
    "collapsed": false,
    "pycharm": {
     "name": "#%% md\n"
    }
   }
  },
  {
   "cell_type": "markdown",
   "source": [
    "##### Data Types\n",
    "It seems like most of the data is categorical, but already transformed into numerical values. As we can see below, there are still a few categorical columns left. These have to be transformed into a numerical value as well. This will also be done in the following chapters.\n",
    "\n"
   ],
   "metadata": {
    "collapsed": false,
    "pycharm": {
     "name": "#%% md\n"
    }
   }
  },
  {
   "cell_type": "code",
   "execution_count": 11,
   "outputs": [
    {
     "data": {
      "text/plain": "float64    267\nint64       93\nobject       6\ndtype: int64"
     },
     "execution_count": 11,
     "metadata": {},
     "output_type": "execute_result"
    }
   ],
   "source": [
    "azdias.dtypes.value_counts()"
   ],
   "metadata": {
    "collapsed": false,
    "pycharm": {
     "name": "#%%\n"
    }
   }
  },
  {
   "cell_type": "code",
   "execution_count": 12,
   "outputs": [
    {
     "data": {
      "text/plain": "Index(['CAMEO_DEU_2015', 'CAMEO_DEUG_2015', 'CAMEO_INTL_2015',\n       'D19_LETZTER_KAUF_BRANCHE', 'EINGEFUEGT_AM', 'OST_WEST_KZ'],\n      dtype='object')"
     },
     "execution_count": 12,
     "metadata": {},
     "output_type": "execute_result"
    }
   ],
   "source": [
    "azdias.columns[azdias.dtypes == 'object']"
   ],
   "metadata": {
    "collapsed": false,
    "pycharm": {
     "name": "#%%\n"
    }
   }
  },
  {
   "cell_type": "markdown",
   "source": [
    "##### Duplicates\n",
    "Another think to investigate is, if duplicates exist. Since the `azdias?` data has a unique id column (`LNR`), we are going to check for duplicates in this column."
   ],
   "metadata": {
    "collapsed": false,
    "pycharm": {
     "name": "#%% md\n"
    }
   }
  },
  {
   "cell_type": "code",
   "execution_count": 13,
   "outputs": [
    {
     "data": {
      "text/plain": "False"
     },
     "execution_count": 13,
     "metadata": {},
     "output_type": "execute_result"
    }
   ],
   "source": [
    "azdias.LNR.duplicated().any()"
   ],
   "metadata": {
    "collapsed": false,
    "pycharm": {
     "name": "#%%\n"
    }
   }
  },
  {
   "cell_type": "markdown",
   "source": [
    "##### Constant Values\n",
    "Next, we are going to take a look at features with constant values, to see if we have features, that have no relevance."
   ],
   "metadata": {
    "collapsed": false,
    "pycharm": {
     "name": "#%% md\n"
    }
   }
  },
  {
   "cell_type": "code",
   "execution_count": 14,
   "outputs": [],
   "source": [
    "has_unique_values = [len(icolumn.unique()) < 2 for _, icolumn in\n",
    "                     azdias.items()]"
   ],
   "metadata": {
    "collapsed": false,
    "pycharm": {
     "name": "#%%\n"
    }
   }
  },
  {
   "cell_type": "code",
   "execution_count": 15,
   "outputs": [
    {
     "data": {
      "text/plain": "0"
     },
     "execution_count": 15,
     "metadata": {},
     "output_type": "execute_result"
    }
   ],
   "source": [
    "has_unique_values.count(True)"
   ],
   "metadata": {
    "collapsed": false,
    "pycharm": {
     "name": "#%%\n"
    }
   }
  },
  {
   "cell_type": "markdown",
   "source": [
    "We see that we have no problems wih duplicates in this dataset."
   ],
   "metadata": {
    "collapsed": false,
    "pycharm": {
     "name": "#%% md\n"
    }
   }
  },
  {
   "cell_type": "markdown",
   "source": [
    "### Data Cleaning\n",
    "To work with the data we have to take a look at the columns, the data formats and clean the data, to make the data more handy. Since the data is almost the same fo each file, except for a few columns, it makes sense to clean the data for each file in the same manor. Therefore, we are going to identify all the same columns and clean the data afterwards. The remaining columns are leaned seperately, since they dont have anything in common.\n",
    "\n",
    "The data cleaning process will contain the following steps:\n",
    "- drop or impute nans\n",
    "- drop not useful customer-data\n",
    "- transforming categorical data to numerical data\n",
    "\n",
    "The evaluation of the useful customer-data will be postponed, first we have to analyse which features are actually important and which ones we can drop anyway. This will only be performed, if we see the necessity to do so."
   ],
   "metadata": {
    "collapsed": false,
    "pycharm": {
     "name": "#%% md\n"
    }
   }
  },
  {
   "cell_type": "markdown",
   "source": [
    "##### Handle Nans\n",
    "\n",
    "Since we have a lot of Nan values, it makes sense to replace them with an appropriate value.\n",
    "\n",
    "###### Unify unknown data\n",
    "We see that in the data we have some columns, that have different entries for unknown data. Usually, unknown has the flag `-1`, but in some cases it is set to `0` or to a tuple of values like `-1, 9` or `-1, 0`. To unify these entries, we are going to replace the values of `-1, 9` and `-1, 0` with `-1`, but we will still keep the `0`'s. The reason for that is, that in some cases like 'number of XY per household' it could be 0, but it could also be unknown. to keep that information, we are going to replace only the actually unknown data with `-1`'s."
   ],
   "metadata": {
    "collapsed": false,
    "pycharm": {
     "name": "#%% md\n"
    }
   }
  },
  {
   "cell_type": "code",
   "execution_count": 16,
   "outputs": [],
   "source": [
    "def replace_unknowns(data):\n",
    "    replace_dict = {'-1,0': '-1', '-1,9': '-1'}\n",
    "    data.replace(replace_dict, regex=True, inplace=True)\n",
    "    return data\n",
    "\n",
    "\n",
    "azdias = replace_unknowns(azdias)"
   ],
   "metadata": {
    "collapsed": false,
    "pycharm": {
     "name": "#%%\n"
    }
   }
  },
  {
   "cell_type": "markdown",
   "source": [
    "###### Dropping useless customers\n",
    "Since we saw that a lot of customers have very few data and we have a lot of customer data, we can simply drop them. We are going to drop every row with more than 50 missing values."
   ],
   "metadata": {
    "collapsed": false,
    "pycharm": {
     "name": "#%% md\n"
    }
   }
  },
  {
   "cell_type": "code",
   "execution_count": 17,
   "outputs": [
    {
     "data": {
      "text/plain": "(891221, 366)"
     },
     "execution_count": 17,
     "metadata": {},
     "output_type": "execute_result"
    }
   ],
   "source": [
    "azdias.shape"
   ],
   "metadata": {
    "collapsed": false,
    "pycharm": {
     "name": "#%%\n"
    }
   }
  },
  {
   "cell_type": "code",
   "execution_count": 18,
   "outputs": [
    {
     "name": "stdout",
     "output_type": "stream",
     "text": [
      "(891221, 366)\n",
      "(751331, 366)\n"
     ]
    }
   ],
   "source": [
    "def drop_useless_rows(data):\n",
    "    more_than_50_missing = data.isna().sum(axis=1) > 50\n",
    "    index_50_missing = more_than_50_missing[more_than_50_missing].index\n",
    "    data = data.drop(index_50_missing)\n",
    "\n",
    "    return data\n",
    "\n",
    "print(azdias.shape)\n",
    "azdias = drop_useless_rows(azdias)\n",
    "print(azdias.shape)"
   ],
   "metadata": {
    "collapsed": false,
    "pycharm": {
     "name": "#%%\n"
    }
   }
  },
  {
   "cell_type": "code",
   "execution_count": 19,
   "outputs": [
    {
     "data": {
      "text/plain": "      LNR  AGER_TYP  AKT_DAT_KL  ALTER_HH  ALTER_KIND1  ALTER_KIND2  \\\n1  910220        -1         9.0       0.0          NaN          NaN   \n2  910225        -1         9.0      17.0          NaN          NaN   \n3  910226         2         1.0      13.0          NaN          NaN   \n4  910241        -1         1.0      20.0          NaN          NaN   \n5  910244         3         1.0      10.0          NaN          NaN   \n\n   ALTER_KIND3  ALTER_KIND4  ALTERSKATEGORIE_FEIN  ANZ_HAUSHALTE_AKTIV  ...  \\\n1          NaN          NaN                  21.0                 11.0  ...   \n2          NaN          NaN                  17.0                 10.0  ...   \n3          NaN          NaN                  13.0                  1.0  ...   \n4          NaN          NaN                  14.0                  3.0  ...   \n5          NaN          NaN                  10.0                  5.0  ...   \n\n   VHN  VK_DHT4A  VK_DISTANZ  VK_ZG11  W_KEIT_KIND_HH  WOHNDAUER_2008  \\\n1  4.0       8.0        11.0     10.0             3.0             9.0   \n2  2.0       9.0         9.0      6.0             3.0             9.0   \n3  0.0       7.0        10.0     11.0             NaN             9.0   \n4  2.0       3.0         5.0      4.0             2.0             9.0   \n5  2.0      10.0         7.0      4.0             6.0             9.0   \n\n   WOHNLAGE ZABEOTYP ANREDE_KZ ALTERSKATEGORIE_GROB  \n1       4.0        5         2                    1  \n2       2.0        5         2                    3  \n3       7.0        3         2                    4  \n4       3.0        4         1                    3  \n5       7.0        4         2                    1  \n\n[5 rows x 366 columns]",
      "text/html": "<div>\n<style scoped>\n    .dataframe tbody tr th:only-of-type {\n        vertical-align: middle;\n    }\n\n    .dataframe tbody tr th {\n        vertical-align: top;\n    }\n\n    .dataframe thead th {\n        text-align: right;\n    }\n</style>\n<table border=\"1\" class=\"dataframe\">\n  <thead>\n    <tr style=\"text-align: right;\">\n      <th></th>\n      <th>LNR</th>\n      <th>AGER_TYP</th>\n      <th>AKT_DAT_KL</th>\n      <th>ALTER_HH</th>\n      <th>ALTER_KIND1</th>\n      <th>ALTER_KIND2</th>\n      <th>ALTER_KIND3</th>\n      <th>ALTER_KIND4</th>\n      <th>ALTERSKATEGORIE_FEIN</th>\n      <th>ANZ_HAUSHALTE_AKTIV</th>\n      <th>...</th>\n      <th>VHN</th>\n      <th>VK_DHT4A</th>\n      <th>VK_DISTANZ</th>\n      <th>VK_ZG11</th>\n      <th>W_KEIT_KIND_HH</th>\n      <th>WOHNDAUER_2008</th>\n      <th>WOHNLAGE</th>\n      <th>ZABEOTYP</th>\n      <th>ANREDE_KZ</th>\n      <th>ALTERSKATEGORIE_GROB</th>\n    </tr>\n  </thead>\n  <tbody>\n    <tr>\n      <th>1</th>\n      <td>910220</td>\n      <td>-1</td>\n      <td>9.0</td>\n      <td>0.0</td>\n      <td>NaN</td>\n      <td>NaN</td>\n      <td>NaN</td>\n      <td>NaN</td>\n      <td>21.0</td>\n      <td>11.0</td>\n      <td>...</td>\n      <td>4.0</td>\n      <td>8.0</td>\n      <td>11.0</td>\n      <td>10.0</td>\n      <td>3.0</td>\n      <td>9.0</td>\n      <td>4.0</td>\n      <td>5</td>\n      <td>2</td>\n      <td>1</td>\n    </tr>\n    <tr>\n      <th>2</th>\n      <td>910225</td>\n      <td>-1</td>\n      <td>9.0</td>\n      <td>17.0</td>\n      <td>NaN</td>\n      <td>NaN</td>\n      <td>NaN</td>\n      <td>NaN</td>\n      <td>17.0</td>\n      <td>10.0</td>\n      <td>...</td>\n      <td>2.0</td>\n      <td>9.0</td>\n      <td>9.0</td>\n      <td>6.0</td>\n      <td>3.0</td>\n      <td>9.0</td>\n      <td>2.0</td>\n      <td>5</td>\n      <td>2</td>\n      <td>3</td>\n    </tr>\n    <tr>\n      <th>3</th>\n      <td>910226</td>\n      <td>2</td>\n      <td>1.0</td>\n      <td>13.0</td>\n      <td>NaN</td>\n      <td>NaN</td>\n      <td>NaN</td>\n      <td>NaN</td>\n      <td>13.0</td>\n      <td>1.0</td>\n      <td>...</td>\n      <td>0.0</td>\n      <td>7.0</td>\n      <td>10.0</td>\n      <td>11.0</td>\n      <td>NaN</td>\n      <td>9.0</td>\n      <td>7.0</td>\n      <td>3</td>\n      <td>2</td>\n      <td>4</td>\n    </tr>\n    <tr>\n      <th>4</th>\n      <td>910241</td>\n      <td>-1</td>\n      <td>1.0</td>\n      <td>20.0</td>\n      <td>NaN</td>\n      <td>NaN</td>\n      <td>NaN</td>\n      <td>NaN</td>\n      <td>14.0</td>\n      <td>3.0</td>\n      <td>...</td>\n      <td>2.0</td>\n      <td>3.0</td>\n      <td>5.0</td>\n      <td>4.0</td>\n      <td>2.0</td>\n      <td>9.0</td>\n      <td>3.0</td>\n      <td>4</td>\n      <td>1</td>\n      <td>3</td>\n    </tr>\n    <tr>\n      <th>5</th>\n      <td>910244</td>\n      <td>3</td>\n      <td>1.0</td>\n      <td>10.0</td>\n      <td>NaN</td>\n      <td>NaN</td>\n      <td>NaN</td>\n      <td>NaN</td>\n      <td>10.0</td>\n      <td>5.0</td>\n      <td>...</td>\n      <td>2.0</td>\n      <td>10.0</td>\n      <td>7.0</td>\n      <td>4.0</td>\n      <td>6.0</td>\n      <td>9.0</td>\n      <td>7.0</td>\n      <td>4</td>\n      <td>2</td>\n      <td>1</td>\n    </tr>\n  </tbody>\n</table>\n<p>5 rows × 366 columns</p>\n</div>"
     },
     "execution_count": 19,
     "metadata": {},
     "output_type": "execute_result"
    }
   ],
   "source": [
    "azdias.head()"
   ],
   "metadata": {
    "collapsed": false,
    "pycharm": {
     "name": "#%%\n"
    }
   }
  },
  {
   "cell_type": "markdown",
   "source": [
    "Eventhough we may have dropped about 15% of our data, but we are still left with a lot of data AND we gained additional data quality with low effort."
   ],
   "metadata": {
    "collapsed": false,
    "pycharm": {
     "name": "#%% md\n"
    }
   }
  },
  {
   "cell_type": "markdown",
   "source": [
    "###### replace Nans\n",
    "For every other non available value, we are going to set them the standard value of `-1`."
   ],
   "metadata": {
    "collapsed": false,
    "pycharm": {
     "name": "#%% md\n"
    }
   }
  },
  {
   "cell_type": "code",
   "execution_count": 20,
   "outputs": [
    {
     "data": {
      "text/plain": "           LNR  AGER_TYP  AKT_DAT_KL  ALTER_HH  ALTER_KIND1  ALTER_KIND2  \\\n1       910220        -1         9.0       0.0         -1.0         -1.0   \n2       910225        -1         9.0      17.0         -1.0         -1.0   \n3       910226         2         1.0      13.0         -1.0         -1.0   \n4       910241        -1         1.0      20.0         -1.0         -1.0   \n5       910244         3         1.0      10.0         -1.0         -1.0   \n...        ...       ...         ...       ...          ...          ...   \n891216  825761        -1         5.0      17.0         -1.0         -1.0   \n891217  825771        -1         9.0      16.0         -1.0         -1.0   \n891218  825772        -1         1.0      17.0         -1.0         -1.0   \n891219  825776        -1         9.0       0.0         17.0         -1.0   \n891220  825787        -1         1.0       0.0         -1.0         -1.0   \n\n        ALTER_KIND3  ALTER_KIND4  ALTERSKATEGORIE_FEIN  ANZ_HAUSHALTE_AKTIV  \\\n1              -1.0         -1.0                  21.0                 11.0   \n2              -1.0         -1.0                  17.0                 10.0   \n3              -1.0         -1.0                  13.0                  1.0   \n4              -1.0         -1.0                  14.0                  3.0   \n5              -1.0         -1.0                  10.0                  5.0   \n...             ...          ...                   ...                  ...   \n891216         -1.0         -1.0                  17.0                 15.0   \n891217         -1.0         -1.0                  16.0                 11.0   \n891218         -1.0         -1.0                  17.0                  3.0   \n891219         -1.0         -1.0                  20.0                  7.0   \n891220         -1.0         -1.0                  -1.0                 10.0   \n\n        ...  VHN  VK_DHT4A  VK_DISTANZ  VK_ZG11  W_KEIT_KIND_HH  \\\n1       ...  4.0       8.0        11.0     10.0             3.0   \n2       ...  2.0       9.0         9.0      6.0             3.0   \n3       ...  0.0       7.0        10.0     11.0            -1.0   \n4       ...  2.0       3.0         5.0      4.0             2.0   \n5       ...  2.0      10.0         7.0      4.0             6.0   \n...     ...  ...       ...         ...      ...             ...   \n891216  ...  2.0       4.0         7.0      8.0             3.0   \n891217  ...  4.0       6.0         9.0      6.0             6.0   \n891218  ...  2.0       7.0        10.0      8.0            -1.0   \n891219  ...  4.0       9.0         8.0      5.0             1.0   \n891220  ...  3.0       8.0        10.0      7.0             6.0   \n\n        WOHNDAUER_2008  WOHNLAGE ZABEOTYP ANREDE_KZ ALTERSKATEGORIE_GROB  \n1                  9.0       4.0        5         2                    1  \n2                  9.0       2.0        5         2                    3  \n3                  9.0       7.0        3         2                    4  \n4                  9.0       3.0        4         1                    3  \n5                  9.0       7.0        4         2                    1  \n...                ...       ...      ...       ...                  ...  \n891216             4.0       3.0        4         2                    3  \n891217             9.0       5.0        6         1                    2  \n891218             5.0       7.0        4         2                    2  \n891219             9.0       5.0        5         1                    1  \n891220             3.0       4.0        3         1                    4  \n\n[751331 rows x 366 columns]",
      "text/html": "<div>\n<style scoped>\n    .dataframe tbody tr th:only-of-type {\n        vertical-align: middle;\n    }\n\n    .dataframe tbody tr th {\n        vertical-align: top;\n    }\n\n    .dataframe thead th {\n        text-align: right;\n    }\n</style>\n<table border=\"1\" class=\"dataframe\">\n  <thead>\n    <tr style=\"text-align: right;\">\n      <th></th>\n      <th>LNR</th>\n      <th>AGER_TYP</th>\n      <th>AKT_DAT_KL</th>\n      <th>ALTER_HH</th>\n      <th>ALTER_KIND1</th>\n      <th>ALTER_KIND2</th>\n      <th>ALTER_KIND3</th>\n      <th>ALTER_KIND4</th>\n      <th>ALTERSKATEGORIE_FEIN</th>\n      <th>ANZ_HAUSHALTE_AKTIV</th>\n      <th>...</th>\n      <th>VHN</th>\n      <th>VK_DHT4A</th>\n      <th>VK_DISTANZ</th>\n      <th>VK_ZG11</th>\n      <th>W_KEIT_KIND_HH</th>\n      <th>WOHNDAUER_2008</th>\n      <th>WOHNLAGE</th>\n      <th>ZABEOTYP</th>\n      <th>ANREDE_KZ</th>\n      <th>ALTERSKATEGORIE_GROB</th>\n    </tr>\n  </thead>\n  <tbody>\n    <tr>\n      <th>1</th>\n      <td>910220</td>\n      <td>-1</td>\n      <td>9.0</td>\n      <td>0.0</td>\n      <td>-1.0</td>\n      <td>-1.0</td>\n      <td>-1.0</td>\n      <td>-1.0</td>\n      <td>21.0</td>\n      <td>11.0</td>\n      <td>...</td>\n      <td>4.0</td>\n      <td>8.0</td>\n      <td>11.0</td>\n      <td>10.0</td>\n      <td>3.0</td>\n      <td>9.0</td>\n      <td>4.0</td>\n      <td>5</td>\n      <td>2</td>\n      <td>1</td>\n    </tr>\n    <tr>\n      <th>2</th>\n      <td>910225</td>\n      <td>-1</td>\n      <td>9.0</td>\n      <td>17.0</td>\n      <td>-1.0</td>\n      <td>-1.0</td>\n      <td>-1.0</td>\n      <td>-1.0</td>\n      <td>17.0</td>\n      <td>10.0</td>\n      <td>...</td>\n      <td>2.0</td>\n      <td>9.0</td>\n      <td>9.0</td>\n      <td>6.0</td>\n      <td>3.0</td>\n      <td>9.0</td>\n      <td>2.0</td>\n      <td>5</td>\n      <td>2</td>\n      <td>3</td>\n    </tr>\n    <tr>\n      <th>3</th>\n      <td>910226</td>\n      <td>2</td>\n      <td>1.0</td>\n      <td>13.0</td>\n      <td>-1.0</td>\n      <td>-1.0</td>\n      <td>-1.0</td>\n      <td>-1.0</td>\n      <td>13.0</td>\n      <td>1.0</td>\n      <td>...</td>\n      <td>0.0</td>\n      <td>7.0</td>\n      <td>10.0</td>\n      <td>11.0</td>\n      <td>-1.0</td>\n      <td>9.0</td>\n      <td>7.0</td>\n      <td>3</td>\n      <td>2</td>\n      <td>4</td>\n    </tr>\n    <tr>\n      <th>4</th>\n      <td>910241</td>\n      <td>-1</td>\n      <td>1.0</td>\n      <td>20.0</td>\n      <td>-1.0</td>\n      <td>-1.0</td>\n      <td>-1.0</td>\n      <td>-1.0</td>\n      <td>14.0</td>\n      <td>3.0</td>\n      <td>...</td>\n      <td>2.0</td>\n      <td>3.0</td>\n      <td>5.0</td>\n      <td>4.0</td>\n      <td>2.0</td>\n      <td>9.0</td>\n      <td>3.0</td>\n      <td>4</td>\n      <td>1</td>\n      <td>3</td>\n    </tr>\n    <tr>\n      <th>5</th>\n      <td>910244</td>\n      <td>3</td>\n      <td>1.0</td>\n      <td>10.0</td>\n      <td>-1.0</td>\n      <td>-1.0</td>\n      <td>-1.0</td>\n      <td>-1.0</td>\n      <td>10.0</td>\n      <td>5.0</td>\n      <td>...</td>\n      <td>2.0</td>\n      <td>10.0</td>\n      <td>7.0</td>\n      <td>4.0</td>\n      <td>6.0</td>\n      <td>9.0</td>\n      <td>7.0</td>\n      <td>4</td>\n      <td>2</td>\n      <td>1</td>\n    </tr>\n    <tr>\n      <th>...</th>\n      <td>...</td>\n      <td>...</td>\n      <td>...</td>\n      <td>...</td>\n      <td>...</td>\n      <td>...</td>\n      <td>...</td>\n      <td>...</td>\n      <td>...</td>\n      <td>...</td>\n      <td>...</td>\n      <td>...</td>\n      <td>...</td>\n      <td>...</td>\n      <td>...</td>\n      <td>...</td>\n      <td>...</td>\n      <td>...</td>\n      <td>...</td>\n      <td>...</td>\n      <td>...</td>\n    </tr>\n    <tr>\n      <th>891216</th>\n      <td>825761</td>\n      <td>-1</td>\n      <td>5.0</td>\n      <td>17.0</td>\n      <td>-1.0</td>\n      <td>-1.0</td>\n      <td>-1.0</td>\n      <td>-1.0</td>\n      <td>17.0</td>\n      <td>15.0</td>\n      <td>...</td>\n      <td>2.0</td>\n      <td>4.0</td>\n      <td>7.0</td>\n      <td>8.0</td>\n      <td>3.0</td>\n      <td>4.0</td>\n      <td>3.0</td>\n      <td>4</td>\n      <td>2</td>\n      <td>3</td>\n    </tr>\n    <tr>\n      <th>891217</th>\n      <td>825771</td>\n      <td>-1</td>\n      <td>9.0</td>\n      <td>16.0</td>\n      <td>-1.0</td>\n      <td>-1.0</td>\n      <td>-1.0</td>\n      <td>-1.0</td>\n      <td>16.0</td>\n      <td>11.0</td>\n      <td>...</td>\n      <td>4.0</td>\n      <td>6.0</td>\n      <td>9.0</td>\n      <td>6.0</td>\n      <td>6.0</td>\n      <td>9.0</td>\n      <td>5.0</td>\n      <td>6</td>\n      <td>1</td>\n      <td>2</td>\n    </tr>\n    <tr>\n      <th>891218</th>\n      <td>825772</td>\n      <td>-1</td>\n      <td>1.0</td>\n      <td>17.0</td>\n      <td>-1.0</td>\n      <td>-1.0</td>\n      <td>-1.0</td>\n      <td>-1.0</td>\n      <td>17.0</td>\n      <td>3.0</td>\n      <td>...</td>\n      <td>2.0</td>\n      <td>7.0</td>\n      <td>10.0</td>\n      <td>8.0</td>\n      <td>-1.0</td>\n      <td>5.0</td>\n      <td>7.0</td>\n      <td>4</td>\n      <td>2</td>\n      <td>2</td>\n    </tr>\n    <tr>\n      <th>891219</th>\n      <td>825776</td>\n      <td>-1</td>\n      <td>9.0</td>\n      <td>0.0</td>\n      <td>17.0</td>\n      <td>-1.0</td>\n      <td>-1.0</td>\n      <td>-1.0</td>\n      <td>20.0</td>\n      <td>7.0</td>\n      <td>...</td>\n      <td>4.0</td>\n      <td>9.0</td>\n      <td>8.0</td>\n      <td>5.0</td>\n      <td>1.0</td>\n      <td>9.0</td>\n      <td>5.0</td>\n      <td>5</td>\n      <td>1</td>\n      <td>1</td>\n    </tr>\n    <tr>\n      <th>891220</th>\n      <td>825787</td>\n      <td>-1</td>\n      <td>1.0</td>\n      <td>0.0</td>\n      <td>-1.0</td>\n      <td>-1.0</td>\n      <td>-1.0</td>\n      <td>-1.0</td>\n      <td>-1.0</td>\n      <td>10.0</td>\n      <td>...</td>\n      <td>3.0</td>\n      <td>8.0</td>\n      <td>10.0</td>\n      <td>7.0</td>\n      <td>6.0</td>\n      <td>3.0</td>\n      <td>4.0</td>\n      <td>3</td>\n      <td>1</td>\n      <td>4</td>\n    </tr>\n  </tbody>\n</table>\n<p>751331 rows × 366 columns</p>\n</div>"
     },
     "execution_count": 20,
     "metadata": {},
     "output_type": "execute_result"
    }
   ],
   "source": [
    "def replace_nans(data):\n",
    "    data.fillna(-1, inplace=True)\n",
    "    return data\n",
    "\n",
    "\n",
    "azdias = replace_nans(azdias)\n",
    "azdias"
   ],
   "metadata": {
    "collapsed": false,
    "pycharm": {
     "name": "#%%\n"
    }
   }
  },
  {
   "cell_type": "markdown",
   "source": [
    "##### Transforming Categorical Data\n",
    "\n",
    "First we have to identify which data is not categorical already. After that we are going to replace the columns with numerical values."
   ],
   "metadata": {
    "collapsed": false,
    "pycharm": {
     "name": "#%% md\n"
    }
   }
  },
  {
   "cell_type": "code",
   "execution_count": 21,
   "outputs": [
    {
     "data": {
      "text/plain": "Index(['CAMEO_DEU_2015', 'CAMEO_DEUG_2015', 'CAMEO_INTL_2015',\n       'D19_LETZTER_KAUF_BRANCHE', 'EINGEFUEGT_AM', 'OST_WEST_KZ'],\n      dtype='object')"
     },
     "execution_count": 21,
     "metadata": {},
     "output_type": "execute_result"
    }
   ],
   "source": [
    "def get_non_numeric_columns(data):\n",
    "    return data.columns[data.dtypes == 'object']\n",
    "\n",
    "\n",
    "non_num_cols = get_non_numeric_columns(azdias)\n",
    "non_num_cols"
   ],
   "metadata": {
    "collapsed": false,
    "pycharm": {
     "name": "#%%\n"
    }
   }
  },
  {
   "cell_type": "markdown",
   "source": [
    "###### CAMEO_DEU_2015\n",
    "\n",
    "In the data, we can see that the values range from 1 to 9 with additional letters from A to F. As we can see below in the CAMEO_DEUINT_2015 feature, the features are set to 11-55, but not consecutively, which we are going to do here as well."
   ],
   "metadata": {
    "collapsed": false,
    "pycharm": {
     "name": "#%% md\n"
    }
   }
  },
  {
   "cell_type": "code",
   "execution_count": 22,
   "outputs": [
    {
     "data": {
      "text/plain": "array(['8A', '4C', '2A', '6B', '8C', '4A', '2D', '1A', '1E', '9D', '7A',\n       '5D', '9E', '5C', '9B', '1B', '8B', '3D', -1, '4E', '4B', '3C',\n       '5A', '7B', '9A', '6D', '6E', '2C', '7C', '9C', '7D', '5E', '1D',\n       '8D', '6C', '6A', '5B', '4D', '3A', '2B', '7E', '3B', '6F', '5F',\n       '1C', 'XX'], dtype=object)"
     },
     "execution_count": 22,
     "metadata": {},
     "output_type": "execute_result"
    }
   ],
   "source": [
    "azdias.loc[:, non_num_cols[0]].unique()"
   ],
   "metadata": {
    "collapsed": false,
    "pycharm": {
     "name": "#%%\n"
    }
   }
  },
  {
   "cell_type": "code",
   "execution_count": 23,
   "outputs": [
    {
     "name": "stderr",
     "output_type": "stream",
     "text": [
      "C:\\Users\\K35400\\AppData\\Local\\Temp\\ipykernel_20644\\3161604245.py:6: DeprecationWarning: In a future version, `df.iloc[:, i] = newvals` will attempt to set the values inplace instead of always setting a new array. To retain the old behavior, use either `df[df.columns[i]] = newvals` or, if columns are non-unique, `df.isetitem(i, newvals)`\n",
      "  data.loc[:, 'CAMEO_DEU_2015'] = data.loc[:, 'CAMEO_DEU_2015'].astype(int)\n"
     ]
    },
    {
     "data": {
      "text/plain": "1     81\n2     43\n3     21\n4     62\n5     83\n6     41\n7     24\n8     11\n9     15\n10    94\nName: CAMEO_DEU_2015, dtype: int32"
     },
     "execution_count": 23,
     "metadata": {},
     "output_type": "execute_result"
    }
   ],
   "source": [
    "def clear_cameo_deu_2015_data(data):\n",
    "    replace_dict = {'A': '1', 'B': '2', 'C': '3', 'D': '4', 'E': '5', 'F': '6',\n",
    "                    'G': '7', 'H': '8', 'XX': '-1'}\n",
    "    data.loc[:, 'CAMEO_DEU_2015'].replace(replace_dict, regex=True,\n",
    "                                          inplace=True)\n",
    "    data.loc[:, 'CAMEO_DEU_2015'] = data.loc[:, 'CAMEO_DEU_2015'].astype(int)\n",
    "    return data\n",
    "\n",
    "\n",
    "azdias = clear_cameo_deu_2015_data(azdias)\n",
    "azdias.loc[:, 'CAMEO_DEU_2015'].head(10)"
   ],
   "metadata": {
    "collapsed": false,
    "pycharm": {
     "name": "#%%\n"
    }
   }
  },
  {
   "cell_type": "markdown",
   "source": [
    "###### CAMEO_DEUG_2015\n",
    "This Feature looks like most of the data is simply not an integer but rather mixed integers and float. In addition an X can be found in the data, which has to be replace by our standard value for unknown entries, `-1`."
   ],
   "metadata": {
    "collapsed": false,
    "pycharm": {
     "name": "#%% md\n"
    }
   }
  },
  {
   "cell_type": "code",
   "execution_count": 24,
   "outputs": [
    {
     "data": {
      "text/plain": "array([8.0, 4.0, 2.0, 6.0, 1.0, 9.0, 7.0, 5.0, 3.0, -1, '3', '7', '2',\n       '4', '8', '9', '6', '5', '1', 'X'], dtype=object)"
     },
     "execution_count": 24,
     "metadata": {},
     "output_type": "execute_result"
    }
   ],
   "source": [
    "azdias.loc[:, non_num_cols[1]].unique()"
   ],
   "metadata": {
    "collapsed": false,
    "pycharm": {
     "name": "#%%\n"
    }
   }
  },
  {
   "cell_type": "code",
   "execution_count": 25,
   "outputs": [
    {
     "name": "stderr",
     "output_type": "stream",
     "text": [
      "C:\\Users\\K35400\\AppData\\Local\\Temp\\ipykernel_20644\\2393891728.py:5: DeprecationWarning: In a future version, `df.iloc[:, i] = newvals` will attempt to set the values inplace instead of always setting a new array. To retain the old behavior, use either `df[df.columns[i]] = newvals` or, if columns are non-unique, `df.isetitem(i, newvals)`\n",
      "  data.loc[:, 'CAMEO_DEUG_2015'] = data.loc[:, 'CAMEO_DEUG_2015'].astype(int)\n"
     ]
    },
    {
     "data": {
      "text/plain": "array([ 8,  4,  2,  6,  1,  9,  7,  5,  3, -1])"
     },
     "execution_count": 25,
     "metadata": {},
     "output_type": "execute_result"
    }
   ],
   "source": [
    "def clear_cameo_deug_2015_data(data):\n",
    "    replace_dict = {'X': '-1'}\n",
    "    data.loc[:, 'CAMEO_DEUG_2015'].replace(replace_dict, regex=True,\n",
    "                                           inplace=True)\n",
    "    data.loc[:, 'CAMEO_DEUG_2015'] = data.loc[:, 'CAMEO_DEUG_2015'].astype(int)\n",
    "\n",
    "    return data\n",
    "\n",
    "\n",
    "azdias = clear_cameo_deug_2015_data(azdias)\n",
    "azdias.loc[:, non_num_cols[1]].unique()"
   ],
   "metadata": {
    "collapsed": false,
    "pycharm": {
     "name": "#%%\n"
    }
   }
  },
  {
   "cell_type": "markdown",
   "source": [
    "###### CAMEO_INTL_2015\n",
    "This feature seems to have the same issue as `CAMEO_DEUG_2015`, hence we are going to apply the same methodology here"
   ],
   "metadata": {
    "collapsed": false,
    "pycharm": {
     "name": "#%% md\n"
    }
   }
  },
  {
   "cell_type": "code",
   "execution_count": 26,
   "outputs": [
    {
     "data": {
      "text/plain": "array([51.0, 24.0, 12.0, 43.0, 54.0, 22.0, 14.0, 13.0, 15.0, 41.0, 34.0,\n       55.0, 33.0, 25.0, -1, 23.0, 31.0, 52.0, 35.0, 45.0, 44.0, 32.0,\n       '24', '41', '12', '54', '51', '44', '35', '23', '25', '14', '34',\n       '52', '55', '31', '32', '22', '15', '13', '43', '45', '33', 'XX'],\n      dtype=object)"
     },
     "execution_count": 26,
     "metadata": {},
     "output_type": "execute_result"
    }
   ],
   "source": [
    "azdias.loc[:, non_num_cols[2]].unique()"
   ],
   "metadata": {
    "collapsed": false,
    "pycharm": {
     "name": "#%%\n"
    }
   }
  },
  {
   "cell_type": "code",
   "execution_count": 27,
   "outputs": [
    {
     "name": "stderr",
     "output_type": "stream",
     "text": [
      "C:\\Users\\K35400\\AppData\\Local\\Temp\\ipykernel_20644\\3076981586.py:5: DeprecationWarning: In a future version, `df.iloc[:, i] = newvals` will attempt to set the values inplace instead of always setting a new array. To retain the old behavior, use either `df[df.columns[i]] = newvals` or, if columns are non-unique, `df.isetitem(i, newvals)`\n",
      "  data.loc[:, 'CAMEO_INTL_2015'] = data.loc[:, 'CAMEO_INTL_2015'].astype(int)\n"
     ]
    },
    {
     "data": {
      "text/plain": "array([51, 24, 12, 43, 54, 22, 14, 13, 15, 41, 34, 55, 33, 25, -1, 23, 31,\n       52, 35, 45, 44, 32])"
     },
     "execution_count": 27,
     "metadata": {},
     "output_type": "execute_result"
    }
   ],
   "source": [
    "def clear_cameo_intl_2015_data(data):\n",
    "    replace_dict = {'XX': '-1'}\n",
    "    data.loc[:, 'CAMEO_INTL_2015'].replace(replace_dict, regex=True,\n",
    "                                           inplace=True)\n",
    "    data.loc[:, 'CAMEO_INTL_2015'] = data.loc[:, 'CAMEO_INTL_2015'].astype(int)\n",
    "    return data\n",
    "\n",
    "\n",
    "azdias = clear_cameo_intl_2015_data(azdias)\n",
    "azdias.loc[:, non_num_cols[2]].unique()"
   ],
   "metadata": {
    "collapsed": false,
    "pycharm": {
     "name": "#%%\n"
    }
   }
  },
  {
   "cell_type": "markdown",
   "source": [
    "###### D19_LETZTER_KAUF_BRANCHE\n",
    "Here we can see that this data is still categorical and not transformed to numerical code, like the other features, therefore, we are going to do that here."
   ],
   "metadata": {
    "collapsed": false,
    "pycharm": {
     "name": "#%% md\n"
    }
   }
  },
  {
   "cell_type": "code",
   "execution_count": 28,
   "outputs": [
    {
     "data": {
      "text/plain": "array([-1, 'D19_UNBEKANNT', 'D19_SCHUHE', 'D19_ENERGIE', 'D19_KOSMETIK',\n       'D19_SONSTIGE', 'D19_BANKEN_GROSS', 'D19_VOLLSORTIMENT',\n       'D19_DROGERIEARTIKEL', 'D19_HANDWERK', 'D19_BUCH_CD',\n       'D19_VERSICHERUNGEN', 'D19_VERSAND_REST', 'D19_TELKO_REST',\n       'D19_BANKEN_DIREKT', 'D19_BANKEN_REST', 'D19_LEBENSMITTEL',\n       'D19_HAUS_DEKO', 'D19_BEKLEIDUNG_REST', 'D19_SAMMELARTIKEL',\n       'D19_TELKO_MOBILE', 'D19_REISEN', 'D19_BEKLEIDUNG_GEH',\n       'D19_TECHNIK', 'D19_NAHRUNGSERGAENZUNG', 'D19_DIGIT_SERV',\n       'D19_LOTTO', 'D19_RATGEBER', 'D19_TIERARTIKEL',\n       'D19_KINDERARTIKEL', 'D19_BIO_OEKO', 'D19_FREIZEIT',\n       'D19_WEIN_FEINKOST', 'D19_GARTEN', 'D19_BILDUNG',\n       'D19_BANKEN_LOKAL'], dtype=object)"
     },
     "execution_count": 28,
     "metadata": {},
     "output_type": "execute_result"
    }
   ],
   "source": [
    "azdias.loc[:, non_num_cols[3]].unique()"
   ],
   "metadata": {
    "collapsed": false,
    "pycharm": {
     "name": "#%%\n"
    }
   }
  },
  {
   "cell_type": "code",
   "execution_count": 29,
   "outputs": [
    {
     "name": "stderr",
     "output_type": "stream",
     "text": [
      "C:\\Users\\K35400\\AppData\\Local\\Temp\\ipykernel_20644\\3276071408.py:2: DeprecationWarning: In a future version, `df.iloc[:, i] = newvals` will attempt to set the values inplace instead of always setting a new array. To retain the old behavior, use either `df[df.columns[i]] = newvals` or, if columns are non-unique, `df.isetitem(i, newvals)`\n",
      "  data.loc[:, 'D19_LETZTER_KAUF_BRANCHE'] = pd.Categorical(\n"
     ]
    },
    {
     "data": {
      "text/plain": "array([ 0, 31, 25, 12, 18, 26,  2, 34, 11, 15,  9, 33, 32, 29,  1,  4, 19,\n       16,  6, 24, 28, 23,  5, 27, 21, 10, 20, 22, 30, 17,  8, 13, 35, 14,\n        7,  3], dtype=int8)"
     },
     "execution_count": 29,
     "metadata": {},
     "output_type": "execute_result"
    }
   ],
   "source": [
    "def clear_d19_letzter_kauf_branche(data):\n",
    "    data.loc[:, 'D19_LETZTER_KAUF_BRANCHE'] = pd.Categorical(\n",
    "            data.loc[:, 'D19_LETZTER_KAUF_BRANCHE']).codes\n",
    "    return data\n",
    "\n",
    "\n",
    "azdias = clear_d19_letzter_kauf_branche(azdias)\n",
    "azdias.loc[:, non_num_cols[3]].unique()"
   ],
   "metadata": {
    "collapsed": false,
    "pycharm": {
     "name": "#%%\n"
    }
   }
  },
  {
   "cell_type": "markdown",
   "source": [
    "###### EINGEFUEGT_AM\n",
    "This feature is just a date, which should be transformed in to a propper datetime object. But since we will not use this feature, we will drop that column."
   ],
   "metadata": {
    "collapsed": false,
    "pycharm": {
     "name": "#%% md\n"
    }
   }
  },
  {
   "cell_type": "code",
   "execution_count": 30,
   "outputs": [
    {
     "data": {
      "text/plain": "array(['1992-02-10 00:00:00', '1992-02-12 00:00:00',\n       '1997-04-21 00:00:00', ..., '1994-10-24 00:00:00',\n       '2000-03-09 00:00:00', '2005-03-19 00:00:00'], dtype=object)"
     },
     "execution_count": 30,
     "metadata": {},
     "output_type": "execute_result"
    }
   ],
   "source": [
    "azdias.loc[:, non_num_cols[4]].unique()"
   ],
   "metadata": {
    "collapsed": false,
    "pycharm": {
     "name": "#%%\n"
    }
   }
  },
  {
   "cell_type": "code",
   "execution_count": 31,
   "outputs": [
    {
     "data": {
      "text/plain": "1         1992-02-10 00:00:00\n2         1992-02-12 00:00:00\n3         1997-04-21 00:00:00\n4         1992-02-12 00:00:00\n5         1992-02-12 00:00:00\n                 ...         \n891216    1992-02-10 00:00:00\n891217    1992-02-10 00:00:00\n891218    1992-02-10 00:00:00\n891219    1992-02-12 00:00:00\n891220    1992-02-10 00:00:00\nName: EINGEFUEGT_AM, Length: 751331, dtype: object"
     },
     "execution_count": 31,
     "metadata": {},
     "output_type": "execute_result"
    }
   ],
   "source": [
    "azdias.loc[:, 'EINGEFUEGT_AM']"
   ],
   "metadata": {
    "collapsed": false,
    "pycharm": {
     "name": "#%%\n"
    }
   }
  },
  {
   "cell_type": "code",
   "execution_count": 32,
   "outputs": [
    {
     "data": {
      "text/plain": "           LNR  AGER_TYP  AKT_DAT_KL  ALTER_HH  ALTER_KIND1  ALTER_KIND2  \\\n1       910220        -1         9.0       0.0         -1.0         -1.0   \n2       910225        -1         9.0      17.0         -1.0         -1.0   \n3       910226         2         1.0      13.0         -1.0         -1.0   \n4       910241        -1         1.0      20.0         -1.0         -1.0   \n5       910244         3         1.0      10.0         -1.0         -1.0   \n...        ...       ...         ...       ...          ...          ...   \n891216  825761        -1         5.0      17.0         -1.0         -1.0   \n891217  825771        -1         9.0      16.0         -1.0         -1.0   \n891218  825772        -1         1.0      17.0         -1.0         -1.0   \n891219  825776        -1         9.0       0.0         17.0         -1.0   \n891220  825787        -1         1.0       0.0         -1.0         -1.0   \n\n        ALTER_KIND3  ALTER_KIND4  ALTERSKATEGORIE_FEIN  ANZ_HAUSHALTE_AKTIV  \\\n1              -1.0         -1.0                  21.0                 11.0   \n2              -1.0         -1.0                  17.0                 10.0   \n3              -1.0         -1.0                  13.0                  1.0   \n4              -1.0         -1.0                  14.0                  3.0   \n5              -1.0         -1.0                  10.0                  5.0   \n...             ...          ...                   ...                  ...   \n891216         -1.0         -1.0                  17.0                 15.0   \n891217         -1.0         -1.0                  16.0                 11.0   \n891218         -1.0         -1.0                  17.0                  3.0   \n891219         -1.0         -1.0                  20.0                  7.0   \n891220         -1.0         -1.0                  -1.0                 10.0   \n\n        ...  VHN  VK_DHT4A  VK_DISTANZ  VK_ZG11  W_KEIT_KIND_HH  \\\n1       ...  4.0       8.0        11.0     10.0             3.0   \n2       ...  2.0       9.0         9.0      6.0             3.0   \n3       ...  0.0       7.0        10.0     11.0            -1.0   \n4       ...  2.0       3.0         5.0      4.0             2.0   \n5       ...  2.0      10.0         7.0      4.0             6.0   \n...     ...  ...       ...         ...      ...             ...   \n891216  ...  2.0       4.0         7.0      8.0             3.0   \n891217  ...  4.0       6.0         9.0      6.0             6.0   \n891218  ...  2.0       7.0        10.0      8.0            -1.0   \n891219  ...  4.0       9.0         8.0      5.0             1.0   \n891220  ...  3.0       8.0        10.0      7.0             6.0   \n\n        WOHNDAUER_2008  WOHNLAGE  ZABEOTYP  ANREDE_KZ  ALTERSKATEGORIE_GROB  \n1                  9.0       4.0         5          2                     1  \n2                  9.0       2.0         5          2                     3  \n3                  9.0       7.0         3          2                     4  \n4                  9.0       3.0         4          1                     3  \n5                  9.0       7.0         4          2                     1  \n...                ...       ...       ...        ...                   ...  \n891216             4.0       3.0         4          2                     3  \n891217             9.0       5.0         6          1                     2  \n891218             5.0       7.0         4          2                     2  \n891219             9.0       5.0         5          1                     1  \n891220             3.0       4.0         3          1                     4  \n\n[751331 rows x 365 columns]",
      "text/html": "<div>\n<style scoped>\n    .dataframe tbody tr th:only-of-type {\n        vertical-align: middle;\n    }\n\n    .dataframe tbody tr th {\n        vertical-align: top;\n    }\n\n    .dataframe thead th {\n        text-align: right;\n    }\n</style>\n<table border=\"1\" class=\"dataframe\">\n  <thead>\n    <tr style=\"text-align: right;\">\n      <th></th>\n      <th>LNR</th>\n      <th>AGER_TYP</th>\n      <th>AKT_DAT_KL</th>\n      <th>ALTER_HH</th>\n      <th>ALTER_KIND1</th>\n      <th>ALTER_KIND2</th>\n      <th>ALTER_KIND3</th>\n      <th>ALTER_KIND4</th>\n      <th>ALTERSKATEGORIE_FEIN</th>\n      <th>ANZ_HAUSHALTE_AKTIV</th>\n      <th>...</th>\n      <th>VHN</th>\n      <th>VK_DHT4A</th>\n      <th>VK_DISTANZ</th>\n      <th>VK_ZG11</th>\n      <th>W_KEIT_KIND_HH</th>\n      <th>WOHNDAUER_2008</th>\n      <th>WOHNLAGE</th>\n      <th>ZABEOTYP</th>\n      <th>ANREDE_KZ</th>\n      <th>ALTERSKATEGORIE_GROB</th>\n    </tr>\n  </thead>\n  <tbody>\n    <tr>\n      <th>1</th>\n      <td>910220</td>\n      <td>-1</td>\n      <td>9.0</td>\n      <td>0.0</td>\n      <td>-1.0</td>\n      <td>-1.0</td>\n      <td>-1.0</td>\n      <td>-1.0</td>\n      <td>21.0</td>\n      <td>11.0</td>\n      <td>...</td>\n      <td>4.0</td>\n      <td>8.0</td>\n      <td>11.0</td>\n      <td>10.0</td>\n      <td>3.0</td>\n      <td>9.0</td>\n      <td>4.0</td>\n      <td>5</td>\n      <td>2</td>\n      <td>1</td>\n    </tr>\n    <tr>\n      <th>2</th>\n      <td>910225</td>\n      <td>-1</td>\n      <td>9.0</td>\n      <td>17.0</td>\n      <td>-1.0</td>\n      <td>-1.0</td>\n      <td>-1.0</td>\n      <td>-1.0</td>\n      <td>17.0</td>\n      <td>10.0</td>\n      <td>...</td>\n      <td>2.0</td>\n      <td>9.0</td>\n      <td>9.0</td>\n      <td>6.0</td>\n      <td>3.0</td>\n      <td>9.0</td>\n      <td>2.0</td>\n      <td>5</td>\n      <td>2</td>\n      <td>3</td>\n    </tr>\n    <tr>\n      <th>3</th>\n      <td>910226</td>\n      <td>2</td>\n      <td>1.0</td>\n      <td>13.0</td>\n      <td>-1.0</td>\n      <td>-1.0</td>\n      <td>-1.0</td>\n      <td>-1.0</td>\n      <td>13.0</td>\n      <td>1.0</td>\n      <td>...</td>\n      <td>0.0</td>\n      <td>7.0</td>\n      <td>10.0</td>\n      <td>11.0</td>\n      <td>-1.0</td>\n      <td>9.0</td>\n      <td>7.0</td>\n      <td>3</td>\n      <td>2</td>\n      <td>4</td>\n    </tr>\n    <tr>\n      <th>4</th>\n      <td>910241</td>\n      <td>-1</td>\n      <td>1.0</td>\n      <td>20.0</td>\n      <td>-1.0</td>\n      <td>-1.0</td>\n      <td>-1.0</td>\n      <td>-1.0</td>\n      <td>14.0</td>\n      <td>3.0</td>\n      <td>...</td>\n      <td>2.0</td>\n      <td>3.0</td>\n      <td>5.0</td>\n      <td>4.0</td>\n      <td>2.0</td>\n      <td>9.0</td>\n      <td>3.0</td>\n      <td>4</td>\n      <td>1</td>\n      <td>3</td>\n    </tr>\n    <tr>\n      <th>5</th>\n      <td>910244</td>\n      <td>3</td>\n      <td>1.0</td>\n      <td>10.0</td>\n      <td>-1.0</td>\n      <td>-1.0</td>\n      <td>-1.0</td>\n      <td>-1.0</td>\n      <td>10.0</td>\n      <td>5.0</td>\n      <td>...</td>\n      <td>2.0</td>\n      <td>10.0</td>\n      <td>7.0</td>\n      <td>4.0</td>\n      <td>6.0</td>\n      <td>9.0</td>\n      <td>7.0</td>\n      <td>4</td>\n      <td>2</td>\n      <td>1</td>\n    </tr>\n    <tr>\n      <th>...</th>\n      <td>...</td>\n      <td>...</td>\n      <td>...</td>\n      <td>...</td>\n      <td>...</td>\n      <td>...</td>\n      <td>...</td>\n      <td>...</td>\n      <td>...</td>\n      <td>...</td>\n      <td>...</td>\n      <td>...</td>\n      <td>...</td>\n      <td>...</td>\n      <td>...</td>\n      <td>...</td>\n      <td>...</td>\n      <td>...</td>\n      <td>...</td>\n      <td>...</td>\n      <td>...</td>\n    </tr>\n    <tr>\n      <th>891216</th>\n      <td>825761</td>\n      <td>-1</td>\n      <td>5.0</td>\n      <td>17.0</td>\n      <td>-1.0</td>\n      <td>-1.0</td>\n      <td>-1.0</td>\n      <td>-1.0</td>\n      <td>17.0</td>\n      <td>15.0</td>\n      <td>...</td>\n      <td>2.0</td>\n      <td>4.0</td>\n      <td>7.0</td>\n      <td>8.0</td>\n      <td>3.0</td>\n      <td>4.0</td>\n      <td>3.0</td>\n      <td>4</td>\n      <td>2</td>\n      <td>3</td>\n    </tr>\n    <tr>\n      <th>891217</th>\n      <td>825771</td>\n      <td>-1</td>\n      <td>9.0</td>\n      <td>16.0</td>\n      <td>-1.0</td>\n      <td>-1.0</td>\n      <td>-1.0</td>\n      <td>-1.0</td>\n      <td>16.0</td>\n      <td>11.0</td>\n      <td>...</td>\n      <td>4.0</td>\n      <td>6.0</td>\n      <td>9.0</td>\n      <td>6.0</td>\n      <td>6.0</td>\n      <td>9.0</td>\n      <td>5.0</td>\n      <td>6</td>\n      <td>1</td>\n      <td>2</td>\n    </tr>\n    <tr>\n      <th>891218</th>\n      <td>825772</td>\n      <td>-1</td>\n      <td>1.0</td>\n      <td>17.0</td>\n      <td>-1.0</td>\n      <td>-1.0</td>\n      <td>-1.0</td>\n      <td>-1.0</td>\n      <td>17.0</td>\n      <td>3.0</td>\n      <td>...</td>\n      <td>2.0</td>\n      <td>7.0</td>\n      <td>10.0</td>\n      <td>8.0</td>\n      <td>-1.0</td>\n      <td>5.0</td>\n      <td>7.0</td>\n      <td>4</td>\n      <td>2</td>\n      <td>2</td>\n    </tr>\n    <tr>\n      <th>891219</th>\n      <td>825776</td>\n      <td>-1</td>\n      <td>9.0</td>\n      <td>0.0</td>\n      <td>17.0</td>\n      <td>-1.0</td>\n      <td>-1.0</td>\n      <td>-1.0</td>\n      <td>20.0</td>\n      <td>7.0</td>\n      <td>...</td>\n      <td>4.0</td>\n      <td>9.0</td>\n      <td>8.0</td>\n      <td>5.0</td>\n      <td>1.0</td>\n      <td>9.0</td>\n      <td>5.0</td>\n      <td>5</td>\n      <td>1</td>\n      <td>1</td>\n    </tr>\n    <tr>\n      <th>891220</th>\n      <td>825787</td>\n      <td>-1</td>\n      <td>1.0</td>\n      <td>0.0</td>\n      <td>-1.0</td>\n      <td>-1.0</td>\n      <td>-1.0</td>\n      <td>-1.0</td>\n      <td>-1.0</td>\n      <td>10.0</td>\n      <td>...</td>\n      <td>3.0</td>\n      <td>8.0</td>\n      <td>10.0</td>\n      <td>7.0</td>\n      <td>6.0</td>\n      <td>3.0</td>\n      <td>4.0</td>\n      <td>3</td>\n      <td>1</td>\n      <td>4</td>\n    </tr>\n  </tbody>\n</table>\n<p>751331 rows × 365 columns</p>\n</div>"
     },
     "execution_count": 32,
     "metadata": {},
     "output_type": "execute_result"
    }
   ],
   "source": [
    "azdias.drop('EINGEFUEGT_AM', axis=1)"
   ],
   "metadata": {
    "collapsed": false,
    "pycharm": {
     "name": "#%%\n"
    }
   }
  },
  {
   "cell_type": "markdown",
   "source": [
    "###### OST_WEST_KZ\n",
    "Here we have the same issue as with `D19_LETZTER_KAUF_BRANCHE`, therefore, we are going to clear them the same way."
   ],
   "metadata": {
    "collapsed": false,
    "pycharm": {
     "name": "#%% md\n"
    }
   }
  },
  {
   "cell_type": "code",
   "execution_count": 33,
   "outputs": [
    {
     "data": {
      "text/plain": "array(['W', 'O'], dtype=object)"
     },
     "execution_count": 33,
     "metadata": {},
     "output_type": "execute_result"
    }
   ],
   "source": [
    "azdias.loc[:, non_num_cols[5]].unique()"
   ],
   "metadata": {
    "collapsed": false,
    "pycharm": {
     "name": "#%%\n"
    }
   }
  },
  {
   "cell_type": "code",
   "execution_count": 34,
   "outputs": [
    {
     "name": "stderr",
     "output_type": "stream",
     "text": [
      "C:\\Users\\K35400\\AppData\\Local\\Temp\\ipykernel_20644\\884617078.py:2: DeprecationWarning: In a future version, `df.iloc[:, i] = newvals` will attempt to set the values inplace instead of always setting a new array. To retain the old behavior, use either `df[df.columns[i]] = newvals` or, if columns are non-unique, `df.isetitem(i, newvals)`\n",
      "  data.loc[:, 'OST_WEST_KZ'] = pd.Categorical(\n"
     ]
    },
    {
     "data": {
      "text/plain": "array([1, 0], dtype=int8)"
     },
     "execution_count": 34,
     "metadata": {},
     "output_type": "execute_result"
    }
   ],
   "source": [
    "def clear_ost_west_kz(data):\n",
    "    data.loc[:, 'OST_WEST_KZ'] = pd.Categorical(\n",
    "            data.loc[:, 'OST_WEST_KZ']).codes\n",
    "    return data\n",
    "\n",
    "\n",
    "azdias = clear_ost_west_kz(azdias)\n",
    "azdias.loc[:, non_num_cols[5]].unique()"
   ],
   "metadata": {
    "collapsed": false,
    "pycharm": {
     "name": "#%%\n"
    }
   }
  },
  {
   "cell_type": "markdown",
   "source": [
    "### Summary\n",
    "We will summarize the cleaning progress in an overall cleaning function and we are going to test that on the customer dataset."
   ],
   "metadata": {
    "collapsed": false,
    "pycharm": {
     "name": "#%% md\n"
    }
   }
  },
  {
   "cell_type": "code",
   "execution_count": 35,
   "outputs": [],
   "source": [
    "common_columns = azdias.columns\n",
    "\n",
    "def clear_data(data):\n",
    "    temp_data = data.loc[:, common_columns]\n",
    "    temp_data = handle_nans(temp_data)\n",
    "    temp_data = clear_categorical_data(temp_data)\n",
    "\n",
    "    return temp_data\n",
    "\n",
    "\n",
    "def clear_categorical_data(data):\n",
    "    data = clear_cameo_deu_2015_data(data)\n",
    "    data = clear_cameo_deug_2015_data(data)\n",
    "    data = clear_cameo_intl_2015_data(data)\n",
    "    data = clear_d19_letzter_kauf_branche(data)\n",
    "    data = clear_ost_west_kz(data)\n",
    "    return data\n",
    "\n",
    "\n",
    "def handle_nans(data):\n",
    "    data = replace_unknowns(data)\n",
    "    data = drop_useless_rows(data)\n",
    "    data = replace_nans(data)\n",
    "    return data\n",
    "\n",
    "\n",
    "def test_data_types(data):\n",
    "    return (data.dtypes != 'object').any()\n"
   ],
   "metadata": {
    "collapsed": false,
    "pycharm": {
     "name": "#%%\n"
    }
   }
  },
  {
   "cell_type": "code",
   "execution_count": 36,
   "outputs": [
    {
     "name": "stderr",
     "output_type": "stream",
     "text": [
      "C:\\Users\\K35400\\AppData\\Local\\Temp\\ipykernel_20644\\3161604245.py:6: DeprecationWarning: In a future version, `df.iloc[:, i] = newvals` will attempt to set the values inplace instead of always setting a new array. To retain the old behavior, use either `df[df.columns[i]] = newvals` or, if columns are non-unique, `df.isetitem(i, newvals)`\n",
      "  data.loc[:, 'CAMEO_DEU_2015'] = data.loc[:, 'CAMEO_DEU_2015'].astype(int)\n",
      "C:\\Users\\K35400\\AppData\\Local\\Temp\\ipykernel_20644\\2393891728.py:5: DeprecationWarning: In a future version, `df.iloc[:, i] = newvals` will attempt to set the values inplace instead of always setting a new array. To retain the old behavior, use either `df[df.columns[i]] = newvals` or, if columns are non-unique, `df.isetitem(i, newvals)`\n",
      "  data.loc[:, 'CAMEO_DEUG_2015'] = data.loc[:, 'CAMEO_DEUG_2015'].astype(int)\n",
      "C:\\Users\\K35400\\AppData\\Local\\Temp\\ipykernel_20644\\3276071408.py:2: DeprecationWarning: In a future version, `df.iloc[:, i] = newvals` will attempt to set the values inplace instead of always setting a new array. To retain the old behavior, use either `df[df.columns[i]] = newvals` or, if columns are non-unique, `df.isetitem(i, newvals)`\n",
      "  data.loc[:, 'D19_LETZTER_KAUF_BRANCHE'] = pd.Categorical(\n",
      "C:\\Users\\K35400\\AppData\\Local\\Temp\\ipykernel_20644\\884617078.py:2: DeprecationWarning: In a future version, `df.iloc[:, i] = newvals` will attempt to set the values inplace instead of always setting a new array. To retain the old behavior, use either `df[df.columns[i]] = newvals` or, if columns are non-unique, `df.isetitem(i, newvals)`\n",
      "  data.loc[:, 'OST_WEST_KZ'] = pd.Categorical(\n"
     ]
    }
   ],
   "source": [
    "customers = clear_data(customers)"
   ],
   "metadata": {
    "collapsed": false,
    "pycharm": {
     "name": "#%%\n"
    }
   }
  },
  {
   "cell_type": "code",
   "execution_count": 37,
   "outputs": [
    {
     "data": {
      "text/plain": "      LNR  AGER_TYP  AKT_DAT_KL  ALTER_HH  ALTER_KIND1  ALTER_KIND2  \\\n0    9626         2         1.0      10.0         -1.0         -1.0   \n2  143872        -1         1.0       6.0         -1.0         -1.0   \n3  143873         1         1.0       8.0         -1.0         -1.0   \n4  143874        -1         1.0      20.0         -1.0         -1.0   \n5  143888         1         1.0      11.0         -1.0         -1.0   \n\n   ALTER_KIND3  ALTER_KIND4  ALTERSKATEGORIE_FEIN  ANZ_HAUSHALTE_AKTIV  ...  \\\n0         -1.0         -1.0                  10.0                  1.0  ...   \n2         -1.0         -1.0                   0.0                  1.0  ...   \n3         -1.0         -1.0                   8.0                  0.0  ...   \n4         -1.0         -1.0                  14.0                  7.0  ...   \n5         -1.0         -1.0                  10.0                  1.0  ...   \n\n   VHN  VK_DHT4A  VK_DISTANZ  VK_ZG11  W_KEIT_KIND_HH  WOHNDAUER_2008  \\\n0  3.0       5.0         3.0      2.0             6.0             9.0   \n2  4.0      10.0        13.0     11.0             6.0             9.0   \n3  2.0       6.0         4.0      2.0            -1.0             9.0   \n4  4.0       3.0         5.0      4.0             2.0             9.0   \n5  4.0       1.0         2.0      1.0             6.0             9.0   \n\n   WOHNLAGE  ZABEOTYP  ANREDE_KZ  ALTERSKATEGORIE_GROB  \n0       7.0         3          1                     4  \n2       2.0         3          2                     4  \n3       7.0         1          1                     4  \n4       3.0         1          1                     3  \n5       1.0         2          1                     3  \n\n[5 rows x 366 columns]",
      "text/html": "<div>\n<style scoped>\n    .dataframe tbody tr th:only-of-type {\n        vertical-align: middle;\n    }\n\n    .dataframe tbody tr th {\n        vertical-align: top;\n    }\n\n    .dataframe thead th {\n        text-align: right;\n    }\n</style>\n<table border=\"1\" class=\"dataframe\">\n  <thead>\n    <tr style=\"text-align: right;\">\n      <th></th>\n      <th>LNR</th>\n      <th>AGER_TYP</th>\n      <th>AKT_DAT_KL</th>\n      <th>ALTER_HH</th>\n      <th>ALTER_KIND1</th>\n      <th>ALTER_KIND2</th>\n      <th>ALTER_KIND3</th>\n      <th>ALTER_KIND4</th>\n      <th>ALTERSKATEGORIE_FEIN</th>\n      <th>ANZ_HAUSHALTE_AKTIV</th>\n      <th>...</th>\n      <th>VHN</th>\n      <th>VK_DHT4A</th>\n      <th>VK_DISTANZ</th>\n      <th>VK_ZG11</th>\n      <th>W_KEIT_KIND_HH</th>\n      <th>WOHNDAUER_2008</th>\n      <th>WOHNLAGE</th>\n      <th>ZABEOTYP</th>\n      <th>ANREDE_KZ</th>\n      <th>ALTERSKATEGORIE_GROB</th>\n    </tr>\n  </thead>\n  <tbody>\n    <tr>\n      <th>0</th>\n      <td>9626</td>\n      <td>2</td>\n      <td>1.0</td>\n      <td>10.0</td>\n      <td>-1.0</td>\n      <td>-1.0</td>\n      <td>-1.0</td>\n      <td>-1.0</td>\n      <td>10.0</td>\n      <td>1.0</td>\n      <td>...</td>\n      <td>3.0</td>\n      <td>5.0</td>\n      <td>3.0</td>\n      <td>2.0</td>\n      <td>6.0</td>\n      <td>9.0</td>\n      <td>7.0</td>\n      <td>3</td>\n      <td>1</td>\n      <td>4</td>\n    </tr>\n    <tr>\n      <th>2</th>\n      <td>143872</td>\n      <td>-1</td>\n      <td>1.0</td>\n      <td>6.0</td>\n      <td>-1.0</td>\n      <td>-1.0</td>\n      <td>-1.0</td>\n      <td>-1.0</td>\n      <td>0.0</td>\n      <td>1.0</td>\n      <td>...</td>\n      <td>4.0</td>\n      <td>10.0</td>\n      <td>13.0</td>\n      <td>11.0</td>\n      <td>6.0</td>\n      <td>9.0</td>\n      <td>2.0</td>\n      <td>3</td>\n      <td>2</td>\n      <td>4</td>\n    </tr>\n    <tr>\n      <th>3</th>\n      <td>143873</td>\n      <td>1</td>\n      <td>1.0</td>\n      <td>8.0</td>\n      <td>-1.0</td>\n      <td>-1.0</td>\n      <td>-1.0</td>\n      <td>-1.0</td>\n      <td>8.0</td>\n      <td>0.0</td>\n      <td>...</td>\n      <td>2.0</td>\n      <td>6.0</td>\n      <td>4.0</td>\n      <td>2.0</td>\n      <td>-1.0</td>\n      <td>9.0</td>\n      <td>7.0</td>\n      <td>1</td>\n      <td>1</td>\n      <td>4</td>\n    </tr>\n    <tr>\n      <th>4</th>\n      <td>143874</td>\n      <td>-1</td>\n      <td>1.0</td>\n      <td>20.0</td>\n      <td>-1.0</td>\n      <td>-1.0</td>\n      <td>-1.0</td>\n      <td>-1.0</td>\n      <td>14.0</td>\n      <td>7.0</td>\n      <td>...</td>\n      <td>4.0</td>\n      <td>3.0</td>\n      <td>5.0</td>\n      <td>4.0</td>\n      <td>2.0</td>\n      <td>9.0</td>\n      <td>3.0</td>\n      <td>1</td>\n      <td>1</td>\n      <td>3</td>\n    </tr>\n    <tr>\n      <th>5</th>\n      <td>143888</td>\n      <td>1</td>\n      <td>1.0</td>\n      <td>11.0</td>\n      <td>-1.0</td>\n      <td>-1.0</td>\n      <td>-1.0</td>\n      <td>-1.0</td>\n      <td>10.0</td>\n      <td>1.0</td>\n      <td>...</td>\n      <td>4.0</td>\n      <td>1.0</td>\n      <td>2.0</td>\n      <td>1.0</td>\n      <td>6.0</td>\n      <td>9.0</td>\n      <td>1.0</td>\n      <td>2</td>\n      <td>1</td>\n      <td>3</td>\n    </tr>\n  </tbody>\n</table>\n<p>5 rows × 366 columns</p>\n</div>"
     },
     "execution_count": 37,
     "metadata": {},
     "output_type": "execute_result"
    }
   ],
   "source": [
    "customers.head()"
   ],
   "metadata": {
    "collapsed": false,
    "pycharm": {
     "name": "#%%\n"
    }
   }
  },
  {
   "cell_type": "code",
   "execution_count": 38,
   "outputs": [
    {
     "data": {
      "text/plain": "True"
     },
     "execution_count": 38,
     "metadata": {},
     "output_type": "execute_result"
    }
   ],
   "source": [
    "test_data_types(customers)"
   ],
   "metadata": {
    "collapsed": false,
    "pycharm": {
     "name": "#%%\n"
    }
   }
  },
  {
   "cell_type": "code",
   "execution_count": 39,
   "outputs": [],
   "source": [
    "azdias = clear_data(azdias)"
   ],
   "metadata": {
    "collapsed": false,
    "pycharm": {
     "name": "#%%\n"
    }
   }
  },
  {
   "cell_type": "markdown",
   "metadata": {
    "pycharm": {
     "name": "#%% md\n"
    }
   },
   "source": [
    "## Part 1: Customer Segmentation Report\n",
    "\n",
    "The main bulk of your analysis will come in this part of the project. Here, you should use unsupervised learning techniques to describe the relationship between the demographics of the company's existing customers and the general population of Germany. By the end of this part, you should be able to describe parts of the general population that are more likely to be part of the mail-order company's main customer base, and which parts of the general population are less so."
   ]
  },
  {
   "cell_type": "markdown",
   "source": [
    "### Methodology\n",
    "Since we have a lot of features and do not know their relevance regarding possible customers, we will keep all features. Most machine learning algorithms have a very long training time, we wil reduce the features, while still keeping the relevant information in the data.\n",
    "To do so, we will reduce the dimension of the data using different dimension common dimension reduction algorithms like PCA, and ICA.\n",
    "\n",
    "After we reduced the dimension of the data, we are going to cluster the data using the population data (`azdias`) and then predict the cluster for the customer dataset to see, if we can see differences in the distribution of the clusters.\n",
    "Based on which dimension reduction algorithm helps"
   ],
   "metadata": {
    "collapsed": false,
    "pycharm": {
     "name": "#%% md\n"
    }
   }
  },
  {
   "cell_type": "code",
   "execution_count": 40,
   "outputs": [],
   "source": [
    "from sklearn.cluster import DBSCAN, KMeans\n",
    "from sklearn.decomposition import KernelPCA, FastICA, PCA\n",
    "from sklearn.metrics.pairwise import manhattan_distances\n",
    "\n",
    "cluster_pipeline_ica = Pipeline([\n",
    "                                ('scaler', StandardScaler()),\n",
    "                                ('dim_reduction', FastICA(n_components=120, max_iter=300)),\n",
    "                                ('cluster', KMeans(n_clusters=12, n_init=15, max_iter=200, verbose=1))\n",
    "                               ])\n",
    "\n",
    "cluster_pipeline_pca = Pipeline([\n",
    "                                ('scaler', StandardScaler()),\n",
    "                                ('dim_reduction', PCA(n_components=0.90)),\n",
    "                                ('cluster', KMeans(n_clusters=12, n_init=15, max_iter=200, verbose=1))\n",
    "                               ])\n",
    "\n",
    "\n",
    "def run_pipeline(pipeline, population, customers, plot_me=True):\n",
    "    print('fitting pipeline')\n",
    "    pipeline.fit(population)\n",
    "\n",
    "    print('predicting for customers')\n",
    "    index_cluster_customer = pipeline.predict(customers)\n",
    "    index_cluster_customer = pd.DataFrame(index_cluster_customer)\n",
    "\n",
    "    print('predicting for population')\n",
    "    # get cluster density for whole population\n",
    "    index_cluster_population = pipeline.predict(population)\n",
    "    index_cluster_population = pd.DataFrame(index_cluster_population)\n",
    "\n",
    "    if plot_me:\n",
    "        print('plotting...')\n",
    "        fig, ax = plt.subplots(1,2,sharex=True, figsize=(12, 4))\n",
    "\n",
    "        ax[0].hist(index_cluster_population, bins=12);\n",
    "        ax[0].set_title('Cluster distribution for whole population')\n",
    "\n",
    "        ax[1].hist(index_cluster_customer, bins=12);\n",
    "        ax[1].set_title('Cluster distribution for customers');\n",
    "\n",
    "    return pipeline\n",
    "\n",
    "import warnings\n",
    "warnings.filterwarnings('ignore')"
   ],
   "metadata": {
    "collapsed": false,
    "pycharm": {
     "name": "#%%\n"
    }
   }
  },
  {
   "cell_type": "markdown",
   "source": [
    "###### ICA + KMeans"
   ],
   "metadata": {
    "collapsed": false,
    "pycharm": {
     "name": "#%% md\n"
    }
   }
  },
  {
   "cell_type": "code",
   "execution_count": 41,
   "outputs": [],
   "source": [
    "from time import perf_counter"
   ],
   "metadata": {
    "collapsed": false,
    "pycharm": {
     "name": "#%%\n"
    }
   }
  },
  {
   "cell_type": "code",
   "execution_count": 42,
   "outputs": [
    {
     "data": {
      "text/plain": "      LNR  AGER_TYP  AKT_DAT_KL  ALTER_HH  ALTER_KIND1  ALTER_KIND2  \\\n1  910220        -1         9.0       0.0         -1.0         -1.0   \n2  910225        -1         9.0      17.0         -1.0         -1.0   \n3  910226         2         1.0      13.0         -1.0         -1.0   \n4  910241        -1         1.0      20.0         -1.0         -1.0   \n5  910244         3         1.0      10.0         -1.0         -1.0   \n\n   ALTER_KIND3  ALTER_KIND4  ALTERSKATEGORIE_FEIN  ANZ_HAUSHALTE_AKTIV  ...  \\\n1         -1.0         -1.0                  21.0                 11.0  ...   \n2         -1.0         -1.0                  17.0                 10.0  ...   \n3         -1.0         -1.0                  13.0                  1.0  ...   \n4         -1.0         -1.0                  14.0                  3.0  ...   \n5         -1.0         -1.0                  10.0                  5.0  ...   \n\n   VHN  VK_DHT4A  VK_DISTANZ  VK_ZG11  W_KEIT_KIND_HH  WOHNDAUER_2008  \\\n1  4.0       8.0        11.0     10.0             3.0             9.0   \n2  2.0       9.0         9.0      6.0             3.0             9.0   \n3  0.0       7.0        10.0     11.0            -1.0             9.0   \n4  2.0       3.0         5.0      4.0             2.0             9.0   \n5  2.0      10.0         7.0      4.0             6.0             9.0   \n\n   WOHNLAGE  ZABEOTYP  ANREDE_KZ  ALTERSKATEGORIE_GROB  \n1       4.0         5          2                     1  \n2       2.0         5          2                     3  \n3       7.0         3          2                     4  \n4       3.0         4          1                     3  \n5       7.0         4          2                     1  \n\n[5 rows x 366 columns]",
      "text/html": "<div>\n<style scoped>\n    .dataframe tbody tr th:only-of-type {\n        vertical-align: middle;\n    }\n\n    .dataframe tbody tr th {\n        vertical-align: top;\n    }\n\n    .dataframe thead th {\n        text-align: right;\n    }\n</style>\n<table border=\"1\" class=\"dataframe\">\n  <thead>\n    <tr style=\"text-align: right;\">\n      <th></th>\n      <th>LNR</th>\n      <th>AGER_TYP</th>\n      <th>AKT_DAT_KL</th>\n      <th>ALTER_HH</th>\n      <th>ALTER_KIND1</th>\n      <th>ALTER_KIND2</th>\n      <th>ALTER_KIND3</th>\n      <th>ALTER_KIND4</th>\n      <th>ALTERSKATEGORIE_FEIN</th>\n      <th>ANZ_HAUSHALTE_AKTIV</th>\n      <th>...</th>\n      <th>VHN</th>\n      <th>VK_DHT4A</th>\n      <th>VK_DISTANZ</th>\n      <th>VK_ZG11</th>\n      <th>W_KEIT_KIND_HH</th>\n      <th>WOHNDAUER_2008</th>\n      <th>WOHNLAGE</th>\n      <th>ZABEOTYP</th>\n      <th>ANREDE_KZ</th>\n      <th>ALTERSKATEGORIE_GROB</th>\n    </tr>\n  </thead>\n  <tbody>\n    <tr>\n      <th>1</th>\n      <td>910220</td>\n      <td>-1</td>\n      <td>9.0</td>\n      <td>0.0</td>\n      <td>-1.0</td>\n      <td>-1.0</td>\n      <td>-1.0</td>\n      <td>-1.0</td>\n      <td>21.0</td>\n      <td>11.0</td>\n      <td>...</td>\n      <td>4.0</td>\n      <td>8.0</td>\n      <td>11.0</td>\n      <td>10.0</td>\n      <td>3.0</td>\n      <td>9.0</td>\n      <td>4.0</td>\n      <td>5</td>\n      <td>2</td>\n      <td>1</td>\n    </tr>\n    <tr>\n      <th>2</th>\n      <td>910225</td>\n      <td>-1</td>\n      <td>9.0</td>\n      <td>17.0</td>\n      <td>-1.0</td>\n      <td>-1.0</td>\n      <td>-1.0</td>\n      <td>-1.0</td>\n      <td>17.0</td>\n      <td>10.0</td>\n      <td>...</td>\n      <td>2.0</td>\n      <td>9.0</td>\n      <td>9.0</td>\n      <td>6.0</td>\n      <td>3.0</td>\n      <td>9.0</td>\n      <td>2.0</td>\n      <td>5</td>\n      <td>2</td>\n      <td>3</td>\n    </tr>\n    <tr>\n      <th>3</th>\n      <td>910226</td>\n      <td>2</td>\n      <td>1.0</td>\n      <td>13.0</td>\n      <td>-1.0</td>\n      <td>-1.0</td>\n      <td>-1.0</td>\n      <td>-1.0</td>\n      <td>13.0</td>\n      <td>1.0</td>\n      <td>...</td>\n      <td>0.0</td>\n      <td>7.0</td>\n      <td>10.0</td>\n      <td>11.0</td>\n      <td>-1.0</td>\n      <td>9.0</td>\n      <td>7.0</td>\n      <td>3</td>\n      <td>2</td>\n      <td>4</td>\n    </tr>\n    <tr>\n      <th>4</th>\n      <td>910241</td>\n      <td>-1</td>\n      <td>1.0</td>\n      <td>20.0</td>\n      <td>-1.0</td>\n      <td>-1.0</td>\n      <td>-1.0</td>\n      <td>-1.0</td>\n      <td>14.0</td>\n      <td>3.0</td>\n      <td>...</td>\n      <td>2.0</td>\n      <td>3.0</td>\n      <td>5.0</td>\n      <td>4.0</td>\n      <td>2.0</td>\n      <td>9.0</td>\n      <td>3.0</td>\n      <td>4</td>\n      <td>1</td>\n      <td>3</td>\n    </tr>\n    <tr>\n      <th>5</th>\n      <td>910244</td>\n      <td>3</td>\n      <td>1.0</td>\n      <td>10.0</td>\n      <td>-1.0</td>\n      <td>-1.0</td>\n      <td>-1.0</td>\n      <td>-1.0</td>\n      <td>10.0</td>\n      <td>5.0</td>\n      <td>...</td>\n      <td>2.0</td>\n      <td>10.0</td>\n      <td>7.0</td>\n      <td>4.0</td>\n      <td>6.0</td>\n      <td>9.0</td>\n      <td>7.0</td>\n      <td>4</td>\n      <td>2</td>\n      <td>1</td>\n    </tr>\n  </tbody>\n</table>\n<p>5 rows × 366 columns</p>\n</div>"
     },
     "execution_count": 42,
     "metadata": {},
     "output_type": "execute_result"
    }
   ],
   "source": [
    "azdias.head()"
   ],
   "metadata": {
    "collapsed": false,
    "pycharm": {
     "name": "#%%\n"
    }
   }
  },
  {
   "cell_type": "code",
   "execution_count": 43,
   "outputs": [
    {
     "name": "stdout",
     "output_type": "stream",
     "text": [
      "fitting pipeline\n",
      "Initialization complete\n",
      "Iteration 0, inertia 169.2987046933002.\n",
      "Iteration 1, inertia 116.59927415458407.\n",
      "Iteration 2, inertia 115.88819731540627.\n",
      "Iteration 3, inertia 115.05567841142637.\n",
      "Iteration 4, inertia 114.53630435587505.\n",
      "Iteration 5, inertia 114.38838343112279.\n",
      "Iteration 6, inertia 114.26024857814878.\n",
      "Iteration 7, inertia 114.11845425201992.\n",
      "Iteration 8, inertia 113.93495457055465.\n",
      "Iteration 9, inertia 113.79085154864796.\n",
      "Iteration 10, inertia 113.73794537517823.\n",
      "Iteration 11, inertia 113.69028311505252.\n",
      "Iteration 12, inertia 113.64474760054918.\n",
      "Iteration 13, inertia 113.61697944655775.\n",
      "Iteration 14, inertia 113.6009459541515.\n",
      "Iteration 15, inertia 113.58729108794024.\n",
      "Iteration 16, inertia 113.57752166488682.\n",
      "Iteration 17, inertia 113.57049897135511.\n",
      "Iteration 18, inertia 113.56473347397645.\n",
      "Iteration 19, inertia 113.56032276335843.\n",
      "Iteration 20, inertia 113.5573212655447.\n",
      "Iteration 21, inertia 113.55544962926271.\n",
      "Iteration 22, inertia 113.55429636422838.\n",
      "Iteration 23, inertia 113.55339496843487.\n",
      "Iteration 24, inertia 113.55270896463362.\n",
      "Iteration 25, inertia 113.55210177609908.\n",
      "Iteration 26, inertia 113.55152938713094.\n",
      "Iteration 27, inertia 113.55087867688498.\n",
      "Iteration 28, inertia 113.5502081497784.\n",
      "Iteration 29, inertia 113.54949170308353.\n",
      "Iteration 30, inertia 113.54876787468191.\n",
      "Iteration 31, inertia 113.54795847973656.\n",
      "Iteration 32, inertia 113.54689086962401.\n",
      "Iteration 33, inertia 113.54530042782396.\n",
      "Iteration 34, inertia 113.5427079535211.\n",
      "Iteration 35, inertia 113.5385065642889.\n",
      "Iteration 36, inertia 113.53194482427304.\n",
      "Iteration 37, inertia 113.52209549869927.\n",
      "Iteration 38, inertia 113.5116482430388.\n",
      "Iteration 39, inertia 113.5040087512816.\n",
      "Iteration 40, inertia 113.49932559151608.\n",
      "Iteration 41, inertia 113.49704538745036.\n",
      "Iteration 42, inertia 113.4961693240309.\n",
      "Iteration 43, inertia 113.49591106690787.\n",
      "Iteration 44, inertia 113.49583133441311.\n",
      "Iteration 45, inertia 113.49579221973663.\n",
      "Iteration 46, inertia 113.49576624556286.\n",
      "Iteration 47, inertia 113.49574946499988.\n",
      "Iteration 48, inertia 113.49573758008574.\n",
      "Iteration 49, inertia 113.49572807906254.\n",
      "Iteration 50, inertia 113.49571846439486.\n",
      "Iteration 51, inertia 113.49570826089246.\n",
      "Iteration 52, inertia 113.49569601569092.\n",
      "Converged at iteration 52: center shift 6.212668858740323e-10 within tolerance 6.654821085135123e-10.\n",
      "Initialization complete\n",
      "Iteration 0, inertia 168.6701396389474.\n",
      "Iteration 1, inertia 115.15851146943679.\n",
      "Iteration 2, inertia 114.56764534745746.\n",
      "Iteration 3, inertia 114.20841751189198.\n",
      "Iteration 4, inertia 113.89611221999604.\n",
      "Iteration 5, inertia 113.7061584339453.\n",
      "Iteration 6, inertia 113.55018999888505.\n",
      "Iteration 7, inertia 113.33845214798487.\n",
      "Iteration 8, inertia 113.0992907968784.\n",
      "Iteration 9, inertia 112.9514273999301.\n",
      "Iteration 10, inertia 112.86494683732066.\n",
      "Iteration 11, inertia 112.82698015474809.\n",
      "Iteration 12, inertia 112.79582214518443.\n",
      "Iteration 13, inertia 112.7741703676174.\n",
      "Iteration 14, inertia 112.76501874490577.\n",
      "Iteration 15, inertia 112.76277136705187.\n",
      "Iteration 16, inertia 112.76104823164997.\n",
      "Iteration 17, inertia 112.75888643206233.\n",
      "Iteration 18, inertia 112.7563234772839.\n",
      "Iteration 19, inertia 112.75387456281766.\n",
      "Iteration 20, inertia 112.75172568464765.\n",
      "Iteration 21, inertia 112.74940789799788.\n",
      "Iteration 22, inertia 112.74693479256997.\n",
      "Iteration 23, inertia 112.74366977622077.\n",
      "Iteration 24, inertia 112.73763206649706.\n",
      "Iteration 25, inertia 112.7192470899641.\n",
      "Iteration 26, inertia 112.61328244506589.\n",
      "Iteration 27, inertia 112.26272297959763.\n",
      "Iteration 28, inertia 112.2584072111199.\n",
      "Iteration 29, inertia 112.25796853418305.\n",
      "Iteration 30, inertia 112.25767492095494.\n",
      "Iteration 31, inertia 112.25740421336623.\n",
      "Iteration 32, inertia 112.25716460978187.\n",
      "Iteration 33, inertia 112.25695555040609.\n",
      "Iteration 34, inertia 112.25675116613672.\n",
      "Iteration 35, inertia 112.25658837041914.\n",
      "Iteration 36, inertia 112.25646092459874.\n",
      "Iteration 37, inertia 112.25636799551089.\n",
      "Iteration 38, inertia 112.25626985266692.\n",
      "Iteration 39, inertia 112.25614949757258.\n",
      "Iteration 40, inertia 112.25606257735829.\n",
      "Iteration 41, inertia 112.25598118424912.\n",
      "Iteration 42, inertia 112.25591044508967.\n",
      "Iteration 43, inertia 112.25584490204164.\n",
      "Iteration 44, inertia 112.25579352702337.\n",
      "Iteration 45, inertia 112.25575743612148.\n",
      "Iteration 46, inertia 112.25572335870484.\n",
      "Iteration 47, inertia 112.25569680887533.\n",
      "Iteration 48, inertia 112.25566935849976.\n",
      "Iteration 49, inertia 112.2556382071048.\n",
      "Iteration 50, inertia 112.25560645821116.\n",
      "Iteration 51, inertia 112.25558184650298.\n",
      "Iteration 52, inertia 112.25556020982005.\n",
      "Iteration 53, inertia 112.25553922104402.\n",
      "Iteration 54, inertia 112.25551668966617.\n",
      "Iteration 55, inertia 112.25549209757499.\n",
      "Iteration 56, inertia 112.25546289158805.\n",
      "Iteration 57, inertia 112.25543972471715.\n",
      "Iteration 58, inertia 112.25541538614978.\n",
      "Iteration 59, inertia 112.25538626495964.\n",
      "Iteration 60, inertia 112.2553526650784.\n",
      "Iteration 61, inertia 112.25532425023093.\n",
      "Iteration 62, inertia 112.25529919558896.\n",
      "Iteration 63, inertia 112.25527441594512.\n",
      "Iteration 64, inertia 112.25524577726713.\n",
      "Iteration 65, inertia 112.25520869011318.\n",
      "Iteration 66, inertia 112.25517574240911.\n",
      "Iteration 67, inertia 112.25514812281097.\n",
      "Iteration 68, inertia 112.25512459255171.\n",
      "Iteration 69, inertia 112.25510432117443.\n",
      "Iteration 70, inertia 112.25508236778245.\n",
      "Iteration 71, inertia 112.25506358703596.\n",
      "Iteration 72, inertia 112.25503487931239.\n",
      "Iteration 73, inertia 112.2550105731151.\n",
      "Iteration 74, inertia 112.25499760046422.\n",
      "Converged at iteration 74: center shift 5.854223385543579e-10 within tolerance 6.654821085135123e-10.\n",
      "Initialization complete\n",
      "Iteration 0, inertia 168.94453163521638.\n",
      "Iteration 1, inertia 116.30782100575763.\n",
      "Iteration 2, inertia 115.47409423030341.\n",
      "Iteration 3, inertia 114.85406068102964.\n",
      "Iteration 4, inertia 114.55174336253111.\n",
      "Iteration 5, inertia 114.23297349717065.\n",
      "Iteration 6, inertia 114.07688139393673.\n",
      "Iteration 7, inertia 114.0140584817577.\n",
      "Iteration 8, inertia 113.97435069768756.\n",
      "Iteration 9, inertia 113.94474363760082.\n",
      "Iteration 10, inertia 113.91464956842574.\n",
      "Iteration 11, inertia 113.88194470290762.\n",
      "Iteration 12, inertia 113.85365430754064.\n",
      "Iteration 13, inertia 113.83242025412478.\n",
      "Iteration 14, inertia 113.8169965711946.\n",
      "Iteration 15, inertia 113.80354745475435.\n",
      "Iteration 16, inertia 113.78868759765052.\n",
      "Iteration 17, inertia 113.76681038688335.\n",
      "Iteration 18, inertia 113.73199798021487.\n",
      "Iteration 19, inertia 113.69048850321988.\n",
      "Iteration 20, inertia 113.66913480356718.\n",
      "Iteration 21, inertia 113.65152598310549.\n",
      "Iteration 22, inertia 113.61682564806688.\n",
      "Iteration 23, inertia 113.50963668173677.\n",
      "Iteration 24, inertia 113.30192255147894.\n",
      "Iteration 25, inertia 113.18084079062713.\n",
      "Iteration 26, inertia 113.13705542173427.\n",
      "Iteration 27, inertia 113.11997796359918.\n",
      "Iteration 28, inertia 113.11393200831911.\n",
      "Iteration 29, inertia 113.10959256383798.\n",
      "Iteration 30, inertia 113.10510949821449.\n",
      "Iteration 31, inertia 113.10052154501109.\n",
      "Iteration 32, inertia 113.09572859371647.\n",
      "Iteration 33, inertia 113.09120957378282.\n",
      "Iteration 34, inertia 113.08774910375993.\n",
      "Iteration 35, inertia 113.08471667872897.\n",
      "Iteration 36, inertia 113.08191893842766.\n",
      "Iteration 37, inertia 113.07916515671144.\n",
      "Iteration 38, inertia 113.0763921294941.\n",
      "Iteration 39, inertia 113.07357324673913.\n",
      "Iteration 40, inertia 113.07084386615145.\n",
      "Iteration 41, inertia 113.06870885438224.\n",
      "Iteration 42, inertia 113.0668849729778.\n",
      "Iteration 43, inertia 113.06546845823883.\n",
      "Iteration 44, inertia 113.06433196932934.\n",
      "Iteration 45, inertia 113.0634934412871.\n",
      "Iteration 46, inertia 113.06276098612327.\n",
      "Iteration 47, inertia 113.06212801819719.\n",
      "Iteration 48, inertia 113.06169422807653.\n",
      "Iteration 49, inertia 113.06145962023189.\n",
      "Iteration 50, inertia 113.06129517498486.\n",
      "Iteration 51, inertia 113.06112490233924.\n",
      "Iteration 52, inertia 113.06097868898671.\n",
      "Iteration 53, inertia 113.0608423857606.\n",
      "Iteration 54, inertia 113.06073290180703.\n",
      "Iteration 55, inertia 113.06061661155304.\n",
      "Iteration 56, inertia 113.0604947567225.\n",
      "Iteration 57, inertia 113.06038864709595.\n",
      "Iteration 58, inertia 113.06027810248463.\n",
      "Iteration 59, inertia 113.06015534990736.\n",
      "Iteration 60, inertia 113.0600548467997.\n",
      "Iteration 61, inertia 113.05994337376701.\n",
      "Iteration 62, inertia 113.05982605796476.\n",
      "Iteration 63, inertia 113.059688802615.\n",
      "Iteration 64, inertia 113.05955118451352.\n",
      "Iteration 65, inertia 113.05941573130113.\n",
      "Iteration 66, inertia 113.05926153659728.\n",
      "Iteration 67, inertia 113.05908009688365.\n",
      "Iteration 68, inertia 113.05888755000099.\n",
      "Iteration 69, inertia 113.05866231356934.\n",
      "Iteration 70, inertia 113.0584190766046.\n",
      "Iteration 71, inertia 113.05808857870522.\n",
      "Iteration 72, inertia 113.05762116158004.\n",
      "Iteration 73, inertia 113.05697591260383.\n",
      "Iteration 74, inertia 113.05589832754998.\n",
      "Iteration 75, inertia 113.05374892488723.\n",
      "Iteration 76, inertia 113.04935233762734.\n",
      "Iteration 77, inertia 113.0407769771417.\n",
      "Iteration 78, inertia 113.02794312667604.\n",
      "Iteration 79, inertia 113.01091554535085.\n",
      "Iteration 80, inertia 112.99463452563872.\n",
      "Iteration 81, inertia 112.98280481466071.\n",
      "Iteration 82, inertia 112.97375010729512.\n",
      "Iteration 83, inertia 112.96815624315462.\n",
      "Iteration 84, inertia 112.96565459818534.\n",
      "Iteration 85, inertia 112.96445067812765.\n",
      "Iteration 86, inertia 112.96384058748389.\n",
      "Iteration 87, inertia 112.96341469676582.\n",
      "Iteration 88, inertia 112.9631470494965.\n",
      "Iteration 89, inertia 112.96296077995679.\n",
      "Iteration 90, inertia 112.96285305412653.\n",
      "Iteration 91, inertia 112.96277732159334.\n",
      "Iteration 92, inertia 112.9627218767197.\n",
      "Iteration 93, inertia 112.96269433597085.\n",
      "Iteration 94, inertia 112.96268004602776.\n",
      "Iteration 95, inertia 112.96266044093407.\n",
      "Iteration 96, inertia 112.96263989522267.\n",
      "Converged at iteration 96: center shift 5.524516280375382e-10 within tolerance 6.654821085135123e-10.\n",
      "Initialization complete\n",
      "Iteration 0, inertia 166.4022700598174.\n",
      "Iteration 1, inertia 115.68727963799861.\n",
      "Iteration 2, inertia 115.00728918682472.\n",
      "Iteration 3, inertia 114.50264369356351.\n",
      "Iteration 4, inertia 114.1941524211587.\n",
      "Iteration 5, inertia 113.90202593522116.\n",
      "Iteration 6, inertia 113.63105433689182.\n",
      "Iteration 7, inertia 113.21042961852127.\n",
      "Iteration 8, inertia 113.03846822250742.\n",
      "Iteration 9, inertia 112.90954387756094.\n",
      "Iteration 10, inertia 112.78904582239358.\n",
      "Iteration 11, inertia 112.67621703341142.\n",
      "Iteration 12, inertia 112.61434903551329.\n",
      "Iteration 13, inertia 112.59615925033494.\n",
      "Iteration 14, inertia 112.56001452636647.\n",
      "Iteration 15, inertia 112.45633300799689.\n",
      "Iteration 16, inertia 112.43248236907122.\n",
      "Iteration 17, inertia 112.43094988021033.\n",
      "Iteration 18, inertia 112.43014496916555.\n",
      "Iteration 19, inertia 112.42967307033203.\n",
      "Iteration 20, inertia 112.42936238069791.\n",
      "Iteration 21, inertia 112.429185178552.\n",
      "Iteration 22, inertia 112.42903690752809.\n",
      "Iteration 23, inertia 112.42894487356196.\n",
      "Iteration 24, inertia 112.42889753312858.\n",
      "Iteration 25, inertia 112.42886192170523.\n",
      "Iteration 26, inertia 112.42884367737123.\n",
      "Converged at iteration 26: center shift 4.353232348765136e-10 within tolerance 6.654821085135123e-10.\n",
      "Initialization complete\n",
      "Iteration 0, inertia 169.39313980593326.\n",
      "Iteration 1, inertia 116.2279302248327.\n",
      "Iteration 2, inertia 115.58952144075538.\n",
      "Iteration 3, inertia 115.19446224850675.\n",
      "Iteration 4, inertia 114.89336883923049.\n",
      "Iteration 5, inertia 114.55071107282579.\n",
      "Iteration 6, inertia 114.21045231431263.\n",
      "Iteration 7, inertia 114.02125345324278.\n",
      "Iteration 8, inertia 113.8758048158539.\n",
      "Iteration 9, inertia 113.73993147447315.\n",
      "Iteration 10, inertia 113.67022370894594.\n",
      "Iteration 11, inertia 113.6295287022164.\n",
      "Iteration 12, inertia 113.58405117133454.\n",
      "Iteration 13, inertia 113.50689120794924.\n",
      "Iteration 14, inertia 113.2983059597444.\n",
      "Iteration 15, inertia 113.10003905645632.\n",
      "Iteration 16, inertia 113.06002355564361.\n",
      "Iteration 17, inertia 113.03947067311117.\n",
      "Iteration 18, inertia 113.0269105950378.\n",
      "Iteration 19, inertia 113.01639379542861.\n",
      "Iteration 20, inertia 113.00333464157873.\n",
      "Iteration 21, inertia 112.97844568694468.\n",
      "Iteration 22, inertia 112.93735105160148.\n",
      "Iteration 23, inertia 112.90966054071554.\n",
      "Iteration 24, inertia 112.89766302758828.\n",
      "Iteration 25, inertia 112.8899312011171.\n",
      "Iteration 26, inertia 112.88422992615412.\n",
      "Iteration 27, inertia 112.87799040463948.\n",
      "Iteration 28, inertia 112.87168530824366.\n",
      "Iteration 29, inertia 112.86950078971245.\n",
      "Iteration 30, inertia 112.8677868301153.\n",
      "Iteration 31, inertia 112.86600465329028.\n",
      "Iteration 32, inertia 112.86392435556415.\n",
      "Iteration 33, inertia 112.8621697757751.\n",
      "Iteration 34, inertia 112.86101343273717.\n",
      "Iteration 35, inertia 112.86035122504626.\n",
      "Iteration 36, inertia 112.8599575164052.\n",
      "Iteration 37, inertia 112.8597334559171.\n",
      "Iteration 38, inertia 112.85962657109646.\n",
      "Iteration 39, inertia 112.85957684847362.\n",
      "Iteration 40, inertia 112.85955545402179.\n",
      "Converged at iteration 40: center shift 4.783439551131009e-10 within tolerance 6.654821085135123e-10.\n",
      "Initialization complete\n",
      "Iteration 0, inertia 163.62732369642606.\n",
      "Iteration 1, inertia 115.35702834785748.\n",
      "Iteration 2, inertia 114.82601903974249.\n",
      "Iteration 3, inertia 114.43417396523147.\n",
      "Iteration 4, inertia 114.18489969183922.\n",
      "Iteration 5, inertia 113.96772789486532.\n",
      "Iteration 6, inertia 113.8457196625644.\n",
      "Iteration 7, inertia 113.75483952042264.\n",
      "Iteration 8, inertia 113.64238797669267.\n",
      "Iteration 9, inertia 113.54006163144605.\n",
      "Iteration 10, inertia 113.48532521454939.\n",
      "Iteration 11, inertia 113.45400810289436.\n",
      "Iteration 12, inertia 113.43495885112964.\n",
      "Iteration 13, inertia 113.42361762046194.\n",
      "Iteration 14, inertia 113.41421664719554.\n",
      "Iteration 15, inertia 113.4027528411421.\n",
      "Iteration 16, inertia 113.3874397721453.\n",
      "Iteration 17, inertia 113.36563272798527.\n",
      "Iteration 18, inertia 113.33788597997979.\n",
      "Iteration 19, inertia 113.30823057433705.\n",
      "Iteration 20, inertia 113.28374413308299.\n",
      "Iteration 21, inertia 113.26989077363827.\n",
      "Iteration 22, inertia 113.26410785046676.\n",
      "Iteration 23, inertia 113.26170348527089.\n",
      "Iteration 24, inertia 113.26060464099623.\n",
      "Iteration 25, inertia 113.26008832415195.\n",
      "Iteration 26, inertia 113.259869514956.\n",
      "Iteration 27, inertia 113.25974348200371.\n",
      "Iteration 28, inertia 113.25966764432061.\n",
      "Iteration 29, inertia 113.25961793109393.\n",
      "Iteration 30, inertia 113.25957450995305.\n",
      "Iteration 31, inertia 113.259536776627.\n",
      "Iteration 32, inertia 113.25951164743377.\n",
      "Iteration 33, inertia 113.25948845603631.\n",
      "Iteration 34, inertia 113.25947448307055.\n",
      "Converged at iteration 34: center shift 4.605287909832059e-10 within tolerance 6.654821085135123e-10.\n",
      "Initialization complete\n",
      "Iteration 0, inertia 168.2044648373137.\n",
      "Iteration 1, inertia 115.1496466364818.\n",
      "Iteration 2, inertia 114.47676537396154.\n",
      "Iteration 3, inertia 114.16248091252588.\n",
      "Iteration 4, inertia 114.03816376336468.\n",
      "Iteration 5, inertia 113.92055423196206.\n",
      "Iteration 6, inertia 113.7894065837875.\n",
      "Iteration 7, inertia 113.6367996587285.\n",
      "Iteration 8, inertia 113.48210241271835.\n",
      "Iteration 9, inertia 113.38177330380834.\n",
      "Iteration 10, inertia 113.2907370518203.\n",
      "Iteration 11, inertia 113.2099269055225.\n",
      "Iteration 12, inertia 113.16118435137088.\n",
      "Iteration 13, inertia 113.12286473967698.\n",
      "Iteration 14, inertia 113.08314882525309.\n",
      "Iteration 15, inertia 113.023890536011.\n",
      "Iteration 16, inertia 112.9292954442439.\n",
      "Iteration 17, inertia 112.89043593344947.\n",
      "Iteration 18, inertia 112.8818780831208.\n",
      "Iteration 19, inertia 112.87600830446401.\n",
      "Iteration 20, inertia 112.8725031696572.\n",
      "Iteration 21, inertia 112.87018071868349.\n",
      "Iteration 22, inertia 112.86861302757382.\n",
      "Iteration 23, inertia 112.86752321316126.\n",
      "Iteration 24, inertia 112.86672738327533.\n",
      "Iteration 25, inertia 112.86611705726561.\n",
      "Iteration 26, inertia 112.86548694833485.\n",
      "Iteration 27, inertia 112.86483686720288.\n",
      "Iteration 28, inertia 112.86415056103569.\n",
      "Iteration 29, inertia 112.86338388120024.\n",
      "Iteration 30, inertia 112.86252565444894.\n",
      "Iteration 31, inertia 112.86173406257902.\n",
      "Iteration 32, inertia 112.86115118426574.\n",
      "Iteration 33, inertia 112.86074236061795.\n",
      "Iteration 34, inertia 112.86050054896646.\n",
      "Iteration 35, inertia 112.86037834572382.\n",
      "Iteration 36, inertia 112.86032043985708.\n",
      "Iteration 37, inertia 112.86029072213493.\n",
      "Converged at iteration 37: center shift 5.913054351525429e-10 within tolerance 6.654821085135123e-10.\n",
      "Initialization complete\n",
      "Iteration 0, inertia 167.06622012734184.\n",
      "Iteration 1, inertia 115.08409041895902.\n",
      "Iteration 2, inertia 114.37040666577113.\n",
      "Iteration 3, inertia 113.96494491462599.\n",
      "Iteration 4, inertia 113.78277533032217.\n",
      "Iteration 5, inertia 113.56155063665759.\n",
      "Iteration 6, inertia 113.41401033914612.\n",
      "Iteration 7, inertia 113.27320995447148.\n",
      "Iteration 8, inertia 113.16061483103263.\n",
      "Iteration 9, inertia 113.08400863995723.\n",
      "Iteration 10, inertia 112.99483577345916.\n",
      "Iteration 11, inertia 112.94156229454546.\n",
      "Iteration 12, inertia 112.917367575457.\n",
      "Iteration 13, inertia 112.89626997985367.\n",
      "Iteration 14, inertia 112.86618074629342.\n",
      "Iteration 15, inertia 112.81767631414225.\n",
      "Iteration 16, inertia 112.74287127138756.\n",
      "Iteration 17, inertia 112.61846640067954.\n",
      "Iteration 18, inertia 112.46676336557103.\n",
      "Iteration 19, inertia 112.40440107685595.\n",
      "Iteration 20, inertia 112.38936439644463.\n",
      "Iteration 21, inertia 112.38139969496574.\n",
      "Iteration 22, inertia 112.37697814405998.\n",
      "Iteration 23, inertia 112.37349896375986.\n",
      "Iteration 24, inertia 112.37030212727937.\n",
      "Iteration 25, inertia 112.367286601114.\n",
      "Iteration 26, inertia 112.36506873304278.\n",
      "Iteration 27, inertia 112.3639631425515.\n",
      "Iteration 28, inertia 112.36345696693748.\n",
      "Iteration 29, inertia 112.3631813054595.\n",
      "Iteration 30, inertia 112.36301615114705.\n",
      "Iteration 31, inertia 112.36289899273952.\n",
      "Iteration 32, inertia 112.36283679896009.\n",
      "Iteration 33, inertia 112.36280102100523.\n",
      "Iteration 34, inertia 112.36278128958642.\n",
      "Iteration 35, inertia 112.3627661694017.\n",
      "Converged at iteration 35: center shift 5.286243919531824e-10 within tolerance 6.654821085135123e-10.\n",
      "Initialization complete\n",
      "Iteration 0, inertia 167.57461886592034.\n",
      "Iteration 1, inertia 115.23615902232683.\n",
      "Iteration 2, inertia 114.53973072333744.\n",
      "Iteration 3, inertia 113.93832487896553.\n",
      "Iteration 4, inertia 113.60439482558404.\n",
      "Iteration 5, inertia 113.40965620073469.\n",
      "Iteration 6, inertia 113.31410529995858.\n",
      "Iteration 7, inertia 113.25135869337883.\n",
      "Iteration 8, inertia 113.20662376851591.\n",
      "Iteration 9, inertia 113.16752854861933.\n",
      "Iteration 10, inertia 113.1304703051623.\n",
      "Iteration 11, inertia 113.08940980903743.\n",
      "Iteration 12, inertia 113.04448942448377.\n",
      "Iteration 13, inertia 113.01344690424175.\n",
      "Iteration 14, inertia 112.99975893846626.\n",
      "Iteration 15, inertia 112.99412399653242.\n",
      "Iteration 16, inertia 112.99158935606432.\n",
      "Iteration 17, inertia 112.98974387355388.\n",
      "Iteration 18, inertia 112.98796514994304.\n",
      "Iteration 19, inertia 112.98592744443089.\n",
      "Iteration 20, inertia 112.98333318138548.\n",
      "Iteration 21, inertia 112.97985067374952.\n",
      "Iteration 22, inertia 112.97487571917922.\n",
      "Iteration 23, inertia 112.9667943662547.\n",
      "Iteration 24, inertia 112.95141587376182.\n",
      "Iteration 25, inertia 112.921521465709.\n",
      "Iteration 26, inertia 112.86109023675823.\n",
      "Iteration 27, inertia 112.81952302772022.\n",
      "Iteration 28, inertia 112.81727088501216.\n",
      "Iteration 29, inertia 112.81670179448965.\n",
      "Iteration 30, inertia 112.8164033688511.\n",
      "Iteration 31, inertia 112.81625398053936.\n",
      "Iteration 32, inertia 112.81616698396796.\n",
      "Iteration 33, inertia 112.81611154169182.\n",
      "Iteration 34, inertia 112.81607401731583.\n",
      "Iteration 35, inertia 112.81605041176755.\n",
      "Iteration 36, inertia 112.8160337601493.\n",
      "Iteration 37, inertia 112.81602403459485.\n",
      "Converged at iteration 37: center shift 3.636591681204802e-10 within tolerance 6.654821085135123e-10.\n",
      "Initialization complete\n",
      "Iteration 0, inertia 170.79768053660825.\n",
      "Iteration 1, inertia 115.69498284974074.\n",
      "Iteration 2, inertia 114.5987769672343.\n",
      "Iteration 3, inertia 114.07280992250487.\n",
      "Iteration 4, inertia 113.86646891375729.\n",
      "Iteration 5, inertia 113.69481292548903.\n",
      "Iteration 6, inertia 113.56346812030527.\n",
      "Iteration 7, inertia 113.46165390254343.\n",
      "Iteration 8, inertia 113.35945408271033.\n",
      "Iteration 9, inertia 113.29252575210435.\n",
      "Iteration 10, inertia 113.24656245394394.\n",
      "Iteration 11, inertia 113.21438464159503.\n",
      "Iteration 12, inertia 113.18967583002464.\n",
      "Iteration 13, inertia 113.17110367541406.\n",
      "Iteration 14, inertia 113.15616825045923.\n",
      "Iteration 15, inertia 113.14378625343652.\n",
      "Iteration 16, inertia 113.13319903250569.\n",
      "Iteration 17, inertia 113.12424785538751.\n",
      "Iteration 18, inertia 113.11732397391599.\n",
      "Iteration 19, inertia 113.1117747784511.\n",
      "Iteration 20, inertia 113.10648579858844.\n",
      "Iteration 21, inertia 113.10066625293686.\n",
      "Iteration 22, inertia 113.09451968003557.\n",
      "Iteration 23, inertia 113.08844398903015.\n",
      "Iteration 24, inertia 113.08270653258384.\n",
      "Iteration 25, inertia 113.07786602054648.\n",
      "Iteration 26, inertia 113.07368620804601.\n",
      "Iteration 27, inertia 113.0700500915749.\n",
      "Iteration 28, inertia 113.0666032815599.\n",
      "Iteration 29, inertia 113.06303825169518.\n",
      "Iteration 30, inertia 113.0594180179447.\n",
      "Iteration 31, inertia 113.05544786781196.\n",
      "Iteration 32, inertia 113.05136063954517.\n",
      "Iteration 33, inertia 113.0476085457771.\n",
      "Iteration 34, inertia 113.0439566722379.\n",
      "Iteration 35, inertia 113.04072805685061.\n",
      "Iteration 36, inertia 113.03802305440604.\n",
      "Iteration 37, inertia 113.03594858499596.\n",
      "Iteration 38, inertia 113.03455655731756.\n",
      "Iteration 39, inertia 113.03384570904315.\n",
      "Iteration 40, inertia 113.0334801790558.\n",
      "Iteration 41, inertia 113.03327702027397.\n",
      "Iteration 42, inertia 113.0331665724979.\n",
      "Iteration 43, inertia 113.03311351905236.\n",
      "Iteration 44, inertia 113.03309237915322.\n",
      "Converged at iteration 44: center shift 6.2028012791807e-10 within tolerance 6.654821085135123e-10.\n",
      "Initialization complete\n",
      "Iteration 0, inertia 165.43373488078973.\n",
      "Iteration 1, inertia 116.70127889867125.\n",
      "Iteration 2, inertia 115.68744149506566.\n",
      "Iteration 3, inertia 115.18979635954588.\n",
      "Iteration 4, inertia 114.91137346539783.\n",
      "Iteration 5, inertia 114.72070171528736.\n",
      "Iteration 6, inertia 114.49839841992691.\n",
      "Iteration 7, inertia 114.25636421909377.\n",
      "Iteration 8, inertia 114.08767952817162.\n",
      "Iteration 9, inertia 113.95985664131327.\n",
      "Iteration 10, inertia 113.8006608382577.\n",
      "Iteration 11, inertia 113.70718768154882.\n",
      "Iteration 12, inertia 113.67024402190974.\n",
      "Iteration 13, inertia 113.64322055661769.\n",
      "Iteration 14, inertia 113.62471636340506.\n",
      "Iteration 15, inertia 113.61100418938973.\n",
      "Iteration 16, inertia 113.5990870025139.\n",
      "Iteration 17, inertia 113.58728069370264.\n",
      "Iteration 18, inertia 113.57407145321424.\n",
      "Iteration 19, inertia 113.56053364886989.\n",
      "Iteration 20, inertia 113.54698316666307.\n",
      "Iteration 21, inertia 113.534546346779.\n",
      "Iteration 22, inertia 113.52437956193819.\n",
      "Iteration 23, inertia 113.51680488527542.\n",
      "Iteration 24, inertia 113.5110961430863.\n",
      "Iteration 25, inertia 113.5069177701709.\n",
      "Iteration 26, inertia 113.50381414789481.\n",
      "Iteration 27, inertia 113.50097275329952.\n",
      "Iteration 28, inertia 113.49826538224386.\n",
      "Iteration 29, inertia 113.4955742716886.\n",
      "Iteration 30, inertia 113.49230445158847.\n",
      "Iteration 31, inertia 113.48799727793501.\n",
      "Iteration 32, inertia 113.48185642998729.\n",
      "Iteration 33, inertia 113.47162255216695.\n",
      "Iteration 34, inertia 113.45533015663052.\n",
      "Iteration 35, inertia 113.4328344147845.\n",
      "Iteration 36, inertia 113.41025832582127.\n",
      "Iteration 37, inertia 113.38488025354658.\n",
      "Iteration 38, inertia 113.35674318188128.\n",
      "Iteration 39, inertia 113.28239295776204.\n",
      "Iteration 40, inertia 112.95038680629366.\n",
      "Iteration 41, inertia 112.85384859579048.\n",
      "Iteration 42, inertia 112.85244973289579.\n",
      "Iteration 43, inertia 112.85193188115112.\n",
      "Iteration 44, inertia 112.85166169454143.\n",
      "Iteration 45, inertia 112.85151090916473.\n",
      "Iteration 46, inertia 112.85142835671647.\n",
      "Iteration 47, inertia 112.85137947808478.\n",
      "Iteration 48, inertia 112.85134513351312.\n",
      "Iteration 49, inertia 112.85131697737538.\n",
      "Iteration 50, inertia 112.85129372839181.\n",
      "Converged at iteration 50: center shift 6.504359624490236e-10 within tolerance 6.654821085135123e-10.\n",
      "Initialization complete\n",
      "Iteration 0, inertia 170.4468791895893.\n",
      "Iteration 1, inertia 114.9800976563465.\n",
      "Iteration 2, inertia 114.3600982901818.\n",
      "Iteration 3, inertia 113.96554697353761.\n",
      "Iteration 4, inertia 113.6559156802009.\n",
      "Iteration 5, inertia 113.28332657825814.\n",
      "Iteration 6, inertia 112.9491246007004.\n",
      "Iteration 7, inertia 112.68796259236431.\n",
      "Iteration 8, inertia 112.55925043202988.\n",
      "Iteration 9, inertia 112.47081069308325.\n",
      "Iteration 10, inertia 112.4540737039885.\n",
      "Iteration 11, inertia 112.45226959680994.\n",
      "Iteration 12, inertia 112.45164473652244.\n",
      "Iteration 13, inertia 112.45137352668375.\n",
      "Iteration 14, inertia 112.45126293299577.\n",
      "Iteration 15, inertia 112.45121352425024.\n",
      "Iteration 16, inertia 112.45118643503692.\n",
      "Iteration 17, inertia 112.45117070088196.\n",
      "Converged at iteration 17: center shift 3.7521941252996347e-10 within tolerance 6.654821085135123e-10.\n",
      "Initialization complete\n",
      "Iteration 0, inertia 169.5098112726587.\n",
      "Iteration 1, inertia 114.49982021899629.\n",
      "Iteration 2, inertia 113.99794374394686.\n",
      "Iteration 3, inertia 113.69169831904166.\n",
      "Iteration 4, inertia 113.35863263680172.\n",
      "Iteration 5, inertia 113.06730107320459.\n",
      "Iteration 6, inertia 112.88983855686023.\n",
      "Iteration 7, inertia 112.77043761941668.\n",
      "Iteration 8, inertia 112.68673380647783.\n",
      "Iteration 9, inertia 112.63266045234445.\n",
      "Iteration 10, inertia 112.58650546217706.\n",
      "Iteration 11, inertia 112.53530685382786.\n",
      "Iteration 12, inertia 112.47885941097967.\n",
      "Iteration 13, inertia 112.42437219928591.\n",
      "Iteration 14, inertia 112.38080019996566.\n",
      "Iteration 15, inertia 112.34545607294446.\n",
      "Iteration 16, inertia 112.31708563276189.\n",
      "Iteration 17, inertia 112.29600752266029.\n",
      "Iteration 18, inertia 112.2823090523209.\n",
      "Iteration 19, inertia 112.27533137082071.\n",
      "Iteration 20, inertia 112.27236518322798.\n",
      "Iteration 21, inertia 112.27098939208852.\n",
      "Iteration 22, inertia 112.27023159622644.\n",
      "Iteration 23, inertia 112.26973533874893.\n",
      "Iteration 24, inertia 112.26938637645557.\n",
      "Iteration 25, inertia 112.26919363841002.\n",
      "Iteration 26, inertia 112.2690463344194.\n",
      "Iteration 27, inertia 112.2689476649426.\n",
      "Iteration 28, inertia 112.2688877106682.\n",
      "Iteration 29, inertia 112.26884549396962.\n",
      "Iteration 30, inertia 112.26882389955348.\n",
      "Iteration 31, inertia 112.26880803656026.\n",
      "Iteration 32, inertia 112.26879570826353.\n",
      "Iteration 33, inertia 112.2687843716437.\n",
      "Iteration 34, inertia 112.26877457034973.\n",
      "Converged at iteration 34: center shift 6.275434940479135e-10 within tolerance 6.654821085135123e-10.\n",
      "Initialization complete\n",
      "Iteration 0, inertia 162.7923217442463.\n",
      "Iteration 1, inertia 116.50873802671353.\n",
      "Iteration 2, inertia 115.77608473523023.\n",
      "Iteration 3, inertia 115.40128415013918.\n",
      "Iteration 4, inertia 114.99490120510815.\n",
      "Iteration 5, inertia 114.61310499696377.\n",
      "Iteration 6, inertia 114.38533432319862.\n",
      "Iteration 7, inertia 114.25267927944418.\n",
      "Iteration 8, inertia 114.1718832512906.\n",
      "Iteration 9, inertia 114.05789773872915.\n",
      "Iteration 10, inertia 113.75316162779421.\n",
      "Iteration 11, inertia 113.3941885178724.\n",
      "Iteration 12, inertia 113.30778448039027.\n",
      "Iteration 13, inertia 113.27043655942958.\n",
      "Iteration 14, inertia 113.25288375465381.\n",
      "Iteration 15, inertia 113.24185278347802.\n",
      "Iteration 16, inertia 113.2328964889584.\n",
      "Iteration 17, inertia 113.22411391520504.\n",
      "Iteration 18, inertia 113.21589445706067.\n",
      "Iteration 19, inertia 113.20899408024187.\n",
      "Iteration 20, inertia 113.2030093453119.\n",
      "Iteration 21, inertia 113.19861053425254.\n",
      "Iteration 22, inertia 113.19509926318761.\n",
      "Iteration 23, inertia 113.19208212894226.\n",
      "Iteration 24, inertia 113.18923851021484.\n",
      "Iteration 25, inertia 113.18646813829298.\n",
      "Iteration 26, inertia 113.18383349179973.\n",
      "Iteration 27, inertia 113.18128386002834.\n",
      "Iteration 28, inertia 113.17837074256805.\n",
      "Iteration 29, inertia 113.17528498275549.\n",
      "Iteration 30, inertia 113.17147498843428.\n",
      "Iteration 31, inertia 113.16615780917891.\n",
      "Iteration 32, inertia 113.15804633053145.\n",
      "Iteration 33, inertia 113.14168480799688.\n",
      "Iteration 34, inertia 113.08933736346476.\n",
      "Iteration 35, inertia 112.88103472064464.\n",
      "Iteration 36, inertia 112.74882571476014.\n",
      "Iteration 37, inertia 112.72982978698604.\n",
      "Iteration 38, inertia 112.72130048303546.\n",
      "Iteration 39, inertia 112.7167306573054.\n",
      "Iteration 40, inertia 112.71035097451684.\n",
      "Iteration 41, inertia 112.70751291540192.\n",
      "Iteration 42, inertia 112.70417580228882.\n",
      "Iteration 43, inertia 112.70030626769403.\n",
      "Iteration 44, inertia 112.69650679164803.\n",
      "Iteration 45, inertia 112.69313146489293.\n",
      "Iteration 46, inertia 112.69060148955298.\n",
      "Iteration 47, inertia 112.6889872444799.\n",
      "Iteration 48, inertia 112.68805120363668.\n",
      "Iteration 49, inertia 112.68751982421759.\n",
      "Iteration 50, inertia 112.68719363677162.\n",
      "Iteration 51, inertia 112.68696353476608.\n",
      "Iteration 52, inertia 112.68679927546529.\n",
      "Iteration 53, inertia 112.68667079101891.\n",
      "Iteration 54, inertia 112.6865636759479.\n",
      "Iteration 55, inertia 112.68648711400546.\n",
      "Iteration 56, inertia 112.68644422214345.\n",
      "Iteration 57, inertia 112.68641431940651.\n",
      "Iteration 58, inertia 112.68639350518794.\n",
      "Converged at iteration 58: center shift 4.630608504558139e-10 within tolerance 6.654821085135123e-10.\n",
      "Initialization complete\n",
      "Iteration 0, inertia 163.45296007415874.\n",
      "Iteration 1, inertia 114.88373572937527.\n",
      "Iteration 2, inertia 113.86343953218875.\n",
      "Iteration 3, inertia 113.31203539918143.\n",
      "Iteration 4, inertia 112.99592369010476.\n",
      "Iteration 5, inertia 112.85075732782254.\n",
      "Iteration 6, inertia 112.75538324285085.\n",
      "Iteration 7, inertia 112.66569574214766.\n",
      "Iteration 8, inertia 112.58903375211209.\n",
      "Iteration 9, inertia 112.52939849100346.\n",
      "Iteration 10, inertia 112.47589437489735.\n",
      "Iteration 11, inertia 112.43091062466566.\n",
      "Iteration 12, inertia 112.39714570522838.\n",
      "Iteration 13, inertia 112.37002763740057.\n",
      "Iteration 14, inertia 112.35389442489068.\n",
      "Iteration 15, inertia 112.34656570472492.\n",
      "Iteration 16, inertia 112.34337089312189.\n",
      "Iteration 17, inertia 112.34196469215436.\n",
      "Iteration 18, inertia 112.34131338671673.\n",
      "Iteration 19, inertia 112.34098171279093.\n",
      "Iteration 20, inertia 112.34077093568473.\n",
      "Iteration 21, inertia 112.34063424637053.\n",
      "Iteration 22, inertia 112.34055565710506.\n",
      "Iteration 23, inertia 112.34050173922607.\n",
      "Iteration 24, inertia 112.3404725889702.\n",
      "Converged at iteration 24: center shift 6.299779126292243e-10 within tolerance 6.654821085135123e-10.\n",
      "predicting for customers\n",
      "predicting for population\n",
      "plotting...\n",
      "267.4752251\n"
     ]
    },
    {
     "data": {
      "text/plain": "<Figure size 1200x400 with 2 Axes>",
      "image/png": "[encoded data removed]"
     },
     "metadata": {},
     "output_type": "display_data"
    }
   ],
   "source": [
    "t0 = perf_counter()\n",
    "\n",
    "pipeline_ica = run_pipeline(cluster_pipeline_ica,\n",
    "                            azdias.drop('EINGEFUEGT_AM', axis=1).iloc[::5],\n",
    "                            customers.drop('EINGEFUEGT_AM', axis=1))\n",
    "\n",
    "print(perf_counter()-t0)"
   ],
   "metadata": {
    "collapsed": false,
    "pycharm": {
     "name": "#%%\n"
    }
   }
  },
  {
   "cell_type": "markdown",
   "source": [
    "###### PCA + Kmeans"
   ],
   "metadata": {
    "collapsed": false,
    "pycharm": {
     "name": "#%% md\n"
    }
   }
  },
  {
   "cell_type": "code",
   "execution_count": 44,
   "outputs": [
    {
     "name": "stdout",
     "output_type": "stream",
     "text": [
      "fitting pipeline\n",
      "Initialization complete\n",
      "Iteration 0, inertia 61819155.61258067.\n",
      "Iteration 1, inertia 38489365.032922186.\n",
      "Iteration 2, inertia 37734104.10995022.\n",
      "Iteration 3, inertia 37451034.880158536.\n",
      "Iteration 4, inertia 37334382.18059699.\n",
      "Iteration 5, inertia 37290571.26619309.\n",
      "Iteration 6, inertia 37268079.65954564.\n",
      "Iteration 7, inertia 37252954.571994096.\n",
      "Iteration 8, inertia 37242066.807599306.\n",
      "Iteration 9, inertia 37233185.88086133.\n",
      "Iteration 10, inertia 37225489.77736401.\n",
      "Iteration 11, inertia 37217947.03154316.\n",
      "Iteration 12, inertia 37210032.419219464.\n",
      "Iteration 13, inertia 37201107.82673313.\n",
      "Iteration 14, inertia 37190269.19367677.\n",
      "Iteration 15, inertia 37176644.830072165.\n",
      "Iteration 16, inertia 37161518.8073137.\n",
      "Iteration 17, inertia 37148776.800609656.\n",
      "Iteration 18, inertia 37140665.94012645.\n",
      "Iteration 19, inertia 37136209.23968049.\n",
      "Iteration 20, inertia 37133534.51275727.\n",
      "Iteration 21, inertia 37131817.41854814.\n",
      "Iteration 22, inertia 37130560.05728312.\n",
      "Iteration 23, inertia 37129599.703582995.\n",
      "Iteration 24, inertia 37128826.83634235.\n",
      "Iteration 25, inertia 37128165.17635619.\n",
      "Iteration 26, inertia 37127651.05939061.\n",
      "Iteration 27, inertia 37127193.995370135.\n",
      "Iteration 28, inertia 37126784.98527321.\n",
      "Iteration 29, inertia 37126412.67593083.\n",
      "Iteration 30, inertia 37126036.3851276.\n",
      "Iteration 31, inertia 37125583.58270141.\n",
      "Iteration 32, inertia 37125147.884731136.\n",
      "Iteration 33, inertia 37124768.680978775.\n",
      "Iteration 34, inertia 37124349.34574203.\n",
      "Iteration 35, inertia 37123872.436914474.\n",
      "Iteration 36, inertia 37123337.51418999.\n",
      "Iteration 37, inertia 37122816.19176606.\n",
      "Iteration 38, inertia 37122281.94167306.\n",
      "Iteration 39, inertia 37121783.69931495.\n",
      "Iteration 40, inertia 37121287.52549027.\n",
      "Iteration 41, inertia 37120722.207410514.\n",
      "Iteration 42, inertia 37120056.14674541.\n",
      "Iteration 43, inertia 37119322.10316851.\n",
      "Iteration 44, inertia 37118463.04439076.\n",
      "Iteration 45, inertia 37117486.85920677.\n",
      "Iteration 46, inertia 37116433.69781201.\n",
      "Iteration 47, inertia 37115295.28959775.\n",
      "Iteration 48, inertia 37114256.72833465.\n",
      "Iteration 49, inertia 37113205.03937523.\n",
      "Iteration 50, inertia 37112128.18605267.\n",
      "Iteration 51, inertia 37111079.75130385.\n",
      "Iteration 52, inertia 37110146.49180472.\n",
      "Iteration 53, inertia 37109253.62806614.\n",
      "Iteration 54, inertia 37108371.81846414.\n",
      "Iteration 55, inertia 37107576.247971.\n",
      "Iteration 56, inertia 37106784.63214301.\n",
      "Iteration 57, inertia 37105996.34967319.\n",
      "Iteration 58, inertia 37105225.1444259.\n",
      "Iteration 59, inertia 37104470.77694621.\n",
      "Iteration 60, inertia 37103705.866185814.\n",
      "Iteration 61, inertia 37102942.08172407.\n",
      "Iteration 62, inertia 37102206.49245688.\n",
      "Iteration 63, inertia 37101464.26899829.\n",
      "Iteration 64, inertia 37100729.92169199.\n",
      "Iteration 65, inertia 37099904.762475215.\n",
      "Iteration 66, inertia 37099104.349880874.\n",
      "Iteration 67, inertia 37098274.2839101.\n",
      "Iteration 68, inertia 37097340.92149862.\n",
      "Iteration 69, inertia 37096322.91430668.\n",
      "Iteration 70, inertia 37095301.84825559.\n",
      "Iteration 71, inertia 37094124.66106773.\n",
      "Iteration 72, inertia 37092657.40882981.\n",
      "Iteration 73, inertia 37090989.83777418.\n",
      "Iteration 74, inertia 37089114.1413444.\n",
      "Iteration 75, inertia 37087056.7489729.\n",
      "Iteration 76, inertia 37084820.004579306.\n",
      "Iteration 77, inertia 37082691.28126494.\n",
      "Iteration 78, inertia 37080863.98580638.\n",
      "Iteration 79, inertia 37079136.69222511.\n",
      "Iteration 80, inertia 37077321.49643277.\n",
      "Iteration 81, inertia 37075674.65012896.\n",
      "Iteration 82, inertia 37074316.16323146.\n",
      "Iteration 83, inertia 37073025.7753717.\n",
      "Iteration 84, inertia 37071913.280375734.\n",
      "Iteration 85, inertia 37071021.482750505.\n",
      "Iteration 86, inertia 37070182.53289592.\n",
      "Iteration 87, inertia 37069377.47182525.\n",
      "Iteration 88, inertia 37068676.575503215.\n",
      "Iteration 89, inertia 37068055.48947495.\n",
      "Iteration 90, inertia 37067399.02515657.\n",
      "Iteration 91, inertia 37066765.98698797.\n",
      "Iteration 92, inertia 37066155.67447913.\n",
      "Iteration 93, inertia 37065587.34488147.\n",
      "Iteration 94, inertia 37064985.58736962.\n",
      "Iteration 95, inertia 37064422.56544825.\n",
      "Iteration 96, inertia 37063913.355125405.\n",
      "Iteration 97, inertia 37063403.385933116.\n",
      "Iteration 98, inertia 37062922.88750459.\n",
      "Iteration 99, inertia 37062398.27470908.\n",
      "Iteration 100, inertia 37061839.75107336.\n",
      "Iteration 101, inertia 37061220.09555716.\n",
      "Iteration 102, inertia 37060574.756772645.\n",
      "Iteration 103, inertia 37059898.10951987.\n",
      "Iteration 104, inertia 37059136.076870576.\n",
      "Iteration 105, inertia 37058460.69091478.\n",
      "Iteration 106, inertia 37057821.98572834.\n",
      "Iteration 107, inertia 37057134.07099529.\n",
      "Iteration 108, inertia 37056405.66075031.\n",
      "Iteration 109, inertia 37055539.748120226.\n",
      "Iteration 110, inertia 37054543.34882761.\n",
      "Iteration 111, inertia 37053299.627826035.\n",
      "Iteration 112, inertia 37051793.90948448.\n",
      "Iteration 113, inertia 37049653.99033431.\n",
      "Iteration 114, inertia 37046215.24043834.\n",
      "Iteration 115, inertia 37040162.60998051.\n",
      "Iteration 116, inertia 37030515.15005856.\n",
      "Iteration 117, inertia 37018797.682810426.\n",
      "Iteration 118, inertia 37008099.21413169.\n",
      "Iteration 119, inertia 37001186.75756679.\n",
      "Iteration 120, inertia 36997783.8428624.\n",
      "Iteration 121, inertia 36996045.58424762.\n",
      "Iteration 122, inertia 36995018.391134635.\n",
      "Iteration 123, inertia 36994235.05895467.\n",
      "Iteration 124, inertia 36993641.5068061.\n",
      "Iteration 125, inertia 36993130.401836365.\n",
      "Iteration 126, inertia 36992684.03026664.\n",
      "Iteration 127, inertia 36992295.17067601.\n",
      "Iteration 128, inertia 36991929.794475.\n",
      "Iteration 129, inertia 36991591.12487965.\n",
      "Iteration 130, inertia 36991230.06289391.\n",
      "Iteration 131, inertia 36990872.06478931.\n",
      "Iteration 132, inertia 36990515.66467774.\n",
      "Iteration 133, inertia 36990215.62694001.\n",
      "Iteration 134, inertia 36989943.74838682.\n",
      "Iteration 135, inertia 36989696.36895801.\n",
      "Iteration 136, inertia 36989474.9835041.\n",
      "Iteration 137, inertia 36989273.24751501.\n",
      "Iteration 138, inertia 36989107.58052887.\n",
      "Iteration 139, inertia 36988981.365755446.\n",
      "Iteration 140, inertia 36988875.92524386.\n",
      "Iteration 141, inertia 36988787.1858036.\n",
      "Iteration 142, inertia 36988724.772240266.\n",
      "Iteration 143, inertia 36988670.34650449.\n",
      "Iteration 144, inertia 36988600.33868259.\n",
      "Iteration 145, inertia 36988540.342251316.\n",
      "Iteration 146, inertia 36988492.61326697.\n",
      "Iteration 147, inertia 36988450.48307963.\n",
      "Iteration 148, inertia 36988413.45165319.\n",
      "Iteration 149, inertia 36988380.13766334.\n",
      "Iteration 150, inertia 36988357.24664927.\n",
      "Iteration 151, inertia 36988338.38792326.\n",
      "Iteration 152, inertia 36988319.25980934.\n",
      "Iteration 153, inertia 36988298.62133401.\n",
      "Iteration 154, inertia 36988279.61848776.\n",
      "Iteration 155, inertia 36988263.839721255.\n",
      "Iteration 156, inertia 36988250.73860079.\n",
      "Iteration 157, inertia 36988239.84714881.\n",
      "Iteration 158, inertia 36988233.52073868.\n",
      "Iteration 159, inertia 36988227.42546821.\n",
      "Iteration 160, inertia 36988222.822788194.\n",
      "Iteration 161, inertia 36988218.21701367.\n",
      "Converged at iteration 161: center shift 0.0001330489877357753 within tolerance 0.00019002088770563274.\n",
      "Initialization complete\n",
      "Iteration 0, inertia 59069657.66920585.\n",
      "Iteration 1, inertia 38099023.84160427.\n",
      "Iteration 2, inertia 37670302.18147509.\n",
      "Iteration 3, inertia 37461328.44375096.\n",
      "Iteration 4, inertia 37335284.55464765.\n",
      "Iteration 5, inertia 37257227.94081303.\n",
      "Iteration 6, inertia 37205089.93812829.\n",
      "Iteration 7, inertia 37167230.59532614.\n",
      "Iteration 8, inertia 37136586.897166304.\n",
      "Iteration 9, inertia 37111606.97297812.\n",
      "Iteration 10, inertia 37091009.797452815.\n",
      "Iteration 11, inertia 37074968.090731286.\n",
      "Iteration 12, inertia 37063398.39768653.\n",
      "Iteration 13, inertia 37055143.32857088.\n",
      "Iteration 14, inertia 37049596.45536637.\n",
      "Iteration 15, inertia 37046071.35640584.\n",
      "Iteration 16, inertia 37043997.967779.\n",
      "Iteration 17, inertia 37042774.193303116.\n",
      "Iteration 18, inertia 37042020.43067589.\n",
      "Iteration 19, inertia 37041573.311742134.\n",
      "Iteration 20, inertia 37041270.80539648.\n",
      "Iteration 21, inertia 37041019.74786247.\n",
      "Iteration 22, inertia 37040820.90990514.\n",
      "Iteration 23, inertia 37040635.083148085.\n",
      "Iteration 24, inertia 37040454.623736925.\n",
      "Iteration 25, inertia 37040295.446723625.\n",
      "Iteration 26, inertia 37040144.08928359.\n",
      "Iteration 27, inertia 37039967.64196231.\n",
      "Iteration 28, inertia 37039749.21576771.\n",
      "Iteration 29, inertia 37039489.306328505.\n",
      "Iteration 30, inertia 37039200.556508414.\n",
      "Iteration 31, inertia 37038877.59651934.\n",
      "Iteration 32, inertia 37038539.033396244.\n",
      "Iteration 33, inertia 37038182.21910288.\n",
      "Iteration 34, inertia 37037863.707963616.\n",
      "Iteration 35, inertia 37037518.44822169.\n",
      "Iteration 36, inertia 37037204.99572144.\n",
      "Iteration 37, inertia 37036896.70470651.\n",
      "Iteration 38, inertia 37036601.60807652.\n",
      "Iteration 39, inertia 37036280.58328198.\n",
      "Iteration 40, inertia 37035974.591887444.\n",
      "Iteration 41, inertia 37035691.67622888.\n",
      "Iteration 42, inertia 37035439.333909355.\n",
      "Iteration 43, inertia 37035208.025025696.\n",
      "Iteration 44, inertia 37034952.48061773.\n",
      "Iteration 45, inertia 37034682.28537941.\n",
      "Iteration 46, inertia 37034434.12267104.\n",
      "Iteration 47, inertia 37034199.661948316.\n",
      "Iteration 48, inertia 37033967.174108155.\n",
      "Iteration 49, inertia 37033761.211170875.\n",
      "Iteration 50, inertia 37033558.29883824.\n",
      "Iteration 51, inertia 37033351.7447734.\n",
      "Iteration 52, inertia 37033144.40923798.\n",
      "Iteration 53, inertia 37032953.5900253.\n",
      "Iteration 54, inertia 37032794.64836643.\n",
      "Iteration 55, inertia 37032641.35384676.\n",
      "Iteration 56, inertia 37032473.59893788.\n",
      "Iteration 57, inertia 37032308.782302305.\n",
      "Iteration 58, inertia 37032149.46013014.\n",
      "Iteration 59, inertia 37032009.05845874.\n",
      "Iteration 60, inertia 37031894.368626684.\n",
      "Iteration 61, inertia 37031802.54686244.\n",
      "Iteration 62, inertia 37031721.35264109.\n",
      "Iteration 63, inertia 37031655.085680336.\n",
      "Iteration 64, inertia 37031593.328422815.\n",
      "Iteration 65, inertia 37031548.472132295.\n",
      "Iteration 66, inertia 37031519.09674838.\n",
      "Iteration 67, inertia 37031498.09048255.\n",
      "Iteration 68, inertia 37031483.92994484.\n",
      "Iteration 69, inertia 37031467.55004823.\n",
      "Iteration 70, inertia 37031454.09292136.\n",
      "Iteration 71, inertia 37031441.126789354.\n",
      "Iteration 72, inertia 37031429.27873308.\n",
      "Iteration 73, inertia 37031418.36977994.\n",
      "Iteration 74, inertia 37031407.59997575.\n",
      "Iteration 75, inertia 37031395.21684247.\n",
      "Iteration 76, inertia 37031385.319584996.\n",
      "Iteration 77, inertia 37031375.93372156.\n",
      "Iteration 78, inertia 37031368.75309685.\n",
      "Iteration 79, inertia 37031360.76488013.\n",
      "Iteration 80, inertia 37031350.16031363.\n",
      "Iteration 81, inertia 37031339.71233275.\n",
      "Iteration 82, inertia 37031330.62234298.\n",
      "Iteration 83, inertia 37031322.00180363.\n",
      "Iteration 84, inertia 37031314.0183035.\n",
      "Iteration 85, inertia 37031305.72159927.\n",
      "Iteration 86, inertia 37031296.20886305.\n",
      "Iteration 87, inertia 37031288.780747876.\n",
      "Iteration 88, inertia 37031282.91344046.\n",
      "Iteration 89, inertia 37031279.61867389.\n",
      "Iteration 90, inertia 37031276.31457768.\n",
      "Iteration 91, inertia 37031272.545686856.\n",
      "Converged at iteration 91: center shift 0.00011617701138516242 within tolerance 0.00019002088770563274.\n",
      "Initialization complete\n",
      "Iteration 0, inertia 60943149.74925656.\n",
      "Iteration 1, inertia 38166997.14741832.\n",
      "Iteration 2, inertia 37614243.97199099.\n",
      "Iteration 3, inertia 37419043.32954396.\n",
      "Iteration 4, inertia 37314500.32846447.\n",
      "Iteration 5, inertia 37258357.973001115.\n",
      "Iteration 6, inertia 37224420.57773715.\n",
      "Iteration 7, inertia 37202460.46552434.\n",
      "Iteration 8, inertia 37185874.17757612.\n",
      "Iteration 9, inertia 37168934.344201066.\n",
      "Iteration 10, inertia 37149803.606282674.\n",
      "Iteration 11, inertia 37127672.44936128.\n",
      "Iteration 12, inertia 37107476.87030773.\n",
      "Iteration 13, inertia 37093780.50268168.\n",
      "Iteration 14, inertia 37085715.67486003.\n",
      "Iteration 15, inertia 37081075.67577088.\n",
      "Iteration 16, inertia 37078387.98300021.\n",
      "Iteration 17, inertia 37076735.75001771.\n",
      "Iteration 18, inertia 37075637.92149608.\n",
      "Iteration 19, inertia 37074793.59800177.\n",
      "Iteration 20, inertia 37074114.03360568.\n",
      "Iteration 21, inertia 37073591.089774854.\n",
      "Iteration 22, inertia 37073223.36650353.\n",
      "Iteration 23, inertia 37072896.15710371.\n",
      "Iteration 24, inertia 37072608.08295418.\n",
      "Iteration 25, inertia 37072345.57602578.\n",
      "Iteration 26, inertia 37072105.12433424.\n",
      "Iteration 27, inertia 37071855.70897375.\n",
      "Iteration 28, inertia 37071609.43977243.\n",
      "Iteration 29, inertia 37071393.70374415.\n",
      "Iteration 30, inertia 37071215.00430382.\n",
      "Iteration 31, inertia 37071027.34251056.\n",
      "Iteration 32, inertia 37070847.740923636.\n",
      "Iteration 33, inertia 37070640.48346792.\n",
      "Iteration 34, inertia 37070438.60980887.\n",
      "Iteration 35, inertia 37070254.114505835.\n",
      "Iteration 36, inertia 37070097.740297124.\n",
      "Iteration 37, inertia 37069945.08953186.\n",
      "Iteration 38, inertia 37069806.75328272.\n",
      "Iteration 39, inertia 37069659.345032886.\n",
      "Iteration 40, inertia 37069510.68071753.\n",
      "Iteration 41, inertia 37069360.15163747.\n",
      "Iteration 42, inertia 37069206.74205267.\n",
      "Iteration 43, inertia 37069057.479461096.\n",
      "Iteration 44, inertia 37068878.64708279.\n",
      "Iteration 45, inertia 37068668.523911476.\n",
      "Iteration 46, inertia 37068467.12393595.\n",
      "Iteration 47, inertia 37068273.0536274.\n",
      "Iteration 48, inertia 37068073.029836066.\n",
      "Iteration 49, inertia 37067890.71874512.\n",
      "Iteration 50, inertia 37067698.51776667.\n",
      "Iteration 51, inertia 37067497.43351905.\n",
      "Iteration 52, inertia 37067294.077201456.\n",
      "Iteration 53, inertia 37067067.63261582.\n",
      "Iteration 54, inertia 37066849.12941721.\n",
      "Iteration 55, inertia 37066591.32613545.\n",
      "Iteration 56, inertia 37066282.43111571.\n",
      "Iteration 57, inertia 37065857.927564874.\n",
      "Iteration 58, inertia 37065400.99590646.\n",
      "Iteration 59, inertia 37064910.93147536.\n",
      "Iteration 60, inertia 37064446.451697074.\n",
      "Iteration 61, inertia 37064044.727660984.\n",
      "Iteration 62, inertia 37063679.55440136.\n",
      "Iteration 63, inertia 37063324.96025951.\n",
      "Iteration 64, inertia 37062914.090769425.\n",
      "Iteration 65, inertia 37062368.25698193.\n",
      "Iteration 66, inertia 37061689.322712205.\n",
      "Iteration 67, inertia 37060954.44426959.\n",
      "Iteration 68, inertia 37060179.16477207.\n",
      "Iteration 69, inertia 37059296.696205586.\n",
      "Iteration 70, inertia 37058389.088919036.\n",
      "Iteration 71, inertia 37057360.64883729.\n",
      "Iteration 72, inertia 37056160.89672052.\n",
      "Iteration 73, inertia 37054728.71482663.\n",
      "Iteration 74, inertia 37053068.92702559.\n",
      "Iteration 75, inertia 37051439.10233669.\n",
      "Iteration 76, inertia 37049743.725421526.\n",
      "Iteration 77, inertia 37047880.79372933.\n",
      "Iteration 78, inertia 37046127.47740696.\n",
      "Iteration 79, inertia 37044321.23013903.\n",
      "Iteration 80, inertia 37042477.22447255.\n",
      "Iteration 81, inertia 37040323.25066284.\n",
      "Iteration 82, inertia 37037880.732347816.\n",
      "Iteration 83, inertia 37034981.39618179.\n",
      "Iteration 84, inertia 37031553.16969907.\n",
      "Iteration 85, inertia 37027369.61201262.\n",
      "Iteration 86, inertia 37021854.57380622.\n",
      "Iteration 87, inertia 37014912.72441075.\n",
      "Iteration 88, inertia 37006338.52282247.\n",
      "Iteration 89, inertia 36996759.9650224.\n",
      "Iteration 90, inertia 36987528.70745875.\n",
      "Iteration 91, inertia 36980205.89891738.\n",
      "Iteration 92, inertia 36975313.5682829.\n",
      "Iteration 93, inertia 36971984.21524678.\n",
      "Iteration 94, inertia 36969847.52263326.\n",
      "Iteration 95, inertia 36968353.038332365.\n",
      "Iteration 96, inertia 36967585.942192376.\n",
      "Iteration 97, inertia 36967114.37565419.\n",
      "Iteration 98, inertia 36966786.173601165.\n",
      "Iteration 99, inertia 36966588.3997323.\n",
      "Iteration 100, inertia 36966476.67607448.\n",
      "Iteration 101, inertia 36966399.61230219.\n",
      "Iteration 102, inertia 36966339.772507876.\n",
      "Iteration 103, inertia 36966292.06924137.\n",
      "Iteration 104, inertia 36966258.041239485.\n",
      "Iteration 105, inertia 36966235.74640739.\n",
      "Iteration 106, inertia 36966216.20231346.\n",
      "Iteration 107, inertia 36966197.5696874.\n",
      "Iteration 108, inertia 36966186.81432277.\n",
      "Iteration 109, inertia 36966180.267427824.\n",
      "Iteration 110, inertia 36966174.91838293.\n",
      "Iteration 111, inertia 36966170.99389445.\n",
      "Converged at iteration 111: center shift 0.00016540779672567343 within tolerance 0.00019002088770563274.\n",
      "Initialization complete\n",
      "Iteration 0, inertia 61730330.75853051.\n",
      "Iteration 1, inertia 38278127.00593091.\n",
      "Iteration 2, inertia 37742048.84735323.\n",
      "Iteration 3, inertia 37581071.281043455.\n",
      "Iteration 4, inertia 37516265.53060193.\n",
      "Iteration 5, inertia 37478955.618364915.\n",
      "Iteration 6, inertia 37450348.58841937.\n",
      "Iteration 7, inertia 37426593.87916469.\n",
      "Iteration 8, inertia 37405427.42813935.\n",
      "Iteration 9, inertia 37386050.148858845.\n",
      "Iteration 10, inertia 37368672.81283733.\n",
      "Iteration 11, inertia 37353140.43816979.\n",
      "Iteration 12, inertia 37338509.92162776.\n",
      "Iteration 13, inertia 37325352.40905286.\n",
      "Iteration 14, inertia 37314171.04291676.\n",
      "Iteration 15, inertia 37305471.63509169.\n",
      "Iteration 16, inertia 37298011.09831919.\n",
      "Iteration 17, inertia 37291594.69171948.\n",
      "Iteration 18, inertia 37286794.62864007.\n",
      "Iteration 19, inertia 37283179.25301046.\n",
      "Iteration 20, inertia 37280313.903651915.\n",
      "Iteration 21, inertia 37277793.26127644.\n",
      "Iteration 22, inertia 37275479.40287278.\n",
      "Iteration 23, inertia 37273311.83953122.\n",
      "Iteration 24, inertia 37271273.790429495.\n",
      "Iteration 25, inertia 37269303.97618377.\n",
      "Iteration 26, inertia 37267396.77463825.\n",
      "Iteration 27, inertia 37265757.12703337.\n",
      "Iteration 28, inertia 37264113.80228431.\n",
      "Iteration 29, inertia 37262420.00059402.\n",
      "Iteration 30, inertia 37260801.417986766.\n",
      "Iteration 31, inertia 37259201.500050634.\n",
      "Iteration 32, inertia 37257550.6273109.\n",
      "Iteration 33, inertia 37255805.35015541.\n",
      "Iteration 34, inertia 37254070.48032066.\n",
      "Iteration 35, inertia 37252225.27277842.\n",
      "Iteration 36, inertia 37250395.14230357.\n",
      "Iteration 37, inertia 37248340.88877995.\n",
      "Iteration 38, inertia 37246249.62732572.\n",
      "Iteration 39, inertia 37244383.30097103.\n",
      "Iteration 40, inertia 37242707.46324511.\n",
      "Iteration 41, inertia 37241085.15522872.\n",
      "Iteration 42, inertia 37239651.850641206.\n",
      "Iteration 43, inertia 37238219.06558962.\n",
      "Iteration 44, inertia 37236870.0980069.\n",
      "Iteration 45, inertia 37235652.44592951.\n",
      "Iteration 46, inertia 37234524.372400574.\n",
      "Iteration 47, inertia 37233401.72096248.\n",
      "Iteration 48, inertia 37232250.60583229.\n",
      "Iteration 49, inertia 37231299.44763456.\n",
      "Iteration 50, inertia 37230551.976997025.\n",
      "Iteration 51, inertia 37229912.05500562.\n",
      "Iteration 52, inertia 37229316.41978021.\n",
      "Iteration 53, inertia 37228796.58727491.\n",
      "Iteration 54, inertia 37228311.12785894.\n",
      "Iteration 55, inertia 37227777.83105133.\n",
      "Iteration 56, inertia 37227203.0237253.\n",
      "Iteration 57, inertia 37226621.48532195.\n",
      "Iteration 58, inertia 37226096.80900136.\n",
      "Iteration 59, inertia 37225691.787918046.\n",
      "Iteration 60, inertia 37225340.877479814.\n",
      "Iteration 61, inertia 37225036.5860202.\n",
      "Iteration 62, inertia 37224756.471305475.\n",
      "Iteration 63, inertia 37224513.606933035.\n",
      "Iteration 64, inertia 37224275.26396526.\n",
      "Iteration 65, inertia 37224040.69957606.\n",
      "Iteration 66, inertia 37223804.606284864.\n",
      "Iteration 67, inertia 37223573.30391813.\n",
      "Iteration 68, inertia 37223366.3156127.\n",
      "Iteration 69, inertia 37223141.56023341.\n",
      "Iteration 70, inertia 37222886.55406478.\n",
      "Iteration 71, inertia 37222603.805780925.\n",
      "Iteration 72, inertia 37222346.4576299.\n",
      "Iteration 73, inertia 37222092.30790899.\n",
      "Iteration 74, inertia 37221850.92499446.\n",
      "Iteration 75, inertia 37221597.29293174.\n",
      "Iteration 76, inertia 37221374.15538104.\n",
      "Iteration 77, inertia 37221145.89435943.\n",
      "Iteration 78, inertia 37220938.042451136.\n",
      "Iteration 79, inertia 37220751.421747476.\n",
      "Iteration 80, inertia 37220566.27936212.\n",
      "Iteration 81, inertia 37220391.99946872.\n",
      "Iteration 82, inertia 37220220.05915198.\n",
      "Iteration 83, inertia 37220028.39208528.\n",
      "Iteration 84, inertia 37219815.634650685.\n",
      "Iteration 85, inertia 37219606.73633123.\n",
      "Iteration 86, inertia 37219378.234873325.\n",
      "Iteration 87, inertia 37219160.09191346.\n",
      "Iteration 88, inertia 37218962.59404603.\n",
      "Iteration 89, inertia 37218790.049290985.\n",
      "Iteration 90, inertia 37218612.302757904.\n",
      "Iteration 91, inertia 37218422.656781964.\n",
      "Iteration 92, inertia 37218242.19443935.\n",
      "Iteration 93, inertia 37218061.669563875.\n",
      "Iteration 94, inertia 37217895.30941043.\n",
      "Iteration 95, inertia 37217744.68194067.\n",
      "Iteration 96, inertia 37217603.100747555.\n",
      "Iteration 97, inertia 37217449.40429002.\n",
      "Iteration 98, inertia 37217292.66242907.\n",
      "Iteration 99, inertia 37217138.67272272.\n",
      "Iteration 100, inertia 37216975.58441669.\n",
      "Iteration 101, inertia 37216778.61845859.\n",
      "Iteration 102, inertia 37216557.55157797.\n",
      "Iteration 103, inertia 37216314.47932157.\n",
      "Iteration 104, inertia 37216060.21123639.\n",
      "Iteration 105, inertia 37215771.69373322.\n",
      "Iteration 106, inertia 37215398.74268025.\n",
      "Iteration 107, inertia 37214887.25859173.\n",
      "Iteration 108, inertia 37214169.232929386.\n",
      "Iteration 109, inertia 37213087.72356766.\n",
      "Iteration 110, inertia 37211588.01649002.\n",
      "Iteration 111, inertia 37209396.16527423.\n",
      "Iteration 112, inertia 37205869.66957975.\n",
      "Iteration 113, inertia 37199366.64092609.\n",
      "Iteration 114, inertia 37188929.766650096.\n",
      "Iteration 115, inertia 37176572.47224723.\n",
      "Iteration 116, inertia 37165816.73440064.\n",
      "Iteration 117, inertia 37159389.56747566.\n",
      "Iteration 118, inertia 37156311.486596376.\n",
      "Iteration 119, inertia 37154799.073672265.\n",
      "Iteration 120, inertia 37153808.26008029.\n",
      "Iteration 121, inertia 37153111.31222359.\n",
      "Iteration 122, inertia 37152558.28467527.\n",
      "Iteration 123, inertia 37152151.021090634.\n",
      "Iteration 124, inertia 37151796.21033263.\n",
      "Iteration 125, inertia 37151525.724758886.\n",
      "Iteration 126, inertia 37151291.22928348.\n",
      "Iteration 127, inertia 37151088.27180569.\n",
      "Iteration 128, inertia 37150908.98032199.\n",
      "Iteration 129, inertia 37150784.66548758.\n",
      "Iteration 130, inertia 37150683.57882536.\n",
      "Iteration 131, inertia 37150603.88679345.\n",
      "Iteration 132, inertia 37150542.27294873.\n",
      "Iteration 133, inertia 37150485.27783332.\n",
      "Iteration 134, inertia 37150427.545864925.\n",
      "Iteration 135, inertia 37150371.44009459.\n",
      "Iteration 136, inertia 37150312.71863687.\n",
      "Iteration 137, inertia 37150264.60913494.\n",
      "Iteration 138, inertia 37150227.73746518.\n",
      "Iteration 139, inertia 37150202.37273127.\n",
      "Iteration 140, inertia 37150184.98886713.\n",
      "Iteration 141, inertia 37150168.071439095.\n",
      "Iteration 142, inertia 37150152.34286432.\n",
      "Iteration 143, inertia 37150131.24557653.\n",
      "Iteration 144, inertia 37150111.43026332.\n",
      "Iteration 145, inertia 37150096.11680866.\n",
      "Iteration 146, inertia 37150079.16680666.\n",
      "Iteration 147, inertia 37150066.59941855.\n",
      "Iteration 148, inertia 37150057.574383296.\n",
      "Iteration 149, inertia 37150047.063838914.\n",
      "Iteration 150, inertia 37150037.47106056.\n",
      "Iteration 151, inertia 37150028.456120536.\n",
      "Iteration 152, inertia 37150020.41964264.\n",
      "Iteration 153, inertia 37150012.3807454.\n",
      "Iteration 154, inertia 37150004.10555935.\n",
      "Iteration 155, inertia 37149996.99922968.\n",
      "Iteration 156, inertia 37149990.94368435.\n",
      "Iteration 157, inertia 37149984.5494931.\n",
      "Iteration 158, inertia 37149978.95854152.\n",
      "Iteration 159, inertia 37149973.52687025.\n",
      "Iteration 160, inertia 37149968.35868107.\n",
      "Iteration 161, inertia 37149963.85344047.\n",
      "Iteration 162, inertia 37149959.15370536.\n",
      "Iteration 163, inertia 37149952.57239744.\n",
      "Iteration 164, inertia 37149947.740900256.\n",
      "Iteration 165, inertia 37149942.09362207.\n",
      "Iteration 166, inertia 37149936.413542435.\n",
      "Iteration 167, inertia 37149928.46943274.\n",
      "Iteration 168, inertia 37149919.20291187.\n",
      "Iteration 169, inertia 37149907.395814314.\n",
      "Iteration 170, inertia 37149896.6297419.\n",
      "Iteration 171, inertia 37149885.92825169.\n",
      "Iteration 172, inertia 37149877.48366228.\n",
      "Iteration 173, inertia 37149871.475463614.\n",
      "Iteration 174, inertia 37149864.03788277.\n",
      "Iteration 175, inertia 37149857.016625874.\n",
      "Iteration 176, inertia 37149852.004368514.\n",
      "Iteration 177, inertia 37149846.92224414.\n",
      "Iteration 178, inertia 37149841.52700869.\n",
      "Iteration 179, inertia 37149835.23747522.\n",
      "Iteration 180, inertia 37149830.781908974.\n",
      "Iteration 181, inertia 37149824.82028797.\n",
      "Iteration 182, inertia 37149820.06431222.\n",
      "Iteration 183, inertia 37149814.07199229.\n",
      "Iteration 184, inertia 37149807.984740585.\n",
      "Iteration 185, inertia 37149801.0863377.\n",
      "Iteration 186, inertia 37149795.8411548.\n",
      "Converged at iteration 186: center shift 0.00015987807987398407 within tolerance 0.00019002088770563274.\n",
      "Initialization complete\n",
      "Iteration 0, inertia 59832159.44611494.\n",
      "Iteration 1, inertia 38386766.44938451.\n",
      "Iteration 2, inertia 37643558.52070054.\n",
      "Iteration 3, inertia 37441951.8498258.\n",
      "Iteration 4, inertia 37373968.01386836.\n",
      "Iteration 5, inertia 37339058.446937434.\n",
      "Iteration 6, inertia 37308481.08586569.\n",
      "Iteration 7, inertia 37276533.930005886.\n",
      "Iteration 8, inertia 37246588.94035641.\n",
      "Iteration 9, inertia 37221790.33315904.\n",
      "Iteration 10, inertia 37202846.62962456.\n",
      "Iteration 11, inertia 37188007.2650717.\n",
      "Iteration 12, inertia 37176599.29549311.\n",
      "Iteration 13, inertia 37167356.3711146.\n",
      "Iteration 14, inertia 37160081.95923266.\n",
      "Iteration 15, inertia 37154201.09984652.\n",
      "Iteration 16, inertia 37149543.31832973.\n",
      "Iteration 17, inertia 37145873.674509026.\n",
      "Iteration 18, inertia 37142484.83347353.\n",
      "Iteration 19, inertia 37139342.73628065.\n",
      "Iteration 20, inertia 37136452.7051046.\n",
      "Iteration 21, inertia 37133423.426971994.\n",
      "Iteration 22, inertia 37130302.01607211.\n",
      "Iteration 23, inertia 37126888.11187019.\n",
      "Iteration 24, inertia 37122692.53995661.\n",
      "Iteration 25, inertia 37117804.54123882.\n",
      "Iteration 26, inertia 37111908.74532865.\n",
      "Iteration 27, inertia 37104859.55769819.\n",
      "Iteration 28, inertia 37096931.81087158.\n",
      "Iteration 29, inertia 37087540.48385745.\n",
      "Iteration 30, inertia 37077712.025551185.\n",
      "Iteration 31, inertia 37068494.18960162.\n",
      "Iteration 32, inertia 37061244.58946799.\n",
      "Iteration 33, inertia 37056063.849426754.\n",
      "Iteration 34, inertia 37053058.10963487.\n",
      "Iteration 35, inertia 37051437.50856277.\n",
      "Iteration 36, inertia 37050383.494186364.\n",
      "Iteration 37, inertia 37049515.19640966.\n",
      "Iteration 38, inertia 37048599.459253736.\n",
      "Iteration 39, inertia 37047609.2833681.\n",
      "Iteration 40, inertia 37046488.717314035.\n",
      "Iteration 41, inertia 37045001.277849875.\n",
      "Iteration 42, inertia 37043087.18313489.\n",
      "Iteration 43, inertia 37040537.15263721.\n",
      "Iteration 44, inertia 37037260.062419325.\n",
      "Iteration 45, inertia 37033552.442780614.\n",
      "Iteration 46, inertia 37029872.3402268.\n",
      "Iteration 47, inertia 37026018.84432925.\n",
      "Iteration 48, inertia 37022236.83738157.\n",
      "Iteration 49, inertia 37018846.948461264.\n",
      "Iteration 50, inertia 37015694.56822021.\n",
      "Iteration 51, inertia 37012970.29133101.\n",
      "Iteration 52, inertia 37010616.18330001.\n",
      "Iteration 53, inertia 37008274.327016495.\n",
      "Iteration 54, inertia 37006125.20264924.\n",
      "Iteration 55, inertia 37004102.13424843.\n",
      "Iteration 56, inertia 37002156.37379829.\n",
      "Iteration 57, inertia 37000245.26748185.\n",
      "Iteration 58, inertia 36998405.9444168.\n",
      "Iteration 59, inertia 36996504.80670586.\n",
      "Iteration 60, inertia 36994575.102298796.\n",
      "Iteration 61, inertia 36992575.174051546.\n",
      "Iteration 62, inertia 36990659.3725002.\n",
      "Iteration 63, inertia 36988712.06785076.\n",
      "Iteration 64, inertia 36986766.69198218.\n",
      "Iteration 65, inertia 36984896.16429779.\n",
      "Iteration 66, inertia 36983156.64524644.\n",
      "Iteration 67, inertia 36981288.87926547.\n",
      "Iteration 68, inertia 36979656.504622005.\n",
      "Iteration 69, inertia 36978081.54592004.\n",
      "Iteration 70, inertia 36976619.56257708.\n",
      "Iteration 71, inertia 36975284.95256909.\n",
      "Iteration 72, inertia 36974194.67235507.\n",
      "Iteration 73, inertia 36973324.27483833.\n",
      "Iteration 74, inertia 36972584.36270177.\n",
      "Iteration 75, inertia 36971916.30783553.\n",
      "Iteration 76, inertia 36971395.37643515.\n",
      "Iteration 77, inertia 36970962.19812893.\n",
      "Iteration 78, inertia 36970607.612516955.\n",
      "Iteration 79, inertia 36970297.92352954.\n",
      "Iteration 80, inertia 36970053.22118915.\n",
      "Iteration 81, inertia 36969834.985958405.\n",
      "Iteration 82, inertia 36969657.11881598.\n",
      "Iteration 83, inertia 36969494.35672424.\n",
      "Iteration 84, inertia 36969342.07058834.\n",
      "Iteration 85, inertia 36969229.35428874.\n",
      "Iteration 86, inertia 36969137.76807891.\n",
      "Iteration 87, inertia 36969065.3190193.\n",
      "Iteration 88, inertia 36968996.07998213.\n",
      "Iteration 89, inertia 36968948.89125968.\n",
      "Iteration 90, inertia 36968901.380476646.\n",
      "Iteration 91, inertia 36968847.81650062.\n",
      "Iteration 92, inertia 36968804.32525559.\n",
      "Iteration 93, inertia 36968763.10829263.\n",
      "Iteration 94, inertia 36968735.017249286.\n",
      "Iteration 95, inertia 36968710.53792219.\n",
      "Iteration 96, inertia 36968690.68982723.\n",
      "Iteration 97, inertia 36968671.50377911.\n",
      "Iteration 98, inertia 36968651.40006603.\n",
      "Iteration 99, inertia 36968630.02483177.\n",
      "Iteration 100, inertia 36968610.11692951.\n",
      "Iteration 101, inertia 36968590.718107924.\n",
      "Iteration 102, inertia 36968572.69453404.\n",
      "Iteration 103, inertia 36968554.865602225.\n",
      "Iteration 104, inertia 36968535.25750716.\n",
      "Iteration 105, inertia 36968516.17493238.\n",
      "Iteration 106, inertia 36968496.11043822.\n",
      "Iteration 107, inertia 36968481.16791703.\n",
      "Iteration 108, inertia 36968468.48993949.\n",
      "Iteration 109, inertia 36968454.14573283.\n",
      "Iteration 110, inertia 36968440.06552766.\n",
      "Iteration 111, inertia 36968430.64216715.\n",
      "Iteration 112, inertia 36968421.462772846.\n",
      "Iteration 113, inertia 36968410.3498011.\n",
      "Iteration 114, inertia 36968397.23841754.\n",
      "Iteration 115, inertia 36968382.051756084.\n",
      "Iteration 116, inertia 36968368.31352017.\n",
      "Iteration 117, inertia 36968356.30972802.\n",
      "Iteration 118, inertia 36968342.395650856.\n",
      "Iteration 119, inertia 36968331.64644167.\n",
      "Iteration 120, inertia 36968324.425951146.\n",
      "Iteration 121, inertia 36968316.86483301.\n",
      "Iteration 122, inertia 36968307.32305572.\n",
      "Iteration 123, inertia 36968297.91418072.\n",
      "Iteration 124, inertia 36968284.40546218.\n",
      "Iteration 125, inertia 36968270.54648447.\n",
      "Iteration 126, inertia 36968256.98828544.\n",
      "Iteration 127, inertia 36968243.2590485.\n",
      "Iteration 128, inertia 36968233.71711493.\n",
      "Iteration 129, inertia 36968221.801808625.\n",
      "Iteration 130, inertia 36968209.689477675.\n",
      "Iteration 131, inertia 36968195.23835136.\n",
      "Iteration 132, inertia 36968182.69262434.\n",
      "Iteration 133, inertia 36968169.99914037.\n",
      "Iteration 134, inertia 36968157.7931665.\n",
      "Iteration 135, inertia 36968144.904011406.\n",
      "Iteration 136, inertia 36968128.85125184.\n",
      "Iteration 137, inertia 36968108.392859325.\n",
      "Iteration 138, inertia 36968087.18806824.\n",
      "Iteration 139, inertia 36968065.02372318.\n",
      "Iteration 140, inertia 36968035.99243489.\n",
      "Iteration 141, inertia 36968014.42741939.\n",
      "Iteration 142, inertia 36968000.415017925.\n",
      "Iteration 143, inertia 36967985.255582936.\n",
      "Iteration 144, inertia 36967971.844484255.\n",
      "Iteration 145, inertia 36967959.98585238.\n",
      "Iteration 146, inertia 36967949.46055293.\n",
      "Iteration 147, inertia 36967938.79450553.\n",
      "Iteration 148, inertia 36967929.64455572.\n",
      "Iteration 149, inertia 36967920.262131535.\n",
      "Iteration 150, inertia 36967910.80888398.\n",
      "Iteration 151, inertia 36967900.4183303.\n",
      "Iteration 152, inertia 36967893.38608735.\n",
      "Iteration 153, inertia 36967888.069033116.\n",
      "Iteration 154, inertia 36967883.11944624.\n",
      "Iteration 155, inertia 36967877.84544945.\n",
      "Iteration 156, inertia 36967872.54723187.\n",
      "Converged at iteration 156: center shift 0.0001849725651275194 within tolerance 0.00019002088770563274.\n",
      "Initialization complete\n",
      "Iteration 0, inertia 59513933.75049852.\n",
      "Iteration 1, inertia 38096565.206254415.\n",
      "Iteration 2, inertia 37570776.3248629.\n",
      "Iteration 3, inertia 37380346.614321224.\n",
      "Iteration 4, inertia 37274294.476849.\n",
      "Iteration 5, inertia 37205849.5441412.\n",
      "Iteration 6, inertia 37161003.11024039.\n",
      "Iteration 7, inertia 37132079.04852634.\n",
      "Iteration 8, inertia 37113391.4623283.\n",
      "Iteration 9, inertia 37100376.435825154.\n",
      "Iteration 10, inertia 37090186.485208295.\n",
      "Iteration 11, inertia 37081952.14255576.\n",
      "Iteration 12, inertia 37074971.85514881.\n",
      "Iteration 13, inertia 37069093.55207561.\n",
      "Iteration 14, inertia 37064213.006482705.\n",
      "Iteration 15, inertia 37060353.98021286.\n",
      "Iteration 16, inertia 37057116.988863446.\n",
      "Iteration 17, inertia 37054154.73885005.\n",
      "Iteration 18, inertia 37051265.179561056.\n",
      "Iteration 19, inertia 37048154.221103944.\n",
      "Iteration 20, inertia 37044777.125936724.\n",
      "Iteration 21, inertia 37040951.93205569.\n",
      "Iteration 22, inertia 37036246.327015966.\n",
      "Iteration 23, inertia 37030507.35913786.\n",
      "Iteration 24, inertia 37023348.794801794.\n",
      "Iteration 25, inertia 37015078.62813499.\n",
      "Iteration 26, inertia 37005717.3133325.\n",
      "Iteration 27, inertia 36997211.65759259.\n",
      "Iteration 28, inertia 36990066.14534201.\n",
      "Iteration 29, inertia 36984355.18498066.\n",
      "Iteration 30, inertia 36980251.201522.\n",
      "Iteration 31, inertia 36977298.64526258.\n",
      "Iteration 32, inertia 36975213.59225701.\n",
      "Iteration 33, inertia 36973787.507133946.\n",
      "Iteration 34, inertia 36972743.21820597.\n",
      "Iteration 35, inertia 36972029.659411505.\n",
      "Iteration 36, inertia 36971461.2743365.\n",
      "Iteration 37, inertia 36970947.686924845.\n",
      "Iteration 38, inertia 36970510.78469048.\n",
      "Iteration 39, inertia 36970151.228420004.\n",
      "Iteration 40, inertia 36969881.690609805.\n",
      "Iteration 41, inertia 36969662.96143563.\n",
      "Iteration 42, inertia 36969475.87018105.\n",
      "Iteration 43, inertia 36969303.878501594.\n",
      "Iteration 44, inertia 36969157.4927857.\n",
      "Iteration 45, inertia 36969054.14112224.\n",
      "Iteration 46, inertia 36968952.46607294.\n",
      "Iteration 47, inertia 36968864.31566945.\n",
      "Iteration 48, inertia 36968817.05268591.\n",
      "Iteration 49, inertia 36968775.017501645.\n",
      "Iteration 50, inertia 36968728.03851755.\n",
      "Iteration 51, inertia 36968684.43887691.\n",
      "Iteration 52, inertia 36968636.242412634.\n",
      "Iteration 53, inertia 36968591.544111796.\n",
      "Iteration 54, inertia 36968550.6076777.\n",
      "Iteration 55, inertia 36968519.438978374.\n",
      "Iteration 56, inertia 36968494.23408126.\n",
      "Iteration 57, inertia 36968472.064333975.\n",
      "Iteration 58, inertia 36968452.839380525.\n",
      "Iteration 59, inertia 36968439.16204878.\n",
      "Iteration 60, inertia 36968426.78381221.\n",
      "Iteration 61, inertia 36968415.09293955.\n",
      "Iteration 62, inertia 36968404.010884054.\n",
      "Iteration 63, inertia 36968388.93538013.\n",
      "Iteration 64, inertia 36968373.53803067.\n",
      "Iteration 65, inertia 36968358.91100786.\n",
      "Iteration 66, inertia 36968346.01151263.\n",
      "Iteration 67, inertia 36968335.37433731.\n",
      "Iteration 68, inertia 36968326.66812864.\n",
      "Iteration 69, inertia 36968317.41215555.\n",
      "Iteration 70, inertia 36968306.104797915.\n",
      "Iteration 71, inertia 36968295.45306138.\n",
      "Iteration 72, inertia 36968284.705175295.\n",
      "Iteration 73, inertia 36968271.98888273.\n",
      "Iteration 74, inertia 36968259.41113258.\n",
      "Iteration 75, inertia 36968247.79562327.\n",
      "Iteration 76, inertia 36968236.92172366.\n",
      "Iteration 77, inertia 36968228.382712334.\n",
      "Iteration 78, inertia 36968221.90943511.\n",
      "Iteration 79, inertia 36968215.19007422.\n",
      "Iteration 80, inertia 36968205.625342995.\n",
      "Iteration 81, inertia 36968197.91351253.\n",
      "Iteration 82, inertia 36968187.36113379.\n",
      "Iteration 83, inertia 36968175.350222975.\n",
      "Iteration 84, inertia 36968160.44297319.\n",
      "Iteration 85, inertia 36968143.64683857.\n",
      "Iteration 86, inertia 36968124.35455939.\n",
      "Iteration 87, inertia 36968104.15162893.\n",
      "Iteration 88, inertia 36968075.04324545.\n",
      "Iteration 89, inertia 36968044.910316914.\n",
      "Iteration 90, inertia 36968022.67610975.\n",
      "Iteration 91, inertia 36968006.618805744.\n",
      "Iteration 92, inertia 36967989.82350796.\n",
      "Iteration 93, inertia 36967972.706167586.\n",
      "Iteration 94, inertia 36967958.309076905.\n",
      "Iteration 95, inertia 36967946.38403135.\n",
      "Iteration 96, inertia 36967933.50739594.\n",
      "Iteration 97, inertia 36967920.326349124.\n",
      "Iteration 98, inertia 36967907.03389776.\n",
      "Iteration 99, inertia 36967894.13010441.\n",
      "Iteration 100, inertia 36967886.09536185.\n",
      "Iteration 101, inertia 36967880.04457545.\n",
      "Iteration 102, inertia 36967875.35640429.\n",
      "Converged at iteration 102: center shift 0.00018556690440962246 within tolerance 0.00019002088770563274.\n",
      "Initialization complete\n",
      "Iteration 0, inertia 61140018.89679213.\n",
      "Iteration 1, inertia 38373497.22400246.\n",
      "Iteration 2, inertia 37831513.68647266.\n",
      "Iteration 3, inertia 37649337.62561429.\n",
      "Iteration 4, inertia 37519354.77548278.\n",
      "Iteration 5, inertia 37413637.36601772.\n",
      "Iteration 6, inertia 37330721.54782289.\n",
      "Iteration 7, inertia 37267011.41375802.\n",
      "Iteration 8, inertia 37213376.80313491.\n",
      "Iteration 9, inertia 37168797.25824278.\n",
      "Iteration 10, inertia 37131946.495501414.\n",
      "Iteration 11, inertia 37098239.54704407.\n",
      "Iteration 12, inertia 37070084.61282168.\n",
      "Iteration 13, inertia 37047342.62762751.\n",
      "Iteration 14, inertia 37030164.62852389.\n",
      "Iteration 15, inertia 37016805.97981204.\n",
      "Iteration 16, inertia 37006986.768504634.\n",
      "Iteration 17, inertia 37000073.73875988.\n",
      "Iteration 18, inertia 36994845.48018004.\n",
      "Iteration 19, inertia 36990760.07252128.\n",
      "Iteration 20, inertia 36987754.42878521.\n",
      "Iteration 21, inertia 36985492.6754248.\n",
      "Iteration 22, inertia 36983627.73291985.\n",
      "Iteration 23, inertia 36982023.65285332.\n",
      "Iteration 24, inertia 36980812.27711672.\n",
      "Iteration 25, inertia 36979854.19692311.\n",
      "Iteration 26, inertia 36979094.3087319.\n",
      "Iteration 27, inertia 36978492.39660331.\n",
      "Iteration 28, inertia 36978064.62658485.\n",
      "Iteration 29, inertia 36977715.29511321.\n",
      "Iteration 30, inertia 36977446.681103.\n",
      "Iteration 31, inertia 36977217.9910121.\n",
      "Iteration 32, inertia 36977001.73682854.\n",
      "Iteration 33, inertia 36976800.7762831.\n",
      "Iteration 34, inertia 36976623.304424584.\n",
      "Iteration 35, inertia 36976446.31237506.\n",
      "Iteration 36, inertia 36976271.9428304.\n",
      "Iteration 37, inertia 36976104.16103021.\n",
      "Iteration 38, inertia 36975959.12249882.\n",
      "Iteration 39, inertia 36975827.50359612.\n",
      "Iteration 40, inertia 36975720.14448562.\n",
      "Iteration 41, inertia 36975611.62923416.\n",
      "Iteration 42, inertia 36975511.330551706.\n",
      "Iteration 43, inertia 36975427.16096733.\n",
      "Iteration 44, inertia 36975345.657179505.\n",
      "Iteration 45, inertia 36975250.11787315.\n",
      "Iteration 46, inertia 36975141.43589502.\n",
      "Iteration 47, inertia 36975022.07489577.\n",
      "Iteration 48, inertia 36974894.66141049.\n",
      "Iteration 49, inertia 36974775.034191854.\n",
      "Iteration 50, inertia 36974636.68659735.\n",
      "Iteration 51, inertia 36974441.69445658.\n",
      "Iteration 52, inertia 36974210.18372057.\n",
      "Iteration 53, inertia 36973926.1184288.\n",
      "Iteration 54, inertia 36973554.73609578.\n",
      "Iteration 55, inertia 36973186.23454224.\n",
      "Iteration 56, inertia 36972830.73525107.\n",
      "Iteration 57, inertia 36972442.029928595.\n",
      "Iteration 58, inertia 36971997.19537524.\n",
      "Iteration 59, inertia 36971344.04089872.\n",
      "Iteration 60, inertia 36970477.91373432.\n",
      "Iteration 61, inertia 36969305.145227686.\n",
      "Iteration 62, inertia 36967838.20420812.\n",
      "Iteration 63, inertia 36966305.56294085.\n",
      "Iteration 64, inertia 36964483.53115682.\n",
      "Iteration 65, inertia 36962408.791599885.\n",
      "Iteration 66, inertia 36960162.403606646.\n",
      "Iteration 67, inertia 36958186.19495025.\n",
      "Iteration 68, inertia 36956522.29801791.\n",
      "Iteration 69, inertia 36955441.74018299.\n",
      "Iteration 70, inertia 36954761.25306215.\n",
      "Iteration 71, inertia 36954279.94161745.\n",
      "Iteration 72, inertia 36954041.32996905.\n",
      "Iteration 73, inertia 36953899.70500576.\n",
      "Iteration 74, inertia 36953795.774079524.\n",
      "Iteration 75, inertia 36953691.641282216.\n",
      "Iteration 76, inertia 36953599.67054088.\n",
      "Iteration 77, inertia 36953536.395258486.\n",
      "Iteration 78, inertia 36953500.32889198.\n",
      "Iteration 79, inertia 36953480.10651144.\n",
      "Iteration 80, inertia 36953461.3425075.\n",
      "Iteration 81, inertia 36953443.86477468.\n",
      "Iteration 82, inertia 36953423.98968611.\n",
      "Iteration 83, inertia 36953398.29289647.\n",
      "Iteration 84, inertia 36953385.36571192.\n",
      "Iteration 85, inertia 36953375.31021348.\n",
      "Iteration 86, inertia 36953368.44989148.\n",
      "Iteration 87, inertia 36953363.532240525.\n",
      "Iteration 88, inertia 36953359.99538142.\n",
      "Iteration 89, inertia 36953356.05112692.\n",
      "Converged at iteration 89: center shift 0.00018147407648249825 within tolerance 0.00019002088770563274.\n",
      "Initialization complete\n",
      "Iteration 0, inertia 61581786.04016835.\n",
      "Iteration 1, inertia 38011688.28544786.\n",
      "Iteration 2, inertia 37578447.83555315.\n",
      "Iteration 3, inertia 37466725.27376145.\n",
      "Iteration 4, inertia 37400006.79109706.\n",
      "Iteration 5, inertia 37349577.67074552.\n",
      "Iteration 6, inertia 37307071.057278365.\n",
      "Iteration 7, inertia 37272308.068491645.\n",
      "Iteration 8, inertia 37245292.15821348.\n",
      "Iteration 9, inertia 37224772.97465719.\n",
      "Iteration 10, inertia 37209305.86719195.\n",
      "Iteration 11, inertia 37196494.43978093.\n",
      "Iteration 12, inertia 37185303.0940847.\n",
      "Iteration 13, inertia 37175950.33880103.\n",
      "Iteration 14, inertia 37168567.40092541.\n",
      "Iteration 15, inertia 37162403.011667304.\n",
      "Iteration 16, inertia 37157074.08197368.\n",
      "Iteration 17, inertia 37152566.88622797.\n",
      "Iteration 18, inertia 37148943.458085604.\n",
      "Iteration 19, inertia 37145774.34481233.\n",
      "Iteration 20, inertia 37142803.21209164.\n",
      "Iteration 21, inertia 37140240.46180547.\n",
      "Iteration 22, inertia 37137946.11886508.\n",
      "Iteration 23, inertia 37135629.973890096.\n",
      "Iteration 24, inertia 37133333.08651133.\n",
      "Iteration 25, inertia 37131207.492761016.\n",
      "Iteration 26, inertia 37129095.28381104.\n",
      "Iteration 27, inertia 37127320.859543264.\n",
      "Iteration 28, inertia 37125667.86375178.\n",
      "Iteration 29, inertia 37123979.42865582.\n",
      "Iteration 30, inertia 37122212.904624544.\n",
      "Iteration 31, inertia 37119768.65698521.\n",
      "Iteration 32, inertia 37116014.38701744.\n",
      "Iteration 33, inertia 37110502.81920979.\n",
      "Iteration 34, inertia 37101583.46084111.\n",
      "Iteration 35, inertia 37087116.02299948.\n",
      "Iteration 36, inertia 37065439.39097024.\n",
      "Iteration 37, inertia 37042002.35416705.\n",
      "Iteration 38, inertia 37024344.13707907.\n",
      "Iteration 39, inertia 37013394.24527863.\n",
      "Iteration 40, inertia 37007230.09000048.\n",
      "Iteration 41, inertia 37002993.10962082.\n",
      "Iteration 42, inertia 36999117.34479306.\n",
      "Iteration 43, inertia 36994916.630700074.\n",
      "Iteration 44, inertia 36990689.67023962.\n",
      "Iteration 45, inertia 36986666.7557079.\n",
      "Iteration 46, inertia 36982916.491090514.\n",
      "Iteration 47, inertia 36979952.404469125.\n",
      "Iteration 48, inertia 36977523.18432562.\n",
      "Iteration 49, inertia 36975534.111901626.\n",
      "Iteration 50, inertia 36973930.039435014.\n",
      "Iteration 51, inertia 36972783.65316118.\n",
      "Iteration 52, inertia 36971934.517276205.\n",
      "Iteration 53, inertia 36971377.56495137.\n",
      "Iteration 54, inertia 36970922.921108276.\n",
      "Iteration 55, inertia 36970575.533643745.\n",
      "Iteration 56, inertia 36970317.86346424.\n",
      "Iteration 57, inertia 36970089.74238794.\n",
      "Iteration 58, inertia 36969876.49277466.\n",
      "Iteration 59, inertia 36969650.01710578.\n",
      "Iteration 60, inertia 36969432.77837438.\n",
      "Iteration 61, inertia 36969213.33205361.\n",
      "Iteration 62, inertia 36968986.30368283.\n",
      "Iteration 63, inertia 36968811.43259109.\n",
      "Iteration 64, inertia 36968664.000253454.\n",
      "Iteration 65, inertia 36968532.92789933.\n",
      "Iteration 66, inertia 36968417.56538513.\n",
      "Iteration 67, inertia 36968310.609042.\n",
      "Iteration 68, inertia 36968225.13992089.\n",
      "Iteration 69, inertia 36968164.05628898.\n",
      "Iteration 70, inertia 36968119.88653759.\n",
      "Iteration 71, inertia 36968079.011003226.\n",
      "Iteration 72, inertia 36968045.81862225.\n",
      "Iteration 73, inertia 36968017.15675947.\n",
      "Iteration 74, inertia 36967986.64615571.\n",
      "Iteration 75, inertia 36967958.577006035.\n",
      "Iteration 76, inertia 36967930.189348765.\n",
      "Iteration 77, inertia 36967895.57451611.\n",
      "Iteration 78, inertia 36967868.60026223.\n",
      "Iteration 79, inertia 36967839.109958656.\n",
      "Iteration 80, inertia 36967809.970334135.\n",
      "Iteration 81, inertia 36967786.79263777.\n",
      "Iteration 82, inertia 36967766.31739301.\n",
      "Iteration 83, inertia 36967745.71946998.\n",
      "Iteration 84, inertia 36967726.28410715.\n",
      "Iteration 85, inertia 36967714.35747286.\n",
      "Iteration 86, inertia 36967704.41998539.\n",
      "Iteration 87, inertia 36967696.4571103.\n",
      "Iteration 88, inertia 36967687.68969034.\n",
      "Iteration 89, inertia 36967678.901041046.\n",
      "Iteration 90, inertia 36967668.85163856.\n",
      "Iteration 91, inertia 36967659.63337827.\n",
      "Iteration 92, inertia 36967653.14572937.\n",
      "Iteration 93, inertia 36967646.24854729.\n",
      "Iteration 94, inertia 36967641.32022619.\n",
      "Iteration 95, inertia 36967637.74157651.\n",
      "Converged at iteration 95: center shift 0.00016245353039759516 within tolerance 0.00019002088770563274.\n",
      "Initialization complete\n",
      "Iteration 0, inertia 60933884.62638075.\n",
      "Iteration 1, inertia 38135452.76931979.\n",
      "Iteration 2, inertia 37656993.309893124.\n",
      "Iteration 3, inertia 37514839.45322381.\n",
      "Iteration 4, inertia 37437919.42651646.\n",
      "Iteration 5, inertia 37390002.87017076.\n",
      "Iteration 6, inertia 37352277.2511251.\n",
      "Iteration 7, inertia 37315108.820667826.\n",
      "Iteration 8, inertia 37274998.81645046.\n",
      "Iteration 9, inertia 37231587.15900808.\n",
      "Iteration 10, inertia 37188418.54922285.\n",
      "Iteration 11, inertia 37147246.251636915.\n",
      "Iteration 12, inertia 37116107.696445175.\n",
      "Iteration 13, inertia 37096799.28445818.\n",
      "Iteration 14, inertia 37084130.25713539.\n",
      "Iteration 15, inertia 37075140.85168132.\n",
      "Iteration 16, inertia 37068334.525178544.\n",
      "Iteration 17, inertia 37062449.95015976.\n",
      "Iteration 18, inertia 37056991.31707497.\n",
      "Iteration 19, inertia 37051105.43050437.\n",
      "Iteration 20, inertia 37044171.155787274.\n",
      "Iteration 21, inertia 37035731.68721086.\n",
      "Iteration 22, inertia 37026329.04617515.\n",
      "Iteration 23, inertia 37016444.01679425.\n",
      "Iteration 24, inertia 37007936.206386685.\n",
      "Iteration 25, inertia 37001588.55836062.\n",
      "Iteration 26, inertia 36996949.3222376.\n",
      "Iteration 27, inertia 36993985.120911986.\n",
      "Iteration 28, inertia 36992083.97769881.\n",
      "Iteration 29, inertia 36990802.406901635.\n",
      "Iteration 30, inertia 36990006.5604821.\n",
      "Iteration 31, inertia 36989506.90095283.\n",
      "Iteration 32, inertia 36989135.695742056.\n",
      "Iteration 33, inertia 36988887.91746144.\n",
      "Iteration 34, inertia 36988716.50593658.\n",
      "Iteration 35, inertia 36988591.12108788.\n",
      "Iteration 36, inertia 36988508.56941357.\n",
      "Iteration 37, inertia 36988448.76482708.\n",
      "Iteration 38, inertia 36988405.01871903.\n",
      "Iteration 39, inertia 36988373.41938367.\n",
      "Iteration 40, inertia 36988343.58942771.\n",
      "Iteration 41, inertia 36988323.148964845.\n",
      "Iteration 42, inertia 36988306.81507547.\n",
      "Iteration 43, inertia 36988293.11780698.\n",
      "Iteration 44, inertia 36988279.1772494.\n",
      "Iteration 45, inertia 36988268.01590337.\n",
      "Iteration 46, inertia 36988254.90603365.\n",
      "Iteration 47, inertia 36988244.8601605.\n",
      "Iteration 48, inertia 36988236.79419893.\n",
      "Iteration 49, inertia 36988228.58531426.\n",
      "Iteration 50, inertia 36988221.20471957.\n",
      "Iteration 51, inertia 36988216.012121335.\n",
      "Iteration 52, inertia 36988212.338408.\n",
      "Iteration 53, inertia 36988208.02771883.\n",
      "Iteration 54, inertia 36988203.97305372.\n",
      "Converged at iteration 54: center shift 0.00011460707396069474 within tolerance 0.00019002088770563274.\n",
      "Initialization complete\n",
      "Iteration 0, inertia 59779016.05812441.\n",
      "Iteration 1, inertia 38454069.10378922.\n",
      "Iteration 2, inertia 37605702.139673375.\n",
      "Iteration 3, inertia 37357143.55723113.\n",
      "Iteration 4, inertia 37251750.14199605.\n",
      "Iteration 5, inertia 37198119.6820739.\n",
      "Iteration 6, inertia 37167506.4807282.\n",
      "Iteration 7, inertia 37146755.10121754.\n",
      "Iteration 8, inertia 37131389.70146286.\n",
      "Iteration 9, inertia 37119737.850827396.\n",
      "Iteration 10, inertia 37109952.28134858.\n",
      "Iteration 11, inertia 37101495.353973225.\n",
      "Iteration 12, inertia 37094059.22524698.\n",
      "Iteration 13, inertia 37087439.76705585.\n",
      "Iteration 14, inertia 37081881.415848695.\n",
      "Iteration 15, inertia 37077225.450731374.\n",
      "Iteration 16, inertia 37073240.49511859.\n",
      "Iteration 17, inertia 37069666.68818947.\n",
      "Iteration 18, inertia 37066437.83124646.\n",
      "Iteration 19, inertia 37063184.05412791.\n",
      "Iteration 20, inertia 37060072.96165158.\n",
      "Iteration 21, inertia 37057102.74171111.\n",
      "Iteration 22, inertia 37053914.281810336.\n",
      "Iteration 23, inertia 37050776.235101074.\n",
      "Iteration 24, inertia 37047498.70806281.\n",
      "Iteration 25, inertia 37043647.44777267.\n",
      "Iteration 26, inertia 37039468.859438196.\n",
      "Iteration 27, inertia 37034799.021286964.\n",
      "Iteration 28, inertia 37029612.08204539.\n",
      "Iteration 29, inertia 37023936.910755396.\n",
      "Iteration 30, inertia 37017709.05157967.\n",
      "Iteration 31, inertia 37010322.59539916.\n",
      "Iteration 32, inertia 37001130.37700035.\n",
      "Iteration 33, inertia 36990706.566137046.\n",
      "Iteration 34, inertia 36982028.56801642.\n",
      "Iteration 35, inertia 36976764.85954249.\n",
      "Iteration 36, inertia 36973928.62054376.\n",
      "Iteration 37, inertia 36972339.34910016.\n",
      "Iteration 38, inertia 36971282.21543932.\n",
      "Iteration 39, inertia 36970503.72244905.\n",
      "Iteration 40, inertia 36969878.56751034.\n",
      "Iteration 41, inertia 36969364.209134474.\n",
      "Iteration 42, inertia 36969010.7077373.\n",
      "Iteration 43, inertia 36968736.09382062.\n",
      "Iteration 44, inertia 36968499.025327265.\n",
      "Iteration 45, inertia 36968325.31154979.\n",
      "Iteration 46, inertia 36968195.22116022.\n",
      "Iteration 47, inertia 36968086.85860191.\n",
      "Iteration 48, inertia 36968006.13079467.\n",
      "Iteration 49, inertia 36967930.08194494.\n",
      "Iteration 50, inertia 36967858.866783135.\n",
      "Iteration 51, inertia 36967800.305112265.\n",
      "Iteration 52, inertia 36967757.01845834.\n",
      "Iteration 53, inertia 36967722.66591463.\n",
      "Iteration 54, inertia 36967692.53430953.\n",
      "Iteration 55, inertia 36967661.82407734.\n",
      "Iteration 56, inertia 36967635.4718.\n",
      "Iteration 57, inertia 36967612.91072215.\n",
      "Iteration 58, inertia 36967591.02731511.\n",
      "Iteration 59, inertia 36967565.37254199.\n",
      "Iteration 60, inertia 36967542.83625308.\n",
      "Iteration 61, inertia 36967523.38750937.\n",
      "Iteration 62, inertia 36967500.41345334.\n",
      "Iteration 63, inertia 36967477.86080882.\n",
      "Iteration 64, inertia 36967458.156442404.\n",
      "Iteration 65, inertia 36967440.228224255.\n",
      "Iteration 66, inertia 36967425.9624821.\n",
      "Iteration 67, inertia 36967413.08209112.\n",
      "Iteration 68, inertia 36967400.420890324.\n",
      "Iteration 69, inertia 36967388.31359607.\n",
      "Iteration 70, inertia 36967377.89850819.\n",
      "Iteration 71, inertia 36967371.05521873.\n",
      "Iteration 72, inertia 36967363.89347631.\n",
      "Iteration 73, inertia 36967356.975432694.\n",
      "Iteration 74, inertia 36967351.546512455.\n",
      "Converged at iteration 74: center shift 0.00017857486365625386 within tolerance 0.00019002088770563274.\n",
      "Initialization complete\n",
      "Iteration 0, inertia 60955194.511777066.\n",
      "Iteration 1, inertia 38090252.37257132.\n",
      "Iteration 2, inertia 37486768.51698023.\n",
      "Iteration 3, inertia 37307012.8748269.\n",
      "Iteration 4, inertia 37203198.49541568.\n",
      "Iteration 5, inertia 37141934.34925059.\n",
      "Iteration 6, inertia 37105667.14644914.\n",
      "Iteration 7, inertia 37081441.29118233.\n",
      "Iteration 8, inertia 37064128.607971616.\n",
      "Iteration 9, inertia 37052127.958906084.\n",
      "Iteration 10, inertia 37043210.41011971.\n",
      "Iteration 11, inertia 37035923.73993032.\n",
      "Iteration 12, inertia 37030059.13818818.\n",
      "Iteration 13, inertia 37025083.39511932.\n",
      "Iteration 14, inertia 37021334.218681544.\n",
      "Iteration 15, inertia 37018203.587211795.\n",
      "Iteration 16, inertia 37015497.26309657.\n",
      "Iteration 17, inertia 37013015.372626714.\n",
      "Iteration 18, inertia 37010735.75902237.\n",
      "Iteration 19, inertia 37008559.390180334.\n",
      "Iteration 20, inertia 37006402.62668675.\n",
      "Iteration 21, inertia 37004186.162271574.\n",
      "Iteration 22, inertia 37001947.86204232.\n",
      "Iteration 23, inertia 36999818.79222454.\n",
      "Iteration 24, inertia 36997685.318192944.\n",
      "Iteration 25, inertia 36995555.33859848.\n",
      "Iteration 26, inertia 36993563.21876331.\n",
      "Iteration 27, inertia 36991793.36743025.\n",
      "Iteration 28, inertia 36989814.634616055.\n",
      "Iteration 29, inertia 36987803.06861622.\n",
      "Iteration 30, inertia 36985869.55889889.\n",
      "Iteration 31, inertia 36984151.49809417.\n",
      "Iteration 32, inertia 36982558.75834339.\n",
      "Iteration 33, inertia 36981052.84446861.\n",
      "Iteration 34, inertia 36979695.36758315.\n",
      "Iteration 35, inertia 36978455.12750395.\n",
      "Iteration 36, inertia 36977356.680711426.\n",
      "Iteration 37, inertia 36976312.526107006.\n",
      "Iteration 38, inertia 36975214.5500973.\n",
      "Iteration 39, inertia 36974277.45476472.\n",
      "Iteration 40, inertia 36973409.73046412.\n",
      "Iteration 41, inertia 36972645.28006689.\n",
      "Iteration 42, inertia 36971990.82902733.\n",
      "Iteration 43, inertia 36971415.29631132.\n",
      "Iteration 44, inertia 36970914.947946094.\n",
      "Iteration 45, inertia 36970519.894696325.\n",
      "Iteration 46, inertia 36970193.98167127.\n",
      "Iteration 47, inertia 36969893.20999699.\n",
      "Iteration 48, inertia 36969602.45524796.\n",
      "Iteration 49, inertia 36969361.22384281.\n",
      "Iteration 50, inertia 36969152.38493595.\n",
      "Iteration 51, inertia 36968958.25721498.\n",
      "Iteration 52, inertia 36968784.8452439.\n",
      "Iteration 53, inertia 36968616.480245106.\n",
      "Iteration 54, inertia 36968462.68188446.\n",
      "Iteration 55, inertia 36968316.146907255.\n",
      "Iteration 56, inertia 36968184.73898987.\n",
      "Iteration 57, inertia 36968062.79869346.\n",
      "Iteration 58, inertia 36967959.38178036.\n",
      "Iteration 59, inertia 36967878.482205175.\n",
      "Iteration 60, inertia 36967812.84815313.\n",
      "Iteration 61, inertia 36967758.51488171.\n",
      "Iteration 62, inertia 36967707.49419273.\n",
      "Iteration 63, inertia 36967658.806427404.\n",
      "Iteration 64, inertia 36967611.63524643.\n",
      "Iteration 65, inertia 36967574.335698046.\n",
      "Iteration 66, inertia 36967540.225180686.\n",
      "Iteration 67, inertia 36967506.88324307.\n",
      "Iteration 68, inertia 36967484.176508814.\n",
      "Iteration 69, inertia 36967469.78096275.\n",
      "Iteration 70, inertia 36967455.45594186.\n",
      "Iteration 71, inertia 36967441.79275369.\n",
      "Iteration 72, inertia 36967429.0349735.\n",
      "Iteration 73, inertia 36967417.026233375.\n",
      "Iteration 74, inertia 36967404.07417233.\n",
      "Iteration 75, inertia 36967391.472429596.\n",
      "Iteration 76, inertia 36967379.21880688.\n",
      "Iteration 77, inertia 36967363.283157945.\n",
      "Iteration 78, inertia 36967349.84549848.\n",
      "Iteration 79, inertia 36967338.87464422.\n",
      "Iteration 80, inertia 36967329.01600182.\n",
      "Iteration 81, inertia 36967320.929115735.\n",
      "Iteration 82, inertia 36967312.74074155.\n",
      "Iteration 83, inertia 36967304.80872912.\n",
      "Iteration 84, inertia 36967296.614949666.\n",
      "Iteration 85, inertia 36967288.54912894.\n",
      "Iteration 86, inertia 36967283.55692704.\n",
      "Converged at iteration 86: center shift 0.00016875405424468043 within tolerance 0.00019002088770563274.\n",
      "Initialization complete\n",
      "Iteration 0, inertia 61521202.20153704.\n",
      "Iteration 1, inertia 38640299.06352514.\n",
      "Iteration 2, inertia 37965230.34716023.\n",
      "Iteration 3, inertia 37712347.374160774.\n",
      "Iteration 4, inertia 37604385.02385059.\n",
      "Iteration 5, inertia 37541038.72517024.\n",
      "Iteration 6, inertia 37492695.5242741.\n",
      "Iteration 7, inertia 37444040.231390946.\n",
      "Iteration 8, inertia 37383990.468099356.\n",
      "Iteration 9, inertia 37331220.279719785.\n",
      "Iteration 10, inertia 37292718.13472397.\n",
      "Iteration 11, inertia 37260850.371967845.\n",
      "Iteration 12, inertia 37226689.45621779.\n",
      "Iteration 13, inertia 37185067.838476114.\n",
      "Iteration 14, inertia 37143450.9930246.\n",
      "Iteration 15, inertia 37112531.474637285.\n",
      "Iteration 16, inertia 37096194.79026118.\n",
      "Iteration 17, inertia 37087554.415342934.\n",
      "Iteration 18, inertia 37082038.35713328.\n",
      "Iteration 19, inertia 37077598.517495885.\n",
      "Iteration 20, inertia 37073729.97843476.\n",
      "Iteration 21, inertia 37070430.0440328.\n",
      "Iteration 22, inertia 37067188.85310976.\n",
      "Iteration 23, inertia 37064083.01733831.\n",
      "Iteration 24, inertia 37061263.917217925.\n",
      "Iteration 25, inertia 37058518.792294525.\n",
      "Iteration 26, inertia 37055826.406279534.\n",
      "Iteration 27, inertia 37053422.663904175.\n",
      "Iteration 28, inertia 37050952.56762142.\n",
      "Iteration 29, inertia 37048511.274853975.\n",
      "Iteration 30, inertia 37046187.33158567.\n",
      "Iteration 31, inertia 37044054.200617336.\n",
      "Iteration 32, inertia 37042097.545164146.\n",
      "Iteration 33, inertia 37040200.686063185.\n",
      "Iteration 34, inertia 37038553.74183552.\n",
      "Iteration 35, inertia 37037063.88294666.\n",
      "Iteration 36, inertia 37035704.95002418.\n",
      "Iteration 37, inertia 37034374.50303626.\n",
      "Iteration 38, inertia 37033159.86420604.\n",
      "Iteration 39, inertia 37032098.99635457.\n",
      "Iteration 40, inertia 37031081.357729115.\n",
      "Iteration 41, inertia 37030198.67922949.\n",
      "Iteration 42, inertia 37029473.36753421.\n",
      "Iteration 43, inertia 37028859.445750356.\n",
      "Iteration 44, inertia 37028270.75044411.\n",
      "Iteration 45, inertia 37027753.96196863.\n",
      "Iteration 46, inertia 37027202.687496684.\n",
      "Iteration 47, inertia 37026650.88774817.\n",
      "Iteration 48, inertia 37026155.43928219.\n",
      "Iteration 49, inertia 37025695.95116626.\n",
      "Iteration 50, inertia 37025197.55263818.\n",
      "Iteration 51, inertia 37024761.61565822.\n",
      "Iteration 52, inertia 37024414.83249904.\n",
      "Iteration 53, inertia 37024157.159031466.\n",
      "Iteration 54, inertia 37023912.70880525.\n",
      "Iteration 55, inertia 37023721.3789271.\n",
      "Iteration 56, inertia 37023542.88297637.\n",
      "Iteration 57, inertia 37023392.52781818.\n",
      "Iteration 58, inertia 37023244.501814075.\n",
      "Iteration 59, inertia 37023107.916771255.\n",
      "Iteration 60, inertia 37022961.12480698.\n",
      "Iteration 61, inertia 37022807.974800244.\n",
      "Iteration 62, inertia 37022661.09193824.\n",
      "Iteration 63, inertia 37022507.50423772.\n",
      "Iteration 64, inertia 37022346.97187439.\n",
      "Iteration 65, inertia 37022178.30124133.\n",
      "Iteration 66, inertia 37022007.75497047.\n",
      "Iteration 67, inertia 37021850.61811404.\n",
      "Iteration 68, inertia 37021692.408016026.\n",
      "Iteration 69, inertia 37021515.28118993.\n",
      "Iteration 70, inertia 37021331.68035133.\n",
      "Iteration 71, inertia 37021157.64410476.\n",
      "Iteration 72, inertia 37020972.02717056.\n",
      "Iteration 73, inertia 37020781.4288627.\n",
      "Iteration 74, inertia 37020579.00129221.\n",
      "Iteration 75, inertia 37020373.201696254.\n",
      "Iteration 76, inertia 37020178.11580775.\n",
      "Iteration 77, inertia 37019982.82982784.\n",
      "Iteration 78, inertia 37019773.35891251.\n",
      "Iteration 79, inertia 37019594.43051049.\n",
      "Iteration 80, inertia 37019408.779385306.\n",
      "Iteration 81, inertia 37019179.65214807.\n",
      "Iteration 82, inertia 37018955.63671003.\n",
      "Iteration 83, inertia 37018710.65413389.\n",
      "Iteration 84, inertia 37018493.26652561.\n",
      "Iteration 85, inertia 37018309.16898425.\n",
      "Iteration 86, inertia 37018127.42775458.\n",
      "Iteration 87, inertia 37017904.12873375.\n",
      "Iteration 88, inertia 37017638.081375234.\n",
      "Iteration 89, inertia 37017325.182172485.\n",
      "Iteration 90, inertia 37016967.51354446.\n",
      "Iteration 91, inertia 37016569.822123386.\n",
      "Iteration 92, inertia 37016069.648071185.\n",
      "Iteration 93, inertia 37015472.622784525.\n",
      "Iteration 94, inertia 37014507.2777783.\n",
      "Iteration 95, inertia 37012968.006747216.\n",
      "Iteration 96, inertia 37010825.96929296.\n",
      "Iteration 97, inertia 37007243.347585976.\n",
      "Iteration 98, inertia 37001133.507697.\n",
      "Iteration 99, inertia 36991054.29721098.\n",
      "Iteration 100, inertia 36978529.69772447.\n",
      "Iteration 101, inertia 36967179.60026174.\n",
      "Iteration 102, inertia 36960512.07514327.\n",
      "Iteration 103, inertia 36957449.933321305.\n",
      "Iteration 104, inertia 36956028.7879553.\n",
      "Iteration 105, inertia 36955269.66766109.\n",
      "Iteration 106, inertia 36954829.88739584.\n",
      "Iteration 107, inertia 36954542.30544198.\n",
      "Iteration 108, inertia 36954327.48066892.\n",
      "Iteration 109, inertia 36954162.94528936.\n",
      "Iteration 110, inertia 36954047.60966903.\n",
      "Iteration 111, inertia 36953953.27674162.\n",
      "Iteration 112, inertia 36953882.629726686.\n",
      "Iteration 113, inertia 36953822.42008391.\n",
      "Iteration 114, inertia 36953782.96850963.\n",
      "Iteration 115, inertia 36953754.17376365.\n",
      "Iteration 116, inertia 36953727.249389246.\n",
      "Iteration 117, inertia 36953707.2569239.\n",
      "Iteration 118, inertia 36953696.4745468.\n",
      "Iteration 119, inertia 36953685.036024645.\n",
      "Iteration 120, inertia 36953675.961995795.\n",
      "Iteration 121, inertia 36953668.66118038.\n",
      "Iteration 122, inertia 36953661.77943291.\n",
      "Iteration 123, inertia 36953656.14095628.\n",
      "Iteration 124, inertia 36953649.62015991.\n",
      "Iteration 125, inertia 36953642.902727425.\n",
      "Iteration 126, inertia 36953637.92310702.\n",
      "Converged at iteration 126: center shift 0.0001764285417590455 within tolerance 0.00019002088770563274.\n",
      "Initialization complete\n",
      "Iteration 0, inertia 60090373.15555948.\n",
      "Iteration 1, inertia 38102277.05236232.\n",
      "Iteration 2, inertia 37523091.25347337.\n",
      "Iteration 3, inertia 37369222.544646055.\n",
      "Iteration 4, inertia 37285892.13575786.\n",
      "Iteration 5, inertia 37215577.93152484.\n",
      "Iteration 6, inertia 37156214.89025051.\n",
      "Iteration 7, inertia 37113327.92593259.\n",
      "Iteration 8, inertia 37081085.17770624.\n",
      "Iteration 9, inertia 37055446.80266066.\n",
      "Iteration 10, inertia 37034956.706427634.\n",
      "Iteration 11, inertia 37018507.21725524.\n",
      "Iteration 12, inertia 37006189.10839843.\n",
      "Iteration 13, inertia 36997811.223482475.\n",
      "Iteration 14, inertia 36992374.771369405.\n",
      "Iteration 15, inertia 36988544.15689857.\n",
      "Iteration 16, inertia 36985935.464640304.\n",
      "Iteration 17, inertia 36984162.99495549.\n",
      "Iteration 18, inertia 36982896.3328336.\n",
      "Iteration 19, inertia 36981890.12953417.\n",
      "Iteration 20, inertia 36981033.99637528.\n",
      "Iteration 21, inertia 36980340.14519075.\n",
      "Iteration 22, inertia 36979711.43376372.\n",
      "Iteration 23, inertia 36979137.16375511.\n",
      "Iteration 24, inertia 36978634.10328407.\n",
      "Iteration 25, inertia 36978148.1475098.\n",
      "Iteration 26, inertia 36977658.371977895.\n",
      "Iteration 27, inertia 36977196.702315606.\n",
      "Iteration 28, inertia 36976741.41538099.\n",
      "Iteration 29, inertia 36976291.15870775.\n",
      "Iteration 30, inertia 36975883.25482384.\n",
      "Iteration 31, inertia 36975453.26169872.\n",
      "Iteration 32, inertia 36975008.736337736.\n",
      "Iteration 33, inertia 36974505.15702346.\n",
      "Iteration 34, inertia 36973957.80499193.\n",
      "Iteration 35, inertia 36973346.1738345.\n",
      "Iteration 36, inertia 36972738.19107177.\n",
      "Iteration 37, inertia 36972166.20279415.\n",
      "Iteration 38, inertia 36971612.55705887.\n",
      "Iteration 39, inertia 36971046.4413403.\n",
      "Iteration 40, inertia 36970455.974785976.\n",
      "Iteration 41, inertia 36969728.2866963.\n",
      "Iteration 42, inertia 36969027.59859744.\n",
      "Iteration 43, inertia 36968411.70352699.\n",
      "Iteration 44, inertia 36967847.63356252.\n",
      "Iteration 45, inertia 36967312.52908501.\n",
      "Iteration 46, inertia 36966775.41571748.\n",
      "Iteration 47, inertia 36966272.66296983.\n",
      "Iteration 48, inertia 36965837.67328258.\n",
      "Iteration 49, inertia 36965405.29820912.\n",
      "Iteration 50, inertia 36964965.9975845.\n",
      "Iteration 51, inertia 36964588.765228495.\n",
      "Iteration 52, inertia 36964289.68461423.\n",
      "Iteration 53, inertia 36964022.99958174.\n",
      "Iteration 54, inertia 36963772.66033069.\n",
      "Iteration 55, inertia 36963531.902597934.\n",
      "Iteration 56, inertia 36963328.6594775.\n",
      "Iteration 57, inertia 36963161.48253494.\n",
      "Iteration 58, inertia 36963025.76630655.\n",
      "Iteration 59, inertia 36962922.36088426.\n",
      "Iteration 60, inertia 36962850.97343995.\n",
      "Iteration 61, inertia 36962791.83143543.\n",
      "Iteration 62, inertia 36962739.20646124.\n",
      "Iteration 63, inertia 36962690.185587585.\n",
      "Iteration 64, inertia 36962630.43092622.\n",
      "Iteration 65, inertia 36962570.300584346.\n",
      "Iteration 66, inertia 36962510.86614596.\n",
      "Iteration 67, inertia 36962450.37209788.\n",
      "Iteration 68, inertia 36962399.811700374.\n",
      "Iteration 69, inertia 36962348.358204745.\n",
      "Iteration 70, inertia 36962307.889775075.\n",
      "Iteration 71, inertia 36962278.311420344.\n",
      "Iteration 72, inertia 36962258.32216616.\n",
      "Iteration 73, inertia 36962243.9136288.\n",
      "Iteration 74, inertia 36962230.41222445.\n",
      "Iteration 75, inertia 36962217.96658416.\n",
      "Iteration 76, inertia 36962205.7243609.\n",
      "Iteration 77, inertia 36962194.69576876.\n",
      "Iteration 78, inertia 36962184.2202102.\n",
      "Iteration 79, inertia 36962176.91922644.\n",
      "Iteration 80, inertia 36962170.78483147.\n",
      "Iteration 81, inertia 36962164.86212061.\n",
      "Iteration 82, inertia 36962156.07978867.\n",
      "Iteration 83, inertia 36962149.241063274.\n",
      "Iteration 84, inertia 36962141.32001566.\n",
      "Iteration 85, inertia 36962135.00967219.\n",
      "Iteration 86, inertia 36962130.046688296.\n",
      "Converged at iteration 86: center shift 0.00015820046132183194 within tolerance 0.00019002088770563274.\n",
      "Initialization complete\n",
      "Iteration 0, inertia 62677172.18024292.\n",
      "Iteration 1, inertia 38421454.04333678.\n",
      "Iteration 2, inertia 37633661.41442643.\n",
      "Iteration 3, inertia 37439748.28603721.\n",
      "Iteration 4, inertia 37358046.47184169.\n",
      "Iteration 5, inertia 37294786.27124098.\n",
      "Iteration 6, inertia 37247378.88634524.\n",
      "Iteration 7, inertia 37217322.77664849.\n",
      "Iteration 8, inertia 37194832.216153756.\n",
      "Iteration 9, inertia 37175843.03013367.\n",
      "Iteration 10, inertia 37158264.4162334.\n",
      "Iteration 11, inertia 37141408.065797.\n",
      "Iteration 12, inertia 37125373.86028868.\n",
      "Iteration 13, inertia 37111188.9892752.\n",
      "Iteration 14, inertia 37100349.98626738.\n",
      "Iteration 15, inertia 37092953.483058244.\n",
      "Iteration 16, inertia 37087886.62577335.\n",
      "Iteration 17, inertia 37083662.4783528.\n",
      "Iteration 18, inertia 37079655.23487287.\n",
      "Iteration 19, inertia 37075020.42492352.\n",
      "Iteration 20, inertia 37069549.60453504.\n",
      "Iteration 21, inertia 37063646.51621911.\n",
      "Iteration 22, inertia 37057473.82068519.\n",
      "Iteration 23, inertia 37051122.051274635.\n",
      "Iteration 24, inertia 37044902.990173265.\n",
      "Iteration 25, inertia 37039134.05646303.\n",
      "Iteration 26, inertia 37033607.82005711.\n",
      "Iteration 27, inertia 37028679.106713235.\n",
      "Iteration 28, inertia 37024099.8617112.\n",
      "Iteration 29, inertia 37020063.45656986.\n",
      "Iteration 30, inertia 37016478.832259364.\n",
      "Iteration 31, inertia 37013261.23987118.\n",
      "Iteration 32, inertia 37010419.09694745.\n",
      "Iteration 33, inertia 37007654.419516586.\n",
      "Iteration 34, inertia 37004728.89242579.\n",
      "Iteration 35, inertia 37001596.053828225.\n",
      "Iteration 36, inertia 36998093.872419976.\n",
      "Iteration 37, inertia 36993741.847947076.\n",
      "Iteration 38, inertia 36988226.963508464.\n",
      "Iteration 39, inertia 36981501.14368039.\n",
      "Iteration 40, inertia 36973968.838490024.\n",
      "Iteration 41, inertia 36967402.374672055.\n",
      "Iteration 42, inertia 36962110.45615535.\n",
      "Iteration 43, inertia 36958680.01011322.\n",
      "Iteration 44, inertia 36956554.94032527.\n",
      "Iteration 45, inertia 36955361.8649554.\n",
      "Iteration 46, inertia 36954677.286338694.\n",
      "Iteration 47, inertia 36954240.43091423.\n",
      "Iteration 48, inertia 36953985.58946617.\n",
      "Iteration 49, inertia 36953841.415434815.\n",
      "Iteration 50, inertia 36953749.3979148.\n",
      "Iteration 51, inertia 36953692.438719325.\n",
      "Iteration 52, inertia 36953644.3455936.\n",
      "Iteration 53, inertia 36953598.78225456.\n",
      "Iteration 54, inertia 36953562.08258383.\n",
      "Iteration 55, inertia 36953536.621884555.\n",
      "Iteration 56, inertia 36953518.86327606.\n",
      "Iteration 57, inertia 36953502.62017514.\n",
      "Iteration 58, inertia 36953488.78639653.\n",
      "Iteration 59, inertia 36953479.2920306.\n",
      "Iteration 60, inertia 36953474.18870173.\n",
      "Iteration 61, inertia 36953470.724646755.\n",
      "Converged at iteration 61: center shift 0.0001710343075283066 within tolerance 0.00019002088770563274.\n",
      "Initialization complete\n",
      "Iteration 0, inertia 62191305.57591513.\n",
      "Iteration 1, inertia 38287001.354683116.\n",
      "Iteration 2, inertia 37709048.52970985.\n",
      "Iteration 3, inertia 37478309.713687666.\n",
      "Iteration 4, inertia 37361411.97446108.\n",
      "Iteration 5, inertia 37287924.31954199.\n",
      "Iteration 6, inertia 37232074.290930554.\n",
      "Iteration 7, inertia 37184216.5737301.\n",
      "Iteration 8, inertia 37140898.08163623.\n",
      "Iteration 9, inertia 37104132.82193506.\n",
      "Iteration 10, inertia 37076715.68797325.\n",
      "Iteration 11, inertia 37054609.26453531.\n",
      "Iteration 12, inertia 37037276.6966902.\n",
      "Iteration 13, inertia 37023670.58335491.\n",
      "Iteration 14, inertia 37013374.294918716.\n",
      "Iteration 15, inertia 37005974.97030786.\n",
      "Iteration 16, inertia 37000766.1086015.\n",
      "Iteration 17, inertia 36997216.39620253.\n",
      "Iteration 18, inertia 36994813.396104746.\n",
      "Iteration 19, inertia 36992786.754164115.\n",
      "Iteration 20, inertia 36991010.749507196.\n",
      "Iteration 21, inertia 36989413.77337899.\n",
      "Iteration 22, inertia 36987835.68372331.\n",
      "Iteration 23, inertia 36986282.317930125.\n",
      "Iteration 24, inertia 36984794.48780437.\n",
      "Iteration 25, inertia 36983542.910893425.\n",
      "Iteration 26, inertia 36982377.6075107.\n",
      "Iteration 27, inertia 36981120.3386049.\n",
      "Iteration 28, inertia 36979813.03608392.\n",
      "Iteration 29, inertia 36978459.67548978.\n",
      "Iteration 30, inertia 36977214.466048665.\n",
      "Iteration 31, inertia 36976060.415180035.\n",
      "Iteration 32, inertia 36975110.92674552.\n",
      "Iteration 33, inertia 36974296.16810809.\n",
      "Iteration 34, inertia 36973492.66743955.\n",
      "Iteration 35, inertia 36972854.811642714.\n",
      "Iteration 36, inertia 36972256.13091275.\n",
      "Iteration 37, inertia 36971632.701382935.\n",
      "Iteration 38, inertia 36971064.872655734.\n",
      "Iteration 39, inertia 36970630.73960425.\n",
      "Iteration 40, inertia 36970234.931221955.\n",
      "Iteration 41, inertia 36969873.2131571.\n",
      "Iteration 42, inertia 36969538.39884184.\n",
      "Iteration 43, inertia 36969243.651633695.\n",
      "Iteration 44, inertia 36968958.11268083.\n",
      "Iteration 45, inertia 36968712.709886745.\n",
      "Iteration 46, inertia 36968499.16635974.\n",
      "Iteration 47, inertia 36968338.7244304.\n",
      "Iteration 48, inertia 36968208.60107856.\n",
      "Iteration 49, inertia 36968106.466990665.\n",
      "Iteration 50, inertia 36968033.025594994.\n",
      "Iteration 51, inertia 36967956.96458511.\n",
      "Iteration 52, inertia 36967898.26865663.\n",
      "Iteration 53, inertia 36967849.588816084.\n",
      "Iteration 54, inertia 36967809.99443614.\n",
      "Iteration 55, inertia 36967772.86233091.\n",
      "Iteration 56, inertia 36967743.67361763.\n",
      "Iteration 57, inertia 36967717.54023332.\n",
      "Iteration 58, inertia 36967687.62591799.\n",
      "Iteration 59, inertia 36967655.647790276.\n",
      "Iteration 60, inertia 36967631.25506921.\n",
      "Iteration 61, inertia 36967599.87483191.\n",
      "Iteration 62, inertia 36967564.695103034.\n",
      "Iteration 63, inertia 36967534.44134696.\n",
      "Iteration 64, inertia 36967504.30575012.\n",
      "Iteration 65, inertia 36967478.40921369.\n",
      "Iteration 66, inertia 36967457.17356619.\n",
      "Iteration 67, inertia 36967439.90896651.\n",
      "Iteration 68, inertia 36967422.20235196.\n",
      "Iteration 69, inertia 36967405.1851445.\n",
      "Iteration 70, inertia 36967394.15629622.\n",
      "Iteration 71, inertia 36967386.21168707.\n",
      "Iteration 72, inertia 36967379.54668278.\n",
      "Iteration 73, inertia 36967373.95605385.\n",
      "Iteration 74, inertia 36967368.535985656.\n",
      "Iteration 75, inertia 36967364.18003634.\n",
      "Iteration 76, inertia 36967358.813753165.\n",
      "Iteration 77, inertia 36967353.737064995.\n",
      "Iteration 78, inertia 36967348.4223703.\n",
      "Iteration 79, inertia 36967343.2079788.\n",
      "Iteration 80, inertia 36967336.61606892.\n",
      "Iteration 81, inertia 36967329.338842094.\n",
      "Iteration 82, inertia 36967323.14019432.\n",
      "Iteration 83, inertia 36967318.71379939.\n",
      "Converged at iteration 83: center shift 0.00013274250540119942 within tolerance 0.00019002088770563274.\n",
      "predicting for customers\n",
      "predicting for population\n",
      "plotting...\n",
      "69.28125940000001\n"
     ]
    },
    {
     "data": {
      "text/plain": "<Figure size 1200x400 with 2 Axes>",
      "image/png": "[encoded data removed]"
     },
     "metadata": {},
     "output_type": "display_data"
    }
   ],
   "source": [
    "t0 = perf_counter()\n",
    "\n",
    "pipeline_pca = run_pipeline(cluster_pipeline_pca,\n",
    "                            azdias.drop('EINGEFUEGT_AM', axis=1).iloc[::5],\n",
    "                            customers.drop('EINGEFUEGT_AM', axis=1))\n",
    "\n",
    "print(perf_counter()-t0)"
   ],
   "metadata": {
    "collapsed": false,
    "pycharm": {
     "name": "#%%\n"
    }
   }
  },
  {
   "cell_type": "markdown",
   "source": [
    "#### Conclusion\n",
    "We can see that the PCA-dimension reduction works best with the KMeans clustering. We can see that the population is more homogeneously distributed and that the custoers generally belong to four main clusters. With that in mind, we are going to enrich our data with the clusters and then train our classifier in the next chapter with that information."
   ],
   "metadata": {
    "collapsed": false,
    "pycharm": {
     "name": "#%% md\n"
    }
   }
  },
  {
   "cell_type": "markdown",
   "metadata": {
    "pycharm": {
     "name": "#%% md\n"
    }
   },
   "source": [
    "## Part 2: Supervised Learning Model\n",
    "\n",
    "Now that you've found which parts of the population are more likely to be customers of the mail-order company, it's time to build a prediction model. Each of the rows in the \"MAILOUT\" data files represents an individual that was targeted for a mailout campaign. Ideally, we should be able to use the demographic information from each individual to decide whether or not it will be worth it to include that person in the campaign.\n",
    "\n",
    "The \"MAILOUT\" data has been split into two approximately equal parts, each with almost 43 000 data rows. In this part, you can verify your model with the \"TRAIN\" partition, which includes a column, \"RESPONSE\", that states whether or not a person became a customer of the company following the campaign. In the next part, you'll need to create predictions on the \"TEST\" partition, where the \"RESPONSE\" column has been withheld."
   ]
  },
  {
   "cell_type": "markdown",
   "source": [
    "### Intro\n",
    "First we are going to load the data and clean them with the previously implemented cleaning function, with the additional `RESPONSE` column and seperate the labels from the data. After that, we are going to determine the clusters the training data is in and then train a classification model.\n",
    "An overview of the following steps is listed below:\n",
    "- Loading data\n",
    "- Cleaning data\n",
    "- Separating labels from features\n",
    "- Run clustering pipeline on data\n",
    "- Train classifier (with cross validation)\n",
    "- Run classifier on test data"
   ],
   "metadata": {
    "collapsed": false,
    "pycharm": {
     "name": "#%% md\n"
    }
   }
  },
  {
   "cell_type": "code",
   "execution_count": 45,
   "outputs": [],
   "source": [
    "del azdias, customers"
   ],
   "metadata": {
    "collapsed": false,
    "pycharm": {
     "name": "#%%\n"
    }
   }
  },
  {
   "cell_type": "code",
   "execution_count": 46,
   "outputs": [],
   "source": [
    "# added this to common columns, to keep this clean this column as well\n",
    "common_columns = common_columns.append(pd.Index(['RESPONSE']))"
   ],
   "metadata": {
    "collapsed": false,
    "pycharm": {
     "name": "#%%\n"
    }
   }
  },
  {
   "cell_type": "code",
   "execution_count": 47,
   "outputs": [
    {
     "data": {
      "text/plain": "Index(['LNR', 'AGER_TYP', 'AKT_DAT_KL', 'ALTER_HH', 'ALTER_KIND1',\n       'ALTER_KIND2', 'ALTER_KIND3', 'ALTER_KIND4', 'ALTERSKATEGORIE_FEIN',\n       'ANZ_HAUSHALTE_AKTIV',\n       ...\n       'VK_DHT4A', 'VK_DISTANZ', 'VK_ZG11', 'W_KEIT_KIND_HH', 'WOHNDAUER_2008',\n       'WOHNLAGE', 'ZABEOTYP', 'ANREDE_KZ', 'ALTERSKATEGORIE_GROB',\n       'RESPONSE'],\n      dtype='object', length=367)"
     },
     "execution_count": 47,
     "metadata": {},
     "output_type": "execute_result"
    }
   ],
   "source": [
    "common_columns"
   ],
   "metadata": {
    "collapsed": false,
    "pycharm": {
     "name": "#%%\n"
    }
   }
  },
  {
   "cell_type": "markdown",
   "source": [
    "### Load Data"
   ],
   "metadata": {
    "collapsed": false,
    "pycharm": {
     "name": "#%% md\n"
    }
   }
  },
  {
   "cell_type": "code",
   "execution_count": 48,
   "outputs": [],
   "source": [
    "mailout_train = pd.read_csv('data/Udacity_MAILOUT_052018_TRAIN.csv',\n",
    "        sep=';')"
   ],
   "metadata": {
    "collapsed": false,
    "pycharm": {
     "name": "#%%\n"
    }
   }
  },
  {
   "cell_type": "code",
   "execution_count": 49,
   "outputs": [
    {
     "data": {
      "text/plain": "    LNR  AGER_TYP  AKT_DAT_KL  ALTER_HH  ALTER_KIND1  ALTER_KIND2  \\\n0  1763         2         1.0       8.0          NaN          NaN   \n1  1771         1         4.0      13.0          NaN          NaN   \n2  1776         1         1.0       9.0          NaN          NaN   \n3  1460         2         1.0       6.0          NaN          NaN   \n4  1783         2         1.0       9.0          NaN          NaN   \n\n   ALTER_KIND3  ALTER_KIND4  ALTERSKATEGORIE_FEIN  ANZ_HAUSHALTE_AKTIV  ...  \\\n0          NaN          NaN                   8.0                 15.0  ...   \n1          NaN          NaN                  13.0                  1.0  ...   \n2          NaN          NaN                   7.0                  0.0  ...   \n3          NaN          NaN                   6.0                  4.0  ...   \n4          NaN          NaN                   9.0                 53.0  ...   \n\n   VK_DHT4A  VK_DISTANZ  VK_ZG11  W_KEIT_KIND_HH  WOHNDAUER_2008  WOHNLAGE  \\\n0       5.0         2.0      1.0             6.0             9.0       3.0   \n1       1.0         2.0      1.0             4.0             9.0       7.0   \n2       6.0         4.0      2.0             NaN             9.0       2.0   \n3       8.0        11.0     11.0             6.0             9.0       1.0   \n4       2.0         2.0      1.0             6.0             9.0       3.0   \n\n   ZABEOTYP RESPONSE ANREDE_KZ ALTERSKATEGORIE_GROB  \n0         3        0         2                    4  \n1         1        0         2                    3  \n2         3        0         1                    4  \n3         3        0         2                    4  \n4         3        0         1                    3  \n\n[5 rows x 367 columns]",
      "text/html": "<div>\n<style scoped>\n    .dataframe tbody tr th:only-of-type {\n        vertical-align: middle;\n    }\n\n    .dataframe tbody tr th {\n        vertical-align: top;\n    }\n\n    .dataframe thead th {\n        text-align: right;\n    }\n</style>\n<table border=\"1\" class=\"dataframe\">\n  <thead>\n    <tr style=\"text-align: right;\">\n      <th></th>\n      <th>LNR</th>\n      <th>AGER_TYP</th>\n      <th>AKT_DAT_KL</th>\n      <th>ALTER_HH</th>\n      <th>ALTER_KIND1</th>\n      <th>ALTER_KIND2</th>\n      <th>ALTER_KIND3</th>\n      <th>ALTER_KIND4</th>\n      <th>ALTERSKATEGORIE_FEIN</th>\n      <th>ANZ_HAUSHALTE_AKTIV</th>\n      <th>...</th>\n      <th>VK_DHT4A</th>\n      <th>VK_DISTANZ</th>\n      <th>VK_ZG11</th>\n      <th>W_KEIT_KIND_HH</th>\n      <th>WOHNDAUER_2008</th>\n      <th>WOHNLAGE</th>\n      <th>ZABEOTYP</th>\n      <th>RESPONSE</th>\n      <th>ANREDE_KZ</th>\n      <th>ALTERSKATEGORIE_GROB</th>\n    </tr>\n  </thead>\n  <tbody>\n    <tr>\n      <th>0</th>\n      <td>1763</td>\n      <td>2</td>\n      <td>1.0</td>\n      <td>8.0</td>\n      <td>NaN</td>\n      <td>NaN</td>\n      <td>NaN</td>\n      <td>NaN</td>\n      <td>8.0</td>\n      <td>15.0</td>\n      <td>...</td>\n      <td>5.0</td>\n      <td>2.0</td>\n      <td>1.0</td>\n      <td>6.0</td>\n      <td>9.0</td>\n      <td>3.0</td>\n      <td>3</td>\n      <td>0</td>\n      <td>2</td>\n      <td>4</td>\n    </tr>\n    <tr>\n      <th>1</th>\n      <td>1771</td>\n      <td>1</td>\n      <td>4.0</td>\n      <td>13.0</td>\n      <td>NaN</td>\n      <td>NaN</td>\n      <td>NaN</td>\n      <td>NaN</td>\n      <td>13.0</td>\n      <td>1.0</td>\n      <td>...</td>\n      <td>1.0</td>\n      <td>2.0</td>\n      <td>1.0</td>\n      <td>4.0</td>\n      <td>9.0</td>\n      <td>7.0</td>\n      <td>1</td>\n      <td>0</td>\n      <td>2</td>\n      <td>3</td>\n    </tr>\n    <tr>\n      <th>2</th>\n      <td>1776</td>\n      <td>1</td>\n      <td>1.0</td>\n      <td>9.0</td>\n      <td>NaN</td>\n      <td>NaN</td>\n      <td>NaN</td>\n      <td>NaN</td>\n      <td>7.0</td>\n      <td>0.0</td>\n      <td>...</td>\n      <td>6.0</td>\n      <td>4.0</td>\n      <td>2.0</td>\n      <td>NaN</td>\n      <td>9.0</td>\n      <td>2.0</td>\n      <td>3</td>\n      <td>0</td>\n      <td>1</td>\n      <td>4</td>\n    </tr>\n    <tr>\n      <th>3</th>\n      <td>1460</td>\n      <td>2</td>\n      <td>1.0</td>\n      <td>6.0</td>\n      <td>NaN</td>\n      <td>NaN</td>\n      <td>NaN</td>\n      <td>NaN</td>\n      <td>6.0</td>\n      <td>4.0</td>\n      <td>...</td>\n      <td>8.0</td>\n      <td>11.0</td>\n      <td>11.0</td>\n      <td>6.0</td>\n      <td>9.0</td>\n      <td>1.0</td>\n      <td>3</td>\n      <td>0</td>\n      <td>2</td>\n      <td>4</td>\n    </tr>\n    <tr>\n      <th>4</th>\n      <td>1783</td>\n      <td>2</td>\n      <td>1.0</td>\n      <td>9.0</td>\n      <td>NaN</td>\n      <td>NaN</td>\n      <td>NaN</td>\n      <td>NaN</td>\n      <td>9.0</td>\n      <td>53.0</td>\n      <td>...</td>\n      <td>2.0</td>\n      <td>2.0</td>\n      <td>1.0</td>\n      <td>6.0</td>\n      <td>9.0</td>\n      <td>3.0</td>\n      <td>3</td>\n      <td>0</td>\n      <td>1</td>\n      <td>3</td>\n    </tr>\n  </tbody>\n</table>\n<p>5 rows × 367 columns</p>\n</div>"
     },
     "execution_count": 49,
     "metadata": {},
     "output_type": "execute_result"
    }
   ],
   "source": [
    "mailout_train.head()"
   ],
   "metadata": {
    "collapsed": false,
    "pycharm": {
     "name": "#%%\n"
    }
   }
  },
  {
   "cell_type": "markdown",
   "source": [
    "### Clean Data"
   ],
   "metadata": {
    "collapsed": false,
    "pycharm": {
     "name": "#%% md\n"
    }
   }
  },
  {
   "cell_type": "code",
   "execution_count": 50,
   "outputs": [
    {
     "name": "stdout",
     "output_type": "stream",
     "text": [
      "(42962, 367)\n"
     ]
    }
   ],
   "source": [
    "print(mailout_train.shape)\n",
    "mailout_train = clear_data(mailout_train)\n",
    "mailout_train.drop(['EINGEFUEGT_AM'], axis=1, inplace=True)"
   ],
   "metadata": {
    "collapsed": false,
    "pycharm": {
     "name": "#%%\n"
    }
   }
  },
  {
   "cell_type": "code",
   "execution_count": 51,
   "outputs": [
    {
     "name": "stdout",
     "output_type": "stream",
     "text": [
      "(34214, 366)\n"
     ]
    },
    {
     "data": {
      "text/plain": "    LNR  AGER_TYP  AKT_DAT_KL  ALTER_HH  ALTER_KIND1  ALTER_KIND2  \\\n0  1763         2         1.0       8.0         -1.0         -1.0   \n1  1771         1         4.0      13.0         -1.0         -1.0   \n2  1776         1         1.0       9.0         -1.0         -1.0   \n3  1460         2         1.0       6.0         -1.0         -1.0   \n4  1783         2         1.0       9.0         -1.0         -1.0   \n\n   ALTER_KIND3  ALTER_KIND4  ALTERSKATEGORIE_FEIN  ANZ_HAUSHALTE_AKTIV  ...  \\\n0         -1.0         -1.0                   8.0                 15.0  ...   \n1         -1.0         -1.0                  13.0                  1.0  ...   \n2         -1.0         -1.0                   7.0                  0.0  ...   \n3         -1.0         -1.0                   6.0                  4.0  ...   \n4         -1.0         -1.0                   9.0                 53.0  ...   \n\n   VK_DHT4A  VK_DISTANZ  VK_ZG11  W_KEIT_KIND_HH  WOHNDAUER_2008  WOHNLAGE  \\\n0       5.0         2.0      1.0             6.0             9.0       3.0   \n1       1.0         2.0      1.0             4.0             9.0       7.0   \n2       6.0         4.0      2.0            -1.0             9.0       2.0   \n3       8.0        11.0     11.0             6.0             9.0       1.0   \n4       2.0         2.0      1.0             6.0             9.0       3.0   \n\n   ZABEOTYP  ANREDE_KZ  ALTERSKATEGORIE_GROB  RESPONSE  \n0         3          2                     4         0  \n1         1          2                     3         0  \n2         3          1                     4         0  \n3         3          2                     4         0  \n4         3          1                     3         0  \n\n[5 rows x 366 columns]",
      "text/html": "<div>\n<style scoped>\n    .dataframe tbody tr th:only-of-type {\n        vertical-align: middle;\n    }\n\n    .dataframe tbody tr th {\n        vertical-align: top;\n    }\n\n    .dataframe thead th {\n        text-align: right;\n    }\n</style>\n<table border=\"1\" class=\"dataframe\">\n  <thead>\n    <tr style=\"text-align: right;\">\n      <th></th>\n      <th>LNR</th>\n      <th>AGER_TYP</th>\n      <th>AKT_DAT_KL</th>\n      <th>ALTER_HH</th>\n      <th>ALTER_KIND1</th>\n      <th>ALTER_KIND2</th>\n      <th>ALTER_KIND3</th>\n      <th>ALTER_KIND4</th>\n      <th>ALTERSKATEGORIE_FEIN</th>\n      <th>ANZ_HAUSHALTE_AKTIV</th>\n      <th>...</th>\n      <th>VK_DHT4A</th>\n      <th>VK_DISTANZ</th>\n      <th>VK_ZG11</th>\n      <th>W_KEIT_KIND_HH</th>\n      <th>WOHNDAUER_2008</th>\n      <th>WOHNLAGE</th>\n      <th>ZABEOTYP</th>\n      <th>ANREDE_KZ</th>\n      <th>ALTERSKATEGORIE_GROB</th>\n      <th>RESPONSE</th>\n    </tr>\n  </thead>\n  <tbody>\n    <tr>\n      <th>0</th>\n      <td>1763</td>\n      <td>2</td>\n      <td>1.0</td>\n      <td>8.0</td>\n      <td>-1.0</td>\n      <td>-1.0</td>\n      <td>-1.0</td>\n      <td>-1.0</td>\n      <td>8.0</td>\n      <td>15.0</td>\n      <td>...</td>\n      <td>5.0</td>\n      <td>2.0</td>\n      <td>1.0</td>\n      <td>6.0</td>\n      <td>9.0</td>\n      <td>3.0</td>\n      <td>3</td>\n      <td>2</td>\n      <td>4</td>\n      <td>0</td>\n    </tr>\n    <tr>\n      <th>1</th>\n      <td>1771</td>\n      <td>1</td>\n      <td>4.0</td>\n      <td>13.0</td>\n      <td>-1.0</td>\n      <td>-1.0</td>\n      <td>-1.0</td>\n      <td>-1.0</td>\n      <td>13.0</td>\n      <td>1.0</td>\n      <td>...</td>\n      <td>1.0</td>\n      <td>2.0</td>\n      <td>1.0</td>\n      <td>4.0</td>\n      <td>9.0</td>\n      <td>7.0</td>\n      <td>1</td>\n      <td>2</td>\n      <td>3</td>\n      <td>0</td>\n    </tr>\n    <tr>\n      <th>2</th>\n      <td>1776</td>\n      <td>1</td>\n      <td>1.0</td>\n      <td>9.0</td>\n      <td>-1.0</td>\n      <td>-1.0</td>\n      <td>-1.0</td>\n      <td>-1.0</td>\n      <td>7.0</td>\n      <td>0.0</td>\n      <td>...</td>\n      <td>6.0</td>\n      <td>4.0</td>\n      <td>2.0</td>\n      <td>-1.0</td>\n      <td>9.0</td>\n      <td>2.0</td>\n      <td>3</td>\n      <td>1</td>\n      <td>4</td>\n      <td>0</td>\n    </tr>\n    <tr>\n      <th>3</th>\n      <td>1460</td>\n      <td>2</td>\n      <td>1.0</td>\n      <td>6.0</td>\n      <td>-1.0</td>\n      <td>-1.0</td>\n      <td>-1.0</td>\n      <td>-1.0</td>\n      <td>6.0</td>\n      <td>4.0</td>\n      <td>...</td>\n      <td>8.0</td>\n      <td>11.0</td>\n      <td>11.0</td>\n      <td>6.0</td>\n      <td>9.0</td>\n      <td>1.0</td>\n      <td>3</td>\n      <td>2</td>\n      <td>4</td>\n      <td>0</td>\n    </tr>\n    <tr>\n      <th>4</th>\n      <td>1783</td>\n      <td>2</td>\n      <td>1.0</td>\n      <td>9.0</td>\n      <td>-1.0</td>\n      <td>-1.0</td>\n      <td>-1.0</td>\n      <td>-1.0</td>\n      <td>9.0</td>\n      <td>53.0</td>\n      <td>...</td>\n      <td>2.0</td>\n      <td>2.0</td>\n      <td>1.0</td>\n      <td>6.0</td>\n      <td>9.0</td>\n      <td>3.0</td>\n      <td>3</td>\n      <td>1</td>\n      <td>3</td>\n      <td>0</td>\n    </tr>\n  </tbody>\n</table>\n<p>5 rows × 366 columns</p>\n</div>"
     },
     "execution_count": 51,
     "metadata": {},
     "output_type": "execute_result"
    }
   ],
   "source": [
    "print(mailout_train.shape)\n",
    "mailout_train.head()"
   ],
   "metadata": {
    "collapsed": false,
    "pycharm": {
     "name": "#%%\n"
    }
   }
  },
  {
   "cell_type": "code",
   "execution_count": 52,
   "outputs": [],
   "source": [
    "# get only who answered yes\n",
    "mailout_yes_train = mailout_train[mailout_train.RESPONSE == 1]\n",
    "# get only who answered no\n",
    "mailout_no_train = mailout_train[mailout_train.RESPONSE == 0]"
   ],
   "metadata": {
    "collapsed": false,
    "pycharm": {
     "name": "#%%\n"
    }
   }
  },
  {
   "cell_type": "markdown",
   "source": [
    "### Separate Features & Target"
   ],
   "metadata": {
    "collapsed": false,
    "pycharm": {
     "name": "#%% md\n"
    }
   }
  },
  {
   "cell_type": "code",
   "execution_count": 53,
   "outputs": [],
   "source": [
    "target_mailout = mailout_train.RESPONSE"
   ],
   "metadata": {
    "collapsed": false,
    "pycharm": {
     "name": "#%%\n"
    }
   }
  },
  {
   "cell_type": "code",
   "execution_count": 54,
   "metadata": {
    "pycharm": {
     "name": "#%%\n"
    }
   },
   "outputs": [],
   "source": [
    "feature_mailout = mailout_train.drop(['RESPONSE'], axis=1)"
   ]
  },
  {
   "cell_type": "code",
   "execution_count": 55,
   "outputs": [],
   "source": [
    "del mailout_train"
   ],
   "metadata": {
    "collapsed": false,
    "pycharm": {
     "name": "#%%\n"
    }
   }
  },
  {
   "cell_type": "markdown",
   "source": [
    "### Clustering on Data-Set"
   ],
   "metadata": {
    "collapsed": false,
    "pycharm": {
     "name": "#%% md\n"
    }
   }
  },
  {
   "cell_type": "code",
   "execution_count": 56,
   "outputs": [],
   "source": [
    "yes_clusters = pipeline_pca.predict(mailout_yes_train.drop('RESPONSE', axis=1))\n",
    "no_clusters = pipeline_pca.predict(mailout_no_train.drop('RESPONSE', axis=1))"
   ],
   "metadata": {
    "collapsed": false,
    "pycharm": {
     "name": "#%%\n"
    }
   }
  },
  {
   "cell_type": "code",
   "execution_count": 57,
   "outputs": [
    {
     "data": {
      "text/plain": "Text(0.5, 1.0, 'negative response')"
     },
     "execution_count": 57,
     "metadata": {},
     "output_type": "execute_result"
    },
    {
     "data": {
      "text/plain": "<Figure size 1300x400 with 2 Axes>",
      "image/png": "[encoded data removed]"
     },
     "metadata": {},
     "output_type": "display_data"
    }
   ],
   "source": [
    "fig, ax = plt.subplots(1, 2, sharex=True, figsize=(13,4))\n",
    "ax[0].hist(yes_clusters,bins=12)\n",
    "ax[0].set_title('positive response')\n",
    "ax[1].hist(no_clusters,bins=12)\n",
    "ax[1].set_title('negative response')\n"
   ],
   "metadata": {
    "collapsed": false,
    "pycharm": {
     "name": "#%%\n"
    }
   }
  },
  {
   "cell_type": "markdown",
   "source": [
    "After applying the clustering algorithm on the mailout data, we can see that a pre-analysis on the data has already been performed and the data has already been pre-selected. The data shows the same distribution as our customers, hence the selected data is very similar to our customers data-set.\n",
    "We can also see that the dataset is imbalanced and wen may need to adjust our classifier accordingly."
   ],
   "metadata": {
    "collapsed": false,
    "pycharm": {
     "name": "#%% md\n"
    }
   }
  },
  {
   "cell_type": "markdown",
   "source": [
    "### Train Classifier\n",
    "First we are going to setup a classification pipeline. After that, we are going to enrich the mailout data with the clusters from the previously trained clustering pipeline. Finaly we are going to train a classifier using SVM and optimizing it by using a gridsearch optimizer.\n",
    "As we have seen, the dataset is imbalance, hence the best metrics to choose is the F1 score, therefore the TP values are \"weighted\" double."
   ],
   "metadata": {
    "collapsed": false,
    "pycharm": {
     "name": "#%% md\n"
    }
   }
  },
  {
   "cell_type": "code",
   "execution_count": 58,
   "outputs": [],
   "source": [
    "from sklearn.svm import SVC\n",
    "\n",
    "classifier_pipeline = Pipeline([\n",
    "    ('scaler', StandardScaler()),\n",
    "    ('classifier', SVC(verbose=3))\n",
    "])\n",
    "\n",
    "gridsearch_params = gridsearch_params = {\n",
    "    'classifier__C':[1, 2, 3],\n",
    "    'classifier__kernel': ['linear']#, 'poly', 'rbf', 'sigmoid'],\n",
    "    #'classifier__degree': [2, 3]\n",
    "}\n",
    "\n",
    "classifier_grid_searcher = GridSearchCV(classifier_pipeline, param_grid=gridsearch_params,\n",
    "                             verbose=3, cv=3, scoring='f1', error_score=\"raise\")"
   ],
   "metadata": {
    "collapsed": false,
    "pycharm": {
     "name": "#%%\n"
    }
   }
  },
  {
   "cell_type": "code",
   "execution_count": 59,
   "outputs": [],
   "source": [
    "# enrich data\n",
    "index_clusters = pipeline_pca.predict(feature_mailout)\n",
    "feature_mailout['CLUSTER'] = index_clusters"
   ],
   "metadata": {
    "collapsed": false,
    "pycharm": {
     "name": "#%%\n"
    }
   }
  },
  {
   "cell_type": "code",
   "execution_count": 60,
   "outputs": [
    {
     "data": {
      "text/plain": "    LNR  AGER_TYP  AKT_DAT_KL  ALTER_HH  ALTER_KIND1  ALTER_KIND2  \\\n0  1763         2         1.0       8.0         -1.0         -1.0   \n1  1771         1         4.0      13.0         -1.0         -1.0   \n2  1776         1         1.0       9.0         -1.0         -1.0   \n3  1460         2         1.0       6.0         -1.0         -1.0   \n4  1783         2         1.0       9.0         -1.0         -1.0   \n\n   ALTER_KIND3  ALTER_KIND4  ALTERSKATEGORIE_FEIN  ANZ_HAUSHALTE_AKTIV  ...  \\\n0         -1.0         -1.0                   8.0                 15.0  ...   \n1         -1.0         -1.0                  13.0                  1.0  ...   \n2         -1.0         -1.0                   7.0                  0.0  ...   \n3         -1.0         -1.0                   6.0                  4.0  ...   \n4         -1.0         -1.0                   9.0                 53.0  ...   \n\n   VK_DHT4A  VK_DISTANZ  VK_ZG11  W_KEIT_KIND_HH  WOHNDAUER_2008  WOHNLAGE  \\\n0       5.0         2.0      1.0             6.0             9.0       3.0   \n1       1.0         2.0      1.0             4.0             9.0       7.0   \n2       6.0         4.0      2.0            -1.0             9.0       2.0   \n3       8.0        11.0     11.0             6.0             9.0       1.0   \n4       2.0         2.0      1.0             6.0             9.0       3.0   \n\n   ZABEOTYP  ANREDE_KZ  ALTERSKATEGORIE_GROB  CLUSTER  \n0         3          2                     4        5  \n1         1          2                     3        9  \n2         3          1                     4       10  \n3         3          2                     4        7  \n4         3          1                     3        7  \n\n[5 rows x 366 columns]",
      "text/html": "<div>\n<style scoped>\n    .dataframe tbody tr th:only-of-type {\n        vertical-align: middle;\n    }\n\n    .dataframe tbody tr th {\n        vertical-align: top;\n    }\n\n    .dataframe thead th {\n        text-align: right;\n    }\n</style>\n<table border=\"1\" class=\"dataframe\">\n  <thead>\n    <tr style=\"text-align: right;\">\n      <th></th>\n      <th>LNR</th>\n      <th>AGER_TYP</th>\n      <th>AKT_DAT_KL</th>\n      <th>ALTER_HH</th>\n      <th>ALTER_KIND1</th>\n      <th>ALTER_KIND2</th>\n      <th>ALTER_KIND3</th>\n      <th>ALTER_KIND4</th>\n      <th>ALTERSKATEGORIE_FEIN</th>\n      <th>ANZ_HAUSHALTE_AKTIV</th>\n      <th>...</th>\n      <th>VK_DHT4A</th>\n      <th>VK_DISTANZ</th>\n      <th>VK_ZG11</th>\n      <th>W_KEIT_KIND_HH</th>\n      <th>WOHNDAUER_2008</th>\n      <th>WOHNLAGE</th>\n      <th>ZABEOTYP</th>\n      <th>ANREDE_KZ</th>\n      <th>ALTERSKATEGORIE_GROB</th>\n      <th>CLUSTER</th>\n    </tr>\n  </thead>\n  <tbody>\n    <tr>\n      <th>0</th>\n      <td>1763</td>\n      <td>2</td>\n      <td>1.0</td>\n      <td>8.0</td>\n      <td>-1.0</td>\n      <td>-1.0</td>\n      <td>-1.0</td>\n      <td>-1.0</td>\n      <td>8.0</td>\n      <td>15.0</td>\n      <td>...</td>\n      <td>5.0</td>\n      <td>2.0</td>\n      <td>1.0</td>\n      <td>6.0</td>\n      <td>9.0</td>\n      <td>3.0</td>\n      <td>3</td>\n      <td>2</td>\n      <td>4</td>\n      <td>5</td>\n    </tr>\n    <tr>\n      <th>1</th>\n      <td>1771</td>\n      <td>1</td>\n      <td>4.0</td>\n      <td>13.0</td>\n      <td>-1.0</td>\n      <td>-1.0</td>\n      <td>-1.0</td>\n      <td>-1.0</td>\n      <td>13.0</td>\n      <td>1.0</td>\n      <td>...</td>\n      <td>1.0</td>\n      <td>2.0</td>\n      <td>1.0</td>\n      <td>4.0</td>\n      <td>9.0</td>\n      <td>7.0</td>\n      <td>1</td>\n      <td>2</td>\n      <td>3</td>\n      <td>9</td>\n    </tr>\n    <tr>\n      <th>2</th>\n      <td>1776</td>\n      <td>1</td>\n      <td>1.0</td>\n      <td>9.0</td>\n      <td>-1.0</td>\n      <td>-1.0</td>\n      <td>-1.0</td>\n      <td>-1.0</td>\n      <td>7.0</td>\n      <td>0.0</td>\n      <td>...</td>\n      <td>6.0</td>\n      <td>4.0</td>\n      <td>2.0</td>\n      <td>-1.0</td>\n      <td>9.0</td>\n      <td>2.0</td>\n      <td>3</td>\n      <td>1</td>\n      <td>4</td>\n      <td>10</td>\n    </tr>\n    <tr>\n      <th>3</th>\n      <td>1460</td>\n      <td>2</td>\n      <td>1.0</td>\n      <td>6.0</td>\n      <td>-1.0</td>\n      <td>-1.0</td>\n      <td>-1.0</td>\n      <td>-1.0</td>\n      <td>6.0</td>\n      <td>4.0</td>\n      <td>...</td>\n      <td>8.0</td>\n      <td>11.0</td>\n      <td>11.0</td>\n      <td>6.0</td>\n      <td>9.0</td>\n      <td>1.0</td>\n      <td>3</td>\n      <td>2</td>\n      <td>4</td>\n      <td>7</td>\n    </tr>\n    <tr>\n      <th>4</th>\n      <td>1783</td>\n      <td>2</td>\n      <td>1.0</td>\n      <td>9.0</td>\n      <td>-1.0</td>\n      <td>-1.0</td>\n      <td>-1.0</td>\n      <td>-1.0</td>\n      <td>9.0</td>\n      <td>53.0</td>\n      <td>...</td>\n      <td>2.0</td>\n      <td>2.0</td>\n      <td>1.0</td>\n      <td>6.0</td>\n      <td>9.0</td>\n      <td>3.0</td>\n      <td>3</td>\n      <td>1</td>\n      <td>3</td>\n      <td>7</td>\n    </tr>\n  </tbody>\n</table>\n<p>5 rows × 366 columns</p>\n</div>"
     },
     "execution_count": 60,
     "metadata": {},
     "output_type": "execute_result"
    }
   ],
   "source": [
    "feature_mailout.head()"
   ],
   "metadata": {
    "collapsed": false,
    "pycharm": {
     "name": "#%%\n"
    }
   }
  },
  {
   "cell_type": "code",
   "execution_count": 61,
   "outputs": [
    {
     "name": "stdout",
     "output_type": "stream",
     "text": [
      "Fitting 3 folds for each of 3 candidates, totalling 9 fits\n",
      "[LibSVM][CV 1/3] END classifier__C=1, classifier__kernel=linear;, score=0.020 total time=   1.4s\n",
      "[LibSVM][CV 2/3] END classifier__C=1, classifier__kernel=linear;, score=0.000 total time=   1.5s\n",
      "[LibSVM][CV 3/3] END classifier__C=1, classifier__kernel=linear;, score=0.037 total time=   1.4s\n",
      "[LibSVM][CV 1/3] END classifier__C=2, classifier__kernel=linear;, score=0.018 total time=   1.5s\n",
      "[LibSVM][CV 2/3] END classifier__C=2, classifier__kernel=linear;, score=0.019 total time=   1.7s\n",
      "[LibSVM][CV 3/3] END classifier__C=2, classifier__kernel=linear;, score=0.032 total time=   1.3s\n",
      "[LibSVM][CV 1/3] END classifier__C=3, classifier__kernel=linear;, score=0.018 total time=   1.5s\n",
      "[LibSVM][CV 2/3] END classifier__C=3, classifier__kernel=linear;, score=0.019 total time=   1.7s\n",
      "[LibSVM][CV 3/3] END classifier__C=3, classifier__kernel=linear;, score=0.032 total time=   1.5s\n",
      "[LibSVM]26.373013900000046\n"
     ]
    }
   ],
   "source": [
    "t0 = perf_counter()\n",
    "\n",
    "pipeline_svm = classifier_grid_searcher.fit(feature_mailout.iloc[::4], target_mailout.iloc[::4])\n",
    "\n",
    "print(perf_counter() - t0)"
   ],
   "metadata": {
    "collapsed": false,
    "pycharm": {
     "name": "#%%\n"
    }
   }
  },
  {
   "cell_type": "code",
   "execution_count": 62,
   "outputs": [
    {
     "name": "stdout",
     "output_type": "stream",
     "text": [
      "0.0230605084974017\n"
     ]
    },
    {
     "data": {
      "text/plain": "array([[33431,   359],\n       [  383,    41]], dtype=int64)"
     },
     "execution_count": 62,
     "metadata": {},
     "output_type": "execute_result"
    }
   ],
   "source": [
    "pred = pipeline_svm.predict(feature_mailout)\n",
    "print(pipeline_svm.best_score_)\n",
    "confusion_matrix(target_mailout, pred)"
   ],
   "metadata": {
    "collapsed": false,
    "pycharm": {
     "name": "#%%\n"
    }
   }
  },
  {
   "cell_type": "markdown",
   "source": [
    "#### Handeling imbalanced data\n",
    "\n",
    "We can see that the score for the classifier is very bad. This is probably due to the highly imbalanced data. There are different Methods to improve imbalanced data. The most basic one is to up- or downsample the data. We are going to try out both and see which one performs best."
   ],
   "metadata": {
    "collapsed": false,
    "pycharm": {
     "name": "#%% md\n"
    }
   }
  },
  {
   "cell_type": "markdown",
   "source": [
    "##### Downsampling\n",
    "With the downampling method, the number of the bigger class of data is reduced, to bring balance to the classes. Here we are reducing the number of people who did not react to the mails, to match the number of people who reacted positively."
   ],
   "metadata": {
    "collapsed": false,
    "pycharm": {
     "name": "#%% md\n"
    }
   }
  },
  {
   "cell_type": "code",
   "execution_count": 64,
   "metadata": {
    "pycharm": {
     "name": "#%%\n"
    }
   },
   "outputs": [
    {
     "data": {
      "text/plain": "(848, 365)"
     },
     "execution_count": 64,
     "metadata": {},
     "output_type": "execute_result"
    }
   ],
   "source": [
    "feature_downsample = mailout_no_train.iloc[:len(mailout_yes_train)]\n",
    "target_downsample = pd.concat([feature_downsample.loc[:, 'RESPONSE'], mailout_yes_train.loc[:, 'RESPONSE']])\n",
    "\n",
    "feature_downsample = pd.concat([feature_downsample.drop('RESPONSE', axis=1), mailout_yes_train.drop('RESPONSE', axis=1)], axis=0)\n",
    "feature_downsample.shape"
   ]
  },
  {
   "cell_type": "code",
   "execution_count": 65,
   "outputs": [
    {
     "name": "stdout",
     "output_type": "stream",
     "text": [
      "Fitting 3 folds for each of 3 candidates, totalling 9 fits\n",
      "[LibSVM][CV 1/3] END classifier__C=1, classifier__kernel=linear;, score=0.536 total time=   0.0s\n",
      "[LibSVM][CV 2/3] END classifier__C=1, classifier__kernel=linear;, score=0.577 total time=   0.0s\n",
      "[LibSVM][CV 3/3] END classifier__C=1, classifier__kernel=linear;, score=0.592 total time=   0.0s\n",
      "[LibSVM][CV 1/3] END classifier__C=2, classifier__kernel=linear;, score=0.536 total time=   0.0s\n",
      "[LibSVM][CV 2/3] END classifier__C=2, classifier__kernel=linear;, score=0.577 total time=   0.0s\n",
      "[LibSVM][CV 3/3] END classifier__C=2, classifier__kernel=linear;, score=0.592 total time=   0.1s\n",
      "[LibSVM][CV 1/3] END classifier__C=3, classifier__kernel=linear;, score=0.536 total time=   0.0s\n",
      "[LibSVM][CV 2/3] END classifier__C=3, classifier__kernel=linear;, score=0.577 total time=   0.0s\n",
      "[LibSVM][CV 3/3] END classifier__C=3, classifier__kernel=linear;, score=0.592 total time=   0.0s\n",
      "[LibSVM]2.269444099999987\n"
     ]
    }
   ],
   "source": [
    "# enrich data\n",
    "index_clusters = pipeline_pca.predict(feature_downsample)\n",
    "feature_downsample['CLUSTER'] = index_clusters\n",
    "\n",
    "t0 = perf_counter()\n",
    "\n",
    "pipeline_svm = classifier_grid_searcher.fit(feature_downsample, target_downsample)\n",
    "\n",
    "print(perf_counter() - t0)"
   ],
   "metadata": {
    "collapsed": false,
    "pycharm": {
     "name": "#%%\n"
    }
   }
  },
  {
   "cell_type": "code",
   "execution_count": 66,
   "outputs": [
    {
     "name": "stdout",
     "output_type": "stream",
     "text": [
      "0.5683596114491681\n"
     ]
    },
    {
     "data": {
      "text/plain": "array([[19538, 14252],\n       [   25,   399]], dtype=int64)"
     },
     "execution_count": 66,
     "metadata": {},
     "output_type": "execute_result"
    }
   ],
   "source": [
    "pred = pipeline_svm.predict(feature_mailout)\n",
    "print(pipeline_svm.best_score_)\n",
    "confusion_matrix(target_mailout, pred)"
   ],
   "metadata": {
    "collapsed": false,
    "pycharm": {
     "name": "#%%\n"
    }
   }
  },
  {
   "cell_type": "markdown",
   "source": [
    "We can see that the F1-Score improved majorly, but we also see that the number of false positives improved majorly. Therefore this method brings an improvement, but is still not sufficient for our desires.\n",
    "It should still be noted, that the cost for an additional email is not that high, such that more false positives is not necessarily a problem, but more false negatives woulds mean we did not reach out to customers who would \"buy\" our product. Hence we should definetly keep in mind, that a false negative is much worse than a false positive."
   ],
   "metadata": {
    "collapsed": false,
    "pycharm": {
     "name": "#%% md\n"
    }
   }
  },
  {
   "cell_type": "markdown",
   "source": [
    "##### Upsampling\n",
    "With upsampling we balance the data in an according way, compared to the downsampling but the other way around. We resample the few positive reactions, to match the number of negative reactions. That way, we get the data in balance and increase our data volume."
   ],
   "metadata": {
    "collapsed": false,
    "pycharm": {
     "name": "#%% md\n"
    }
   }
  },
  {
   "cell_type": "code",
   "execution_count": 67,
   "outputs": [],
   "source": [
    "from sklearn.utils import resample\n",
    "\n",
    "feature_upsampled = resample(mailout_yes_train,\n",
    "                            replace=True,    # sample with replacement\n",
    "                            n_samples= mailout_no_train.shape[0], # to match majority class\n",
    "                            random_state=1)  # reproducible results\n",
    "\n",
    "feature_upsampled = pd.concat([feature_upsampled, mailout_no_train], axis=0)\n",
    "\n",
    "target_upsampled = feature_upsampled.RESPONSE\n",
    "\n",
    "feature_upsampled.drop('RESPONSE', axis=1, inplace=True)"
   ],
   "metadata": {
    "collapsed": false,
    "pycharm": {
     "name": "#%%\n"
    }
   }
  },
  {
   "cell_type": "code",
   "execution_count": 68,
   "outputs": [
    {
     "data": {
      "text/plain": "(67580, 365)"
     },
     "execution_count": 68,
     "metadata": {},
     "output_type": "execute_result"
    }
   ],
   "source": [
    "feature_upsampled.shape"
   ],
   "metadata": {
    "collapsed": false,
    "pycharm": {
     "name": "#%%\n"
    }
   }
  },
  {
   "cell_type": "code",
   "execution_count": 69,
   "outputs": [
    {
     "name": "stdout",
     "output_type": "stream",
     "text": [
      "Fitting 3 folds for each of 3 candidates, totalling 9 fits\n",
      "[LibSVM][CV 1/3] END classifier__C=1, classifier__kernel=linear;, score=0.777 total time=   3.5s\n",
      "[LibSVM][CV 2/3] END classifier__C=1, classifier__kernel=linear;, score=0.797 total time=   9.8s\n",
      "[LibSVM][CV 3/3] END classifier__C=1, classifier__kernel=linear;, score=0.798 total time=   5.5s\n",
      "[LibSVM][CV 1/3] END classifier__C=2, classifier__kernel=linear;, score=0.781 total time=   5.0s\n",
      "[LibSVM][CV 2/3] END classifier__C=2, classifier__kernel=linear;, score=0.791 total time=  15.5s\n",
      "[LibSVM][CV 3/3] END classifier__C=2, classifier__kernel=linear;, score=0.796 total time=  11.8s\n",
      "[LibSVM][CV 1/3] END classifier__C=3, classifier__kernel=linear;, score=0.786 total time=   9.2s\n",
      "[LibSVM][CV 2/3] END classifier__C=3, classifier__kernel=linear;, score=0.801 total time=  28.6s\n",
      "[LibSVM][CV 3/3] END classifier__C=3, classifier__kernel=linear;, score=0.797 total time=  14.2s\n",
      "[LibSVM]155.75210189999996\n"
     ]
    }
   ],
   "source": [
    "# enrich data\n",
    "index_clusters = pipeline_pca.predict(feature_upsampled)\n",
    "feature_upsampled['CLUSTER'] = index_clusters\n",
    "\n",
    "t0 = perf_counter()\n",
    "\n",
    "pipeline_svm = classifier_grid_searcher.fit(feature_upsampled.iloc[::30], target_upsampled.iloc[::30])\n",
    "\n",
    "print(perf_counter() - t0)"
   ],
   "metadata": {
    "collapsed": false,
    "pycharm": {
     "name": "#%%\n"
    }
   }
  },
  {
   "cell_type": "code",
   "execution_count": 70,
   "outputs": [
    {
     "name": "stdout",
     "output_type": "stream",
     "text": [
      "0.7942836893001605\n"
     ]
    },
    {
     "data": {
      "text/plain": "array([[23890,  9900],\n       [   71,   353]], dtype=int64)"
     },
     "execution_count": 70,
     "metadata": {},
     "output_type": "execute_result"
    }
   ],
   "source": [
    "pred = pipeline_svm.predict(feature_mailout)\n",
    "print(pipeline_svm.best_score_)\n",
    "confusion_matrix(target_mailout, pred)"
   ],
   "metadata": {
    "collapsed": false,
    "pycharm": {
     "name": "#%%\n"
    }
   }
  },
  {
   "cell_type": "markdown",
   "source": [
    "We can see here that the performance improved majorly again, and we see that the miss rate is further reduced as well. Therefore, we should go with the upscaling method."
   ],
   "metadata": {
    "collapsed": false,
    "pycharm": {
     "name": "#%% md\n"
    }
   }
  },
  {
   "cell_type": "markdown",
   "source": [
    "### Classify Test Dataset\n",
    "Now its time to classify the test datset provided to see the performance on a test set."
   ],
   "metadata": {
    "collapsed": false,
    "pycharm": {
     "name": "#%% md\n"
    }
   }
  },
  {
   "cell_type": "markdown",
   "source": [
    "#### Preprocess data"
   ],
   "metadata": {
    "collapsed": false,
    "pycharm": {
     "name": "#%% md\n"
    }
   }
  },
  {
   "cell_type": "code",
   "execution_count": 71,
   "outputs": [
    {
     "data": {
      "text/plain": "    LNR  AGER_TYP  AKT_DAT_KL  ALTER_HH  ALTER_KIND1  ALTER_KIND2  \\\n0  1754         2         1.0       7.0          NaN          NaN   \n1  1770        -1         1.0       0.0          NaN          NaN   \n2  1465         2         9.0      16.0          NaN          NaN   \n3  1470        -1         7.0       0.0          NaN          NaN   \n4  1478         1         1.0      21.0          NaN          NaN   \n\n   ALTER_KIND3  ALTER_KIND4  ALTERSKATEGORIE_FEIN  ANZ_HAUSHALTE_AKTIV  ...  \\\n0          NaN          NaN                   6.0                  2.0  ...   \n1          NaN          NaN                   0.0                 20.0  ...   \n2          NaN          NaN                  11.0                  2.0  ...   \n3          NaN          NaN                   0.0                  1.0  ...   \n4          NaN          NaN                  13.0                  1.0  ...   \n\n   VHN  VK_DHT4A  VK_DISTANZ  VK_ZG11  W_KEIT_KIND_HH  WOHNDAUER_2008  \\\n0  4.0       5.0         6.0      3.0             6.0             9.0   \n1  1.0       5.0         2.0      1.0             6.0             9.0   \n2  3.0       9.0         6.0      3.0             2.0             9.0   \n3  2.0       6.0         6.0      3.0             NaN             9.0   \n4  1.0       2.0         4.0      3.0             3.0             9.0   \n\n   WOHNLAGE ZABEOTYP ANREDE_KZ ALTERSKATEGORIE_GROB  \n0       3.0        3         1                    4  \n1       5.0        3         1                    4  \n2       4.0        3         2                    4  \n3       2.0        3         2                    4  \n4       7.0        4         2                    4  \n\n[5 rows x 366 columns]",
      "text/html": "<div>\n<style scoped>\n    .dataframe tbody tr th:only-of-type {\n        vertical-align: middle;\n    }\n\n    .dataframe tbody tr th {\n        vertical-align: top;\n    }\n\n    .dataframe thead th {\n        text-align: right;\n    }\n</style>\n<table border=\"1\" class=\"dataframe\">\n  <thead>\n    <tr style=\"text-align: right;\">\n      <th></th>\n      <th>LNR</th>\n      <th>AGER_TYP</th>\n      <th>AKT_DAT_KL</th>\n      <th>ALTER_HH</th>\n      <th>ALTER_KIND1</th>\n      <th>ALTER_KIND2</th>\n      <th>ALTER_KIND3</th>\n      <th>ALTER_KIND4</th>\n      <th>ALTERSKATEGORIE_FEIN</th>\n      <th>ANZ_HAUSHALTE_AKTIV</th>\n      <th>...</th>\n      <th>VHN</th>\n      <th>VK_DHT4A</th>\n      <th>VK_DISTANZ</th>\n      <th>VK_ZG11</th>\n      <th>W_KEIT_KIND_HH</th>\n      <th>WOHNDAUER_2008</th>\n      <th>WOHNLAGE</th>\n      <th>ZABEOTYP</th>\n      <th>ANREDE_KZ</th>\n      <th>ALTERSKATEGORIE_GROB</th>\n    </tr>\n  </thead>\n  <tbody>\n    <tr>\n      <th>0</th>\n      <td>1754</td>\n      <td>2</td>\n      <td>1.0</td>\n      <td>7.0</td>\n      <td>NaN</td>\n      <td>NaN</td>\n      <td>NaN</td>\n      <td>NaN</td>\n      <td>6.0</td>\n      <td>2.0</td>\n      <td>...</td>\n      <td>4.0</td>\n      <td>5.0</td>\n      <td>6.0</td>\n      <td>3.0</td>\n      <td>6.0</td>\n      <td>9.0</td>\n      <td>3.0</td>\n      <td>3</td>\n      <td>1</td>\n      <td>4</td>\n    </tr>\n    <tr>\n      <th>1</th>\n      <td>1770</td>\n      <td>-1</td>\n      <td>1.0</td>\n      <td>0.0</td>\n      <td>NaN</td>\n      <td>NaN</td>\n      <td>NaN</td>\n      <td>NaN</td>\n      <td>0.0</td>\n      <td>20.0</td>\n      <td>...</td>\n      <td>1.0</td>\n      <td>5.0</td>\n      <td>2.0</td>\n      <td>1.0</td>\n      <td>6.0</td>\n      <td>9.0</td>\n      <td>5.0</td>\n      <td>3</td>\n      <td>1</td>\n      <td>4</td>\n    </tr>\n    <tr>\n      <th>2</th>\n      <td>1465</td>\n      <td>2</td>\n      <td>9.0</td>\n      <td>16.0</td>\n      <td>NaN</td>\n      <td>NaN</td>\n      <td>NaN</td>\n      <td>NaN</td>\n      <td>11.0</td>\n      <td>2.0</td>\n      <td>...</td>\n      <td>3.0</td>\n      <td>9.0</td>\n      <td>6.0</td>\n      <td>3.0</td>\n      <td>2.0</td>\n      <td>9.0</td>\n      <td>4.0</td>\n      <td>3</td>\n      <td>2</td>\n      <td>4</td>\n    </tr>\n    <tr>\n      <th>3</th>\n      <td>1470</td>\n      <td>-1</td>\n      <td>7.0</td>\n      <td>0.0</td>\n      <td>NaN</td>\n      <td>NaN</td>\n      <td>NaN</td>\n      <td>NaN</td>\n      <td>0.0</td>\n      <td>1.0</td>\n      <td>...</td>\n      <td>2.0</td>\n      <td>6.0</td>\n      <td>6.0</td>\n      <td>3.0</td>\n      <td>NaN</td>\n      <td>9.0</td>\n      <td>2.0</td>\n      <td>3</td>\n      <td>2</td>\n      <td>4</td>\n    </tr>\n    <tr>\n      <th>4</th>\n      <td>1478</td>\n      <td>1</td>\n      <td>1.0</td>\n      <td>21.0</td>\n      <td>NaN</td>\n      <td>NaN</td>\n      <td>NaN</td>\n      <td>NaN</td>\n      <td>13.0</td>\n      <td>1.0</td>\n      <td>...</td>\n      <td>1.0</td>\n      <td>2.0</td>\n      <td>4.0</td>\n      <td>3.0</td>\n      <td>3.0</td>\n      <td>9.0</td>\n      <td>7.0</td>\n      <td>4</td>\n      <td>2</td>\n      <td>4</td>\n    </tr>\n  </tbody>\n</table>\n<p>5 rows × 366 columns</p>\n</div>"
     },
     "execution_count": 71,
     "metadata": {},
     "output_type": "execute_result"
    }
   ],
   "source": [
    "mailout_test = pd.read_csv('data/Udacity_MAILOUT_052018_TEST.csv', sep=';')\n",
    "mailout_test.head()"
   ],
   "metadata": {
    "collapsed": false,
    "pycharm": {
     "name": "#%%\n"
    }
   }
  },
  {
   "cell_type": "code",
   "execution_count": 72,
   "outputs": [],
   "source": [
    "common_columns = common_columns.drop('RESPONSE')"
   ],
   "metadata": {
    "collapsed": false,
    "pycharm": {
     "name": "#%%\n"
    }
   }
  },
  {
   "cell_type": "code",
   "execution_count": 73,
   "outputs": [
    {
     "name": "stdout",
     "output_type": "stream",
     "text": [
      "(42833, 366)\n",
      "(34177, 365)\n"
     ]
    },
    {
     "data": {
      "text/plain": "    LNR  AGER_TYP  AKT_DAT_KL  ALTER_HH  ALTER_KIND1  ALTER_KIND2  \\\n0  1754         2         1.0       7.0         -1.0         -1.0   \n1  1770        -1         1.0       0.0         -1.0         -1.0   \n2  1465         2         9.0      16.0         -1.0         -1.0   \n3  1470        -1         7.0       0.0         -1.0         -1.0   \n4  1478         1         1.0      21.0         -1.0         -1.0   \n\n   ALTER_KIND3  ALTER_KIND4  ALTERSKATEGORIE_FEIN  ANZ_HAUSHALTE_AKTIV  ...  \\\n0         -1.0         -1.0                   6.0                  2.0  ...   \n1         -1.0         -1.0                   0.0                 20.0  ...   \n2         -1.0         -1.0                  11.0                  2.0  ...   \n3         -1.0         -1.0                   0.0                  1.0  ...   \n4         -1.0         -1.0                  13.0                  1.0  ...   \n\n   VHN  VK_DHT4A  VK_DISTANZ  VK_ZG11  W_KEIT_KIND_HH  WOHNDAUER_2008  \\\n0  4.0       5.0         6.0      3.0             6.0             9.0   \n1  1.0       5.0         2.0      1.0             6.0             9.0   \n2  3.0       9.0         6.0      3.0             2.0             9.0   \n3  2.0       6.0         6.0      3.0            -1.0             9.0   \n4  1.0       2.0         4.0      3.0             3.0             9.0   \n\n   WOHNLAGE  ZABEOTYP  ANREDE_KZ  ALTERSKATEGORIE_GROB  \n0       3.0         3          1                     4  \n1       5.0         3          1                     4  \n2       4.0         3          2                     4  \n3       2.0         3          2                     4  \n4       7.0         4          2                     4  \n\n[5 rows x 365 columns]",
      "text/html": "<div>\n<style scoped>\n    .dataframe tbody tr th:only-of-type {\n        vertical-align: middle;\n    }\n\n    .dataframe tbody tr th {\n        vertical-align: top;\n    }\n\n    .dataframe thead th {\n        text-align: right;\n    }\n</style>\n<table border=\"1\" class=\"dataframe\">\n  <thead>\n    <tr style=\"text-align: right;\">\n      <th></th>\n      <th>LNR</th>\n      <th>AGER_TYP</th>\n      <th>AKT_DAT_KL</th>\n      <th>ALTER_HH</th>\n      <th>ALTER_KIND1</th>\n      <th>ALTER_KIND2</th>\n      <th>ALTER_KIND3</th>\n      <th>ALTER_KIND4</th>\n      <th>ALTERSKATEGORIE_FEIN</th>\n      <th>ANZ_HAUSHALTE_AKTIV</th>\n      <th>...</th>\n      <th>VHN</th>\n      <th>VK_DHT4A</th>\n      <th>VK_DISTANZ</th>\n      <th>VK_ZG11</th>\n      <th>W_KEIT_KIND_HH</th>\n      <th>WOHNDAUER_2008</th>\n      <th>WOHNLAGE</th>\n      <th>ZABEOTYP</th>\n      <th>ANREDE_KZ</th>\n      <th>ALTERSKATEGORIE_GROB</th>\n    </tr>\n  </thead>\n  <tbody>\n    <tr>\n      <th>0</th>\n      <td>1754</td>\n      <td>2</td>\n      <td>1.0</td>\n      <td>7.0</td>\n      <td>-1.0</td>\n      <td>-1.0</td>\n      <td>-1.0</td>\n      <td>-1.0</td>\n      <td>6.0</td>\n      <td>2.0</td>\n      <td>...</td>\n      <td>4.0</td>\n      <td>5.0</td>\n      <td>6.0</td>\n      <td>3.0</td>\n      <td>6.0</td>\n      <td>9.0</td>\n      <td>3.0</td>\n      <td>3</td>\n      <td>1</td>\n      <td>4</td>\n    </tr>\n    <tr>\n      <th>1</th>\n      <td>1770</td>\n      <td>-1</td>\n      <td>1.0</td>\n      <td>0.0</td>\n      <td>-1.0</td>\n      <td>-1.0</td>\n      <td>-1.0</td>\n      <td>-1.0</td>\n      <td>0.0</td>\n      <td>20.0</td>\n      <td>...</td>\n      <td>1.0</td>\n      <td>5.0</td>\n      <td>2.0</td>\n      <td>1.0</td>\n      <td>6.0</td>\n      <td>9.0</td>\n      <td>5.0</td>\n      <td>3</td>\n      <td>1</td>\n      <td>4</td>\n    </tr>\n    <tr>\n      <th>2</th>\n      <td>1465</td>\n      <td>2</td>\n      <td>9.0</td>\n      <td>16.0</td>\n      <td>-1.0</td>\n      <td>-1.0</td>\n      <td>-1.0</td>\n      <td>-1.0</td>\n      <td>11.0</td>\n      <td>2.0</td>\n      <td>...</td>\n      <td>3.0</td>\n      <td>9.0</td>\n      <td>6.0</td>\n      <td>3.0</td>\n      <td>2.0</td>\n      <td>9.0</td>\n      <td>4.0</td>\n      <td>3</td>\n      <td>2</td>\n      <td>4</td>\n    </tr>\n    <tr>\n      <th>3</th>\n      <td>1470</td>\n      <td>-1</td>\n      <td>7.0</td>\n      <td>0.0</td>\n      <td>-1.0</td>\n      <td>-1.0</td>\n      <td>-1.0</td>\n      <td>-1.0</td>\n      <td>0.0</td>\n      <td>1.0</td>\n      <td>...</td>\n      <td>2.0</td>\n      <td>6.0</td>\n      <td>6.0</td>\n      <td>3.0</td>\n      <td>-1.0</td>\n      <td>9.0</td>\n      <td>2.0</td>\n      <td>3</td>\n      <td>2</td>\n      <td>4</td>\n    </tr>\n    <tr>\n      <th>4</th>\n      <td>1478</td>\n      <td>1</td>\n      <td>1.0</td>\n      <td>21.0</td>\n      <td>-1.0</td>\n      <td>-1.0</td>\n      <td>-1.0</td>\n      <td>-1.0</td>\n      <td>13.0</td>\n      <td>1.0</td>\n      <td>...</td>\n      <td>1.0</td>\n      <td>2.0</td>\n      <td>4.0</td>\n      <td>3.0</td>\n      <td>3.0</td>\n      <td>9.0</td>\n      <td>7.0</td>\n      <td>4</td>\n      <td>2</td>\n      <td>4</td>\n    </tr>\n  </tbody>\n</table>\n<p>5 rows × 365 columns</p>\n</div>"
     },
     "execution_count": 73,
     "metadata": {},
     "output_type": "execute_result"
    }
   ],
   "source": [
    "print(mailout_test.shape)\n",
    "mailout_test = clear_data(mailout_test)\n",
    "mailout_test.drop(['EINGEFUEGT_AM'], axis=1, inplace=True)\n",
    "\n",
    "print(mailout_test.shape)\n",
    "mailout_test.head()"
   ],
   "metadata": {
    "collapsed": false,
    "pycharm": {
     "name": "#%%\n"
    }
   }
  },
  {
   "cell_type": "markdown",
   "source": [
    "#### Run Classifier on test data"
   ],
   "metadata": {
    "collapsed": false,
    "pycharm": {
     "name": "#%% md\n"
    }
   }
  },
  {
   "cell_type": "code",
   "execution_count": 74,
   "outputs": [],
   "source": [
    "# enrich data\n",
    "index_clusters = pipeline_pca.predict(mailout_test)\n",
    "mailout_test['CLUSTER'] = index_clusters"
   ],
   "metadata": {
    "collapsed": false,
    "pycharm": {
     "name": "#%%\n"
    }
   }
  },
  {
   "cell_type": "code",
   "execution_count": 75,
   "outputs": [],
   "source": [
    "response_test = pipeline_svm.predict(mailout_test)"
   ],
   "metadata": {
    "collapsed": false,
    "pycharm": {
     "name": "#%%\n"
    }
   }
  },
  {
   "cell_type": "code",
   "execution_count": 76,
   "outputs": [],
   "source": [
    "pd.to_pickle(response_test, 'data/RESULT_mailout_test.pkl')"
   ],
   "metadata": {
    "collapsed": false,
    "pycharm": {
     "name": "#%%\n"
    }
   }
  },
  {
   "cell_type": "markdown",
   "source": [
    "## Part 3: Conclusion\n",
    "I have shown how to cluster and separate the customer group from the whole population using PCA for dimensionality reduction and KMeans for the clustering. PCA was also compared to ICA, but since the ICA clusters were not as clearly seperable as the clusters created with the PCA, PCA was chosen.\n",
    "\n",
    "After that, a clustering pipeline was trained to enhance the dataset provided to train a classifier. This data was cleaned, clustered and categorised.\n",
    "To classify the data correctly, a gridsearch was performed using SVM as a classifier.\n",
    "It was shown that the linear kernel was not only very fast for training but also performs best for the optimization. The metrics optimized was the F1 Score, since the data was highly imbalanced.\n",
    "\n",
    "To handle the imbalance in the data, the data was upscaled, which improved the performance significantly.\n",
    "\n",
    "### Further improvements\n",
    "To further improve the classifier, there are a few things that can be changed.\n",
    "\n",
    "First of all, different clustering and classifying algorithms can be compared to each other. Here we only took a look at one because the main problem here was that the data was highly imbalanced, but it is worth trying out other algorithms like DBScan for the clustering or XGBoost, Random Forest or even a Neural Network for classification as well.\n",
    "\n",
    "In addition, more advanced techniques to handle imbalanced data can be applied, such as SMOTE or a Balance Bagging Classifier ([Further details here](https://www.analyticsvidhya.com/blog/2021/06/5-techniques-to-handle-imbalanced-data-for-a-classification-problem/))."
   ],
   "metadata": {
    "collapsed": false,
    "pycharm": {
     "name": "#%% md\n"
    }
   }
  },
  {
   "cell_type": "code",
   "execution_count": 76,
   "outputs": [],
   "source": [],
   "metadata": {
    "collapsed": false,
    "pycharm": {
     "name": "#%%\n"
    }
   }
  }
 ],
 "metadata": {
  "kernelspec": {
   "display_name": "Python 3",
   "language": "python",
   "name": "python3"
  },
  "language_info": {
   "codemirror_mode": {
    "name": "ipython",
    "version": 3
   },
   "file_extension": ".py",
   "mimetype": "text/x-python",
   "name": "python",
   "nbconvert_exporter": "python",
   "pygments_lexer": "ipython3",
   "version": "3.6.3"
  }
 },
 "nbformat": 4,
 "nbformat_minor": 2
}